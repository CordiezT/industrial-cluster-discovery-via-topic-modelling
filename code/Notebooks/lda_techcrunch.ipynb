{
 "cells": [
  {
   "cell_type": "code",
   "execution_count": 45,
   "metadata": {},
   "outputs": [],
   "source": [
    "import pandas as pd\n",
    "\n",
    "data = pd.read_csv(\n",
    "    \"/Users/cordiez/Documents/CompaniesHouse/OutputFiles/tc_scrapped_final.csv\",\n",
    "    index_col=0,\n",
    ")\n",
    "tech5g = data[~data[\"content\"].isna()].reset_index(drop=True)"
   ]
  },
  {
   "cell_type": "code",
   "execution_count": 46,
   "metadata": {
    "scrolled": false
   },
   "outputs": [
    {
     "data": {
      "application/vnd.jupyter.widget-view+json": {
       "model_id": "18f4b994865e47aea614094cf068618c",
       "version_major": 2,
       "version_minor": 0
      },
      "text/plain": [
       "HBox(children=(HTML(value=''), FloatProgress(value=1.0, bar_style='info', layout=Layout(width='20px'), max=1.0…"
      ]
     },
     "metadata": {},
     "output_type": "display_data"
    }
   ],
   "source": [
    "from tqdm import tqdm_notebook\n",
    "\n",
    "tqdm_notebook().pandas()"
   ]
  },
  {
   "cell_type": "code",
   "execution_count": 47,
   "metadata": {},
   "outputs": [
    {
     "name": "stdout",
     "output_type": "stream",
     "text": [
      "\n"
     ]
    }
   ],
   "source": [
    "import re\n",
    "\n",
    "# Gensim\n",
    "import gensim\n",
    "import gensim.corpora as corpora\n",
    "import pandas as pd\n",
    "# spacy for lemmatization\n",
    "import spacy\n",
    "from gensim.models import CoherenceModel\n",
    "from gensim.utils import simple_preprocess\n",
    "\n",
    "nlp = spacy.load(\"en_core_web_sm\")\n",
    "\n",
    "# Plotting tools\n",
    "\n",
    "%matplotlib inline\n",
    "\n",
    "# Enable logging for gensim - optional\n",
    "import logging\n",
    "\n",
    "logging.basicConfig(\n",
    "    format=\"%(asctime)s : %(levelname)s : %(message)s\", level=logging.ERROR\n",
    ")\n",
    "\n",
    "import warnings\n",
    "\n",
    "warnings.filterwarnings(\"ignore\", category=DeprecationWarning)\n",
    "\n",
    "stop_words = stopwords.words(\"english\")\n",
    "# stop_words.extend(['milton','keynes','world','work','uk','support','service','search','contact','shop','usage','business', 'manage','provide','website','help','product','solution','company','design','get','team','experience','customer','need','client','develop','quick','sale','day','ltd','project','work','office','market','can','will','offer','find','new','year','look','call','see','one','service','news',\"news\",\"events\",\"press\",\"contact\",\"search\"])"
   ]
  },
  {
   "cell_type": "code",
   "execution_count": 49,
   "metadata": {},
   "outputs": [
    {
     "data": {
      "text/html": [
       "<div>\n",
       "<style scoped>\n",
       "    .dataframe tbody tr th:only-of-type {\n",
       "        vertical-align: middle;\n",
       "    }\n",
       "\n",
       "    .dataframe tbody tr th {\n",
       "        vertical-align: top;\n",
       "    }\n",
       "\n",
       "    .dataframe thead th {\n",
       "        text-align: right;\n",
       "    }\n",
       "</style>\n",
       "<table border=\"1\" class=\"dataframe\">\n",
       "  <thead>\n",
       "    <tr style=\"text-align: right;\">\n",
       "      <th></th>\n",
       "      <th>title</th>\n",
       "      <th>url</th>\n",
       "      <th>author</th>\n",
       "      <th>content</th>\n",
       "      <th>summary</th>\n",
       "      <th>url_exact</th>\n",
       "    </tr>\n",
       "  </thead>\n",
       "  <tbody>\n",
       "    <tr>\n",
       "      <th>0</th>\n",
       "      <td>Intel announces two new 11th-gen chips and a 5...</td>\n",
       "      <td>https://search.techcrunch.com/click/_ylt=A2KLf...</td>\n",
       "      <td>Catherine Shu</td>\n",
       "      <td>Intel kicked off this year’s virtual Computex ...</td>\n",
       "      <td>Intel kicked off this year’s virtual Computex ...</td>\n",
       "      <td>https://techcrunch.com/2021/05/30/intel-announ...</td>\n",
       "    </tr>\n",
       "    <tr>\n",
       "      <th>1</th>\n",
       "      <td>China expresses concern over its absence in In...</td>\n",
       "      <td>https://search.techcrunch.com/click/_ylt=A2KLf...</td>\n",
       "      <td>Manish Singh</td>\n",
       "      <td>China expressed concern on Wednesday over Indi...</td>\n",
       "      <td>China expressed concern on Wednesday over Indi...</td>\n",
       "      <td>https://techcrunch.com/2021/05/05/china-expres...</td>\n",
       "    </tr>\n",
       "    <tr>\n",
       "      <th>2</th>\n",
       "      <td>India grants approval for 5G trials, avoids Ch...</td>\n",
       "      <td>https://search.techcrunch.com/click/_ylt=A2KLf...</td>\n",
       "      <td>Manish Singh</td>\n",
       "      <td>The Indian telecom ministry on Tuesday said it...</td>\n",
       "      <td>The Indian telecom ministry on Tuesday said it...</td>\n",
       "      <td>https://techcrunch.com/2021/05/04/india-grants...</td>\n",
       "    </tr>\n",
       "    <tr>\n",
       "      <th>3</th>\n",
       "      <td>Verizon and Honda want to use 5G and edge comp...</td>\n",
       "      <td>https://search.techcrunch.com/click/_ylt=A2KLf...</td>\n",
       "      <td>Rebecca Bellan</td>\n",
       "      <td>Honda and Verizon are researching how 5G and m...</td>\n",
       "      <td>Honda and Verizon are researching how 5G and m...</td>\n",
       "      <td>https://techcrunch.com/2021/04/08/verizon-and-...</td>\n",
       "    </tr>\n",
       "    <tr>\n",
       "      <th>4</th>\n",
       "      <td>Google denies Pixel 5a 5G cancelation, confirm...</td>\n",
       "      <td>https://search.techcrunch.com/click/_ylt=A2KLf...</td>\n",
       "      <td>Brian Heater</td>\n",
       "      <td>Sometimes you’ve just got to confirm an unanno...</td>\n",
       "      <td>Sometimes you’ve just got to confirm an unanno...</td>\n",
       "      <td>https://techcrunch.com/2021/04/09/google-denie...</td>\n",
       "    </tr>\n",
       "  </tbody>\n",
       "</table>\n",
       "</div>"
      ],
      "text/plain": [
       "                                               title  \\\n",
       "0  Intel announces two new 11th-gen chips and a 5...   \n",
       "1  China expresses concern over its absence in In...   \n",
       "2  India grants approval for 5G trials, avoids Ch...   \n",
       "3  Verizon and Honda want to use 5G and edge comp...   \n",
       "4  Google denies Pixel 5a 5G cancelation, confirm...   \n",
       "\n",
       "                                                 url          author  \\\n",
       "0  https://search.techcrunch.com/click/_ylt=A2KLf...   Catherine Shu   \n",
       "1  https://search.techcrunch.com/click/_ylt=A2KLf...    Manish Singh   \n",
       "2  https://search.techcrunch.com/click/_ylt=A2KLf...    Manish Singh   \n",
       "3  https://search.techcrunch.com/click/_ylt=A2KLf...  Rebecca Bellan   \n",
       "4  https://search.techcrunch.com/click/_ylt=A2KLf...    Brian Heater   \n",
       "\n",
       "                                             content  \\\n",
       "0  Intel kicked off this year’s virtual Computex ...   \n",
       "1  China expressed concern on Wednesday over Indi...   \n",
       "2  The Indian telecom ministry on Tuesday said it...   \n",
       "3  Honda and Verizon are researching how 5G and m...   \n",
       "4  Sometimes you’ve just got to confirm an unanno...   \n",
       "\n",
       "                                             summary  \\\n",
       "0  Intel kicked off this year’s virtual Computex ...   \n",
       "1  China expressed concern on Wednesday over Indi...   \n",
       "2  The Indian telecom ministry on Tuesday said it...   \n",
       "3  Honda and Verizon are researching how 5G and m...   \n",
       "4  Sometimes you’ve just got to confirm an unanno...   \n",
       "\n",
       "                                           url_exact  \n",
       "0  https://techcrunch.com/2021/05/30/intel-announ...  \n",
       "1  https://techcrunch.com/2021/05/05/china-expres...  \n",
       "2  https://techcrunch.com/2021/05/04/india-grants...  \n",
       "3  https://techcrunch.com/2021/04/08/verizon-and-...  \n",
       "4  https://techcrunch.com/2021/04/09/google-denie...  "
      ]
     },
     "execution_count": 49,
     "metadata": {},
     "output_type": "execute_result"
    }
   ],
   "source": [
    "tech5g.head()"
   ]
  },
  {
   "cell_type": "code",
   "execution_count": 50,
   "metadata": {},
   "outputs": [],
   "source": [
    "data = tech5g.content.tolist()\n",
    "\n",
    "data = [re.sub(r\"([a-z\\.!?])([A-Z])\", r\"\\1 \\2\", sent) for sent in data]\n",
    "\n",
    "# Remove Emails\n",
    "data = [re.sub(\"\\S*@\\S*\\s?\", \"\", sent) for sent in data]\n",
    "# Remove new line characters\n",
    "data = [re.sub(\"\\s+\", \" \", sent) for sent in data]\n",
    "# Remove distracting single quotes\n",
    "data = [re.sub(\"'\", \"\", sent) for sent in data]\n",
    "data = [sent.replace(\"/\", \" \") for sent in data]\n",
    "\n",
    "\n",
    "def sent_to_words(sentences):\n",
    "    for sentence in sentences:\n",
    "        yield (\n",
    "            gensim.utils.simple_preprocess(str(sentence), deacc=True)\n",
    "        )  # deacc=True removes punctuations\n",
    "\n",
    "\n",
    "data_words = list(sent_to_words(data))"
   ]
  },
  {
   "cell_type": "code",
   "execution_count": 51,
   "metadata": {},
   "outputs": [],
   "source": [
    "# Build the bigram and trigram models\n",
    "bigram = gensim.models.Phrases(\n",
    "    data_words, min_count=5, threshold=100\n",
    ")  # higher threshold fewer phrases.\n",
    "trigram = gensim.models.Phrases(bigram[data_words], threshold=100)\n",
    "\n",
    "# Faster way to get a sentence clubbed as a trigram/bigram\n",
    "bigram_mod = gensim.models.phrases.Phraser(bigram)\n",
    "trigram_mod = gensim.models.phrases.Phraser(trigram)\n",
    "\n",
    "# See trigram example"
   ]
  },
  {
   "cell_type": "code",
   "execution_count": 53,
   "metadata": {},
   "outputs": [],
   "source": [
    "def remove_stopwords(texts):\n",
    "    return [\n",
    "        [word for word in simple_preprocess(str(doc)) if word not in stop_words]\n",
    "        for doc in texts\n",
    "    ]\n",
    "\n",
    "\n",
    "def make_bigrams(texts):\n",
    "    return [bigram_mod[doc] for doc in texts]\n",
    "\n",
    "\n",
    "def make_trigrams(texts):\n",
    "    return [trigram_mod[bigram_mod[doc]] for doc in texts]\n",
    "\n",
    "\n",
    "def lemmatization(texts, allowed_postags=[\"NOUN\", \"ADJ\", \"VERB\", \"ADV\"]):\n",
    "    \"\"\"https://spacy.io/api/annotation\"\"\"\n",
    "    texts_out = []\n",
    "    for sent in texts:\n",
    "        doc = nlp(\" \".join(sent))\n",
    "        texts_out.append(\n",
    "            [token.lemma_ for token in doc if token.pos_ in allowed_postags]\n",
    "        )\n",
    "    return texts_out\n",
    "\n",
    "\n",
    "# Remove Stop Words\n",
    "data_words_nostops = remove_stopwords(data_words)\n",
    "\n",
    "# Form Bigrams\n",
    "data_words_bigrams = make_bigrams(data_words_nostops)\n",
    "\n",
    "# Initialize spacy 'en' model, keeping only tagger component (for efficiency)\n",
    "# python3 -m spacy download en\n",
    "nlp = spacy.load(\"en_core_web_sm\")\n",
    "\n",
    "# Do lemmatization keeping only noun, adj, vb, adv\n",
    "data_lemmatized = lemmatization(\n",
    "    data_words_bigrams, allowed_postags=[\"NOUN\", \"ADJ\", \"ADV\"]\n",
    ")\n",
    "\n",
    "# print(data_lemmatized[:1])"
   ]
  },
  {
   "cell_type": "code",
   "execution_count": 54,
   "metadata": {},
   "outputs": [],
   "source": [
    "# Create Dictionary\n",
    "id2word = corpora.Dictionary(data_lemmatized)\n",
    "\n",
    "# Term Document Frequency\n",
    "corpus = [id2word.doc2bow(text) for text in data_lemmatized]"
   ]
  },
  {
   "cell_type": "code",
   "execution_count": 41,
   "metadata": {},
   "outputs": [],
   "source": [
    "lda_model = gensim.models.ldamodel.LdaModel(\n",
    "    corpus=corpus,\n",
    "    id2word=id2word,\n",
    "    num_topics=5,\n",
    "    passes=20,\n",
    "    alpha=\"auto\",\n",
    "    per_word_topics=True,\n",
    ")"
   ]
  },
  {
   "cell_type": "code",
   "execution_count": 44,
   "metadata": {},
   "outputs": [
    {
     "name": "stdout",
     "output_type": "stream",
     "text": [
      "(0, '0.018*\"network\" + 0.013*\"government\" + 0.010*\"technology\" + 0.010*\"huawei\" + 0.009*\"also\" + 0.009*\"chinese\" + 0.006*\"company\"')\n",
      "(1, '0.009*\"startup\" + 0.008*\"technology\" + 0.008*\"also\" + 0.007*\"company\" + 0.007*\"datum\" + 0.007*\"tech\" + 0.006*\"investment\"')\n",
      "(2, '0.010*\"smartphone\" + 0.009*\"also\" + 0.009*\"mobile\" + 0.009*\"device\" + 0.007*\"network\" + 0.006*\"time\" + 0.006*\"last\"')\n",
      "(3, '0.010*\"app\" + 0.010*\"mobile\" + 0.008*\"apple\" + 0.008*\"game\" + 0.007*\"phone\" + 0.006*\"also\" + 0.006*\"user\"')\n",
      "(4, '0.016*\"phone\" + 0.014*\"device\" + 0.010*\"also\" + 0.009*\"camera\" + 0.008*\"apple\" + 0.007*\"well\" + 0.007*\"time\"')\n"
     ]
    }
   ],
   "source": [
    "result = lda_model.print_topics(num_topics=5, num_words=7)\n",
    "for elt in result:\n",
    "    print(elt)"
   ]
  },
  {
   "cell_type": "code",
   "execution_count": 90,
   "metadata": {},
   "outputs": [
    {
     "name": "stdout",
     "output_type": "stream",
     "text": [
      "1\n",
      "0.30803615018830544\n",
      "2\n",
      "0.2800498744601332\n",
      "3\n",
      "0.34267629817372414\n",
      "4\n",
      "0.3526942989930379\n",
      "5\n",
      "0.3473076256594023\n",
      "6\n",
      "0.33154005460516656\n",
      "7\n",
      "0.34325223330081134\n",
      "8\n",
      "0.3470269070630938\n",
      "9\n",
      "0.3134360164953185\n",
      "10\n",
      "0.3342557386355566\n",
      "11\n",
      "0.34341065759259093\n",
      "12\n",
      "0.35839738619370926\n",
      "13\n",
      "0.3340864219487623\n",
      "14\n",
      "0.3417778529998977\n",
      "15\n",
      "0.33395183518190463\n",
      "16\n",
      "0.3109579775364316\n",
      "17\n",
      "0.3429212816656935\n",
      "18\n",
      "0.36463976604750065\n",
      "19\n",
      "0.3516073290200528\n",
      "20\n",
      "0.3485479024360676\n",
      "21\n",
      "0.30833027426023185\n",
      "22\n",
      "0.3366567541493184\n",
      "23\n",
      "0.3333328484068206\n",
      "24\n",
      "0.32958301277608565\n",
      "25\n",
      "0.3333813008338168\n",
      "26\n",
      "0.33059003383545343\n",
      "27\n",
      "0.36202480717095137\n",
      "28\n",
      "0.3420304905589074\n",
      "29\n",
      "0.3380537363696043\n",
      "30\n",
      "0.3215847834588549\n",
      "31\n",
      "0.3191973210890688\n",
      "32\n",
      "0.3251972336207991\n",
      "33\n",
      "0.3221909869817509\n",
      "34\n",
      "0.31205117260661297\n",
      "35\n",
      "0.3372524141933204\n",
      "36\n",
      "0.33670863657618416\n",
      "37\n",
      "0.318901416926615\n",
      "38\n",
      "0.33601608163749097\n",
      "39\n",
      "0.30866966566261406\n",
      "40\n",
      "0.30921669869895696\n",
      "41\n",
      "0.34512633668317716\n",
      "42\n",
      "0.3402420115409671\n",
      "43\n",
      "0.3450099029497618\n",
      "44\n",
      "0.32787071587868266\n"
     ]
    }
   ],
   "source": [
    "x_ = []\n",
    "y_ = []\n",
    "\n",
    "for k in range(1, 45):\n",
    "    print(k)\n",
    "    lda_model = gensim.models.ldamodel.LdaModel(\n",
    "        corpus=corpus,\n",
    "        id2word=id2word,\n",
    "        num_topics=k,\n",
    "        passes=10,\n",
    "        alpha=\"auto\",\n",
    "        per_word_topics=True,\n",
    "    )\n",
    "\n",
    "    cm = coherence_model_lda = CoherenceModel(\n",
    "        model=lda_model, texts=data_lemmatized, dictionary=id2word, coherence=\"c_v\"\n",
    "    )\n",
    "\n",
    "    coherence = cm.get_coherence()\n",
    "    print(coherence)\n",
    "    x_.append(k)\n",
    "    y_.append(coherence)"
   ]
  },
  {
   "cell_type": "code",
   "execution_count": 91,
   "metadata": {},
   "outputs": [
    {
     "data": {
      "application/vnd.plotly.v1+json": {
       "config": {
        "plotlyServerURL": "https://plot.ly"
       },
       "data": [
        {
         "hovertemplate": "Number of topics=%{x}<br>Topic Coherence Score=%{y}<extra></extra>",
         "legendgroup": "",
         "line": {
          "color": "#636efa",
          "dash": "solid"
         },
         "mode": "lines",
         "name": "",
         "orientation": "v",
         "showlegend": false,
         "type": "scatter",
         "x": [
          1,
          2,
          3,
          4,
          5,
          6,
          7,
          8,
          9,
          10,
          11,
          12,
          13,
          14,
          15,
          16,
          17,
          18,
          19,
          20,
          21,
          22,
          23,
          24,
          25,
          26,
          27,
          28,
          29,
          30,
          31,
          32,
          33,
          34,
          35,
          36,
          37,
          38,
          39,
          40,
          41,
          42,
          43,
          44
         ],
         "xaxis": "x",
         "y": [
          0.30803615018830544,
          0.2800498744601332,
          0.34267629817372414,
          0.3526942989930379,
          0.3473076256594023,
          0.33154005460516656,
          0.34325223330081134,
          0.3470269070630938,
          0.3134360164953185,
          0.3342557386355566,
          0.34341065759259093,
          0.35839738619370926,
          0.3340864219487623,
          0.3417778529998977,
          0.33395183518190463,
          0.3109579775364316,
          0.3429212816656935,
          0.36463976604750065,
          0.3516073290200528,
          0.3485479024360676,
          0.30833027426023185,
          0.3366567541493184,
          0.3333328484068206,
          0.32958301277608565,
          0.3333813008338168,
          0.33059003383545343,
          0.36202480717095137,
          0.3420304905589074,
          0.3380537363696043,
          0.3215847834588549,
          0.3191973210890688,
          0.3251972336207991,
          0.3221909869817509,
          0.31205117260661297,
          0.3372524141933204,
          0.33670863657618416,
          0.318901416926615,
          0.33601608163749097,
          0.30866966566261406,
          0.30921669869895696,
          0.34512633668317716,
          0.3402420115409671,
          0.3450099029497618,
          0.32787071587868266
         ],
         "yaxis": "y"
        }
       ],
       "layout": {
        "legend": {
         "tracegroupgap": 0
        },
        "margin": {
         "t": 60
        },
        "template": {
         "data": {
          "bar": [
           {
            "error_x": {
             "color": "#2a3f5f"
            },
            "error_y": {
             "color": "#2a3f5f"
            },
            "marker": {
             "line": {
              "color": "#E5ECF6",
              "width": 0.5
             }
            },
            "type": "bar"
           }
          ],
          "barpolar": [
           {
            "marker": {
             "line": {
              "color": "#E5ECF6",
              "width": 0.5
             }
            },
            "type": "barpolar"
           }
          ],
          "carpet": [
           {
            "aaxis": {
             "endlinecolor": "#2a3f5f",
             "gridcolor": "white",
             "linecolor": "white",
             "minorgridcolor": "white",
             "startlinecolor": "#2a3f5f"
            },
            "baxis": {
             "endlinecolor": "#2a3f5f",
             "gridcolor": "white",
             "linecolor": "white",
             "minorgridcolor": "white",
             "startlinecolor": "#2a3f5f"
            },
            "type": "carpet"
           }
          ],
          "choropleth": [
           {
            "colorbar": {
             "outlinewidth": 0,
             "ticks": ""
            },
            "type": "choropleth"
           }
          ],
          "contour": [
           {
            "colorbar": {
             "outlinewidth": 0,
             "ticks": ""
            },
            "colorscale": [
             [
              0,
              "#0d0887"
             ],
             [
              0.1111111111111111,
              "#46039f"
             ],
             [
              0.2222222222222222,
              "#7201a8"
             ],
             [
              0.3333333333333333,
              "#9c179e"
             ],
             [
              0.4444444444444444,
              "#bd3786"
             ],
             [
              0.5555555555555556,
              "#d8576b"
             ],
             [
              0.6666666666666666,
              "#ed7953"
             ],
             [
              0.7777777777777778,
              "#fb9f3a"
             ],
             [
              0.8888888888888888,
              "#fdca26"
             ],
             [
              1,
              "#f0f921"
             ]
            ],
            "type": "contour"
           }
          ],
          "contourcarpet": [
           {
            "colorbar": {
             "outlinewidth": 0,
             "ticks": ""
            },
            "type": "contourcarpet"
           }
          ],
          "heatmap": [
           {
            "colorbar": {
             "outlinewidth": 0,
             "ticks": ""
            },
            "colorscale": [
             [
              0,
              "#0d0887"
             ],
             [
              0.1111111111111111,
              "#46039f"
             ],
             [
              0.2222222222222222,
              "#7201a8"
             ],
             [
              0.3333333333333333,
              "#9c179e"
             ],
             [
              0.4444444444444444,
              "#bd3786"
             ],
             [
              0.5555555555555556,
              "#d8576b"
             ],
             [
              0.6666666666666666,
              "#ed7953"
             ],
             [
              0.7777777777777778,
              "#fb9f3a"
             ],
             [
              0.8888888888888888,
              "#fdca26"
             ],
             [
              1,
              "#f0f921"
             ]
            ],
            "type": "heatmap"
           }
          ],
          "heatmapgl": [
           {
            "colorbar": {
             "outlinewidth": 0,
             "ticks": ""
            },
            "colorscale": [
             [
              0,
              "#0d0887"
             ],
             [
              0.1111111111111111,
              "#46039f"
             ],
             [
              0.2222222222222222,
              "#7201a8"
             ],
             [
              0.3333333333333333,
              "#9c179e"
             ],
             [
              0.4444444444444444,
              "#bd3786"
             ],
             [
              0.5555555555555556,
              "#d8576b"
             ],
             [
              0.6666666666666666,
              "#ed7953"
             ],
             [
              0.7777777777777778,
              "#fb9f3a"
             ],
             [
              0.8888888888888888,
              "#fdca26"
             ],
             [
              1,
              "#f0f921"
             ]
            ],
            "type": "heatmapgl"
           }
          ],
          "histogram": [
           {
            "marker": {
             "colorbar": {
              "outlinewidth": 0,
              "ticks": ""
             }
            },
            "type": "histogram"
           }
          ],
          "histogram2d": [
           {
            "colorbar": {
             "outlinewidth": 0,
             "ticks": ""
            },
            "colorscale": [
             [
              0,
              "#0d0887"
             ],
             [
              0.1111111111111111,
              "#46039f"
             ],
             [
              0.2222222222222222,
              "#7201a8"
             ],
             [
              0.3333333333333333,
              "#9c179e"
             ],
             [
              0.4444444444444444,
              "#bd3786"
             ],
             [
              0.5555555555555556,
              "#d8576b"
             ],
             [
              0.6666666666666666,
              "#ed7953"
             ],
             [
              0.7777777777777778,
              "#fb9f3a"
             ],
             [
              0.8888888888888888,
              "#fdca26"
             ],
             [
              1,
              "#f0f921"
             ]
            ],
            "type": "histogram2d"
           }
          ],
          "histogram2dcontour": [
           {
            "colorbar": {
             "outlinewidth": 0,
             "ticks": ""
            },
            "colorscale": [
             [
              0,
              "#0d0887"
             ],
             [
              0.1111111111111111,
              "#46039f"
             ],
             [
              0.2222222222222222,
              "#7201a8"
             ],
             [
              0.3333333333333333,
              "#9c179e"
             ],
             [
              0.4444444444444444,
              "#bd3786"
             ],
             [
              0.5555555555555556,
              "#d8576b"
             ],
             [
              0.6666666666666666,
              "#ed7953"
             ],
             [
              0.7777777777777778,
              "#fb9f3a"
             ],
             [
              0.8888888888888888,
              "#fdca26"
             ],
             [
              1,
              "#f0f921"
             ]
            ],
            "type": "histogram2dcontour"
           }
          ],
          "mesh3d": [
           {
            "colorbar": {
             "outlinewidth": 0,
             "ticks": ""
            },
            "type": "mesh3d"
           }
          ],
          "parcoords": [
           {
            "line": {
             "colorbar": {
              "outlinewidth": 0,
              "ticks": ""
             }
            },
            "type": "parcoords"
           }
          ],
          "pie": [
           {
            "automargin": true,
            "type": "pie"
           }
          ],
          "scatter": [
           {
            "marker": {
             "colorbar": {
              "outlinewidth": 0,
              "ticks": ""
             }
            },
            "type": "scatter"
           }
          ],
          "scatter3d": [
           {
            "line": {
             "colorbar": {
              "outlinewidth": 0,
              "ticks": ""
             }
            },
            "marker": {
             "colorbar": {
              "outlinewidth": 0,
              "ticks": ""
             }
            },
            "type": "scatter3d"
           }
          ],
          "scattercarpet": [
           {
            "marker": {
             "colorbar": {
              "outlinewidth": 0,
              "ticks": ""
             }
            },
            "type": "scattercarpet"
           }
          ],
          "scattergeo": [
           {
            "marker": {
             "colorbar": {
              "outlinewidth": 0,
              "ticks": ""
             }
            },
            "type": "scattergeo"
           }
          ],
          "scattergl": [
           {
            "marker": {
             "colorbar": {
              "outlinewidth": 0,
              "ticks": ""
             }
            },
            "type": "scattergl"
           }
          ],
          "scattermapbox": [
           {
            "marker": {
             "colorbar": {
              "outlinewidth": 0,
              "ticks": ""
             }
            },
            "type": "scattermapbox"
           }
          ],
          "scatterpolar": [
           {
            "marker": {
             "colorbar": {
              "outlinewidth": 0,
              "ticks": ""
             }
            },
            "type": "scatterpolar"
           }
          ],
          "scatterpolargl": [
           {
            "marker": {
             "colorbar": {
              "outlinewidth": 0,
              "ticks": ""
             }
            },
            "type": "scatterpolargl"
           }
          ],
          "scatterternary": [
           {
            "marker": {
             "colorbar": {
              "outlinewidth": 0,
              "ticks": ""
             }
            },
            "type": "scatterternary"
           }
          ],
          "surface": [
           {
            "colorbar": {
             "outlinewidth": 0,
             "ticks": ""
            },
            "colorscale": [
             [
              0,
              "#0d0887"
             ],
             [
              0.1111111111111111,
              "#46039f"
             ],
             [
              0.2222222222222222,
              "#7201a8"
             ],
             [
              0.3333333333333333,
              "#9c179e"
             ],
             [
              0.4444444444444444,
              "#bd3786"
             ],
             [
              0.5555555555555556,
              "#d8576b"
             ],
             [
              0.6666666666666666,
              "#ed7953"
             ],
             [
              0.7777777777777778,
              "#fb9f3a"
             ],
             [
              0.8888888888888888,
              "#fdca26"
             ],
             [
              1,
              "#f0f921"
             ]
            ],
            "type": "surface"
           }
          ],
          "table": [
           {
            "cells": {
             "fill": {
              "color": "#EBF0F8"
             },
             "line": {
              "color": "white"
             }
            },
            "header": {
             "fill": {
              "color": "#C8D4E3"
             },
             "line": {
              "color": "white"
             }
            },
            "type": "table"
           }
          ]
         },
         "layout": {
          "annotationdefaults": {
           "arrowcolor": "#2a3f5f",
           "arrowhead": 0,
           "arrowwidth": 1
          },
          "coloraxis": {
           "colorbar": {
            "outlinewidth": 0,
            "ticks": ""
           }
          },
          "colorscale": {
           "diverging": [
            [
             0,
             "#8e0152"
            ],
            [
             0.1,
             "#c51b7d"
            ],
            [
             0.2,
             "#de77ae"
            ],
            [
             0.3,
             "#f1b6da"
            ],
            [
             0.4,
             "#fde0ef"
            ],
            [
             0.5,
             "#f7f7f7"
            ],
            [
             0.6,
             "#e6f5d0"
            ],
            [
             0.7,
             "#b8e186"
            ],
            [
             0.8,
             "#7fbc41"
            ],
            [
             0.9,
             "#4d9221"
            ],
            [
             1,
             "#276419"
            ]
           ],
           "sequential": [
            [
             0,
             "#0d0887"
            ],
            [
             0.1111111111111111,
             "#46039f"
            ],
            [
             0.2222222222222222,
             "#7201a8"
            ],
            [
             0.3333333333333333,
             "#9c179e"
            ],
            [
             0.4444444444444444,
             "#bd3786"
            ],
            [
             0.5555555555555556,
             "#d8576b"
            ],
            [
             0.6666666666666666,
             "#ed7953"
            ],
            [
             0.7777777777777778,
             "#fb9f3a"
            ],
            [
             0.8888888888888888,
             "#fdca26"
            ],
            [
             1,
             "#f0f921"
            ]
           ],
           "sequentialminus": [
            [
             0,
             "#0d0887"
            ],
            [
             0.1111111111111111,
             "#46039f"
            ],
            [
             0.2222222222222222,
             "#7201a8"
            ],
            [
             0.3333333333333333,
             "#9c179e"
            ],
            [
             0.4444444444444444,
             "#bd3786"
            ],
            [
             0.5555555555555556,
             "#d8576b"
            ],
            [
             0.6666666666666666,
             "#ed7953"
            ],
            [
             0.7777777777777778,
             "#fb9f3a"
            ],
            [
             0.8888888888888888,
             "#fdca26"
            ],
            [
             1,
             "#f0f921"
            ]
           ]
          },
          "colorway": [
           "#636efa",
           "#EF553B",
           "#00cc96",
           "#ab63fa",
           "#FFA15A",
           "#19d3f3",
           "#FF6692",
           "#B6E880",
           "#FF97FF",
           "#FECB52"
          ],
          "font": {
           "color": "#2a3f5f"
          },
          "geo": {
           "bgcolor": "white",
           "lakecolor": "white",
           "landcolor": "#E5ECF6",
           "showlakes": true,
           "showland": true,
           "subunitcolor": "white"
          },
          "hoverlabel": {
           "align": "left"
          },
          "hovermode": "closest",
          "mapbox": {
           "style": "light"
          },
          "paper_bgcolor": "white",
          "plot_bgcolor": "#E5ECF6",
          "polar": {
           "angularaxis": {
            "gridcolor": "white",
            "linecolor": "white",
            "ticks": ""
           },
           "bgcolor": "#E5ECF6",
           "radialaxis": {
            "gridcolor": "white",
            "linecolor": "white",
            "ticks": ""
           }
          },
          "scene": {
           "xaxis": {
            "backgroundcolor": "#E5ECF6",
            "gridcolor": "white",
            "gridwidth": 2,
            "linecolor": "white",
            "showbackground": true,
            "ticks": "",
            "zerolinecolor": "white"
           },
           "yaxis": {
            "backgroundcolor": "#E5ECF6",
            "gridcolor": "white",
            "gridwidth": 2,
            "linecolor": "white",
            "showbackground": true,
            "ticks": "",
            "zerolinecolor": "white"
           },
           "zaxis": {
            "backgroundcolor": "#E5ECF6",
            "gridcolor": "white",
            "gridwidth": 2,
            "linecolor": "white",
            "showbackground": true,
            "ticks": "",
            "zerolinecolor": "white"
           }
          },
          "shapedefaults": {
           "line": {
            "color": "#2a3f5f"
           }
          },
          "ternary": {
           "aaxis": {
            "gridcolor": "white",
            "linecolor": "white",
            "ticks": ""
           },
           "baxis": {
            "gridcolor": "white",
            "linecolor": "white",
            "ticks": ""
           },
           "bgcolor": "#E5ECF6",
           "caxis": {
            "gridcolor": "white",
            "linecolor": "white",
            "ticks": ""
           }
          },
          "title": {
           "x": 0.05
          },
          "xaxis": {
           "automargin": true,
           "gridcolor": "white",
           "linecolor": "white",
           "ticks": "",
           "title": {
            "standoff": 15
           },
           "zerolinecolor": "white",
           "zerolinewidth": 2
          },
          "yaxis": {
           "automargin": true,
           "gridcolor": "white",
           "linecolor": "white",
           "ticks": "",
           "title": {
            "standoff": 15
           },
           "zerolinecolor": "white",
           "zerolinewidth": 2
          }
         }
        },
        "xaxis": {
         "anchor": "y",
         "domain": [
          0,
          1
         ],
         "title": {
          "text": "Number of topics"
         }
        },
        "yaxis": {
         "anchor": "x",
         "domain": [
          0,
          1
         ],
         "title": {
          "text": "Topic Coherence Score"
         }
        }
       }
      },
      "text/html": [
       "<div>                            <div id=\"3a010240-6dfb-44ac-9311-eecda2fce4bd\" class=\"plotly-graph-div\" style=\"height:525px; width:100%;\"></div>            <script type=\"text/javascript\">                require([\"plotly\"], function(Plotly) {                    window.PLOTLYENV=window.PLOTLYENV || {};                                    if (document.getElementById(\"3a010240-6dfb-44ac-9311-eecda2fce4bd\")) {                    Plotly.newPlot(                        \"3a010240-6dfb-44ac-9311-eecda2fce4bd\",                        [{\"hovertemplate\": \"Number of topics=%{x}<br>Topic Coherence Score=%{y}<extra></extra>\", \"legendgroup\": \"\", \"line\": {\"color\": \"#636efa\", \"dash\": \"solid\"}, \"mode\": \"lines\", \"name\": \"\", \"orientation\": \"v\", \"showlegend\": false, \"type\": \"scatter\", \"x\": [1, 2, 3, 4, 5, 6, 7, 8, 9, 10, 11, 12, 13, 14, 15, 16, 17, 18, 19, 20, 21, 22, 23, 24, 25, 26, 27, 28, 29, 30, 31, 32, 33, 34, 35, 36, 37, 38, 39, 40, 41, 42, 43, 44], \"xaxis\": \"x\", \"y\": [0.30803615018830544, 0.2800498744601332, 0.34267629817372414, 0.3526942989930379, 0.3473076256594023, 0.33154005460516656, 0.34325223330081134, 0.3470269070630938, 0.3134360164953185, 0.3342557386355566, 0.34341065759259093, 0.35839738619370926, 0.3340864219487623, 0.3417778529998977, 0.33395183518190463, 0.3109579775364316, 0.3429212816656935, 0.36463976604750065, 0.3516073290200528, 0.3485479024360676, 0.30833027426023185, 0.3366567541493184, 0.3333328484068206, 0.32958301277608565, 0.3333813008338168, 0.33059003383545343, 0.36202480717095137, 0.3420304905589074, 0.3380537363696043, 0.3215847834588549, 0.3191973210890688, 0.3251972336207991, 0.3221909869817509, 0.31205117260661297, 0.3372524141933204, 0.33670863657618416, 0.318901416926615, 0.33601608163749097, 0.30866966566261406, 0.30921669869895696, 0.34512633668317716, 0.3402420115409671, 0.3450099029497618, 0.32787071587868266], \"yaxis\": \"y\"}],                        {\"legend\": {\"tracegroupgap\": 0}, \"margin\": {\"t\": 60}, \"template\": {\"data\": {\"bar\": [{\"error_x\": {\"color\": \"#2a3f5f\"}, \"error_y\": {\"color\": \"#2a3f5f\"}, \"marker\": {\"line\": {\"color\": \"#E5ECF6\", \"width\": 0.5}}, \"type\": \"bar\"}], \"barpolar\": [{\"marker\": {\"line\": {\"color\": \"#E5ECF6\", \"width\": 0.5}}, \"type\": \"barpolar\"}], \"carpet\": [{\"aaxis\": {\"endlinecolor\": \"#2a3f5f\", \"gridcolor\": \"white\", \"linecolor\": \"white\", \"minorgridcolor\": \"white\", \"startlinecolor\": \"#2a3f5f\"}, \"baxis\": {\"endlinecolor\": \"#2a3f5f\", \"gridcolor\": \"white\", \"linecolor\": \"white\", \"minorgridcolor\": \"white\", \"startlinecolor\": \"#2a3f5f\"}, \"type\": \"carpet\"}], \"choropleth\": [{\"colorbar\": {\"outlinewidth\": 0, \"ticks\": \"\"}, \"type\": \"choropleth\"}], \"contour\": [{\"colorbar\": {\"outlinewidth\": 0, \"ticks\": \"\"}, \"colorscale\": [[0.0, \"#0d0887\"], [0.1111111111111111, \"#46039f\"], [0.2222222222222222, \"#7201a8\"], [0.3333333333333333, \"#9c179e\"], [0.4444444444444444, \"#bd3786\"], [0.5555555555555556, \"#d8576b\"], [0.6666666666666666, \"#ed7953\"], [0.7777777777777778, \"#fb9f3a\"], [0.8888888888888888, \"#fdca26\"], [1.0, \"#f0f921\"]], \"type\": \"contour\"}], \"contourcarpet\": [{\"colorbar\": {\"outlinewidth\": 0, \"ticks\": \"\"}, \"type\": \"contourcarpet\"}], \"heatmap\": [{\"colorbar\": {\"outlinewidth\": 0, \"ticks\": \"\"}, \"colorscale\": [[0.0, \"#0d0887\"], [0.1111111111111111, \"#46039f\"], [0.2222222222222222, \"#7201a8\"], [0.3333333333333333, \"#9c179e\"], [0.4444444444444444, \"#bd3786\"], [0.5555555555555556, \"#d8576b\"], [0.6666666666666666, \"#ed7953\"], [0.7777777777777778, \"#fb9f3a\"], [0.8888888888888888, \"#fdca26\"], [1.0, \"#f0f921\"]], \"type\": \"heatmap\"}], \"heatmapgl\": [{\"colorbar\": {\"outlinewidth\": 0, \"ticks\": \"\"}, \"colorscale\": [[0.0, \"#0d0887\"], [0.1111111111111111, \"#46039f\"], [0.2222222222222222, \"#7201a8\"], [0.3333333333333333, \"#9c179e\"], [0.4444444444444444, \"#bd3786\"], [0.5555555555555556, \"#d8576b\"], [0.6666666666666666, \"#ed7953\"], [0.7777777777777778, \"#fb9f3a\"], [0.8888888888888888, \"#fdca26\"], [1.0, \"#f0f921\"]], \"type\": \"heatmapgl\"}], \"histogram\": [{\"marker\": {\"colorbar\": {\"outlinewidth\": 0, \"ticks\": \"\"}}, \"type\": \"histogram\"}], \"histogram2d\": [{\"colorbar\": {\"outlinewidth\": 0, \"ticks\": \"\"}, \"colorscale\": [[0.0, \"#0d0887\"], [0.1111111111111111, \"#46039f\"], [0.2222222222222222, \"#7201a8\"], [0.3333333333333333, \"#9c179e\"], [0.4444444444444444, \"#bd3786\"], [0.5555555555555556, \"#d8576b\"], [0.6666666666666666, \"#ed7953\"], [0.7777777777777778, \"#fb9f3a\"], [0.8888888888888888, \"#fdca26\"], [1.0, \"#f0f921\"]], \"type\": \"histogram2d\"}], \"histogram2dcontour\": [{\"colorbar\": {\"outlinewidth\": 0, \"ticks\": \"\"}, \"colorscale\": [[0.0, \"#0d0887\"], [0.1111111111111111, \"#46039f\"], [0.2222222222222222, \"#7201a8\"], [0.3333333333333333, \"#9c179e\"], [0.4444444444444444, \"#bd3786\"], [0.5555555555555556, \"#d8576b\"], [0.6666666666666666, \"#ed7953\"], [0.7777777777777778, \"#fb9f3a\"], [0.8888888888888888, \"#fdca26\"], [1.0, \"#f0f921\"]], \"type\": \"histogram2dcontour\"}], \"mesh3d\": [{\"colorbar\": {\"outlinewidth\": 0, \"ticks\": \"\"}, \"type\": \"mesh3d\"}], \"parcoords\": [{\"line\": {\"colorbar\": {\"outlinewidth\": 0, \"ticks\": \"\"}}, \"type\": \"parcoords\"}], \"pie\": [{\"automargin\": true, \"type\": \"pie\"}], \"scatter\": [{\"marker\": {\"colorbar\": {\"outlinewidth\": 0, \"ticks\": \"\"}}, \"type\": \"scatter\"}], \"scatter3d\": [{\"line\": {\"colorbar\": {\"outlinewidth\": 0, \"ticks\": \"\"}}, \"marker\": {\"colorbar\": {\"outlinewidth\": 0, \"ticks\": \"\"}}, \"type\": \"scatter3d\"}], \"scattercarpet\": [{\"marker\": {\"colorbar\": {\"outlinewidth\": 0, \"ticks\": \"\"}}, \"type\": \"scattercarpet\"}], \"scattergeo\": [{\"marker\": {\"colorbar\": {\"outlinewidth\": 0, \"ticks\": \"\"}}, \"type\": \"scattergeo\"}], \"scattergl\": [{\"marker\": {\"colorbar\": {\"outlinewidth\": 0, \"ticks\": \"\"}}, \"type\": \"scattergl\"}], \"scattermapbox\": [{\"marker\": {\"colorbar\": {\"outlinewidth\": 0, \"ticks\": \"\"}}, \"type\": \"scattermapbox\"}], \"scatterpolar\": [{\"marker\": {\"colorbar\": {\"outlinewidth\": 0, \"ticks\": \"\"}}, \"type\": \"scatterpolar\"}], \"scatterpolargl\": [{\"marker\": {\"colorbar\": {\"outlinewidth\": 0, \"ticks\": \"\"}}, \"type\": \"scatterpolargl\"}], \"scatterternary\": [{\"marker\": {\"colorbar\": {\"outlinewidth\": 0, \"ticks\": \"\"}}, \"type\": \"scatterternary\"}], \"surface\": [{\"colorbar\": {\"outlinewidth\": 0, \"ticks\": \"\"}, \"colorscale\": [[0.0, \"#0d0887\"], [0.1111111111111111, \"#46039f\"], [0.2222222222222222, \"#7201a8\"], [0.3333333333333333, \"#9c179e\"], [0.4444444444444444, \"#bd3786\"], [0.5555555555555556, \"#d8576b\"], [0.6666666666666666, \"#ed7953\"], [0.7777777777777778, \"#fb9f3a\"], [0.8888888888888888, \"#fdca26\"], [1.0, \"#f0f921\"]], \"type\": \"surface\"}], \"table\": [{\"cells\": {\"fill\": {\"color\": \"#EBF0F8\"}, \"line\": {\"color\": \"white\"}}, \"header\": {\"fill\": {\"color\": \"#C8D4E3\"}, \"line\": {\"color\": \"white\"}}, \"type\": \"table\"}]}, \"layout\": {\"annotationdefaults\": {\"arrowcolor\": \"#2a3f5f\", \"arrowhead\": 0, \"arrowwidth\": 1}, \"coloraxis\": {\"colorbar\": {\"outlinewidth\": 0, \"ticks\": \"\"}}, \"colorscale\": {\"diverging\": [[0, \"#8e0152\"], [0.1, \"#c51b7d\"], [0.2, \"#de77ae\"], [0.3, \"#f1b6da\"], [0.4, \"#fde0ef\"], [0.5, \"#f7f7f7\"], [0.6, \"#e6f5d0\"], [0.7, \"#b8e186\"], [0.8, \"#7fbc41\"], [0.9, \"#4d9221\"], [1, \"#276419\"]], \"sequential\": [[0.0, \"#0d0887\"], [0.1111111111111111, \"#46039f\"], [0.2222222222222222, \"#7201a8\"], [0.3333333333333333, \"#9c179e\"], [0.4444444444444444, \"#bd3786\"], [0.5555555555555556, \"#d8576b\"], [0.6666666666666666, \"#ed7953\"], [0.7777777777777778, \"#fb9f3a\"], [0.8888888888888888, \"#fdca26\"], [1.0, \"#f0f921\"]], \"sequentialminus\": [[0.0, \"#0d0887\"], [0.1111111111111111, \"#46039f\"], [0.2222222222222222, \"#7201a8\"], [0.3333333333333333, \"#9c179e\"], [0.4444444444444444, \"#bd3786\"], [0.5555555555555556, \"#d8576b\"], [0.6666666666666666, \"#ed7953\"], [0.7777777777777778, \"#fb9f3a\"], [0.8888888888888888, \"#fdca26\"], [1.0, \"#f0f921\"]]}, \"colorway\": [\"#636efa\", \"#EF553B\", \"#00cc96\", \"#ab63fa\", \"#FFA15A\", \"#19d3f3\", \"#FF6692\", \"#B6E880\", \"#FF97FF\", \"#FECB52\"], \"font\": {\"color\": \"#2a3f5f\"}, \"geo\": {\"bgcolor\": \"white\", \"lakecolor\": \"white\", \"landcolor\": \"#E5ECF6\", \"showlakes\": true, \"showland\": true, \"subunitcolor\": \"white\"}, \"hoverlabel\": {\"align\": \"left\"}, \"hovermode\": \"closest\", \"mapbox\": {\"style\": \"light\"}, \"paper_bgcolor\": \"white\", \"plot_bgcolor\": \"#E5ECF6\", \"polar\": {\"angularaxis\": {\"gridcolor\": \"white\", \"linecolor\": \"white\", \"ticks\": \"\"}, \"bgcolor\": \"#E5ECF6\", \"radialaxis\": {\"gridcolor\": \"white\", \"linecolor\": \"white\", \"ticks\": \"\"}}, \"scene\": {\"xaxis\": {\"backgroundcolor\": \"#E5ECF6\", \"gridcolor\": \"white\", \"gridwidth\": 2, \"linecolor\": \"white\", \"showbackground\": true, \"ticks\": \"\", \"zerolinecolor\": \"white\"}, \"yaxis\": {\"backgroundcolor\": \"#E5ECF6\", \"gridcolor\": \"white\", \"gridwidth\": 2, \"linecolor\": \"white\", \"showbackground\": true, \"ticks\": \"\", \"zerolinecolor\": \"white\"}, \"zaxis\": {\"backgroundcolor\": \"#E5ECF6\", \"gridcolor\": \"white\", \"gridwidth\": 2, \"linecolor\": \"white\", \"showbackground\": true, \"ticks\": \"\", \"zerolinecolor\": \"white\"}}, \"shapedefaults\": {\"line\": {\"color\": \"#2a3f5f\"}}, \"ternary\": {\"aaxis\": {\"gridcolor\": \"white\", \"linecolor\": \"white\", \"ticks\": \"\"}, \"baxis\": {\"gridcolor\": \"white\", \"linecolor\": \"white\", \"ticks\": \"\"}, \"bgcolor\": \"#E5ECF6\", \"caxis\": {\"gridcolor\": \"white\", \"linecolor\": \"white\", \"ticks\": \"\"}}, \"title\": {\"x\": 0.05}, \"xaxis\": {\"automargin\": true, \"gridcolor\": \"white\", \"linecolor\": \"white\", \"ticks\": \"\", \"title\": {\"standoff\": 15}, \"zerolinecolor\": \"white\", \"zerolinewidth\": 2}, \"yaxis\": {\"automargin\": true, \"gridcolor\": \"white\", \"linecolor\": \"white\", \"ticks\": \"\", \"title\": {\"standoff\": 15}, \"zerolinecolor\": \"white\", \"zerolinewidth\": 2}}}, \"xaxis\": {\"anchor\": \"y\", \"domain\": [0.0, 1.0], \"title\": {\"text\": \"Number of topics\"}}, \"yaxis\": {\"anchor\": \"x\", \"domain\": [0.0, 1.0], \"title\": {\"text\": \"Topic Coherence Score\"}}},                        {\"responsive\": true}                    ).then(function(){\n",
       "                            \n",
       "var gd = document.getElementById('3a010240-6dfb-44ac-9311-eecda2fce4bd');\n",
       "var x = new MutationObserver(function (mutations, observer) {{\n",
       "        var display = window.getComputedStyle(gd).display;\n",
       "        if (!display || display === 'none') {{\n",
       "            console.log([gd, 'removed!']);\n",
       "            Plotly.purge(gd);\n",
       "            observer.disconnect();\n",
       "        }}\n",
       "}});\n",
       "\n",
       "// Listen for the removal of the full notebook cells\n",
       "var notebookContainer = gd.closest('#notebook-container');\n",
       "if (notebookContainer) {{\n",
       "    x.observe(notebookContainer, {childList: true});\n",
       "}}\n",
       "\n",
       "// Listen for the clearing of the current output cell\n",
       "var outputEl = gd.closest('.output');\n",
       "if (outputEl) {{\n",
       "    x.observe(outputEl, {childList: true});\n",
       "}}\n",
       "\n",
       "                        })                };                });            </script>        </div>"
      ]
     },
     "metadata": {},
     "output_type": "display_data"
    }
   ],
   "source": [
    "import plotly.express as px\n",
    "\n",
    "px.line(x=x_, y=y_, labels={\"x\": \"Number of topics\", \"y\": \"Topic Coherence Score\"})"
   ]
  },
  {
   "cell_type": "code",
   "execution_count": 92,
   "metadata": {},
   "outputs": [],
   "source": [
    "lda_model = gensim.models.ldamodel.LdaModel(\n",
    "    corpus=corpus,\n",
    "    id2word=id2word,\n",
    "    num_topics=18,\n",
    "    passes=50,\n",
    "    alpha=\"auto\",\n",
    "    per_word_topics=True,\n",
    ")"
   ]
  },
  {
   "cell_type": "code",
   "execution_count": 94,
   "metadata": {},
   "outputs": [
    {
     "data": {
      "text/plain": [
       "[(0,\n",
       "  '0.018*\"company\" + 0.014*\"technology\" + 0.014*\"network\" + 0.011*\"new\" + 0.009*\"also\" + 0.009*\"service\" + 0.008*\"year\" + 0.007*\"business\" + 0.007*\"chip\" + 0.006*\"market\"'),\n",
       " (1,\n",
       "  '0.023*\"phone\" + 0.016*\"device\" + 0.012*\"company\" + 0.011*\"camera\" + 0.010*\"new\" + 0.010*\"also\" + 0.010*\"year\" + 0.008*\"well\" + 0.008*\"big\" + 0.008*\"time\"'),\n",
       " (2,\n",
       "  '0.056*\"qualcomm\" + 0.021*\"company\" + 0.015*\"shareholder\" + 0.013*\"broadcom\" + 0.013*\"acquisition\" + 0.011*\"board\" + 0.011*\"deal\" + 0.010*\"chip\" + 0.009*\"transaction\" + 0.009*\"chipmaker\"'),\n",
       " (3,\n",
       "  '0.028*\"year\" + 0.022*\"huawei\" + 0.020*\"company\" + 0.016*\"government\" + 0.016*\"chinese\" + 0.016*\"smartphone\" + 0.013*\"market\" + 0.012*\"network\" + 0.010*\"sale\" + 0.009*\"quarter\"'),\n",
       " (4,\n",
       "  '0.011*\"project\" + 0.009*\"open_stack\" + 0.008*\"company\" + 0.008*\"kubernete\" + 0.007*\"presentation\" + 0.007*\"foundation\" + 0.006*\"first\" + 0.006*\"event\" + 0.005*\"key\" + 0.005*\"year\"'),\n",
       " (5,\n",
       "  '0.026*\"apple\" + 0.025*\"company\" + 0.018*\"new\" + 0.014*\"device\" + 0.014*\"pod\" + 0.014*\"phone\" + 0.012*\"year\" + 0.010*\"time\" + 0.010*\"pixel\" + 0.009*\"event\"'),\n",
       " (6,\n",
       "  '0.019*\"network\" + 0.012*\"carrier\" + 0.011*\"system\" + 0.009*\"mobile\" + 0.009*\"government\" + 0.007*\"security\" + 0.007*\"card\" + 0.007*\"payment\" + 0.007*\"cell\" + 0.005*\"also\"'),\n",
       " (7,\n",
       "  '0.011*\"broadband\" + 0.010*\"rule\" + 0.010*\"city\" + 0.009*\"net_neutrality\" + 0.009*\"service\" + 0.007*\"wireless\" + 0.007*\"company\" + 0.007*\"internet\" + 0.006*\"pai\" + 0.006*\"deployment\"'),\n",
       " (8,\n",
       "  '0.013*\"device\" + 0.010*\"network\" + 0.010*\"connectivity\" + 0.010*\"sim\" + 0.009*\"starry\" + 0.008*\"wireless\" + 0.007*\"razer\" + 0.007*\"user\" + 0.006*\"chipset\" + 0.006*\"first\"'),\n",
       " (9,\n",
       "  '0.028*\"app\" + 0.020*\"game\" + 0.018*\"apple\" + 0.014*\"video\" + 0.013*\"user\" + 0.012*\"mobile\" + 0.010*\"new\" + 0.010*\"gaming\" + 0.009*\"developer\" + 0.008*\"platform\"'),\n",
       " (10,\n",
       "  '0.027*\"mobile\" + 0.019*\"network\" + 0.015*\"service\" + 0.014*\"new\" + 0.011*\"company\" + 0.011*\"verizon\" + 0.010*\"carrier\" + 0.009*\"tv\" + 0.008*\"also\" + 0.008*\"consumer\"'),\n",
       " (11,\n",
       "  '0.011*\"investment\" + 0.011*\"tech\" + 0.009*\"startup\" + 0.009*\"digital\" + 0.009*\"also\" + 0.008*\"new\" + 0.008*\"industry\" + 0.007*\"market\" + 0.007*\"company\" + 0.007*\"year\"'),\n",
       " (12,\n",
       "  '0.013*\"misinformation\" + 0.009*\"company\" + 0.009*\"claim\" + 0.009*\"conspiracy\" + 0.007*\"system\" + 0.006*\"covid\" + 0.006*\"vaccine\" + 0.006*\"internet\" + 0.006*\"also\" + 0.006*\"virus\"'),\n",
       " (13,\n",
       "  '0.013*\"datum\" + 0.011*\"security\" + 0.009*\"also\" + 0.008*\"technology\" + 0.008*\"tech\" + 0.006*\"chinese\" + 0.005*\"risk\" + 0.005*\"standard\" + 0.005*\"issue\" + 0.005*\"device\"'),\n",
       " (14,\n",
       "  '0.027*\"company\" + 0.014*\"car\" + 0.012*\"startup\" + 0.009*\"vehicle\" + 0.009*\"year\" + 0.008*\"also\" + 0.007*\"new\" + 0.007*\"technology\" + 0.006*\"system\" + 0.006*\"platform\"'),\n",
       " (15,\n",
       "  '0.019*\"new\" + 0.017*\"also\" + 0.015*\"android\" + 0.012*\"device\" + 0.011*\"cloud\" + 0.010*\"feature\" + 0.008*\"enterprise\" + 0.008*\"developer\" + 0.008*\"app\" + 0.008*\"container\"'),\n",
       " (16,\n",
       "  '0.017*\"company\" + 0.010*\"year\" + 0.008*\"new\" + 0.007*\"also\" + 0.007*\"investor\" + 0.006*\"service\" + 0.006*\"week\" + 0.006*\"platform\" + 0.006*\"firm\" + 0.006*\"startup\"'),\n",
       " (17,\n",
       "  '0.021*\"accessibility\" + 0.019*\"vision\" + 0.016*\"blind\" + 0.012*\"technology\" + 0.011*\"sight\" + 0.010*\"event\" + 0.009*\"global\" + 0.008*\"medium\" + 0.007*\"session\" + 0.007*\"tech\"')]"
      ]
     },
     "execution_count": 94,
     "metadata": {},
     "output_type": "execute_result"
    }
   ],
   "source": [
    "result = lda_model.print_topics(num_topics=18, num_words=10)\n",
    "result"
   ]
  },
  {
   "cell_type": "code",
   "execution_count": 63,
   "metadata": {},
   "outputs": [
    {
     "data": {
      "text/plain": [
       "0.3557523299800373"
      ]
     },
     "execution_count": 63,
     "metadata": {},
     "output_type": "execute_result"
    }
   ],
   "source": [
    "cm = coherence_model_lda = CoherenceModel(\n",
    "    model=lda_model, texts=data_lemmatized, dictionary=id2word, coherence=\"c_v\"\n",
    ")\n",
    "\n",
    "coherence = cm.get_coherence()\n",
    "coherence"
   ]
  },
  {
   "cell_type": "code",
   "execution_count": 96,
   "metadata": {},
   "outputs": [],
   "source": [
    "counts = dict()\n",
    "for i in range(18):\n",
    "    counts[i] = 0\n",
    "\n",
    "for elt in corpus:\n",
    "    tops = lda_model.get_document_topics(elt)\n",
    "    topic_max = 0\n",
    "    maxi = 0\n",
    "    for t in tops:\n",
    "        if t[1] > maxi:\n",
    "            maxi = t[1]\n",
    "            topic_max = t[0]\n",
    "\n",
    "    counts[topic_max] += 1"
   ]
  },
  {
   "cell_type": "code",
   "execution_count": 97,
   "metadata": {},
   "outputs": [
    {
     "data": {
      "text/html": [
       "<style type=\"text/css\">\n",
       "#T_f8a6d_row0_col1, #T_f8a6d_row1_col1, #T_f8a6d_row2_col1, #T_f8a6d_row3_col1, #T_f8a6d_row4_col1, #T_f8a6d_row5_col1, #T_f8a6d_row6_col1, #T_f8a6d_row7_col1, #T_f8a6d_row8_col1, #T_f8a6d_row9_col1, #T_f8a6d_row10_col1, #T_f8a6d_row11_col1, #T_f8a6d_row12_col1, #T_f8a6d_row13_col1, #T_f8a6d_row14_col1, #T_f8a6d_row15_col1, #T_f8a6d_row16_col1, #T_f8a6d_row17_col1 {\n",
       "  width: 550px;\n",
       "}\n",
       "</style>\n",
       "<table id=\"T_f8a6d_\">\n",
       "  <thead>\n",
       "    <tr>\n",
       "      <th class=\"blank level0\" >&nbsp;</th>\n",
       "      <th class=\"col_heading level0 col0\" >Number of documents</th>\n",
       "      <th class=\"col_heading level0 col1\" >Terms</th>\n",
       "    </tr>\n",
       "  </thead>\n",
       "  <tbody>\n",
       "    <tr>\n",
       "      <th id=\"T_f8a6d_level0_row0\" class=\"row_heading level0 row0\" >0</th>\n",
       "      <td id=\"T_f8a6d_row0_col0\" class=\"data row0 col0\" >85</td>\n",
       "      <td id=\"T_f8a6d_row0_col1\" class=\"data row0 col1\" >company, technology, network, new, also, service, year, business, chip, market</td>\n",
       "    </tr>\n",
       "    <tr>\n",
       "      <th id=\"T_f8a6d_level0_row1\" class=\"row_heading level0 row1\" >1</th>\n",
       "      <td id=\"T_f8a6d_row1_col0\" class=\"data row1 col0\" >105</td>\n",
       "      <td id=\"T_f8a6d_row1_col1\" class=\"data row1 col1\" >phone, device, company, camera, new, also, year, well, big, time</td>\n",
       "    </tr>\n",
       "    <tr>\n",
       "      <th id=\"T_f8a6d_level0_row2\" class=\"row_heading level0 row2\" >2</th>\n",
       "      <td id=\"T_f8a6d_row2_col0\" class=\"data row2 col0\" >10</td>\n",
       "      <td id=\"T_f8a6d_row2_col1\" class=\"data row2 col1\" >qualcomm, company, shareholder, broadcom, acquisition, board, deal, chip, transaction, chipmaker</td>\n",
       "    </tr>\n",
       "    <tr>\n",
       "      <th id=\"T_f8a6d_level0_row3\" class=\"row_heading level0 row3\" >3</th>\n",
       "      <td id=\"T_f8a6d_row3_col0\" class=\"data row3 col0\" >61</td>\n",
       "      <td id=\"T_f8a6d_row3_col1\" class=\"data row3 col1\" >year, huawei, company, government, chinese, smartphone, market, network, sale, quarter</td>\n",
       "    </tr>\n",
       "    <tr>\n",
       "      <th id=\"T_f8a6d_level0_row4\" class=\"row_heading level0 row4\" >4</th>\n",
       "      <td id=\"T_f8a6d_row4_col0\" class=\"data row4 col0\" >11</td>\n",
       "      <td id=\"T_f8a6d_row4_col1\" class=\"data row4 col1\" >project, open_stack, company, kubernete, presentation, foundation, first, event, key, year</td>\n",
       "    </tr>\n",
       "    <tr>\n",
       "      <th id=\"T_f8a6d_level0_row5\" class=\"row_heading level0 row5\" >5</th>\n",
       "      <td id=\"T_f8a6d_row5_col0\" class=\"data row5 col0\" >35</td>\n",
       "      <td id=\"T_f8a6d_row5_col1\" class=\"data row5 col1\" >apple, company, new, device, pod, phone, year, time, pixel, event</td>\n",
       "    </tr>\n",
       "    <tr>\n",
       "      <th id=\"T_f8a6d_level0_row6\" class=\"row_heading level0 row6\" >6</th>\n",
       "      <td id=\"T_f8a6d_row6_col0\" class=\"data row6 col0\" >4</td>\n",
       "      <td id=\"T_f8a6d_row6_col1\" class=\"data row6 col1\" >network, carrier, system, mobile, government, security, card, payment, cell, also</td>\n",
       "    </tr>\n",
       "    <tr>\n",
       "      <th id=\"T_f8a6d_level0_row7\" class=\"row_heading level0 row7\" >7</th>\n",
       "      <td id=\"T_f8a6d_row7_col0\" class=\"data row7 col0\" >8</td>\n",
       "      <td id=\"T_f8a6d_row7_col1\" class=\"data row7 col1\" >broadband, rule, city, net_neutrality, service, wireless, company, internet, pai, deployment</td>\n",
       "    </tr>\n",
       "    <tr>\n",
       "      <th id=\"T_f8a6d_level0_row8\" class=\"row_heading level0 row8\" >8</th>\n",
       "      <td id=\"T_f8a6d_row8_col0\" class=\"data row8 col0\" >3</td>\n",
       "      <td id=\"T_f8a6d_row8_col1\" class=\"data row8 col1\" >device, network, connectivity, sim, starry, wireless, razer, user, chipset, first</td>\n",
       "    </tr>\n",
       "    <tr>\n",
       "      <th id=\"T_f8a6d_level0_row9\" class=\"row_heading level0 row9\" >9</th>\n",
       "      <td id=\"T_f8a6d_row9_col0\" class=\"data row9 col0\" >26</td>\n",
       "      <td id=\"T_f8a6d_row9_col1\" class=\"data row9 col1\" >app, game, apple, video, user, mobile, new, gaming, developer, platform</td>\n",
       "    </tr>\n",
       "    <tr>\n",
       "      <th id=\"T_f8a6d_level0_row10\" class=\"row_heading level0 row10\" >10</th>\n",
       "      <td id=\"T_f8a6d_row10_col0\" class=\"data row10 col0\" >54</td>\n",
       "      <td id=\"T_f8a6d_row10_col1\" class=\"data row10 col1\" >mobile, network, service, new, company, verizon, carrier, tv, also, consumer</td>\n",
       "    </tr>\n",
       "    <tr>\n",
       "      <th id=\"T_f8a6d_level0_row11\" class=\"row_heading level0 row11\" >11</th>\n",
       "      <td id=\"T_f8a6d_row11_col0\" class=\"data row11 col0\" >28</td>\n",
       "      <td id=\"T_f8a6d_row11_col1\" class=\"data row11 col1\" >investment, tech, startup, digital, also, new, industry, market, company, year</td>\n",
       "    </tr>\n",
       "    <tr>\n",
       "      <th id=\"T_f8a6d_level0_row12\" class=\"row_heading level0 row12\" >12</th>\n",
       "      <td id=\"T_f8a6d_row12_col0\" class=\"data row12 col0\" >7</td>\n",
       "      <td id=\"T_f8a6d_row12_col1\" class=\"data row12 col1\" >misinformation, company, claim, conspiracy, system, covid, vaccine, internet, also, virus</td>\n",
       "    </tr>\n",
       "    <tr>\n",
       "      <th id=\"T_f8a6d_level0_row13\" class=\"row_heading level0 row13\" >13</th>\n",
       "      <td id=\"T_f8a6d_row13_col0\" class=\"data row13 col0\" >18</td>\n",
       "      <td id=\"T_f8a6d_row13_col1\" class=\"data row13 col1\" >datum, security, also, technology, tech, chinese, risk, standard, issue, device</td>\n",
       "    </tr>\n",
       "    <tr>\n",
       "      <th id=\"T_f8a6d_level0_row14\" class=\"row_heading level0 row14\" >14</th>\n",
       "      <td id=\"T_f8a6d_row14_col0\" class=\"data row14 col0\" >51</td>\n",
       "      <td id=\"T_f8a6d_row14_col1\" class=\"data row14 col1\" >company, car, startup, vehicle, year, also, new, technology, system, platform</td>\n",
       "    </tr>\n",
       "    <tr>\n",
       "      <th id=\"T_f8a6d_level0_row15\" class=\"row_heading level0 row15\" >15</th>\n",
       "      <td id=\"T_f8a6d_row15_col0\" class=\"data row15 col0\" >11</td>\n",
       "      <td id=\"T_f8a6d_row15_col1\" class=\"data row15 col1\" >new, also, android, device, cloud, feature, enterprise, developer, app, container</td>\n",
       "    </tr>\n",
       "    <tr>\n",
       "      <th id=\"T_f8a6d_level0_row16\" class=\"row_heading level0 row16\" >16</th>\n",
       "      <td id=\"T_f8a6d_row16_col0\" class=\"data row16 col0\" >38</td>\n",
       "      <td id=\"T_f8a6d_row16_col1\" class=\"data row16 col1\" >company, year, new, also, investor, service, week, platform, firm, startup</td>\n",
       "    </tr>\n",
       "    <tr>\n",
       "      <th id=\"T_f8a6d_level0_row17\" class=\"row_heading level0 row17\" >17</th>\n",
       "      <td id=\"T_f8a6d_row17_col0\" class=\"data row17 col0\" >2</td>\n",
       "      <td id=\"T_f8a6d_row17_col1\" class=\"data row17 col1\" >accessibility, vision, blind, technology, sight, event, global, medium, session, tech</td>\n",
       "    </tr>\n",
       "  </tbody>\n",
       "</table>\n"
      ],
      "text/plain": [
       "<pandas.io.formats.style.Styler at 0x7f9905659ca0>"
      ]
     },
     "execution_count": 97,
     "metadata": {},
     "output_type": "execute_result"
    }
   ],
   "source": [
    "ch = \"\"\"[(0,\n",
    "  '0.018*\"company\" + 0.014*\"technology\" + 0.014*\"network\" + 0.011*\"new\" + 0.009*\"also\" + 0.009*\"service\" + 0.008*\"year\" + 0.007*\"business\" + 0.007*\"chip\" + 0.006*\"market\"'),\n",
    " (1,\n",
    "  '0.023*\"phone\" + 0.016*\"device\" + 0.012*\"company\" + 0.011*\"camera\" + 0.010*\"new\" + 0.010*\"also\" + 0.010*\"year\" + 0.008*\"well\" + 0.008*\"big\" + 0.008*\"time\"'),\n",
    " (2,\n",
    "  '0.056*\"qualcomm\" + 0.021*\"company\" + 0.015*\"shareholder\" + 0.013*\"broadcom\" + 0.013*\"acquisition\" + 0.011*\"board\" + 0.011*\"deal\" + 0.010*\"chip\" + 0.009*\"transaction\" + 0.009*\"chipmaker\"'),\n",
    " (3,\n",
    "  '0.028*\"year\" + 0.022*\"huawei\" + 0.020*\"company\" + 0.016*\"government\" + 0.016*\"chinese\" + 0.016*\"smartphone\" + 0.013*\"market\" + 0.012*\"network\" + 0.010*\"sale\" + 0.009*\"quarter\"'),\n",
    " (4,\n",
    "  '0.011*\"project\" + 0.009*\"open_stack\" + 0.008*\"company\" + 0.008*\"kubernete\" + 0.007*\"presentation\" + 0.007*\"foundation\" + 0.006*\"first\" + 0.006*\"event\" + 0.005*\"key\" + 0.005*\"year\"'),\n",
    " (5,\n",
    "  '0.026*\"apple\" + 0.025*\"company\" + 0.018*\"new\" + 0.014*\"device\" + 0.014*\"pod\" + 0.014*\"phone\" + 0.012*\"year\" + 0.010*\"time\" + 0.010*\"pixel\" + 0.009*\"event\"'),\n",
    " (6,\n",
    "  '0.019*\"network\" + 0.012*\"carrier\" + 0.011*\"system\" + 0.009*\"mobile\" + 0.009*\"government\" + 0.007*\"security\" + 0.007*\"card\" + 0.007*\"payment\" + 0.007*\"cell\" + 0.005*\"also\"'),\n",
    " (7,\n",
    "  '0.011*\"broadband\" + 0.010*\"rule\" + 0.010*\"city\" + 0.009*\"net_neutrality\" + 0.009*\"service\" + 0.007*\"wireless\" + 0.007*\"company\" + 0.007*\"internet\" + 0.006*\"pai\" + 0.006*\"deployment\"'),\n",
    " (8,\n",
    "  '0.013*\"device\" + 0.010*\"network\" + 0.010*\"connectivity\" + 0.010*\"sim\" + 0.009*\"starry\" + 0.008*\"wireless\" + 0.007*\"razer\" + 0.007*\"user\" + 0.006*\"chipset\" + 0.006*\"first\"'),\n",
    " (9,\n",
    "  '0.028*\"app\" + 0.020*\"game\" + 0.018*\"apple\" + 0.014*\"video\" + 0.013*\"user\" + 0.012*\"mobile\" + 0.010*\"new\" + 0.010*\"gaming\" + 0.009*\"developer\" + 0.008*\"platform\"'),\n",
    " (10,\n",
    "  '0.027*\"mobile\" + 0.019*\"network\" + 0.015*\"service\" + 0.014*\"new\" + 0.011*\"company\" + 0.011*\"verizon\" + 0.010*\"carrier\" + 0.009*\"tv\" + 0.008*\"also\" + 0.008*\"consumer\"'),\n",
    " (11,\n",
    "  '0.011*\"investment\" + 0.011*\"tech\" + 0.009*\"startup\" + 0.009*\"digital\" + 0.009*\"also\" + 0.008*\"new\" + 0.008*\"industry\" + 0.007*\"market\" + 0.007*\"company\" + 0.007*\"year\"'),\n",
    " (12,\n",
    "  '0.013*\"misinformation\" + 0.009*\"company\" + 0.009*\"claim\" + 0.009*\"conspiracy\" + 0.007*\"system\" + 0.006*\"covid\" + 0.006*\"vaccine\" + 0.006*\"internet\" + 0.006*\"also\" + 0.006*\"virus\"'),\n",
    " (13,\n",
    "  '0.013*\"datum\" + 0.011*\"security\" + 0.009*\"also\" + 0.008*\"technology\" + 0.008*\"tech\" + 0.006*\"chinese\" + 0.005*\"risk\" + 0.005*\"standard\" + 0.005*\"issue\" + 0.005*\"device\"'),\n",
    " (14,\n",
    "  '0.027*\"company\" + 0.014*\"car\" + 0.012*\"startup\" + 0.009*\"vehicle\" + 0.009*\"year\" + 0.008*\"also\" + 0.007*\"new\" + 0.007*\"technology\" + 0.006*\"system\" + 0.006*\"platform\"'),\n",
    " (15,\n",
    "  '0.019*\"new\" + 0.017*\"also\" + 0.015*\"android\" + 0.012*\"device\" + 0.011*\"cloud\" + 0.010*\"feature\" + 0.008*\"enterprise\" + 0.008*\"developer\" + 0.008*\"app\" + 0.008*\"container\"'),\n",
    " (16,\n",
    "  '0.017*\"company\" + 0.010*\"year\" + 0.008*\"new\" + 0.007*\"also\" + 0.007*\"investor\" + 0.006*\"service\" + 0.006*\"week\" + 0.006*\"platform\" + 0.006*\"firm\" + 0.006*\"startup\"'),\n",
    " (17,\n",
    "  '0.021*\"accessibility\" + 0.019*\"vision\" + 0.016*\"blind\" + 0.012*\"technology\" + 0.011*\"sight\" + 0.010*\"event\" + 0.009*\"global\" + 0.008*\"medium\" + 0.007*\"session\" + 0.007*\"tech\"')]\"\"\"\n",
    "\n",
    "results = pd.DataFrame()\n",
    "results[\"Number of documents\"] = None\n",
    "results[\"Number of documents\"] = None\n",
    "\n",
    "liste = re.findall(r'\"(.*?)\"', ch)\n",
    "liste\n",
    "for i in range(18):\n",
    "    x = liste[i * 10 : i * 10 + 10]\n",
    "    w = \", \".join(x)\n",
    "    results.loc[i, \"Terms\"] = w\n",
    "    results.loc[i, \"Number of documents\"] = counts[i]\n",
    "\n",
    "results.style.set_properties(subset=[\"Terms\"], **{\"width\": \"550px\"})"
   ]
  },
  {
   "cell_type": "code",
   "execution_count": 78,
   "metadata": {},
   "outputs": [
    {
     "data": {
      "text/plain": [
       "90"
      ]
     },
     "execution_count": 78,
     "metadata": {},
     "output_type": "execute_result"
    }
   ],
   "source": [
    "len(liste)"
   ]
  },
  {
   "cell_type": "code",
   "execution_count": null,
   "metadata": {},
   "outputs": [],
   "source": []
  }
 ],
 "metadata": {
  "kernelspec": {
   "display_name": "Python 3",
   "language": "python",
   "name": "python3"
  },
  "language_info": {
   "codemirror_mode": {
    "name": "ipython",
    "version": 3
   },
   "file_extension": ".py",
   "mimetype": "text/x-python",
   "name": "python",
   "nbconvert_exporter": "python",
   "pygments_lexer": "ipython3",
   "version": "3.8.5"
  }
 },
 "nbformat": 4,
 "nbformat_minor": 4
}
