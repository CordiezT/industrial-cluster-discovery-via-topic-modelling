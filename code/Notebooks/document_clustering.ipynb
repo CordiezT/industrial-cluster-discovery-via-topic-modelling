{
 "cells": [
  {
   "cell_type": "code",
   "execution_count": 70,
   "metadata": {},
   "outputs": [
    {
     "name": "stderr",
     "output_type": "stream",
     "text": [
      "[nltk_data] Downloading package stopwords to\n",
      "[nltk_data]     /Users/cordiez/nltk_data...\n",
      "[nltk_data]   Package stopwords is already up-to-date!\n"
     ]
    }
   ],
   "source": [
    "import re\n",
    "\n",
    "import nltk\n",
    "import pandas as pd\n",
    "from langdetect import detect\n",
    "\n",
    "nltk.download(\"stopwords\")\n",
    "\n",
    "tech5G = pd.read_csv(\n",
    "    \"/Users/cordiez/Documents/CompaniesHouse/OutputFiles/tc_scrapped_final.csv\",\n",
    "    index_col=0,\n",
    ")\n",
    "\n",
    "crunchbase_industries = pd.read_csv(\n",
    "    \"/Users/cordiez/Documents/CompaniesHouse/OutputFiles/crunchbase_industries.csv\"\n",
    ")\n",
    "\n",
    "\n",
    "html = pd.read_csv(\n",
    "    \"/Users/cordiez/Documents/CompaniesHouse/OutputFiles/html.csv\", index_col=0\n",
    ")\n",
    "idx_to_drop = html[\n",
    "    (html[\"Content\"].isna() == True) | (html[\"Content\"] == \"Error\")\n",
    "].index\n",
    "html.drop(index=idx_to_drop, inplace=True)\n",
    "html[\"lang\"] = html[\"Content\"].apply(lambda x: detect(x))\n",
    "html = html[html[\"lang\"] == \"en\"].drop(columns=\"lang\")\n",
    "idx_to_drop = html[html[\"Content\"].apply(lambda x: len(x.split())) < 80].index\n",
    "html.drop(index=idx_to_drop, inplace=True)\n",
    "\n",
    "html_cb = pd.read_csv(\n",
    "    \"/Users/cordiez/Documents/CompaniesHouse/OutputFiles/html2.csv\", index_col=0\n",
    ")\n",
    "idx_to_drop = html_cb[\n",
    "    (html_cb[\"Content\"].isna() == True) | (html_cb[\"Content\"] == \"Error\")\n",
    "].index\n",
    "html_cb.drop(index=idx_to_drop, inplace=True)\n",
    "html_cb[\"lang\"] = html_cb[\"Content\"].apply(lambda x: detect(x))\n",
    "html_cb = html_cb[html_cb[\"lang\"] == \"en\"].drop(columns=\"lang\")\n",
    "idx_to_drop = html_cb[html_cb[\"Content\"].apply(lambda x: len(x.split())) < 80].index\n",
    "html_cb.drop(index=idx_to_drop, inplace=True)\n",
    "\n",
    "\n",
    "def clean_text(text):\n",
    "    \"\"\"text = re.sub(r\"([a-z\\.!?])([A-Z])\", r\"\\1 \\2\", text)\n",
    "     # text = str(text).lower()  # Lowercase words\n",
    "    #  text = re.sub(r\"\\[(.*?)\\]\", \"\", text)  # Remove [+XYZ chars] in content\n",
    "      text = re.sub(r\"\\s+\", \" \", text)  # Remove multiple spaces in content\n",
    "      text = re.sub(r\"\\w+…|…\", \"\", text)  # Remove ellipsis (and last word)\n",
    "      text = re.sub(r\"(?<=\\w)-(?=\\w)\", \" \", text)  # Replace dash between words\n",
    "      #text = re.sub(\n",
    "      #    f\"[{re.escape(string.punctuation)}]\", \"\", text\n",
    "    #\"\"\"\n",
    "    text = text.encode(\"ascii\", \"ignore\").decode(\"utf-8\")\n",
    "\n",
    "    text = re.sub(r\"([a-z\\.!?])([A-Z])\", r\"\\1 \\2\", text)\n",
    "    text = re.sub(r\"(\\d)([a-z]|[A-Z])\", r\"\\1 \\2\", text)\n",
    "    text = re.sub(r\"([a-z]|[A-Z])(\\d)\", r\"\\1 \\2\", text)\n",
    "    text = re.sub(r\"([a-z])([A-Z])\", r\"\\1 \\2\", text)\n",
    "    text = re.sub(r\"\\s+\", \" \", text)  # Remove multiple spaces in content\n",
    "    text = re.sub(r\"\\w+…|…\", \"\", text)  # Remove ellipsis (and last word)\n",
    "    text = re.sub(r\"(?<=\\w)-(?=\\w)\", \" \", text)  # Replace dash between words\n",
    "    return text\n",
    "\n",
    "\n",
    "data_ch = [clean_text(html.loc[i, \"Content\"]) for i in html.index]\n",
    "data_cb = [clean_text(html_cb.loc[i, \"Content\"]) for i in html_cb.index]\n",
    "data_tc = [clean_text(tech5G.loc[i, \"content\"]) for i in tech5G.index]"
   ]
  },
  {
   "cell_type": "markdown",
   "metadata": {},
   "source": [
    "## Bert topic"
   ]
  },
  {
   "cell_type": "code",
   "execution_count": 78,
   "metadata": {},
   "outputs": [],
   "source": [
    "from bertopic import BERTopic\n",
    "from sklearn.feature_extraction.text import CountVectorizer\n",
    "\n",
    "topic_model = BERTopic()\n",
    "topics, probs = topic_model.fit_transform(data_ch)\n",
    "vectorizer_model = CountVectorizer(stop_words=\"english\")\n",
    "eng_stop_words = set(vectorizer_model.get_stop_words())\n",
    "additional_stops = [\n",
    "    \"mk\",\n",
    "    \"milton\",\n",
    "    \"keynes\",\n",
    "    \"world\",\n",
    "    \"work\",\n",
    "    \"uk\",\n",
    "    \"service\",\n",
    "    \"search\",\n",
    "    \"contact\",\n",
    "    \"use\",\n",
    "    \"we\",\n",
    "    \"provide\",\n",
    "    \"website\",\n",
    "    \"help\",\n",
    "    \"product\",\n",
    "    \"solution\",\n",
    "    \"company\",\n",
    "    \"design\",\n",
    "    \"get\",\n",
    "    \"team\",\n",
    "    \"experience\",\n",
    "    \"customer\",\n",
    "    \"need\",\n",
    "    \"client\",\n",
    "    \"develop\",\n",
    "    \"quick\",\n",
    "    \"sale\",\n",
    "    \"day\",\n",
    "    \"ltd\",\n",
    "    \"project\",\n",
    "    \"work\",\n",
    "    \"market\",\n",
    "    \"can\",\n",
    "    \"will\",\n",
    "    \"offer\",\n",
    "    \"find\",\n",
    "    \"new\",\n",
    "    \"year\",\n",
    "    \"look\",\n",
    "    \"call\",\n",
    "    \"see\",\n",
    "    \"one\",\n",
    "    \"service\",\n",
    "    \"cookies\",\n",
    "    \"facebook\",\n",
    "    \"events\",\n",
    "    \"accept\",\n",
    "    \"contact\",\n",
    "    \"search\",\n",
    "]\n",
    "\n",
    "vectorizer_model = CountVectorizer(stop_words=eng_stop_words.union(additional_stops))\n",
    "topic_model.update_topics(data_ch, topics=topics, vectorizer_model=vectorizer_model)\n",
    "\n",
    "counts = topic_model.get_topic_info()"
   ]
  },
  {
   "cell_type": "code",
   "execution_count": 89,
   "metadata": {},
   "outputs": [
    {
     "data": {
      "text/html": [
       "<div>\n",
       "<style scoped>\n",
       "    .dataframe tbody tr th:only-of-type {\n",
       "        vertical-align: middle;\n",
       "    }\n",
       "\n",
       "    .dataframe tbody tr th {\n",
       "        vertical-align: top;\n",
       "    }\n",
       "\n",
       "    .dataframe thead th {\n",
       "        text-align: right;\n",
       "    }\n",
       "</style>\n",
       "<table border=\"1\" class=\"dataframe\">\n",
       "  <thead>\n",
       "    <tr style=\"text-align: right;\">\n",
       "      <th></th>\n",
       "      <th>Topic</th>\n",
       "      <th>Count</th>\n",
       "      <th>Name</th>\n",
       "    </tr>\n",
       "  </thead>\n",
       "  <tbody>\n",
       "    <tr>\n",
       "      <th>0</th>\n",
       "      <td>-1</td>\n",
       "      <td>729</td>\n",
       "      <td>-1_services_business_management_policy</td>\n",
       "    </tr>\n",
       "    <tr>\n",
       "      <th>1</th>\n",
       "      <td>0</td>\n",
       "      <td>164</td>\n",
       "      <td>0_business_services_digital_marketing</td>\n",
       "    </tr>\n",
       "    <tr>\n",
       "      <th>2</th>\n",
       "      <td>1</td>\n",
       "      <td>87</td>\n",
       "      <td>1_hsbcad_licensee_construction_licensed</td>\n",
       "    </tr>\n",
       "    <tr>\n",
       "      <th>3</th>\n",
       "      <td>2</td>\n",
       "      <td>86</td>\n",
       "      <td>2_car_vehicle_cars_mercedes</td>\n",
       "    </tr>\n",
       "    <tr>\n",
       "      <th>4</th>\n",
       "      <td>3</td>\n",
       "      <td>71</td>\n",
       "      <td>3_food_menu_sauce_chicken</td>\n",
       "    </tr>\n",
       "    <tr>\n",
       "      <th>5</th>\n",
       "      <td>4</td>\n",
       "      <td>66</td>\n",
       "      <td>4_business_accounting_accountants_accountancy</td>\n",
       "    </tr>\n",
       "    <tr>\n",
       "      <th>6</th>\n",
       "      <td>5</td>\n",
       "      <td>64</td>\n",
       "      <td>5_property_rent_estate_house</td>\n",
       "    </tr>\n",
       "    <tr>\n",
       "      <th>7</th>\n",
       "      <td>6</td>\n",
       "      <td>58</td>\n",
       "      <td>6_sensor_cnc_sensors_forklift</td>\n",
       "    </tr>\n",
       "    <tr>\n",
       "      <th>8</th>\n",
       "      <td>7</td>\n",
       "      <td>53</td>\n",
       "      <td>7_recruitment_candidates_jobs_job</td>\n",
       "    </tr>\n",
       "    <tr>\n",
       "      <th>9</th>\n",
       "      <td>8</td>\n",
       "      <td>52</td>\n",
       "      <td>8_shop_incense_wedding_accessories</td>\n",
       "    </tr>\n",
       "    <tr>\n",
       "      <th>10</th>\n",
       "      <td>9</td>\n",
       "      <td>40</td>\n",
       "      <td>9_personal_vacuum_hotels_gift</td>\n",
       "    </tr>\n",
       "    <tr>\n",
       "      <th>11</th>\n",
       "      <td>10</td>\n",
       "      <td>38</td>\n",
       "      <td>10_club_camps_camp_classes</td>\n",
       "    </tr>\n",
       "    <tr>\n",
       "      <th>12</th>\n",
       "      <td>11</td>\n",
       "      <td>37</td>\n",
       "      <td>11_heating_plumbing_boiler_gas</td>\n",
       "    </tr>\n",
       "    <tr>\n",
       "      <th>13</th>\n",
       "      <td>12</td>\n",
       "      <td>37</td>\n",
       "      <td>12_cleaning_clean_window_cleaner</td>\n",
       "    </tr>\n",
       "    <tr>\n",
       "      <th>14</th>\n",
       "      <td>13</td>\n",
       "      <td>36</td>\n",
       "      <td>13_electrical_security_electrician_alarms</td>\n",
       "    </tr>\n",
       "    <tr>\n",
       "      <th>15</th>\n",
       "      <td>14</td>\n",
       "      <td>32</td>\n",
       "      <td>14_doors_blinds_windows_door</td>\n",
       "    </tr>\n",
       "    <tr>\n",
       "      <th>16</th>\n",
       "      <td>15</td>\n",
       "      <td>31</td>\n",
       "      <td>15_hours_message_01908_600</td>\n",
       "    </tr>\n",
       "    <tr>\n",
       "      <th>17</th>\n",
       "      <td>16</td>\n",
       "      <td>30</td>\n",
       "      <td>16_care_living_respite_residents</td>\n",
       "    </tr>\n",
       "    <tr>\n",
       "      <th>18</th>\n",
       "      <td>17</td>\n",
       "      <td>25</td>\n",
       "      <td>17_solicitors_legal_mediation_clients</td>\n",
       "    </tr>\n",
       "    <tr>\n",
       "      <th>19</th>\n",
       "      <td>18</td>\n",
       "      <td>24</td>\n",
       "      <td>18_logistics_freight_courier_transport</td>\n",
       "    </tr>\n",
       "    <tr>\n",
       "      <th>20</th>\n",
       "      <td>19</td>\n",
       "      <td>23</td>\n",
       "      <td>19_church_prayer_christian_community</td>\n",
       "    </tr>\n",
       "    <tr>\n",
       "      <th>21</th>\n",
       "      <td>20</td>\n",
       "      <td>22</td>\n",
       "      <td>20_clinic_massage_acupuncture_therapy</td>\n",
       "    </tr>\n",
       "    <tr>\n",
       "      <th>22</th>\n",
       "      <td>21</td>\n",
       "      <td>21</td>\n",
       "      <td>21_skin_treatments_treatment_facial</td>\n",
       "    </tr>\n",
       "    <tr>\n",
       "      <th>23</th>\n",
       "      <td>22</td>\n",
       "      <td>21</td>\n",
       "      <td>22_printing_print_printers_printer</td>\n",
       "    </tr>\n",
       "    <tr>\n",
       "      <th>24</th>\n",
       "      <td>23</td>\n",
       "      <td>20</td>\n",
       "      <td>23_courses_students_training_cpfi</td>\n",
       "    </tr>\n",
       "    <tr>\n",
       "      <th>25</th>\n",
       "      <td>24</td>\n",
       "      <td>19</td>\n",
       "      <td>24_stables_village_hotel_home</td>\n",
       "    </tr>\n",
       "    <tr>\n",
       "      <th>26</th>\n",
       "      <td>25</td>\n",
       "      <td>19</td>\n",
       "      <td>25_fibre_carbon_wireless_cable</td>\n",
       "    </tr>\n",
       "    <tr>\n",
       "      <th>27</th>\n",
       "      <td>26</td>\n",
       "      <td>17</td>\n",
       "      <td>26_taxi_airport_taxis_transfers</td>\n",
       "    </tr>\n",
       "    <tr>\n",
       "      <th>29</th>\n",
       "      <td>27</td>\n",
       "      <td>16</td>\n",
       "      <td>27_hair_salon_tanning_hairdressing</td>\n",
       "    </tr>\n",
       "    <tr>\n",
       "      <th>28</th>\n",
       "      <td>28</td>\n",
       "      <td>16</td>\n",
       "      <td>28_wedding_bridal_dress_suits</td>\n",
       "    </tr>\n",
       "    <tr>\n",
       "      <th>30</th>\n",
       "      <td>29</td>\n",
       "      <td>15</td>\n",
       "      <td>29_support_children_charity_donate</td>\n",
       "    </tr>\n",
       "    <tr>\n",
       "      <th>31</th>\n",
       "      <td>30</td>\n",
       "      <td>15</td>\n",
       "      <td>30_mortgage_mortgages_financial_insurance</td>\n",
       "    </tr>\n",
       "    <tr>\n",
       "      <th>32</th>\n",
       "      <td>31</td>\n",
       "      <td>14</td>\n",
       "      <td>31_safety_logistics_nrc_lgi</td>\n",
       "    </tr>\n",
       "    <tr>\n",
       "      <th>33</th>\n",
       "      <td>32</td>\n",
       "      <td>13</td>\n",
       "      <td>32_password_reset_confirm_email</td>\n",
       "    </tr>\n",
       "    <tr>\n",
       "      <th>34</th>\n",
       "      <td>33</td>\n",
       "      <td>13</td>\n",
       "      <td>33_dog_dogs_breeding_pet</td>\n",
       "    </tr>\n",
       "    <tr>\n",
       "      <th>35</th>\n",
       "      <td>34</td>\n",
       "      <td>12</td>\n",
       "      <td>34_roofing_roof_chimney_guttering</td>\n",
       "    </tr>\n",
       "    <tr>\n",
       "      <th>36</th>\n",
       "      <td>35</td>\n",
       "      <td>10</td>\n",
       "      <td>35_space_storage_office_flexspace</td>\n",
       "    </tr>\n",
       "    <tr>\n",
       "      <th>37</th>\n",
       "      <td>36</td>\n",
       "      <td>10</td>\n",
       "      <td>36_school_malvern_academy_students</td>\n",
       "    </tr>\n",
       "  </tbody>\n",
       "</table>\n",
       "</div>"
      ],
      "text/plain": [
       "    Topic  Count                                           Name\n",
       "0      -1    729         -1_services_business_management_policy\n",
       "1       0    164          0_business_services_digital_marketing\n",
       "2       1     87        1_hsbcad_licensee_construction_licensed\n",
       "3       2     86                    2_car_vehicle_cars_mercedes\n",
       "4       3     71                      3_food_menu_sauce_chicken\n",
       "5       4     66  4_business_accounting_accountants_accountancy\n",
       "6       5     64                   5_property_rent_estate_house\n",
       "7       6     58                  6_sensor_cnc_sensors_forklift\n",
       "8       7     53              7_recruitment_candidates_jobs_job\n",
       "9       8     52             8_shop_incense_wedding_accessories\n",
       "10      9     40                  9_personal_vacuum_hotels_gift\n",
       "11     10     38                     10_club_camps_camp_classes\n",
       "12     11     37                 11_heating_plumbing_boiler_gas\n",
       "13     12     37               12_cleaning_clean_window_cleaner\n",
       "14     13     36      13_electrical_security_electrician_alarms\n",
       "15     14     32                   14_doors_blinds_windows_door\n",
       "16     15     31                     15_hours_message_01908_600\n",
       "17     16     30               16_care_living_respite_residents\n",
       "18     17     25          17_solicitors_legal_mediation_clients\n",
       "19     18     24         18_logistics_freight_courier_transport\n",
       "20     19     23           19_church_prayer_christian_community\n",
       "21     20     22          20_clinic_massage_acupuncture_therapy\n",
       "22     21     21            21_skin_treatments_treatment_facial\n",
       "23     22     21             22_printing_print_printers_printer\n",
       "24     23     20              23_courses_students_training_cpfi\n",
       "25     24     19                  24_stables_village_hotel_home\n",
       "26     25     19                 25_fibre_carbon_wireless_cable\n",
       "27     26     17                26_taxi_airport_taxis_transfers\n",
       "29     27     16             27_hair_salon_tanning_hairdressing\n",
       "28     28     16                  28_wedding_bridal_dress_suits\n",
       "30     29     15             29_support_children_charity_donate\n",
       "31     30     15      30_mortgage_mortgages_financial_insurance\n",
       "32     31     14                    31_safety_logistics_nrc_lgi\n",
       "33     32     13                32_password_reset_confirm_email\n",
       "34     33     13                       33_dog_dogs_breeding_pet\n",
       "35     34     12              34_roofing_roof_chimney_guttering\n",
       "36     35     10              35_space_storage_office_flexspace\n",
       "37     36     10             36_school_malvern_academy_students"
      ]
     },
     "execution_count": 89,
     "metadata": {},
     "output_type": "execute_result"
    }
   ],
   "source": [
    "counts"
   ]
  },
  {
   "cell_type": "code",
   "execution_count": 95,
   "metadata": {},
   "outputs": [
    {
     "data": {
      "application/vnd.plotly.v1+json": {
       "config": {
        "plotlyServerURL": "https://plot.ly"
       },
       "data": [
        {
         "hoverinfo": "text",
         "marker": {
          "color": "rgb(61,153,112)"
         },
         "mode": "lines",
         "type": "scatter",
         "x": [
          0,
          0.6953323669350893,
          0.6953323669350893,
          0
         ],
         "xaxis": "x",
         "y": [
          -5,
          -5,
          -15,
          -15
         ],
         "yaxis": "y"
        },
        {
         "hoverinfo": "text",
         "marker": {
          "color": "rgb(255,65,54)"
         },
         "mode": "lines",
         "type": "scatter",
         "x": [
          0,
          0.8565500700675283,
          0.8565500700675283,
          0
         ],
         "xaxis": "x",
         "y": [
          -35,
          -35,
          -45,
          -45
         ],
         "yaxis": "y"
        },
        {
         "hoverinfo": "text",
         "marker": {
          "color": "rgb(0,116,217)"
         },
         "mode": "lines",
         "type": "scatter",
         "x": [
          0,
          1.0380515878921295,
          1.0380515878921295,
          0.8565500700675283
         ],
         "xaxis": "x",
         "y": [
          -25,
          -25,
          -40,
          -40
         ],
         "yaxis": "y"
        },
        {
         "hoverinfo": "text",
         "marker": {
          "color": "rgb(0,116,217)"
         },
         "mode": "lines",
         "type": "scatter",
         "x": [
          0.6953323669350893,
          1.3328783150597974,
          1.3328783150597974,
          1.0380515878921295
         ],
         "xaxis": "x",
         "y": [
          -10,
          -10,
          -32.5,
          -32.5
         ],
         "yaxis": "y"
        },
        {
         "hoverinfo": "text",
         "marker": {
          "color": "rgb(35,205,205)"
         },
         "mode": "lines",
         "type": "scatter",
         "x": [
          0,
          0.4262876884031103,
          0.4262876884031103,
          0
         ],
         "xaxis": "x",
         "y": [
          -55,
          -55,
          -65,
          -65
         ],
         "yaxis": "y"
        },
        {
         "hoverinfo": "text",
         "marker": {
          "color": "rgb(133,20,75)"
         },
         "mode": "lines",
         "type": "scatter",
         "x": [
          0,
          0.9325063145851262,
          0.9325063145851262,
          0
         ],
         "xaxis": "x",
         "y": [
          -85,
          -85,
          -95,
          -95
         ],
         "yaxis": "y"
        },
        {
         "hoverinfo": "text",
         "marker": {
          "color": "rgb(0,116,217)"
         },
         "mode": "lines",
         "type": "scatter",
         "x": [
          0,
          1.106030722274919,
          1.106030722274919,
          0.9325063145851262
         ],
         "xaxis": "x",
         "y": [
          -75,
          -75,
          -90,
          -90
         ],
         "yaxis": "y"
        },
        {
         "hoverinfo": "text",
         "marker": {
          "color": "rgb(0,116,217)"
         },
         "mode": "lines",
         "type": "scatter",
         "x": [
          0.4262876884031103,
          1.3975580780751042,
          1.3975580780751042,
          1.106030722274919
         ],
         "xaxis": "x",
         "y": [
          -60,
          -60,
          -82.5,
          -82.5
         ],
         "yaxis": "y"
        },
        {
         "hoverinfo": "text",
         "marker": {
          "color": "rgb(0,116,217)"
         },
         "mode": "lines",
         "type": "scatter",
         "x": [
          1.3328783150597974,
          1.8633175686765497,
          1.8633175686765497,
          1.3975580780751042
         ],
         "xaxis": "x",
         "y": [
          -21.25,
          -21.25,
          -71.25,
          -71.25
         ],
         "yaxis": "y"
        },
        {
         "hoverinfo": "text",
         "marker": {
          "color": "rgb(255,220,0)"
         },
         "mode": "lines",
         "type": "scatter",
         "x": [
          0,
          0.5439417388658468,
          0.5439417388658468,
          0
         ],
         "xaxis": "x",
         "y": [
          -125,
          -125,
          -135,
          -135
         ],
         "yaxis": "y"
        },
        {
         "hoverinfo": "text",
         "marker": {
          "color": "rgb(255,220,0)"
         },
         "mode": "lines",
         "type": "scatter",
         "x": [
          0,
          0.8449422469144411,
          0.8449422469144411,
          0.5439417388658468
         ],
         "xaxis": "x",
         "y": [
          -115,
          -115,
          -130,
          -130
         ],
         "yaxis": "y"
        },
        {
         "hoverinfo": "text",
         "marker": {
          "color": "rgb(0,116,217)"
         },
         "mode": "lines",
         "type": "scatter",
         "x": [
          0,
          1.0059385299149597,
          1.0059385299149597,
          0.8449422469144411
         ],
         "xaxis": "x",
         "y": [
          -105,
          -105,
          -122.5,
          -122.5
         ],
         "yaxis": "y"
        },
        {
         "hoverinfo": "text",
         "marker": {
          "color": "rgb(40,35,35)"
         },
         "mode": "lines",
         "type": "scatter",
         "x": [
          0,
          0.7527626759016867,
          0.7527626759016867,
          0
         ],
         "xaxis": "x",
         "y": [
          -155,
          -155,
          -165,
          -165
         ],
         "yaxis": "y"
        },
        {
         "hoverinfo": "text",
         "marker": {
          "color": "rgb(0,116,217)"
         },
         "mode": "lines",
         "type": "scatter",
         "x": [
          0,
          1.1068564981953035,
          1.1068564981953035,
          0.7527626759016867
         ],
         "xaxis": "x",
         "y": [
          -145,
          -145,
          -160,
          -160
         ],
         "yaxis": "y"
        },
        {
         "hoverinfo": "text",
         "marker": {
          "color": "rgb(0,116,217)"
         },
         "mode": "lines",
         "type": "scatter",
         "x": [
          1.0059385299149597,
          1.6014171287125722,
          1.6014171287125722,
          1.1068564981953035
         ],
         "xaxis": "x",
         "y": [
          -113.75,
          -113.75,
          -152.5,
          -152.5
         ],
         "yaxis": "y"
        },
        {
         "hoverinfo": "text",
         "marker": {
          "color": "rgb(61,153,112)"
         },
         "mode": "lines",
         "type": "scatter",
         "x": [
          0,
          0.7632656079637195,
          0.7632656079637195,
          0
         ],
         "xaxis": "x",
         "y": [
          -175,
          -175,
          -185,
          -185
         ],
         "yaxis": "y"
        },
        {
         "hoverinfo": "text",
         "marker": {
          "color": "rgb(255,65,54)"
         },
         "mode": "lines",
         "type": "scatter",
         "x": [
          0,
          0.9280736710379598,
          0.9280736710379598,
          0
         ],
         "xaxis": "x",
         "y": [
          -205,
          -205,
          -215,
          -215
         ],
         "yaxis": "y"
        },
        {
         "hoverinfo": "text",
         "marker": {
          "color": "rgb(0,116,217)"
         },
         "mode": "lines",
         "type": "scatter",
         "x": [
          0,
          1.2073275868809756,
          1.2073275868809756,
          0.9280736710379598
         ],
         "xaxis": "x",
         "y": [
          -195,
          -195,
          -210,
          -210
         ],
         "yaxis": "y"
        },
        {
         "hoverinfo": "text",
         "marker": {
          "color": "rgb(0,116,217)"
         },
         "mode": "lines",
         "type": "scatter",
         "x": [
          0.7632656079637195,
          1.7135583148293574,
          1.7135583148293574,
          1.2073275868809756
         ],
         "xaxis": "x",
         "y": [
          -180,
          -180,
          -202.5,
          -202.5
         ],
         "yaxis": "y"
        },
        {
         "hoverinfo": "text",
         "marker": {
          "color": "rgb(0,116,217)"
         },
         "mode": "lines",
         "type": "scatter",
         "x": [
          1.6014171287125722,
          2.1930312844284345,
          2.1930312844284345,
          1.7135583148293574
         ],
         "xaxis": "x",
         "y": [
          -133.125,
          -133.125,
          -191.25,
          -191.25
         ],
         "yaxis": "y"
        },
        {
         "hoverinfo": "text",
         "marker": {
          "color": "rgb(0,116,217)"
         },
         "mode": "lines",
         "type": "scatter",
         "x": [
          1.8633175686765497,
          2.336014379572637,
          2.336014379572637,
          2.1930312844284345
         ],
         "xaxis": "x",
         "y": [
          -46.25,
          -46.25,
          -162.1875,
          -162.1875
         ],
         "yaxis": "y"
        },
        {
         "hoverinfo": "text",
         "marker": {
          "color": "rgb(35,205,205)"
         },
         "mode": "lines",
         "type": "scatter",
         "x": [
          0,
          0.6866181321683752,
          0.6866181321683752,
          0
         ],
         "xaxis": "x",
         "y": [
          -225,
          -225,
          -235,
          -235
         ],
         "yaxis": "y"
        },
        {
         "hoverinfo": "text",
         "marker": {
          "color": "rgb(0,116,217)"
         },
         "mode": "lines",
         "type": "scatter",
         "x": [
          0,
          1.2123257749068779,
          1.2123257749068779,
          0
         ],
         "xaxis": "x",
         "y": [
          -245,
          -245,
          -255,
          -255
         ],
         "yaxis": "y"
        },
        {
         "hoverinfo": "text",
         "marker": {
          "color": "rgb(0,116,217)"
         },
         "mode": "lines",
         "type": "scatter",
         "x": [
          0,
          1.061913205603293,
          1.061913205603293,
          0
         ],
         "xaxis": "x",
         "y": [
          -285,
          -285,
          -295,
          -295
         ],
         "yaxis": "y"
        },
        {
         "hoverinfo": "text",
         "marker": {
          "color": "rgb(0,116,217)"
         },
         "mode": "lines",
         "type": "scatter",
         "x": [
          0,
          1.2396481530315375,
          1.2396481530315375,
          1.061913205603293
         ],
         "xaxis": "x",
         "y": [
          -275,
          -275,
          -290,
          -290
         ],
         "yaxis": "y"
        },
        {
         "hoverinfo": "text",
         "marker": {
          "color": "rgb(0,116,217)"
         },
         "mode": "lines",
         "type": "scatter",
         "x": [
          0,
          1.382587163017425,
          1.382587163017425,
          1.2396481530315375
         ],
         "xaxis": "x",
         "y": [
          -265,
          -265,
          -282.5,
          -282.5
         ],
         "yaxis": "y"
        },
        {
         "hoverinfo": "text",
         "marker": {
          "color": "rgb(0,116,217)"
         },
         "mode": "lines",
         "type": "scatter",
         "x": [
          1.2123257749068779,
          1.5437782788592331,
          1.5437782788592331,
          1.382587163017425
         ],
         "xaxis": "x",
         "y": [
          -250,
          -250,
          -273.75,
          -273.75
         ],
         "yaxis": "y"
        },
        {
         "hoverinfo": "text",
         "marker": {
          "color": "rgb(0,116,217)"
         },
         "mode": "lines",
         "type": "scatter",
         "x": [
          0.6866181321683752,
          1.941221167556561,
          1.941221167556561,
          1.5437782788592331
         ],
         "xaxis": "x",
         "y": [
          -230,
          -230,
          -261.875,
          -261.875
         ],
         "yaxis": "y"
        },
        {
         "hoverinfo": "text",
         "marker": {
          "color": "rgb(133,20,75)"
         },
         "mode": "lines",
         "type": "scatter",
         "x": [
          0,
          0.7013258292760031,
          0.7013258292760031,
          0
         ],
         "xaxis": "x",
         "y": [
          -305,
          -305,
          -315,
          -315
         ],
         "yaxis": "y"
        },
        {
         "hoverinfo": "text",
         "marker": {
          "color": "rgb(255,220,0)"
         },
         "mode": "lines",
         "type": "scatter",
         "x": [
          0,
          0.7329343400632737,
          0.7329343400632737,
          0
         ],
         "xaxis": "x",
         "y": [
          -335,
          -335,
          -345,
          -345
         ],
         "yaxis": "y"
        },
        {
         "hoverinfo": "text",
         "marker": {
          "color": "rgb(0,116,217)"
         },
         "mode": "lines",
         "type": "scatter",
         "x": [
          0,
          1.0522487891797314,
          1.0522487891797314,
          0.7329343400632737
         ],
         "xaxis": "x",
         "y": [
          -325,
          -325,
          -340,
          -340
         ],
         "yaxis": "y"
        },
        {
         "hoverinfo": "text",
         "marker": {
          "color": "rgb(40,35,35)"
         },
         "mode": "lines",
         "type": "scatter",
         "x": [
          0,
          0.8699588524357369,
          0.8699588524357369,
          0
         ],
         "xaxis": "x",
         "y": [
          -365,
          -365,
          -375,
          -375
         ],
         "yaxis": "y"
        },
        {
         "hoverinfo": "text",
         "marker": {
          "color": "rgb(0,116,217)"
         },
         "mode": "lines",
         "type": "scatter",
         "x": [
          0,
          1.1414114098959887,
          1.1414114098959887,
          0.8699588524357369
         ],
         "xaxis": "x",
         "y": [
          -355,
          -355,
          -370,
          -370
         ],
         "yaxis": "y"
        },
        {
         "hoverinfo": "text",
         "marker": {
          "color": "rgb(0,116,217)"
         },
         "mode": "lines",
         "type": "scatter",
         "x": [
          1.0522487891797314,
          1.4899714099920054,
          1.4899714099920054,
          1.1414114098959887
         ],
         "xaxis": "x",
         "y": [
          -332.5,
          -332.5,
          -362.5,
          -362.5
         ],
         "yaxis": "y"
        },
        {
         "hoverinfo": "text",
         "marker": {
          "color": "rgb(0,116,217)"
         },
         "mode": "lines",
         "type": "scatter",
         "x": [
          0.7013258292760031,
          2.046493242644081,
          2.046493242644081,
          1.4899714099920054
         ],
         "xaxis": "x",
         "y": [
          -310,
          -310,
          -347.5,
          -347.5
         ],
         "yaxis": "y"
        },
        {
         "hoverinfo": "text",
         "marker": {
          "color": "rgb(0,116,217)"
         },
         "mode": "lines",
         "type": "scatter",
         "x": [
          1.941221167556561,
          3.013625764256891,
          3.013625764256891,
          2.046493242644081
         ],
         "xaxis": "x",
         "y": [
          -245.9375,
          -245.9375,
          -328.75,
          -328.75
         ],
         "yaxis": "y"
        },
        {
         "hoverinfo": "text",
         "marker": {
          "color": "rgb(0,116,217)"
         },
         "mode": "lines",
         "type": "scatter",
         "x": [
          2.336014379572637,
          4.007202908600896,
          4.007202908600896,
          3.013625764256891
         ],
         "xaxis": "x",
         "y": [
          -104.21875,
          -104.21875,
          -287.34375,
          -287.34375
         ],
         "yaxis": "y"
        }
       ],
       "layout": {
        "autosize": false,
        "height": 800,
        "hoverlabel": {
         "bgcolor": "white",
         "font": {
          "family": "Rockwell",
          "size": 16
         }
        },
        "hovermode": "closest",
        "plot_bgcolor": "#ECEFF1",
        "showlegend": false,
        "template": {
         "data": {
          "bar": [
           {
            "error_x": {
             "color": "#2a3f5f"
            },
            "error_y": {
             "color": "#2a3f5f"
            },
            "marker": {
             "line": {
              "color": "white",
              "width": 0.5
             }
            },
            "type": "bar"
           }
          ],
          "barpolar": [
           {
            "marker": {
             "line": {
              "color": "white",
              "width": 0.5
             }
            },
            "type": "barpolar"
           }
          ],
          "carpet": [
           {
            "aaxis": {
             "endlinecolor": "#2a3f5f",
             "gridcolor": "#C8D4E3",
             "linecolor": "#C8D4E3",
             "minorgridcolor": "#C8D4E3",
             "startlinecolor": "#2a3f5f"
            },
            "baxis": {
             "endlinecolor": "#2a3f5f",
             "gridcolor": "#C8D4E3",
             "linecolor": "#C8D4E3",
             "minorgridcolor": "#C8D4E3",
             "startlinecolor": "#2a3f5f"
            },
            "type": "carpet"
           }
          ],
          "choropleth": [
           {
            "colorbar": {
             "outlinewidth": 0,
             "ticks": ""
            },
            "type": "choropleth"
           }
          ],
          "contour": [
           {
            "colorbar": {
             "outlinewidth": 0,
             "ticks": ""
            },
            "colorscale": [
             [
              0,
              "#0d0887"
             ],
             [
              0.1111111111111111,
              "#46039f"
             ],
             [
              0.2222222222222222,
              "#7201a8"
             ],
             [
              0.3333333333333333,
              "#9c179e"
             ],
             [
              0.4444444444444444,
              "#bd3786"
             ],
             [
              0.5555555555555556,
              "#d8576b"
             ],
             [
              0.6666666666666666,
              "#ed7953"
             ],
             [
              0.7777777777777778,
              "#fb9f3a"
             ],
             [
              0.8888888888888888,
              "#fdca26"
             ],
             [
              1,
              "#f0f921"
             ]
            ],
            "type": "contour"
           }
          ],
          "contourcarpet": [
           {
            "colorbar": {
             "outlinewidth": 0,
             "ticks": ""
            },
            "type": "contourcarpet"
           }
          ],
          "heatmap": [
           {
            "colorbar": {
             "outlinewidth": 0,
             "ticks": ""
            },
            "colorscale": [
             [
              0,
              "#0d0887"
             ],
             [
              0.1111111111111111,
              "#46039f"
             ],
             [
              0.2222222222222222,
              "#7201a8"
             ],
             [
              0.3333333333333333,
              "#9c179e"
             ],
             [
              0.4444444444444444,
              "#bd3786"
             ],
             [
              0.5555555555555556,
              "#d8576b"
             ],
             [
              0.6666666666666666,
              "#ed7953"
             ],
             [
              0.7777777777777778,
              "#fb9f3a"
             ],
             [
              0.8888888888888888,
              "#fdca26"
             ],
             [
              1,
              "#f0f921"
             ]
            ],
            "type": "heatmap"
           }
          ],
          "heatmapgl": [
           {
            "colorbar": {
             "outlinewidth": 0,
             "ticks": ""
            },
            "colorscale": [
             [
              0,
              "#0d0887"
             ],
             [
              0.1111111111111111,
              "#46039f"
             ],
             [
              0.2222222222222222,
              "#7201a8"
             ],
             [
              0.3333333333333333,
              "#9c179e"
             ],
             [
              0.4444444444444444,
              "#bd3786"
             ],
             [
              0.5555555555555556,
              "#d8576b"
             ],
             [
              0.6666666666666666,
              "#ed7953"
             ],
             [
              0.7777777777777778,
              "#fb9f3a"
             ],
             [
              0.8888888888888888,
              "#fdca26"
             ],
             [
              1,
              "#f0f921"
             ]
            ],
            "type": "heatmapgl"
           }
          ],
          "histogram": [
           {
            "marker": {
             "colorbar": {
              "outlinewidth": 0,
              "ticks": ""
             }
            },
            "type": "histogram"
           }
          ],
          "histogram2d": [
           {
            "colorbar": {
             "outlinewidth": 0,
             "ticks": ""
            },
            "colorscale": [
             [
              0,
              "#0d0887"
             ],
             [
              0.1111111111111111,
              "#46039f"
             ],
             [
              0.2222222222222222,
              "#7201a8"
             ],
             [
              0.3333333333333333,
              "#9c179e"
             ],
             [
              0.4444444444444444,
              "#bd3786"
             ],
             [
              0.5555555555555556,
              "#d8576b"
             ],
             [
              0.6666666666666666,
              "#ed7953"
             ],
             [
              0.7777777777777778,
              "#fb9f3a"
             ],
             [
              0.8888888888888888,
              "#fdca26"
             ],
             [
              1,
              "#f0f921"
             ]
            ],
            "type": "histogram2d"
           }
          ],
          "histogram2dcontour": [
           {
            "colorbar": {
             "outlinewidth": 0,
             "ticks": ""
            },
            "colorscale": [
             [
              0,
              "#0d0887"
             ],
             [
              0.1111111111111111,
              "#46039f"
             ],
             [
              0.2222222222222222,
              "#7201a8"
             ],
             [
              0.3333333333333333,
              "#9c179e"
             ],
             [
              0.4444444444444444,
              "#bd3786"
             ],
             [
              0.5555555555555556,
              "#d8576b"
             ],
             [
              0.6666666666666666,
              "#ed7953"
             ],
             [
              0.7777777777777778,
              "#fb9f3a"
             ],
             [
              0.8888888888888888,
              "#fdca26"
             ],
             [
              1,
              "#f0f921"
             ]
            ],
            "type": "histogram2dcontour"
           }
          ],
          "mesh3d": [
           {
            "colorbar": {
             "outlinewidth": 0,
             "ticks": ""
            },
            "type": "mesh3d"
           }
          ],
          "parcoords": [
           {
            "line": {
             "colorbar": {
              "outlinewidth": 0,
              "ticks": ""
             }
            },
            "type": "parcoords"
           }
          ],
          "pie": [
           {
            "automargin": true,
            "type": "pie"
           }
          ],
          "scatter": [
           {
            "marker": {
             "colorbar": {
              "outlinewidth": 0,
              "ticks": ""
             }
            },
            "type": "scatter"
           }
          ],
          "scatter3d": [
           {
            "line": {
             "colorbar": {
              "outlinewidth": 0,
              "ticks": ""
             }
            },
            "marker": {
             "colorbar": {
              "outlinewidth": 0,
              "ticks": ""
             }
            },
            "type": "scatter3d"
           }
          ],
          "scattercarpet": [
           {
            "marker": {
             "colorbar": {
              "outlinewidth": 0,
              "ticks": ""
             }
            },
            "type": "scattercarpet"
           }
          ],
          "scattergeo": [
           {
            "marker": {
             "colorbar": {
              "outlinewidth": 0,
              "ticks": ""
             }
            },
            "type": "scattergeo"
           }
          ],
          "scattergl": [
           {
            "marker": {
             "colorbar": {
              "outlinewidth": 0,
              "ticks": ""
             }
            },
            "type": "scattergl"
           }
          ],
          "scattermapbox": [
           {
            "marker": {
             "colorbar": {
              "outlinewidth": 0,
              "ticks": ""
             }
            },
            "type": "scattermapbox"
           }
          ],
          "scatterpolar": [
           {
            "marker": {
             "colorbar": {
              "outlinewidth": 0,
              "ticks": ""
             }
            },
            "type": "scatterpolar"
           }
          ],
          "scatterpolargl": [
           {
            "marker": {
             "colorbar": {
              "outlinewidth": 0,
              "ticks": ""
             }
            },
            "type": "scatterpolargl"
           }
          ],
          "scatterternary": [
           {
            "marker": {
             "colorbar": {
              "outlinewidth": 0,
              "ticks": ""
             }
            },
            "type": "scatterternary"
           }
          ],
          "surface": [
           {
            "colorbar": {
             "outlinewidth": 0,
             "ticks": ""
            },
            "colorscale": [
             [
              0,
              "#0d0887"
             ],
             [
              0.1111111111111111,
              "#46039f"
             ],
             [
              0.2222222222222222,
              "#7201a8"
             ],
             [
              0.3333333333333333,
              "#9c179e"
             ],
             [
              0.4444444444444444,
              "#bd3786"
             ],
             [
              0.5555555555555556,
              "#d8576b"
             ],
             [
              0.6666666666666666,
              "#ed7953"
             ],
             [
              0.7777777777777778,
              "#fb9f3a"
             ],
             [
              0.8888888888888888,
              "#fdca26"
             ],
             [
              1,
              "#f0f921"
             ]
            ],
            "type": "surface"
           }
          ],
          "table": [
           {
            "cells": {
             "fill": {
              "color": "#EBF0F8"
             },
             "line": {
              "color": "white"
             }
            },
            "header": {
             "fill": {
              "color": "#C8D4E3"
             },
             "line": {
              "color": "white"
             }
            },
            "type": "table"
           }
          ]
         },
         "layout": {
          "annotationdefaults": {
           "arrowcolor": "#2a3f5f",
           "arrowhead": 0,
           "arrowwidth": 1
          },
          "coloraxis": {
           "colorbar": {
            "outlinewidth": 0,
            "ticks": ""
           }
          },
          "colorscale": {
           "diverging": [
            [
             0,
             "#8e0152"
            ],
            [
             0.1,
             "#c51b7d"
            ],
            [
             0.2,
             "#de77ae"
            ],
            [
             0.3,
             "#f1b6da"
            ],
            [
             0.4,
             "#fde0ef"
            ],
            [
             0.5,
             "#f7f7f7"
            ],
            [
             0.6,
             "#e6f5d0"
            ],
            [
             0.7,
             "#b8e186"
            ],
            [
             0.8,
             "#7fbc41"
            ],
            [
             0.9,
             "#4d9221"
            ],
            [
             1,
             "#276419"
            ]
           ],
           "sequential": [
            [
             0,
             "#0d0887"
            ],
            [
             0.1111111111111111,
             "#46039f"
            ],
            [
             0.2222222222222222,
             "#7201a8"
            ],
            [
             0.3333333333333333,
             "#9c179e"
            ],
            [
             0.4444444444444444,
             "#bd3786"
            ],
            [
             0.5555555555555556,
             "#d8576b"
            ],
            [
             0.6666666666666666,
             "#ed7953"
            ],
            [
             0.7777777777777778,
             "#fb9f3a"
            ],
            [
             0.8888888888888888,
             "#fdca26"
            ],
            [
             1,
             "#f0f921"
            ]
           ],
           "sequentialminus": [
            [
             0,
             "#0d0887"
            ],
            [
             0.1111111111111111,
             "#46039f"
            ],
            [
             0.2222222222222222,
             "#7201a8"
            ],
            [
             0.3333333333333333,
             "#9c179e"
            ],
            [
             0.4444444444444444,
             "#bd3786"
            ],
            [
             0.5555555555555556,
             "#d8576b"
            ],
            [
             0.6666666666666666,
             "#ed7953"
            ],
            [
             0.7777777777777778,
             "#fb9f3a"
            ],
            [
             0.8888888888888888,
             "#fdca26"
            ],
            [
             1,
             "#f0f921"
            ]
           ]
          },
          "colorway": [
           "#636efa",
           "#EF553B",
           "#00cc96",
           "#ab63fa",
           "#FFA15A",
           "#19d3f3",
           "#FF6692",
           "#B6E880",
           "#FF97FF",
           "#FECB52"
          ],
          "font": {
           "color": "#2a3f5f"
          },
          "geo": {
           "bgcolor": "white",
           "lakecolor": "white",
           "landcolor": "white",
           "showlakes": true,
           "showland": true,
           "subunitcolor": "#C8D4E3"
          },
          "hoverlabel": {
           "align": "left"
          },
          "hovermode": "closest",
          "mapbox": {
           "style": "light"
          },
          "paper_bgcolor": "white",
          "plot_bgcolor": "white",
          "polar": {
           "angularaxis": {
            "gridcolor": "#EBF0F8",
            "linecolor": "#EBF0F8",
            "ticks": ""
           },
           "bgcolor": "white",
           "radialaxis": {
            "gridcolor": "#EBF0F8",
            "linecolor": "#EBF0F8",
            "ticks": ""
           }
          },
          "scene": {
           "xaxis": {
            "backgroundcolor": "white",
            "gridcolor": "#DFE8F3",
            "gridwidth": 2,
            "linecolor": "#EBF0F8",
            "showbackground": true,
            "ticks": "",
            "zerolinecolor": "#EBF0F8"
           },
           "yaxis": {
            "backgroundcolor": "white",
            "gridcolor": "#DFE8F3",
            "gridwidth": 2,
            "linecolor": "#EBF0F8",
            "showbackground": true,
            "ticks": "",
            "zerolinecolor": "#EBF0F8"
           },
           "zaxis": {
            "backgroundcolor": "white",
            "gridcolor": "#DFE8F3",
            "gridwidth": 2,
            "linecolor": "#EBF0F8",
            "showbackground": true,
            "ticks": "",
            "zerolinecolor": "#EBF0F8"
           }
          },
          "shapedefaults": {
           "line": {
            "color": "#2a3f5f"
           }
          },
          "ternary": {
           "aaxis": {
            "gridcolor": "#DFE8F3",
            "linecolor": "#A2B1C6",
            "ticks": ""
           },
           "baxis": {
            "gridcolor": "#DFE8F3",
            "linecolor": "#A2B1C6",
            "ticks": ""
           },
           "bgcolor": "white",
           "caxis": {
            "gridcolor": "#DFE8F3",
            "linecolor": "#A2B1C6",
            "ticks": ""
           }
          },
          "title": {
           "x": 0.05
          },
          "xaxis": {
           "automargin": true,
           "gridcolor": "#EBF0F8",
           "linecolor": "#EBF0F8",
           "ticks": "",
           "title": {
            "standoff": 15
           },
           "zerolinecolor": "#EBF0F8",
           "zerolinewidth": 2
          },
          "yaxis": {
           "automargin": true,
           "gridcolor": "#EBF0F8",
           "linecolor": "#EBF0F8",
           "ticks": "",
           "title": {
            "standoff": 15
           },
           "zerolinecolor": "#EBF0F8",
           "zerolinewidth": 2
          }
         }
        },
        "title": {
         "font": {
          "color": "Black",
          "size": 22
         },
         "text": "<b>Hierarchical Clustering",
         "x": 0.5,
         "xanchor": "center",
         "y": 0.95,
         "yanchor": "top"
        },
        "width": 600,
        "xaxis": {
         "mirror": "allticks",
         "rangemode": "tozero",
         "showgrid": false,
         "showline": true,
         "showticklabels": true,
         "ticks": "outside",
         "type": "linear",
         "zeroline": false
        },
        "yaxis": {
         "mirror": "allticks",
         "rangemode": "tozero",
         "showgrid": false,
         "showline": true,
         "showticklabels": true,
         "tickmode": "array",
         "ticks": "outside",
         "ticktext": [
          "15_hours_message_01908",
          "32_password_reset_confirm",
          "14_doors_blinds_windows",
          "9_personal_vacuum_hotels",
          "35_space_storage_office",
          "-1_services_business_manage...",
          "0_business_services_digital",
          "18_logistics_freight_courier",
          "1_hsbcad_licensee_construct...",
          "31_safety_logistics_nrc",
          "7_recruitment_candidates_jobs",
          "10_club_camps_camp",
          "23_courses_students_training",
          "36_school_malvern_academy",
          "19_church_prayer_christian",
          "16_care_living_respite",
          "29_support_children_charity",
          "5_property_rent_estate",
          "24_stables_village_hotel",
          "30_mortgage_mortgages_finan...",
          "4_business_accounting_accou...",
          "17_solicitors_legal_mediation",
          "20_clinic_massage_acupuncture",
          "21_skin_treatments_treatment",
          "8_shop_incense_wedding",
          "28_wedding_bridal_dress",
          "22_printing_print_printers",
          "3_food_menu_sauce",
          "27_hair_salon_tanning",
          "33_dog_dogs_breeding",
          "2_car_vehicle_cars",
          "26_taxi_airport_taxis",
          "25_fibre_carbon_wireless",
          "6_sensor_cnc_sensors",
          "13_electrical_security_elec...",
          "34_roofing_roof_chimney",
          "11_heating_plumbing_boiler",
          "12_cleaning_clean_window"
         ],
         "tickvals": [
          -5,
          -15,
          -25,
          -35,
          -45,
          -55,
          -65,
          -75,
          -85,
          -95,
          -105,
          -115,
          -125,
          -135,
          -145,
          -155,
          -165,
          -175,
          -185,
          -195,
          -205,
          -215,
          -225,
          -235,
          -245,
          -255,
          -265,
          -275,
          -285,
          -295,
          -305,
          -315,
          -325,
          -335,
          -345,
          -355,
          -365,
          -375
         ],
         "type": "linear",
         "zeroline": false
        }
       }
      },
      "text/html": [
       "<div>                            <div id=\"0b36a021-93de-4864-b678-2254c574f8e8\" class=\"plotly-graph-div\" style=\"height:800px; width:600px;\"></div>            <script type=\"text/javascript\">                require([\"plotly\"], function(Plotly) {                    window.PLOTLYENV=window.PLOTLYENV || {};                                    if (document.getElementById(\"0b36a021-93de-4864-b678-2254c574f8e8\")) {                    Plotly.newPlot(                        \"0b36a021-93de-4864-b678-2254c574f8e8\",                        [{\"hoverinfo\": \"text\", \"marker\": {\"color\": \"rgb(61,153,112)\"}, \"mode\": \"lines\", \"type\": \"scatter\", \"x\": [0.0, 0.6953323669350893, 0.6953323669350893, 0.0], \"xaxis\": \"x\", \"y\": [-5.0, -5.0, -15.0, -15.0], \"yaxis\": \"y\"}, {\"hoverinfo\": \"text\", \"marker\": {\"color\": \"rgb(255,65,54)\"}, \"mode\": \"lines\", \"type\": \"scatter\", \"x\": [0.0, 0.8565500700675283, 0.8565500700675283, 0.0], \"xaxis\": \"x\", \"y\": [-35.0, -35.0, -45.0, -45.0], \"yaxis\": \"y\"}, {\"hoverinfo\": \"text\", \"marker\": {\"color\": \"rgb(0,116,217)\"}, \"mode\": \"lines\", \"type\": \"scatter\", \"x\": [0.0, 1.0380515878921295, 1.0380515878921295, 0.8565500700675283], \"xaxis\": \"x\", \"y\": [-25.0, -25.0, -40.0, -40.0], \"yaxis\": \"y\"}, {\"hoverinfo\": \"text\", \"marker\": {\"color\": \"rgb(0,116,217)\"}, \"mode\": \"lines\", \"type\": \"scatter\", \"x\": [0.6953323669350893, 1.3328783150597974, 1.3328783150597974, 1.0380515878921295], \"xaxis\": \"x\", \"y\": [-10.0, -10.0, -32.5, -32.5], \"yaxis\": \"y\"}, {\"hoverinfo\": \"text\", \"marker\": {\"color\": \"rgb(35,205,205)\"}, \"mode\": \"lines\", \"type\": \"scatter\", \"x\": [0.0, 0.4262876884031103, 0.4262876884031103, 0.0], \"xaxis\": \"x\", \"y\": [-55.0, -55.0, -65.0, -65.0], \"yaxis\": \"y\"}, {\"hoverinfo\": \"text\", \"marker\": {\"color\": \"rgb(133,20,75)\"}, \"mode\": \"lines\", \"type\": \"scatter\", \"x\": [0.0, 0.9325063145851262, 0.9325063145851262, 0.0], \"xaxis\": \"x\", \"y\": [-85.0, -85.0, -95.0, -95.0], \"yaxis\": \"y\"}, {\"hoverinfo\": \"text\", \"marker\": {\"color\": \"rgb(0,116,217)\"}, \"mode\": \"lines\", \"type\": \"scatter\", \"x\": [0.0, 1.106030722274919, 1.106030722274919, 0.9325063145851262], \"xaxis\": \"x\", \"y\": [-75.0, -75.0, -90.0, -90.0], \"yaxis\": \"y\"}, {\"hoverinfo\": \"text\", \"marker\": {\"color\": \"rgb(0,116,217)\"}, \"mode\": \"lines\", \"type\": \"scatter\", \"x\": [0.4262876884031103, 1.3975580780751042, 1.3975580780751042, 1.106030722274919], \"xaxis\": \"x\", \"y\": [-60.0, -60.0, -82.5, -82.5], \"yaxis\": \"y\"}, {\"hoverinfo\": \"text\", \"marker\": {\"color\": \"rgb(0,116,217)\"}, \"mode\": \"lines\", \"type\": \"scatter\", \"x\": [1.3328783150597974, 1.8633175686765497, 1.8633175686765497, 1.3975580780751042], \"xaxis\": \"x\", \"y\": [-21.25, -21.25, -71.25, -71.25], \"yaxis\": \"y\"}, {\"hoverinfo\": \"text\", \"marker\": {\"color\": \"rgb(255,220,0)\"}, \"mode\": \"lines\", \"type\": \"scatter\", \"x\": [0.0, 0.5439417388658468, 0.5439417388658468, 0.0], \"xaxis\": \"x\", \"y\": [-125.0, -125.0, -135.0, -135.0], \"yaxis\": \"y\"}, {\"hoverinfo\": \"text\", \"marker\": {\"color\": \"rgb(255,220,0)\"}, \"mode\": \"lines\", \"type\": \"scatter\", \"x\": [0.0, 0.8449422469144411, 0.8449422469144411, 0.5439417388658468], \"xaxis\": \"x\", \"y\": [-115.0, -115.0, -130.0, -130.0], \"yaxis\": \"y\"}, {\"hoverinfo\": \"text\", \"marker\": {\"color\": \"rgb(0,116,217)\"}, \"mode\": \"lines\", \"type\": \"scatter\", \"x\": [0.0, 1.0059385299149597, 1.0059385299149597, 0.8449422469144411], \"xaxis\": \"x\", \"y\": [-105.0, -105.0, -122.5, -122.5], \"yaxis\": \"y\"}, {\"hoverinfo\": \"text\", \"marker\": {\"color\": \"rgb(40,35,35)\"}, \"mode\": \"lines\", \"type\": \"scatter\", \"x\": [0.0, 0.7527626759016867, 0.7527626759016867, 0.0], \"xaxis\": \"x\", \"y\": [-155.0, -155.0, -165.0, -165.0], \"yaxis\": \"y\"}, {\"hoverinfo\": \"text\", \"marker\": {\"color\": \"rgb(0,116,217)\"}, \"mode\": \"lines\", \"type\": \"scatter\", \"x\": [0.0, 1.1068564981953035, 1.1068564981953035, 0.7527626759016867], \"xaxis\": \"x\", \"y\": [-145.0, -145.0, -160.0, -160.0], \"yaxis\": \"y\"}, {\"hoverinfo\": \"text\", \"marker\": {\"color\": \"rgb(0,116,217)\"}, \"mode\": \"lines\", \"type\": \"scatter\", \"x\": [1.0059385299149597, 1.6014171287125722, 1.6014171287125722, 1.1068564981953035], \"xaxis\": \"x\", \"y\": [-113.75, -113.75, -152.5, -152.5], \"yaxis\": \"y\"}, {\"hoverinfo\": \"text\", \"marker\": {\"color\": \"rgb(61,153,112)\"}, \"mode\": \"lines\", \"type\": \"scatter\", \"x\": [0.0, 0.7632656079637195, 0.7632656079637195, 0.0], \"xaxis\": \"x\", \"y\": [-175.0, -175.0, -185.0, -185.0], \"yaxis\": \"y\"}, {\"hoverinfo\": \"text\", \"marker\": {\"color\": \"rgb(255,65,54)\"}, \"mode\": \"lines\", \"type\": \"scatter\", \"x\": [0.0, 0.9280736710379598, 0.9280736710379598, 0.0], \"xaxis\": \"x\", \"y\": [-205.0, -205.0, -215.0, -215.0], \"yaxis\": \"y\"}, {\"hoverinfo\": \"text\", \"marker\": {\"color\": \"rgb(0,116,217)\"}, \"mode\": \"lines\", \"type\": \"scatter\", \"x\": [0.0, 1.2073275868809756, 1.2073275868809756, 0.9280736710379598], \"xaxis\": \"x\", \"y\": [-195.0, -195.0, -210.0, -210.0], \"yaxis\": \"y\"}, {\"hoverinfo\": \"text\", \"marker\": {\"color\": \"rgb(0,116,217)\"}, \"mode\": \"lines\", \"type\": \"scatter\", \"x\": [0.7632656079637195, 1.7135583148293574, 1.7135583148293574, 1.2073275868809756], \"xaxis\": \"x\", \"y\": [-180.0, -180.0, -202.5, -202.5], \"yaxis\": \"y\"}, {\"hoverinfo\": \"text\", \"marker\": {\"color\": \"rgb(0,116,217)\"}, \"mode\": \"lines\", \"type\": \"scatter\", \"x\": [1.6014171287125722, 2.1930312844284345, 2.1930312844284345, 1.7135583148293574], \"xaxis\": \"x\", \"y\": [-133.125, -133.125, -191.25, -191.25], \"yaxis\": \"y\"}, {\"hoverinfo\": \"text\", \"marker\": {\"color\": \"rgb(0,116,217)\"}, \"mode\": \"lines\", \"type\": \"scatter\", \"x\": [1.8633175686765497, 2.336014379572637, 2.336014379572637, 2.1930312844284345], \"xaxis\": \"x\", \"y\": [-46.25, -46.25, -162.1875, -162.1875], \"yaxis\": \"y\"}, {\"hoverinfo\": \"text\", \"marker\": {\"color\": \"rgb(35,205,205)\"}, \"mode\": \"lines\", \"type\": \"scatter\", \"x\": [0.0, 0.6866181321683752, 0.6866181321683752, 0.0], \"xaxis\": \"x\", \"y\": [-225.0, -225.0, -235.0, -235.0], \"yaxis\": \"y\"}, {\"hoverinfo\": \"text\", \"marker\": {\"color\": \"rgb(0,116,217)\"}, \"mode\": \"lines\", \"type\": \"scatter\", \"x\": [0.0, 1.2123257749068779, 1.2123257749068779, 0.0], \"xaxis\": \"x\", \"y\": [-245.0, -245.0, -255.0, -255.0], \"yaxis\": \"y\"}, {\"hoverinfo\": \"text\", \"marker\": {\"color\": \"rgb(0,116,217)\"}, \"mode\": \"lines\", \"type\": \"scatter\", \"x\": [0.0, 1.061913205603293, 1.061913205603293, 0.0], \"xaxis\": \"x\", \"y\": [-285.0, -285.0, -295.0, -295.0], \"yaxis\": \"y\"}, {\"hoverinfo\": \"text\", \"marker\": {\"color\": \"rgb(0,116,217)\"}, \"mode\": \"lines\", \"type\": \"scatter\", \"x\": [0.0, 1.2396481530315375, 1.2396481530315375, 1.061913205603293], \"xaxis\": \"x\", \"y\": [-275.0, -275.0, -290.0, -290.0], \"yaxis\": \"y\"}, {\"hoverinfo\": \"text\", \"marker\": {\"color\": \"rgb(0,116,217)\"}, \"mode\": \"lines\", \"type\": \"scatter\", \"x\": [0.0, 1.382587163017425, 1.382587163017425, 1.2396481530315375], \"xaxis\": \"x\", \"y\": [-265.0, -265.0, -282.5, -282.5], \"yaxis\": \"y\"}, {\"hoverinfo\": \"text\", \"marker\": {\"color\": \"rgb(0,116,217)\"}, \"mode\": \"lines\", \"type\": \"scatter\", \"x\": [1.2123257749068779, 1.5437782788592331, 1.5437782788592331, 1.382587163017425], \"xaxis\": \"x\", \"y\": [-250.0, -250.0, -273.75, -273.75], \"yaxis\": \"y\"}, {\"hoverinfo\": \"text\", \"marker\": {\"color\": \"rgb(0,116,217)\"}, \"mode\": \"lines\", \"type\": \"scatter\", \"x\": [0.6866181321683752, 1.941221167556561, 1.941221167556561, 1.5437782788592331], \"xaxis\": \"x\", \"y\": [-230.0, -230.0, -261.875, -261.875], \"yaxis\": \"y\"}, {\"hoverinfo\": \"text\", \"marker\": {\"color\": \"rgb(133,20,75)\"}, \"mode\": \"lines\", \"type\": \"scatter\", \"x\": [0.0, 0.7013258292760031, 0.7013258292760031, 0.0], \"xaxis\": \"x\", \"y\": [-305.0, -305.0, -315.0, -315.0], \"yaxis\": \"y\"}, {\"hoverinfo\": \"text\", \"marker\": {\"color\": \"rgb(255,220,0)\"}, \"mode\": \"lines\", \"type\": \"scatter\", \"x\": [0.0, 0.7329343400632737, 0.7329343400632737, 0.0], \"xaxis\": \"x\", \"y\": [-335.0, -335.0, -345.0, -345.0], \"yaxis\": \"y\"}, {\"hoverinfo\": \"text\", \"marker\": {\"color\": \"rgb(0,116,217)\"}, \"mode\": \"lines\", \"type\": \"scatter\", \"x\": [0.0, 1.0522487891797314, 1.0522487891797314, 0.7329343400632737], \"xaxis\": \"x\", \"y\": [-325.0, -325.0, -340.0, -340.0], \"yaxis\": \"y\"}, {\"hoverinfo\": \"text\", \"marker\": {\"color\": \"rgb(40,35,35)\"}, \"mode\": \"lines\", \"type\": \"scatter\", \"x\": [0.0, 0.8699588524357369, 0.8699588524357369, 0.0], \"xaxis\": \"x\", \"y\": [-365.0, -365.0, -375.0, -375.0], \"yaxis\": \"y\"}, {\"hoverinfo\": \"text\", \"marker\": {\"color\": \"rgb(0,116,217)\"}, \"mode\": \"lines\", \"type\": \"scatter\", \"x\": [0.0, 1.1414114098959887, 1.1414114098959887, 0.8699588524357369], \"xaxis\": \"x\", \"y\": [-355.0, -355.0, -370.0, -370.0], \"yaxis\": \"y\"}, {\"hoverinfo\": \"text\", \"marker\": {\"color\": \"rgb(0,116,217)\"}, \"mode\": \"lines\", \"type\": \"scatter\", \"x\": [1.0522487891797314, 1.4899714099920054, 1.4899714099920054, 1.1414114098959887], \"xaxis\": \"x\", \"y\": [-332.5, -332.5, -362.5, -362.5], \"yaxis\": \"y\"}, {\"hoverinfo\": \"text\", \"marker\": {\"color\": \"rgb(0,116,217)\"}, \"mode\": \"lines\", \"type\": \"scatter\", \"x\": [0.7013258292760031, 2.046493242644081, 2.046493242644081, 1.4899714099920054], \"xaxis\": \"x\", \"y\": [-310.0, -310.0, -347.5, -347.5], \"yaxis\": \"y\"}, {\"hoverinfo\": \"text\", \"marker\": {\"color\": \"rgb(0,116,217)\"}, \"mode\": \"lines\", \"type\": \"scatter\", \"x\": [1.941221167556561, 3.013625764256891, 3.013625764256891, 2.046493242644081], \"xaxis\": \"x\", \"y\": [-245.9375, -245.9375, -328.75, -328.75], \"yaxis\": \"y\"}, {\"hoverinfo\": \"text\", \"marker\": {\"color\": \"rgb(0,116,217)\"}, \"mode\": \"lines\", \"type\": \"scatter\", \"x\": [2.336014379572637, 4.007202908600896, 4.007202908600896, 3.013625764256891], \"xaxis\": \"x\", \"y\": [-104.21875, -104.21875, -287.34375, -287.34375], \"yaxis\": \"y\"}],                        {\"autosize\": false, \"height\": 800, \"hoverlabel\": {\"bgcolor\": \"white\", \"font\": {\"family\": \"Rockwell\", \"size\": 16}}, \"hovermode\": \"closest\", \"plot_bgcolor\": \"#ECEFF1\", \"showlegend\": false, \"template\": {\"data\": {\"bar\": [{\"error_x\": {\"color\": \"#2a3f5f\"}, \"error_y\": {\"color\": \"#2a3f5f\"}, \"marker\": {\"line\": {\"color\": \"white\", \"width\": 0.5}}, \"type\": \"bar\"}], \"barpolar\": [{\"marker\": {\"line\": {\"color\": \"white\", \"width\": 0.5}}, \"type\": \"barpolar\"}], \"carpet\": [{\"aaxis\": {\"endlinecolor\": \"#2a3f5f\", \"gridcolor\": \"#C8D4E3\", \"linecolor\": \"#C8D4E3\", \"minorgridcolor\": \"#C8D4E3\", \"startlinecolor\": \"#2a3f5f\"}, \"baxis\": {\"endlinecolor\": \"#2a3f5f\", \"gridcolor\": \"#C8D4E3\", \"linecolor\": \"#C8D4E3\", \"minorgridcolor\": \"#C8D4E3\", \"startlinecolor\": \"#2a3f5f\"}, \"type\": \"carpet\"}], \"choropleth\": [{\"colorbar\": {\"outlinewidth\": 0, \"ticks\": \"\"}, \"type\": \"choropleth\"}], \"contour\": [{\"colorbar\": {\"outlinewidth\": 0, \"ticks\": \"\"}, \"colorscale\": [[0.0, \"#0d0887\"], [0.1111111111111111, \"#46039f\"], [0.2222222222222222, \"#7201a8\"], [0.3333333333333333, \"#9c179e\"], [0.4444444444444444, \"#bd3786\"], [0.5555555555555556, \"#d8576b\"], [0.6666666666666666, \"#ed7953\"], [0.7777777777777778, \"#fb9f3a\"], [0.8888888888888888, \"#fdca26\"], [1.0, \"#f0f921\"]], \"type\": \"contour\"}], \"contourcarpet\": [{\"colorbar\": {\"outlinewidth\": 0, \"ticks\": \"\"}, \"type\": \"contourcarpet\"}], \"heatmap\": [{\"colorbar\": {\"outlinewidth\": 0, \"ticks\": \"\"}, \"colorscale\": [[0.0, \"#0d0887\"], [0.1111111111111111, \"#46039f\"], [0.2222222222222222, \"#7201a8\"], [0.3333333333333333, \"#9c179e\"], [0.4444444444444444, \"#bd3786\"], [0.5555555555555556, \"#d8576b\"], [0.6666666666666666, \"#ed7953\"], [0.7777777777777778, \"#fb9f3a\"], [0.8888888888888888, \"#fdca26\"], [1.0, \"#f0f921\"]], \"type\": \"heatmap\"}], \"heatmapgl\": [{\"colorbar\": {\"outlinewidth\": 0, \"ticks\": \"\"}, \"colorscale\": [[0.0, \"#0d0887\"], [0.1111111111111111, \"#46039f\"], [0.2222222222222222, \"#7201a8\"], [0.3333333333333333, \"#9c179e\"], [0.4444444444444444, \"#bd3786\"], [0.5555555555555556, \"#d8576b\"], [0.6666666666666666, \"#ed7953\"], [0.7777777777777778, \"#fb9f3a\"], [0.8888888888888888, \"#fdca26\"], [1.0, \"#f0f921\"]], \"type\": \"heatmapgl\"}], \"histogram\": [{\"marker\": {\"colorbar\": {\"outlinewidth\": 0, \"ticks\": \"\"}}, \"type\": \"histogram\"}], \"histogram2d\": [{\"colorbar\": {\"outlinewidth\": 0, \"ticks\": \"\"}, \"colorscale\": [[0.0, \"#0d0887\"], [0.1111111111111111, \"#46039f\"], [0.2222222222222222, \"#7201a8\"], [0.3333333333333333, \"#9c179e\"], [0.4444444444444444, \"#bd3786\"], [0.5555555555555556, \"#d8576b\"], [0.6666666666666666, \"#ed7953\"], [0.7777777777777778, \"#fb9f3a\"], [0.8888888888888888, \"#fdca26\"], [1.0, \"#f0f921\"]], \"type\": \"histogram2d\"}], \"histogram2dcontour\": [{\"colorbar\": {\"outlinewidth\": 0, \"ticks\": \"\"}, \"colorscale\": [[0.0, \"#0d0887\"], [0.1111111111111111, \"#46039f\"], [0.2222222222222222, \"#7201a8\"], [0.3333333333333333, \"#9c179e\"], [0.4444444444444444, \"#bd3786\"], [0.5555555555555556, \"#d8576b\"], [0.6666666666666666, \"#ed7953\"], [0.7777777777777778, \"#fb9f3a\"], [0.8888888888888888, \"#fdca26\"], [1.0, \"#f0f921\"]], \"type\": \"histogram2dcontour\"}], \"mesh3d\": [{\"colorbar\": {\"outlinewidth\": 0, \"ticks\": \"\"}, \"type\": \"mesh3d\"}], \"parcoords\": [{\"line\": {\"colorbar\": {\"outlinewidth\": 0, \"ticks\": \"\"}}, \"type\": \"parcoords\"}], \"pie\": [{\"automargin\": true, \"type\": \"pie\"}], \"scatter\": [{\"marker\": {\"colorbar\": {\"outlinewidth\": 0, \"ticks\": \"\"}}, \"type\": \"scatter\"}], \"scatter3d\": [{\"line\": {\"colorbar\": {\"outlinewidth\": 0, \"ticks\": \"\"}}, \"marker\": {\"colorbar\": {\"outlinewidth\": 0, \"ticks\": \"\"}}, \"type\": \"scatter3d\"}], \"scattercarpet\": [{\"marker\": {\"colorbar\": {\"outlinewidth\": 0, \"ticks\": \"\"}}, \"type\": \"scattercarpet\"}], \"scattergeo\": [{\"marker\": {\"colorbar\": {\"outlinewidth\": 0, \"ticks\": \"\"}}, \"type\": \"scattergeo\"}], \"scattergl\": [{\"marker\": {\"colorbar\": {\"outlinewidth\": 0, \"ticks\": \"\"}}, \"type\": \"scattergl\"}], \"scattermapbox\": [{\"marker\": {\"colorbar\": {\"outlinewidth\": 0, \"ticks\": \"\"}}, \"type\": \"scattermapbox\"}], \"scatterpolar\": [{\"marker\": {\"colorbar\": {\"outlinewidth\": 0, \"ticks\": \"\"}}, \"type\": \"scatterpolar\"}], \"scatterpolargl\": [{\"marker\": {\"colorbar\": {\"outlinewidth\": 0, \"ticks\": \"\"}}, \"type\": \"scatterpolargl\"}], \"scatterternary\": [{\"marker\": {\"colorbar\": {\"outlinewidth\": 0, \"ticks\": \"\"}}, \"type\": \"scatterternary\"}], \"surface\": [{\"colorbar\": {\"outlinewidth\": 0, \"ticks\": \"\"}, \"colorscale\": [[0.0, \"#0d0887\"], [0.1111111111111111, \"#46039f\"], [0.2222222222222222, \"#7201a8\"], [0.3333333333333333, \"#9c179e\"], [0.4444444444444444, \"#bd3786\"], [0.5555555555555556, \"#d8576b\"], [0.6666666666666666, \"#ed7953\"], [0.7777777777777778, \"#fb9f3a\"], [0.8888888888888888, \"#fdca26\"], [1.0, \"#f0f921\"]], \"type\": \"surface\"}], \"table\": [{\"cells\": {\"fill\": {\"color\": \"#EBF0F8\"}, \"line\": {\"color\": \"white\"}}, \"header\": {\"fill\": {\"color\": \"#C8D4E3\"}, \"line\": {\"color\": \"white\"}}, \"type\": \"table\"}]}, \"layout\": {\"annotationdefaults\": {\"arrowcolor\": \"#2a3f5f\", \"arrowhead\": 0, \"arrowwidth\": 1}, \"coloraxis\": {\"colorbar\": {\"outlinewidth\": 0, \"ticks\": \"\"}}, \"colorscale\": {\"diverging\": [[0, \"#8e0152\"], [0.1, \"#c51b7d\"], [0.2, \"#de77ae\"], [0.3, \"#f1b6da\"], [0.4, \"#fde0ef\"], [0.5, \"#f7f7f7\"], [0.6, \"#e6f5d0\"], [0.7, \"#b8e186\"], [0.8, \"#7fbc41\"], [0.9, \"#4d9221\"], [1, \"#276419\"]], \"sequential\": [[0.0, \"#0d0887\"], [0.1111111111111111, \"#46039f\"], [0.2222222222222222, \"#7201a8\"], [0.3333333333333333, \"#9c179e\"], [0.4444444444444444, \"#bd3786\"], [0.5555555555555556, \"#d8576b\"], [0.6666666666666666, \"#ed7953\"], [0.7777777777777778, \"#fb9f3a\"], [0.8888888888888888, \"#fdca26\"], [1.0, \"#f0f921\"]], \"sequentialminus\": [[0.0, \"#0d0887\"], [0.1111111111111111, \"#46039f\"], [0.2222222222222222, \"#7201a8\"], [0.3333333333333333, \"#9c179e\"], [0.4444444444444444, \"#bd3786\"], [0.5555555555555556, \"#d8576b\"], [0.6666666666666666, \"#ed7953\"], [0.7777777777777778, \"#fb9f3a\"], [0.8888888888888888, \"#fdca26\"], [1.0, \"#f0f921\"]]}, \"colorway\": [\"#636efa\", \"#EF553B\", \"#00cc96\", \"#ab63fa\", \"#FFA15A\", \"#19d3f3\", \"#FF6692\", \"#B6E880\", \"#FF97FF\", \"#FECB52\"], \"font\": {\"color\": \"#2a3f5f\"}, \"geo\": {\"bgcolor\": \"white\", \"lakecolor\": \"white\", \"landcolor\": \"white\", \"showlakes\": true, \"showland\": true, \"subunitcolor\": \"#C8D4E3\"}, \"hoverlabel\": {\"align\": \"left\"}, \"hovermode\": \"closest\", \"mapbox\": {\"style\": \"light\"}, \"paper_bgcolor\": \"white\", \"plot_bgcolor\": \"white\", \"polar\": {\"angularaxis\": {\"gridcolor\": \"#EBF0F8\", \"linecolor\": \"#EBF0F8\", \"ticks\": \"\"}, \"bgcolor\": \"white\", \"radialaxis\": {\"gridcolor\": \"#EBF0F8\", \"linecolor\": \"#EBF0F8\", \"ticks\": \"\"}}, \"scene\": {\"xaxis\": {\"backgroundcolor\": \"white\", \"gridcolor\": \"#DFE8F3\", \"gridwidth\": 2, \"linecolor\": \"#EBF0F8\", \"showbackground\": true, \"ticks\": \"\", \"zerolinecolor\": \"#EBF0F8\"}, \"yaxis\": {\"backgroundcolor\": \"white\", \"gridcolor\": \"#DFE8F3\", \"gridwidth\": 2, \"linecolor\": \"#EBF0F8\", \"showbackground\": true, \"ticks\": \"\", \"zerolinecolor\": \"#EBF0F8\"}, \"zaxis\": {\"backgroundcolor\": \"white\", \"gridcolor\": \"#DFE8F3\", \"gridwidth\": 2, \"linecolor\": \"#EBF0F8\", \"showbackground\": true, \"ticks\": \"\", \"zerolinecolor\": \"#EBF0F8\"}}, \"shapedefaults\": {\"line\": {\"color\": \"#2a3f5f\"}}, \"ternary\": {\"aaxis\": {\"gridcolor\": \"#DFE8F3\", \"linecolor\": \"#A2B1C6\", \"ticks\": \"\"}, \"baxis\": {\"gridcolor\": \"#DFE8F3\", \"linecolor\": \"#A2B1C6\", \"ticks\": \"\"}, \"bgcolor\": \"white\", \"caxis\": {\"gridcolor\": \"#DFE8F3\", \"linecolor\": \"#A2B1C6\", \"ticks\": \"\"}}, \"title\": {\"x\": 0.05}, \"xaxis\": {\"automargin\": true, \"gridcolor\": \"#EBF0F8\", \"linecolor\": \"#EBF0F8\", \"ticks\": \"\", \"title\": {\"standoff\": 15}, \"zerolinecolor\": \"#EBF0F8\", \"zerolinewidth\": 2}, \"yaxis\": {\"automargin\": true, \"gridcolor\": \"#EBF0F8\", \"linecolor\": \"#EBF0F8\", \"ticks\": \"\", \"title\": {\"standoff\": 15}, \"zerolinecolor\": \"#EBF0F8\", \"zerolinewidth\": 2}}}, \"title\": {\"font\": {\"color\": \"Black\", \"size\": 22}, \"text\": \"<b>Hierarchical Clustering\", \"x\": 0.5, \"xanchor\": \"center\", \"y\": 0.95, \"yanchor\": \"top\"}, \"width\": 600, \"xaxis\": {\"mirror\": \"allticks\", \"rangemode\": \"tozero\", \"showgrid\": false, \"showline\": true, \"showticklabels\": true, \"ticks\": \"outside\", \"type\": \"linear\", \"zeroline\": false}, \"yaxis\": {\"mirror\": \"allticks\", \"rangemode\": \"tozero\", \"showgrid\": false, \"showline\": true, \"showticklabels\": true, \"tickmode\": \"array\", \"ticks\": \"outside\", \"ticktext\": [\"15_hours_message_01908\", \"32_password_reset_confirm\", \"14_doors_blinds_windows\", \"9_personal_vacuum_hotels\", \"35_space_storage_office\", \"-1_services_business_manage...\", \"0_business_services_digital\", \"18_logistics_freight_courier\", \"1_hsbcad_licensee_construct...\", \"31_safety_logistics_nrc\", \"7_recruitment_candidates_jobs\", \"10_club_camps_camp\", \"23_courses_students_training\", \"36_school_malvern_academy\", \"19_church_prayer_christian\", \"16_care_living_respite\", \"29_support_children_charity\", \"5_property_rent_estate\", \"24_stables_village_hotel\", \"30_mortgage_mortgages_finan...\", \"4_business_accounting_accou...\", \"17_solicitors_legal_mediation\", \"20_clinic_massage_acupuncture\", \"21_skin_treatments_treatment\", \"8_shop_incense_wedding\", \"28_wedding_bridal_dress\", \"22_printing_print_printers\", \"3_food_menu_sauce\", \"27_hair_salon_tanning\", \"33_dog_dogs_breeding\", \"2_car_vehicle_cars\", \"26_taxi_airport_taxis\", \"25_fibre_carbon_wireless\", \"6_sensor_cnc_sensors\", \"13_electrical_security_elec...\", \"34_roofing_roof_chimney\", \"11_heating_plumbing_boiler\", \"12_cleaning_clean_window\"], \"tickvals\": [-5.0, -15.0, -25.0, -35.0, -45.0, -55.0, -65.0, -75.0, -85.0, -95.0, -105.0, -115.0, -125.0, -135.0, -145.0, -155.0, -165.0, -175.0, -185.0, -195.0, -205.0, -215.0, -225.0, -235.0, -245.0, -255.0, -265.0, -275.0, -285.0, -295.0, -305.0, -315.0, -325.0, -335.0, -345.0, -355.0, -365.0, -375.0], \"type\": \"linear\", \"zeroline\": false}},                        {\"responsive\": true}                    ).then(function(){\n",
       "                            \n",
       "var gd = document.getElementById('0b36a021-93de-4864-b678-2254c574f8e8');\n",
       "var x = new MutationObserver(function (mutations, observer) {{\n",
       "        var display = window.getComputedStyle(gd).display;\n",
       "        if (!display || display === 'none') {{\n",
       "            console.log([gd, 'removed!']);\n",
       "            Plotly.purge(gd);\n",
       "            observer.disconnect();\n",
       "        }}\n",
       "}});\n",
       "\n",
       "// Listen for the removal of the full notebook cells\n",
       "var notebookContainer = gd.closest('#notebook-container');\n",
       "if (notebookContainer) {{\n",
       "    x.observe(notebookContainer, {childList: true});\n",
       "}}\n",
       "\n",
       "// Listen for the clearing of the current output cell\n",
       "var outputEl = gd.closest('.output');\n",
       "if (outputEl) {{\n",
       "    x.observe(outputEl, {childList: true});\n",
       "}}\n",
       "\n",
       "                        })                };                });            </script>        </div>"
      ]
     },
     "metadata": {},
     "output_type": "display_data"
    }
   ],
   "source": [
    "topic_model.visualize_hierarchy(height=800, width=600, orientation=\"left\")"
   ]
  },
  {
   "cell_type": "code",
   "execution_count": 81,
   "metadata": {
    "scrolled": false
   },
   "outputs": [
    {
     "data": {
      "text/html": [
       "<div>\n",
       "<style scoped>\n",
       "    .dataframe tbody tr th:only-of-type {\n",
       "        vertical-align: middle;\n",
       "    }\n",
       "\n",
       "    .dataframe tbody tr th {\n",
       "        vertical-align: top;\n",
       "    }\n",
       "\n",
       "    .dataframe thead th {\n",
       "        text-align: right;\n",
       "    }\n",
       "</style>\n",
       "<table border=\"1\" class=\"dataframe\">\n",
       "  <thead>\n",
       "    <tr style=\"text-align: right;\">\n",
       "      <th></th>\n",
       "      <th>Topic Id</th>\n",
       "      <th>Count</th>\n",
       "      <th>10 most representative words</th>\n",
       "    </tr>\n",
       "  </thead>\n",
       "  <tbody>\n",
       "    <tr>\n",
       "      <th>0</th>\n",
       "      <td>-1</td>\n",
       "      <td>729</td>\n",
       "      <td>services, business, management, policy, systems, visit, information, email, courses, customers</td>\n",
       "    </tr>\n",
       "    <tr>\n",
       "      <th>1</th>\n",
       "      <td>0</td>\n",
       "      <td>164</td>\n",
       "      <td>business, services, digital, marketing, management, cloud, software, clients, web, automation</td>\n",
       "    </tr>\n",
       "    <tr>\n",
       "      <th>2</th>\n",
       "      <td>1</td>\n",
       "      <td>87</td>\n",
       "      <td>hsbcad, licensee, construction, licensed, projects, property, residential, landscaping, licensees, surveyors</td>\n",
       "    </tr>\n",
       "    <tr>\n",
       "      <th>3</th>\n",
       "      <td>2</td>\n",
       "      <td>86</td>\n",
       "      <td>car, vehicle, cars, mercedes, tyres, tyre, benz, vehicles, volkswagen, kia</td>\n",
       "    </tr>\n",
       "    <tr>\n",
       "      <th>4</th>\n",
       "      <td>3</td>\n",
       "      <td>71</td>\n",
       "      <td>food, menu, sauce, chicken, roast, dishes, pizza, restaurant, delicious, beef</td>\n",
       "    </tr>\n",
       "    <tr>\n",
       "      <th>5</th>\n",
       "      <td>4</td>\n",
       "      <td>66</td>\n",
       "      <td>business, accounting, accountants, accountancy, accounts, financial, clients, accountant, finance, audit</td>\n",
       "    </tr>\n",
       "    <tr>\n",
       "      <th>6</th>\n",
       "      <td>5</td>\n",
       "      <td>64</td>\n",
       "      <td>property, rent, estate, house, landlords, tenants, tenant, landlord, bedrooms, sell</td>\n",
       "    </tr>\n",
       "    <tr>\n",
       "      <th>7</th>\n",
       "      <td>6</td>\n",
       "      <td>58</td>\n",
       "      <td>sensor, cnc, sensors, forklift, machining, machines, welding, photoelectric, metal, inspection</td>\n",
       "    </tr>\n",
       "    <tr>\n",
       "      <th>8</th>\n",
       "      <td>7</td>\n",
       "      <td>53</td>\n",
       "      <td>recruitment, candidates, jobs, job, manager, recruit, employee, clients, vacancies, salary</td>\n",
       "    </tr>\n",
       "    <tr>\n",
       "      <th>9</th>\n",
       "      <td>8</td>\n",
       "      <td>52</td>\n",
       "      <td>shop, incense, wedding, accessories, wish, brands, art, clothing, womens, bridesmaids</td>\n",
       "    </tr>\n",
       "    <tr>\n",
       "      <th>10</th>\n",
       "      <td>9</td>\n",
       "      <td>40</td>\n",
       "      <td>personal, vacuum, hotels, gift, information, privacy, home, furniture, web, 899</td>\n",
       "    </tr>\n",
       "    <tr>\n",
       "      <th>11</th>\n",
       "      <td>10</td>\n",
       "      <td>38</td>\n",
       "      <td>club, camps, camp, classes, training, membership, gym, sports, rooms, clubs</td>\n",
       "    </tr>\n",
       "    <tr>\n",
       "      <th>12</th>\n",
       "      <td>11</td>\n",
       "      <td>37</td>\n",
       "      <td>heating, plumbing, boiler, gas, engineers, boilers, repairs, plumber, radiators, plumbers</td>\n",
       "    </tr>\n",
       "    <tr>\n",
       "      <th>13</th>\n",
       "      <td>12</td>\n",
       "      <td>37</td>\n",
       "      <td>cleaning, clean, window, cleaner, removals, cleaners, cleans, cleaned, removal, washing</td>\n",
       "    </tr>\n",
       "    <tr>\n",
       "      <th>14</th>\n",
       "      <td>13</td>\n",
       "      <td>36</td>\n",
       "      <td>electrical, security, electrician, alarms, electricians, alarm, emergency, safety, extinguishers, electrics</td>\n",
       "    </tr>\n",
       "    <tr>\n",
       "      <th>15</th>\n",
       "      <td>14</td>\n",
       "      <td>32</td>\n",
       "      <td>doors, blinds, windows, door, window, hardwood, curtains, wood, showroom, glass</td>\n",
       "    </tr>\n",
       "    <tr>\n",
       "      <th>16</th>\n",
       "      <td>15</td>\n",
       "      <td>31</td>\n",
       "      <td>hours, message, 01908, 600, testimonials, table, appointment, pm, updates, order</td>\n",
       "    </tr>\n",
       "    <tr>\n",
       "      <th>17</th>\n",
       "      <td>16</td>\n",
       "      <td>30</td>\n",
       "      <td>care, living, respite, residents, dementia, carers, assistance, resident, disability, caring</td>\n",
       "    </tr>\n",
       "    <tr>\n",
       "      <th>18</th>\n",
       "      <td>17</td>\n",
       "      <td>25</td>\n",
       "      <td>solicitors, legal, mediation, clients, disputes, litigation, divorce, dispute, solicitor, issues</td>\n",
       "    </tr>\n",
       "    <tr>\n",
       "      <th>19</th>\n",
       "      <td>18</td>\n",
       "      <td>24</td>\n",
       "      <td>logistics, freight, courier, transport, delivery, parcel, shipping, express, cargo, dumps</td>\n",
       "    </tr>\n",
       "    <tr>\n",
       "      <th>20</th>\n",
       "      <td>19</td>\n",
       "      <td>23</td>\n",
       "      <td>church, prayer, christian, community, ministry, worship, christ, fellowship, faith, churches</td>\n",
       "    </tr>\n",
       "    <tr>\n",
       "      <th>21</th>\n",
       "      <td>20</td>\n",
       "      <td>22</td>\n",
       "      <td>clinic, massage, acupuncture, therapy, chiropractic, physiotherapy, pilates, treatments, treatment, therapist</td>\n",
       "    </tr>\n",
       "    <tr>\n",
       "      <th>22</th>\n",
       "      <td>21</td>\n",
       "      <td>21</td>\n",
       "      <td>skin, treatments, treatment, facial, brow, facials, acne, face, peel, appointment</td>\n",
       "    </tr>\n",
       "    <tr>\n",
       "      <th>23</th>\n",
       "      <td>22</td>\n",
       "      <td>21</td>\n",
       "      <td>printing, print, printers, printer, cartridges, doneck, format, google, printed, inks</td>\n",
       "    </tr>\n",
       "    <tr>\n",
       "      <th>24</th>\n",
       "      <td>23</td>\n",
       "      <td>20</td>\n",
       "      <td>courses, students, training, cpfi, counselling, student, skills, college, tuition, seminar</td>\n",
       "    </tr>\n",
       "    <tr>\n",
       "      <th>25</th>\n",
       "      <td>24</td>\n",
       "      <td>19</td>\n",
       "      <td>stables, village, hotel, home, manor, farmhouse, lodge, cottage, accommodation, house</td>\n",
       "    </tr>\n",
       "    <tr>\n",
       "      <th>26</th>\n",
       "      <td>25</td>\n",
       "      <td>19</td>\n",
       "      <td>fibre, carbon, wireless, cable, ghz, cords, renewable, panels, cables, cctv</td>\n",
       "    </tr>\n",
       "    <tr>\n",
       "      <th>27</th>\n",
       "      <td>26</td>\n",
       "      <td>17</td>\n",
       "      <td>taxi, airport, taxis, transfers, drivers, vehicles, cab, cars, travel, airports</td>\n",
       "    </tr>\n",
       "    <tr>\n",
       "      <th>28</th>\n",
       "      <td>27</td>\n",
       "      <td>16</td>\n",
       "      <td>hair, salon, tanning, hairdressing, waxing, barbershop, cut, nail, dollshouse, straightening</td>\n",
       "    </tr>\n",
       "    <tr>\n",
       "      <th>29</th>\n",
       "      <td>28</td>\n",
       "      <td>16</td>\n",
       "      <td>wedding, bridal, dress, suits, dresses, bride, wear, suit, brides, weddings</td>\n",
       "    </tr>\n",
       "    <tr>\n",
       "      <th>30</th>\n",
       "      <td>29</td>\n",
       "      <td>15</td>\n",
       "      <td>support, children, charity, donate, adoption, families, counselling, aid, fundraising, family</td>\n",
       "    </tr>\n",
       "    <tr>\n",
       "      <th>31</th>\n",
       "      <td>30</td>\n",
       "      <td>15</td>\n",
       "      <td>mortgage, mortgages, financial, insurance, remortgage, finance, loans, lenders, adviser, repayments</td>\n",
       "    </tr>\n",
       "    <tr>\n",
       "      <th>32</th>\n",
       "      <td>31</td>\n",
       "      <td>14</td>\n",
       "      <td>safety, logistics, nrc, lgi, protection, services, risk, dangerous, safesmart, emergency</td>\n",
       "    </tr>\n",
       "    <tr>\n",
       "      <th>33</th>\n",
       "      <td>32</td>\n",
       "      <td>13</td>\n",
       "      <td>password, reset, confirm, email, pizza, bookings, cancellation, beard, food, barbers</td>\n",
       "    </tr>\n",
       "    <tr>\n",
       "      <th>34</th>\n",
       "      <td>33</td>\n",
       "      <td>13</td>\n",
       "      <td>dog, dogs, breeding, pet, groomers, grooming, puppy, odour, pawty, canine</td>\n",
       "    </tr>\n",
       "    <tr>\n",
       "      <th>35</th>\n",
       "      <td>34</td>\n",
       "      <td>12</td>\n",
       "      <td>roofing, roof, chimney, guttering, roofs, scaffolding, slating, leadwork, repairs, aluminium</td>\n",
       "    </tr>\n",
       "    <tr>\n",
       "      <th>36</th>\n",
       "      <td>35</td>\n",
       "      <td>10</td>\n",
       "      <td>space, storage, office, flexspace, rooms, offices, location, cable, indoor, facilities</td>\n",
       "    </tr>\n",
       "    <tr>\n",
       "      <th>37</th>\n",
       "      <td>36</td>\n",
       "      <td>10</td>\n",
       "      <td>school, malvern, academy, students, brighton, learn, curriculum, admissions, london, education</td>\n",
       "    </tr>\n",
       "  </tbody>\n",
       "</table>\n",
       "</div>"
      ],
      "text/plain": [
       "    Topic Id  Count  \\\n",
       "0         -1    729   \n",
       "1          0    164   \n",
       "2          1     87   \n",
       "3          2     86   \n",
       "4          3     71   \n",
       "5          4     66   \n",
       "6          5     64   \n",
       "7          6     58   \n",
       "8          7     53   \n",
       "9          8     52   \n",
       "10         9     40   \n",
       "11        10     38   \n",
       "12        11     37   \n",
       "13        12     37   \n",
       "14        13     36   \n",
       "15        14     32   \n",
       "16        15     31   \n",
       "17        16     30   \n",
       "18        17     25   \n",
       "19        18     24   \n",
       "20        19     23   \n",
       "21        20     22   \n",
       "22        21     21   \n",
       "23        22     21   \n",
       "24        23     20   \n",
       "25        24     19   \n",
       "26        25     19   \n",
       "27        26     17   \n",
       "28        27     16   \n",
       "29        28     16   \n",
       "30        29     15   \n",
       "31        30     15   \n",
       "32        31     14   \n",
       "33        32     13   \n",
       "34        33     13   \n",
       "35        34     12   \n",
       "36        35     10   \n",
       "37        36     10   \n",
       "\n",
       "                                                                                     10 most representative words  \n",
       "0                  services, business, management, policy, systems, visit, information, email, courses, customers  \n",
       "1                   business, services, digital, marketing, management, cloud, software, clients, web, automation  \n",
       "2    hsbcad, licensee, construction, licensed, projects, property, residential, landscaping, licensees, surveyors  \n",
       "3                                      car, vehicle, cars, mercedes, tyres, tyre, benz, vehicles, volkswagen, kia  \n",
       "4                                   food, menu, sauce, chicken, roast, dishes, pizza, restaurant, delicious, beef  \n",
       "5        business, accounting, accountants, accountancy, accounts, financial, clients, accountant, finance, audit  \n",
       "6                             property, rent, estate, house, landlords, tenants, tenant, landlord, bedrooms, sell  \n",
       "7                  sensor, cnc, sensors, forklift, machining, machines, welding, photoelectric, metal, inspection  \n",
       "8                      recruitment, candidates, jobs, job, manager, recruit, employee, clients, vacancies, salary  \n",
       "9                           shop, incense, wedding, accessories, wish, brands, art, clothing, womens, bridesmaids  \n",
       "10                                personal, vacuum, hotels, gift, information, privacy, home, furniture, web, 899  \n",
       "11                                    club, camps, camp, classes, training, membership, gym, sports, rooms, clubs  \n",
       "12                      heating, plumbing, boiler, gas, engineers, boilers, repairs, plumber, radiators, plumbers  \n",
       "13                        cleaning, clean, window, cleaner, removals, cleaners, cleans, cleaned, removal, washing  \n",
       "14    electrical, security, electrician, alarms, electricians, alarm, emergency, safety, extinguishers, electrics  \n",
       "15                                doors, blinds, windows, door, window, hardwood, curtains, wood, showroom, glass  \n",
       "16                               hours, message, 01908, 600, testimonials, table, appointment, pm, updates, order  \n",
       "17                   care, living, respite, residents, dementia, carers, assistance, resident, disability, caring  \n",
       "18               solicitors, legal, mediation, clients, disputes, litigation, divorce, dispute, solicitor, issues  \n",
       "19                      logistics, freight, courier, transport, delivery, parcel, shipping, express, cargo, dumps  \n",
       "20                   church, prayer, christian, community, ministry, worship, christ, fellowship, faith, churches  \n",
       "21  clinic, massage, acupuncture, therapy, chiropractic, physiotherapy, pilates, treatments, treatment, therapist  \n",
       "22                              skin, treatments, treatment, facial, brow, facials, acne, face, peel, appointment  \n",
       "23                          printing, print, printers, printer, cartridges, doneck, format, google, printed, inks  \n",
       "24                     courses, students, training, cpfi, counselling, student, skills, college, tuition, seminar  \n",
       "25                          stables, village, hotel, home, manor, farmhouse, lodge, cottage, accommodation, house  \n",
       "26                                    fibre, carbon, wireless, cable, ghz, cords, renewable, panels, cables, cctv  \n",
       "27                                taxi, airport, taxis, transfers, drivers, vehicles, cab, cars, travel, airports  \n",
       "28                   hair, salon, tanning, hairdressing, waxing, barbershop, cut, nail, dollshouse, straightening  \n",
       "29                                    wedding, bridal, dress, suits, dresses, bride, wear, suit, brides, weddings  \n",
       "30                  support, children, charity, donate, adoption, families, counselling, aid, fundraising, family  \n",
       "31            mortgage, mortgages, financial, insurance, remortgage, finance, loans, lenders, adviser, repayments  \n",
       "32                       safety, logistics, nrc, lgi, protection, services, risk, dangerous, safesmart, emergency  \n",
       "33                           password, reset, confirm, email, pizza, bookings, cancellation, beard, food, barbers  \n",
       "34                                      dog, dogs, breeding, pet, groomers, grooming, puppy, odour, pawty, canine  \n",
       "35                   roofing, roof, chimney, guttering, roofs, scaffolding, slating, leadwork, repairs, aluminium  \n",
       "36                         space, storage, office, flexspace, rooms, offices, location, cable, indoor, facilities  \n",
       "37                 school, malvern, academy, students, brighton, learn, curriculum, admissions, london, education  "
      ]
     },
     "metadata": {},
     "output_type": "display_data"
    }
   ],
   "source": [
    "categories = pd.DataFrame.from_dict(topic_model.get_topics(), orient=\"index\")\n",
    "categories.reset_index(inplace=True)\n",
    "categories.head()\n",
    "\n",
    "for i in categories.index:\n",
    "    ch = \"\"\n",
    "    for c in categories.columns:\n",
    "        if type(c) == int:\n",
    "            ch = ch + categories.loc[i, c][0] + \", \"\n",
    "    ch = ch[:-2]\n",
    "    categories.loc[i, \"terms\"] = ch\n",
    "\n",
    "topic_results = pd.merge(\n",
    "    categories[[\"index\", \"terms\"]],\n",
    "    counts[[\"Topic\", \"Count\"]],\n",
    "    left_on=\"index\",\n",
    "    right_on=\"Topic\",\n",
    ")\n",
    "topic_results = topic_results.rename(\n",
    "    columns={\"terms\": \"10 most representative words\", \"Topic\": \"Topic Id\"}\n",
    ").drop(columns=[\"index\"])\n",
    "topic_results = topic_results[[\"Topic Id\", \"Count\", \"10 most representative words\"]]\n",
    "topic_results.style.set_properties(\n",
    "    subset=[\"10 most representative words\"], **{\"width\": \"40px\"}\n",
    ")\n",
    "\n",
    "from pandas import option_context\n",
    "\n",
    "with option_context(\"display.max_colwidth\", 500):\n",
    "    display(topic_results)"
   ]
  },
  {
   "cell_type": "code",
   "execution_count": 82,
   "metadata": {},
   "outputs": [],
   "source": [
    "html[\"Category\"] = topics"
   ]
  },
  {
   "cell_type": "code",
   "execution_count": 84,
   "metadata": {},
   "outputs": [],
   "source": [
    "# html.to_csv('/Users/cordiez/Documents/CompaniesHouse/OutputFiles/companieshouse_clusters.csv')"
   ]
  },
  {
   "cell_type": "code",
   "execution_count": 351,
   "metadata": {},
   "outputs": [
    {
     "data": {
      "application/vnd.plotly.v1+json": {
       "config": {
        "plotlyServerURL": "https://plot.ly"
       },
       "data": [
        {
         "hovertext": "<b>Topic -1</b>:services_business_management_2021_",
         "line": {
          "color": "black",
          "width": 1.5
         },
         "mode": "lines+lines",
         "name": "",
         "opacity": 0.1,
         "type": "scatter",
         "x": [
          1,
          2,
          3,
          4,
          5,
          6,
          7,
          8,
          9,
          10
         ],
         "y": [
          -2.050192292787338,
          -2.139435126404111,
          -2.148793350287438,
          -2.159086218373584,
          -2.175769864115722,
          -2.288377085845771,
          -2.2900599831165684,
          -2.299776651382863,
          -2.303547055494818,
          -2.3068513395261525
         ]
        },
        {
         "hovertext": "<b>Topic 0</b>:services_courses_cloud_software_web",
         "line": {
          "color": "black",
          "width": 1.5
         },
         "mode": "lines+lines",
         "name": "",
         "opacity": 0.1,
         "type": "scatter",
         "x": [
          1,
          2,
          3,
          4,
          5,
          6,
          7,
          8,
          9,
          10
         ],
         "y": [
          -1.8113390626187778,
          -1.8225513886460103,
          -1.8471407507440696,
          -1.9462759482823102,
          -1.9982747568122747,
          -2.033794410283853,
          -2.0353800585608535,
          -2.0456167754813808,
          -2.102001566594619,
          -2.103617060352257
         ]
        },
        {
         "hovertext": "<b>Topic 1</b>:car_vehicle_cars_mercedes_tyres_tyr",
         "line": {
          "color": "black",
          "width": 1.5
         },
         "mode": "lines+lines",
         "name": "",
         "opacity": 0.1,
         "type": "scatter",
         "x": [
          1,
          2,
          3,
          4,
          5,
          6,
          7,
          8,
          9,
          10
         ],
         "y": [
          -1.3522992832674654,
          -1.4762546392261653,
          -1.6159605364607807,
          -1.6577293430902995,
          -1.7092844993832879,
          -1.7480809063672522,
          -1.8429032608451965,
          -1.9632173167920157,
          -1.9641801655018403,
          -2.0521125946799432
         ]
        },
        {
         "hovertext": "<b>Topic 2</b>:shop_wedding_incense_hair_accessori",
         "line": {
          "color": "black",
          "width": 1.5
         },
         "mode": "lines+lines",
         "name": "",
         "opacity": 0.1,
         "type": "scatter",
         "x": [
          1,
          2,
          3,
          4,
          5,
          6,
          7,
          8,
          9,
          10
         ],
         "y": [
          -1.5536838632246344,
          -1.5689822445517607,
          -1.8307645186861294,
          -1.848111411978766,
          -1.9106400051951515,
          -1.9991818950613842,
          -2.0216785699641946,
          -2.03421087719002,
          -2.046276092499494,
          -2.074403017200023
         ]
        },
        {
         "hovertext": "<b>Topic 3</b>:food_menu_sauce_chicken_roast_dishe",
         "line": {
          "color": "black",
          "width": 1.5
         },
         "mode": "lines+lines",
         "name": "",
         "opacity": 0.1,
         "type": "scatter",
         "x": [
          1,
          2,
          3,
          4,
          5,
          6,
          7,
          8,
          9,
          10
         ],
         "y": [
          -1.472700469646857,
          -1.551136255675848,
          -1.5695045748063048,
          -1.5871894977930816,
          -1.8156491399776271,
          -1.8658652914080331,
          -1.8860686023256008,
          -1.8995059907711296,
          -1.9382808612465985,
          -1.9559824803315773
         ]
        },
        {
         "hovertext": "<b>Topic 4</b>:business_accounting_accountants_acc",
         "line": {
          "color": "black",
          "width": 1.5
         },
         "mode": "lines+lines",
         "name": "",
         "opacity": 0.1,
         "type": "scatter",
         "x": [
          1,
          2,
          3,
          4,
          5,
          6,
          7,
          8,
          9,
          10
         ],
         "y": [
          -1.3376755749621012,
          -1.4169553383468796,
          -1.4324475207871077,
          -1.4909683312839865,
          -1.6480900300976646,
          -1.7392649460451095,
          -1.8299737854334497,
          -1.863278861110004,
          -1.8944785441094438,
          -1.9528622553084705
         ]
        },
        {
         "hovertext": "<b>Topic 5</b>:sensor_sensors_machining_machines_a",
         "line": {
          "color": "black",
          "width": 1.5
         },
         "mode": "lines+lines",
         "name": "",
         "opacity": 0.1,
         "type": "scatter",
         "x": [
          1,
          2,
          3,
          4,
          5,
          6,
          7,
          8,
          9,
          10
         ],
         "y": [
          -1.614284964216139,
          -1.7577237197127953,
          -1.8938523826258267,
          -1.9309423105382861,
          -1.9343447063752772,
          -1.9438340105770926,
          -1.9479344203395854,
          -1.9551929975819693,
          -1.9997874104259437,
          -2.0030115907488155
         ]
        },
        {
         "hovertext": "<b>Topic 6</b>:treatment_dental_skin_treatments_im",
         "line": {
          "color": "black",
          "width": 1.5
         },
         "mode": "lines+lines",
         "name": "",
         "opacity": 0.1,
         "type": "scatter",
         "x": [
          1,
          2,
          3,
          4,
          5,
          6,
          7,
          8,
          9,
          10
         ],
         "y": [
          -1.3600946334462314,
          -1.4318502218733804,
          -1.4817691914979236,
          -1.5112909036294422,
          -1.776249105114481,
          -1.8369404340754751,
          -1.857366907293213,
          -1.888204994207082,
          -1.9805979045381836,
          -1.9866672251200062
         ]
        },
        {
         "hovertext": "<b>Topic 7</b>:care_support_services_families_supp",
         "line": {
          "color": "black",
          "width": 1.5
         },
         "mode": "lines+lines",
         "name": "",
         "opacity": 0.1,
         "type": "scatter",
         "x": [
          1,
          2,
          3,
          4,
          5,
          6,
          7,
          8,
          9,
          10
         ],
         "y": [
          -1.0487523448891074,
          -1.4385165807481965,
          -1.7841429147806924,
          -1.8103013700538158,
          -1.831396071405596,
          -1.8687887885712462,
          -1.8727445665381994,
          -1.910798828305342,
          -1.9647056005261005,
          -2.024664478977979
         ]
        },
        {
         "hovertext": "<b>Topic 8</b>:property_rent_valuation_estate_land",
         "line": {
          "color": "black",
          "width": 1.5
         },
         "mode": "lines+lines",
         "name": "",
         "opacity": 0.1,
         "type": "scatter",
         "x": [
          1,
          2,
          3,
          4,
          5,
          6,
          7,
          8,
          9,
          10
         ],
         "y": [
          -1.1656934799299803,
          -1.5284931536272641,
          -1.6133154321833836,
          -1.6514546937516679,
          -1.7940997793167335,
          -1.83261542590367,
          -1.8539458878023238,
          -1.8708588176659833,
          -1.8998685416544998,
          -1.8999013973063625
         ]
        },
        {
         "hovertext": "<b>Topic 9</b>:club_training_membership_gym_sessio",
         "line": {
          "color": "black",
          "width": 1.5
         },
         "mode": "lines+lines",
         "name": "",
         "opacity": 0.1,
         "type": "scatter",
         "x": [
          1,
          2,
          3,
          4,
          5,
          6,
          7,
          8,
          9,
          10
         ],
         "y": [
          -1.5738112534294553,
          -1.7934124494292853,
          -1.7973377792234921,
          -1.852127338731865,
          -1.8960919329299186,
          -1.903076144221988,
          -1.948636729071045,
          -1.9567587273590177,
          -1.9584611117023485,
          -1.9735189310019305
         ]
        },
        {
         "hovertext": "<b>Topic 10</b>:licensee_licensed_construction_pro",
         "line": {
          "color": "black",
          "width": 1.5
         },
         "mode": "lines+lines",
         "name": "",
         "opacity": 0.1,
         "type": "scatter",
         "x": [
          1,
          2,
          3,
          4,
          5,
          6,
          7,
          8,
          9,
          10
         ],
         "y": [
          -1.47754201944724,
          -1.6160500031405078,
          -1.8491256865434553,
          -1.8636793814101402,
          -1.8949223755432454,
          -1.9261696511023296,
          -1.948874631223833,
          -1.9574900285991903,
          -1.9705938809170693,
          -1.983089795205924
         ]
        },
        {
         "hovertext": "<b>Topic 11</b>:recruitment_candidates_jobs_job_hr",
         "line": {
          "color": "black",
          "width": 1.5
         },
         "mode": "lines+lines",
         "name": "",
         "opacity": 0.1,
         "type": "scatter",
         "x": [
          1,
          2,
          3,
          4,
          5,
          6,
          7,
          8,
          9,
          10
         ],
         "y": [
          -1.1711335191345946,
          -1.5432290520648497,
          -1.585404293574322,
          -1.5877038807673878,
          -1.656101929164161,
          -1.6999097735094975,
          -1.8858678554965462,
          -1.911172268693101,
          -1.9556258405002864,
          -2.0034874021045295
         ]
        },
        {
         "hovertext": "<b>Topic 12</b>:personal_vacuum_hotels_gift_inform",
         "line": {
          "color": "black",
          "width": 1.5
         },
         "mode": "lines+lines",
         "name": "",
         "opacity": 0.1,
         "type": "scatter",
         "x": [
          1,
          2,
          3,
          4,
          5,
          6,
          7,
          8,
          9,
          10
         ],
         "y": [
          -1.5489879577477912,
          -1.607782365498513,
          -1.6200536978961648,
          -1.785678306999366,
          -1.8255528061810322,
          -1.827494639406543,
          -1.830741035097905,
          -1.8882157107144408,
          -1.9456996777646935,
          -1.9469592091597556
         ]
        },
        {
         "hovertext": "<b>Topic 13</b>:heating_plumbing_boiler_gas_engine",
         "line": {
          "color": "black",
          "width": 1.5
         },
         "mode": "lines+lines",
         "name": "",
         "opacity": 0.1,
         "type": "scatter",
         "x": [
          1,
          2,
          3,
          4,
          5,
          6,
          7,
          8,
          9,
          10
         ],
         "y": [
          -0.8960096575405586,
          -0.9343527917011835,
          -1.010965010898416,
          -1.0176317402779984,
          -1.5068752556677207,
          -1.521231332527696,
          -1.6142311417055544,
          -1.6931839594601015,
          -1.756669346864747,
          -1.8417223062875123
         ]
        },
        {
         "hovertext": "<b>Topic 14</b>:doors_blinds_windows_window_hardwo",
         "line": {
          "color": "black",
          "width": 1.5
         },
         "mode": "lines+lines",
         "name": "",
         "opacity": 0.1,
         "type": "scatter",
         "x": [
          1,
          2,
          3,
          4,
          5,
          6,
          7,
          8,
          9,
          10
         ],
         "y": [
          -1.0786933454804806,
          -1.1664314696421632,
          -1.200040999073697,
          -1.5586522592115455,
          -1.766635523978211,
          -1.7868845747647855,
          -1.80760263708639,
          -1.8574453922361924,
          -1.8948812337145264,
          -1.9164519934872792
         ]
        },
        {
         "hovertext": "<b>Topic 15</b>:training_cpfi_counselling_psychoth",
         "line": {
          "color": "black",
          "width": 1.5
         },
         "mode": "lines+lines",
         "name": "",
         "opacity": 0.1,
         "type": "scatter",
         "x": [
          1,
          2,
          3,
          4,
          5,
          6,
          7,
          8,
          9,
          10
         ],
         "y": [
          -1.6037656589946288,
          -1.6847931238515415,
          -1.767151684960613,
          -1.8075022073369733,
          -1.8287992044266295,
          -1.8289482573776665,
          -1.8302484562775354,
          -1.867294085412865,
          -1.9027521699038392,
          -1.9053556608570597
         ]
        },
        {
         "hovertext": "<b>Topic 16</b>:hours_message_01908_place_app_test",
         "line": {
          "color": "black",
          "width": 1.5
         },
         "mode": "lines+lines",
         "name": "",
         "opacity": 0.1,
         "type": "scatter",
         "x": [
          1,
          2,
          3,
          4,
          5,
          6,
          7,
          8,
          9,
          10
         ],
         "y": [
          -1.4080411823637276,
          -1.4345046712290122,
          -1.6154907094159408,
          -1.6300886358532796,
          -1.6436680370929657,
          -1.667832817183526,
          -1.674040607486292,
          -1.6909097954024344,
          -1.7188399611083,
          -1.7438118160975917
         ]
        },
        {
         "hovertext": "<b>Topic 17</b>:cleaning_clean_roof_cleaner_cleane",
         "line": {
          "color": "black",
          "width": 1.5
         },
         "mode": "lines+lines",
         "name": "",
         "opacity": 0.1,
         "type": "scatter",
         "x": [
          1,
          2,
          3,
          4,
          5,
          6,
          7,
          8,
          9,
          10
         ],
         "y": [
          -0.7565696189184667,
          -1.2914813436207044,
          -1.6539649404981867,
          -1.7398445801534534,
          -1.7513083121551118,
          -1.8998056215105106,
          -1.9493592421851542,
          -1.9750622531690034,
          -1.9862491181094073,
          -2.017092236283703
         ]
        },
        {
         "hovertext": "<b>Topic 18</b>:logistics_freight_courier_transpor",
         "line": {
          "color": "black",
          "width": 1.5
         },
         "mode": "lines+lines",
         "name": "",
         "opacity": 0.1,
         "type": "scatter",
         "x": [
          1,
          2,
          3,
          4,
          5,
          6,
          7,
          8,
          9,
          10
         ],
         "y": [
          -1.239729802959852,
          -1.361357194446727,
          -1.4354260260134102,
          -1.4507041284948292,
          -1.6201579687514986,
          -1.7051064177875164,
          -1.7372064345454852,
          -1.7713768491326458,
          -1.8860936739624177,
          -1.9525396942684174
         ]
        },
        {
         "hovertext": "<b>Topic 19</b>:office_rooms_centre_offices_facili",
         "line": {
          "color": "black",
          "width": 1.5
         },
         "mode": "lines+lines",
         "name": "",
         "opacity": 0.1,
         "type": "scatter",
         "x": [
          1,
          2,
          3,
          4,
          5,
          6,
          7,
          8,
          9,
          10
         ],
         "y": [
          -1.4573349182449207,
          -1.634249274283319,
          -1.6917985185629252,
          -1.7416719547967174,
          -1.7859020898961435,
          -1.8384553342649668,
          -1.9038629644205498,
          -1.9152562379691511,
          -1.9168459539902338,
          -1.9185201518296924
         ]
        },
        {
         "hovertext": "<b>Topic 20</b>:printing_print_frames_processing_f",
         "line": {
          "color": "black",
          "width": 1.5
         },
         "mode": "lines+lines",
         "name": "",
         "opacity": 0.1,
         "type": "scatter",
         "x": [
          1,
          2,
          3,
          4,
          5,
          6,
          7,
          8,
          9,
          10
         ],
         "y": [
          -1.2028992419904847,
          -1.3269064642581838,
          -1.4406682357345648,
          -1.604136241286853,
          -1.6567953550317434,
          -1.7442157391136095,
          -1.8357614786355656,
          -1.896288616528132,
          -1.9412984351733689,
          -1.967165376949868
         ]
        },
        {
         "hovertext": "<b>Topic 21</b>:financial_mortgage_mortgages_pensi",
         "line": {
          "color": "black",
          "width": 1.5
         },
         "mode": "lines+lines",
         "name": "",
         "opacity": 0.1,
         "type": "scatter",
         "x": [
          1,
          2,
          3,
          4,
          5,
          6,
          7,
          8,
          9,
          10
         ],
         "y": [
          -0.9688619138891011,
          -0.9830030947314725,
          -1.119722542156664,
          -1.5133696648869024,
          -1.595184472707371,
          -1.7152082275358478,
          -1.7328950869286945,
          -1.7427072967546702,
          -1.820095496269191,
          -1.885287936430954
         ]
        },
        {
         "hovertext": "<b>Topic 22</b>:law_solicitors_legal_mediation_dis",
         "line": {
          "color": "black",
          "width": 1.5
         },
         "mode": "lines+lines",
         "name": "",
         "opacity": 0.1,
         "type": "scatter",
         "x": [
          1,
          2,
          3,
          4,
          5,
          6,
          7,
          8,
          9,
          10
         ],
         "y": [
          -1.1077426843426128,
          -1.2282411720198285,
          -1.3266770124889817,
          -1.5614519042087243,
          -1.7467001008865013,
          -1.8377974569023532,
          -1.8560122849568241,
          -1.8760310720845383,
          -1.8865403493317257,
          -1.8980638763363504
         ]
        },
        {
         "hovertext": "<b>Topic 23</b>:church_prayer_christian_community_",
         "line": {
          "color": "black",
          "width": 1.5
         },
         "mode": "lines+lines",
         "name": "",
         "opacity": 0.1,
         "type": "scatter",
         "x": [
          1,
          2,
          3,
          4,
          5,
          6,
          7,
          8,
          9,
          10
         ],
         "y": [
          -1.1119254872539204,
          -1.3428518560915217,
          -1.4234247287168855,
          -1.5529282955104757,
          -1.6092467504065306,
          -1.6092467504065306,
          -1.7246063197733725,
          -1.779979045365319,
          -1.8014211900179053,
          -1.84376590642654
         ]
        },
        {
         "hovertext": "<b>Topic 24</b>:electrical_electrician_electrician",
         "line": {
          "color": "black",
          "width": 1.5
         },
         "mode": "lines+lines",
         "name": "",
         "opacity": 0.1,
         "type": "scatter",
         "x": [
          1,
          2,
          3,
          4,
          5,
          6,
          7,
          8,
          9,
          10
         ],
         "y": [
          -0.7528365433451407,
          -1.1224748787377445,
          -1.274982767309757,
          -1.6424321597547311,
          -1.6718983268684813,
          -1.7029927508451266,
          -1.7265457926312013,
          -1.7432079422168048,
          -1.7540080974323509,
          -1.7709433561813523
         ]
        },
        {
         "hovertext": "<b>Topic 25</b>:taxi_airport_taxis_transfers_drive",
         "line": {
          "color": "black",
          "width": 1.5
         },
         "mode": "lines+lines",
         "name": "",
         "opacity": 0.1,
         "type": "scatter",
         "x": [
          1,
          2,
          3,
          4,
          5,
          6,
          7,
          8,
          9,
          10
         ],
         "y": [
          -1.0452131913556686,
          -1.0969760858874367,
          -1.270292520727432,
          -1.3986264825074421,
          -1.5042227410724802,
          -1.6345004868809114,
          -1.6962942621258545,
          -1.6974621581950669,
          -1.7148541405832276,
          -1.8001054563791175
         ]
        },
        {
         "hovertext": "<b>Topic 26</b>:engineering_construction_asphalt_g",
         "line": {
          "color": "black",
          "width": 1.5
         },
         "mode": "lines+lines",
         "name": "",
         "opacity": 0.1,
         "type": "scatter",
         "x": [
          1,
          2,
          3,
          4,
          5,
          6,
          7,
          8,
          9,
          10
         ],
         "y": [
          -1.346629487560429,
          -1.3826552962878582,
          -1.462330372547682,
          -1.5805878400922908,
          -1.6790216883633555,
          -1.7206083877907132,
          -1.8043712372946903,
          -1.81215692004428,
          -1.81268755870155,
          -1.8794215096245097
         ]
        },
        {
         "hovertext": "<b>Topic 27</b>:massage_acupuncture_chiropractic_t",
         "line": {
          "color": "black",
          "width": 1.5
         },
         "mode": "lines+lines",
         "name": "",
         "opacity": 0.1,
         "type": "scatter",
         "x": [
          1,
          2,
          3,
          4,
          5,
          6,
          7,
          8,
          9,
          10
         ],
         "y": [
          -1.1982480299850078,
          -1.3356615577901434,
          -1.4696715908547433,
          -1.4985388308422771,
          -1.5524031432791463,
          -1.5645764224439092,
          -1.6506801708536125,
          -1.6779482567875732,
          -1.7047286453421124,
          -1.7756189074619124
         ]
        },
        {
         "hovertext": "<b>Topic 28</b>:removals_roofing_removal_frosts_pa",
         "line": {
          "color": "black",
          "width": 1.5
         },
         "mode": "lines+lines",
         "name": "",
         "opacity": 0.1,
         "type": "scatter",
         "x": [
          1,
          2,
          3,
          4,
          5,
          6,
          7,
          8,
          9,
          10
         ],
         "y": [
          -0.930251879218829,
          -1.2060538981670965,
          -1.363138042257996,
          -1.580752131453921,
          -1.614035382336326,
          -1.6477411473446752,
          -1.672664608144215,
          -1.6819069327631273,
          -1.784310299167231,
          -1.7915707956817295
         ]
        },
        {
         "hovertext": "<b>Topic 29</b>:dog_dogs_breeding_pet_groomers_gro",
         "line": {
          "color": "black",
          "width": 1.5
         },
         "mode": "lines+lines",
         "name": "",
         "opacity": 0.1,
         "type": "scatter",
         "x": [
          1,
          2,
          3,
          4,
          5,
          6,
          7,
          8,
          9,
          10
         ],
         "y": [
          -0.79312380821249,
          -0.9617539738967129,
          -1.354053294206594,
          -1.3673956812727481,
          -1.5186091485181443,
          -1.5833300989255585,
          -1.6731668119991885,
          -1.742171586951744,
          -1.7993980300717425,
          -1.7993980300717425
         ]
        },
        {
         "hovertext": "<b>Topic 30</b>:password_reset_confirm_email_pizza",
         "line": {
          "color": "black",
          "width": 1.5
         },
         "mode": "lines+lines",
         "name": "",
         "opacity": 0.1,
         "type": "scatter",
         "x": [
          1,
          2,
          3,
          4,
          5,
          6,
          7,
          8,
          9,
          10
         ],
         "y": [
          -1.2128259918455728,
          -1.4151474454724204,
          -1.566509028571528,
          -1.5891900920213924,
          -1.627070030240162,
          -1.641508846638864,
          -1.6677507369892692,
          -1.6818361946624814,
          -1.723615665677388,
          -1.8188419392782433
         ]
        },
        {
         "hovertext": "<b>Topic 31</b>:safety_logistics_nrc_cable_protect",
         "line": {
          "color": "black",
          "width": 1.5
         },
         "mode": "lines+lines",
         "name": "",
         "opacity": 0.1,
         "type": "scatter",
         "x": [
          1,
          2,
          3,
          4,
          5,
          6,
          7,
          8,
          9,
          10
         ],
         "y": [
          -1.228399352506566,
          -1.4294020732913775,
          -1.4905684063460345,
          -1.599647913142599,
          -1.6451504675737731,
          -1.6719507545543673,
          -1.732405679707052,
          -1.7348879018923726,
          -1.747837386454233,
          -1.858972177415377
         ]
        },
        {
         "hovertext": "<b>Topic 32</b>:flooring_carpet_carpets_vinyl_cfs_",
         "line": {
          "color": "black",
          "width": 1.5
         },
         "mode": "lines+lines",
         "name": "",
         "opacity": 0.1,
         "type": "scatter",
         "x": [
          1,
          2,
          3,
          4,
          5,
          6,
          7,
          8,
          9,
          10
         ],
         "y": [
          -0.6394494472619878,
          -0.8634187160560002,
          -1.0046140810342092,
          -1.176467867027268,
          -1.2063003408246598,
          -1.428242780769933,
          -1.4321071319299699,
          -1.6358670929524126,
          -1.7265871827007968,
          -1.7549468372641257
         ]
        },
        {
         "hovertext": "<b>Topic 33</b>:valves_systems_pumps_dryers_equipm",
         "line": {
          "color": "black",
          "width": 1.5
         },
         "mode": "lines+lines",
         "name": "",
         "opacity": 0.1,
         "type": "scatter",
         "x": [
          1,
          2,
          3,
          4,
          5,
          6,
          7,
          8,
          9,
          10
         ],
         "y": [
          -1.048484546872185,
          -1.2908625256500623,
          -1.446826550881683,
          -1.5267204218031063,
          -1.5315004650766832,
          -1.6852863484050127,
          -1.7019301686169366,
          -1.7712569770613864,
          -1.7925667940429932,
          -1.8251502566159559
         ]
        },
        {
         "hovertext": "<b>Topic 34</b>:security_alarms_alarm_guards_extin",
         "line": {
          "color": "black",
          "width": 1.5
         },
         "mode": "lines+lines",
         "name": "",
         "opacity": 0.1,
         "type": "scatter",
         "x": [
          1,
          2,
          3,
          4,
          5,
          6,
          7,
          8,
          9,
          10
         ],
         "y": [
          -0.7849492235125513,
          -1.126200739900404,
          -1.1665384710361366,
          -1.3052327389512248,
          -1.3526344186926942,
          -1.450133107271445,
          -1.4830203601413472,
          -1.7127169057124487,
          -1.7333397527500278,
          -1.7545949565372885
         ]
        }
       ],
       "layout": {
        "height": 500,
        "hoverlabel": {
         "bgcolor": "white",
         "font": {
          "family": "Rockwell",
          "size": 16
         }
        },
        "showlegend": false,
        "template": {
         "data": {
          "bar": [
           {
            "error_x": {
             "color": "#2a3f5f"
            },
            "error_y": {
             "color": "#2a3f5f"
            },
            "marker": {
             "line": {
              "color": "white",
              "width": 0.5
             }
            },
            "type": "bar"
           }
          ],
          "barpolar": [
           {
            "marker": {
             "line": {
              "color": "white",
              "width": 0.5
             }
            },
            "type": "barpolar"
           }
          ],
          "carpet": [
           {
            "aaxis": {
             "endlinecolor": "#2a3f5f",
             "gridcolor": "#C8D4E3",
             "linecolor": "#C8D4E3",
             "minorgridcolor": "#C8D4E3",
             "startlinecolor": "#2a3f5f"
            },
            "baxis": {
             "endlinecolor": "#2a3f5f",
             "gridcolor": "#C8D4E3",
             "linecolor": "#C8D4E3",
             "minorgridcolor": "#C8D4E3",
             "startlinecolor": "#2a3f5f"
            },
            "type": "carpet"
           }
          ],
          "choropleth": [
           {
            "colorbar": {
             "outlinewidth": 0,
             "ticks": ""
            },
            "type": "choropleth"
           }
          ],
          "contour": [
           {
            "colorbar": {
             "outlinewidth": 0,
             "ticks": ""
            },
            "colorscale": [
             [
              0,
              "#0d0887"
             ],
             [
              0.1111111111111111,
              "#46039f"
             ],
             [
              0.2222222222222222,
              "#7201a8"
             ],
             [
              0.3333333333333333,
              "#9c179e"
             ],
             [
              0.4444444444444444,
              "#bd3786"
             ],
             [
              0.5555555555555556,
              "#d8576b"
             ],
             [
              0.6666666666666666,
              "#ed7953"
             ],
             [
              0.7777777777777778,
              "#fb9f3a"
             ],
             [
              0.8888888888888888,
              "#fdca26"
             ],
             [
              1,
              "#f0f921"
             ]
            ],
            "type": "contour"
           }
          ],
          "contourcarpet": [
           {
            "colorbar": {
             "outlinewidth": 0,
             "ticks": ""
            },
            "type": "contourcarpet"
           }
          ],
          "heatmap": [
           {
            "colorbar": {
             "outlinewidth": 0,
             "ticks": ""
            },
            "colorscale": [
             [
              0,
              "#0d0887"
             ],
             [
              0.1111111111111111,
              "#46039f"
             ],
             [
              0.2222222222222222,
              "#7201a8"
             ],
             [
              0.3333333333333333,
              "#9c179e"
             ],
             [
              0.4444444444444444,
              "#bd3786"
             ],
             [
              0.5555555555555556,
              "#d8576b"
             ],
             [
              0.6666666666666666,
              "#ed7953"
             ],
             [
              0.7777777777777778,
              "#fb9f3a"
             ],
             [
              0.8888888888888888,
              "#fdca26"
             ],
             [
              1,
              "#f0f921"
             ]
            ],
            "type": "heatmap"
           }
          ],
          "heatmapgl": [
           {
            "colorbar": {
             "outlinewidth": 0,
             "ticks": ""
            },
            "colorscale": [
             [
              0,
              "#0d0887"
             ],
             [
              0.1111111111111111,
              "#46039f"
             ],
             [
              0.2222222222222222,
              "#7201a8"
             ],
             [
              0.3333333333333333,
              "#9c179e"
             ],
             [
              0.4444444444444444,
              "#bd3786"
             ],
             [
              0.5555555555555556,
              "#d8576b"
             ],
             [
              0.6666666666666666,
              "#ed7953"
             ],
             [
              0.7777777777777778,
              "#fb9f3a"
             ],
             [
              0.8888888888888888,
              "#fdca26"
             ],
             [
              1,
              "#f0f921"
             ]
            ],
            "type": "heatmapgl"
           }
          ],
          "histogram": [
           {
            "marker": {
             "colorbar": {
              "outlinewidth": 0,
              "ticks": ""
             }
            },
            "type": "histogram"
           }
          ],
          "histogram2d": [
           {
            "colorbar": {
             "outlinewidth": 0,
             "ticks": ""
            },
            "colorscale": [
             [
              0,
              "#0d0887"
             ],
             [
              0.1111111111111111,
              "#46039f"
             ],
             [
              0.2222222222222222,
              "#7201a8"
             ],
             [
              0.3333333333333333,
              "#9c179e"
             ],
             [
              0.4444444444444444,
              "#bd3786"
             ],
             [
              0.5555555555555556,
              "#d8576b"
             ],
             [
              0.6666666666666666,
              "#ed7953"
             ],
             [
              0.7777777777777778,
              "#fb9f3a"
             ],
             [
              0.8888888888888888,
              "#fdca26"
             ],
             [
              1,
              "#f0f921"
             ]
            ],
            "type": "histogram2d"
           }
          ],
          "histogram2dcontour": [
           {
            "colorbar": {
             "outlinewidth": 0,
             "ticks": ""
            },
            "colorscale": [
             [
              0,
              "#0d0887"
             ],
             [
              0.1111111111111111,
              "#46039f"
             ],
             [
              0.2222222222222222,
              "#7201a8"
             ],
             [
              0.3333333333333333,
              "#9c179e"
             ],
             [
              0.4444444444444444,
              "#bd3786"
             ],
             [
              0.5555555555555556,
              "#d8576b"
             ],
             [
              0.6666666666666666,
              "#ed7953"
             ],
             [
              0.7777777777777778,
              "#fb9f3a"
             ],
             [
              0.8888888888888888,
              "#fdca26"
             ],
             [
              1,
              "#f0f921"
             ]
            ],
            "type": "histogram2dcontour"
           }
          ],
          "mesh3d": [
           {
            "colorbar": {
             "outlinewidth": 0,
             "ticks": ""
            },
            "type": "mesh3d"
           }
          ],
          "parcoords": [
           {
            "line": {
             "colorbar": {
              "outlinewidth": 0,
              "ticks": ""
             }
            },
            "type": "parcoords"
           }
          ],
          "pie": [
           {
            "automargin": true,
            "type": "pie"
           }
          ],
          "scatter": [
           {
            "marker": {
             "colorbar": {
              "outlinewidth": 0,
              "ticks": ""
             }
            },
            "type": "scatter"
           }
          ],
          "scatter3d": [
           {
            "line": {
             "colorbar": {
              "outlinewidth": 0,
              "ticks": ""
             }
            },
            "marker": {
             "colorbar": {
              "outlinewidth": 0,
              "ticks": ""
             }
            },
            "type": "scatter3d"
           }
          ],
          "scattercarpet": [
           {
            "marker": {
             "colorbar": {
              "outlinewidth": 0,
              "ticks": ""
             }
            },
            "type": "scattercarpet"
           }
          ],
          "scattergeo": [
           {
            "marker": {
             "colorbar": {
              "outlinewidth": 0,
              "ticks": ""
             }
            },
            "type": "scattergeo"
           }
          ],
          "scattergl": [
           {
            "marker": {
             "colorbar": {
              "outlinewidth": 0,
              "ticks": ""
             }
            },
            "type": "scattergl"
           }
          ],
          "scattermapbox": [
           {
            "marker": {
             "colorbar": {
              "outlinewidth": 0,
              "ticks": ""
             }
            },
            "type": "scattermapbox"
           }
          ],
          "scatterpolar": [
           {
            "marker": {
             "colorbar": {
              "outlinewidth": 0,
              "ticks": ""
             }
            },
            "type": "scatterpolar"
           }
          ],
          "scatterpolargl": [
           {
            "marker": {
             "colorbar": {
              "outlinewidth": 0,
              "ticks": ""
             }
            },
            "type": "scatterpolargl"
           }
          ],
          "scatterternary": [
           {
            "marker": {
             "colorbar": {
              "outlinewidth": 0,
              "ticks": ""
             }
            },
            "type": "scatterternary"
           }
          ],
          "surface": [
           {
            "colorbar": {
             "outlinewidth": 0,
             "ticks": ""
            },
            "colorscale": [
             [
              0,
              "#0d0887"
             ],
             [
              0.1111111111111111,
              "#46039f"
             ],
             [
              0.2222222222222222,
              "#7201a8"
             ],
             [
              0.3333333333333333,
              "#9c179e"
             ],
             [
              0.4444444444444444,
              "#bd3786"
             ],
             [
              0.5555555555555556,
              "#d8576b"
             ],
             [
              0.6666666666666666,
              "#ed7953"
             ],
             [
              0.7777777777777778,
              "#fb9f3a"
             ],
             [
              0.8888888888888888,
              "#fdca26"
             ],
             [
              1,
              "#f0f921"
             ]
            ],
            "type": "surface"
           }
          ],
          "table": [
           {
            "cells": {
             "fill": {
              "color": "#EBF0F8"
             },
             "line": {
              "color": "white"
             }
            },
            "header": {
             "fill": {
              "color": "#C8D4E3"
             },
             "line": {
              "color": "white"
             }
            },
            "type": "table"
           }
          ]
         },
         "layout": {
          "annotationdefaults": {
           "arrowcolor": "#2a3f5f",
           "arrowhead": 0,
           "arrowwidth": 1
          },
          "coloraxis": {
           "colorbar": {
            "outlinewidth": 0,
            "ticks": ""
           }
          },
          "colorscale": {
           "diverging": [
            [
             0,
             "#8e0152"
            ],
            [
             0.1,
             "#c51b7d"
            ],
            [
             0.2,
             "#de77ae"
            ],
            [
             0.3,
             "#f1b6da"
            ],
            [
             0.4,
             "#fde0ef"
            ],
            [
             0.5,
             "#f7f7f7"
            ],
            [
             0.6,
             "#e6f5d0"
            ],
            [
             0.7,
             "#b8e186"
            ],
            [
             0.8,
             "#7fbc41"
            ],
            [
             0.9,
             "#4d9221"
            ],
            [
             1,
             "#276419"
            ]
           ],
           "sequential": [
            [
             0,
             "#0d0887"
            ],
            [
             0.1111111111111111,
             "#46039f"
            ],
            [
             0.2222222222222222,
             "#7201a8"
            ],
            [
             0.3333333333333333,
             "#9c179e"
            ],
            [
             0.4444444444444444,
             "#bd3786"
            ],
            [
             0.5555555555555556,
             "#d8576b"
            ],
            [
             0.6666666666666666,
             "#ed7953"
            ],
            [
             0.7777777777777778,
             "#fb9f3a"
            ],
            [
             0.8888888888888888,
             "#fdca26"
            ],
            [
             1,
             "#f0f921"
            ]
           ],
           "sequentialminus": [
            [
             0,
             "#0d0887"
            ],
            [
             0.1111111111111111,
             "#46039f"
            ],
            [
             0.2222222222222222,
             "#7201a8"
            ],
            [
             0.3333333333333333,
             "#9c179e"
            ],
            [
             0.4444444444444444,
             "#bd3786"
            ],
            [
             0.5555555555555556,
             "#d8576b"
            ],
            [
             0.6666666666666666,
             "#ed7953"
            ],
            [
             0.7777777777777778,
             "#fb9f3a"
            ],
            [
             0.8888888888888888,
             "#fdca26"
            ],
            [
             1,
             "#f0f921"
            ]
           ]
          },
          "colorway": [
           "#636efa",
           "#EF553B",
           "#00cc96",
           "#ab63fa",
           "#FFA15A",
           "#19d3f3",
           "#FF6692",
           "#B6E880",
           "#FF97FF",
           "#FECB52"
          ],
          "font": {
           "color": "#2a3f5f"
          },
          "geo": {
           "bgcolor": "white",
           "lakecolor": "white",
           "landcolor": "white",
           "showlakes": true,
           "showland": true,
           "subunitcolor": "#C8D4E3"
          },
          "hoverlabel": {
           "align": "left"
          },
          "hovermode": "closest",
          "mapbox": {
           "style": "light"
          },
          "paper_bgcolor": "white",
          "plot_bgcolor": "white",
          "polar": {
           "angularaxis": {
            "gridcolor": "#EBF0F8",
            "linecolor": "#EBF0F8",
            "ticks": ""
           },
           "bgcolor": "white",
           "radialaxis": {
            "gridcolor": "#EBF0F8",
            "linecolor": "#EBF0F8",
            "ticks": ""
           }
          },
          "scene": {
           "xaxis": {
            "backgroundcolor": "white",
            "gridcolor": "#DFE8F3",
            "gridwidth": 2,
            "linecolor": "#EBF0F8",
            "showbackground": true,
            "ticks": "",
            "zerolinecolor": "#EBF0F8"
           },
           "yaxis": {
            "backgroundcolor": "white",
            "gridcolor": "#DFE8F3",
            "gridwidth": 2,
            "linecolor": "#EBF0F8",
            "showbackground": true,
            "ticks": "",
            "zerolinecolor": "#EBF0F8"
           },
           "zaxis": {
            "backgroundcolor": "white",
            "gridcolor": "#DFE8F3",
            "gridwidth": 2,
            "linecolor": "#EBF0F8",
            "showbackground": true,
            "ticks": "",
            "zerolinecolor": "#EBF0F8"
           }
          },
          "shapedefaults": {
           "line": {
            "color": "#2a3f5f"
           }
          },
          "ternary": {
           "aaxis": {
            "gridcolor": "#DFE8F3",
            "linecolor": "#A2B1C6",
            "ticks": ""
           },
           "baxis": {
            "gridcolor": "#DFE8F3",
            "linecolor": "#A2B1C6",
            "ticks": ""
           },
           "bgcolor": "white",
           "caxis": {
            "gridcolor": "#DFE8F3",
            "linecolor": "#A2B1C6",
            "ticks": ""
           }
          },
          "title": {
           "x": 0.05
          },
          "xaxis": {
           "automargin": true,
           "gridcolor": "#EBF0F8",
           "linecolor": "#EBF0F8",
           "ticks": "",
           "title": {
            "standoff": 15
           },
           "zerolinecolor": "#EBF0F8",
           "zerolinewidth": 2
          },
          "yaxis": {
           "automargin": true,
           "gridcolor": "#EBF0F8",
           "linecolor": "#EBF0F8",
           "ticks": "",
           "title": {
            "standoff": 15
           },
           "zerolinecolor": "#EBF0F8",
           "zerolinewidth": 2
          }
         }
        },
        "title": {
         "font": {
          "color": "Black",
          "size": 22
         },
         "text": "<b>Term score decline per Topic</b>",
         "x": 0.5,
         "xanchor": "center",
         "y": 0.9,
         "yanchor": "top"
        },
        "width": 800,
        "xaxis": {
         "dtick": 2,
         "range": [
          0,
          10
         ],
         "tick0": 1,
         "title": {
          "text": "Term Rank"
         }
        },
        "yaxis": {
         "title": {
          "text": "c-TF-IDF score (log scale)"
         }
        }
       }
      },
      "text/html": [
       "<div>                            <div id=\"5fc9464f-546c-4328-bb65-1fe1a451bc9a\" class=\"plotly-graph-div\" style=\"height:500px; width:800px;\"></div>            <script type=\"text/javascript\">                require([\"plotly\"], function(Plotly) {                    window.PLOTLYENV=window.PLOTLYENV || {};                                    if (document.getElementById(\"5fc9464f-546c-4328-bb65-1fe1a451bc9a\")) {                    Plotly.newPlot(                        \"5fc9464f-546c-4328-bb65-1fe1a451bc9a\",                        [{\"hovertext\": \"<b>Topic -1</b>:services_business_management_2021_\", \"line\": {\"color\": \"black\", \"width\": 1.5}, \"mode\": \"lines+lines\", \"name\": \"\", \"opacity\": 0.1, \"type\": \"scatter\", \"x\": [1, 2, 3, 4, 5, 6, 7, 8, 9, 10], \"y\": [-2.050192292787338, -2.139435126404111, -2.148793350287438, -2.159086218373584, -2.175769864115722, -2.288377085845771, -2.2900599831165684, -2.299776651382863, -2.303547055494818, -2.3068513395261525]}, {\"hovertext\": \"<b>Topic 0</b>:services_courses_cloud_software_web\", \"line\": {\"color\": \"black\", \"width\": 1.5}, \"mode\": \"lines+lines\", \"name\": \"\", \"opacity\": 0.1, \"type\": \"scatter\", \"x\": [1, 2, 3, 4, 5, 6, 7, 8, 9, 10], \"y\": [-1.8113390626187778, -1.8225513886460103, -1.8471407507440696, -1.9462759482823102, -1.9982747568122747, -2.033794410283853, -2.0353800585608535, -2.0456167754813808, -2.102001566594619, -2.103617060352257]}, {\"hovertext\": \"<b>Topic 1</b>:car_vehicle_cars_mercedes_tyres_tyr\", \"line\": {\"color\": \"black\", \"width\": 1.5}, \"mode\": \"lines+lines\", \"name\": \"\", \"opacity\": 0.1, \"type\": \"scatter\", \"x\": [1, 2, 3, 4, 5, 6, 7, 8, 9, 10], \"y\": [-1.3522992832674654, -1.4762546392261653, -1.6159605364607807, -1.6577293430902995, -1.7092844993832879, -1.7480809063672522, -1.8429032608451965, -1.9632173167920157, -1.9641801655018403, -2.0521125946799432]}, {\"hovertext\": \"<b>Topic 2</b>:shop_wedding_incense_hair_accessori\", \"line\": {\"color\": \"black\", \"width\": 1.5}, \"mode\": \"lines+lines\", \"name\": \"\", \"opacity\": 0.1, \"type\": \"scatter\", \"x\": [1, 2, 3, 4, 5, 6, 7, 8, 9, 10], \"y\": [-1.5536838632246344, -1.5689822445517607, -1.8307645186861294, -1.848111411978766, -1.9106400051951515, -1.9991818950613842, -2.0216785699641946, -2.03421087719002, -2.046276092499494, -2.074403017200023]}, {\"hovertext\": \"<b>Topic 3</b>:food_menu_sauce_chicken_roast_dishe\", \"line\": {\"color\": \"black\", \"width\": 1.5}, \"mode\": \"lines+lines\", \"name\": \"\", \"opacity\": 0.1, \"type\": \"scatter\", \"x\": [1, 2, 3, 4, 5, 6, 7, 8, 9, 10], \"y\": [-1.472700469646857, -1.551136255675848, -1.5695045748063048, -1.5871894977930816, -1.8156491399776271, -1.8658652914080331, -1.8860686023256008, -1.8995059907711296, -1.9382808612465985, -1.9559824803315773]}, {\"hovertext\": \"<b>Topic 4</b>:business_accounting_accountants_acc\", \"line\": {\"color\": \"black\", \"width\": 1.5}, \"mode\": \"lines+lines\", \"name\": \"\", \"opacity\": 0.1, \"type\": \"scatter\", \"x\": [1, 2, 3, 4, 5, 6, 7, 8, 9, 10], \"y\": [-1.3376755749621012, -1.4169553383468796, -1.4324475207871077, -1.4909683312839865, -1.6480900300976646, -1.7392649460451095, -1.8299737854334497, -1.863278861110004, -1.8944785441094438, -1.9528622553084705]}, {\"hovertext\": \"<b>Topic 5</b>:sensor_sensors_machining_machines_a\", \"line\": {\"color\": \"black\", \"width\": 1.5}, \"mode\": \"lines+lines\", \"name\": \"\", \"opacity\": 0.1, \"type\": \"scatter\", \"x\": [1, 2, 3, 4, 5, 6, 7, 8, 9, 10], \"y\": [-1.614284964216139, -1.7577237197127953, -1.8938523826258267, -1.9309423105382861, -1.9343447063752772, -1.9438340105770926, -1.9479344203395854, -1.9551929975819693, -1.9997874104259437, -2.0030115907488155]}, {\"hovertext\": \"<b>Topic 6</b>:treatment_dental_skin_treatments_im\", \"line\": {\"color\": \"black\", \"width\": 1.5}, \"mode\": \"lines+lines\", \"name\": \"\", \"opacity\": 0.1, \"type\": \"scatter\", \"x\": [1, 2, 3, 4, 5, 6, 7, 8, 9, 10], \"y\": [-1.3600946334462314, -1.4318502218733804, -1.4817691914979236, -1.5112909036294422, -1.776249105114481, -1.8369404340754751, -1.857366907293213, -1.888204994207082, -1.9805979045381836, -1.9866672251200062]}, {\"hovertext\": \"<b>Topic 7</b>:care_support_services_families_supp\", \"line\": {\"color\": \"black\", \"width\": 1.5}, \"mode\": \"lines+lines\", \"name\": \"\", \"opacity\": 0.1, \"type\": \"scatter\", \"x\": [1, 2, 3, 4, 5, 6, 7, 8, 9, 10], \"y\": [-1.0487523448891074, -1.4385165807481965, -1.7841429147806924, -1.8103013700538158, -1.831396071405596, -1.8687887885712462, -1.8727445665381994, -1.910798828305342, -1.9647056005261005, -2.024664478977979]}, {\"hovertext\": \"<b>Topic 8</b>:property_rent_valuation_estate_land\", \"line\": {\"color\": \"black\", \"width\": 1.5}, \"mode\": \"lines+lines\", \"name\": \"\", \"opacity\": 0.1, \"type\": \"scatter\", \"x\": [1, 2, 3, 4, 5, 6, 7, 8, 9, 10], \"y\": [-1.1656934799299803, -1.5284931536272641, -1.6133154321833836, -1.6514546937516679, -1.7940997793167335, -1.83261542590367, -1.8539458878023238, -1.8708588176659833, -1.8998685416544998, -1.8999013973063625]}, {\"hovertext\": \"<b>Topic 9</b>:club_training_membership_gym_sessio\", \"line\": {\"color\": \"black\", \"width\": 1.5}, \"mode\": \"lines+lines\", \"name\": \"\", \"opacity\": 0.1, \"type\": \"scatter\", \"x\": [1, 2, 3, 4, 5, 6, 7, 8, 9, 10], \"y\": [-1.5738112534294553, -1.7934124494292853, -1.7973377792234921, -1.852127338731865, -1.8960919329299186, -1.903076144221988, -1.948636729071045, -1.9567587273590177, -1.9584611117023485, -1.9735189310019305]}, {\"hovertext\": \"<b>Topic 10</b>:licensee_licensed_construction_pro\", \"line\": {\"color\": \"black\", \"width\": 1.5}, \"mode\": \"lines+lines\", \"name\": \"\", \"opacity\": 0.1, \"type\": \"scatter\", \"x\": [1, 2, 3, 4, 5, 6, 7, 8, 9, 10], \"y\": [-1.47754201944724, -1.6160500031405078, -1.8491256865434553, -1.8636793814101402, -1.8949223755432454, -1.9261696511023296, -1.948874631223833, -1.9574900285991903, -1.9705938809170693, -1.983089795205924]}, {\"hovertext\": \"<b>Topic 11</b>:recruitment_candidates_jobs_job_hr\", \"line\": {\"color\": \"black\", \"width\": 1.5}, \"mode\": \"lines+lines\", \"name\": \"\", \"opacity\": 0.1, \"type\": \"scatter\", \"x\": [1, 2, 3, 4, 5, 6, 7, 8, 9, 10], \"y\": [-1.1711335191345946, -1.5432290520648497, -1.585404293574322, -1.5877038807673878, -1.656101929164161, -1.6999097735094975, -1.8858678554965462, -1.911172268693101, -1.9556258405002864, -2.0034874021045295]}, {\"hovertext\": \"<b>Topic 12</b>:personal_vacuum_hotels_gift_inform\", \"line\": {\"color\": \"black\", \"width\": 1.5}, \"mode\": \"lines+lines\", \"name\": \"\", \"opacity\": 0.1, \"type\": \"scatter\", \"x\": [1, 2, 3, 4, 5, 6, 7, 8, 9, 10], \"y\": [-1.5489879577477912, -1.607782365498513, -1.6200536978961648, -1.785678306999366, -1.8255528061810322, -1.827494639406543, -1.830741035097905, -1.8882157107144408, -1.9456996777646935, -1.9469592091597556]}, {\"hovertext\": \"<b>Topic 13</b>:heating_plumbing_boiler_gas_engine\", \"line\": {\"color\": \"black\", \"width\": 1.5}, \"mode\": \"lines+lines\", \"name\": \"\", \"opacity\": 0.1, \"type\": \"scatter\", \"x\": [1, 2, 3, 4, 5, 6, 7, 8, 9, 10], \"y\": [-0.8960096575405586, -0.9343527917011835, -1.010965010898416, -1.0176317402779984, -1.5068752556677207, -1.521231332527696, -1.6142311417055544, -1.6931839594601015, -1.756669346864747, -1.8417223062875123]}, {\"hovertext\": \"<b>Topic 14</b>:doors_blinds_windows_window_hardwo\", \"line\": {\"color\": \"black\", \"width\": 1.5}, \"mode\": \"lines+lines\", \"name\": \"\", \"opacity\": 0.1, \"type\": \"scatter\", \"x\": [1, 2, 3, 4, 5, 6, 7, 8, 9, 10], \"y\": [-1.0786933454804806, -1.1664314696421632, -1.200040999073697, -1.5586522592115455, -1.766635523978211, -1.7868845747647855, -1.80760263708639, -1.8574453922361924, -1.8948812337145264, -1.9164519934872792]}, {\"hovertext\": \"<b>Topic 15</b>:training_cpfi_counselling_psychoth\", \"line\": {\"color\": \"black\", \"width\": 1.5}, \"mode\": \"lines+lines\", \"name\": \"\", \"opacity\": 0.1, \"type\": \"scatter\", \"x\": [1, 2, 3, 4, 5, 6, 7, 8, 9, 10], \"y\": [-1.6037656589946288, -1.6847931238515415, -1.767151684960613, -1.8075022073369733, -1.8287992044266295, -1.8289482573776665, -1.8302484562775354, -1.867294085412865, -1.9027521699038392, -1.9053556608570597]}, {\"hovertext\": \"<b>Topic 16</b>:hours_message_01908_place_app_test\", \"line\": {\"color\": \"black\", \"width\": 1.5}, \"mode\": \"lines+lines\", \"name\": \"\", \"opacity\": 0.1, \"type\": \"scatter\", \"x\": [1, 2, 3, 4, 5, 6, 7, 8, 9, 10], \"y\": [-1.4080411823637276, -1.4345046712290122, -1.6154907094159408, -1.6300886358532796, -1.6436680370929657, -1.667832817183526, -1.674040607486292, -1.6909097954024344, -1.7188399611083, -1.7438118160975917]}, {\"hovertext\": \"<b>Topic 17</b>:cleaning_clean_roof_cleaner_cleane\", \"line\": {\"color\": \"black\", \"width\": 1.5}, \"mode\": \"lines+lines\", \"name\": \"\", \"opacity\": 0.1, \"type\": \"scatter\", \"x\": [1, 2, 3, 4, 5, 6, 7, 8, 9, 10], \"y\": [-0.7565696189184667, -1.2914813436207044, -1.6539649404981867, -1.7398445801534534, -1.7513083121551118, -1.8998056215105106, -1.9493592421851542, -1.9750622531690034, -1.9862491181094073, -2.017092236283703]}, {\"hovertext\": \"<b>Topic 18</b>:logistics_freight_courier_transpor\", \"line\": {\"color\": \"black\", \"width\": 1.5}, \"mode\": \"lines+lines\", \"name\": \"\", \"opacity\": 0.1, \"type\": \"scatter\", \"x\": [1, 2, 3, 4, 5, 6, 7, 8, 9, 10], \"y\": [-1.239729802959852, -1.361357194446727, -1.4354260260134102, -1.4507041284948292, -1.6201579687514986, -1.7051064177875164, -1.7372064345454852, -1.7713768491326458, -1.8860936739624177, -1.9525396942684174]}, {\"hovertext\": \"<b>Topic 19</b>:office_rooms_centre_offices_facili\", \"line\": {\"color\": \"black\", \"width\": 1.5}, \"mode\": \"lines+lines\", \"name\": \"\", \"opacity\": 0.1, \"type\": \"scatter\", \"x\": [1, 2, 3, 4, 5, 6, 7, 8, 9, 10], \"y\": [-1.4573349182449207, -1.634249274283319, -1.6917985185629252, -1.7416719547967174, -1.7859020898961435, -1.8384553342649668, -1.9038629644205498, -1.9152562379691511, -1.9168459539902338, -1.9185201518296924]}, {\"hovertext\": \"<b>Topic 20</b>:printing_print_frames_processing_f\", \"line\": {\"color\": \"black\", \"width\": 1.5}, \"mode\": \"lines+lines\", \"name\": \"\", \"opacity\": 0.1, \"type\": \"scatter\", \"x\": [1, 2, 3, 4, 5, 6, 7, 8, 9, 10], \"y\": [-1.2028992419904847, -1.3269064642581838, -1.4406682357345648, -1.604136241286853, -1.6567953550317434, -1.7442157391136095, -1.8357614786355656, -1.896288616528132, -1.9412984351733689, -1.967165376949868]}, {\"hovertext\": \"<b>Topic 21</b>:financial_mortgage_mortgages_pensi\", \"line\": {\"color\": \"black\", \"width\": 1.5}, \"mode\": \"lines+lines\", \"name\": \"\", \"opacity\": 0.1, \"type\": \"scatter\", \"x\": [1, 2, 3, 4, 5, 6, 7, 8, 9, 10], \"y\": [-0.9688619138891011, -0.9830030947314725, -1.119722542156664, -1.5133696648869024, -1.595184472707371, -1.7152082275358478, -1.7328950869286945, -1.7427072967546702, -1.820095496269191, -1.885287936430954]}, {\"hovertext\": \"<b>Topic 22</b>:law_solicitors_legal_mediation_dis\", \"line\": {\"color\": \"black\", \"width\": 1.5}, \"mode\": \"lines+lines\", \"name\": \"\", \"opacity\": 0.1, \"type\": \"scatter\", \"x\": [1, 2, 3, 4, 5, 6, 7, 8, 9, 10], \"y\": [-1.1077426843426128, -1.2282411720198285, -1.3266770124889817, -1.5614519042087243, -1.7467001008865013, -1.8377974569023532, -1.8560122849568241, -1.8760310720845383, -1.8865403493317257, -1.8980638763363504]}, {\"hovertext\": \"<b>Topic 23</b>:church_prayer_christian_community_\", \"line\": {\"color\": \"black\", \"width\": 1.5}, \"mode\": \"lines+lines\", \"name\": \"\", \"opacity\": 0.1, \"type\": \"scatter\", \"x\": [1, 2, 3, 4, 5, 6, 7, 8, 9, 10], \"y\": [-1.1119254872539204, -1.3428518560915217, -1.4234247287168855, -1.5529282955104757, -1.6092467504065306, -1.6092467504065306, -1.7246063197733725, -1.779979045365319, -1.8014211900179053, -1.84376590642654]}, {\"hovertext\": \"<b>Topic 24</b>:electrical_electrician_electrician\", \"line\": {\"color\": \"black\", \"width\": 1.5}, \"mode\": \"lines+lines\", \"name\": \"\", \"opacity\": 0.1, \"type\": \"scatter\", \"x\": [1, 2, 3, 4, 5, 6, 7, 8, 9, 10], \"y\": [-0.7528365433451407, -1.1224748787377445, -1.274982767309757, -1.6424321597547311, -1.6718983268684813, -1.7029927508451266, -1.7265457926312013, -1.7432079422168048, -1.7540080974323509, -1.7709433561813523]}, {\"hovertext\": \"<b>Topic 25</b>:taxi_airport_taxis_transfers_drive\", \"line\": {\"color\": \"black\", \"width\": 1.5}, \"mode\": \"lines+lines\", \"name\": \"\", \"opacity\": 0.1, \"type\": \"scatter\", \"x\": [1, 2, 3, 4, 5, 6, 7, 8, 9, 10], \"y\": [-1.0452131913556686, -1.0969760858874367, -1.270292520727432, -1.3986264825074421, -1.5042227410724802, -1.6345004868809114, -1.6962942621258545, -1.6974621581950669, -1.7148541405832276, -1.8001054563791175]}, {\"hovertext\": \"<b>Topic 26</b>:engineering_construction_asphalt_g\", \"line\": {\"color\": \"black\", \"width\": 1.5}, \"mode\": \"lines+lines\", \"name\": \"\", \"opacity\": 0.1, \"type\": \"scatter\", \"x\": [1, 2, 3, 4, 5, 6, 7, 8, 9, 10], \"y\": [-1.346629487560429, -1.3826552962878582, -1.462330372547682, -1.5805878400922908, -1.6790216883633555, -1.7206083877907132, -1.8043712372946903, -1.81215692004428, -1.81268755870155, -1.8794215096245097]}, {\"hovertext\": \"<b>Topic 27</b>:massage_acupuncture_chiropractic_t\", \"line\": {\"color\": \"black\", \"width\": 1.5}, \"mode\": \"lines+lines\", \"name\": \"\", \"opacity\": 0.1, \"type\": \"scatter\", \"x\": [1, 2, 3, 4, 5, 6, 7, 8, 9, 10], \"y\": [-1.1982480299850078, -1.3356615577901434, -1.4696715908547433, -1.4985388308422771, -1.5524031432791463, -1.5645764224439092, -1.6506801708536125, -1.6779482567875732, -1.7047286453421124, -1.7756189074619124]}, {\"hovertext\": \"<b>Topic 28</b>:removals_roofing_removal_frosts_pa\", \"line\": {\"color\": \"black\", \"width\": 1.5}, \"mode\": \"lines+lines\", \"name\": \"\", \"opacity\": 0.1, \"type\": \"scatter\", \"x\": [1, 2, 3, 4, 5, 6, 7, 8, 9, 10], \"y\": [-0.930251879218829, -1.2060538981670965, -1.363138042257996, -1.580752131453921, -1.614035382336326, -1.6477411473446752, -1.672664608144215, -1.6819069327631273, -1.784310299167231, -1.7915707956817295]}, {\"hovertext\": \"<b>Topic 29</b>:dog_dogs_breeding_pet_groomers_gro\", \"line\": {\"color\": \"black\", \"width\": 1.5}, \"mode\": \"lines+lines\", \"name\": \"\", \"opacity\": 0.1, \"type\": \"scatter\", \"x\": [1, 2, 3, 4, 5, 6, 7, 8, 9, 10], \"y\": [-0.79312380821249, -0.9617539738967129, -1.354053294206594, -1.3673956812727481, -1.5186091485181443, -1.5833300989255585, -1.6731668119991885, -1.742171586951744, -1.7993980300717425, -1.7993980300717425]}, {\"hovertext\": \"<b>Topic 30</b>:password_reset_confirm_email_pizza\", \"line\": {\"color\": \"black\", \"width\": 1.5}, \"mode\": \"lines+lines\", \"name\": \"\", \"opacity\": 0.1, \"type\": \"scatter\", \"x\": [1, 2, 3, 4, 5, 6, 7, 8, 9, 10], \"y\": [-1.2128259918455728, -1.4151474454724204, -1.566509028571528, -1.5891900920213924, -1.627070030240162, -1.641508846638864, -1.6677507369892692, -1.6818361946624814, -1.723615665677388, -1.8188419392782433]}, {\"hovertext\": \"<b>Topic 31</b>:safety_logistics_nrc_cable_protect\", \"line\": {\"color\": \"black\", \"width\": 1.5}, \"mode\": \"lines+lines\", \"name\": \"\", \"opacity\": 0.1, \"type\": \"scatter\", \"x\": [1, 2, 3, 4, 5, 6, 7, 8, 9, 10], \"y\": [-1.228399352506566, -1.4294020732913775, -1.4905684063460345, -1.599647913142599, -1.6451504675737731, -1.6719507545543673, -1.732405679707052, -1.7348879018923726, -1.747837386454233, -1.858972177415377]}, {\"hovertext\": \"<b>Topic 32</b>:flooring_carpet_carpets_vinyl_cfs_\", \"line\": {\"color\": \"black\", \"width\": 1.5}, \"mode\": \"lines+lines\", \"name\": \"\", \"opacity\": 0.1, \"type\": \"scatter\", \"x\": [1, 2, 3, 4, 5, 6, 7, 8, 9, 10], \"y\": [-0.6394494472619878, -0.8634187160560002, -1.0046140810342092, -1.176467867027268, -1.2063003408246598, -1.428242780769933, -1.4321071319299699, -1.6358670929524126, -1.7265871827007968, -1.7549468372641257]}, {\"hovertext\": \"<b>Topic 33</b>:valves_systems_pumps_dryers_equipm\", \"line\": {\"color\": \"black\", \"width\": 1.5}, \"mode\": \"lines+lines\", \"name\": \"\", \"opacity\": 0.1, \"type\": \"scatter\", \"x\": [1, 2, 3, 4, 5, 6, 7, 8, 9, 10], \"y\": [-1.048484546872185, -1.2908625256500623, -1.446826550881683, -1.5267204218031063, -1.5315004650766832, -1.6852863484050127, -1.7019301686169366, -1.7712569770613864, -1.7925667940429932, -1.8251502566159559]}, {\"hovertext\": \"<b>Topic 34</b>:security_alarms_alarm_guards_extin\", \"line\": {\"color\": \"black\", \"width\": 1.5}, \"mode\": \"lines+lines\", \"name\": \"\", \"opacity\": 0.1, \"type\": \"scatter\", \"x\": [1, 2, 3, 4, 5, 6, 7, 8, 9, 10], \"y\": [-0.7849492235125513, -1.126200739900404, -1.1665384710361366, -1.3052327389512248, -1.3526344186926942, -1.450133107271445, -1.4830203601413472, -1.7127169057124487, -1.7333397527500278, -1.7545949565372885]}],                        {\"height\": 500, \"hoverlabel\": {\"bgcolor\": \"white\", \"font\": {\"family\": \"Rockwell\", \"size\": 16}}, \"showlegend\": false, \"template\": {\"data\": {\"bar\": [{\"error_x\": {\"color\": \"#2a3f5f\"}, \"error_y\": {\"color\": \"#2a3f5f\"}, \"marker\": {\"line\": {\"color\": \"white\", \"width\": 0.5}}, \"type\": \"bar\"}], \"barpolar\": [{\"marker\": {\"line\": {\"color\": \"white\", \"width\": 0.5}}, \"type\": \"barpolar\"}], \"carpet\": [{\"aaxis\": {\"endlinecolor\": \"#2a3f5f\", \"gridcolor\": \"#C8D4E3\", \"linecolor\": \"#C8D4E3\", \"minorgridcolor\": \"#C8D4E3\", \"startlinecolor\": \"#2a3f5f\"}, \"baxis\": {\"endlinecolor\": \"#2a3f5f\", \"gridcolor\": \"#C8D4E3\", \"linecolor\": \"#C8D4E3\", \"minorgridcolor\": \"#C8D4E3\", \"startlinecolor\": \"#2a3f5f\"}, \"type\": \"carpet\"}], \"choropleth\": [{\"colorbar\": {\"outlinewidth\": 0, \"ticks\": \"\"}, \"type\": \"choropleth\"}], \"contour\": [{\"colorbar\": {\"outlinewidth\": 0, \"ticks\": \"\"}, \"colorscale\": [[0.0, \"#0d0887\"], [0.1111111111111111, \"#46039f\"], [0.2222222222222222, \"#7201a8\"], [0.3333333333333333, \"#9c179e\"], [0.4444444444444444, \"#bd3786\"], [0.5555555555555556, \"#d8576b\"], [0.6666666666666666, \"#ed7953\"], [0.7777777777777778, \"#fb9f3a\"], [0.8888888888888888, \"#fdca26\"], [1.0, \"#f0f921\"]], \"type\": \"contour\"}], \"contourcarpet\": [{\"colorbar\": {\"outlinewidth\": 0, \"ticks\": \"\"}, \"type\": \"contourcarpet\"}], \"heatmap\": [{\"colorbar\": {\"outlinewidth\": 0, \"ticks\": \"\"}, \"colorscale\": [[0.0, \"#0d0887\"], [0.1111111111111111, \"#46039f\"], [0.2222222222222222, \"#7201a8\"], [0.3333333333333333, \"#9c179e\"], [0.4444444444444444, \"#bd3786\"], [0.5555555555555556, \"#d8576b\"], [0.6666666666666666, \"#ed7953\"], [0.7777777777777778, \"#fb9f3a\"], [0.8888888888888888, \"#fdca26\"], [1.0, \"#f0f921\"]], \"type\": \"heatmap\"}], \"heatmapgl\": [{\"colorbar\": {\"outlinewidth\": 0, \"ticks\": \"\"}, \"colorscale\": [[0.0, \"#0d0887\"], [0.1111111111111111, \"#46039f\"], [0.2222222222222222, \"#7201a8\"], [0.3333333333333333, \"#9c179e\"], [0.4444444444444444, \"#bd3786\"], [0.5555555555555556, \"#d8576b\"], [0.6666666666666666, \"#ed7953\"], [0.7777777777777778, \"#fb9f3a\"], [0.8888888888888888, \"#fdca26\"], [1.0, \"#f0f921\"]], \"type\": \"heatmapgl\"}], \"histogram\": [{\"marker\": {\"colorbar\": {\"outlinewidth\": 0, \"ticks\": \"\"}}, \"type\": \"histogram\"}], \"histogram2d\": [{\"colorbar\": {\"outlinewidth\": 0, \"ticks\": \"\"}, \"colorscale\": [[0.0, \"#0d0887\"], [0.1111111111111111, \"#46039f\"], [0.2222222222222222, \"#7201a8\"], [0.3333333333333333, \"#9c179e\"], [0.4444444444444444, \"#bd3786\"], [0.5555555555555556, \"#d8576b\"], [0.6666666666666666, \"#ed7953\"], [0.7777777777777778, \"#fb9f3a\"], [0.8888888888888888, \"#fdca26\"], [1.0, \"#f0f921\"]], \"type\": \"histogram2d\"}], \"histogram2dcontour\": [{\"colorbar\": {\"outlinewidth\": 0, \"ticks\": \"\"}, \"colorscale\": [[0.0, \"#0d0887\"], [0.1111111111111111, \"#46039f\"], [0.2222222222222222, \"#7201a8\"], [0.3333333333333333, \"#9c179e\"], [0.4444444444444444, \"#bd3786\"], [0.5555555555555556, \"#d8576b\"], [0.6666666666666666, \"#ed7953\"], [0.7777777777777778, \"#fb9f3a\"], [0.8888888888888888, \"#fdca26\"], [1.0, \"#f0f921\"]], \"type\": \"histogram2dcontour\"}], \"mesh3d\": [{\"colorbar\": {\"outlinewidth\": 0, \"ticks\": \"\"}, \"type\": \"mesh3d\"}], \"parcoords\": [{\"line\": {\"colorbar\": {\"outlinewidth\": 0, \"ticks\": \"\"}}, \"type\": \"parcoords\"}], \"pie\": [{\"automargin\": true, \"type\": \"pie\"}], \"scatter\": [{\"marker\": {\"colorbar\": {\"outlinewidth\": 0, \"ticks\": \"\"}}, \"type\": \"scatter\"}], \"scatter3d\": [{\"line\": {\"colorbar\": {\"outlinewidth\": 0, \"ticks\": \"\"}}, \"marker\": {\"colorbar\": {\"outlinewidth\": 0, \"ticks\": \"\"}}, \"type\": \"scatter3d\"}], \"scattercarpet\": [{\"marker\": {\"colorbar\": {\"outlinewidth\": 0, \"ticks\": \"\"}}, \"type\": \"scattercarpet\"}], \"scattergeo\": [{\"marker\": {\"colorbar\": {\"outlinewidth\": 0, \"ticks\": \"\"}}, \"type\": \"scattergeo\"}], \"scattergl\": [{\"marker\": {\"colorbar\": {\"outlinewidth\": 0, \"ticks\": \"\"}}, \"type\": \"scattergl\"}], \"scattermapbox\": [{\"marker\": {\"colorbar\": {\"outlinewidth\": 0, \"ticks\": \"\"}}, \"type\": \"scattermapbox\"}], \"scatterpolar\": [{\"marker\": {\"colorbar\": {\"outlinewidth\": 0, \"ticks\": \"\"}}, \"type\": \"scatterpolar\"}], \"scatterpolargl\": [{\"marker\": {\"colorbar\": {\"outlinewidth\": 0, \"ticks\": \"\"}}, \"type\": \"scatterpolargl\"}], \"scatterternary\": [{\"marker\": {\"colorbar\": {\"outlinewidth\": 0, \"ticks\": \"\"}}, \"type\": \"scatterternary\"}], \"surface\": [{\"colorbar\": {\"outlinewidth\": 0, \"ticks\": \"\"}, \"colorscale\": [[0.0, \"#0d0887\"], [0.1111111111111111, \"#46039f\"], [0.2222222222222222, \"#7201a8\"], [0.3333333333333333, \"#9c179e\"], [0.4444444444444444, \"#bd3786\"], [0.5555555555555556, \"#d8576b\"], [0.6666666666666666, \"#ed7953\"], [0.7777777777777778, \"#fb9f3a\"], [0.8888888888888888, \"#fdca26\"], [1.0, \"#f0f921\"]], \"type\": \"surface\"}], \"table\": [{\"cells\": {\"fill\": {\"color\": \"#EBF0F8\"}, \"line\": {\"color\": \"white\"}}, \"header\": {\"fill\": {\"color\": \"#C8D4E3\"}, \"line\": {\"color\": \"white\"}}, \"type\": \"table\"}]}, \"layout\": {\"annotationdefaults\": {\"arrowcolor\": \"#2a3f5f\", \"arrowhead\": 0, \"arrowwidth\": 1}, \"coloraxis\": {\"colorbar\": {\"outlinewidth\": 0, \"ticks\": \"\"}}, \"colorscale\": {\"diverging\": [[0, \"#8e0152\"], [0.1, \"#c51b7d\"], [0.2, \"#de77ae\"], [0.3, \"#f1b6da\"], [0.4, \"#fde0ef\"], [0.5, \"#f7f7f7\"], [0.6, \"#e6f5d0\"], [0.7, \"#b8e186\"], [0.8, \"#7fbc41\"], [0.9, \"#4d9221\"], [1, \"#276419\"]], \"sequential\": [[0.0, \"#0d0887\"], [0.1111111111111111, \"#46039f\"], [0.2222222222222222, \"#7201a8\"], [0.3333333333333333, \"#9c179e\"], [0.4444444444444444, \"#bd3786\"], [0.5555555555555556, \"#d8576b\"], [0.6666666666666666, \"#ed7953\"], [0.7777777777777778, \"#fb9f3a\"], [0.8888888888888888, \"#fdca26\"], [1.0, \"#f0f921\"]], \"sequentialminus\": [[0.0, \"#0d0887\"], [0.1111111111111111, \"#46039f\"], [0.2222222222222222, \"#7201a8\"], [0.3333333333333333, \"#9c179e\"], [0.4444444444444444, \"#bd3786\"], [0.5555555555555556, \"#d8576b\"], [0.6666666666666666, \"#ed7953\"], [0.7777777777777778, \"#fb9f3a\"], [0.8888888888888888, \"#fdca26\"], [1.0, \"#f0f921\"]]}, \"colorway\": [\"#636efa\", \"#EF553B\", \"#00cc96\", \"#ab63fa\", \"#FFA15A\", \"#19d3f3\", \"#FF6692\", \"#B6E880\", \"#FF97FF\", \"#FECB52\"], \"font\": {\"color\": \"#2a3f5f\"}, \"geo\": {\"bgcolor\": \"white\", \"lakecolor\": \"white\", \"landcolor\": \"white\", \"showlakes\": true, \"showland\": true, \"subunitcolor\": \"#C8D4E3\"}, \"hoverlabel\": {\"align\": \"left\"}, \"hovermode\": \"closest\", \"mapbox\": {\"style\": \"light\"}, \"paper_bgcolor\": \"white\", \"plot_bgcolor\": \"white\", \"polar\": {\"angularaxis\": {\"gridcolor\": \"#EBF0F8\", \"linecolor\": \"#EBF0F8\", \"ticks\": \"\"}, \"bgcolor\": \"white\", \"radialaxis\": {\"gridcolor\": \"#EBF0F8\", \"linecolor\": \"#EBF0F8\", \"ticks\": \"\"}}, \"scene\": {\"xaxis\": {\"backgroundcolor\": \"white\", \"gridcolor\": \"#DFE8F3\", \"gridwidth\": 2, \"linecolor\": \"#EBF0F8\", \"showbackground\": true, \"ticks\": \"\", \"zerolinecolor\": \"#EBF0F8\"}, \"yaxis\": {\"backgroundcolor\": \"white\", \"gridcolor\": \"#DFE8F3\", \"gridwidth\": 2, \"linecolor\": \"#EBF0F8\", \"showbackground\": true, \"ticks\": \"\", \"zerolinecolor\": \"#EBF0F8\"}, \"zaxis\": {\"backgroundcolor\": \"white\", \"gridcolor\": \"#DFE8F3\", \"gridwidth\": 2, \"linecolor\": \"#EBF0F8\", \"showbackground\": true, \"ticks\": \"\", \"zerolinecolor\": \"#EBF0F8\"}}, \"shapedefaults\": {\"line\": {\"color\": \"#2a3f5f\"}}, \"ternary\": {\"aaxis\": {\"gridcolor\": \"#DFE8F3\", \"linecolor\": \"#A2B1C6\", \"ticks\": \"\"}, \"baxis\": {\"gridcolor\": \"#DFE8F3\", \"linecolor\": \"#A2B1C6\", \"ticks\": \"\"}, \"bgcolor\": \"white\", \"caxis\": {\"gridcolor\": \"#DFE8F3\", \"linecolor\": \"#A2B1C6\", \"ticks\": \"\"}}, \"title\": {\"x\": 0.05}, \"xaxis\": {\"automargin\": true, \"gridcolor\": \"#EBF0F8\", \"linecolor\": \"#EBF0F8\", \"ticks\": \"\", \"title\": {\"standoff\": 15}, \"zerolinecolor\": \"#EBF0F8\", \"zerolinewidth\": 2}, \"yaxis\": {\"automargin\": true, \"gridcolor\": \"#EBF0F8\", \"linecolor\": \"#EBF0F8\", \"ticks\": \"\", \"title\": {\"standoff\": 15}, \"zerolinecolor\": \"#EBF0F8\", \"zerolinewidth\": 2}}}, \"title\": {\"font\": {\"color\": \"Black\", \"size\": 22}, \"text\": \"<b>Term score decline per Topic</b>\", \"x\": 0.5, \"xanchor\": \"center\", \"y\": 0.9, \"yanchor\": \"top\"}, \"width\": 800, \"xaxis\": {\"dtick\": 2, \"range\": [0, 10], \"tick0\": 1, \"title\": {\"text\": \"Term Rank\"}}, \"yaxis\": {\"title\": {\"text\": \"c-TF-IDF score (log scale)\"}}},                        {\"responsive\": true}                    ).then(function(){\n",
       "                            \n",
       "var gd = document.getElementById('5fc9464f-546c-4328-bb65-1fe1a451bc9a');\n",
       "var x = new MutationObserver(function (mutations, observer) {{\n",
       "        var display = window.getComputedStyle(gd).display;\n",
       "        if (!display || display === 'none') {{\n",
       "            console.log([gd, 'removed!']);\n",
       "            Plotly.purge(gd);\n",
       "            observer.disconnect();\n",
       "        }}\n",
       "}});\n",
       "\n",
       "// Listen for the removal of the full notebook cells\n",
       "var notebookContainer = gd.closest('#notebook-container');\n",
       "if (notebookContainer) {{\n",
       "    x.observe(notebookContainer, {childList: true});\n",
       "}}\n",
       "\n",
       "// Listen for the clearing of the current output cell\n",
       "var outputEl = gd.closest('.output');\n",
       "if (outputEl) {{\n",
       "    x.observe(outputEl, {childList: true});\n",
       "}}\n",
       "\n",
       "                        })                };                });            </script>        </div>"
      ]
     },
     "metadata": {},
     "output_type": "display_data"
    }
   ],
   "source": [
    "topic_model.visualize_term_rank(log_scale=True)"
   ]
  },
  {
   "cell_type": "code",
   "execution_count": 293,
   "metadata": {},
   "outputs": [],
   "source": [
    "# topic_results.to_excel('/Users/cordiez/Documents/CompaniesHouse/OutputFiles/bert_blue_41classes.xls')"
   ]
  },
  {
   "cell_type": "code",
   "execution_count": 302,
   "metadata": {},
   "outputs": [
    {
     "data": {
      "text/html": [
       "<div>\n",
       "<style scoped>\n",
       "    .dataframe tbody tr th:only-of-type {\n",
       "        vertical-align: middle;\n",
       "    }\n",
       "\n",
       "    .dataframe tbody tr th {\n",
       "        vertical-align: top;\n",
       "    }\n",
       "\n",
       "    .dataframe thead th {\n",
       "        text-align: right;\n",
       "    }\n",
       "</style>\n",
       "<table border=\"1\" class=\"dataframe\">\n",
       "  <thead>\n",
       "    <tr style=\"text-align: right;\">\n",
       "      <th></th>\n",
       "      <th>Topic Id</th>\n",
       "      <th>Count</th>\n",
       "      <th>10 most representative words</th>\n",
       "      <th>Supposed activity</th>\n",
       "    </tr>\n",
       "  </thead>\n",
       "  <tbody>\n",
       "    <tr>\n",
       "      <th>0</th>\n",
       "      <td>-1</td>\n",
       "      <td>771</td>\n",
       "      <td>business, services, management, information, privacy, customers, email, courses, 01908, clients</td>\n",
       "      <td>Outliers</td>\n",
       "    </tr>\n",
       "    <tr>\n",
       "      <th>1</th>\n",
       "      <td>0</td>\n",
       "      <td>95</td>\n",
       "      <td>car, vehicle, cars, mercedes, tyres, tyre, benz, vehicles, wheel, volkswagen</td>\n",
       "      <td>Vehicule dealer</td>\n",
       "    </tr>\n",
       "    <tr>\n",
       "      <th>2</th>\n",
       "      <td>1</td>\n",
       "      <td>73</td>\n",
       "      <td>food, menu, sauce, chicken, roast, adipisicing, dishes, restaurant, pizza, delicious</td>\n",
       "      <td>Restaurants</td>\n",
       "    </tr>\n",
       "    <tr>\n",
       "      <th>3</th>\n",
       "      <td>2</td>\n",
       "      <td>68</td>\n",
       "      <td>business, accounting, accountants, accountancy, accounts, financial, accountant, finance, corporate, audit</td>\n",
       "      <td>Accounting</td>\n",
       "    </tr>\n",
       "    <tr>\n",
       "      <th>4</th>\n",
       "      <td>3</td>\n",
       "      <td>63</td>\n",
       "      <td>sensor, cnc, sensors, machining, machines, aluminium, welding, photoelectric, inspection, metal</td>\n",
       "      <td>Industrial automation</td>\n",
       "    </tr>\n",
       "    <tr>\n",
       "      <th>5</th>\n",
       "      <td>4</td>\n",
       "      <td>61</td>\n",
       "      <td>licensee, licensed, construction, property, projects, residential, licensees, license, homes, landscaping</td>\n",
       "      <td>Property management</td>\n",
       "    </tr>\n",
       "    <tr>\n",
       "      <th>6</th>\n",
       "      <td>5</td>\n",
       "      <td>60</td>\n",
       "      <td>marketing, business, brand, services, clients, management, sales, customers, consulting, businesses</td>\n",
       "      <td>Management consulting</td>\n",
       "    </tr>\n",
       "    <tr>\n",
       "      <th>7</th>\n",
       "      <td>6</td>\n",
       "      <td>59</td>\n",
       "      <td>property, rent, valuation, estate, landlords, tenants, tenant, landlord, bedrooms, sell</td>\n",
       "      <td>Real estate</td>\n",
       "    </tr>\n",
       "    <tr>\n",
       "      <th>8</th>\n",
       "      <td>7</td>\n",
       "      <td>52</td>\n",
       "      <td>recruitment, candidates, jobs, job, manager, recruit, employee, clients, vacancies, salary</td>\n",
       "      <td>Recruiting</td>\n",
       "    </tr>\n",
       "    <tr>\n",
       "      <th>9</th>\n",
       "      <td>8</td>\n",
       "      <td>45</td>\n",
       "      <td>wedding, bridal, clothing, bridesmaids, wear, dress, womens, dresses, salon, suit</td>\n",
       "      <td>Event management</td>\n",
       "    </tr>\n",
       "    <tr>\n",
       "      <th>10</th>\n",
       "      <td>9</td>\n",
       "      <td>43</td>\n",
       "      <td>personal, vacuum, hotels, gift, information, privacy, home, furniture, categories, site</td>\n",
       "      <td>Unknown</td>\n",
       "    </tr>\n",
       "    <tr>\n",
       "      <th>11</th>\n",
       "      <td>10</td>\n",
       "      <td>41</td>\n",
       "      <td>cleaning, clean, window, removals, cleaners, cleaner, house, removal, cleans, cleaned</td>\n",
       "      <td>Cleaning</td>\n",
       "    </tr>\n",
       "    <tr>\n",
       "      <th>12</th>\n",
       "      <td>11</td>\n",
       "      <td>40</td>\n",
       "      <td>club, classes, training, gym, badminton, membership, camp, sessions, rooms, clubs</td>\n",
       "      <td>Sports</td>\n",
       "    </tr>\n",
       "    <tr>\n",
       "      <th>13</th>\n",
       "      <td>12</td>\n",
       "      <td>38</td>\n",
       "      <td>heating, plumbing, boiler, gas, engineers, boilers, repairs, plumber, radiators, plumbers</td>\n",
       "      <td>Heating &amp; plumbing</td>\n",
       "    </tr>\n",
       "    <tr>\n",
       "      <th>14</th>\n",
       "      <td>13</td>\n",
       "      <td>36</td>\n",
       "      <td>care, support, autism, families, carers, residents, dementia, community, assistance, resident</td>\n",
       "      <td>Home healthcare</td>\n",
       "    </tr>\n",
       "    <tr>\n",
       "      <th>15</th>\n",
       "      <td>14</td>\n",
       "      <td>32</td>\n",
       "      <td>doors, blinds, windows, door, window, kitchen, hardwood, curtains, showroom, wood</td>\n",
       "      <td>Refurbishment</td>\n",
       "    </tr>\n",
       "    <tr>\n",
       "      <th>16</th>\n",
       "      <td>15</td>\n",
       "      <td>32</td>\n",
       "      <td>hours, message, 01908, place, app, testimonials, table, appointment, pm, menu</td>\n",
       "      <td>Unknown</td>\n",
       "    </tr>\n",
       "    <tr>\n",
       "      <th>17</th>\n",
       "      <td>16</td>\n",
       "      <td>29</td>\n",
       "      <td>cloud, services, microsoft, security, backup, silverbug, cyber, infrastructure, office, digital</td>\n",
       "      <td>Cloud infrastructure</td>\n",
       "    </tr>\n",
       "    <tr>\n",
       "      <th>18</th>\n",
       "      <td>17</td>\n",
       "      <td>26</td>\n",
       "      <td>logistics, freight, courier, transport, delivery, parcel, shipping, express, cargo, ccnp</td>\n",
       "      <td>Logistics</td>\n",
       "    </tr>\n",
       "    <tr>\n",
       "      <th>19</th>\n",
       "      <td>18</td>\n",
       "      <td>26</td>\n",
       "      <td>printing, print, frames, framing, printers, printer, banners, cartridges, flyers, google</td>\n",
       "      <td>Printing</td>\n",
       "    </tr>\n",
       "    <tr>\n",
       "      <th>20</th>\n",
       "      <td>19</td>\n",
       "      <td>26</td>\n",
       "      <td>office, centre, rooms, stables, offices, location, facilities, studios, home, hotel</td>\n",
       "      <td>Office rental</td>\n",
       "    </tr>\n",
       "    <tr>\n",
       "      <th>21</th>\n",
       "      <td>20</td>\n",
       "      <td>24</td>\n",
       "      <td>clinic, massage, acupuncture, therapy, physiotherapy, treatments, pilates, treatment, therapist, cupping</td>\n",
       "      <td>Health care</td>\n",
       "    </tr>\n",
       "    <tr>\n",
       "      <th>22</th>\n",
       "      <td>21</td>\n",
       "      <td>24</td>\n",
       "      <td>law, solicitors, legal, mediation, disputes, litigation, divorce, dispute, solicitor, issues</td>\n",
       "      <td>Legal</td>\n",
       "    </tr>\n",
       "    <tr>\n",
       "      <th>23</th>\n",
       "      <td>22</td>\n",
       "      <td>23</td>\n",
       "      <td>church, prayer, christian, ministry, worship, fellowship, muslim, faith, churches, muslims</td>\n",
       "      <td>Religion</td>\n",
       "    </tr>\n",
       "    <tr>\n",
       "      <th>24</th>\n",
       "      <td>23</td>\n",
       "      <td>23</td>\n",
       "      <td>incense, art, memorabilia, lighting, furniture, wooden, decorative, tables, ceramics, resins</td>\n",
       "      <td>Home decor</td>\n",
       "    </tr>\n",
       "    <tr>\n",
       "      <th>25</th>\n",
       "      <td>24</td>\n",
       "      <td>22</td>\n",
       "      <td>electrical, electrician, electricians, contractors, lighting, electrics, alarms, maintenance, installations, emergency</td>\n",
       "      <td>Electrical maintenance</td>\n",
       "    </tr>\n",
       "    <tr>\n",
       "      <th>26</th>\n",
       "      <td>25</td>\n",
       "      <td>21</td>\n",
       "      <td>construction, engineering, asphalt, concrete, geotechnical, roads, weighbridge, surveyors, ground, rhinophalt</td>\n",
       "      <td>Construction</td>\n",
       "    </tr>\n",
       "    <tr>\n",
       "      <th>27</th>\n",
       "      <td>26</td>\n",
       "      <td>21</td>\n",
       "      <td>skin, treatments, facial, brow, facials, acne, face, peel, surgical, peels</td>\n",
       "      <td>Beauty</td>\n",
       "    </tr>\n",
       "    <tr>\n",
       "      <th>28</th>\n",
       "      <td>27</td>\n",
       "      <td>21</td>\n",
       "      <td>mortgage, mortgages, financial, regulated, insurance, debt, finance, loans, lenders, adviser</td>\n",
       "      <td>Financial services</td>\n",
       "    </tr>\n",
       "    <tr>\n",
       "      <th>29</th>\n",
       "      <td>28</td>\n",
       "      <td>20</td>\n",
       "      <td>courses, students, training, cpfi, counselling, student, skills, college, tuition, seminar</td>\n",
       "      <td>Training</td>\n",
       "    </tr>\n",
       "    <tr>\n",
       "      <th>30</th>\n",
       "      <td>29</td>\n",
       "      <td>18</td>\n",
       "      <td>hair, salon, nail, hairdressing, gel, barbers, hairdressers, prices, nails, lacy</td>\n",
       "      <td>Hairdressing</td>\n",
       "    </tr>\n",
       "    <tr>\n",
       "      <th>31</th>\n",
       "      <td>30</td>\n",
       "      <td>16</td>\n",
       "      <td>taxi, airport, taxis, transfers, booking, vehicles, cab, cars, travel, airports</td>\n",
       "      <td>Transportation</td>\n",
       "    </tr>\n",
       "    <tr>\n",
       "      <th>32</th>\n",
       "      <td>31</td>\n",
       "      <td>14</td>\n",
       "      <td>dog, dogs, turf, breeding, pet, groomers, grooming, puppy, animal, pawty</td>\n",
       "      <td>Grooming</td>\n",
       "    </tr>\n",
       "    <tr>\n",
       "      <th>33</th>\n",
       "      <td>32</td>\n",
       "      <td>13</td>\n",
       "      <td>flooring, carpet, carpets, cfs, tiles, laminate, kitchen, showroom, polyflor, floor</td>\n",
       "      <td>Refurbishment</td>\n",
       "    </tr>\n",
       "    <tr>\n",
       "      <th>34</th>\n",
       "      <td>33</td>\n",
       "      <td>12</td>\n",
       "      <td>school, malvern, academy, students, brighton, learn, education, admissions, london, student</td>\n",
       "      <td>Higher education</td>\n",
       "    </tr>\n",
       "    <tr>\n",
       "      <th>35</th>\n",
       "      <td>34</td>\n",
       "      <td>12</td>\n",
       "      <td>fibre, energy, cabling, carbon, cable, crowdcube, deployable, cables, assemblies, mounting</td>\n",
       "      <td>Energy</td>\n",
       "    </tr>\n",
       "    <tr>\n",
       "      <th>36</th>\n",
       "      <td>35</td>\n",
       "      <td>12</td>\n",
       "      <td>reset, confirm, email, pizza, bookings, close, cancellation, beard, food, barbers</td>\n",
       "      <td>Food</td>\n",
       "    </tr>\n",
       "    <tr>\n",
       "      <th>37</th>\n",
       "      <td>36</td>\n",
       "      <td>11</td>\n",
       "      <td>children, support, charity, adoption, families, donate, family, childrens, parents, community</td>\n",
       "      <td>Charity</td>\n",
       "    </tr>\n",
       "    <tr>\n",
       "      <th>38</th>\n",
       "      <td>37</td>\n",
       "      <td>11</td>\n",
       "      <td>valves, systems, pumps, dryers, equipment, industrial, products, refrigeration, mixers, compressors</td>\n",
       "      <td>Industrial equipment</td>\n",
       "    </tr>\n",
       "    <tr>\n",
       "      <th>39</th>\n",
       "      <td>38</td>\n",
       "      <td>11</td>\n",
       "      <td>safety, logistics, protection, industrial, dangerous, security, transport, emergency, supply, rail</td>\n",
       "      <td>Industrial safety</td>\n",
       "    </tr>\n",
       "    <tr>\n",
       "      <th>40</th>\n",
       "      <td>39</td>\n",
       "      <td>10</td>\n",
       "      <td>security, alarm, alarms, safety, emergency, extinguishers, patrol, key, protection, parking</td>\n",
       "      <td>Property safety</td>\n",
       "    </tr>\n",
       "  </tbody>\n",
       "</table>\n",
       "</div>"
      ],
      "text/plain": [
       "    Topic Id  Count  \\\n",
       "0         -1    771   \n",
       "1          0     95   \n",
       "2          1     73   \n",
       "3          2     68   \n",
       "4          3     63   \n",
       "5          4     61   \n",
       "6          5     60   \n",
       "7          6     59   \n",
       "8          7     52   \n",
       "9          8     45   \n",
       "10         9     43   \n",
       "11        10     41   \n",
       "12        11     40   \n",
       "13        12     38   \n",
       "14        13     36   \n",
       "15        14     32   \n",
       "16        15     32   \n",
       "17        16     29   \n",
       "18        17     26   \n",
       "19        18     26   \n",
       "20        19     26   \n",
       "21        20     24   \n",
       "22        21     24   \n",
       "23        22     23   \n",
       "24        23     23   \n",
       "25        24     22   \n",
       "26        25     21   \n",
       "27        26     21   \n",
       "28        27     21   \n",
       "29        28     20   \n",
       "30        29     18   \n",
       "31        30     16   \n",
       "32        31     14   \n",
       "33        32     13   \n",
       "34        33     12   \n",
       "35        34     12   \n",
       "36        35     12   \n",
       "37        36     11   \n",
       "38        37     11   \n",
       "39        38     11   \n",
       "40        39     10   \n",
       "\n",
       "                                                                                              10 most representative words  \\\n",
       "0                          business, services, management, information, privacy, customers, email, courses, 01908, clients   \n",
       "1                                             car, vehicle, cars, mercedes, tyres, tyre, benz, vehicles, wheel, volkswagen   \n",
       "2                                     food, menu, sauce, chicken, roast, adipisicing, dishes, restaurant, pizza, delicious   \n",
       "3               business, accounting, accountants, accountancy, accounts, financial, accountant, finance, corporate, audit   \n",
       "4                          sensor, cnc, sensors, machining, machines, aluminium, welding, photoelectric, inspection, metal   \n",
       "5                licensee, licensed, construction, property, projects, residential, licensees, license, homes, landscaping   \n",
       "6                      marketing, business, brand, services, clients, management, sales, customers, consulting, businesses   \n",
       "7                                  property, rent, valuation, estate, landlords, tenants, tenant, landlord, bedrooms, sell   \n",
       "8                               recruitment, candidates, jobs, job, manager, recruit, employee, clients, vacancies, salary   \n",
       "9                                        wedding, bridal, clothing, bridesmaids, wear, dress, womens, dresses, salon, suit   \n",
       "10                                 personal, vacuum, hotels, gift, information, privacy, home, furniture, categories, site   \n",
       "11                                   cleaning, clean, window, removals, cleaners, cleaner, house, removal, cleans, cleaned   \n",
       "12                                       club, classes, training, gym, badminton, membership, camp, sessions, rooms, clubs   \n",
       "13                               heating, plumbing, boiler, gas, engineers, boilers, repairs, plumber, radiators, plumbers   \n",
       "14                           care, support, autism, families, carers, residents, dementia, community, assistance, resident   \n",
       "15                                       doors, blinds, windows, door, window, kitchen, hardwood, curtains, showroom, wood   \n",
       "16                                           hours, message, 01908, place, app, testimonials, table, appointment, pm, menu   \n",
       "17                         cloud, services, microsoft, security, backup, silverbug, cyber, infrastructure, office, digital   \n",
       "18                                logistics, freight, courier, transport, delivery, parcel, shipping, express, cargo, ccnp   \n",
       "19                                printing, print, frames, framing, printers, printer, banners, cartridges, flyers, google   \n",
       "20                                     office, centre, rooms, stables, offices, location, facilities, studios, home, hotel   \n",
       "21                clinic, massage, acupuncture, therapy, physiotherapy, treatments, pilates, treatment, therapist, cupping   \n",
       "22                            law, solicitors, legal, mediation, disputes, litigation, divorce, dispute, solicitor, issues   \n",
       "23                              church, prayer, christian, ministry, worship, fellowship, muslim, faith, churches, muslims   \n",
       "24                            incense, art, memorabilia, lighting, furniture, wooden, decorative, tables, ceramics, resins   \n",
       "25  electrical, electrician, electricians, contractors, lighting, electrics, alarms, maintenance, installations, emergency   \n",
       "26           construction, engineering, asphalt, concrete, geotechnical, roads, weighbridge, surveyors, ground, rhinophalt   \n",
       "27                                              skin, treatments, facial, brow, facials, acne, face, peel, surgical, peels   \n",
       "28                            mortgage, mortgages, financial, regulated, insurance, debt, finance, loans, lenders, adviser   \n",
       "29                              courses, students, training, cpfi, counselling, student, skills, college, tuition, seminar   \n",
       "30                                        hair, salon, nail, hairdressing, gel, barbers, hairdressers, prices, nails, lacy   \n",
       "31                                         taxi, airport, taxis, transfers, booking, vehicles, cab, cars, travel, airports   \n",
       "32                                                dog, dogs, turf, breeding, pet, groomers, grooming, puppy, animal, pawty   \n",
       "33                                     flooring, carpet, carpets, cfs, tiles, laminate, kitchen, showroom, polyflor, floor   \n",
       "34                             school, malvern, academy, students, brighton, learn, education, admissions, london, student   \n",
       "35                              fibre, energy, cabling, carbon, cable, crowdcube, deployable, cables, assemblies, mounting   \n",
       "36                                       reset, confirm, email, pizza, bookings, close, cancellation, beard, food, barbers   \n",
       "37                           children, support, charity, adoption, families, donate, family, childrens, parents, community   \n",
       "38                     valves, systems, pumps, dryers, equipment, industrial, products, refrigeration, mixers, compressors   \n",
       "39                      safety, logistics, protection, industrial, dangerous, security, transport, emergency, supply, rail   \n",
       "40                             security, alarm, alarms, safety, emergency, extinguishers, patrol, key, protection, parking   \n",
       "\n",
       "         Supposed activity  \n",
       "0                 Outliers  \n",
       "1          Vehicule dealer  \n",
       "2              Restaurants  \n",
       "3               Accounting  \n",
       "4    Industrial automation  \n",
       "5      Property management  \n",
       "6    Management consulting  \n",
       "7              Real estate  \n",
       "8               Recruiting  \n",
       "9         Event management  \n",
       "10                 Unknown  \n",
       "11                Cleaning  \n",
       "12                  Sports  \n",
       "13      Heating & plumbing  \n",
       "14         Home healthcare  \n",
       "15           Refurbishment  \n",
       "16                 Unknown  \n",
       "17    Cloud infrastructure  \n",
       "18               Logistics  \n",
       "19                Printing  \n",
       "20           Office rental  \n",
       "21             Health care  \n",
       "22                   Legal  \n",
       "23                Religion  \n",
       "24              Home decor  \n",
       "25  Electrical maintenance  \n",
       "26            Construction  \n",
       "27                  Beauty  \n",
       "28      Financial services  \n",
       "29                Training  \n",
       "30            Hairdressing  \n",
       "31          Transportation  \n",
       "32                Grooming  \n",
       "33           Refurbishment  \n",
       "34        Higher education  \n",
       "35                  Energy  \n",
       "36                    Food  \n",
       "37                 Charity  \n",
       "38    Industrial equipment  \n",
       "39       Industrial safety  \n",
       "40         Property safety  "
      ]
     },
     "metadata": {},
     "output_type": "display_data"
    }
   ],
   "source": [
    "classes = pd.read_excel(\n",
    "    \"/Users/cordiez/Documents/CompaniesHouse/OutputFiles/bert_blue_41classes.xls\",\n",
    "    index_col=0,\n",
    ")\n",
    "with option_context(\"display.max_colwidth\", 500):\n",
    "    display(classes)"
   ]
  },
  {
   "cell_type": "code",
   "execution_count": 303,
   "metadata": {},
   "outputs": [
    {
     "data": {
      "text/plain": [
       "2055"
      ]
     },
     "execution_count": 303,
     "metadata": {},
     "output_type": "execute_result"
    }
   ],
   "source": [
    "len(data_ch)"
   ]
  },
  {
   "cell_type": "code",
   "execution_count": 173,
   "metadata": {
    "scrolled": true
   },
   "outputs": [
    {
     "data": {
      "text/html": [
       "<div>\n",
       "<style scoped>\n",
       "    .dataframe tbody tr th:only-of-type {\n",
       "        vertical-align: middle;\n",
       "    }\n",
       "\n",
       "    .dataframe tbody tr th {\n",
       "        vertical-align: top;\n",
       "    }\n",
       "\n",
       "    .dataframe thead th {\n",
       "        text-align: right;\n",
       "    }\n",
       "</style>\n",
       "<table border=\"1\" class=\"dataframe\">\n",
       "  <thead>\n",
       "    <tr style=\"text-align: right;\">\n",
       "      <th></th>\n",
       "      <th>Website</th>\n",
       "      <th>Content</th>\n",
       "      <th>Category</th>\n",
       "    </tr>\n",
       "  </thead>\n",
       "  <tbody>\n",
       "    <tr>\n",
       "      <th>68</th>\n",
       "      <td>https://abeminedu.business.site/?utm_source=gmb&amp;utm_medium=referral</td>\n",
       "      <td>AbeMin Education Centre Ltd - Education CenterAbeMin Education Centre LtdGet QuoteCall nowGet directionsTestimonialsGalleryContactAbeMin Education Centre LtdEducation CenterOpening at 9:00 AM tomorrowGet QuoteCall 07944 388924Get directionsWhatsApp 07944 388924Message 07944 388924Contact UsFind TableMake AppointmentPlace OrderView MenuTestimonialsa week agoReport review- Robert AWrite a ReviewRead MoreGalleryContact UsContactCall now07944 388924AddressGet directions39 MilecastleBancroftM...</td>\n",
       "      <td>9</td>\n",
       "    </tr>\n",
       "    <tr>\n",
       "      <th>141</th>\n",
       "      <td>https://find.shell.com/gb/fuel/12038524-hks-kempston-service-station</td>\n",
       "      <td>HKS KEMPSTON SERVICE STATION Go to our Station Locator HKS KEMPSTON SERVICE STATION WOBURN ROAD, MK42 7QA, Kempston, GB +44 1234 841767 Get Directions Opening Hours Day Mon Tue Wed Thu Fri Sat Sun Forecourt Hours 05:00 - 23:00 05:00 - 23:00 05:00 - 23:00 05:00 - 23:00 05:00 - 23:00 05:00 - 23:00 05:00 - 23:00 Fuels Shell V-Power Unleaded Shell V-Power Diesel Shell FuelSave Unleaded Shell FuelSave Diesel Services &amp; Amenities Car Wash Mobile Payment Shop - Select fuelService Air Loyalty cards ...</td>\n",
       "      <td>9</td>\n",
       "    </tr>\n",
       "    <tr>\n",
       "      <th>151</th>\n",
       "      <td>http://www.alertcctvsys.co.uk/</td>\n",
       "      <td>Alert CCTV Get a free online quote Request a Free Quote We offer a free no obligation quotation and would be happy to meet with you to discuss your requirements. However If you are just looking for idea of cost please complete the information below and we will be happy to give you a quotation. Are you looking to upgrade an existing system? Yes No Request a Quote Phone: 01908 698 777 Email: info@alertcctvsys.co.uk Home About Services Blog Contact GET A QUOTE External &amp; Internal High Definitio...</td>\n",
       "      <td>9</td>\n",
       "    </tr>\n",
       "    <tr>\n",
       "      <th>192</th>\n",
       "      <td>http://amohealthcare.co.uk/</td>\n",
       "      <td>AMO HEALTHCARE LTD - Home Expand/collapse navigation HomeContact UsLegal Notice AMO HEALTHCARE LTD AMO HEALTHCARE LTD HomeContact UsLegal Notice Dr. Osigbeme Awudu MBBCh.  LFHom. PGDip. My Button My Button Personalised Professional Healthcare Services We are located at: AMO HEALTHCARE LTD 5 Chicksands Avenue Milton Keynes MK10 9DP UK Contact us today! If you have any queries or wish to make an appointment, please contact us: +44 795 8034939 +44 795 8034939 Dr.awudu@amohealthcare.co.uk Or use...</td>\n",
       "      <td>9</td>\n",
       "    </tr>\n",
       "    <tr>\n",
       "      <th>208</th>\n",
       "      <td>https://anointed-hands-ltd.business.site/?utm_source=gmb&amp;utm_medium=referral</td>\n",
       "      <td>Anointed hands Ltd | Door To Door UK to Ghana - Freight Forwarding ServiceAnointed hands Ltd | Door To Door UK to GhanaGet QuoteCall nowGet directionsTestimonialsGalleryContactAnointed hands Ltd | Door To Door UK to GhanaFreight Forwarding ServiceOpen today until 10:00 PMGet QuoteCall 07737 776640Get directionsWhatsApp 07737 776640Message 07737 776640Contact UsFind TableView MenuMake AppointmentPlace OrderTestimonials4 months agoReport reviewI've been using them for the past 14 years and...</td>\n",
       "      <td>9</td>\n",
       "    </tr>\n",
       "    <tr>\n",
       "      <th>310</th>\n",
       "      <td>https://azu-electrical-ltd.business.site/?utm_source=gmb&amp;utm_medium=referral</td>\n",
       "      <td>AZU Electrical Ltd - Electrical Installation ServiceYour domain registration is pending. Check back in an hourAZU Electrical LtdGet QuoteCall nowGet directionsUpdatesGalleryContactAZU Electrical LtdElectrical Installation ServiceOpen 24 hoursGet QuoteCall 07574 605177Get directionsWhatsApp 07574 605177Message 07574 605177Contact UsFind TableView MenuMake AppointmentPlace OrderUpdatesPosted on Apr 4, 2021You can call us any time, we are working 24/7 under guidance of Covid rules strictly, ...</td>\n",
       "      <td>9</td>\n",
       "    </tr>\n",
       "    <tr>\n",
       "      <th>414</th>\n",
       "      <td>https://blindmatrix.business.site/?utm_source=gmb&amp;utm_medium=referral</td>\n",
       "      <td>BlindMatrix - World's Best Software for Retailers and Wholesalers of Blinds, Curtains and Shutters.Your domain registration is pending. Check again in an hourBlindMatrixGet QuoteCall nowGet directionsUpdatesTestimonialsAbout usGalleryContactBlindMatrixWorld's Best Software for Retailers and Wholesalers of Blinds, Curtains and Shutters.Sherwood Drive, BletchleyGet QuoteCall 020 7096 1371Get directionsWhatsApp 020 7096 1371Message 020 7096 1371Contact UsFind TableMake AppointmentPlace Order...</td>\n",
       "      <td>9</td>\n",
       "    </tr>\n",
       "    <tr>\n",
       "      <th>420</th>\n",
       "      <td>https://blueskay888.business.site/?utm_source=gmb&amp;utm_medium=referral</td>\n",
       "      <td>BlueSkay888 Ltd - Master Technician Car RepairYour domain registration is pending. Check again in an hourBlueSkay888 LtdMessage usMake AppointmentView MenuTestimonialsGalleryContactBlueSkay888 LtdMaster Technician Car RepairOpen until midnight on FridayMessage 07788 930598Make AppointmentView MenuCall 07788 930598Get directionsWhatsApp 07788 930598Contact UsGet QuoteFind TablePlace OrderTestimonials5 months agoReport reviewArrived quickly and promptly to diagnose electrical problem with ...</td>\n",
       "      <td>9</td>\n",
       "    </tr>\n",
       "    <tr>\n",
       "      <th>424</th>\n",
       "      <td>https://find.shell.com/gb/fuel/12038450-shell-budgens-broughton</td>\n",
       "      <td>SHELL BUDGENS BROUGHTON Go to our Station Locator SHELL BUDGENS BROUGHTON CHILDS WAY, MK10 9AB, MILTON KEYNES, GB +44 1908 239291 Get Directions Opening Hours Day Mon Tue Wed Thu Fri Sat Sun Forecourt Hours Open 24 Hours Open 24 Hours Open 24 Hours Open 24 Hours Open 24 Hours Open 24 Hours Open 24 Hours Fuels Shell V-Power Unleaded Shell V-Power Diesel Shell FuelSave Unleaded Shell FuelSave Diesel Services &amp; Amenities Car Wash Toilet Costa Express Mobile Payment Shop - Select Budgens fuelSer...</td>\n",
       "      <td>9</td>\n",
       "    </tr>\n",
       "    <tr>\n",
       "      <th>436</th>\n",
       "      <td>https://www.bonguk.com/contact-us/</td>\n",
       "      <td>Contact us - Bong UK HomeAbout UsExpertise &amp; ServicesProductsSolutionsNewsEnvironmentDealer ZoneContact us Home &gt; Contact us How to find us Stockists Testimonials Contact us Contact our friendly Customer Services Team t 01908 216216  f 01908 216217 08:30am – 5:00pm, 5 days a week (call charges vary according to service provider). Customer Services customerservicesuk@bong.com print_link mail_link_text Bong Websites Dealer Zone | Envelope Lounge Quick Links Our Heritage Choosing the Right Enve...</td>\n",
       "      <td>9</td>\n",
       "    </tr>\n",
       "    <tr>\n",
       "      <th>498</th>\n",
       "      <td>https://burrcrossproperties.business.site/?utm_source=gmb&amp;utm_medium=referral</td>\n",
       "      <td>Burrcross Properties - Property InvestmentBurrcross PropertiesMake AppointmentCall nowGet directionsGalleryContactBurrcross PropertiesProperty InvestmentOpening at 9:00 AM tomorrowMake AppointmentCall 01908 267153Get directionsWhatsApp 01908 267153Message 01908 267153Contact UsGet QuoteFind TablePlace OrderView MenuGalleryContact UsContactCall now01908 267153AddressGet directions9 Gallagher CloseCrownhillMilton KeynesMK8 0LQUnited KingdomBusiness HoursMon:9:00 AM – 5:00 PMTue:9:00 AM – 5:...</td>\n",
       "      <td>9</td>\n",
       "    </tr>\n",
       "    <tr>\n",
       "      <th>510</th>\n",
       "      <td>https://caketastic-no2.business.site/</td>\n",
       "      <td>Caketastic Ltd - Cake Shop in BletchleyCaketastic LtdGet QuoteCall nowGet directionsTestimonialsGalleryContactCaketastic LtdCake Shop in BletchleyOpening at 10:00 AM tomorrowGet QuoteCall 01908 373212Get directionsWhatsApp 01908 373212Message 01908 373212Contact UsFind TableView MenuMake AppointmentPlace OrderTestimonialsa week agoReport reviewWhat an amazing cake! They made the perfect cake for our Harry Potter Vow Renewal. 3 delicious flavours (chocolate, vanilla and lemon) with plenty...</td>\n",
       "      <td>9</td>\n",
       "    </tr>\n",
       "    <tr>\n",
       "      <th>752</th>\n",
       "      <td>https://da-harris-limited.business.site/?utm_source=gmb&amp;utm_medium=referral</td>\n",
       "      <td>Da Harris Limited - E-Commerce ServiceDa Harris LimitedGet QuoteCall nowGet directionsGalleryContactDa Harris LimitedE-Commerce ServiceOpen until midnight on FridayGet QuoteCall 07309 399373Get directionsWhatsApp 07309 399373Message 07309 399373Contact UsFind TableMake AppointmentPlace OrderView MenuGalleryContact UsContactCall now07309 399373AddressGet directions49 Century AvenueMilton KeynesMK62ULUnited KingdomBusiness HoursMon:Open 24 hoursTue:Open 24 hoursWed:Open 24 hoursThu:Open 24 ...</td>\n",
       "      <td>9</td>\n",
       "    </tr>\n",
       "    <tr>\n",
       "      <th>778</th>\n",
       "      <td>https://dealerz-limited.business.site/?utm_source=gmb&amp;utm_medium=referral</td>\n",
       "      <td>Dealerz Limited - WholesalerDealerz LimitedGet QuoteCall nowGet directionsTestimonialsAbout usContactDealerz LimitedWholesalerOpening at 9:30 AM tomorrowGet QuoteCall 01908 263563Get directionsWhatsApp 01908 263563Message 01908 263563Contact UsFind TableMake AppointmentPlace OrderView MenuTestimonialsa year agoReport review- Dealerz LWrite a ReviewRead MoreAbout usWe specialise in providing great deals on electronics and gadgets for everyday life with expanding growth in trade for Electr...</td>\n",
       "      <td>9</td>\n",
       "    </tr>\n",
       "    <tr>\n",
       "      <th>832</th>\n",
       "      <td>https://website--8927205744064680462209-pub.business.site/?utm_source=gmb&amp;utm_medium=referral</td>\n",
       "      <td>The Dolphin - PubThe DolphinGet QuoteCall nowGet directionsTestimonialsGalleryContactThe DolphinPubOpening at 2:00 PM tomorrowGet QuoteCall 01908 632000Get directionsWhatsApp 01908 632000Message 01908 632000Contact UsFind TableView MenuMake AppointmentPlace OrderTestimonials4 weeks agoReport reviewIâ€TMve never been so hungover in my lifeâ€¦ Sign of a good night, right?- Kamala A9 months agoReport reviewHonestly an amazing place to go to,, the dinners on Sundays are bangin'</td>\n",
       "      <td>9</td>\n",
       "    </tr>\n",
       "    <tr>\n",
       "      <th>835</th>\n",
       "      <td>http://dotcomconsultancy.com/?utm_source=gmb&amp;utm_medium=referral</td>\n",
       "      <td>Dotcom Consultancy Ltd - Assisting our customers since 1996 with Digital Marketing Services and SEO in Milton Keynes.Your domain registration is pending. Check again in an hourDotcom Consultancy LtdGet QuoteCall nowGet directionsTestimonialsAbout usContactDotCom Consultancy LtdAssisting our customers since 1996 with Digital Marketing Services and SEO in Milton Keynes.Opening at 09:00 tomorrowGet QuoteCall 01908 424385Get directionsWhatsApp 01908 424385Message 01908 424385Contact UsFind Ta...</td>\n",
       "      <td>9</td>\n",
       "    </tr>\n",
       "    <tr>\n",
       "      <th>941</th>\n",
       "      <td>https://esiay-uk-ltd.business.site/?utm_source=gmb&amp;utm_medium=referral</td>\n",
       "      <td>ESIAY UK Ltd - Security System InstallerESIAY UK LtdGet QuoteCall nowGet directionsUpdatesGalleryContactESIAY UK LtdSecurity System InstallerOpen 24 hoursGet QuoteCall 07597 110607Get directionsWhatsApp 07597 110607Message 07597 110607Contact UsFind TableMake AppointmentPlace OrderView MenuUpdates</td>\n",
       "      <td>9</td>\n",
       "    </tr>\n",
       "    <tr>\n",
       "      <th>1000</th>\n",
       "      <td>http://factoryclearanceflooring.com/?utm_source=gmb&amp;utm_medium=referral</td>\n",
       "      <td>Factory Clearance Flooring - Discount Flooring ShopYour domain registration is pending. Check again in an hourFactory Clearance FlooringGet directionsCall nowUpdatesTestimonialsAbout usGalleryContactFactory Clearance FlooringDiscount Flooring ShopOpening at 10:00 tomorrowGet directionsCall 01908 366300WhatsApp 01908 366300Message 01908 366300Contact UsGet QuoteFind TableMake AppointmentPlace OrderView MenuUpdatesPosted on Jul 30, 2021Please remember to help keep everyone safe and if possib...</td>\n",
       "      <td>9</td>\n",
       "    </tr>\n",
       "    <tr>\n",
       "      <th>1141</th>\n",
       "      <td>https://goddano-hair-stylists.business.site/?utm_source=gmb&amp;utm_medium=referral</td>\n",
       "      <td>Goddano hair stylists - Beauty SalonGoddano hair stylistsGet QuoteCall nowGet directionsUpdatesTestimonialsGalleryContactGoddano hair stylistsBeauty SalonOpening at 09:00 tomorrowGet QuoteCall 01908 417043Get directionsWhatsApp 01908 417043Message 01908 417043Contact UsFind TableMake AppointmentPlace OrderView MenuUpdatesPosted on 06-Sep-2020Posted on 17-Jul-2020We are now open for business Confirmation Ceremony25-Jul-2019 â€“ 26-Jul-2019Posted on 05-Jun-2019</td>\n",
       "      <td>9</td>\n",
       "    </tr>\n",
       "    <tr>\n",
       "      <th>1204</th>\n",
       "      <td>https://happyhomehealthcareltd.business.site/?utm_source=gmb&amp;utm_medium=referral</td>\n",
       "      <td>Happy Home Healthcare Ltd - Serviced AccommodationHappy Home Healthcare LtdGet QuoteCall nowGet directionsContactHappy Home Healthcare LtdServiced AccommodationOpening at 9:00 AM tomorrowGet QuoteCall 07912 649659Get directionsWhatsApp 07912 649659Message 07912 649659Contact UsFind TableMake AppointmentPlace OrderView MenuContact UsContactCall now07912 649659AddressGet directions54 Towan AvenueFishermeadMilton KeynesMK6 2DRUnited KingdomBusiness HoursMon:9:00 AM – 9:00 PMTue:9:00 AM – 9:0...</td>\n",
       "      <td>9</td>\n",
       "    </tr>\n",
       "    <tr>\n",
       "      <th>1219</th>\n",
       "      <td>https://www.bpas.org/clinics/bpas-milton-keynes-temporarily-closed-due-to-covid-19/</td>\n",
       "      <td>Abortion Clinic | BPAS Milton Keynes | BPAS Text Only Version A | A | A Select LanguageAfrikaansAlbanianArabicArmenianAzerbaijaniBasqueBelarusianBulgarianCatalanChinese (Simplified)Chinese (Traditional)CroatianCzechDanishDutchEnglishEstonianFilipinoFinnishFrenchGalicianGeorgianGermanGreekHaitian CreoleHebrewHindiHungarianIcelandicIndonesianIrishItalianJapaneseKoreanLatvianLithuanianMacedonianMalayMalteseNorwegianPersianPolishPortugueseRomanianRussianSerbianSlovakSlovenianSpanishSwahiliSwedis...</td>\n",
       "      <td>9</td>\n",
       "    </tr>\n",
       "    <tr>\n",
       "      <th>1269</th>\n",
       "      <td>https://hridya-childminding.business.site/?utm_source=gmb&amp;utm_medium=referral</td>\n",
       "      <td>Hridya Childminding - ChildminderHridya ChildmindingGet QuoteCall nowGet directionsAbout usGalleryContactHridya ChildmindingChildminderOpen until midnight on FridayGet QuoteCall 07952 975738Get directionsWhatsApp 07952 975738Message 07952 975738Contact UsFind TableMake AppointmentPlace OrderView MenuAbout usAbout MeI am Vaishali Thomare.I am an Ofsted registered childminder. I stay in MK10 7HD Brooklands area in Milton Keynes.I am married and we have 6 and 1 years old beautiful daughters....</td>\n",
       "      <td>9</td>\n",
       "    </tr>\n",
       "    <tr>\n",
       "      <th>1371</th>\n",
       "      <td>http://emea-en.jcmglobal.com/contact-us/emea/</td>\n",
       "      <td>Contact Us - EMEA - JCM Global - JCM Global JCM Global Welcome to JCM Global Investor Relations Select your Language The Americas English Europe, Middle East And Africa (EMEA) English Asia-pacific (APAC) English Japan English Japanese Products Support About JCM Contact Us Search CONTACT USAll Locations The Americas Asia-Pacific EMEA Distributors / Service Centers General Inquiry EMEA Germany JCM Europe GmbH Mündelheimer Weg 60 40472 Düsseldorf Germany Tel: +49 (0)211 – 530645-0 Fax:+49 (0)...</td>\n",
       "      <td>9</td>\n",
       "    </tr>\n",
       "    <tr>\n",
       "      <th>1558</th>\n",
       "      <td>http://manha-mini-market.business.site/</td>\n",
       "      <td>MANHA MINI MARKET - Butchers in Neath HillMANHA MINI MARKETGet QuoteCall nowGet directionsUpdatesTestimonialsGalleryContactMANHA MINI MARKETButchers in Neath HillOpening at 08:30 tomorrowGet QuoteCall 01908 418606Get directionsWhatsApp 01908 418606Message 01908 418606Contact UsFind TableMake AppointmentPlace OrderView MenuUpdatesPosted on Dec 12, 2019Posted on Dec 6, 2019Please call 01908-418606 for orders Posted on Nov 21, 2019ELAKKIA Snacks available Posted on Nov 21, 2019All varieties...</td>\n",
       "      <td>9</td>\n",
       "    </tr>\n",
       "    <tr>\n",
       "      <th>1585</th>\n",
       "      <td>https://mazur-trans-ltd.business.site/?utm_source=gmb&amp;utm_medium=referral</td>\n",
       "      <td>MAZUR TRANS LTD - BASED IN MILTON KEYNES WE OFFER SAMEDAY, NEXT DAY &amp; INTERNATIONAL DELIVERY MAZUR TRANS LTDGet QuoteCall nowGet directionsTestimonialsGalleryContactMAZUR TRANS LTDBASED IN MILTON KEYNES WE OFFER SAMEDAY, NEXT DAY &amp; INTERNATIONAL DELIVERY Opening at 08:00 tomorrowGet QuoteCall 07860 377382Get directionsWhatsApp 07860 377382Message 07860 377382Contact UsFind TableView MenuMake AppointmentPlace OrderTestimonials3 weeks agoReport review</td>\n",
       "      <td>9</td>\n",
       "    </tr>\n",
       "    <tr>\n",
       "      <th>1658</th>\n",
       "      <td>https://leotech-air-condition-home.business.site/?utm_source=gmb&amp;utm_medium=referral</td>\n",
       "      <td>Leotech Air Condition Home Improvement - Air Conditioning Contractor in GhanaLeotech Air Condition Home ImprovementGet QuoteCall nowGet directionsContactLeotech Air Condition Home ImprovementAir Conditioning Contractor in GhanaKonfo Anokye street, GhanaGet QuoteCall 024 450 2285Get directionsWhatsApp 024 450 2285Message 024 450 2285Contact UsFind TableMake AppointmentPlace OrderView MenuContact UsContactCall now024 450 2285AddressGet directionsKonfo Anokye streetGhanaReport abusePowered b...</td>\n",
       "      <td>9</td>\n",
       "    </tr>\n",
       "    <tr>\n",
       "      <th>1683</th>\n",
       "      <td>http://mkblaster.com/</td>\n",
       "      <td>MK Blaster LTD - Mobile Sandblasting ServicesYour domain registration is pending. Check again in an hourMK Blaster LTDWhatsAppCall nowGet directionsUpdatesTestimonialsAbout usGalleryContactMK Blaster LTDMobile Sandblasting ServicesOpen 24 hoursWhatsApp 07403 951426Call 07403 951426Get directionsMessage 07403 951426Contact UsGet QuoteFind TableMake AppointmentPlace OrderView MenuUpdatesPosted on May 16, 2021Posted on Apr 17, 2021Oak cleaning in progress Posted on Mar 19, 2021Mobile Blastin...</td>\n",
       "      <td>9</td>\n",
       "    </tr>\n",
       "    <tr>\n",
       "      <th>1709</th>\n",
       "      <td>https://mktawahouse.business.site/?utm_source=gmb&amp;utm_medium=referral</td>\n",
       "      <td>Mktawahouse - RestaurantMktawahouseGet QuoteCall nowGet directionsTestimonialsGalleryContactMktawahouseRestaurantOpen today until 11:30 PMGet QuoteCall 01908 377600Get directionsWhatsApp 01908 377600Message 01908 377600Contact UsFind TableView MenuMake AppointmentPlace OrderTestimonials4 days agoReport review</td>\n",
       "      <td>9</td>\n",
       "    </tr>\n",
       "    <tr>\n",
       "      <th>1739</th>\n",
       "      <td>https://motexx.business.site/?utm_source=gmb&amp;utm_medium=referral</td>\n",
       "      <td>Motexx - Car ServiceMotexxGet QuoteCall nowGet directionsUpdatesTestimonialsGalleryContactMotexxCar ServiceOpening at 09:00 tomorrowGet QuoteCall 01908 632903Get directionsWhatsApp 01908 632903Message 01908 632903Contact UsFind TableMake AppointmentPlace OrderView MenuUpdatesPosted on 24-May-2019Welcome to Motexx, we have moved, we are now based at 6 Sinclair court, image above shows location, we specialise in car repairs including engine work , clutch replacements, servicing, mot and tyr...</td>\n",
       "      <td>9</td>\n",
       "    </tr>\n",
       "    <tr>\n",
       "      <th>1798</th>\n",
       "      <td>https://new-china-garden-meal-takeaway.business.site/?utm_source=gmb&amp;utm_medium=referral</td>\n",
       "      <td>New China Garden - Chinese TakeawayNew China GardenGet QuoteCall nowGet directionsUpdatesTestimonialsGalleryContactNew China GardenChinese TakeawayOpen today until 23:00Get QuoteCall 01908 605245Get directionsWhatsApp 01908 605245Message 01908 605245Contact UsFind TableView MenuMake AppointmentPlace OrderUpdatesPosted on 07-Nov-2020Dear customers,During this lockdown we be staying open and closing at the same time.ThanksCall nowPosted on 03-Oct-2020Dear customers,Our phone is working now....</td>\n",
       "      <td>9</td>\n",
       "    </tr>\n",
       "    <tr>\n",
       "      <th>1814</th>\n",
       "      <td>https://www.niftylift.com/</td>\n",
       "      <td>Mobile Elevating Work Platforms | Buy or Rent Today | Niftylift Menu GB - English Contact Us +44 1908 223456 Sign In ProductsProduct SelectorTrailer MountedNifty 120 | 12.3mNifty 120T | 12.2mNifty 150T | 14.7mNifty 170 | 17.1mNifty 210 | 21mSelf PropelledHR12L | 12.1mHR12N | 12.2mHR12 4x4 | 12.2mHR15N | 15.5mHR15 4x4 | 15.7mHR17N | 17mHR17 4x4 | 17.2mHR21E | 20.8mHR21 4x4 | 20.8mHR28 4x4 | 28mSelf DriveSD120T 4x4 | 12.65mSD170 4x4 | 17.1mSD210 4x4x4 | 21.3mTrackDriveTD120TN | 12.2mTD120T | 1...</td>\n",
       "      <td>9</td>\n",
       "    </tr>\n",
       "    <tr>\n",
       "      <th>1956</th>\n",
       "      <td>https://pjw-alloys-ltd.business.site/</td>\n",
       "      <td>PJW Alloys LTD - Auto Body ShopPJW Alloys LTDGet QuoteCall nowGet directionsAbout usGalleryContactPJW Alloys LTDAuto Body ShopOpening at 9:00 AM tomorrowGet QuoteCall 07475 427900Get directionsWhatsApp 07475 427900Message 07475 427900Contact UsFind TableMake AppointmentPlace OrderView MenuWelcome to our auto body shop. Whatever your needs may be, get in touch with us today for more details about our products and services. We look forward to meeting you.Read MoreGalleryContact UsContactCal...</td>\n",
       "      <td>9</td>\n",
       "    </tr>\n",
       "    <tr>\n",
       "      <th>2034</th>\n",
       "      <td>https://quantum-accounting-services-limited.business.site/?utm_source=gmb&amp;utm_medium=referral</td>\n",
       "      <td>Quantum Accounting Services Limited - Accounting FirmQuantum Accounting Services LimitedGet QuoteCall nowGet directionsContactQuantum Accounting Services LimitedAccounting FirmOpening at 8:00 AM tomorrowGet QuoteCall 07777 649406Get directionsWhatsApp 07777 649406Message 07777 649406Contact UsFind TableMake AppointmentPlace OrderView MenuContact UsContactCall now07777 649406AddressGet directions14 Wolverton RoadHavershamMilton KeynesMK19 7AAUnited KingdomBusiness HoursMon:8:00 AM – 6:00 P...</td>\n",
       "      <td>9</td>\n",
       "    </tr>\n",
       "    <tr>\n",
       "      <th>2074</th>\n",
       "      <td>https://remote-it-support-services.business.site/?utm_source=gmb&amp;utm_medium=referral</td>\n",
       "      <td>Remote it support services - Computer Support And ServicesYour domain registration is pending. Check back in an hourRemote it support servicesGet QuoteCall nowGet directionsTestimonialsGalleryContactRemote it support servicesComputer Support And Services7 Flavius Gardens, Fairfield, Milton KeynesGet QuoteCall 07746 204993Get directionsWhatsApp 07746 204993Message 07746 204993Contact UsFind TableMake AppointmentPlace OrderView MenuTestimonials11 months agoReport review- Pango LWrite a Rev...</td>\n",
       "      <td>9</td>\n",
       "    </tr>\n",
       "    <tr>\n",
       "      <th>2088</th>\n",
       "      <td>http://www.rfeinternational.com/</td>\n",
       "      <td>RFE Internationl | Global Sports and Fitness ABOUT USCOMPANY INFOOUR LOCATIONSBRANDSREEBOKADIDASDYNAMAXLATEST NEWSCONTACT USONLINE ORDERINGPRODUCT LIBRARYMore...Use tab to navigate through the menu items.REEBOK ・ ADIDAS ・ DYNAMAXMARKET LEADING PRODUCT LINESFIND OUT MORE LATEST NEWSORDERINGProduct LibraryOnline OrderingAdministrationIntranetCONNECTContact UsLatest NewsAbout UsOur LocationsWEBSITESReebok Fitnessadidas TrainingDynamax FitnessINFOTerms &amp; ConditionsPrivacy PolicyModern Slavery St...</td>\n",
       "      <td>9</td>\n",
       "    </tr>\n",
       "    <tr>\n",
       "      <th>2222</th>\n",
       "      <td>https://shriven.business.site/?utm_source=gmb&amp;utm_medium=referral</td>\n",
       "      <td>SHRIVEN Group - Health &amp; Skincare / Business ConsultantSHRIVEN GroupContact UsCall nowGet directionsUpdatesTestimonialsAbout usGalleryContactSHRIVEN GroupHealth &amp; Skincare / Business ConsultantOpening at 08:00Contact UsCall 07966 946302Get directionsWhatsApp 07966 946302Message 07966 946302Get QuoteFind TableMake AppointmentPlace OrderView MenuUpdatesPosted on Jul 13, 2021Did you know, approximately 70% of immunologically active cells are in the intestinal lining?Products containing lacti...</td>\n",
       "      <td>9</td>\n",
       "    </tr>\n",
       "    <tr>\n",
       "      <th>2238</th>\n",
       "      <td>http://skye-digital.co.uk/?utm_source=gmb&amp;utm_medium=referral</td>\n",
       "      <td>Skye Solutions Limited - Making business sense of enterprise solutionsYour domain registration is pending. Check back in an hourSkye Solutions LimitedGet QuoteCall nowGet directionsContactSkye Solutions LimitedMaking business sense of enterprise solutionsOpening at 9:00 AM tomorrowGet QuoteCall 07379 531891Get directionsWhatsApp 07379 531891Message 07379 531891Contact UsFind TableMake AppointmentPlace OrderView MenuContact UsContactCall now07379 531891AddressGet directionsGatcombe StreetM...</td>\n",
       "      <td>9</td>\n",
       "    </tr>\n",
       "    <tr>\n",
       "      <th>2269</th>\n",
       "      <td>https://softech365-it-computer-consultant.business.site/?utm_source=gmb&amp;utm_medium=referral</td>\n",
       "      <td>Softech365 - IT Consultation and ServicesSoftech365Get QuoteCall nowGet directionsGalleryContactSoftech365IT Consultation and ServicesOpening at 08:00 tomorrowGet QuoteCall 07400 157329Get directionsWhatsApp 07400 157329Message 07400 157329Contact UsFind TableMake AppointmentPlace OrderView MenuGalleryContact UsContactCall now07400 157329AddressGet directions43 Mellish CourtMilton KeynesMK3 6PFUnited KingdomOpening HoursMon:8:00 am – 6:00 pmTue:8:00 am – 6:00 pmWed:8:00 am – 6:00 pmThu:8:...</td>\n",
       "      <td>9</td>\n",
       "    </tr>\n",
       "    <tr>\n",
       "      <th>2309</th>\n",
       "      <td>https://stan-mk.business.site/?utm_source=gmb&amp;utm_medium=referral</td>\n",
       "      <td>Stan MK - Transportation ServiceStan MKGet QuoteCall nowGet directionsContactStan MKTransportation ServiceOpen 24 hoursGet QuoteCall 07453 907599Get directionsWhatsApp 07453 907599Message 07453 907599Contact UsFind TableMake AppointmentPlace OrderView MenuContact UsContactCall now07453 907599AddressGet directions84 Victoria StreetMilton KeynesMK12 5HJUnited KingdomBusiness HoursMon:Open 24 hoursTue:Open 24 hoursWed:Open 24 hoursThu:Open 24 hoursFri:Open 24 hoursSat:Open 24 hoursSun:Open 2...</td>\n",
       "      <td>9</td>\n",
       "    </tr>\n",
       "    <tr>\n",
       "      <th>2488</th>\n",
       "      <td>https://mjelectricalltd.business.site/?utm_source=gmb&amp;utm_medium=referral</td>\n",
       "      <td>MJ Electrical &amp; Building Services LtdMJ Electrical &amp; Building Services LtdGet QuoteCall nowGet directionsTestimonialsAbout usGalleryContact Open 24 hoursGet QuoteCall 07944 275171Get directionsWhatsApp 07944 275171Message 07944 275171Contact UsFind TableView MenuMake AppointmentPlace OrderTestimonialsa year agoReport reviewHave used Matt on a few jobs now and his work cannot be faulted. Always on time, if not earlier. Good communication and a good eye for detail. Have and would recommend...</td>\n",
       "      <td>9</td>\n",
       "    </tr>\n",
       "    <tr>\n",
       "      <th>2521</th>\n",
       "      <td>https://traveltoflyltd.business.site/?utm_source=gmb&amp;utm_medium=referral</td>\n",
       "      <td>Travel to Fly - Travel AgencyTravel to FlyGet QuoteCall nowGet directionsUpdatesTestimonialsAbout usGalleryContactTravel to FlyTravel AgencyOpening at 9:00 AM tomorrowGet QuoteCall 020 3773 2636Get directionsWhatsApp 020 3773 2636Message 020 3773 2636Contact UsFind TableMake AppointmentPlace OrderView MenuUpdatesBEST DEALS FOR EASTER AND HOLIDAYSJun 1, 2021 – Aug 31, 2021Show this code at the store: Posted on Aug 22, 2020Visit our Company WebsiteBookTestimonialsa month agoReport reviewI ...</td>\n",
       "      <td>9</td>\n",
       "    </tr>\n",
       "    <tr>\n",
       "      <th>2551</th>\n",
       "      <td>https://ucca-ltd.business.site/?utm_source=gmb&amp;utm_medium=referral</td>\n",
       "      <td>UCCA Ltd - Our service-----Management consultingUCCA LtdGet QuoteCall nowGet directionsAbout usGalleryContactUCCA LtdOur service-----Management consulting323 Countess Way, Milton KeynesGet QuoteCall 01908 061183Get directionsWhatsApp 01908 061183Message 01908 061183Contact UsFind TableMake AppointmentPlace OrderView MenuManagement consulting Important InformationBecause of COVID-19, to keep our employees and customers safe, UCCA Ltd encourages employees work from home. Our office is close...</td>\n",
       "      <td>9</td>\n",
       "    </tr>\n",
       "    <tr>\n",
       "      <th>2612</th>\n",
       "      <td>https://walnut-pet-supplies.business.site/</td>\n",
       "      <td>Walnut Pet Supplies - Pet Supply StoreWalnut Pet SuppliesGet QuoteCall nowGet directionsUpdatesTestimonialsAbout usGalleryContactWalnut Pet SuppliesPet Supply StoreOpening at 8:00 AM tomorrowGet QuoteCall 01908 661533Get directionsWhatsApp 01908 661533Message 01908 661533Contact UsFind TableMake AppointmentPlace OrderView MenuUpdatesPosted on 09-Jun-2018Big discounts online visit HTTPS://walnutpetsupplies.directTestimonialsa week agoReport reviewGood well stocked and varied supply of all...</td>\n",
       "      <td>9</td>\n",
       "    </tr>\n",
       "  </tbody>\n",
       "</table>\n",
       "</div>"
      ],
      "text/plain": [
       "                                                                                            Website  \\\n",
       "68                              https://abeminedu.business.site/?utm_source=gmb&utm_medium=referral   \n",
       "141                            https://find.shell.com/gb/fuel/12038524-hks-kempston-service-station   \n",
       "151                                                                  http://www.alertcctvsys.co.uk/   \n",
       "192                                                                     http://amohealthcare.co.uk/   \n",
       "208                    https://anointed-hands-ltd.business.site/?utm_source=gmb&utm_medium=referral   \n",
       "310                    https://azu-electrical-ltd.business.site/?utm_source=gmb&utm_medium=referral   \n",
       "414                           https://blindmatrix.business.site/?utm_source=gmb&utm_medium=referral   \n",
       "420                           https://blueskay888.business.site/?utm_source=gmb&utm_medium=referral   \n",
       "424                                 https://find.shell.com/gb/fuel/12038450-shell-budgens-broughton   \n",
       "436                                                              https://www.bonguk.com/contact-us/   \n",
       "498                   https://burrcrossproperties.business.site/?utm_source=gmb&utm_medium=referral   \n",
       "510                                                           https://caketastic-no2.business.site/   \n",
       "752                     https://da-harris-limited.business.site/?utm_source=gmb&utm_medium=referral   \n",
       "778                       https://dealerz-limited.business.site/?utm_source=gmb&utm_medium=referral   \n",
       "832   https://website--8927205744064680462209-pub.business.site/?utm_source=gmb&utm_medium=referral   \n",
       "835                                http://dotcomconsultancy.com/?utm_source=gmb&utm_medium=referral   \n",
       "941                          https://esiay-uk-ltd.business.site/?utm_source=gmb&utm_medium=referral   \n",
       "1000                        http://factoryclearanceflooring.com/?utm_source=gmb&utm_medium=referral   \n",
       "1141                https://goddano-hair-stylists.business.site/?utm_source=gmb&utm_medium=referral   \n",
       "1204               https://happyhomehealthcareltd.business.site/?utm_source=gmb&utm_medium=referral   \n",
       "1219            https://www.bpas.org/clinics/bpas-milton-keynes-temporarily-closed-due-to-covid-19/   \n",
       "1269                  https://hridya-childminding.business.site/?utm_source=gmb&utm_medium=referral   \n",
       "1371                                                  http://emea-en.jcmglobal.com/contact-us/emea/   \n",
       "1558                                                        http://manha-mini-market.business.site/   \n",
       "1585                      https://mazur-trans-ltd.business.site/?utm_source=gmb&utm_medium=referral   \n",
       "1658           https://leotech-air-condition-home.business.site/?utm_source=gmb&utm_medium=referral   \n",
       "1683                                                                          http://mkblaster.com/   \n",
       "1709                          https://mktawahouse.business.site/?utm_source=gmb&utm_medium=referral   \n",
       "1739                               https://motexx.business.site/?utm_source=gmb&utm_medium=referral   \n",
       "1798       https://new-china-garden-meal-takeaway.business.site/?utm_source=gmb&utm_medium=referral   \n",
       "1814                                                                     https://www.niftylift.com/   \n",
       "1956                                                          https://pjw-alloys-ltd.business.site/   \n",
       "2034  https://quantum-accounting-services-limited.business.site/?utm_source=gmb&utm_medium=referral   \n",
       "2074           https://remote-it-support-services.business.site/?utm_source=gmb&utm_medium=referral   \n",
       "2088                                                               http://www.rfeinternational.com/   \n",
       "2222                              https://shriven.business.site/?utm_source=gmb&utm_medium=referral   \n",
       "2238                                  http://skye-digital.co.uk/?utm_source=gmb&utm_medium=referral   \n",
       "2269    https://softech365-it-computer-consultant.business.site/?utm_source=gmb&utm_medium=referral   \n",
       "2309                              https://stan-mk.business.site/?utm_source=gmb&utm_medium=referral   \n",
       "2488                      https://mjelectricalltd.business.site/?utm_source=gmb&utm_medium=referral   \n",
       "2521                       https://traveltoflyltd.business.site/?utm_source=gmb&utm_medium=referral   \n",
       "2551                             https://ucca-ltd.business.site/?utm_source=gmb&utm_medium=referral   \n",
       "2612                                                     https://walnut-pet-supplies.business.site/   \n",
       "\n",
       "                                                                                                                                                                                                                                                                                                                                                                                                                                                                                                                  Content  \\\n",
       "68    AbeMin Education Centre Ltd - Education CenterAbeMin Education Centre LtdGet QuoteCall nowGet directionsTestimonialsGalleryContactAbeMin Education Centre LtdEducation CenterOpening at 9:00 AM tomorrowGet QuoteCall 07944 388924Get directionsWhatsApp 07944 388924Message 07944 388924Contact UsFind TableMake AppointmentPlace OrderView MenuTestimonialsa week agoReport review- Robert AWrite a ReviewRead MoreGalleryContact UsContactCall now07944 388924AddressGet directions39 MilecastleBancroftM...   \n",
       "141   HKS KEMPSTON SERVICE STATION Go to our Station Locator HKS KEMPSTON SERVICE STATION WOBURN ROAD, MK42 7QA, Kempston, GB +44 1234 841767 Get Directions Opening Hours Day Mon Tue Wed Thu Fri Sat Sun Forecourt Hours 05:00 - 23:00 05:00 - 23:00 05:00 - 23:00 05:00 - 23:00 05:00 - 23:00 05:00 - 23:00 05:00 - 23:00 Fuels Shell V-Power Unleaded Shell V-Power Diesel Shell FuelSave Unleaded Shell FuelSave Diesel Services & Amenities Car Wash Mobile Payment Shop - Select fuelService Air Loyalty cards ...   \n",
       "151   Alert CCTV Get a free online quote Request a Free Quote We offer a free no obligation quotation and would be happy to meet with you to discuss your requirements. However If you are just looking for idea of cost please complete the information below and we will be happy to give you a quotation. Are you looking to upgrade an existing system? Yes No Request a Quote Phone: 01908 698 777 Email: info@alertcctvsys.co.uk Home About Services Blog Contact GET A QUOTE External & Internal High Definitio...   \n",
       "192   AMO HEALTHCARE LTD - Home Expand/collapse navigation HomeContact UsLegal Notice AMO HEALTHCARE LTD AMO HEALTHCARE LTD HomeContact UsLegal Notice Dr. Osigbeme Awudu MBBCh.  LFHom. PGDip. My Button My Button Personalised Professional Healthcare Services We are located at: AMO HEALTHCARE LTD 5 Chicksands Avenue Milton Keynes MK10 9DP UK Contact us today! If you have any queries or wish to make an appointment, please contact us: +44 795 8034939 +44 795 8034939 Dr.awudu@amohealthcare.co.uk Or use...   \n",
       "208   Anointed hands Ltd | Door To Door UK to Ghana - Freight Forwarding ServiceAnointed hands Ltd | Door To Door UK to GhanaGet QuoteCall nowGet directionsTestimonialsGalleryContactAnointed hands Ltd | Door To Door UK to GhanaFreight Forwarding ServiceOpen today until 10:00 PMGet QuoteCall 07737 776640Get directionsWhatsApp 07737 776640Message 07737 776640Contact UsFind TableView MenuMake AppointmentPlace OrderTestimonials4 months agoReport reviewI've been using them for the past 14 years and...   \n",
       "310   AZU Electrical Ltd - Electrical Installation ServiceYour domain registration is pending. Check back in an hourAZU Electrical LtdGet QuoteCall nowGet directionsUpdatesGalleryContactAZU Electrical LtdElectrical Installation ServiceOpen 24 hoursGet QuoteCall 07574 605177Get directionsWhatsApp 07574 605177Message 07574 605177Contact UsFind TableView MenuMake AppointmentPlace OrderUpdatesPosted on Apr 4, 2021You can call us any time, we are working 24/7 under guidance of Covid rules strictly, ...   \n",
       "414   BlindMatrix - World's Best Software for Retailers and Wholesalers of Blinds, Curtains and Shutters.Your domain registration is pending. Check again in an hourBlindMatrixGet QuoteCall nowGet directionsUpdatesTestimonialsAbout usGalleryContactBlindMatrixWorld's Best Software for Retailers and Wholesalers of Blinds, Curtains and Shutters.Sherwood Drive, BletchleyGet QuoteCall 020 7096 1371Get directionsWhatsApp 020 7096 1371Message 020 7096 1371Contact UsFind TableMake AppointmentPlace Order...   \n",
       "420   BlueSkay888 Ltd - Master Technician Car RepairYour domain registration is pending. Check again in an hourBlueSkay888 LtdMessage usMake AppointmentView MenuTestimonialsGalleryContactBlueSkay888 LtdMaster Technician Car RepairOpen until midnight on FridayMessage 07788 930598Make AppointmentView MenuCall 07788 930598Get directionsWhatsApp 07788 930598Contact UsGet QuoteFind TablePlace OrderTestimonials5 months agoReport reviewArrived quickly and promptly to diagnose electrical problem with ...   \n",
       "424   SHELL BUDGENS BROUGHTON Go to our Station Locator SHELL BUDGENS BROUGHTON CHILDS WAY, MK10 9AB, MILTON KEYNES, GB +44 1908 239291 Get Directions Opening Hours Day Mon Tue Wed Thu Fri Sat Sun Forecourt Hours Open 24 Hours Open 24 Hours Open 24 Hours Open 24 Hours Open 24 Hours Open 24 Hours Open 24 Hours Fuels Shell V-Power Unleaded Shell V-Power Diesel Shell FuelSave Unleaded Shell FuelSave Diesel Services & Amenities Car Wash Toilet Costa Express Mobile Payment Shop - Select Budgens fuelSer...   \n",
       "436   Contact us - Bong UK HomeAbout UsExpertise & ServicesProductsSolutionsNewsEnvironmentDealer ZoneContact us Home > Contact us How to find us Stockists Testimonials Contact us Contact our friendly Customer Services Team t 01908 216216  f 01908 216217 08:30am – 5:00pm, 5 days a week (call charges vary according to service provider). Customer Services customerservicesuk@bong.com print_link mail_link_text Bong Websites Dealer Zone | Envelope Lounge Quick Links Our Heritage Choosing the Right Enve...   \n",
       "498   Burrcross Properties - Property InvestmentBurrcross PropertiesMake AppointmentCall nowGet directionsGalleryContactBurrcross PropertiesProperty InvestmentOpening at 9:00 AM tomorrowMake AppointmentCall 01908 267153Get directionsWhatsApp 01908 267153Message 01908 267153Contact UsGet QuoteFind TablePlace OrderView MenuGalleryContact UsContactCall now01908 267153AddressGet directions9 Gallagher CloseCrownhillMilton KeynesMK8 0LQUnited KingdomBusiness HoursMon:9:00 AM – 5:00 PMTue:9:00 AM – 5:...   \n",
       "510   Caketastic Ltd - Cake Shop in BletchleyCaketastic LtdGet QuoteCall nowGet directionsTestimonialsGalleryContactCaketastic LtdCake Shop in BletchleyOpening at 10:00 AM tomorrowGet QuoteCall 01908 373212Get directionsWhatsApp 01908 373212Message 01908 373212Contact UsFind TableView MenuMake AppointmentPlace OrderTestimonialsa week agoReport reviewWhat an amazing cake! They made the perfect cake for our Harry Potter Vow Renewal. 3 delicious flavours (chocolate, vanilla and lemon) with plenty...   \n",
       "752   Da Harris Limited - E-Commerce ServiceDa Harris LimitedGet QuoteCall nowGet directionsGalleryContactDa Harris LimitedE-Commerce ServiceOpen until midnight on FridayGet QuoteCall 07309 399373Get directionsWhatsApp 07309 399373Message 07309 399373Contact UsFind TableMake AppointmentPlace OrderView MenuGalleryContact UsContactCall now07309 399373AddressGet directions49 Century AvenueMilton KeynesMK62ULUnited KingdomBusiness HoursMon:Open 24 hoursTue:Open 24 hoursWed:Open 24 hoursThu:Open 24 ...   \n",
       "778   Dealerz Limited - WholesalerDealerz LimitedGet QuoteCall nowGet directionsTestimonialsAbout usContactDealerz LimitedWholesalerOpening at 9:30 AM tomorrowGet QuoteCall 01908 263563Get directionsWhatsApp 01908 263563Message 01908 263563Contact UsFind TableMake AppointmentPlace OrderView MenuTestimonialsa year agoReport review- Dealerz LWrite a ReviewRead MoreAbout usWe specialise in providing great deals on electronics and gadgets for everyday life with expanding growth in trade for Electr...   \n",
       "832                 The Dolphin - PubThe DolphinGet QuoteCall nowGet directionsTestimonialsGalleryContactThe DolphinPubOpening at 2:00 PM tomorrowGet QuoteCall 01908 632000Get directionsWhatsApp 01908 632000Message 01908 632000Contact UsFind TableView MenuMake AppointmentPlace OrderTestimonials4 weeks agoReport reviewIâ€TMve never been so hungover in my lifeâ€¦ Sign of a good night, right?- Kamala A9 months agoReport reviewHonestly an amazing place to go to,, the dinners on Sundays are bangin'   \n",
       "835   Dotcom Consultancy Ltd - Assisting our customers since 1996 with Digital Marketing Services and SEO in Milton Keynes.Your domain registration is pending. Check again in an hourDotcom Consultancy LtdGet QuoteCall nowGet directionsTestimonialsAbout usContactDotCom Consultancy LtdAssisting our customers since 1996 with Digital Marketing Services and SEO in Milton Keynes.Opening at 09:00 tomorrowGet QuoteCall 01908 424385Get directionsWhatsApp 01908 424385Message 01908 424385Contact UsFind Ta...   \n",
       "941                                                                                                                                                                                                         ESIAY UK Ltd - Security System InstallerESIAY UK LtdGet QuoteCall nowGet directionsUpdatesGalleryContactESIAY UK LtdSecurity System InstallerOpen 24 hoursGet QuoteCall 07597 110607Get directionsWhatsApp 07597 110607Message 07597 110607Contact UsFind TableMake AppointmentPlace OrderView MenuUpdates   \n",
       "1000  Factory Clearance Flooring - Discount Flooring ShopYour domain registration is pending. Check again in an hourFactory Clearance FlooringGet directionsCall nowUpdatesTestimonialsAbout usGalleryContactFactory Clearance FlooringDiscount Flooring ShopOpening at 10:00 tomorrowGet directionsCall 01908 366300WhatsApp 01908 366300Message 01908 366300Contact UsGet QuoteFind TableMake AppointmentPlace OrderView MenuUpdatesPosted on Jul 30, 2021Please remember to help keep everyone safe and if possib...   \n",
       "1141                                  Goddano hair stylists - Beauty SalonGoddano hair stylistsGet QuoteCall nowGet directionsUpdatesTestimonialsGalleryContactGoddano hair stylistsBeauty SalonOpening at 09:00 tomorrowGet QuoteCall 01908 417043Get directionsWhatsApp 01908 417043Message 01908 417043Contact UsFind TableMake AppointmentPlace OrderView MenuUpdatesPosted on 06-Sep-2020Posted on 17-Jul-2020We are now open for business Confirmation Ceremony25-Jul-2019 â€“ 26-Jul-2019Posted on 05-Jun-2019   \n",
       "1204  Happy Home Healthcare Ltd - Serviced AccommodationHappy Home Healthcare LtdGet QuoteCall nowGet directionsContactHappy Home Healthcare LtdServiced AccommodationOpening at 9:00 AM tomorrowGet QuoteCall 07912 649659Get directionsWhatsApp 07912 649659Message 07912 649659Contact UsFind TableMake AppointmentPlace OrderView MenuContact UsContactCall now07912 649659AddressGet directions54 Towan AvenueFishermeadMilton KeynesMK6 2DRUnited KingdomBusiness HoursMon:9:00 AM – 9:00 PMTue:9:00 AM – 9:0...   \n",
       "1219  Abortion Clinic | BPAS Milton Keynes | BPAS Text Only Version A | A | A Select LanguageAfrikaansAlbanianArabicArmenianAzerbaijaniBasqueBelarusianBulgarianCatalanChinese (Simplified)Chinese (Traditional)CroatianCzechDanishDutchEnglishEstonianFilipinoFinnishFrenchGalicianGeorgianGermanGreekHaitian CreoleHebrewHindiHungarianIcelandicIndonesianIrishItalianJapaneseKoreanLatvianLithuanianMacedonianMalayMalteseNorwegianPersianPolishPortugueseRomanianRussianSerbianSlovakSlovenianSpanishSwahiliSwedis...   \n",
       "1269  Hridya Childminding - ChildminderHridya ChildmindingGet QuoteCall nowGet directionsAbout usGalleryContactHridya ChildmindingChildminderOpen until midnight on FridayGet QuoteCall 07952 975738Get directionsWhatsApp 07952 975738Message 07952 975738Contact UsFind TableMake AppointmentPlace OrderView MenuAbout usAbout MeI am Vaishali Thomare.I am an Ofsted registered childminder. I stay in MK10 7HD Brooklands area in Milton Keynes.I am married and we have 6 and 1 years old beautiful daughters....   \n",
       "1371  Contact Us - EMEA - JCM Global - JCM Global JCM Global Welcome to JCM Global Investor Relations Select your Language The Americas English Europe, Middle East And Africa (EMEA) English Asia-pacific (APAC) English Japan English Japanese Products Support About JCM Contact Us Search CONTACT USAll Locations The Americas Asia-Pacific EMEA Distributors / Service Centers General Inquiry EMEA Germany JCM Europe GmbH Mündelheimer Weg 60 40472 Düsseldorf Germany Tel: +49 (0)211 – 530645-0 Fax:+49 (0)...   \n",
       "1558  MANHA MINI MARKET - Butchers in Neath HillMANHA MINI MARKETGet QuoteCall nowGet directionsUpdatesTestimonialsGalleryContactMANHA MINI MARKETButchers in Neath HillOpening at 08:30 tomorrowGet QuoteCall 01908 418606Get directionsWhatsApp 01908 418606Message 01908 418606Contact UsFind TableMake AppointmentPlace OrderView MenuUpdatesPosted on Dec 12, 2019Posted on Dec 6, 2019Please call 01908-418606 for orders Posted on Nov 21, 2019ELAKKIA Snacks available Posted on Nov 21, 2019All varieties...   \n",
       "1585                                            MAZUR TRANS LTD - BASED IN MILTON KEYNES WE OFFER SAMEDAY, NEXT DAY & INTERNATIONAL DELIVERY MAZUR TRANS LTDGet QuoteCall nowGet directionsTestimonialsGalleryContactMAZUR TRANS LTDBASED IN MILTON KEYNES WE OFFER SAMEDAY, NEXT DAY & INTERNATIONAL DELIVERY Opening at 08:00 tomorrowGet QuoteCall 07860 377382Get directionsWhatsApp 07860 377382Message 07860 377382Contact UsFind TableView MenuMake AppointmentPlace OrderTestimonials3 weeks agoReport review   \n",
       "1658  Leotech Air Condition Home Improvement - Air Conditioning Contractor in GhanaLeotech Air Condition Home ImprovementGet QuoteCall nowGet directionsContactLeotech Air Condition Home ImprovementAir Conditioning Contractor in GhanaKonfo Anokye street, GhanaGet QuoteCall 024 450 2285Get directionsWhatsApp 024 450 2285Message 024 450 2285Contact UsFind TableMake AppointmentPlace OrderView MenuContact UsContactCall now024 450 2285AddressGet directionsKonfo Anokye streetGhanaReport abusePowered b...   \n",
       "1683  MK Blaster LTD - Mobile Sandblasting ServicesYour domain registration is pending. Check again in an hourMK Blaster LTDWhatsAppCall nowGet directionsUpdatesTestimonialsAbout usGalleryContactMK Blaster LTDMobile Sandblasting ServicesOpen 24 hoursWhatsApp 07403 951426Call 07403 951426Get directionsMessage 07403 951426Contact UsGet QuoteFind TableMake AppointmentPlace OrderView MenuUpdatesPosted on May 16, 2021Posted on Apr 17, 2021Oak cleaning in progress Posted on Mar 19, 2021Mobile Blastin...   \n",
       "1709                                                                                                                                                                                           Mktawahouse - RestaurantMktawahouseGet QuoteCall nowGet directionsTestimonialsGalleryContactMktawahouseRestaurantOpen today until 11:30 PMGet QuoteCall 01908 377600Get directionsWhatsApp 01908 377600Message 01908 377600Contact UsFind TableView MenuMake AppointmentPlace OrderTestimonials4 days agoReport review   \n",
       "1739  Motexx - Car ServiceMotexxGet QuoteCall nowGet directionsUpdatesTestimonialsGalleryContactMotexxCar ServiceOpening at 09:00 tomorrowGet QuoteCall 01908 632903Get directionsWhatsApp 01908 632903Message 01908 632903Contact UsFind TableMake AppointmentPlace OrderView MenuUpdatesPosted on 24-May-2019Welcome to Motexx, we have moved, we are now based at 6 Sinclair court, image above shows location, we specialise in car repairs including engine work , clutch replacements, servicing, mot and tyr...   \n",
       "1798  New China Garden - Chinese TakeawayNew China GardenGet QuoteCall nowGet directionsUpdatesTestimonialsGalleryContactNew China GardenChinese TakeawayOpen today until 23:00Get QuoteCall 01908 605245Get directionsWhatsApp 01908 605245Message 01908 605245Contact UsFind TableView MenuMake AppointmentPlace OrderUpdatesPosted on 07-Nov-2020Dear customers,During this lockdown we be staying open and closing at the same time.ThanksCall nowPosted on 03-Oct-2020Dear customers,Our phone is working now....   \n",
       "1814  Mobile Elevating Work Platforms | Buy or Rent Today | Niftylift Menu GB - English Contact Us +44 1908 223456 Sign In ProductsProduct SelectorTrailer MountedNifty 120 | 12.3mNifty 120T | 12.2mNifty 150T | 14.7mNifty 170 | 17.1mNifty 210 | 21mSelf PropelledHR12L | 12.1mHR12N | 12.2mHR12 4x4 | 12.2mHR15N | 15.5mHR15 4x4 | 15.7mHR17N | 17mHR17 4x4 | 17.2mHR21E | 20.8mHR21 4x4 | 20.8mHR28 4x4 | 28mSelf DriveSD120T 4x4 | 12.65mSD170 4x4 | 17.1mSD210 4x4x4 | 21.3mTrackDriveTD120TN | 12.2mTD120T | 1...   \n",
       "1956  PJW Alloys LTD - Auto Body ShopPJW Alloys LTDGet QuoteCall nowGet directionsAbout usGalleryContactPJW Alloys LTDAuto Body ShopOpening at 9:00 AM tomorrowGet QuoteCall 07475 427900Get directionsWhatsApp 07475 427900Message 07475 427900Contact UsFind TableMake AppointmentPlace OrderView MenuWelcome to our auto body shop. Whatever your needs may be, get in touch with us today for more details about our products and services. We look forward to meeting you.Read MoreGalleryContact UsContactCal...   \n",
       "2034  Quantum Accounting Services Limited - Accounting FirmQuantum Accounting Services LimitedGet QuoteCall nowGet directionsContactQuantum Accounting Services LimitedAccounting FirmOpening at 8:00 AM tomorrowGet QuoteCall 07777 649406Get directionsWhatsApp 07777 649406Message 07777 649406Contact UsFind TableMake AppointmentPlace OrderView MenuContact UsContactCall now07777 649406AddressGet directions14 Wolverton RoadHavershamMilton KeynesMK19 7AAUnited KingdomBusiness HoursMon:8:00 AM – 6:00 P...   \n",
       "2074  Remote it support services - Computer Support And ServicesYour domain registration is pending. Check back in an hourRemote it support servicesGet QuoteCall nowGet directionsTestimonialsGalleryContactRemote it support servicesComputer Support And Services7 Flavius Gardens, Fairfield, Milton KeynesGet QuoteCall 07746 204993Get directionsWhatsApp 07746 204993Message 07746 204993Contact UsFind TableMake AppointmentPlace OrderView MenuTestimonials11 months agoReport review- Pango LWrite a Rev...   \n",
       "2088  RFE Internationl | Global Sports and Fitness ABOUT USCOMPANY INFOOUR LOCATIONSBRANDSREEBOKADIDASDYNAMAXLATEST NEWSCONTACT USONLINE ORDERINGPRODUCT LIBRARYMore...Use tab to navigate through the menu items.REEBOK ・ ADIDAS ・ DYNAMAXMARKET LEADING PRODUCT LINESFIND OUT MORE LATEST NEWSORDERINGProduct LibraryOnline OrderingAdministrationIntranetCONNECTContact UsLatest NewsAbout UsOur LocationsWEBSITESReebok Fitnessadidas TrainingDynamax FitnessINFOTerms & ConditionsPrivacy PolicyModern Slavery St...   \n",
       "2222  SHRIVEN Group - Health & Skincare / Business ConsultantSHRIVEN GroupContact UsCall nowGet directionsUpdatesTestimonialsAbout usGalleryContactSHRIVEN GroupHealth & Skincare / Business ConsultantOpening at 08:00Contact UsCall 07966 946302Get directionsWhatsApp 07966 946302Message 07966 946302Get QuoteFind TableMake AppointmentPlace OrderView MenuUpdatesPosted on Jul 13, 2021Did you know, approximately 70% of immunologically active cells are in the intestinal lining?Products containing lacti...   \n",
       "2238  Skye Solutions Limited - Making business sense of enterprise solutionsYour domain registration is pending. Check back in an hourSkye Solutions LimitedGet QuoteCall nowGet directionsContactSkye Solutions LimitedMaking business sense of enterprise solutionsOpening at 9:00 AM tomorrowGet QuoteCall 07379 531891Get directionsWhatsApp 07379 531891Message 07379 531891Contact UsFind TableMake AppointmentPlace OrderView MenuContact UsContactCall now07379 531891AddressGet directionsGatcombe StreetM...   \n",
       "2269  Softech365 - IT Consultation and ServicesSoftech365Get QuoteCall nowGet directionsGalleryContactSoftech365IT Consultation and ServicesOpening at 08:00 tomorrowGet QuoteCall 07400 157329Get directionsWhatsApp 07400 157329Message 07400 157329Contact UsFind TableMake AppointmentPlace OrderView MenuGalleryContact UsContactCall now07400 157329AddressGet directions43 Mellish CourtMilton KeynesMK3 6PFUnited KingdomOpening HoursMon:8:00 am – 6:00 pmTue:8:00 am – 6:00 pmWed:8:00 am – 6:00 pmThu:8:...   \n",
       "2309  Stan MK - Transportation ServiceStan MKGet QuoteCall nowGet directionsContactStan MKTransportation ServiceOpen 24 hoursGet QuoteCall 07453 907599Get directionsWhatsApp 07453 907599Message 07453 907599Contact UsFind TableMake AppointmentPlace OrderView MenuContact UsContactCall now07453 907599AddressGet directions84 Victoria StreetMilton KeynesMK12 5HJUnited KingdomBusiness HoursMon:Open 24 hoursTue:Open 24 hoursWed:Open 24 hoursThu:Open 24 hoursFri:Open 24 hoursSat:Open 24 hoursSun:Open 2...   \n",
       "2488  MJ Electrical & Building Services LtdMJ Electrical & Building Services LtdGet QuoteCall nowGet directionsTestimonialsAbout usGalleryContact Open 24 hoursGet QuoteCall 07944 275171Get directionsWhatsApp 07944 275171Message 07944 275171Contact UsFind TableView MenuMake AppointmentPlace OrderTestimonialsa year agoReport reviewHave used Matt on a few jobs now and his work cannot be faulted. Always on time, if not earlier. Good communication and a good eye for detail. Have and would recommend...   \n",
       "2521  Travel to Fly - Travel AgencyTravel to FlyGet QuoteCall nowGet directionsUpdatesTestimonialsAbout usGalleryContactTravel to FlyTravel AgencyOpening at 9:00 AM tomorrowGet QuoteCall 020 3773 2636Get directionsWhatsApp 020 3773 2636Message 020 3773 2636Contact UsFind TableMake AppointmentPlace OrderView MenuUpdatesBEST DEALS FOR EASTER AND HOLIDAYSJun 1, 2021 – Aug 31, 2021Show this code at the store: Posted on Aug 22, 2020Visit our Company WebsiteBookTestimonialsa month agoReport reviewI ...   \n",
       "2551  UCCA Ltd - Our service-----Management consultingUCCA LtdGet QuoteCall nowGet directionsAbout usGalleryContactUCCA LtdOur service-----Management consulting323 Countess Way, Milton KeynesGet QuoteCall 01908 061183Get directionsWhatsApp 01908 061183Message 01908 061183Contact UsFind TableMake AppointmentPlace OrderView MenuManagement consulting Important InformationBecause of COVID-19, to keep our employees and customers safe, UCCA Ltd encourages employees work from home. Our office is close...   \n",
       "2612  Walnut Pet Supplies - Pet Supply StoreWalnut Pet SuppliesGet QuoteCall nowGet directionsUpdatesTestimonialsAbout usGalleryContactWalnut Pet SuppliesPet Supply StoreOpening at 8:00 AM tomorrowGet QuoteCall 01908 661533Get directionsWhatsApp 01908 661533Message 01908 661533Contact UsFind TableMake AppointmentPlace OrderView MenuUpdatesPosted on 09-Jun-2018Big discounts online visit HTTPS://walnutpetsupplies.directTestimonialsa week agoReport reviewGood well stocked and varied supply of all...   \n",
       "\n",
       "      Category  \n",
       "68           9  \n",
       "141          9  \n",
       "151          9  \n",
       "192          9  \n",
       "208          9  \n",
       "310          9  \n",
       "414          9  \n",
       "420          9  \n",
       "424          9  \n",
       "436          9  \n",
       "498          9  \n",
       "510          9  \n",
       "752          9  \n",
       "778          9  \n",
       "832          9  \n",
       "835          9  \n",
       "941          9  \n",
       "1000         9  \n",
       "1141         9  \n",
       "1204         9  \n",
       "1219         9  \n",
       "1269         9  \n",
       "1371         9  \n",
       "1558         9  \n",
       "1585         9  \n",
       "1658         9  \n",
       "1683         9  \n",
       "1709         9  \n",
       "1739         9  \n",
       "1798         9  \n",
       "1814         9  \n",
       "1956         9  \n",
       "2034         9  \n",
       "2074         9  \n",
       "2088         9  \n",
       "2222         9  \n",
       "2238         9  \n",
       "2269         9  \n",
       "2309         9  \n",
       "2488         9  \n",
       "2521         9  \n",
       "2551         9  \n",
       "2612         9  "
      ]
     },
     "metadata": {},
     "output_type": "display_data"
    }
   ],
   "source": [
    "html[\"Category\"] = topics\n",
    "\n",
    "from pandas import option_context\n",
    "\n",
    "with option_context(\"display.max_colwidth\", 500):\n",
    "    display(html[html[\"Category\"] == 9])\n",
    "index_cat_9 = html[html[\"Category\"] == 9].index"
   ]
  },
  {
   "cell_type": "code",
   "execution_count": 263,
   "metadata": {},
   "outputs": [
    {
     "data": {
      "text/html": [
       "<div>\n",
       "<style scoped>\n",
       "    .dataframe tbody tr th:only-of-type {\n",
       "        vertical-align: middle;\n",
       "    }\n",
       "\n",
       "    .dataframe tbody tr th {\n",
       "        vertical-align: top;\n",
       "    }\n",
       "\n",
       "    .dataframe thead th {\n",
       "        text-align: right;\n",
       "    }\n",
       "</style>\n",
       "<table border=\"1\" class=\"dataframe\">\n",
       "  <thead>\n",
       "    <tr style=\"text-align: right;\">\n",
       "      <th></th>\n",
       "      <th>Topic Id</th>\n",
       "      <th>Count</th>\n",
       "      <th>10 most representative words</th>\n",
       "    </tr>\n",
       "  </thead>\n",
       "  <tbody>\n",
       "    <tr>\n",
       "      <th>0</th>\n",
       "      <td>-1</td>\n",
       "      <td>742</td>\n",
       "      <td>services, business, management, info...</td>\n",
       "    </tr>\n",
       "    <tr>\n",
       "      <th>1</th>\n",
       "      <td>0</td>\n",
       "      <td>226</td>\n",
       "      <td>services, courses, digital, cloud, s...</td>\n",
       "    </tr>\n",
       "    <tr>\n",
       "      <th>2</th>\n",
       "      <td>1</td>\n",
       "      <td>101</td>\n",
       "      <td>car, vehicle, cars, mercedes, tyres,...</td>\n",
       "    </tr>\n",
       "    <tr>\n",
       "      <th>3</th>\n",
       "      <td>2</td>\n",
       "      <td>78</td>\n",
       "      <td>wedding, shop, incense, hair, access...</td>\n",
       "    </tr>\n",
       "    <tr>\n",
       "      <th>4</th>\n",
       "      <td>3</td>\n",
       "      <td>71</td>\n",
       "      <td>sensor, sensors, forklift, industria...</td>\n",
       "    </tr>\n",
       "    <tr>\n",
       "      <th>5</th>\n",
       "      <td>4</td>\n",
       "      <td>71</td>\n",
       "      <td>food, menu, chicken, roast, pork, di...</td>\n",
       "    </tr>\n",
       "    <tr>\n",
       "      <th>6</th>\n",
       "      <td>5</td>\n",
       "      <td>67</td>\n",
       "      <td>business, accounting, accountants, a...</td>\n",
       "    </tr>\n",
       "    <tr>\n",
       "      <th>7</th>\n",
       "      <td>6</td>\n",
       "      <td>66</td>\n",
       "      <td>recruitment, candidates, jobs, job, ...</td>\n",
       "    </tr>\n",
       "    <tr>\n",
       "      <th>8</th>\n",
       "      <td>7</td>\n",
       "      <td>66</td>\n",
       "      <td>care, support, families, supported, ...</td>\n",
       "    </tr>\n",
       "    <tr>\n",
       "      <th>9</th>\n",
       "      <td>8</td>\n",
       "      <td>63</td>\n",
       "      <td>property, rent, estate, landlords, t...</td>\n",
       "    </tr>\n",
       "    <tr>\n",
       "      <th>10</th>\n",
       "      <td>9</td>\n",
       "      <td>55</td>\n",
       "      <td>treatment, dental, treatments, salon...</td>\n",
       "    </tr>\n",
       "    <tr>\n",
       "      <th>11</th>\n",
       "      <td>10</td>\n",
       "      <td>51</td>\n",
       "      <td>cleaning, clean, roofing, roof, wind...</td>\n",
       "    </tr>\n",
       "    <tr>\n",
       "      <th>12</th>\n",
       "      <td>11</td>\n",
       "      <td>45</td>\n",
       "      <td>abortion, message, posted, appointme...</td>\n",
       "    </tr>\n",
       "    <tr>\n",
       "      <th>13</th>\n",
       "      <td>12</td>\n",
       "      <td>38</td>\n",
       "      <td>heating, plumbing, boiler, gas, engi...</td>\n",
       "    </tr>\n",
       "    <tr>\n",
       "      <th>14</th>\n",
       "      <td>13</td>\n",
       "      <td>35</td>\n",
       "      <td>club, training, membership, gym, cam...</td>\n",
       "    </tr>\n",
       "    <tr>\n",
       "      <th>15</th>\n",
       "      <td>14</td>\n",
       "      <td>35</td>\n",
       "      <td>watches, wallets, bags, smartwatches...</td>\n",
       "    </tr>\n",
       "    <tr>\n",
       "      <th>16</th>\n",
       "      <td>15</td>\n",
       "      <td>34</td>\n",
       "      <td>courses, training, cpfi, counselling...</td>\n",
       "    </tr>\n",
       "    <tr>\n",
       "      <th>17</th>\n",
       "      <td>16</td>\n",
       "      <td>33</td>\n",
       "      <td>personal, vacuum, hotels, gift, home...</td>\n",
       "    </tr>\n",
       "    <tr>\n",
       "      <th>18</th>\n",
       "      <td>17</td>\n",
       "      <td>32</td>\n",
       "      <td>doors, blinds, windows, door, window...</td>\n",
       "    </tr>\n",
       "    <tr>\n",
       "      <th>19</th>\n",
       "      <td>18</td>\n",
       "      <td>31</td>\n",
       "      <td>homes, building, construction, house...</td>\n",
       "    </tr>\n",
       "    <tr>\n",
       "      <th>20</th>\n",
       "      <td>19</td>\n",
       "      <td>26</td>\n",
       "      <td>farm, stables, facilities, guests, h...</td>\n",
       "    </tr>\n",
       "    <tr>\n",
       "      <th>21</th>\n",
       "      <td>20</td>\n",
       "      <td>26</td>\n",
       "      <td>electrical, electrician, electrician...</td>\n",
       "    </tr>\n",
       "    <tr>\n",
       "      <th>22</th>\n",
       "      <td>21</td>\n",
       "      <td>23</td>\n",
       "      <td>law, solicitors, legal, disputes, li...</td>\n",
       "    </tr>\n",
       "    <tr>\n",
       "      <th>23</th>\n",
       "      <td>22</td>\n",
       "      <td>23</td>\n",
       "      <td>printing, print, frames, processing,...</td>\n",
       "    </tr>\n",
       "    <tr>\n",
       "      <th>24</th>\n",
       "      <td>23</td>\n",
       "      <td>23</td>\n",
       "      <td>logistics, freight, courier, transpo...</td>\n",
       "    </tr>\n",
       "    <tr>\n",
       "      <th>25</th>\n",
       "      <td>24</td>\n",
       "      <td>23</td>\n",
       "      <td>church, prayer, christian, community...</td>\n",
       "    </tr>\n",
       "    <tr>\n",
       "      <th>26</th>\n",
       "      <td>25</td>\n",
       "      <td>18</td>\n",
       "      <td>engineering, construction, asphalt, ...</td>\n",
       "    </tr>\n",
       "    <tr>\n",
       "      <th>27</th>\n",
       "      <td>26</td>\n",
       "      <td>17</td>\n",
       "      <td>massage, acupuncture, chiropractic, ...</td>\n",
       "    </tr>\n",
       "    <tr>\n",
       "      <th>28</th>\n",
       "      <td>27</td>\n",
       "      <td>17</td>\n",
       "      <td>mortgage, mortgages, financial, insu...</td>\n",
       "    </tr>\n",
       "    <tr>\n",
       "      <th>29</th>\n",
       "      <td>28</td>\n",
       "      <td>17</td>\n",
       "      <td>taxi, airport, taxis, transfers, dri...</td>\n",
       "    </tr>\n",
       "    <tr>\n",
       "      <th>30</th>\n",
       "      <td>29</td>\n",
       "      <td>15</td>\n",
       "      <td>euu, et, en, ee, sie, les, des, ou, ...</td>\n",
       "    </tr>\n",
       "    <tr>\n",
       "      <th>31</th>\n",
       "      <td>30</td>\n",
       "      <td>14</td>\n",
       "      <td>garden, lawn, landscaping, roofs, wa...</td>\n",
       "    </tr>\n",
       "    <tr>\n",
       "      <th>32</th>\n",
       "      <td>31</td>\n",
       "      <td>13</td>\n",
       "      <td>password, reset, confirm, email, piz...</td>\n",
       "    </tr>\n",
       "    <tr>\n",
       "      <th>33</th>\n",
       "      <td>32</td>\n",
       "      <td>13</td>\n",
       "      <td>dog, dogs, breeding, pet, groomers, ...</td>\n",
       "    </tr>\n",
       "    <tr>\n",
       "      <th>34</th>\n",
       "      <td>33</td>\n",
       "      <td>12</td>\n",
       "      <td>flooring, carpet, carpets, vinyl, cf...</td>\n",
       "    </tr>\n",
       "    <tr>\n",
       "      <th>35</th>\n",
       "      <td>34</td>\n",
       "      <td>12</td>\n",
       "      <td>security, alarms, alarm, guards, ext...</td>\n",
       "    </tr>\n",
       "  </tbody>\n",
       "</table>\n",
       "</div>"
      ],
      "text/plain": [
       "    Topic Id  Count             10 most representative words\n",
       "0         -1    742  services, business, management, info...\n",
       "1          0    226  services, courses, digital, cloud, s...\n",
       "2          1    101  car, vehicle, cars, mercedes, tyres,...\n",
       "3          2     78  wedding, shop, incense, hair, access...\n",
       "4          3     71  sensor, sensors, forklift, industria...\n",
       "5          4     71  food, menu, chicken, roast, pork, di...\n",
       "6          5     67  business, accounting, accountants, a...\n",
       "7          6     66  recruitment, candidates, jobs, job, ...\n",
       "8          7     66  care, support, families, supported, ...\n",
       "9          8     63  property, rent, estate, landlords, t...\n",
       "10         9     55  treatment, dental, treatments, salon...\n",
       "11        10     51  cleaning, clean, roofing, roof, wind...\n",
       "12        11     45  abortion, message, posted, appointme...\n",
       "13        12     38  heating, plumbing, boiler, gas, engi...\n",
       "14        13     35  club, training, membership, gym, cam...\n",
       "15        14     35  watches, wallets, bags, smartwatches...\n",
       "16        15     34  courses, training, cpfi, counselling...\n",
       "17        16     33  personal, vacuum, hotels, gift, home...\n",
       "18        17     32  doors, blinds, windows, door, window...\n",
       "19        18     31  homes, building, construction, house...\n",
       "20        19     26  farm, stables, facilities, guests, h...\n",
       "21        20     26  electrical, electrician, electrician...\n",
       "22        21     23  law, solicitors, legal, disputes, li...\n",
       "23        22     23  printing, print, frames, processing,...\n",
       "24        23     23  logistics, freight, courier, transpo...\n",
       "25        24     23  church, prayer, christian, community...\n",
       "26        25     18  engineering, construction, asphalt, ...\n",
       "27        26     17  massage, acupuncture, chiropractic, ...\n",
       "28        27     17  mortgage, mortgages, financial, insu...\n",
       "29        28     17  taxi, airport, taxis, transfers, dri...\n",
       "30        29     15  euu, et, en, ee, sie, les, des, ou, ...\n",
       "31        30     14  garden, lawn, landscaping, roofs, wa...\n",
       "32        31     13  password, reset, confirm, email, piz...\n",
       "33        32     13  dog, dogs, breeding, pet, groomers, ...\n",
       "34        33     12  flooring, carpet, carpets, vinyl, cf...\n",
       "35        34     12  security, alarms, alarm, guards, ext..."
      ]
     },
     "execution_count": 263,
     "metadata": {},
     "output_type": "execute_result"
    }
   ],
   "source": [
    "topic_results"
   ]
  },
  {
   "cell_type": "markdown",
   "metadata": {},
   "source": [
    "## BERTopic Crunchbase"
   ]
  },
  {
   "cell_type": "code",
   "execution_count": 20,
   "metadata": {
    "scrolled": true
   },
   "outputs": [],
   "source": [
    "from bertopic import BERTopic\n",
    "from hdbscan import HDBSCAN\n",
    "from sklearn.feature_extraction.text import CountVectorizer\n",
    "from umap import UMAP\n",
    "\n",
    "hdbscan_model = HDBSCAN(\n",
    "    min_cluster_size=10,\n",
    "    metric=\"euclidean\",\n",
    "    cluster_selection_method=\"eom\",\n",
    "    prediction_data=True,\n",
    ")\n",
    "umap_model = UMAP(n_neighbors=15, n_components=10, min_dist=0, metric=\"cosine\")\n",
    "vectorizer_model = CountVectorizer(stop_words=\"english\")\n",
    "eng_stop_words = set(vectorizer_model.get_stop_words())\n",
    "additional_stops = [\n",
    "    \"mk\",\n",
    "    \"milton\",\n",
    "    \"keynes\",\n",
    "    \"world\",\n",
    "    \"work\",\n",
    "    \"uk\",\n",
    "    \"service\",\n",
    "    \"search\",\n",
    "    \"contact\",\n",
    "    \"use\",\n",
    "    \"we\",\n",
    "    \"provide\",\n",
    "    \"website\",\n",
    "    \"help\",\n",
    "    \"product\",\n",
    "    \"solution\",\n",
    "    \"company\",\n",
    "    \"design\",\n",
    "    \"get\",\n",
    "    \"team\",\n",
    "    \"experience\",\n",
    "    \"customer\",\n",
    "    \"need\",\n",
    "    \"client\",\n",
    "    \"develop\",\n",
    "    \"quick\",\n",
    "    \"sale\",\n",
    "    \"day\",\n",
    "    \"ltd\",\n",
    "    \"project\",\n",
    "    \"work\",\n",
    "    \"market\",\n",
    "    \"can\",\n",
    "    \"will\",\n",
    "    \"offer\",\n",
    "    \"find\",\n",
    "    \"new\",\n",
    "    \"year\",\n",
    "    \"look\",\n",
    "    \"call\",\n",
    "    \"see\",\n",
    "    \"one\",\n",
    "    \"service\",\n",
    "    \"cookies\",\n",
    "    \"cookie\",\n",
    "    \"facebook\",\n",
    "    \"events\",\n",
    "    \"accept\",\n",
    "    \"contact\",\n",
    "    \"search\",\n",
    "]\n",
    "\n",
    "\n",
    "vectorizer_model = CountVectorizer(\n",
    "    stop_words=eng_stop_words.union(\n",
    "        [\"mk\", \"milton\", \"keynes\", \"world\", \"work\", \"uk\", \"service\"]\n",
    "    )\n",
    ")\n",
    "\n",
    "# Pass the custom models to BERTopic\n",
    "topic_model = BERTopic(\n",
    "    umap_model=umap_model,\n",
    "    hdbscan_model=hdbscan_model,\n",
    "    vectorizer_model=vectorizer_model,\n",
    ")\n",
    "\n",
    "topics, probs = topic_model.fit_transform(data_cb)\n",
    "counts = topic_model.get_topic_info()"
   ]
  },
  {
   "cell_type": "code",
   "execution_count": 32,
   "metadata": {},
   "outputs": [],
   "source": [
    "from bertopic import BERTopic\n",
    "from sklearn.feature_extraction.text import CountVectorizer\n",
    "\n",
    "topic_model = BERTopic(n_gram_range=(1, 2))\n",
    "topics, probs = topic_model.fit_transform(data_cb)\n",
    "\n",
    "vectorizer_model = CountVectorizer(stop_words=\"english\")\n",
    "eng_stop_words = set(vectorizer_model.get_stop_words())\n",
    "additional_stops = [\n",
    "    \"mk\",\n",
    "    \"milton\",\n",
    "    \"keynes\",\n",
    "    \"world\",\n",
    "    \"work\",\n",
    "    \"uk\",\n",
    "    \"service\",\n",
    "    \"search\",\n",
    "    \"contact\",\n",
    "    \"use\",\n",
    "    \"we\",\n",
    "    \"provide\",\n",
    "    \"website\",\n",
    "    \"help\",\n",
    "    \"product\",\n",
    "    \"solution\",\n",
    "    \"company\",\n",
    "    \"design\",\n",
    "    \"get\",\n",
    "    \"team\",\n",
    "    \"experience\",\n",
    "    \"customer\",\n",
    "    \"need\",\n",
    "    \"client\",\n",
    "    \"develop\",\n",
    "    \"quick\",\n",
    "    \"sale\",\n",
    "    \"day\",\n",
    "    \"ltd\",\n",
    "    \"project\",\n",
    "    \"work\",\n",
    "    \"market\",\n",
    "    \"can\",\n",
    "    \"will\",\n",
    "    \"offer\",\n",
    "    \"find\",\n",
    "    \"new\",\n",
    "    \"year\",\n",
    "    \"look\",\n",
    "    \"call\",\n",
    "    \"see\",\n",
    "    \"one\",\n",
    "    \"service\",\n",
    "    \"cookies\",\n",
    "    \"cookie\",\n",
    "    \"facebook\",\n",
    "    \"events\",\n",
    "    \"accept\",\n",
    "    \"contact\",\n",
    "    \"search\",\n",
    "]\n",
    "\n",
    "vectorizer_model = CountVectorizer(\n",
    "    stop_words=eng_stop_words.union(\n",
    "        [\"mk\", \"milton\", \"keynes\", \"world\", \"work\", \"uk\", \"service\"]\n",
    "    )\n",
    ")\n",
    "topic_model.update_topics(data_cb, topics=topics, vectorizer_model=vectorizer_model)\n",
    "\n",
    "\n",
    "counts = topic_model.get_topic_info()\n",
    "\n",
    "\n",
    "# topic_model.get_topics()"
   ]
  },
  {
   "cell_type": "code",
   "execution_count": 33,
   "metadata": {},
   "outputs": [
    {
     "data": {
      "text/html": [
       "<style type=\"text/css\">\n",
       "#T_18497_row0_col2, #T_18497_row1_col2, #T_18497_row2_col2, #T_18497_row3_col2, #T_18497_row4_col2, #T_18497_row5_col2, #T_18497_row6_col2, #T_18497_row7_col2 {\n",
       "  width: 600px;\n",
       "}\n",
       "</style>\n",
       "<table id=\"T_18497_\">\n",
       "  <thead>\n",
       "    <tr>\n",
       "      <th class=\"blank level0\" >&nbsp;</th>\n",
       "      <th class=\"col_heading level0 col0\" >Topic Id</th>\n",
       "      <th class=\"col_heading level0 col1\" >Count</th>\n",
       "      <th class=\"col_heading level0 col2\" >10 most representative words</th>\n",
       "    </tr>\n",
       "  </thead>\n",
       "  <tbody>\n",
       "    <tr>\n",
       "      <th id=\"T_18497_level0_row0\" class=\"row_heading level0 row0\" >0</th>\n",
       "      <td id=\"T_18497_row0_col0\" class=\"data row0 col0\" >-1</td>\n",
       "      <td id=\"T_18497_row0_col1\" class=\"data row0 col1\" >163</td>\n",
       "      <td id=\"T_18497_row0_col2\" class=\"data row0 col2\" >services, business, contact, cookies, management, privacy, technology, marketing, cookie, customers</td>\n",
       "    </tr>\n",
       "    <tr>\n",
       "      <th id=\"T_18497_level0_row1\" class=\"row_heading level0 row1\" >1</th>\n",
       "      <td id=\"T_18497_row1_col0\" class=\"data row1 col0\" >0</td>\n",
       "      <td id=\"T_18497_row1_col1\" class=\"data row1 col1\" >33</td>\n",
       "      <td id=\"T_18497_row1_col2\" class=\"data row1 col2\" >management, security, services, software, cloud, business, cyber, systems, customer, manage</td>\n",
       "    </tr>\n",
       "    <tr>\n",
       "      <th id=\"T_18497_level0_row2\" class=\"row_heading level0 row2\" >2</th>\n",
       "      <td id=\"T_18497_row2_col0\" class=\"data row2 col0\" >1</td>\n",
       "      <td id=\"T_18497_row2_col1\" class=\"data row2 col1\" >18</td>\n",
       "      <td id=\"T_18497_row2_col2\" class=\"data row2 col2\" >software, business, design, creative, photography, bespoke, app, studio, clients, apps</td>\n",
       "    </tr>\n",
       "    <tr>\n",
       "      <th id=\"T_18497_level0_row3\" class=\"row_heading level0 row3\" >3</th>\n",
       "      <td id=\"T_18497_row3_col0\" class=\"data row3 col0\" >2</td>\n",
       "      <td id=\"T_18497_row3_col1\" class=\"data row3 col1\" >17</td>\n",
       "      <td id=\"T_18497_row3_col2\" class=\"data row3 col2\" >property, marketing, rent, pcm, sale, denbigh, house, removals, houses, 2021</td>\n",
       "    </tr>\n",
       "    <tr>\n",
       "      <th id=\"T_18497_level0_row4\" class=\"row_heading level0 row4\" >4</th>\n",
       "      <td id=\"T_18497_row4_col0\" class=\"data row4 col0\" >3</td>\n",
       "      <td id=\"T_18497_row4_col1\" class=\"data row4 col1\" >16</td>\n",
       "      <td id=\"T_18497_row4_col2\" class=\"data row4 col2\" >camera, cables, packaging, charge, plugs, video, cyc, hdmi, clamps, accessories</td>\n",
       "    </tr>\n",
       "    <tr>\n",
       "      <th id=\"T_18497_level0_row5\" class=\"row_heading level0 row5\" >5</th>\n",
       "      <td id=\"T_18497_row5_col0\" class=\"data row5 col0\" >4</td>\n",
       "      <td id=\"T_18497_row5_col1\" class=\"data row5 col1\" >15</td>\n",
       "      <td id=\"T_18497_row5_col2\" class=\"data row5 col2\" >business, jobs, accountants, accounting, cookies, services, companies, clients, accountancy, businesses</td>\n",
       "    </tr>\n",
       "    <tr>\n",
       "      <th id=\"T_18497_level0_row6\" class=\"row_heading level0 row6\" >6</th>\n",
       "      <td id=\"T_18497_row6_col0\" class=\"data row6 col0\" >5</td>\n",
       "      <td id=\"T_18497_row6_col1\" class=\"data row6 col1\" >14</td>\n",
       "      <td id=\"T_18497_row6_col2\" class=\"data row6 col2\" >services, technology, amn, customer, waam, company, tjr, technologies, supplier, transcosmos</td>\n",
       "    </tr>\n",
       "    <tr>\n",
       "      <th id=\"T_18497_level0_row7\" class=\"row_heading level0 row7\" >7</th>\n",
       "      <td id=\"T_18497_row7_col0\" class=\"data row7 col0\" >6</td>\n",
       "      <td id=\"T_18497_row7_col1\" class=\"data row7 col1\" >12</td>\n",
       "      <td id=\"T_18497_row7_col2\" class=\"data row7 col2\" >envisics, marketing, events, automotive, media, digital, holographic, business, event, robots</td>\n",
       "    </tr>\n",
       "  </tbody>\n",
       "</table>\n"
      ],
      "text/plain": [
       "<pandas.io.formats.style.Styler at 0x7fb1d3437520>"
      ]
     },
     "execution_count": 33,
     "metadata": {},
     "output_type": "execute_result"
    }
   ],
   "source": [
    "categories = pd.DataFrame.from_dict(topic_model.get_topics(), orient=\"index\")\n",
    "categories.reset_index(inplace=True)\n",
    "categories.head()\n",
    "\n",
    "for i in categories.index:\n",
    "    ch = \"\"\n",
    "    for c in categories.columns:\n",
    "        if type(c) == int:\n",
    "            ch = ch + categories.loc[i, c][0] + \", \"\n",
    "    ch = ch[:-2]\n",
    "    categories.loc[i, \"terms\"] = ch\n",
    "\n",
    "topic_results = pd.merge(\n",
    "    categories[[\"index\", \"terms\"]],\n",
    "    counts[[\"Topic\", \"Count\"]],\n",
    "    left_on=\"index\",\n",
    "    right_on=\"Topic\",\n",
    ")\n",
    "topic_results = topic_results.rename(\n",
    "    columns={\"terms\": \"10 most representative words\", \"Topic\": \"Topic Id\"}\n",
    ").drop(columns=[\"index\"])\n",
    "topic_results = topic_results[[\"Topic Id\", \"Count\", \"10 most representative words\"]]\n",
    "topic_results.style.set_properties(\n",
    "    subset=[\"10 most representative words\"], **{\"width\": \"40px\"}\n",
    ")\n",
    "\n",
    "topic_results.style.set_properties(\n",
    "    subset=[\"10 most representative words\"], **{\"width\": \"600px\"}\n",
    ")"
   ]
  },
  {
   "cell_type": "code",
   "execution_count": 69,
   "metadata": {},
   "outputs": [
    {
     "data": {
      "text/plain": [
       "['Distributors of Quality Engineering Products - Good Hand UK 01908 221151 Call Us sales@goodhanduk.co.uk Email Us Close Login Register Contact 0 items 0.00 My Basket Toggle Clamps Vertical Toggle Clamps 127 Products Horizontal Toggle Clamps 60 Products Push Pull Toggle Clamps 58 Products Latch & Hook Toggle Clamps 63 Products Safety Lock Toggle Clamps With Safety Lock 24 Products Stainless Steel Stainless Steel Toggle Clamps 76 Products Heavy Duty Toggle Clamps 18 Products Black Toggle Clamps 6 Products Toggle Latches 76 Products Pull Back & Flip Flop Toggle clamps 4 Products Toggle Presses 6 Products Pneumatic Toggle Clamps 20 Products Toggle Pliers 7 Products G Clamps Heavy Duty 8 Products Toggle Clamp Accessories 163 Products Exair Air Products Air Knives 161 Products Line Vacs (Product Conveyors) 120 Products Static Elimination Products 67 Products Air Amplifiers Fume Extraction Dry & Clean 22 Products Vortex Tubes Tool Cooling 71 Products Cabinet & Panel Coolers IP 54 & IP 66 86 Products Industrial Vacuums Coolant Cleaning HEPA Vacs Wet & Dry Vacs View Products Safety Air Guns 92 Products Air Nozzles 69 Products Air Wipes Clean & Dry Extrusions 45 Products Optimization Flowmeters Leak Detectors View Products Air Blowoff Systems & Accessories 29 Products Liquid Atomizing Nozzles 92 Products Vacuum & Lifting Products 97 Products Accessories 16 Products Standard Parts Clamping Levers, Tension Levers, Cam Levers 5622 Products Clamp Levers 2277 Products Cam Levers 247 Products Tension Levers 704 Products Star & Palm Grips, Wing Grips & Knobs 4252 Products Star & Palm Grips 1673 Products Wing Grips 395 Products Knobs & Thumbscrews 1241 Products Handles 988 Products Handwheels, Crank Handles & Position Indicators 1795 Products Cabinet Latches & Locks, Edge Protection Profiles 305 Products Hinges 347 Products Levelling Feet 1373 Products Tubular Connection Elements 486 Products Telescopic Slides 75 Products Clamping Devices For Machining 431 Products Spring Plungers, Indexing Plungers, Ball Lock Pins 3309 Products Spring Plungers 569 Products Indexing Plungers 731 Products Ball Lock Pins 1624 Products Locking Pins 113 Products Screws, Nuts & Washers 765 Products Support, Locating & Stop Elements 2357 Products Machine Elements, Fixture Components & T Nuts 5708 Products Linkages & Joints 495 Products Magnets 311 Products Anti Vibration Mounts 324 Products Level Indicators & Screw Plugs 496 Products Scales, Scale Rings & Level Vials 122 Products Lifting Bolts & Ball Transfer Units 78 Products Accessories For Aluminium Profiles View Products Technical Details View Products Toggle Latches Draw Latch Spring Loaded Type 8 Products Adjustable Length Toggle Latches 7 Products In Line Toggle Latches 9 Products Latches For Use With Padlocks 15 Products Solid Arm Toggle Latches 9 Products Half Turn Toggle Latches 2 Products Adjustable Under Centre Latches 4 Products Spring Toggle Latches 30 Products Safety Lock Latches 4 Products Case Latches 5 Products Light Duty Toggle Latches 7 Products Adjustable Hook Toggle Latches 2 Products Alternative Catch Plates 18 Products Light Duty Latch With Spring Clip GH 43 4 Products Light Duty In Line Toggle Latch GH 44 8 Products Medium Duty In Line Toggle Latch GH 45 8 Products Light Duty Over Centre Adjustable Toggle Latch GH 46 12 Products Light Duty Over Centre Adjustable Toggle Latch GH 47 12 Products Medium Duty Over Centre Adjustable Toggle Latch GH 48 8 Products Medium Duty Over Centre Adjustable Toggle Latch GH 49 8 Products Light Duty Adjustable Toggle Latch GH 50 4 Products Medium Duty Adjustable Toggle Latch GH 51 8 Products Heavy Duty Adjustable Toggle Latch GH 52 4 Products Precision Presses Rack and Pinion Presses 6 Products Toggle Presses 8 Products Toggle Presses Fine Adjustment 3 Products Manual Impact Percussion Presses 2 Products Tools & Consumables SMAART Industrial Wipes 6 Products Screw Drivers 5 Products King Dick Tools 45 Products Drill Bits 2 Products F Clamps 15 Products Pliers & Welding Clamps 6 Products Spring Clamps 11 Products Quick Clamps 11 Products Workbenches 8 Products G Clamps 11 Products Tape Measures 1 Products Corner Clamps 2 Products Hex Keys 1 Products Spanners 2 Products Socket Sets 1 Products Order now for Next Working Day dispatch Good Hand UK Ltd have been supplying quality engineering products for over 20 years. We have over 20,000 products available online or direct from our Sales Office. Contact us now for helpful, expert advice. Toggle Clamps Exair Air Products Standard Parts Toggle Latches Precision Presses Tools & Consumables Follow @goodhanduk Tweets by goodhanduk Contact Us Good Hand UK Ltd Unit 16 Twizel Close Stonebridge Milton Keynes MK 13 0 DX +44 (0)1908 221151 +44 (0)1908 225515 sales@goodhanduk.co.uk Useful Information About Us ISO 9001 Certs Returns Procedure FAQs A Z Of Products Contact Us Sitemap 2021 Good Hand UK Powered by Shopfront We have placed cookies on your device to help make this website better. Close Item Added to Your Cart Item Added to Your Cart',\n",
       " 'Better Box Network and Communications Services Home Products About Us News Contact Downloads Engineers Technical Information Services Cable Wizard Checkout Login Betterbox My Basket: 0 items No items in your cart Sub Total 0.00 View Basket & Checkout Call us: +44 (0)1908 560 200 Email: order@betterbox.co.uk My Basket: 0 items No items in your cart Sub Total 0.00 View Basket & Checkout Request Call Back Subscribe for Emails Patchbox Explore our range... PATCHBOX Adapters Baluns Cables CCTV and Premise security Clearance Cloud Services Connectors, Hoods and Parts Data Cabinets New! Data Security Switches Extenders, Baseband Modems, Line Drivers Fibre New! Internet Of Things KVM + Video + Audio Media Converters Multiplexors Networking Products Peripherals Power Premise Wiring Simulators, Eliminators, Broadcast, Sharers Switches Auto, SCSI, Manual Telephone Terminal and Console servers Tools, Testers & Analysers Unique USBNew! Better Box Essentials Wireless, Laser, Bluetooth Adapters Baluns Cables CCTV and Premise security Clearance Cloud Services Connectors, Hoods and Parts Data Cabinets Data Security Switches New! Extenders, Baseband Modems, Line Drivers Fibre Internet Of Things New! KVM + Video + Audio Media Converters Multiplexors Networking Products Peripherals Power Premise Wiring Simulators, Eliminators, Broadcast, Sharers Switches Auto, SCSI, Manual Telephone Terminal and Console servers Tools, Testers & Analysers Unique USB Better Box Essentials New! Wireless, Laser, Bluetooth VIEW ALL CATEGORIES Betterbox Communications & Network Services Better Box has the Largest Range of Products that will fit all your Networks and Systems requirements: Cables and Infrastructure Support Widest Range of Networking Solutions KVM Switches and Extenders Digital Signage, Audio/Video/Multimedia Bespoke Services and Products Voice and Data Services No need to use Multiple Sources We offer Services, starting with the Design through to Installation and the Maintenance of your IT Networks: Using Wired, Wireless and/or Line of Sight Technologies We can Design and Build your Data Centres We provide fully Integrated Voice and Data Communications We offer On Site and Remote Management Services Free for Life Technical Resources: Free Pre and Post Sales Technical Support A phone call away or simply by clicking a tab on your PC Free Video training 24/7 Download all our Technical Resources 24/7 Site Terms Site Map Cookie Policy Privacy Policy Betterbox 2021 Request a Call back Enter your details below and well call you back within 10 minutes to help you with any support you need. (This Service is only available Monday to Friday, 8.30 to 18.00 GMT) First Name Last Name Company Telephone Subscribe for Email Updates Enter your details below to subscribe for the latest updates. We wont share your details with any other companies. First Name Last Name Company Email I am happy to opt in for email communications from Betterbox. I understand my data will be stored in accordance with the Betterbox Privacy Policy. Request a Printed Catalog Request Printed Brochure Add your Address below and well send you our latest printed Catalogue packed with great products and offers. Address',\n",
       " 'Adhesive Dispensing Ltd - Solutions customers stick with... www.adhesivedispensing.net Home About Us View Cart My Account/Order Status Contact Us Help Products Solutions Join our mailing list! Welcome. Fluid Dispensing Systems Adhesive Dispensing Limited are suppliers of industrial fluid dispensing products for adhesives, sealants, lubricants and many other assembly fluids. Systems that reduce adhesive waste, improve accuracy and save assembly time. From manual hand assembly applications and low volume prototype projects, repairs, field work to automated production cells and high speed assembly lines. Dispensers range from basic portable hand tools to air powered timed shot syringe barrel dispensers, precision metering valves and XYZ desktop robots. We work with customers in many different industries including electronic manufacturing, aerospace component assembly and repair, automotive products, medical device and life science, carton and box sealing, art and craft and many others. We can also repack your specified adhesives, pastes, epoxies, silicones or sealants into ready to use syringes and cartridges. Our syringe barrels, needle tips, nozzles and cartridge reservoirs are industrial grade safe for use under high pressures on assembly and production equipment. Components are certified silicone free and can be used without negative affect on sensitive adhesives. Dispensing solutions for activators, Cyanoacrylates, sealants, silicones, RTVs, lubricants, grease, epoxies, anaerobic adhesives, thread lockers, UV cure, inks, paints, solder pastes, fluxes, braze pastes, PVA glues, conformal coatings, solvents, primers, hot melt glues and most other industrial assembly fluids. Adhesive Dispensing Ltd provide a wide range of equipment options for dispensing almost all types of assembly fluids - from watery liquids, solvents, primers and activators through to thick pastes, sealants, silicone\\'s, gels, resins and epoxies. Pages Product Description Components Syringe barrel and cartridge components, needle tips, nozzles, fluid lines, pinch tubes, caps. Use with adhesive dispensers and applicator guns. Dual component cartridges up to 600 ml and static mixer nozzles. Also, bottles with luer caps for manual applications. Also available are primer pens, speciality type nozzles and fittings. Syringe Guns Hand operated manual Syringe Guns for medium to high viscosity pastes, gels, sealants, RTV, grease and epoxies. Simple to use for making dots, beads or in field applications. High quality applicators. A 7:1 ratio leverage eliminates hand fatigue. Dispense rod action prevents drips. Low cost dispensing solutions. For barrel sizes of 10 cc, 30 cc and 55 cc. Cartridge Guns Heavy duty industrial cartridge guns for sizes 30 cc/ml to 950 cc. Manual operated, air powered or battery electric. Guns for all industry standard type cartridges, mixer cartridges and Techkit cartridges. Guns are ideal for controlled lines or potting of medium to high viscosity pastes, gels, sealants, RTV, grease and epoxies. Dispensers Dispensers available for applying repeat dots, controlled beads or potting products with adhesives, pastes, gels, RTVs, silicones, sealants, PVA, UV cure, cyanoacrylate, epoxy, anaerobic, solvent, chemicals and solders. Use manual, timed or digital memory type systems as well as peristaltic pumps and air free systems. Robots Bench top XYZ robot systems in sizes from 200 mm x 200 mm to 600 mm x 600 mm. Easy programming for dots, lines, arcs, circles and potting. Available in 2, 3 and 4 axis. Robots for applying fast deposits of most adhesives and assembly fluids. Can be supplied with syringe mount, valve head, hot melt system or meter mix valves. Valves High precision metering valves for precision deposits of most single part fluids. Ideal for bench stand mounting, production line or XYZ robot. Special valves for spraying, valves for CAs, UV adhesives as well as positive displacement motor driven valves. Also available are compact digital timed valve controllers, pressure pots, accessories and stands. Fume Extraction Fume extraction for the safe working environment when handling adhesives, glues, aerosols, soldering systems and solvents. Removal of fumes, vapours, mists, particles and dust to the Control of Hazardous to Health (COSHH) regulations 2002 and 2004. Recirculatory and full exhaust air filter and extraction for all applications. Syringe Fillers A range of syringe filling systems for the clean and quick transfer of adhesives, sealants, silicones and other materials from cartridges into any size syringe barrel. Material is fed under pressure to bottom fill the syringe to eliminate mess, waste and air entrapment. Simple to use systems supplied with a range of components and fittings. Accessories Useful additions and accessories for your guns, dispensers, valves and robots. Bench stands, finger switches, air filters and liquid manifolds. We supply an extensive range of products to support your existing dispensers or valves. Please contact us if you are looking for a particular part that you cannot find on our website. Packaging Receive your own specified adhesives, epoxy or other assembly fluid pre packaged in syringes, cartridges, Techkits or pre mixed and frozen. Save time spent manually filling syringes or hand weighing then mixing epoxies. Air free filled components improve dispensing applications and reduce costs. Please contact us for options. Adhesives A range of industrial strength Cyanoacrylate \"instant\" adhesives in 20 g, 50 g and 500 g bottles. High quality UK made adhesives for bonding plastics, metals, rubbers, card and paper. A range of threadlockers, screw lock and gasket materials. Epoxy resins and UV cure adhesives. And silicone RTV adhesives suppled pre filled in syringe barrels. All adhesives supplied are industrial grade. Dispensing Pens Small plastic and aluminium dispensing pens with felt nib and cap seal. For applying inks, coatings, adhesives, solvents, primers, coatings and activators. Supplied unassembled ready for filling with low to medium viscosity fluids. Also available prefilled with your own specified materials if required. Ideal for primers, liquid fluxes, inks and solvents. We have no minimum order value. Our carriage charges are always low and all shipments are tracked. We constantly review our prices to ensure they are competitive for the highest quality premium products. Please contact us for direct quotes or detailed product information. Thanks for visiting our website. Catalogue Viewer About Us Privacy Policy Send Us Feedback Bookmark Us Product Index Category Index Help Terms of Use Copyright Adhesive Dispensing Ltd. All Rights Reserved. Built with Volusion']"
      ]
     },
     "execution_count": 69,
     "metadata": {},
     "output_type": "execute_result"
    }
   ],
   "source": [
    "topic_model.get_representative_docs(topic=3)"
   ]
  },
  {
   "cell_type": "code",
   "execution_count": 71,
   "metadata": {},
   "outputs": [],
   "source": [
    "html_cb[\"Category\"] = topics"
   ]
  },
  {
   "cell_type": "code",
   "execution_count": 68,
   "metadata": {},
   "outputs": [
    {
     "name": "stdout",
     "output_type": "stream",
     "text": [
      "0\n",
      "[('homebase', 0.6385), ('homeshop', 0.4801), ('homeadmin2021', 0.4634), ('homego', 0.4495), ('homepagewhat', 0.4389)]\n",
      "1\n",
      "[('nhbc', 0.4194), ('dbs', 0.3322), ('hsbcmoving', 0.3273), ('certifications', 0.3251), ('hrms', 0.321)]\n",
      "2\n",
      "[('keynesmaking', 0.4791), ('keynesmk14', 0.4337), ('designing', 0.4144), ('creative', 0.4101), ('strategy', 0.405)]\n",
      "3\n",
      "[('avenuewatfordwd18price', 0.4088), ('marketingseo', 0.4033), ('customer', 0.3747), ('ecommerce', 0.3743), ('keynesmk9', 0.3653)]\n",
      "4\n",
      "[('uks', 0.4074), ('fleet', 0.3928), ('courier', 0.3922), ('txm', 0.3916), ('logistics', 0.3911)]\n",
      "5\n",
      "[('startups', 0.4133), ('f6s', 0.3957), ('startupsicon', 0.3556), ('startup', 0.3531), ('cookie_analytics', 0.3292)]\n",
      "6\n",
      "[('amn', 0.5342), ('provider', 0.4674), ('mnos', 0.4658), ('networksaugust', 0.4447), ('network', 0.4421)]\n",
      "7\n",
      "[('envisics', 0.5374), ('technologiesenvisics', 0.4875), ('technologyour', 0.4832), ('technology', 0.4756), ('technologies', 0.4644)]\n"
     ]
    }
   ],
   "source": [
    "from keybert import KeyBERT\n",
    "from stop_words import get_stop_words\n",
    "\n",
    "en_stop = get_stop_words(\"en\")\n",
    "# en_stop = en_stop.extend(['milton','keynes','world','work','uk','support','service','search','contact','shop','usage','business', 'manage','provide','website','help','product','solution','company','design','get','team','experience','customer','need','client','develop','quick','sale','day','ltd','project','work','office','market','can','will','offer','find','new','year','look','call','see','one','service','news',\"news\",\"events\",\"press\",\"contact\",\"search\",\"http\"])\n",
    "html_cb = pd.read_csv(\n",
    "    \"/Users/cordiez/Documents/CompaniesHouse/OutputFiles/crunchbase_clusters.csv\",\n",
    "    index_col=0,\n",
    ")\n",
    "html_cb = (\n",
    "    html_cb.groupby(by=\"Category\")[\"Content\"].apply(lambda x: \" \".join(x)).reset_index()\n",
    ")\n",
    "\n",
    "for i in html_cb.index:\n",
    "    print(i)\n",
    "    doc = html_cb.loc[html_cb.index[i], \"Content\"]\n",
    "    kw_model = KeyBERT()\n",
    "    print(kw_model.extract_keywords(doc, keyphrase_ngram_range=(1, 1), stop_words=None))"
   ]
  },
  {
   "cell_type": "code",
   "execution_count": 75,
   "metadata": {},
   "outputs": [
    {
     "data": {
      "text/html": [
       "<div>\n",
       "<style scoped>\n",
       "    .dataframe tbody tr th:only-of-type {\n",
       "        vertical-align: middle;\n",
       "    }\n",
       "\n",
       "    .dataframe tbody tr th {\n",
       "        vertical-align: top;\n",
       "    }\n",
       "\n",
       "    .dataframe thead th {\n",
       "        text-align: right;\n",
       "    }\n",
       "</style>\n",
       "<table border=\"1\" class=\"dataframe\">\n",
       "  <thead>\n",
       "    <tr style=\"text-align: right;\">\n",
       "      <th></th>\n",
       "      <th>Website</th>\n",
       "      <th>Content</th>\n",
       "      <th>Category</th>\n",
       "    </tr>\n",
       "  </thead>\n",
       "  <tbody>\n",
       "    <tr>\n",
       "      <th>0</th>\n",
       "      <td>www.homebase.co.uk/</td>\n",
       "      <td>Homebase - DIY That Turns Your House Into A Ho...</td>\n",
       "      <td>-1</td>\n",
       "    </tr>\n",
       "    <tr>\n",
       "      <th>1</th>\n",
       "      <td>www.envisics.com</td>\n",
       "      <td>Envisics - We redefine the way people see and ...</td>\n",
       "      <td>6</td>\n",
       "    </tr>\n",
       "    <tr>\n",
       "      <th>2</th>\n",
       "      <td>www.africamobilenetworks.com/</td>\n",
       "      <td>AMN Search this site HomeAbout UsAbout UsMissi...</td>\n",
       "      <td>5</td>\n",
       "    </tr>\n",
       "    <tr>\n",
       "      <th>3</th>\n",
       "      <td>www.sbdautomotive.com/</td>\n",
       "      <td>Automotive Technology Consultancy and Research...</td>\n",
       "      <td>-1</td>\n",
       "    </tr>\n",
       "    <tr>\n",
       "      <th>7</th>\n",
       "      <td>Www.smartrecruitonline.com</td>\n",
       "      <td>Smart Recruit Online – UK’s leading Talent Acq...</td>\n",
       "      <td>-1</td>\n",
       "    </tr>\n",
       "    <tr>\n",
       "      <th>...</th>\n",
       "      <td>...</td>\n",
       "      <td>...</td>\n",
       "      <td>...</td>\n",
       "    </tr>\n",
       "    <tr>\n",
       "      <th>456</th>\n",
       "      <td>idealcombi.com/</td>\n",
       "      <td>Idealcombi Windows &amp; Doors - Danish quality co...</td>\n",
       "      <td>-1</td>\n",
       "    </tr>\n",
       "    <tr>\n",
       "      <th>457</th>\n",
       "      <td>readphotography.co.uk/</td>\n",
       "      <td>Commercial Photography Milton Keynes - Noel Re...</td>\n",
       "      <td>1</td>\n",
       "    </tr>\n",
       "    <tr>\n",
       "      <th>458</th>\n",
       "      <td>www.rapidfulfillment.co.uk/</td>\n",
       "      <td>Home - Rapid Fulfillment Services Ltd +44 (0)1...</td>\n",
       "      <td>3</td>\n",
       "    </tr>\n",
       "    <tr>\n",
       "      <th>464</th>\n",
       "      <td>www.badmintonengland.co.uk</td>\n",
       "      <td>Badminton England | The Nation’s Favourite Rac...</td>\n",
       "      <td>-1</td>\n",
       "    </tr>\n",
       "    <tr>\n",
       "      <th>465</th>\n",
       "      <td>www.cysiam.com/</td>\n",
       "      <td>Pathfinders in cyber intelligence | CYSIAM Ski...</td>\n",
       "      <td>0</td>\n",
       "    </tr>\n",
       "  </tbody>\n",
       "</table>\n",
       "<p>288 rows × 3 columns</p>\n",
       "</div>"
      ],
      "text/plain": [
       "                           Website  \\\n",
       "0              www.homebase.co.uk/   \n",
       "1                 www.envisics.com   \n",
       "2    www.africamobilenetworks.com/   \n",
       "3           www.sbdautomotive.com/   \n",
       "7       Www.smartrecruitonline.com   \n",
       "..                             ...   \n",
       "456                idealcombi.com/   \n",
       "457         readphotography.co.uk/   \n",
       "458    www.rapidfulfillment.co.uk/   \n",
       "464     www.badmintonengland.co.uk   \n",
       "465                www.cysiam.com/   \n",
       "\n",
       "                                               Content  Category  \n",
       "0    Homebase - DIY That Turns Your House Into A Ho...        -1  \n",
       "1    Envisics - We redefine the way people see and ...         6  \n",
       "2    AMN Search this site HomeAbout UsAbout UsMissi...         5  \n",
       "3    Automotive Technology Consultancy and Research...        -1  \n",
       "7    Smart Recruit Online – UK’s leading Talent Acq...        -1  \n",
       "..                                                 ...       ...  \n",
       "456  Idealcombi Windows & Doors - Danish quality co...        -1  \n",
       "457  Commercial Photography Milton Keynes - Noel Re...         1  \n",
       "458  Home - Rapid Fulfillment Services Ltd +44 (0)1...         3  \n",
       "464  Badminton England | The Nation’s Favourite Rac...        -1  \n",
       "465  Pathfinders in cyber intelligence | CYSIAM Ski...         0  \n",
       "\n",
       "[288 rows x 3 columns]"
      ]
     },
     "execution_count": 75,
     "metadata": {},
     "output_type": "execute_result"
    }
   ],
   "source": [
    "html_cb"
   ]
  },
  {
   "cell_type": "code",
   "execution_count": 74,
   "metadata": {},
   "outputs": [],
   "source": [
    "# html_cb.to_csv('/Users/cordiez/Documents/CompaniesHouse/OutputFiles/crunchbase_clusters.csv')"
   ]
  },
  {
   "cell_type": "code",
   "execution_count": 355,
   "metadata": {},
   "outputs": [
    {
     "data": {
      "application/vnd.plotly.v1+json": {
       "config": {
        "plotlyServerURL": "https://plot.ly"
       },
       "data": [
        {
         "hovertext": "<b>Topic -1</b>:contact_services_business_cookies_",
         "line": {
          "color": "black",
          "width": 1.5
         },
         "mode": "lines+lines",
         "name": "",
         "opacity": 0.1,
         "type": "scatter",
         "x": [
          1,
          2,
          3,
          4,
          5,
          6,
          7,
          8,
          9,
          10
         ],
         "y": [
          -1.7636808303154727,
          -1.769280854816556,
          -1.8123420679605273,
          -1.8558075113633525,
          -1.9116859976237515,
          -1.913695050335683,
          -1.9559003392846412,
          -2.0065355722090237,
          -2.0208658185669095,
          -2.0445429140755174
         ]
        },
        {
         "hovertext": "<b>Topic 0</b>:management_services_security_cloud_",
         "line": {
          "color": "black",
          "width": 1.5
         },
         "mode": "lines+lines",
         "name": "",
         "opacity": 0.1,
         "type": "scatter",
         "x": [
          1,
          2,
          3,
          4,
          5,
          6,
          7,
          8,
          9,
          10
         ],
         "y": [
          -1.46537519487612,
          -1.5258499883939038,
          -1.5587743902033133,
          -1.627871465565504,
          -1.6431929207021847,
          -1.6624187613826296,
          -1.778834808324353,
          -1.7920131749927233,
          -1.866986033514376,
          -1.8922414192757127
         ]
        },
        {
         "hovertext": "<b>Topic 1</b>:marketing_design_website_business_s",
         "line": {
          "color": "black",
          "width": 1.5
         },
         "mode": "lines+lines",
         "name": "",
         "opacity": 0.1,
         "type": "scatter",
         "x": [
          1,
          2,
          3,
          4,
          5,
          6,
          7,
          8,
          9,
          10
         ],
         "y": [
          -1.4155660420112723,
          -1.4955979254283478,
          -1.5111920005549155,
          -1.6124329685033778,
          -1.6646358456438721,
          -1.7122479743631385,
          -1.7323670094937709,
          -1.7501694526804308,
          -1.780955655220065,
          -1.836824673158543
         ]
        },
        {
         "hovertext": "<b>Topic 2</b>:technology_services_customer_ds_con",
         "line": {
          "color": "black",
          "width": 1.5
         },
         "mode": "lines+lines",
         "name": "",
         "opacity": 0.1,
         "type": "scatter",
         "x": [
          1,
          2,
          3,
          4,
          5,
          6,
          7,
          8,
          9,
          10
         ],
         "y": [
          -1.5243818318974958,
          -1.5341005623803066,
          -1.743452135956454,
          -1.7536992076157065,
          -1.7717442673567048,
          -1.7832510169955607,
          -1.8343021887843323,
          -1.8381184329391473,
          -1.8652250600810723,
          -1.902205670481257
         ]
        },
        {
         "hovertext": "<b>Topic 3</b>:business_jobs_accountants_accountin",
         "line": {
          "color": "black",
          "width": 1.5
         },
         "mode": "lines+lines",
         "name": "",
         "opacity": 0.1,
         "type": "scatter",
         "x": [
          1,
          2,
          3,
          4,
          5,
          6,
          7,
          8,
          9,
          10
         ],
         "y": [
          -1.1614986081014775,
          -1.340705043877709,
          -1.3488616184264757,
          -1.404610167276159,
          -1.451696535199608,
          -1.453446991153813,
          -1.4878814891941317,
          -1.6522507014735421,
          -1.7038767146737128,
          -1.7253698795667824
         ]
        },
        {
         "hovertext": "<b>Topic 4</b>:packaging_clamps_switches_adhesives",
         "line": {
          "color": "black",
          "width": 1.5
         },
         "mode": "lines+lines",
         "name": "",
         "opacity": 0.1,
         "type": "scatter",
         "x": [
          1,
          2,
          3,
          4,
          5,
          6,
          7,
          8,
          9,
          10
         ],
         "y": [
          -1.2932586792463996,
          -1.5424989127582396,
          -1.681855063626244,
          -1.6969804451817982,
          -1.702679782029804,
          -1.7096317982946188,
          -1.720771256241557,
          -1.747211378576376,
          -1.7762637365131289,
          -1.778902120269615
         ]
        },
        {
         "hovertext": "<b>Topic 5</b>:marketing_envisics_business_automot",
         "line": {
          "color": "black",
          "width": 1.5
         },
         "mode": "lines+lines",
         "name": "",
         "opacity": 0.1,
         "type": "scatter",
         "x": [
          1,
          2,
          3,
          4,
          5,
          6,
          7,
          8,
          9,
          10
         ],
         "y": [
          -1.2718613655798738,
          -1.3732977183816437,
          -1.550641655576951,
          -1.5834951998262492,
          -1.6349452745324649,
          -1.6550493414131269,
          -1.7058026430000217,
          -1.7213635479916962,
          -1.7593685282091047,
          -1.767817454500583
         ]
        }
       ],
       "layout": {
        "height": 500,
        "hoverlabel": {
         "bgcolor": "white",
         "font": {
          "family": "Rockwell",
          "size": 16
         }
        },
        "showlegend": false,
        "template": {
         "data": {
          "bar": [
           {
            "error_x": {
             "color": "#2a3f5f"
            },
            "error_y": {
             "color": "#2a3f5f"
            },
            "marker": {
             "line": {
              "color": "white",
              "width": 0.5
             }
            },
            "type": "bar"
           }
          ],
          "barpolar": [
           {
            "marker": {
             "line": {
              "color": "white",
              "width": 0.5
             }
            },
            "type": "barpolar"
           }
          ],
          "carpet": [
           {
            "aaxis": {
             "endlinecolor": "#2a3f5f",
             "gridcolor": "#C8D4E3",
             "linecolor": "#C8D4E3",
             "minorgridcolor": "#C8D4E3",
             "startlinecolor": "#2a3f5f"
            },
            "baxis": {
             "endlinecolor": "#2a3f5f",
             "gridcolor": "#C8D4E3",
             "linecolor": "#C8D4E3",
             "minorgridcolor": "#C8D4E3",
             "startlinecolor": "#2a3f5f"
            },
            "type": "carpet"
           }
          ],
          "choropleth": [
           {
            "colorbar": {
             "outlinewidth": 0,
             "ticks": ""
            },
            "type": "choropleth"
           }
          ],
          "contour": [
           {
            "colorbar": {
             "outlinewidth": 0,
             "ticks": ""
            },
            "colorscale": [
             [
              0,
              "#0d0887"
             ],
             [
              0.1111111111111111,
              "#46039f"
             ],
             [
              0.2222222222222222,
              "#7201a8"
             ],
             [
              0.3333333333333333,
              "#9c179e"
             ],
             [
              0.4444444444444444,
              "#bd3786"
             ],
             [
              0.5555555555555556,
              "#d8576b"
             ],
             [
              0.6666666666666666,
              "#ed7953"
             ],
             [
              0.7777777777777778,
              "#fb9f3a"
             ],
             [
              0.8888888888888888,
              "#fdca26"
             ],
             [
              1,
              "#f0f921"
             ]
            ],
            "type": "contour"
           }
          ],
          "contourcarpet": [
           {
            "colorbar": {
             "outlinewidth": 0,
             "ticks": ""
            },
            "type": "contourcarpet"
           }
          ],
          "heatmap": [
           {
            "colorbar": {
             "outlinewidth": 0,
             "ticks": ""
            },
            "colorscale": [
             [
              0,
              "#0d0887"
             ],
             [
              0.1111111111111111,
              "#46039f"
             ],
             [
              0.2222222222222222,
              "#7201a8"
             ],
             [
              0.3333333333333333,
              "#9c179e"
             ],
             [
              0.4444444444444444,
              "#bd3786"
             ],
             [
              0.5555555555555556,
              "#d8576b"
             ],
             [
              0.6666666666666666,
              "#ed7953"
             ],
             [
              0.7777777777777778,
              "#fb9f3a"
             ],
             [
              0.8888888888888888,
              "#fdca26"
             ],
             [
              1,
              "#f0f921"
             ]
            ],
            "type": "heatmap"
           }
          ],
          "heatmapgl": [
           {
            "colorbar": {
             "outlinewidth": 0,
             "ticks": ""
            },
            "colorscale": [
             [
              0,
              "#0d0887"
             ],
             [
              0.1111111111111111,
              "#46039f"
             ],
             [
              0.2222222222222222,
              "#7201a8"
             ],
             [
              0.3333333333333333,
              "#9c179e"
             ],
             [
              0.4444444444444444,
              "#bd3786"
             ],
             [
              0.5555555555555556,
              "#d8576b"
             ],
             [
              0.6666666666666666,
              "#ed7953"
             ],
             [
              0.7777777777777778,
              "#fb9f3a"
             ],
             [
              0.8888888888888888,
              "#fdca26"
             ],
             [
              1,
              "#f0f921"
             ]
            ],
            "type": "heatmapgl"
           }
          ],
          "histogram": [
           {
            "marker": {
             "colorbar": {
              "outlinewidth": 0,
              "ticks": ""
             }
            },
            "type": "histogram"
           }
          ],
          "histogram2d": [
           {
            "colorbar": {
             "outlinewidth": 0,
             "ticks": ""
            },
            "colorscale": [
             [
              0,
              "#0d0887"
             ],
             [
              0.1111111111111111,
              "#46039f"
             ],
             [
              0.2222222222222222,
              "#7201a8"
             ],
             [
              0.3333333333333333,
              "#9c179e"
             ],
             [
              0.4444444444444444,
              "#bd3786"
             ],
             [
              0.5555555555555556,
              "#d8576b"
             ],
             [
              0.6666666666666666,
              "#ed7953"
             ],
             [
              0.7777777777777778,
              "#fb9f3a"
             ],
             [
              0.8888888888888888,
              "#fdca26"
             ],
             [
              1,
              "#f0f921"
             ]
            ],
            "type": "histogram2d"
           }
          ],
          "histogram2dcontour": [
           {
            "colorbar": {
             "outlinewidth": 0,
             "ticks": ""
            },
            "colorscale": [
             [
              0,
              "#0d0887"
             ],
             [
              0.1111111111111111,
              "#46039f"
             ],
             [
              0.2222222222222222,
              "#7201a8"
             ],
             [
              0.3333333333333333,
              "#9c179e"
             ],
             [
              0.4444444444444444,
              "#bd3786"
             ],
             [
              0.5555555555555556,
              "#d8576b"
             ],
             [
              0.6666666666666666,
              "#ed7953"
             ],
             [
              0.7777777777777778,
              "#fb9f3a"
             ],
             [
              0.8888888888888888,
              "#fdca26"
             ],
             [
              1,
              "#f0f921"
             ]
            ],
            "type": "histogram2dcontour"
           }
          ],
          "mesh3d": [
           {
            "colorbar": {
             "outlinewidth": 0,
             "ticks": ""
            },
            "type": "mesh3d"
           }
          ],
          "parcoords": [
           {
            "line": {
             "colorbar": {
              "outlinewidth": 0,
              "ticks": ""
             }
            },
            "type": "parcoords"
           }
          ],
          "pie": [
           {
            "automargin": true,
            "type": "pie"
           }
          ],
          "scatter": [
           {
            "marker": {
             "colorbar": {
              "outlinewidth": 0,
              "ticks": ""
             }
            },
            "type": "scatter"
           }
          ],
          "scatter3d": [
           {
            "line": {
             "colorbar": {
              "outlinewidth": 0,
              "ticks": ""
             }
            },
            "marker": {
             "colorbar": {
              "outlinewidth": 0,
              "ticks": ""
             }
            },
            "type": "scatter3d"
           }
          ],
          "scattercarpet": [
           {
            "marker": {
             "colorbar": {
              "outlinewidth": 0,
              "ticks": ""
             }
            },
            "type": "scattercarpet"
           }
          ],
          "scattergeo": [
           {
            "marker": {
             "colorbar": {
              "outlinewidth": 0,
              "ticks": ""
             }
            },
            "type": "scattergeo"
           }
          ],
          "scattergl": [
           {
            "marker": {
             "colorbar": {
              "outlinewidth": 0,
              "ticks": ""
             }
            },
            "type": "scattergl"
           }
          ],
          "scattermapbox": [
           {
            "marker": {
             "colorbar": {
              "outlinewidth": 0,
              "ticks": ""
             }
            },
            "type": "scattermapbox"
           }
          ],
          "scatterpolar": [
           {
            "marker": {
             "colorbar": {
              "outlinewidth": 0,
              "ticks": ""
             }
            },
            "type": "scatterpolar"
           }
          ],
          "scatterpolargl": [
           {
            "marker": {
             "colorbar": {
              "outlinewidth": 0,
              "ticks": ""
             }
            },
            "type": "scatterpolargl"
           }
          ],
          "scatterternary": [
           {
            "marker": {
             "colorbar": {
              "outlinewidth": 0,
              "ticks": ""
             }
            },
            "type": "scatterternary"
           }
          ],
          "surface": [
           {
            "colorbar": {
             "outlinewidth": 0,
             "ticks": ""
            },
            "colorscale": [
             [
              0,
              "#0d0887"
             ],
             [
              0.1111111111111111,
              "#46039f"
             ],
             [
              0.2222222222222222,
              "#7201a8"
             ],
             [
              0.3333333333333333,
              "#9c179e"
             ],
             [
              0.4444444444444444,
              "#bd3786"
             ],
             [
              0.5555555555555556,
              "#d8576b"
             ],
             [
              0.6666666666666666,
              "#ed7953"
             ],
             [
              0.7777777777777778,
              "#fb9f3a"
             ],
             [
              0.8888888888888888,
              "#fdca26"
             ],
             [
              1,
              "#f0f921"
             ]
            ],
            "type": "surface"
           }
          ],
          "table": [
           {
            "cells": {
             "fill": {
              "color": "#EBF0F8"
             },
             "line": {
              "color": "white"
             }
            },
            "header": {
             "fill": {
              "color": "#C8D4E3"
             },
             "line": {
              "color": "white"
             }
            },
            "type": "table"
           }
          ]
         },
         "layout": {
          "annotationdefaults": {
           "arrowcolor": "#2a3f5f",
           "arrowhead": 0,
           "arrowwidth": 1
          },
          "coloraxis": {
           "colorbar": {
            "outlinewidth": 0,
            "ticks": ""
           }
          },
          "colorscale": {
           "diverging": [
            [
             0,
             "#8e0152"
            ],
            [
             0.1,
             "#c51b7d"
            ],
            [
             0.2,
             "#de77ae"
            ],
            [
             0.3,
             "#f1b6da"
            ],
            [
             0.4,
             "#fde0ef"
            ],
            [
             0.5,
             "#f7f7f7"
            ],
            [
             0.6,
             "#e6f5d0"
            ],
            [
             0.7,
             "#b8e186"
            ],
            [
             0.8,
             "#7fbc41"
            ],
            [
             0.9,
             "#4d9221"
            ],
            [
             1,
             "#276419"
            ]
           ],
           "sequential": [
            [
             0,
             "#0d0887"
            ],
            [
             0.1111111111111111,
             "#46039f"
            ],
            [
             0.2222222222222222,
             "#7201a8"
            ],
            [
             0.3333333333333333,
             "#9c179e"
            ],
            [
             0.4444444444444444,
             "#bd3786"
            ],
            [
             0.5555555555555556,
             "#d8576b"
            ],
            [
             0.6666666666666666,
             "#ed7953"
            ],
            [
             0.7777777777777778,
             "#fb9f3a"
            ],
            [
             0.8888888888888888,
             "#fdca26"
            ],
            [
             1,
             "#f0f921"
            ]
           ],
           "sequentialminus": [
            [
             0,
             "#0d0887"
            ],
            [
             0.1111111111111111,
             "#46039f"
            ],
            [
             0.2222222222222222,
             "#7201a8"
            ],
            [
             0.3333333333333333,
             "#9c179e"
            ],
            [
             0.4444444444444444,
             "#bd3786"
            ],
            [
             0.5555555555555556,
             "#d8576b"
            ],
            [
             0.6666666666666666,
             "#ed7953"
            ],
            [
             0.7777777777777778,
             "#fb9f3a"
            ],
            [
             0.8888888888888888,
             "#fdca26"
            ],
            [
             1,
             "#f0f921"
            ]
           ]
          },
          "colorway": [
           "#636efa",
           "#EF553B",
           "#00cc96",
           "#ab63fa",
           "#FFA15A",
           "#19d3f3",
           "#FF6692",
           "#B6E880",
           "#FF97FF",
           "#FECB52"
          ],
          "font": {
           "color": "#2a3f5f"
          },
          "geo": {
           "bgcolor": "white",
           "lakecolor": "white",
           "landcolor": "white",
           "showlakes": true,
           "showland": true,
           "subunitcolor": "#C8D4E3"
          },
          "hoverlabel": {
           "align": "left"
          },
          "hovermode": "closest",
          "mapbox": {
           "style": "light"
          },
          "paper_bgcolor": "white",
          "plot_bgcolor": "white",
          "polar": {
           "angularaxis": {
            "gridcolor": "#EBF0F8",
            "linecolor": "#EBF0F8",
            "ticks": ""
           },
           "bgcolor": "white",
           "radialaxis": {
            "gridcolor": "#EBF0F8",
            "linecolor": "#EBF0F8",
            "ticks": ""
           }
          },
          "scene": {
           "xaxis": {
            "backgroundcolor": "white",
            "gridcolor": "#DFE8F3",
            "gridwidth": 2,
            "linecolor": "#EBF0F8",
            "showbackground": true,
            "ticks": "",
            "zerolinecolor": "#EBF0F8"
           },
           "yaxis": {
            "backgroundcolor": "white",
            "gridcolor": "#DFE8F3",
            "gridwidth": 2,
            "linecolor": "#EBF0F8",
            "showbackground": true,
            "ticks": "",
            "zerolinecolor": "#EBF0F8"
           },
           "zaxis": {
            "backgroundcolor": "white",
            "gridcolor": "#DFE8F3",
            "gridwidth": 2,
            "linecolor": "#EBF0F8",
            "showbackground": true,
            "ticks": "",
            "zerolinecolor": "#EBF0F8"
           }
          },
          "shapedefaults": {
           "line": {
            "color": "#2a3f5f"
           }
          },
          "ternary": {
           "aaxis": {
            "gridcolor": "#DFE8F3",
            "linecolor": "#A2B1C6",
            "ticks": ""
           },
           "baxis": {
            "gridcolor": "#DFE8F3",
            "linecolor": "#A2B1C6",
            "ticks": ""
           },
           "bgcolor": "white",
           "caxis": {
            "gridcolor": "#DFE8F3",
            "linecolor": "#A2B1C6",
            "ticks": ""
           }
          },
          "title": {
           "x": 0.05
          },
          "xaxis": {
           "automargin": true,
           "gridcolor": "#EBF0F8",
           "linecolor": "#EBF0F8",
           "ticks": "",
           "title": {
            "standoff": 15
           },
           "zerolinecolor": "#EBF0F8",
           "zerolinewidth": 2
          },
          "yaxis": {
           "automargin": true,
           "gridcolor": "#EBF0F8",
           "linecolor": "#EBF0F8",
           "ticks": "",
           "title": {
            "standoff": 15
           },
           "zerolinecolor": "#EBF0F8",
           "zerolinewidth": 2
          }
         }
        },
        "title": {
         "font": {
          "color": "Black",
          "size": 22
         },
         "text": "<b>Term score decline per Topic</b>",
         "x": 0.5,
         "xanchor": "center",
         "y": 0.9,
         "yanchor": "top"
        },
        "width": 800,
        "xaxis": {
         "dtick": 2,
         "range": [
          0,
          10
         ],
         "tick0": 1,
         "title": {
          "text": "Term Rank"
         }
        },
        "yaxis": {
         "title": {
          "text": "c-TF-IDF score (log scale)"
         }
        }
       }
      },
      "text/html": [
       "<div>                            <div id=\"2adeb89d-8241-4851-a8b8-fc2b39e57029\" class=\"plotly-graph-div\" style=\"height:500px; width:800px;\"></div>            <script type=\"text/javascript\">                require([\"plotly\"], function(Plotly) {                    window.PLOTLYENV=window.PLOTLYENV || {};                                    if (document.getElementById(\"2adeb89d-8241-4851-a8b8-fc2b39e57029\")) {                    Plotly.newPlot(                        \"2adeb89d-8241-4851-a8b8-fc2b39e57029\",                        [{\"hovertext\": \"<b>Topic -1</b>:contact_services_business_cookies_\", \"line\": {\"color\": \"black\", \"width\": 1.5}, \"mode\": \"lines+lines\", \"name\": \"\", \"opacity\": 0.1, \"type\": \"scatter\", \"x\": [1, 2, 3, 4, 5, 6, 7, 8, 9, 10], \"y\": [-1.7636808303154727, -1.769280854816556, -1.8123420679605273, -1.8558075113633525, -1.9116859976237515, -1.913695050335683, -1.9559003392846412, -2.0065355722090237, -2.0208658185669095, -2.0445429140755174]}, {\"hovertext\": \"<b>Topic 0</b>:management_services_security_cloud_\", \"line\": {\"color\": \"black\", \"width\": 1.5}, \"mode\": \"lines+lines\", \"name\": \"\", \"opacity\": 0.1, \"type\": \"scatter\", \"x\": [1, 2, 3, 4, 5, 6, 7, 8, 9, 10], \"y\": [-1.46537519487612, -1.5258499883939038, -1.5587743902033133, -1.627871465565504, -1.6431929207021847, -1.6624187613826296, -1.778834808324353, -1.7920131749927233, -1.866986033514376, -1.8922414192757127]}, {\"hovertext\": \"<b>Topic 1</b>:marketing_design_website_business_s\", \"line\": {\"color\": \"black\", \"width\": 1.5}, \"mode\": \"lines+lines\", \"name\": \"\", \"opacity\": 0.1, \"type\": \"scatter\", \"x\": [1, 2, 3, 4, 5, 6, 7, 8, 9, 10], \"y\": [-1.4155660420112723, -1.4955979254283478, -1.5111920005549155, -1.6124329685033778, -1.6646358456438721, -1.7122479743631385, -1.7323670094937709, -1.7501694526804308, -1.780955655220065, -1.836824673158543]}, {\"hovertext\": \"<b>Topic 2</b>:technology_services_customer_ds_con\", \"line\": {\"color\": \"black\", \"width\": 1.5}, \"mode\": \"lines+lines\", \"name\": \"\", \"opacity\": 0.1, \"type\": \"scatter\", \"x\": [1, 2, 3, 4, 5, 6, 7, 8, 9, 10], \"y\": [-1.5243818318974958, -1.5341005623803066, -1.743452135956454, -1.7536992076157065, -1.7717442673567048, -1.7832510169955607, -1.8343021887843323, -1.8381184329391473, -1.8652250600810723, -1.902205670481257]}, {\"hovertext\": \"<b>Topic 3</b>:business_jobs_accountants_accountin\", \"line\": {\"color\": \"black\", \"width\": 1.5}, \"mode\": \"lines+lines\", \"name\": \"\", \"opacity\": 0.1, \"type\": \"scatter\", \"x\": [1, 2, 3, 4, 5, 6, 7, 8, 9, 10], \"y\": [-1.1614986081014775, -1.340705043877709, -1.3488616184264757, -1.404610167276159, -1.451696535199608, -1.453446991153813, -1.4878814891941317, -1.6522507014735421, -1.7038767146737128, -1.7253698795667824]}, {\"hovertext\": \"<b>Topic 4</b>:packaging_clamps_switches_adhesives\", \"line\": {\"color\": \"black\", \"width\": 1.5}, \"mode\": \"lines+lines\", \"name\": \"\", \"opacity\": 0.1, \"type\": \"scatter\", \"x\": [1, 2, 3, 4, 5, 6, 7, 8, 9, 10], \"y\": [-1.2932586792463996, -1.5424989127582396, -1.681855063626244, -1.6969804451817982, -1.702679782029804, -1.7096317982946188, -1.720771256241557, -1.747211378576376, -1.7762637365131289, -1.778902120269615]}, {\"hovertext\": \"<b>Topic 5</b>:marketing_envisics_business_automot\", \"line\": {\"color\": \"black\", \"width\": 1.5}, \"mode\": \"lines+lines\", \"name\": \"\", \"opacity\": 0.1, \"type\": \"scatter\", \"x\": [1, 2, 3, 4, 5, 6, 7, 8, 9, 10], \"y\": [-1.2718613655798738, -1.3732977183816437, -1.550641655576951, -1.5834951998262492, -1.6349452745324649, -1.6550493414131269, -1.7058026430000217, -1.7213635479916962, -1.7593685282091047, -1.767817454500583]}],                        {\"height\": 500, \"hoverlabel\": {\"bgcolor\": \"white\", \"font\": {\"family\": \"Rockwell\", \"size\": 16}}, \"showlegend\": false, \"template\": {\"data\": {\"bar\": [{\"error_x\": {\"color\": \"#2a3f5f\"}, \"error_y\": {\"color\": \"#2a3f5f\"}, \"marker\": {\"line\": {\"color\": \"white\", \"width\": 0.5}}, \"type\": \"bar\"}], \"barpolar\": [{\"marker\": {\"line\": {\"color\": \"white\", \"width\": 0.5}}, \"type\": \"barpolar\"}], \"carpet\": [{\"aaxis\": {\"endlinecolor\": \"#2a3f5f\", \"gridcolor\": \"#C8D4E3\", \"linecolor\": \"#C8D4E3\", \"minorgridcolor\": \"#C8D4E3\", \"startlinecolor\": \"#2a3f5f\"}, \"baxis\": {\"endlinecolor\": \"#2a3f5f\", \"gridcolor\": \"#C8D4E3\", \"linecolor\": \"#C8D4E3\", \"minorgridcolor\": \"#C8D4E3\", \"startlinecolor\": \"#2a3f5f\"}, \"type\": \"carpet\"}], \"choropleth\": [{\"colorbar\": {\"outlinewidth\": 0, \"ticks\": \"\"}, \"type\": \"choropleth\"}], \"contour\": [{\"colorbar\": {\"outlinewidth\": 0, \"ticks\": \"\"}, \"colorscale\": [[0.0, \"#0d0887\"], [0.1111111111111111, \"#46039f\"], [0.2222222222222222, \"#7201a8\"], [0.3333333333333333, \"#9c179e\"], [0.4444444444444444, \"#bd3786\"], [0.5555555555555556, \"#d8576b\"], [0.6666666666666666, \"#ed7953\"], [0.7777777777777778, \"#fb9f3a\"], [0.8888888888888888, \"#fdca26\"], [1.0, \"#f0f921\"]], \"type\": \"contour\"}], \"contourcarpet\": [{\"colorbar\": {\"outlinewidth\": 0, \"ticks\": \"\"}, \"type\": \"contourcarpet\"}], \"heatmap\": [{\"colorbar\": {\"outlinewidth\": 0, \"ticks\": \"\"}, \"colorscale\": [[0.0, \"#0d0887\"], [0.1111111111111111, \"#46039f\"], [0.2222222222222222, \"#7201a8\"], [0.3333333333333333, \"#9c179e\"], [0.4444444444444444, \"#bd3786\"], [0.5555555555555556, \"#d8576b\"], [0.6666666666666666, \"#ed7953\"], [0.7777777777777778, \"#fb9f3a\"], [0.8888888888888888, \"#fdca26\"], [1.0, \"#f0f921\"]], \"type\": \"heatmap\"}], \"heatmapgl\": [{\"colorbar\": {\"outlinewidth\": 0, \"ticks\": \"\"}, \"colorscale\": [[0.0, \"#0d0887\"], [0.1111111111111111, \"#46039f\"], [0.2222222222222222, \"#7201a8\"], [0.3333333333333333, \"#9c179e\"], [0.4444444444444444, \"#bd3786\"], [0.5555555555555556, \"#d8576b\"], [0.6666666666666666, \"#ed7953\"], [0.7777777777777778, \"#fb9f3a\"], [0.8888888888888888, \"#fdca26\"], [1.0, \"#f0f921\"]], \"type\": \"heatmapgl\"}], \"histogram\": [{\"marker\": {\"colorbar\": {\"outlinewidth\": 0, \"ticks\": \"\"}}, \"type\": \"histogram\"}], \"histogram2d\": [{\"colorbar\": {\"outlinewidth\": 0, \"ticks\": \"\"}, \"colorscale\": [[0.0, \"#0d0887\"], [0.1111111111111111, \"#46039f\"], [0.2222222222222222, \"#7201a8\"], [0.3333333333333333, \"#9c179e\"], [0.4444444444444444, \"#bd3786\"], [0.5555555555555556, \"#d8576b\"], [0.6666666666666666, \"#ed7953\"], [0.7777777777777778, \"#fb9f3a\"], [0.8888888888888888, \"#fdca26\"], [1.0, \"#f0f921\"]], \"type\": \"histogram2d\"}], \"histogram2dcontour\": [{\"colorbar\": {\"outlinewidth\": 0, \"ticks\": \"\"}, \"colorscale\": [[0.0, \"#0d0887\"], [0.1111111111111111, \"#46039f\"], [0.2222222222222222, \"#7201a8\"], [0.3333333333333333, \"#9c179e\"], [0.4444444444444444, \"#bd3786\"], [0.5555555555555556, \"#d8576b\"], [0.6666666666666666, \"#ed7953\"], [0.7777777777777778, \"#fb9f3a\"], [0.8888888888888888, \"#fdca26\"], [1.0, \"#f0f921\"]], \"type\": \"histogram2dcontour\"}], \"mesh3d\": [{\"colorbar\": {\"outlinewidth\": 0, \"ticks\": \"\"}, \"type\": \"mesh3d\"}], \"parcoords\": [{\"line\": {\"colorbar\": {\"outlinewidth\": 0, \"ticks\": \"\"}}, \"type\": \"parcoords\"}], \"pie\": [{\"automargin\": true, \"type\": \"pie\"}], \"scatter\": [{\"marker\": {\"colorbar\": {\"outlinewidth\": 0, \"ticks\": \"\"}}, \"type\": \"scatter\"}], \"scatter3d\": [{\"line\": {\"colorbar\": {\"outlinewidth\": 0, \"ticks\": \"\"}}, \"marker\": {\"colorbar\": {\"outlinewidth\": 0, \"ticks\": \"\"}}, \"type\": \"scatter3d\"}], \"scattercarpet\": [{\"marker\": {\"colorbar\": {\"outlinewidth\": 0, \"ticks\": \"\"}}, \"type\": \"scattercarpet\"}], \"scattergeo\": [{\"marker\": {\"colorbar\": {\"outlinewidth\": 0, \"ticks\": \"\"}}, \"type\": \"scattergeo\"}], \"scattergl\": [{\"marker\": {\"colorbar\": {\"outlinewidth\": 0, \"ticks\": \"\"}}, \"type\": \"scattergl\"}], \"scattermapbox\": [{\"marker\": {\"colorbar\": {\"outlinewidth\": 0, \"ticks\": \"\"}}, \"type\": \"scattermapbox\"}], \"scatterpolar\": [{\"marker\": {\"colorbar\": {\"outlinewidth\": 0, \"ticks\": \"\"}}, \"type\": \"scatterpolar\"}], \"scatterpolargl\": [{\"marker\": {\"colorbar\": {\"outlinewidth\": 0, \"ticks\": \"\"}}, \"type\": \"scatterpolargl\"}], \"scatterternary\": [{\"marker\": {\"colorbar\": {\"outlinewidth\": 0, \"ticks\": \"\"}}, \"type\": \"scatterternary\"}], \"surface\": [{\"colorbar\": {\"outlinewidth\": 0, \"ticks\": \"\"}, \"colorscale\": [[0.0, \"#0d0887\"], [0.1111111111111111, \"#46039f\"], [0.2222222222222222, \"#7201a8\"], [0.3333333333333333, \"#9c179e\"], [0.4444444444444444, \"#bd3786\"], [0.5555555555555556, \"#d8576b\"], [0.6666666666666666, \"#ed7953\"], [0.7777777777777778, \"#fb9f3a\"], [0.8888888888888888, \"#fdca26\"], [1.0, \"#f0f921\"]], \"type\": \"surface\"}], \"table\": [{\"cells\": {\"fill\": {\"color\": \"#EBF0F8\"}, \"line\": {\"color\": \"white\"}}, \"header\": {\"fill\": {\"color\": \"#C8D4E3\"}, \"line\": {\"color\": \"white\"}}, \"type\": \"table\"}]}, \"layout\": {\"annotationdefaults\": {\"arrowcolor\": \"#2a3f5f\", \"arrowhead\": 0, \"arrowwidth\": 1}, \"coloraxis\": {\"colorbar\": {\"outlinewidth\": 0, \"ticks\": \"\"}}, \"colorscale\": {\"diverging\": [[0, \"#8e0152\"], [0.1, \"#c51b7d\"], [0.2, \"#de77ae\"], [0.3, \"#f1b6da\"], [0.4, \"#fde0ef\"], [0.5, \"#f7f7f7\"], [0.6, \"#e6f5d0\"], [0.7, \"#b8e186\"], [0.8, \"#7fbc41\"], [0.9, \"#4d9221\"], [1, \"#276419\"]], \"sequential\": [[0.0, \"#0d0887\"], [0.1111111111111111, \"#46039f\"], [0.2222222222222222, \"#7201a8\"], [0.3333333333333333, \"#9c179e\"], [0.4444444444444444, \"#bd3786\"], [0.5555555555555556, \"#d8576b\"], [0.6666666666666666, \"#ed7953\"], [0.7777777777777778, \"#fb9f3a\"], [0.8888888888888888, \"#fdca26\"], [1.0, \"#f0f921\"]], \"sequentialminus\": [[0.0, \"#0d0887\"], [0.1111111111111111, \"#46039f\"], [0.2222222222222222, \"#7201a8\"], [0.3333333333333333, \"#9c179e\"], [0.4444444444444444, \"#bd3786\"], [0.5555555555555556, \"#d8576b\"], [0.6666666666666666, \"#ed7953\"], [0.7777777777777778, \"#fb9f3a\"], [0.8888888888888888, \"#fdca26\"], [1.0, \"#f0f921\"]]}, \"colorway\": [\"#636efa\", \"#EF553B\", \"#00cc96\", \"#ab63fa\", \"#FFA15A\", \"#19d3f3\", \"#FF6692\", \"#B6E880\", \"#FF97FF\", \"#FECB52\"], \"font\": {\"color\": \"#2a3f5f\"}, \"geo\": {\"bgcolor\": \"white\", \"lakecolor\": \"white\", \"landcolor\": \"white\", \"showlakes\": true, \"showland\": true, \"subunitcolor\": \"#C8D4E3\"}, \"hoverlabel\": {\"align\": \"left\"}, \"hovermode\": \"closest\", \"mapbox\": {\"style\": \"light\"}, \"paper_bgcolor\": \"white\", \"plot_bgcolor\": \"white\", \"polar\": {\"angularaxis\": {\"gridcolor\": \"#EBF0F8\", \"linecolor\": \"#EBF0F8\", \"ticks\": \"\"}, \"bgcolor\": \"white\", \"radialaxis\": {\"gridcolor\": \"#EBF0F8\", \"linecolor\": \"#EBF0F8\", \"ticks\": \"\"}}, \"scene\": {\"xaxis\": {\"backgroundcolor\": \"white\", \"gridcolor\": \"#DFE8F3\", \"gridwidth\": 2, \"linecolor\": \"#EBF0F8\", \"showbackground\": true, \"ticks\": \"\", \"zerolinecolor\": \"#EBF0F8\"}, \"yaxis\": {\"backgroundcolor\": \"white\", \"gridcolor\": \"#DFE8F3\", \"gridwidth\": 2, \"linecolor\": \"#EBF0F8\", \"showbackground\": true, \"ticks\": \"\", \"zerolinecolor\": \"#EBF0F8\"}, \"zaxis\": {\"backgroundcolor\": \"white\", \"gridcolor\": \"#DFE8F3\", \"gridwidth\": 2, \"linecolor\": \"#EBF0F8\", \"showbackground\": true, \"ticks\": \"\", \"zerolinecolor\": \"#EBF0F8\"}}, \"shapedefaults\": {\"line\": {\"color\": \"#2a3f5f\"}}, \"ternary\": {\"aaxis\": {\"gridcolor\": \"#DFE8F3\", \"linecolor\": \"#A2B1C6\", \"ticks\": \"\"}, \"baxis\": {\"gridcolor\": \"#DFE8F3\", \"linecolor\": \"#A2B1C6\", \"ticks\": \"\"}, \"bgcolor\": \"white\", \"caxis\": {\"gridcolor\": \"#DFE8F3\", \"linecolor\": \"#A2B1C6\", \"ticks\": \"\"}}, \"title\": {\"x\": 0.05}, \"xaxis\": {\"automargin\": true, \"gridcolor\": \"#EBF0F8\", \"linecolor\": \"#EBF0F8\", \"ticks\": \"\", \"title\": {\"standoff\": 15}, \"zerolinecolor\": \"#EBF0F8\", \"zerolinewidth\": 2}, \"yaxis\": {\"automargin\": true, \"gridcolor\": \"#EBF0F8\", \"linecolor\": \"#EBF0F8\", \"ticks\": \"\", \"title\": {\"standoff\": 15}, \"zerolinecolor\": \"#EBF0F8\", \"zerolinewidth\": 2}}}, \"title\": {\"font\": {\"color\": \"Black\", \"size\": 22}, \"text\": \"<b>Term score decline per Topic</b>\", \"x\": 0.5, \"xanchor\": \"center\", \"y\": 0.9, \"yanchor\": \"top\"}, \"width\": 800, \"xaxis\": {\"dtick\": 2, \"range\": [0, 10], \"tick0\": 1, \"title\": {\"text\": \"Term Rank\"}}, \"yaxis\": {\"title\": {\"text\": \"c-TF-IDF score (log scale)\"}}},                        {\"responsive\": true}                    ).then(function(){\n",
       "                            \n",
       "var gd = document.getElementById('2adeb89d-8241-4851-a8b8-fc2b39e57029');\n",
       "var x = new MutationObserver(function (mutations, observer) {{\n",
       "        var display = window.getComputedStyle(gd).display;\n",
       "        if (!display || display === 'none') {{\n",
       "            console.log([gd, 'removed!']);\n",
       "            Plotly.purge(gd);\n",
       "            observer.disconnect();\n",
       "        }}\n",
       "}});\n",
       "\n",
       "// Listen for the removal of the full notebook cells\n",
       "var notebookContainer = gd.closest('#notebook-container');\n",
       "if (notebookContainer) {{\n",
       "    x.observe(notebookContainer, {childList: true});\n",
       "}}\n",
       "\n",
       "// Listen for the clearing of the current output cell\n",
       "var outputEl = gd.closest('.output');\n",
       "if (outputEl) {{\n",
       "    x.observe(outputEl, {childList: true});\n",
       "}}\n",
       "\n",
       "                        })                };                });            </script>        </div>"
      ]
     },
     "metadata": {},
     "output_type": "display_data"
    }
   ],
   "source": [
    "topic_model.visualize_term_rank(log_scale=True)"
   ]
  },
  {
   "cell_type": "code",
   "execution_count": null,
   "metadata": {},
   "outputs": [],
   "source": [
    "seed_list = [\n",
    "    [\"buiness\", \"services\"],\n",
    "    [\"design\", \"website\"],\n",
    "    [\"security\", \"services\"],\n",
    "    [\"products\", \"cards\"],\n",
    "    [],\n",
    "]"
   ]
  },
  {
   "cell_type": "code",
   "execution_count": 356,
   "metadata": {},
   "outputs": [
    {
     "data": {
      "text/html": [
       "<div>\n",
       "<style scoped>\n",
       "    .dataframe tbody tr th:only-of-type {\n",
       "        vertical-align: middle;\n",
       "    }\n",
       "\n",
       "    .dataframe tbody tr th {\n",
       "        vertical-align: top;\n",
       "    }\n",
       "\n",
       "    .dataframe thead th {\n",
       "        text-align: right;\n",
       "    }\n",
       "</style>\n",
       "<table border=\"1\" class=\"dataframe\">\n",
       "  <thead>\n",
       "    <tr style=\"text-align: right;\">\n",
       "      <th></th>\n",
       "      <th>Topic Id</th>\n",
       "      <th>Count</th>\n",
       "      <th>10 most representative words</th>\n",
       "      <th>Supposed activity</th>\n",
       "    </tr>\n",
       "  </thead>\n",
       "  <tbody>\n",
       "    <tr>\n",
       "      <th>0</th>\n",
       "      <td>-1</td>\n",
       "      <td>186</td>\n",
       "      <td>business, services, management, contact, privacy, systems, marketing, customers, technology, cookie</td>\n",
       "      <td>Outliers</td>\n",
       "    </tr>\n",
       "    <tr>\n",
       "      <th>1</th>\n",
       "      <td>0</td>\n",
       "      <td>17</td>\n",
       "      <td>design, website, marketing, business, services, clients, app, apps, privacy, agency</td>\n",
       "      <td>Digital marketing &amp; SEO</td>\n",
       "    </tr>\n",
       "    <tr>\n",
       "      <th>2</th>\n",
       "      <td>1</td>\n",
       "      <td>16</td>\n",
       "      <td>security, services, cloud, microsoft, cyber, 365, secure, consultancy, ibm, ccl</td>\n",
       "      <td>Cloud data services</td>\n",
       "    </tr>\n",
       "    <tr>\n",
       "      <th>3</th>\n",
       "      <td>2</td>\n",
       "      <td>15</td>\n",
       "      <td>products, cards, balloons, packaging, accessories, balloon, gift, supplies, decorations, bags</td>\n",
       "      <td>E-commerce</td>\n",
       "    </tr>\n",
       "    <tr>\n",
       "      <th>4</th>\n",
       "      <td>3</td>\n",
       "      <td>15</td>\n",
       "      <td>business, accountants, accounting, taxi, companies, coupons, accountancy, businesses, payroll, accountant</td>\n",
       "      <td>Business intelligence</td>\n",
       "    </tr>\n",
       "    <tr>\n",
       "      <th>5</th>\n",
       "      <td>4</td>\n",
       "      <td>15</td>\n",
       "      <td>technology, vehicle, connectivity, amn, waam, mobility, connected, technologies, telematics, mobile</td>\n",
       "      <td>Internet of things</td>\n",
       "    </tr>\n",
       "    <tr>\n",
       "      <th>6</th>\n",
       "      <td>5</td>\n",
       "      <td>14</td>\n",
       "      <td>property, rent, seo, sale, leaflet, removals, houses, house, search, estate</td>\n",
       "      <td>Property management</td>\n",
       "    </tr>\n",
       "    <tr>\n",
       "      <th>7</th>\n",
       "      <td>6</td>\n",
       "      <td>10</td>\n",
       "      <td>envisics, marketing, events, automotive, holographic, business, robots, robotazia, technology, patent</td>\n",
       "      <td>Robotics &amp; automation</td>\n",
       "    </tr>\n",
       "  </tbody>\n",
       "</table>\n",
       "</div>"
      ],
      "text/plain": [
       "   Topic Id  Count  \\\n",
       "0        -1    186   \n",
       "1         0     17   \n",
       "2         1     16   \n",
       "3         2     15   \n",
       "4         3     15   \n",
       "5         4     15   \n",
       "6         5     14   \n",
       "7         6     10   \n",
       "\n",
       "                                                                                10 most representative words  \\\n",
       "0        business, services, management, contact, privacy, systems, marketing, customers, technology, cookie   \n",
       "1                        design, website, marketing, business, services, clients, app, apps, privacy, agency   \n",
       "2                            security, services, cloud, microsoft, cyber, 365, secure, consultancy, ibm, ccl   \n",
       "3              products, cards, balloons, packaging, accessories, balloon, gift, supplies, decorations, bags   \n",
       "4  business, accountants, accounting, taxi, companies, coupons, accountancy, businesses, payroll, accountant   \n",
       "5        technology, vehicle, connectivity, amn, waam, mobility, connected, technologies, telematics, mobile   \n",
       "6                                property, rent, seo, sale, leaflet, removals, houses, house, search, estate   \n",
       "7      envisics, marketing, events, automotive, holographic, business, robots, robotazia, technology, patent   \n",
       "\n",
       "         Supposed activity  \n",
       "0                 Outliers  \n",
       "1  Digital marketing & SEO  \n",
       "2      Cloud data services  \n",
       "3               E-commerce  \n",
       "4    Business intelligence  \n",
       "5       Internet of things  \n",
       "6      Property management  \n",
       "7    Robotics & automation  "
      ]
     },
     "metadata": {},
     "output_type": "display_data"
    }
   ],
   "source": [
    "classes = pd.read_excel(\n",
    "    \"/Users/cordiez/Documents/CompaniesHouse/OutputFiles/bert_crunchbase_8classes.xls\",\n",
    "    index_col=0,\n",
    ")\n",
    "with option_context(\"display.max_colwidth\", 500):\n",
    "    display(classes)"
   ]
  },
  {
   "cell_type": "markdown",
   "metadata": {},
   "source": [
    "## BERT on Techcrunch"
   ]
  },
  {
   "cell_type": "code",
   "execution_count": 100,
   "metadata": {},
   "outputs": [],
   "source": [
    "from bertopic import BERTopic\n",
    "from sklearn.feature_extraction.text import CountVectorizer\n",
    "\n",
    "topic_model = BERTopic()\n",
    "topics, probs = topic_model.fit_transform(data_tc)\n",
    "\n",
    "\n",
    "vectorizer_model = CountVectorizer(stop_words=\"english\")\n",
    "eng_stop_words = set(vectorizer_model.get_stop_words())\n",
    "additional_stops = [\"5g\", \"5G\"]\n",
    "vectorizer_model = CountVectorizer(stop_words=eng_stop_words.union(additional_stops))\n",
    "topic_model.update_topics(data_tc, topics=topics, vectorizer_model=vectorizer_model)\n",
    "\n",
    "\n",
    "counts = topic_model.get_topic_info()\n",
    "\n",
    "\n",
    "# topic_model.get_topics()"
   ]
  },
  {
   "cell_type": "code",
   "execution_count": 109,
   "metadata": {},
   "outputs": [
    {
     "data": {
      "application/vnd.plotly.v1+json": {
       "config": {
        "plotlyServerURL": "https://plot.ly"
       },
       "data": [
        {
         "hoverinfo": "text",
         "marker": {
          "color": "rgb(61,153,112)"
         },
         "mode": "lines",
         "type": "scatter",
         "x": [
          0,
          0.4079924091499708,
          0.4079924091499708,
          0
         ],
         "xaxis": "x",
         "y": [
          -15,
          -15,
          -25,
          -25
         ],
         "yaxis": "y"
        },
        {
         "hoverinfo": "text",
         "marker": {
          "color": "rgb(61,153,112)"
         },
         "mode": "lines",
         "type": "scatter",
         "x": [
          0,
          0.5262617217292804,
          0.5262617217292804,
          0.4079924091499708
         ],
         "xaxis": "x",
         "y": [
          -5,
          -5,
          -20,
          -20
         ],
         "yaxis": "y"
        },
        {
         "hoverinfo": "text",
         "marker": {
          "color": "rgb(255,65,54)"
         },
         "mode": "lines",
         "type": "scatter",
         "x": [
          0,
          0.4912217955095714,
          0.4912217955095714,
          0
         ],
         "xaxis": "x",
         "y": [
          -65,
          -65,
          -75,
          -75
         ],
         "yaxis": "y"
        },
        {
         "hoverinfo": "text",
         "marker": {
          "color": "rgb(255,65,54)"
         },
         "mode": "lines",
         "type": "scatter",
         "x": [
          0,
          0.8315178482301598,
          0.8315178482301598,
          0.4912217955095714
         ],
         "xaxis": "x",
         "y": [
          -55,
          -55,
          -70,
          -70
         ],
         "yaxis": "y"
        },
        {
         "hoverinfo": "text",
         "marker": {
          "color": "rgb(255,65,54)"
         },
         "mode": "lines",
         "type": "scatter",
         "x": [
          0,
          0.866423815222405,
          0.866423815222405,
          0.8315178482301598
         ],
         "xaxis": "x",
         "y": [
          -45,
          -45,
          -62.5,
          -62.5
         ],
         "yaxis": "y"
        },
        {
         "hoverinfo": "text",
         "marker": {
          "color": "rgb(255,65,54)"
         },
         "mode": "lines",
         "type": "scatter",
         "x": [
          0,
          0.9017373005713417,
          0.9017373005713417,
          0.866423815222405
         ],
         "xaxis": "x",
         "y": [
          -35,
          -35,
          -53.75,
          -53.75
         ],
         "yaxis": "y"
        },
        {
         "hoverinfo": "text",
         "marker": {
          "color": "rgb(35,205,205)"
         },
         "mode": "lines",
         "type": "scatter",
         "x": [
          0,
          0.6033591377818192,
          0.6033591377818192,
          0
         ],
         "xaxis": "x",
         "y": [
          -95,
          -95,
          -105,
          -105
         ],
         "yaxis": "y"
        },
        {
         "hoverinfo": "text",
         "marker": {
          "color": "rgb(35,205,205)"
         },
         "mode": "lines",
         "type": "scatter",
         "x": [
          0,
          0.6631788578871227,
          0.6631788578871227,
          0.6033591377818192
         ],
         "xaxis": "x",
         "y": [
          -85,
          -85,
          -100,
          -100
         ],
         "yaxis": "y"
        },
        {
         "hoverinfo": "text",
         "marker": {
          "color": "rgb(133,20,75)"
         },
         "mode": "lines",
         "type": "scatter",
         "x": [
          0,
          0.9652128783537125,
          0.9652128783537125,
          0
         ],
         "xaxis": "x",
         "y": [
          -115,
          -115,
          -125,
          -125
         ],
         "yaxis": "y"
        },
        {
         "hoverinfo": "text",
         "marker": {
          "color": "rgb(0,116,217)"
         },
         "mode": "lines",
         "type": "scatter",
         "x": [
          0.6631788578871227,
          1.161825137414142,
          1.161825137414142,
          0.9652128783537125
         ],
         "xaxis": "x",
         "y": [
          -92.5,
          -92.5,
          -120,
          -120
         ],
         "yaxis": "y"
        },
        {
         "hoverinfo": "text",
         "marker": {
          "color": "rgb(0,116,217)"
         },
         "mode": "lines",
         "type": "scatter",
         "x": [
          0.9017373005713417,
          1.202987385363157,
          1.202987385363157,
          1.161825137414142
         ],
         "xaxis": "x",
         "y": [
          -44.375,
          -44.375,
          -106.25,
          -106.25
         ],
         "yaxis": "y"
        },
        {
         "hoverinfo": "text",
         "marker": {
          "color": "rgb(0,116,217)"
         },
         "mode": "lines",
         "type": "scatter",
         "x": [
          0.5262617217292804,
          1.7263502981109817,
          1.7263502981109817,
          1.202987385363157
         ],
         "xaxis": "x",
         "y": [
          -12.5,
          -12.5,
          -75.3125,
          -75.3125
         ],
         "yaxis": "y"
        }
       ],
       "layout": {
        "autosize": false,
        "height": 450,
        "hoverlabel": {
         "bgcolor": "white",
         "font": {
          "family": "Rockwell",
          "size": 16
         }
        },
        "hovermode": "closest",
        "plot_bgcolor": "#ECEFF1",
        "showlegend": false,
        "template": {
         "data": {
          "bar": [
           {
            "error_x": {
             "color": "#2a3f5f"
            },
            "error_y": {
             "color": "#2a3f5f"
            },
            "marker": {
             "line": {
              "color": "white",
              "width": 0.5
             }
            },
            "type": "bar"
           }
          ],
          "barpolar": [
           {
            "marker": {
             "line": {
              "color": "white",
              "width": 0.5
             }
            },
            "type": "barpolar"
           }
          ],
          "carpet": [
           {
            "aaxis": {
             "endlinecolor": "#2a3f5f",
             "gridcolor": "#C8D4E3",
             "linecolor": "#C8D4E3",
             "minorgridcolor": "#C8D4E3",
             "startlinecolor": "#2a3f5f"
            },
            "baxis": {
             "endlinecolor": "#2a3f5f",
             "gridcolor": "#C8D4E3",
             "linecolor": "#C8D4E3",
             "minorgridcolor": "#C8D4E3",
             "startlinecolor": "#2a3f5f"
            },
            "type": "carpet"
           }
          ],
          "choropleth": [
           {
            "colorbar": {
             "outlinewidth": 0,
             "ticks": ""
            },
            "type": "choropleth"
           }
          ],
          "contour": [
           {
            "colorbar": {
             "outlinewidth": 0,
             "ticks": ""
            },
            "colorscale": [
             [
              0,
              "#0d0887"
             ],
             [
              0.1111111111111111,
              "#46039f"
             ],
             [
              0.2222222222222222,
              "#7201a8"
             ],
             [
              0.3333333333333333,
              "#9c179e"
             ],
             [
              0.4444444444444444,
              "#bd3786"
             ],
             [
              0.5555555555555556,
              "#d8576b"
             ],
             [
              0.6666666666666666,
              "#ed7953"
             ],
             [
              0.7777777777777778,
              "#fb9f3a"
             ],
             [
              0.8888888888888888,
              "#fdca26"
             ],
             [
              1,
              "#f0f921"
             ]
            ],
            "type": "contour"
           }
          ],
          "contourcarpet": [
           {
            "colorbar": {
             "outlinewidth": 0,
             "ticks": ""
            },
            "type": "contourcarpet"
           }
          ],
          "heatmap": [
           {
            "colorbar": {
             "outlinewidth": 0,
             "ticks": ""
            },
            "colorscale": [
             [
              0,
              "#0d0887"
             ],
             [
              0.1111111111111111,
              "#46039f"
             ],
             [
              0.2222222222222222,
              "#7201a8"
             ],
             [
              0.3333333333333333,
              "#9c179e"
             ],
             [
              0.4444444444444444,
              "#bd3786"
             ],
             [
              0.5555555555555556,
              "#d8576b"
             ],
             [
              0.6666666666666666,
              "#ed7953"
             ],
             [
              0.7777777777777778,
              "#fb9f3a"
             ],
             [
              0.8888888888888888,
              "#fdca26"
             ],
             [
              1,
              "#f0f921"
             ]
            ],
            "type": "heatmap"
           }
          ],
          "heatmapgl": [
           {
            "colorbar": {
             "outlinewidth": 0,
             "ticks": ""
            },
            "colorscale": [
             [
              0,
              "#0d0887"
             ],
             [
              0.1111111111111111,
              "#46039f"
             ],
             [
              0.2222222222222222,
              "#7201a8"
             ],
             [
              0.3333333333333333,
              "#9c179e"
             ],
             [
              0.4444444444444444,
              "#bd3786"
             ],
             [
              0.5555555555555556,
              "#d8576b"
             ],
             [
              0.6666666666666666,
              "#ed7953"
             ],
             [
              0.7777777777777778,
              "#fb9f3a"
             ],
             [
              0.8888888888888888,
              "#fdca26"
             ],
             [
              1,
              "#f0f921"
             ]
            ],
            "type": "heatmapgl"
           }
          ],
          "histogram": [
           {
            "marker": {
             "colorbar": {
              "outlinewidth": 0,
              "ticks": ""
             }
            },
            "type": "histogram"
           }
          ],
          "histogram2d": [
           {
            "colorbar": {
             "outlinewidth": 0,
             "ticks": ""
            },
            "colorscale": [
             [
              0,
              "#0d0887"
             ],
             [
              0.1111111111111111,
              "#46039f"
             ],
             [
              0.2222222222222222,
              "#7201a8"
             ],
             [
              0.3333333333333333,
              "#9c179e"
             ],
             [
              0.4444444444444444,
              "#bd3786"
             ],
             [
              0.5555555555555556,
              "#d8576b"
             ],
             [
              0.6666666666666666,
              "#ed7953"
             ],
             [
              0.7777777777777778,
              "#fb9f3a"
             ],
             [
              0.8888888888888888,
              "#fdca26"
             ],
             [
              1,
              "#f0f921"
             ]
            ],
            "type": "histogram2d"
           }
          ],
          "histogram2dcontour": [
           {
            "colorbar": {
             "outlinewidth": 0,
             "ticks": ""
            },
            "colorscale": [
             [
              0,
              "#0d0887"
             ],
             [
              0.1111111111111111,
              "#46039f"
             ],
             [
              0.2222222222222222,
              "#7201a8"
             ],
             [
              0.3333333333333333,
              "#9c179e"
             ],
             [
              0.4444444444444444,
              "#bd3786"
             ],
             [
              0.5555555555555556,
              "#d8576b"
             ],
             [
              0.6666666666666666,
              "#ed7953"
             ],
             [
              0.7777777777777778,
              "#fb9f3a"
             ],
             [
              0.8888888888888888,
              "#fdca26"
             ],
             [
              1,
              "#f0f921"
             ]
            ],
            "type": "histogram2dcontour"
           }
          ],
          "mesh3d": [
           {
            "colorbar": {
             "outlinewidth": 0,
             "ticks": ""
            },
            "type": "mesh3d"
           }
          ],
          "parcoords": [
           {
            "line": {
             "colorbar": {
              "outlinewidth": 0,
              "ticks": ""
             }
            },
            "type": "parcoords"
           }
          ],
          "pie": [
           {
            "automargin": true,
            "type": "pie"
           }
          ],
          "scatter": [
           {
            "marker": {
             "colorbar": {
              "outlinewidth": 0,
              "ticks": ""
             }
            },
            "type": "scatter"
           }
          ],
          "scatter3d": [
           {
            "line": {
             "colorbar": {
              "outlinewidth": 0,
              "ticks": ""
             }
            },
            "marker": {
             "colorbar": {
              "outlinewidth": 0,
              "ticks": ""
             }
            },
            "type": "scatter3d"
           }
          ],
          "scattercarpet": [
           {
            "marker": {
             "colorbar": {
              "outlinewidth": 0,
              "ticks": ""
             }
            },
            "type": "scattercarpet"
           }
          ],
          "scattergeo": [
           {
            "marker": {
             "colorbar": {
              "outlinewidth": 0,
              "ticks": ""
             }
            },
            "type": "scattergeo"
           }
          ],
          "scattergl": [
           {
            "marker": {
             "colorbar": {
              "outlinewidth": 0,
              "ticks": ""
             }
            },
            "type": "scattergl"
           }
          ],
          "scattermapbox": [
           {
            "marker": {
             "colorbar": {
              "outlinewidth": 0,
              "ticks": ""
             }
            },
            "type": "scattermapbox"
           }
          ],
          "scatterpolar": [
           {
            "marker": {
             "colorbar": {
              "outlinewidth": 0,
              "ticks": ""
             }
            },
            "type": "scatterpolar"
           }
          ],
          "scatterpolargl": [
           {
            "marker": {
             "colorbar": {
              "outlinewidth": 0,
              "ticks": ""
             }
            },
            "type": "scatterpolargl"
           }
          ],
          "scatterternary": [
           {
            "marker": {
             "colorbar": {
              "outlinewidth": 0,
              "ticks": ""
             }
            },
            "type": "scatterternary"
           }
          ],
          "surface": [
           {
            "colorbar": {
             "outlinewidth": 0,
             "ticks": ""
            },
            "colorscale": [
             [
              0,
              "#0d0887"
             ],
             [
              0.1111111111111111,
              "#46039f"
             ],
             [
              0.2222222222222222,
              "#7201a8"
             ],
             [
              0.3333333333333333,
              "#9c179e"
             ],
             [
              0.4444444444444444,
              "#bd3786"
             ],
             [
              0.5555555555555556,
              "#d8576b"
             ],
             [
              0.6666666666666666,
              "#ed7953"
             ],
             [
              0.7777777777777778,
              "#fb9f3a"
             ],
             [
              0.8888888888888888,
              "#fdca26"
             ],
             [
              1,
              "#f0f921"
             ]
            ],
            "type": "surface"
           }
          ],
          "table": [
           {
            "cells": {
             "fill": {
              "color": "#EBF0F8"
             },
             "line": {
              "color": "white"
             }
            },
            "header": {
             "fill": {
              "color": "#C8D4E3"
             },
             "line": {
              "color": "white"
             }
            },
            "type": "table"
           }
          ]
         },
         "layout": {
          "annotationdefaults": {
           "arrowcolor": "#2a3f5f",
           "arrowhead": 0,
           "arrowwidth": 1
          },
          "coloraxis": {
           "colorbar": {
            "outlinewidth": 0,
            "ticks": ""
           }
          },
          "colorscale": {
           "diverging": [
            [
             0,
             "#8e0152"
            ],
            [
             0.1,
             "#c51b7d"
            ],
            [
             0.2,
             "#de77ae"
            ],
            [
             0.3,
             "#f1b6da"
            ],
            [
             0.4,
             "#fde0ef"
            ],
            [
             0.5,
             "#f7f7f7"
            ],
            [
             0.6,
             "#e6f5d0"
            ],
            [
             0.7,
             "#b8e186"
            ],
            [
             0.8,
             "#7fbc41"
            ],
            [
             0.9,
             "#4d9221"
            ],
            [
             1,
             "#276419"
            ]
           ],
           "sequential": [
            [
             0,
             "#0d0887"
            ],
            [
             0.1111111111111111,
             "#46039f"
            ],
            [
             0.2222222222222222,
             "#7201a8"
            ],
            [
             0.3333333333333333,
             "#9c179e"
            ],
            [
             0.4444444444444444,
             "#bd3786"
            ],
            [
             0.5555555555555556,
             "#d8576b"
            ],
            [
             0.6666666666666666,
             "#ed7953"
            ],
            [
             0.7777777777777778,
             "#fb9f3a"
            ],
            [
             0.8888888888888888,
             "#fdca26"
            ],
            [
             1,
             "#f0f921"
            ]
           ],
           "sequentialminus": [
            [
             0,
             "#0d0887"
            ],
            [
             0.1111111111111111,
             "#46039f"
            ],
            [
             0.2222222222222222,
             "#7201a8"
            ],
            [
             0.3333333333333333,
             "#9c179e"
            ],
            [
             0.4444444444444444,
             "#bd3786"
            ],
            [
             0.5555555555555556,
             "#d8576b"
            ],
            [
             0.6666666666666666,
             "#ed7953"
            ],
            [
             0.7777777777777778,
             "#fb9f3a"
            ],
            [
             0.8888888888888888,
             "#fdca26"
            ],
            [
             1,
             "#f0f921"
            ]
           ]
          },
          "colorway": [
           "#636efa",
           "#EF553B",
           "#00cc96",
           "#ab63fa",
           "#FFA15A",
           "#19d3f3",
           "#FF6692",
           "#B6E880",
           "#FF97FF",
           "#FECB52"
          ],
          "font": {
           "color": "#2a3f5f"
          },
          "geo": {
           "bgcolor": "white",
           "lakecolor": "white",
           "landcolor": "white",
           "showlakes": true,
           "showland": true,
           "subunitcolor": "#C8D4E3"
          },
          "hoverlabel": {
           "align": "left"
          },
          "hovermode": "closest",
          "mapbox": {
           "style": "light"
          },
          "paper_bgcolor": "white",
          "plot_bgcolor": "white",
          "polar": {
           "angularaxis": {
            "gridcolor": "#EBF0F8",
            "linecolor": "#EBF0F8",
            "ticks": ""
           },
           "bgcolor": "white",
           "radialaxis": {
            "gridcolor": "#EBF0F8",
            "linecolor": "#EBF0F8",
            "ticks": ""
           }
          },
          "scene": {
           "xaxis": {
            "backgroundcolor": "white",
            "gridcolor": "#DFE8F3",
            "gridwidth": 2,
            "linecolor": "#EBF0F8",
            "showbackground": true,
            "ticks": "",
            "zerolinecolor": "#EBF0F8"
           },
           "yaxis": {
            "backgroundcolor": "white",
            "gridcolor": "#DFE8F3",
            "gridwidth": 2,
            "linecolor": "#EBF0F8",
            "showbackground": true,
            "ticks": "",
            "zerolinecolor": "#EBF0F8"
           },
           "zaxis": {
            "backgroundcolor": "white",
            "gridcolor": "#DFE8F3",
            "gridwidth": 2,
            "linecolor": "#EBF0F8",
            "showbackground": true,
            "ticks": "",
            "zerolinecolor": "#EBF0F8"
           }
          },
          "shapedefaults": {
           "line": {
            "color": "#2a3f5f"
           }
          },
          "ternary": {
           "aaxis": {
            "gridcolor": "#DFE8F3",
            "linecolor": "#A2B1C6",
            "ticks": ""
           },
           "baxis": {
            "gridcolor": "#DFE8F3",
            "linecolor": "#A2B1C6",
            "ticks": ""
           },
           "bgcolor": "white",
           "caxis": {
            "gridcolor": "#DFE8F3",
            "linecolor": "#A2B1C6",
            "ticks": ""
           }
          },
          "title": {
           "x": 0.05
          },
          "xaxis": {
           "automargin": true,
           "gridcolor": "#EBF0F8",
           "linecolor": "#EBF0F8",
           "ticks": "",
           "title": {
            "standoff": 15
           },
           "zerolinecolor": "#EBF0F8",
           "zerolinewidth": 2
          },
          "yaxis": {
           "automargin": true,
           "gridcolor": "#EBF0F8",
           "linecolor": "#EBF0F8",
           "ticks": "",
           "title": {
            "standoff": 15
           },
           "zerolinecolor": "#EBF0F8",
           "zerolinewidth": 2
          }
         }
        },
        "title": {
         "font": {
          "color": "Black",
          "size": 22
         },
         "text": "<b>Hierarchical Clustering",
         "x": 0.5,
         "xanchor": "center",
         "y": 0.95,
         "yanchor": "top"
        },
        "width": 500,
        "xaxis": {
         "mirror": "allticks",
         "rangemode": "tozero",
         "showgrid": false,
         "showline": true,
         "showticklabels": true,
         "ticks": "outside",
         "type": "linear",
         "zeroline": false
        },
        "yaxis": {
         "mirror": "allticks",
         "rangemode": "tozero",
         "showgrid": false,
         "showline": true,
         "showticklabels": true,
         "tickmode": "array",
         "ticks": "outside",
         "ticktext": [
          "11_pixel_google_googles",
          "1_phone_apple_pod",
          "2_samsung_galaxy_device",
          "3_company_cloud_fund",
          "6_app_apps_apple",
          "9_covid_digital_coronavirus",
          "-1_company_companies_tech",
          "7_intel_chip_intels",
          "4_wireless_network_cities",
          "8_merger_deal_carriers",
          "10_verizon_verizons_service",
          "0_huawei_china_chinese",
          "5_qualcomm_broadcom_qualcomms"
         ],
         "tickvals": [
          -5,
          -15,
          -25,
          -35,
          -45,
          -55,
          -65,
          -75,
          -85,
          -95,
          -105,
          -115,
          -125
         ],
         "type": "linear",
         "zeroline": false
        }
       }
      },
      "text/html": [
       "<div>                            <div id=\"3fb82ad4-f781-48e0-9a02-5f1a6871f854\" class=\"plotly-graph-div\" style=\"height:450px; width:500px;\"></div>            <script type=\"text/javascript\">                require([\"plotly\"], function(Plotly) {                    window.PLOTLYENV=window.PLOTLYENV || {};                                    if (document.getElementById(\"3fb82ad4-f781-48e0-9a02-5f1a6871f854\")) {                    Plotly.newPlot(                        \"3fb82ad4-f781-48e0-9a02-5f1a6871f854\",                        [{\"hoverinfo\": \"text\", \"marker\": {\"color\": \"rgb(61,153,112)\"}, \"mode\": \"lines\", \"type\": \"scatter\", \"x\": [0.0, 0.4079924091499708, 0.4079924091499708, 0.0], \"xaxis\": \"x\", \"y\": [-15.0, -15.0, -25.0, -25.0], \"yaxis\": \"y\"}, {\"hoverinfo\": \"text\", \"marker\": {\"color\": \"rgb(61,153,112)\"}, \"mode\": \"lines\", \"type\": \"scatter\", \"x\": [0.0, 0.5262617217292804, 0.5262617217292804, 0.4079924091499708], \"xaxis\": \"x\", \"y\": [-5.0, -5.0, -20.0, -20.0], \"yaxis\": \"y\"}, {\"hoverinfo\": \"text\", \"marker\": {\"color\": \"rgb(255,65,54)\"}, \"mode\": \"lines\", \"type\": \"scatter\", \"x\": [0.0, 0.4912217955095714, 0.4912217955095714, 0.0], \"xaxis\": \"x\", \"y\": [-65.0, -65.0, -75.0, -75.0], \"yaxis\": \"y\"}, {\"hoverinfo\": \"text\", \"marker\": {\"color\": \"rgb(255,65,54)\"}, \"mode\": \"lines\", \"type\": \"scatter\", \"x\": [0.0, 0.8315178482301598, 0.8315178482301598, 0.4912217955095714], \"xaxis\": \"x\", \"y\": [-55.0, -55.0, -70.0, -70.0], \"yaxis\": \"y\"}, {\"hoverinfo\": \"text\", \"marker\": {\"color\": \"rgb(255,65,54)\"}, \"mode\": \"lines\", \"type\": \"scatter\", \"x\": [0.0, 0.866423815222405, 0.866423815222405, 0.8315178482301598], \"xaxis\": \"x\", \"y\": [-45.0, -45.0, -62.5, -62.5], \"yaxis\": \"y\"}, {\"hoverinfo\": \"text\", \"marker\": {\"color\": \"rgb(255,65,54)\"}, \"mode\": \"lines\", \"type\": \"scatter\", \"x\": [0.0, 0.9017373005713417, 0.9017373005713417, 0.866423815222405], \"xaxis\": \"x\", \"y\": [-35.0, -35.0, -53.75, -53.75], \"yaxis\": \"y\"}, {\"hoverinfo\": \"text\", \"marker\": {\"color\": \"rgb(35,205,205)\"}, \"mode\": \"lines\", \"type\": \"scatter\", \"x\": [0.0, 0.6033591377818192, 0.6033591377818192, 0.0], \"xaxis\": \"x\", \"y\": [-95.0, -95.0, -105.0, -105.0], \"yaxis\": \"y\"}, {\"hoverinfo\": \"text\", \"marker\": {\"color\": \"rgb(35,205,205)\"}, \"mode\": \"lines\", \"type\": \"scatter\", \"x\": [0.0, 0.6631788578871227, 0.6631788578871227, 0.6033591377818192], \"xaxis\": \"x\", \"y\": [-85.0, -85.0, -100.0, -100.0], \"yaxis\": \"y\"}, {\"hoverinfo\": \"text\", \"marker\": {\"color\": \"rgb(133,20,75)\"}, \"mode\": \"lines\", \"type\": \"scatter\", \"x\": [0.0, 0.9652128783537125, 0.9652128783537125, 0.0], \"xaxis\": \"x\", \"y\": [-115.0, -115.0, -125.0, -125.0], \"yaxis\": \"y\"}, {\"hoverinfo\": \"text\", \"marker\": {\"color\": \"rgb(0,116,217)\"}, \"mode\": \"lines\", \"type\": \"scatter\", \"x\": [0.6631788578871227, 1.161825137414142, 1.161825137414142, 0.9652128783537125], \"xaxis\": \"x\", \"y\": [-92.5, -92.5, -120.0, -120.0], \"yaxis\": \"y\"}, {\"hoverinfo\": \"text\", \"marker\": {\"color\": \"rgb(0,116,217)\"}, \"mode\": \"lines\", \"type\": \"scatter\", \"x\": [0.9017373005713417, 1.202987385363157, 1.202987385363157, 1.161825137414142], \"xaxis\": \"x\", \"y\": [-44.375, -44.375, -106.25, -106.25], \"yaxis\": \"y\"}, {\"hoverinfo\": \"text\", \"marker\": {\"color\": \"rgb(0,116,217)\"}, \"mode\": \"lines\", \"type\": \"scatter\", \"x\": [0.5262617217292804, 1.7263502981109817, 1.7263502981109817, 1.202987385363157], \"xaxis\": \"x\", \"y\": [-12.5, -12.5, -75.3125, -75.3125], \"yaxis\": \"y\"}],                        {\"autosize\": false, \"height\": 450, \"hoverlabel\": {\"bgcolor\": \"white\", \"font\": {\"family\": \"Rockwell\", \"size\": 16}}, \"hovermode\": \"closest\", \"plot_bgcolor\": \"#ECEFF1\", \"showlegend\": false, \"template\": {\"data\": {\"bar\": [{\"error_x\": {\"color\": \"#2a3f5f\"}, \"error_y\": {\"color\": \"#2a3f5f\"}, \"marker\": {\"line\": {\"color\": \"white\", \"width\": 0.5}}, \"type\": \"bar\"}], \"barpolar\": [{\"marker\": {\"line\": {\"color\": \"white\", \"width\": 0.5}}, \"type\": \"barpolar\"}], \"carpet\": [{\"aaxis\": {\"endlinecolor\": \"#2a3f5f\", \"gridcolor\": \"#C8D4E3\", \"linecolor\": \"#C8D4E3\", \"minorgridcolor\": \"#C8D4E3\", \"startlinecolor\": \"#2a3f5f\"}, \"baxis\": {\"endlinecolor\": \"#2a3f5f\", \"gridcolor\": \"#C8D4E3\", \"linecolor\": \"#C8D4E3\", \"minorgridcolor\": \"#C8D4E3\", \"startlinecolor\": \"#2a3f5f\"}, \"type\": \"carpet\"}], \"choropleth\": [{\"colorbar\": {\"outlinewidth\": 0, \"ticks\": \"\"}, \"type\": \"choropleth\"}], \"contour\": [{\"colorbar\": {\"outlinewidth\": 0, \"ticks\": \"\"}, \"colorscale\": [[0.0, \"#0d0887\"], [0.1111111111111111, \"#46039f\"], [0.2222222222222222, \"#7201a8\"], [0.3333333333333333, \"#9c179e\"], [0.4444444444444444, \"#bd3786\"], [0.5555555555555556, \"#d8576b\"], [0.6666666666666666, \"#ed7953\"], [0.7777777777777778, \"#fb9f3a\"], [0.8888888888888888, \"#fdca26\"], [1.0, \"#f0f921\"]], \"type\": \"contour\"}], \"contourcarpet\": [{\"colorbar\": {\"outlinewidth\": 0, \"ticks\": \"\"}, \"type\": \"contourcarpet\"}], \"heatmap\": [{\"colorbar\": {\"outlinewidth\": 0, \"ticks\": \"\"}, \"colorscale\": [[0.0, \"#0d0887\"], [0.1111111111111111, \"#46039f\"], [0.2222222222222222, \"#7201a8\"], [0.3333333333333333, \"#9c179e\"], [0.4444444444444444, \"#bd3786\"], [0.5555555555555556, \"#d8576b\"], [0.6666666666666666, \"#ed7953\"], [0.7777777777777778, \"#fb9f3a\"], [0.8888888888888888, \"#fdca26\"], [1.0, \"#f0f921\"]], \"type\": \"heatmap\"}], \"heatmapgl\": [{\"colorbar\": {\"outlinewidth\": 0, \"ticks\": \"\"}, \"colorscale\": [[0.0, \"#0d0887\"], [0.1111111111111111, \"#46039f\"], [0.2222222222222222, \"#7201a8\"], [0.3333333333333333, \"#9c179e\"], [0.4444444444444444, \"#bd3786\"], [0.5555555555555556, \"#d8576b\"], [0.6666666666666666, \"#ed7953\"], [0.7777777777777778, \"#fb9f3a\"], [0.8888888888888888, \"#fdca26\"], [1.0, \"#f0f921\"]], \"type\": \"heatmapgl\"}], \"histogram\": [{\"marker\": {\"colorbar\": {\"outlinewidth\": 0, \"ticks\": \"\"}}, \"type\": \"histogram\"}], \"histogram2d\": [{\"colorbar\": {\"outlinewidth\": 0, \"ticks\": \"\"}, \"colorscale\": [[0.0, \"#0d0887\"], [0.1111111111111111, \"#46039f\"], [0.2222222222222222, \"#7201a8\"], [0.3333333333333333, \"#9c179e\"], [0.4444444444444444, \"#bd3786\"], [0.5555555555555556, \"#d8576b\"], [0.6666666666666666, \"#ed7953\"], [0.7777777777777778, \"#fb9f3a\"], [0.8888888888888888, \"#fdca26\"], [1.0, \"#f0f921\"]], \"type\": \"histogram2d\"}], \"histogram2dcontour\": [{\"colorbar\": {\"outlinewidth\": 0, \"ticks\": \"\"}, \"colorscale\": [[0.0, \"#0d0887\"], [0.1111111111111111, \"#46039f\"], [0.2222222222222222, \"#7201a8\"], [0.3333333333333333, \"#9c179e\"], [0.4444444444444444, \"#bd3786\"], [0.5555555555555556, \"#d8576b\"], [0.6666666666666666, \"#ed7953\"], [0.7777777777777778, \"#fb9f3a\"], [0.8888888888888888, \"#fdca26\"], [1.0, \"#f0f921\"]], \"type\": \"histogram2dcontour\"}], \"mesh3d\": [{\"colorbar\": {\"outlinewidth\": 0, \"ticks\": \"\"}, \"type\": \"mesh3d\"}], \"parcoords\": [{\"line\": {\"colorbar\": {\"outlinewidth\": 0, \"ticks\": \"\"}}, \"type\": \"parcoords\"}], \"pie\": [{\"automargin\": true, \"type\": \"pie\"}], \"scatter\": [{\"marker\": {\"colorbar\": {\"outlinewidth\": 0, \"ticks\": \"\"}}, \"type\": \"scatter\"}], \"scatter3d\": [{\"line\": {\"colorbar\": {\"outlinewidth\": 0, \"ticks\": \"\"}}, \"marker\": {\"colorbar\": {\"outlinewidth\": 0, \"ticks\": \"\"}}, \"type\": \"scatter3d\"}], \"scattercarpet\": [{\"marker\": {\"colorbar\": {\"outlinewidth\": 0, \"ticks\": \"\"}}, \"type\": \"scattercarpet\"}], \"scattergeo\": [{\"marker\": {\"colorbar\": {\"outlinewidth\": 0, \"ticks\": \"\"}}, \"type\": \"scattergeo\"}], \"scattergl\": [{\"marker\": {\"colorbar\": {\"outlinewidth\": 0, \"ticks\": \"\"}}, \"type\": \"scattergl\"}], \"scattermapbox\": [{\"marker\": {\"colorbar\": {\"outlinewidth\": 0, \"ticks\": \"\"}}, \"type\": \"scattermapbox\"}], \"scatterpolar\": [{\"marker\": {\"colorbar\": {\"outlinewidth\": 0, \"ticks\": \"\"}}, \"type\": \"scatterpolar\"}], \"scatterpolargl\": [{\"marker\": {\"colorbar\": {\"outlinewidth\": 0, \"ticks\": \"\"}}, \"type\": \"scatterpolargl\"}], \"scatterternary\": [{\"marker\": {\"colorbar\": {\"outlinewidth\": 0, \"ticks\": \"\"}}, \"type\": \"scatterternary\"}], \"surface\": [{\"colorbar\": {\"outlinewidth\": 0, \"ticks\": \"\"}, \"colorscale\": [[0.0, \"#0d0887\"], [0.1111111111111111, \"#46039f\"], [0.2222222222222222, \"#7201a8\"], [0.3333333333333333, \"#9c179e\"], [0.4444444444444444, \"#bd3786\"], [0.5555555555555556, \"#d8576b\"], [0.6666666666666666, \"#ed7953\"], [0.7777777777777778, \"#fb9f3a\"], [0.8888888888888888, \"#fdca26\"], [1.0, \"#f0f921\"]], \"type\": \"surface\"}], \"table\": [{\"cells\": {\"fill\": {\"color\": \"#EBF0F8\"}, \"line\": {\"color\": \"white\"}}, \"header\": {\"fill\": {\"color\": \"#C8D4E3\"}, \"line\": {\"color\": \"white\"}}, \"type\": \"table\"}]}, \"layout\": {\"annotationdefaults\": {\"arrowcolor\": \"#2a3f5f\", \"arrowhead\": 0, \"arrowwidth\": 1}, \"coloraxis\": {\"colorbar\": {\"outlinewidth\": 0, \"ticks\": \"\"}}, \"colorscale\": {\"diverging\": [[0, \"#8e0152\"], [0.1, \"#c51b7d\"], [0.2, \"#de77ae\"], [0.3, \"#f1b6da\"], [0.4, \"#fde0ef\"], [0.5, \"#f7f7f7\"], [0.6, \"#e6f5d0\"], [0.7, \"#b8e186\"], [0.8, \"#7fbc41\"], [0.9, \"#4d9221\"], [1, \"#276419\"]], \"sequential\": [[0.0, \"#0d0887\"], [0.1111111111111111, \"#46039f\"], [0.2222222222222222, \"#7201a8\"], [0.3333333333333333, \"#9c179e\"], [0.4444444444444444, \"#bd3786\"], [0.5555555555555556, \"#d8576b\"], [0.6666666666666666, \"#ed7953\"], [0.7777777777777778, \"#fb9f3a\"], [0.8888888888888888, \"#fdca26\"], [1.0, \"#f0f921\"]], \"sequentialminus\": [[0.0, \"#0d0887\"], [0.1111111111111111, \"#46039f\"], [0.2222222222222222, \"#7201a8\"], [0.3333333333333333, \"#9c179e\"], [0.4444444444444444, \"#bd3786\"], [0.5555555555555556, \"#d8576b\"], [0.6666666666666666, \"#ed7953\"], [0.7777777777777778, \"#fb9f3a\"], [0.8888888888888888, \"#fdca26\"], [1.0, \"#f0f921\"]]}, \"colorway\": [\"#636efa\", \"#EF553B\", \"#00cc96\", \"#ab63fa\", \"#FFA15A\", \"#19d3f3\", \"#FF6692\", \"#B6E880\", \"#FF97FF\", \"#FECB52\"], \"font\": {\"color\": \"#2a3f5f\"}, \"geo\": {\"bgcolor\": \"white\", \"lakecolor\": \"white\", \"landcolor\": \"white\", \"showlakes\": true, \"showland\": true, \"subunitcolor\": \"#C8D4E3\"}, \"hoverlabel\": {\"align\": \"left\"}, \"hovermode\": \"closest\", \"mapbox\": {\"style\": \"light\"}, \"paper_bgcolor\": \"white\", \"plot_bgcolor\": \"white\", \"polar\": {\"angularaxis\": {\"gridcolor\": \"#EBF0F8\", \"linecolor\": \"#EBF0F8\", \"ticks\": \"\"}, \"bgcolor\": \"white\", \"radialaxis\": {\"gridcolor\": \"#EBF0F8\", \"linecolor\": \"#EBF0F8\", \"ticks\": \"\"}}, \"scene\": {\"xaxis\": {\"backgroundcolor\": \"white\", \"gridcolor\": \"#DFE8F3\", \"gridwidth\": 2, \"linecolor\": \"#EBF0F8\", \"showbackground\": true, \"ticks\": \"\", \"zerolinecolor\": \"#EBF0F8\"}, \"yaxis\": {\"backgroundcolor\": \"white\", \"gridcolor\": \"#DFE8F3\", \"gridwidth\": 2, \"linecolor\": \"#EBF0F8\", \"showbackground\": true, \"ticks\": \"\", \"zerolinecolor\": \"#EBF0F8\"}, \"zaxis\": {\"backgroundcolor\": \"white\", \"gridcolor\": \"#DFE8F3\", \"gridwidth\": 2, \"linecolor\": \"#EBF0F8\", \"showbackground\": true, \"ticks\": \"\", \"zerolinecolor\": \"#EBF0F8\"}}, \"shapedefaults\": {\"line\": {\"color\": \"#2a3f5f\"}}, \"ternary\": {\"aaxis\": {\"gridcolor\": \"#DFE8F3\", \"linecolor\": \"#A2B1C6\", \"ticks\": \"\"}, \"baxis\": {\"gridcolor\": \"#DFE8F3\", \"linecolor\": \"#A2B1C6\", \"ticks\": \"\"}, \"bgcolor\": \"white\", \"caxis\": {\"gridcolor\": \"#DFE8F3\", \"linecolor\": \"#A2B1C6\", \"ticks\": \"\"}}, \"title\": {\"x\": 0.05}, \"xaxis\": {\"automargin\": true, \"gridcolor\": \"#EBF0F8\", \"linecolor\": \"#EBF0F8\", \"ticks\": \"\", \"title\": {\"standoff\": 15}, \"zerolinecolor\": \"#EBF0F8\", \"zerolinewidth\": 2}, \"yaxis\": {\"automargin\": true, \"gridcolor\": \"#EBF0F8\", \"linecolor\": \"#EBF0F8\", \"ticks\": \"\", \"title\": {\"standoff\": 15}, \"zerolinecolor\": \"#EBF0F8\", \"zerolinewidth\": 2}}}, \"title\": {\"font\": {\"color\": \"Black\", \"size\": 22}, \"text\": \"<b>Hierarchical Clustering\", \"x\": 0.5, \"xanchor\": \"center\", \"y\": 0.95, \"yanchor\": \"top\"}, \"width\": 500, \"xaxis\": {\"mirror\": \"allticks\", \"rangemode\": \"tozero\", \"showgrid\": false, \"showline\": true, \"showticklabels\": true, \"ticks\": \"outside\", \"type\": \"linear\", \"zeroline\": false}, \"yaxis\": {\"mirror\": \"allticks\", \"rangemode\": \"tozero\", \"showgrid\": false, \"showline\": true, \"showticklabels\": true, \"tickmode\": \"array\", \"ticks\": \"outside\", \"ticktext\": [\"11_pixel_google_googles\", \"1_phone_apple_pod\", \"2_samsung_galaxy_device\", \"3_company_cloud_fund\", \"6_app_apps_apple\", \"9_covid_digital_coronavirus\", \"-1_company_companies_tech\", \"7_intel_chip_intels\", \"4_wireless_network_cities\", \"8_merger_deal_carriers\", \"10_verizon_verizons_service\", \"0_huawei_china_chinese\", \"5_qualcomm_broadcom_qualcomms\"], \"tickvals\": [-5.0, -15.0, -25.0, -35.0, -45.0, -55.0, -65.0, -75.0, -85.0, -95.0, -105.0, -115.0, -125.0], \"type\": \"linear\", \"zeroline\": false}},                        {\"responsive\": true}                    ).then(function(){\n",
       "                            \n",
       "var gd = document.getElementById('3fb82ad4-f781-48e0-9a02-5f1a6871f854');\n",
       "var x = new MutationObserver(function (mutations, observer) {{\n",
       "        var display = window.getComputedStyle(gd).display;\n",
       "        if (!display || display === 'none') {{\n",
       "            console.log([gd, 'removed!']);\n",
       "            Plotly.purge(gd);\n",
       "            observer.disconnect();\n",
       "        }}\n",
       "}});\n",
       "\n",
       "// Listen for the removal of the full notebook cells\n",
       "var notebookContainer = gd.closest('#notebook-container');\n",
       "if (notebookContainer) {{\n",
       "    x.observe(notebookContainer, {childList: true});\n",
       "}}\n",
       "\n",
       "// Listen for the clearing of the current output cell\n",
       "var outputEl = gd.closest('.output');\n",
       "if (outputEl) {{\n",
       "    x.observe(outputEl, {childList: true});\n",
       "}}\n",
       "\n",
       "                        })                };                });            </script>        </div>"
      ]
     },
     "metadata": {},
     "output_type": "display_data"
    }
   ],
   "source": [
    "topic_model.visualize_hierarchy(height=450, width=500)"
   ]
  },
  {
   "cell_type": "code",
   "execution_count": 102,
   "metadata": {},
   "outputs": [],
   "source": [
    "categories = pd.DataFrame.from_dict(topic_model.get_topics(), orient=\"index\")\n",
    "categories.reset_index(inplace=True)\n",
    "categories.head()\n",
    "\n",
    "for i in categories.index:\n",
    "    ch = \"\"\n",
    "    for c in categories.columns:\n",
    "        if type(c) == int:\n",
    "            ch = ch + categories.loc[i, c][0] + \", \"\n",
    "    ch = ch[:-2]\n",
    "    categories.loc[i, \"terms\"] = ch\n",
    "\n",
    "topic_results = pd.merge(\n",
    "    categories[[\"index\", \"terms\"]],\n",
    "    counts[[\"Topic\", \"Count\"]],\n",
    "    left_on=\"index\",\n",
    "    right_on=\"Topic\",\n",
    ")\n",
    "topic_results = topic_results.rename(\n",
    "    columns={\"terms\": \"10 most representative words\", \"Topic\": \"Topic Id\"}\n",
    ").drop(columns=[\"index\"])\n",
    "topic_results = topic_results[[\"Topic Id\", \"Count\", \"10 most representative words\"]]\n",
    "\n",
    "\n",
    "topic_results.style.set_properties(\n",
    "    subset=[\"10 most representative words\"], **{\"width\": \"600px\"}\n",
    ")\n",
    "\n",
    "topic_results.to_excel(\n",
    "    \"/Users/cordiez/Documents/CompaniesHouse/OutputFiles/bert_tc_14classes.xls\"\n",
    ")"
   ]
  },
  {
   "cell_type": "code",
   "execution_count": 107,
   "metadata": {},
   "outputs": [
    {
     "data": {
      "text/html": [
       "<style type=\"text/css\">\n",
       "#T_6a071_row0_col2, #T_6a071_row1_col2, #T_6a071_row2_col2, #T_6a071_row3_col2, #T_6a071_row4_col2, #T_6a071_row5_col2, #T_6a071_row6_col2, #T_6a071_row7_col2, #T_6a071_row8_col2, #T_6a071_row9_col2, #T_6a071_row10_col2, #T_6a071_row11_col2, #T_6a071_row12_col2 {\n",
       "  width: 650px;\n",
       "}\n",
       "</style>\n",
       "<table id=\"T_6a071_\">\n",
       "  <thead>\n",
       "    <tr>\n",
       "      <th class=\"blank level0\" >&nbsp;</th>\n",
       "      <th class=\"col_heading level0 col0\" >Topic Id</th>\n",
       "      <th class=\"col_heading level0 col1\" >Count</th>\n",
       "      <th class=\"col_heading level0 col2\" >10 most representative words</th>\n",
       "    </tr>\n",
       "  </thead>\n",
       "  <tbody>\n",
       "    <tr>\n",
       "      <th id=\"T_6a071_level0_row0\" class=\"row_heading level0 row0\" >0</th>\n",
       "      <td id=\"T_6a071_row0_col0\" class=\"data row0 col0\" >-1</td>\n",
       "      <td id=\"T_6a071_row0_col1\" class=\"data row0 col1\" >118</td>\n",
       "      <td id=\"T_6a071_row0_col2\" class=\"data row0 col2\" >company, companies, tech, technology, industry, mobile, startups, vr, broadband, startup</td>\n",
       "    </tr>\n",
       "    <tr>\n",
       "      <th id=\"T_6a071_level0_row1\" class=\"row_heading level0 row1\" >1</th>\n",
       "      <td id=\"T_6a071_row1_col0\" class=\"data row1 col0\" >0</td>\n",
       "      <td id=\"T_6a071_row1_col1\" class=\"data row1 col1\" >99</td>\n",
       "      <td id=\"T_6a071_row1_col2\" class=\"data row1 col2\" >huawei, china, chinese, eu, european, technology, chinas, huaweis, risk, billion</td>\n",
       "    </tr>\n",
       "    <tr>\n",
       "      <th id=\"T_6a071_level0_row2\" class=\"row_heading level0 row2\" >2</th>\n",
       "      <td id=\"T_6a071_row2_col0\" class=\"data row2 col0\" >1</td>\n",
       "      <td id=\"T_6a071_row2_col1\" class=\"data row2 col1\" >61</td>\n",
       "      <td id=\"T_6a071_row2_col2\" class=\"data row2 col2\" >phone, apple, pod, apples, phones, smartphone, devices, device, mini, pods</td>\n",
       "    </tr>\n",
       "    <tr>\n",
       "      <th id=\"T_6a071_level0_row3\" class=\"row_heading level0 row3\" >3</th>\n",
       "      <td id=\"T_6a071_row3_col0\" class=\"data row3 col0\" >2</td>\n",
       "      <td id=\"T_6a071_row3_col1\" class=\"data row3 col1\" >60</td>\n",
       "      <td id=\"T_6a071_row3_col2\" class=\"data row3 col2\" >samsung, galaxy, device, fold, samsungs, devices, camera, foldable, smartphone, phone</td>\n",
       "    </tr>\n",
       "    <tr>\n",
       "      <th id=\"T_6a071_level0_row4\" class=\"row_heading level0 row4\" >4</th>\n",
       "      <td id=\"T_6a071_row4_col0\" class=\"data row4 col0\" >3</td>\n",
       "      <td id=\"T_6a071_row4_col1\" class=\"data row4 col1\" >51</td>\n",
       "      <td id=\"T_6a071_row4_col2\" class=\"data row4 col2\" >company, cloud, fund, bank, funding, investment, startups, companies, investors, startup</td>\n",
       "    </tr>\n",
       "    <tr>\n",
       "      <th id=\"T_6a071_level0_row5\" class=\"row_heading level0 row5\" >5</th>\n",
       "      <td id=\"T_6a071_row5_col0\" class=\"data row5 col0\" >4</td>\n",
       "      <td id=\"T_6a071_row5_col1\" class=\"data row5 col1\" >38</td>\n",
       "      <td id=\"T_6a071_row5_col2\" class=\"data row5 col2\" >wireless, network, cities, mobile, networking, bandwidth, verizon, connectivity, internet, networks</td>\n",
       "    </tr>\n",
       "    <tr>\n",
       "      <th id=\"T_6a071_level0_row6\" class=\"row_heading level0 row6\" >6</th>\n",
       "      <td id=\"T_6a071_row6_col0\" class=\"data row6 col0\" >5</td>\n",
       "      <td id=\"T_6a071_row6_col1\" class=\"data row6 col1\" >26</td>\n",
       "      <td id=\"T_6a071_row6_col2\" class=\"data row6 col2\" >qualcomm, broadcom, qualcomms, shareholders, company, companies, chipmaker, takeover, nxp, stockholders</td>\n",
       "    </tr>\n",
       "    <tr>\n",
       "      <th id=\"T_6a071_level0_row7\" class=\"row_heading level0 row7\" >7</th>\n",
       "      <td id=\"T_6a071_row7_col0\" class=\"data row7 col0\" >6</td>\n",
       "      <td id=\"T_6a071_row7_col1\" class=\"data row7 col1\" >25</td>\n",
       "      <td id=\"T_6a071_row7_col2\" class=\"data row7 col2\" >app, apps, apple, startup, facebook, startups, google, developer, developers, apples</td>\n",
       "    </tr>\n",
       "    <tr>\n",
       "      <th id=\"T_6a071_level0_row8\" class=\"row_heading level0 row8\" >8</th>\n",
       "      <td id=\"T_6a071_row8_col0\" class=\"data row8 col0\" >7</td>\n",
       "      <td id=\"T_6a071_row8_col1\" class=\"data row8 col1\" >17</td>\n",
       "      <td id=\"T_6a071_row8_col2\" class=\"data row8 col2\" >intel, chip, intels, company, chips, computing, wireless, companies, technologies, technology</td>\n",
       "    </tr>\n",
       "    <tr>\n",
       "      <th id=\"T_6a071_level0_row9\" class=\"row_heading level0 row9\" >9</th>\n",
       "      <td id=\"T_6a071_row9_col0\" class=\"data row9 col0\" >8</td>\n",
       "      <td id=\"T_6a071_row9_col1\" class=\"data row9 col1\" >17</td>\n",
       "      <td id=\"T_6a071_row9_col2\" class=\"data row9 col2\" >merger, deal, carriers, wireless, network, broadband, verizon, transaction, fcc, communications</td>\n",
       "    </tr>\n",
       "    <tr>\n",
       "      <th id=\"T_6a071_level0_row10\" class=\"row_heading level0 row10\" >10</th>\n",
       "      <td id=\"T_6a071_row10_col0\" class=\"data row10 col0\" >9</td>\n",
       "      <td id=\"T_6a071_row10_col1\" class=\"data row10 col1\" >16</td>\n",
       "      <td id=\"T_6a071_row10_col2\" class=\"data row10 col2\" >covid, digital, coronavirus, internet, information, conspiracy, web, disaster, ai, virus</td>\n",
       "    </tr>\n",
       "    <tr>\n",
       "      <th id=\"T_6a071_level0_row11\" class=\"row_heading level0 row11\" >11</th>\n",
       "      <td id=\"T_6a071_row11_col0\" class=\"data row11 col0\" >10</td>\n",
       "      <td id=\"T_6a071_row11_col1\" class=\"data row11 col1\" >15</td>\n",
       "      <td id=\"T_6a071_row11_col2\" class=\"data row11 col2\" >verizon, verizons, service, company, customers, business, aol, subscribers, revenue, services</td>\n",
       "    </tr>\n",
       "    <tr>\n",
       "      <th id=\"T_6a071_level0_row12\" class=\"row_heading level0 row12\" >12</th>\n",
       "      <td id=\"T_6a071_row12_col0\" class=\"data row12 col0\" >11</td>\n",
       "      <td id=\"T_6a071_row12_col1\" class=\"data row12 col1\" >14</td>\n",
       "      <td id=\"T_6a071_row12_col2\" class=\"data row12 col2\" >pixel, google, googles, android, devices, hardware, device, phone, camera, battery</td>\n",
       "    </tr>\n",
       "  </tbody>\n",
       "</table>\n"
      ],
      "text/plain": [
       "<pandas.io.formats.style.Styler at 0x7fb18cd8d7f0>"
      ]
     },
     "execution_count": 107,
     "metadata": {},
     "output_type": "execute_result"
    }
   ],
   "source": [
    "topic_results.style.set_properties(\n",
    "    subset=[\"10 most representative words\"], **{\"width\": \"650px\"}\n",
    ")"
   ]
  },
  {
   "cell_type": "code",
   "execution_count": null,
   "metadata": {},
   "outputs": [],
   "source": [
    "tech5G[[\"title\"]].style.set_properties(subset=[\"title\"], **{\"width\": \"500px\"})"
   ]
  },
  {
   "cell_type": "markdown",
   "metadata": {},
   "source": [
    "\n"
   ]
  },
  {
   "cell_type": "markdown",
   "metadata": {},
   "source": [
    "## Supervised"
   ]
  },
  {
   "cell_type": "code",
   "execution_count": 357,
   "metadata": {},
   "outputs": [],
   "source": [
    "from bertopic import BERTopic\n",
    "from sklearn.datasets import fetch_20newsgroups\n",
    "\n",
    "data = fetch_20newsgroups(subset=\"all\", remove=(\"headers\", \"footers\", \"quotes\"))\n",
    "docs = data[\"data\"]\n",
    "categories = data[\"target\"]\n",
    "category_names = data[\"target_names\"]"
   ]
  },
  {
   "cell_type": "code",
   "execution_count": 375,
   "metadata": {},
   "outputs": [
    {
     "data": {
      "text/plain": [
       "'comp.os.ms-windows.misc'"
      ]
     },
     "execution_count": 375,
     "metadata": {},
     "output_type": "execute_result"
    }
   ],
   "source": [
    "category_names[2]"
   ]
  },
  {
   "cell_type": "code",
   "execution_count": 367,
   "metadata": {},
   "outputs": [],
   "source": [
    "labels_to_add = [\n",
    "    \"comp.graphics\",\n",
    "    \"comp.os.ms-windows.misc\",\n",
    "    \"comp.sys.ibm.pc.hardware\",\n",
    "    \"comp.sys.mac.hardware\",\n",
    "    \"comp.windows.x\",\n",
    "]\n",
    "indices = [category_names.index(label) for label in labels_to_add]\n",
    "y = [label if label in indices else -1 for label in categories]"
   ]
  },
  {
   "cell_type": "code",
   "execution_count": 370,
   "metadata": {},
   "outputs": [
    {
     "data": {
      "text/plain": [
       "1"
      ]
     },
     "execution_count": 370,
     "metadata": {},
     "output_type": "execute_result"
    }
   ],
   "source": [
    "category_names.index(\"comp.graphics\")"
   ]
  },
  {
   "cell_type": "code",
   "execution_count": 386,
   "metadata": {},
   "outputs": [
    {
     "data": {
      "text/plain": [
       "\"5G technology has a number of features which will positively impact digital experiences and smart cities.  In addition to a higher speed to upload and download data, it ensures very short latency times and the ability to connect multiple devices at the same time.  Less latency means compressing the time between sending and receiving the signal.  5G brings the range to at least under 10 milliseconds (that is, half the most advanced 4G could achieve) and in best cases around 1 millisecond delays, meaning data will be transferred about in real time.  Moreover, with new networks, speed and latency don't get worse even with tens of thousands of connected devices.  5G therefore offers more device density.  clean  Predict  The combination of high density and low latency will deeply transform our cities.  Today, in crowded vacation spots or at stadiums, connection can sometimes get worse.  With 5G it will no longer be like this: it will be possible to have a huge number (up to one million) of connections simultaneously for each square kilometer. This means, in addition to personal devices such as smartphones, tablets, smart speakers and PCs, also many other devices, objects and sensors will be capable of capturing information and dialogue with each other.  \""
      ]
     },
     "execution_count": 386,
     "metadata": {},
     "output_type": "execute_result"
    }
   ],
   "source": [
    "\"\"\"5G technology has a number of features which will positively impact digital experiences and smart cities.  In addition to a higher speed to upload and download data, it ensures very short latency times and the ability to connect multiple devices at the same time.  Less latency means compressing the time between sending and receiving the signal. \n",
    "5G brings the range to at least under 10 milliseconds (that is, half the most advanced 4G could achieve) and in best cases around 1 millisecond delays, meaning data will be transferred about in real time.  Moreover, with new networks, speed and latency don't get worse even with tens of thousands of connected devices.  5G therefore offers more device density. \n",
    "clean\n",
    "\n",
    "Predict\n",
    "\n",
    "The combination of high density and low latency will deeply transform our cities.  Today, in crowded vacation spots or at stadiums, connection can sometimes get worse.  With 5G it will no longer be like this: it will be possible to have a huge number (up to one million) of connections simultaneously for each square kilometer. This means, in addition to personal devices such as smartphones, tablets, smart speakers and PCs, also many other devices, objects and sensors will be capable of capturing information and dialogue with each other. \n",
    "\"\"\".replace(\n",
    "    \"\\n\", \" \"\n",
    ")"
   ]
  },
  {
   "cell_type": "code",
   "execution_count": null,
   "metadata": {},
   "outputs": [],
   "source": []
  }
 ],
 "metadata": {
  "kernelspec": {
   "display_name": "Python 3",
   "language": "python",
   "name": "python3"
  },
  "language_info": {
   "codemirror_mode": {
    "name": "ipython",
    "version": 3
   },
   "file_extension": ".py",
   "mimetype": "text/x-python",
   "name": "python",
   "nbconvert_exporter": "python",
   "pygments_lexer": "ipython3",
   "version": "3.8.5"
  }
 },
 "nbformat": 4,
 "nbformat_minor": 4
}
