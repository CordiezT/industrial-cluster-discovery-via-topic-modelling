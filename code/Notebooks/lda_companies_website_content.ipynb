{
 "cells": [
  {
   "cell_type": "code",
   "execution_count": 1,
   "metadata": {},
   "outputs": [],
   "source": [
    "import re\n",
    "\n",
    "import gensim\n",
    "import pandas as pd\n",
    "import spacy\n",
    "from gensim import corpora\n",
    "from nltk.stem.porter import PorterStemmer\n",
    "from nltk.tokenize import RegexpTokenizer\n",
    "from stop_words import get_stop_words\n",
    "\n",
    "\n",
    "def remove_short_words(text):\n",
    "    shortword = re.compile(r\"\\W*\\b\\w{1,2}\\b\")\n",
    "    return shortword.sub(\"\", text)"
   ]
  },
  {
   "cell_type": "code",
   "execution_count": 2,
   "metadata": {},
   "outputs": [
    {
     "name": "stdout",
     "output_type": "stream",
     "text": [
      "10\n"
     ]
    },
    {
     "ename": "NameError",
     "evalue": "name 'html' is not defined",
     "output_type": "error",
     "traceback": [
      "\u001b[0;31m--------------------\u001b[0m",
      "\u001b[0;31mNameError\u001b[0mTraceback (most recent call last)",
      "\u001b[0;32m<ipython-input-2-3a0c609b9c82>\u001b[0m in \u001b[0;36m<module>\u001b[0;34m\u001b[0m\n\u001b[1;32m      5\u001b[0m \u001b[0;32mfor\u001b[0m \u001b[0mi\u001b[0m \u001b[0;32min\u001b[0m \u001b[0mrange\u001b[0m\u001b[0;34m(\u001b[0m\u001b[0;36m10\u001b[0m\u001b[0;34m,\u001b[0m\u001b[0;36m30\u001b[0m\u001b[0;34m)\u001b[0m\u001b[0;34m:\u001b[0m\u001b[0;34m\u001b[0m\u001b[0;34m\u001b[0m\u001b[0m\n\u001b[1;32m      6\u001b[0m     \u001b[0mprint\u001b[0m\u001b[0;34m(\u001b[0m\u001b[0mi\u001b[0m\u001b[0;34m)\u001b[0m\u001b[0;34m\u001b[0m\u001b[0;34m\u001b[0m\u001b[0m\n\u001b[0;32m----> 7\u001b[0;31m     \u001b[0mdoc\u001b[0m \u001b[0;34m=\u001b[0m \u001b[0mhtml\u001b[0m\u001b[0;34m.\u001b[0m\u001b[0mloc\u001b[0m\u001b[0;34m[\u001b[0m\u001b[0mhtml\u001b[0m\u001b[0;34m.\u001b[0m\u001b[0mindex\u001b[0m\u001b[0;34m[\u001b[0m\u001b[0mi\u001b[0m\u001b[0;34m]\u001b[0m\u001b[0;34m,\u001b[0m\u001b[0;34m'Content'\u001b[0m\u001b[0;34m]\u001b[0m\u001b[0;34m\u001b[0m\u001b[0;34m\u001b[0m\u001b[0m\n\u001b[0m\u001b[1;32m      8\u001b[0m     \u001b[0mkw_model\u001b[0m \u001b[0;34m=\u001b[0m \u001b[0mKeyBERT\u001b[0m\u001b[0;34m(\u001b[0m\u001b[0;34m)\u001b[0m\u001b[0;34m\u001b[0m\u001b[0;34m\u001b[0m\u001b[0m\n\u001b[1;32m      9\u001b[0m     \u001b[0mprint\u001b[0m\u001b[0;34m(\u001b[0m\u001b[0mkw_model\u001b[0m\u001b[0;34m.\u001b[0m\u001b[0mextract_keywords\u001b[0m\u001b[0;34m(\u001b[0m\u001b[0mdoc\u001b[0m\u001b[0;34m,\u001b[0m \u001b[0mkeyphrase_ngram_range\u001b[0m\u001b[0;34m=\u001b[0m\u001b[0;34m(\u001b[0m\u001b[0;36m1\u001b[0m\u001b[0;34m,\u001b[0m \u001b[0;36m1\u001b[0m\u001b[0;34m)\u001b[0m\u001b[0;34m,\u001b[0m \u001b[0mstop_words\u001b[0m\u001b[0;34m=\u001b[0m\u001b[0;32mNone\u001b[0m\u001b[0;34m)\u001b[0m\u001b[0;34m)\u001b[0m\u001b[0;34m\u001b[0m\u001b[0;34m\u001b[0m\u001b[0m\n",
      "\u001b[0;31mNameError\u001b[0m: name 'html' is not defined"
     ]
    }
   ],
   "source": [
    "from keybert import KeyBERT\n",
    "\n",
    "en_stop = get_stop_words(\"en\")\n",
    "en_stop = en_stop.extend(\n",
    "    [\n",
    "        \"milton\",\n",
    "        \"keynes\",\n",
    "        \"world\",\n",
    "        \"work\",\n",
    "        \"uk\",\n",
    "        \"support\",\n",
    "        \"service\",\n",
    "        \"search\",\n",
    "        \"contact\",\n",
    "        \"shop\",\n",
    "        \"usage\",\n",
    "        \"business\",\n",
    "        \"manage\",\n",
    "        \"provide\",\n",
    "        \"website\",\n",
    "        \"help\",\n",
    "        \"product\",\n",
    "        \"solution\",\n",
    "        \"company\",\n",
    "        \"design\",\n",
    "        \"get\",\n",
    "        \"team\",\n",
    "        \"experience\",\n",
    "        \"customer\",\n",
    "        \"need\",\n",
    "        \"client\",\n",
    "        \"develop\",\n",
    "        \"quick\",\n",
    "        \"sale\",\n",
    "        \"day\",\n",
    "        \"ltd\",\n",
    "        \"project\",\n",
    "        \"work\",\n",
    "        \"office\",\n",
    "        \"market\",\n",
    "        \"can\",\n",
    "        \"will\",\n",
    "        \"offer\",\n",
    "        \"find\",\n",
    "        \"new\",\n",
    "        \"year\",\n",
    "        \"look\",\n",
    "        \"call\",\n",
    "        \"see\",\n",
    "        \"one\",\n",
    "        \"service\",\n",
    "        \"news\",\n",
    "        \"news\",\n",
    "        \"events\",\n",
    "        \"press\",\n",
    "        \"contact\",\n",
    "        \"search\",\n",
    "        \"http\",\n",
    "    ]\n",
    ")\n",
    "\n",
    "for i in range(10, 30):\n",
    "    print(i)\n",
    "    doc = html.loc[html.index[i], \"Content\"]\n",
    "    kw_model = KeyBERT()\n",
    "    print(kw_model.extract_keywords(doc, keyphrase_ngram_range=(1, 1), stop_words=None))"
   ]
  },
  {
   "cell_type": "code",
   "execution_count": 23,
   "metadata": {
    "scrolled": true
   },
   "outputs": [
    {
     "name": "stderr",
     "output_type": "stream",
     "text": [
      "/opt/anaconda3/lib/python3.8/site-packages/ipykernel/ipkernel.py:287: DeprecationWarning: `should_run_async` will not call `transform_cell` automatically in the future. Please pass the result to `transformed_cell` argument and any exception that happen during thetransform in `preprocessing_exc_tuple` in IPython 7.17 and above.\n",
      "  and should_run_async(code)\n"
     ]
    },
    {
     "name": "stdout",
     "output_type": "stream",
     "text": [
      "2248\n",
      "Number of websites left:  2248\n"
     ]
    }
   ],
   "source": [
    "### Preliminary import and processing of html.csv file\n",
    "html = pd.read_csv(\n",
    "    \"/Users/cordiez/Documents/CompaniesHouse/OutputFiles/html.csv\", index_col=0\n",
    ")\n",
    "\n",
    "# Drop irrelevant indexes\n",
    "idx_to_drop = html[html[\"Content\"].isna() == True].index\n",
    "html.drop(index=idx_to_drop, inplace=True)\n",
    "idx_to_drop = html[html[\"Content\"] == \"Error\"].index\n",
    "html.drop(index=idx_to_drop, inplace=True)\n",
    "print(len(html))\n",
    "\n",
    "### Remove sites shorter than 80 words\n",
    "# idx_to_drop = html[html['Content'].apply(lambda x:len(x.split()))<80].index\n",
    "# html.drop(index =idx_to_drop, inplace = True)\n",
    "\n",
    "print(\"Number of websites left: \", len(html))\n",
    "\n",
    "html[\"Content\"] = html[\"Content\"].apply(\n",
    "    lambda x: re.sub(r\"([a-z\\.!?])([A-Z])\", r\"\\1 \\2\", x)\n",
    ")\n",
    "html[\"Content\"] = html[\"Content\"].apply(\n",
    "    lambda x: \"\".join([i for i in x if not i.isdigit()])\n",
    ")\n",
    "html[\"Content\"] = html[\"Content\"].apply(lambda x: remove_short_words(x))\n",
    "###\n",
    "tokenizer = RegexpTokenizer(r\"\\w+\")\n",
    "\n",
    "# create English stop words list\n",
    "en_stop = get_stop_words(\"en\")\n",
    "en_stop.extend(\n",
    "    [\n",
    "        \"milton\",\n",
    "        \"keynes\",\n",
    "        \"world\",\n",
    "        \"work\",\n",
    "        \"uk\",\n",
    "        \"support\",\n",
    "        \"service\",\n",
    "        \"search\",\n",
    "        \"contact\",\n",
    "        \"shop\",\n",
    "        \"usage\",\n",
    "        \"business\",\n",
    "        \"manage\",\n",
    "        \"provide\",\n",
    "        \"website\",\n",
    "        \"help\",\n",
    "        \"product\",\n",
    "        \"solution\",\n",
    "        \"company\",\n",
    "        \"design\",\n",
    "        \"get\",\n",
    "        \"team\",\n",
    "        \"experience\",\n",
    "        \"customer\",\n",
    "        \"need\",\n",
    "        \"client\",\n",
    "        \"develop\",\n",
    "        \"quick\",\n",
    "        \"sale\",\n",
    "        \"day\",\n",
    "        \"ltd\",\n",
    "        \"project\",\n",
    "        \"work\",\n",
    "        \"office\",\n",
    "        \"market\",\n",
    "        \"can\",\n",
    "        \"will\",\n",
    "        \"offer\",\n",
    "        \"find\",\n",
    "        \"new\",\n",
    "        \"year\",\n",
    "        \"look\",\n",
    "        \"call\",\n",
    "        \"see\",\n",
    "        \"one\",\n",
    "        \"service\",\n",
    "        \"news\",\n",
    "        \"news\",\n",
    "        \"events\",\n",
    "        \"press\",\n",
    "        \"contact\",\n",
    "        \"search\",\n",
    "    ]\n",
    ")\n",
    "\n",
    "# Create p_stemmer of class PorterStemmer\n",
    "p_stemmer = PorterStemmer()\n",
    "tokenizer = RegexpTokenizer(r\"\\w+\")"
   ]
  },
  {
   "cell_type": "code",
   "execution_count": 4,
   "metadata": {
    "scrolled": true
   },
   "outputs": [],
   "source": [
    "# list for tokenized documents in loop\n",
    "texts = []\n",
    "doc_set = html[\"Content\"].tolist()\n",
    "# loop through document list\n",
    "cpt = 0\n",
    "for i in doc_set:\n",
    "    # print(cpt)\n",
    "    cpt += 1\n",
    "    # clean and tokenize document string\n",
    "\n",
    "    ### No capital letters\n",
    "    raw = i.lower()\n",
    "    tokens = tokenizer.tokenize(raw)\n",
    "\n",
    "    # remove stop words from tokens\n",
    "    stopped_tokens = [i for i in tokens if i not in en_stop]\n",
    "    stopped_tokens_stemmed = [p_stemmer.stem(i) for i in en_stop]\n",
    "    # stem tokens\n",
    "    stemmed_tokens = [p_stemmer.stem(i) for i in stopped_tokens]\n",
    "    stemmed_tokens = [i for i in stemmed_tokens if i not in stopped_tokens_stemmed]\n",
    "    # add tokens to list\n",
    "    texts.append(stemmed_tokens)\n",
    "\n",
    "# turn our tokenized documents into a id <-> term dictionary\n",
    "dictionary = corpora.Dictionary(texts)\n",
    "\n",
    "# convert tokenized documents into a document-term matrix\n",
    "corpus = [dictionary.doc2bow(text) for text in texts]\n",
    "\n",
    "# generate LDA model\n",
    "ldamodel = gensim.models.ldamodel.LdaModel(\n",
    "    corpus, num_topics=36, id2word=dictionary, passes=30\n",
    ")"
   ]
  },
  {
   "cell_type": "code",
   "execution_count": 5,
   "metadata": {},
   "outputs": [
    {
     "name": "stdout",
     "output_type": "stream",
     "text": [
      "(0, '0.029*\"web\" + 0.022*\"deliveri\" + 0.017*\"book\" + 0.011*\"seo\" + 0.009*\"email\" + 0.009*\"airport\" + 0.009*\"deliv\" + 0.008*\"arthur\" + 0.008*\"taxi\" + 0.008*\"onlin\"')\n",
      "\n",
      "\n",
      "(1, '0.045*\"properti\" + 0.015*\"let\" + 0.014*\"home\" + 0.014*\"hous\" + 0.010*\"mortgag\" + 0.009*\"profession\" + 0.009*\"rent\" + 0.008*\"buckinghamshir\" + 0.008*\"agent\" + 0.008*\"bedroom\"')\n",
      "\n",
      "\n",
      "(2, '0.019*\"electr\" + 0.018*\"electrician\" + 0.018*\"commerci\" + 0.016*\"legal\" + 0.011*\"solicitor\" + 0.010*\"law\" + 0.009*\"advic\" + 0.008*\"partner\" + 0.008*\"employ\" + 0.008*\"energi\"')\n",
      "\n",
      "\n",
      "(3, '0.034*\"children\" + 0.031*\"tattoo\" + 0.017*\"foster\" + 0.014*\"child\" + 0.014*\"live\" + 0.013*\"water\" + 0.009*\"aftercar\" + 0.009*\"vision\" + 0.008*\"ink\" + 0.008*\"famili\"')\n",
      "\n",
      "\n",
      "(4, '0.017*\"leo\" + 0.017*\"nec\" + 0.017*\"matti\" + 0.017*\"pulvinar\" + 0.016*\"luctu\" + 0.016*\"ullamcorp\" + 0.014*\"grind\" + 0.013*\"landscap\" + 0.013*\"tree\" + 0.012*\"tellu\"')\n",
      "\n",
      "\n",
      "(5, '0.054*\"safeti\" + 0.040*\"direct\" + 0.029*\"quot\" + 0.025*\"messag\" + 0.023*\"report\" + 0.023*\"hour\" + 0.020*\"site\" + 0.017*\"coat\" + 0.016*\"galleri\" + 0.016*\"open\"')\n",
      "\n",
      "\n",
      "(6, '0.042*\"vacuum\" + 0.027*\"pump\" + 0.022*\"system\" + 0.018*\"valv\" + 0.014*\"spare\" + 0.013*\"cup\" + 0.012*\"control\" + 0.009*\"compon\" + 0.009*\"equip\" + 0.008*\"pressur\"')\n",
      "\n",
      "\n",
      "(7, '0.016*\"centr\" + 0.015*\"page\" + 0.015*\"facebook\" + 0.011*\"plu\" + 0.010*\"voir\" + 0.010*\"facil\" + 0.009*\"fit\" + 0.009*\"commun\" + 0.009*\"inform\" + 0.008*\"room\"')\n",
      "\n",
      "\n",
      "(8, '0.014*\"consult\" + 0.013*\"autom\" + 0.012*\"read\" + 0.010*\"technolog\" + 0.010*\"learn\" + 0.009*\"process\" + 0.008*\"industri\" + 0.008*\"data\" + 0.008*\"peopl\" + 0.008*\"career\"')\n",
      "\n",
      "\n",
      "(9, '0.061*\"tune\" + 0.051*\"abarth\" + 0.036*\"heat\" + 0.033*\"boiler\" + 0.029*\"fiat\" + 0.026*\"ga\" + 0.025*\"plumb\" + 0.016*\"instal\" + 0.014*\"oil\" + 0.014*\"view\"')\n",
      "\n",
      "\n",
      "(10, '0.035*\"treatment\" + 0.017*\"hair\" + 0.017*\"massag\" + 0.016*\"clinic\" + 0.015*\"beauti\" + 0.012*\"health\" + 0.012*\"appoint\" + 0.011*\"bodi\" + 0.010*\"book\" + 0.010*\"skin\"')\n",
      "\n",
      "\n",
      "(11, '0.028*\"mount\" + 0.023*\"divis\" + 0.018*\"optic\" + 0.018*\"fibr\" + 0.017*\"rack\" + 0.017*\"fast\" + 0.016*\"forklift\" + 0.015*\"rear\" + 0.014*\"truck\" + 0.014*\"tray\"')\n",
      "\n",
      "\n",
      "(12, '0.112*\"cooki\" + 0.039*\"use\" + 0.025*\"necessari\" + 0.023*\"function\" + 0.019*\"set\" + 0.019*\"consent\" + 0.017*\"store\" + 0.014*\"user\" + 0.014*\"inform\" + 0.012*\"analyt\"')\n",
      "\n",
      "\n",
      "(13, '0.045*\"clean\" + 0.029*\"repair\" + 0.022*\"vehicl\" + 0.017*\"car\" + 0.012*\"mot\" + 0.011*\"oil\" + 0.010*\"engin\" + 0.010*\"book\" + 0.009*\"tyre\" + 0.006*\"free\"')\n",
      "\n",
      "\n",
      "(14, '0.053*\"cabl\" + 0.026*\"fibr\" + 0.021*\"dolor\" + 0.020*\"elit\" + 0.020*\"hdmi\" + 0.020*\"lorem\" + 0.020*\"ipsum\" + 0.017*\"sit\" + 0.016*\"amet\" + 0.016*\"patch\"')\n",
      "\n",
      "\n",
      "(15, '0.018*\"cours\" + 0.014*\"train\" + 0.012*\"take\" + 0.009*\"back\" + 0.008*\"sustain\" + 0.008*\"retail\" + 0.008*\"fashion\" + 0.006*\"wast\" + 0.006*\"level\" + 0.006*\"technolog\"')\n",
      "\n",
      "\n",
      "(16, '0.018*\"inform\" + 0.017*\"account\" + 0.016*\"data\" + 0.016*\"use\" + 0.013*\"person\" + 0.011*\"may\" + 0.009*\"tax\" + 0.008*\"time\" + 0.008*\"polici\" + 0.007*\"right\"')\n",
      "\n",
      "\n",
      "(17, '0.027*\"system\" + 0.013*\"softwar\" + 0.009*\"use\" + 0.008*\"network\" + 0.008*\"cloud\" + 0.008*\"mobil\" + 0.008*\"technolog\" + 0.007*\"app\" + 0.007*\"power\" + 0.007*\"user\"')\n",
      "\n",
      "\n",
      "(18, '0.017*\"brand\" + 0.013*\"leather\" + 0.011*\"creativ\" + 0.009*\"media\" + 0.009*\"wed\" + 0.009*\"view\" + 0.008*\"social\" + 0.007*\"polici\" + 0.007*\"digit\" + 0.007*\"good\"')\n",
      "\n",
      "\n",
      "(19, '0.030*\"coffe\" + 0.010*\"storag\" + 0.010*\"space\" + 0.010*\"home\" + 0.008*\"open\" + 0.008*\"machin\" + 0.008*\"class\" + 0.007*\"vat\" + 0.007*\"site\" + 0.007*\"room\"')\n",
      "\n",
      "\n",
      "(20, '0.017*\"car\" + 0.010*\"price\" + 0.010*\"use\" + 0.009*\"remov\" + 0.009*\"vehicl\" + 0.008*\"book\" + 0.007*\"recommend\" + 0.007*\"volkswagen\" + 0.007*\"now\" + 0.007*\"hotel\"')\n",
      "\n",
      "\n",
      "(21, '0.017*\"menu\" + 0.016*\"book\" + 0.015*\"food\" + 0.013*\"store\" + 0.012*\"order\" + 0.010*\"open\" + 0.010*\"home\" + 0.008*\"tea\" + 0.008*\"street\" + 0.008*\"now\"')\n",
      "\n",
      "\n",
      "(22, '0.021*\"print\" + 0.017*\"decor\" + 0.017*\"kitchen\" + 0.014*\"wax\" + 0.014*\"candl\" + 0.013*\"gift\" + 0.013*\"home\" + 0.012*\"ceram\" + 0.012*\"love\" + 0.011*\"furnitur\"')\n",
      "\n",
      "\n",
      "(23, '0.023*\"pcm\" + 0.015*\"freight\" + 0.012*\"video\" + 0.011*\"photographi\" + 0.010*\"password\" + 0.010*\"studio\" + 0.009*\"ship\" + 0.008*\"air\" + 0.008*\"read\" + 0.007*\"road\"')\n",
      "\n",
      "\n",
      "(24, '0.036*\"recruit\" + 0.026*\"txm\" + 0.023*\"now\" + 0.022*\"appli\" + 0.018*\"per\" + 0.017*\"england\" + 0.013*\"hour\" + 0.012*\"candid\" + 0.012*\"job\" + 0.011*\"fire\"')\n",
      "\n",
      "\n",
      "(25, '0.029*\"dog\" + 0.023*\"glass\" + 0.019*\"mug\" + 0.017*\"grass\" + 0.017*\"top\" + 0.016*\"christma\" + 0.015*\"turf\" + 0.015*\"artifici\" + 0.015*\"queen\" + 0.014*\"william\"')\n",
      "\n",
      "\n",
      "(26, '0.021*\"view\" + 0.014*\"fit\" + 0.013*\"frame\" + 0.013*\"art\" + 0.011*\"slide\" + 0.008*\"climb\" + 0.008*\"laundri\" + 0.008*\"play\" + 0.008*\"soul\" + 0.007*\"accessori\"')\n",
      "\n",
      "\n",
      "(27, '0.014*\"commun\" + 0.010*\"googl\" + 0.008*\"award\" + 0.008*\"ad\" + 0.007*\"chariti\" + 0.007*\"join\" + 0.007*\"centr\" + 0.007*\"read\" + 0.007*\"volunt\" + 0.007*\"peopl\"')\n",
      "\n",
      "\n",
      "(28, '0.030*\"sensor\" + 0.029*\"music\" + 0.022*\"batteri\" + 0.019*\"scale\" + 0.018*\"instrument\" + 0.014*\"type\" + 0.014*\"audio\" + 0.012*\"tool\" + 0.012*\"corpor\" + 0.009*\"avg\"')\n",
      "\n",
      "\n",
      "(29, '0.023*\"school\" + 0.015*\"learn\" + 0.014*\"care\" + 0.014*\"children\" + 0.013*\"home\" + 0.010*\"dog\" + 0.010*\"child\" + 0.009*\"museum\" + 0.009*\"park\" + 0.009*\"visit\"')\n",
      "\n",
      "\n",
      "(30, '0.025*\"care\" + 0.020*\"notari\" + 0.011*\"home\" + 0.010*\"public\" + 0.010*\"live\" + 0.010*\"patient\" + 0.008*\"document\" + 0.007*\"financi\" + 0.007*\"regist\" + 0.006*\"profession\"')\n",
      "\n",
      "\n",
      "(31, '0.019*\"engin\" + 0.011*\"qualiti\" + 0.009*\"industri\" + 0.009*\"requir\" + 0.008*\"build\" + 0.008*\"mainten\" + 0.008*\"construct\" + 0.008*\"bespok\" + 0.008*\"home\" + 0.008*\"inspect\"')\n",
      "\n",
      "\n",
      "(32, '0.044*\"door\" + 0.031*\"window\" + 0.021*\"roof\" + 0.015*\"trade\" + 0.014*\"quot\" + 0.013*\"price\" + 0.012*\"suppli\" + 0.011*\"home\" + 0.011*\"conservatori\" + 0.011*\"glaze\"')\n",
      "\n",
      "\n",
      "(33, '0.048*\"hire\" + 0.024*\"skip\" + 0.018*\"equip\" + 0.018*\"plant\" + 0.011*\"game\" + 0.011*\"wast\" + 0.010*\"tool\" + 0.009*\"commerci\" + 0.008*\"carpet\" + 0.008*\"use\"')\n",
      "\n",
      "\n",
      "(34, '0.016*\"courier\" + 0.016*\"materi\" + 0.011*\"use\" + 0.011*\"insur\" + 0.011*\"thermal\" + 0.011*\"hsbcad\" + 0.010*\"button\" + 0.010*\"applic\" + 0.010*\"test\" + 0.009*\"softwar\"')\n",
      "\n",
      "\n",
      "(35, '0.053*\"add\" + 0.032*\"price\" + 0.018*\"list\" + 0.017*\"incens\" + 0.016*\"wish\" + 0.013*\"login\" + 0.013*\"cart\" + 0.013*\"compar\" + 0.013*\"pleas\" + 0.012*\"burner\"')\n",
      "\n",
      "\n"
     ]
    }
   ],
   "source": [
    "ldamodel = gensim.models.ldamodel.LdaModel(\n",
    "    corpus, num_topics=36, id2word=dictionary, passes=30\n",
    ")\n",
    "result = ldamodel.print_topics(num_topics=36, num_words=10)\n",
    "for elt in result:\n",
    "    print(elt)\n",
    "    print(\"\\n\")"
   ]
  },
  {
   "cell_type": "code",
   "execution_count": 292,
   "metadata": {
    "scrolled": false
   },
   "outputs": [
    {
     "name": "stdout",
     "output_type": "stream",
     "text": [
      "(0, '0.014*\"home\" + 0.010*\"recommend\" + 0.010*\"thank\" + 0.008*\"time\" + 0.008*\"hous\" + 0.008*\"great\" + 0.008*\"buckinghamshir\" + 0.008*\"profession\" + 0.008*\"friendli\" + 0.007*\"price\"')\n",
      "\n",
      "\n",
      "(1, '0.024*\"roof\" + 0.018*\"skip\" + 0.018*\"hire\" + 0.015*\"church\" + 0.014*\"home\" + 0.013*\"wast\" + 0.011*\"centr\" + 0.011*\"commun\" + 0.007*\"com\" + 0.007*\"commerci\"')\n",
      "\n",
      "\n",
      "(2, '0.055*\"tune\" + 0.029*\"fiat\" + 0.022*\"cabl\" + 0.018*\"fibr\" + 0.013*\"print\" + 0.012*\"sensor\" + 0.011*\"lead\" + 0.010*\"punto\" + 0.009*\"system\" + 0.009*\"control\"')\n",
      "\n",
      "\n",
      "(3, '0.020*\"gift\" + 0.016*\"art\" + 0.013*\"wax\" + 0.011*\"love\" + 0.010*\"set\" + 0.009*\"laundri\" + 0.009*\"soul\" + 0.008*\"care\" + 0.007*\"crystal\" + 0.007*\"bag\"')\n",
      "\n",
      "\n",
      "(4, '0.023*\"engin\" + 0.020*\"door\" + 0.019*\"recruit\" + 0.015*\"window\" + 0.012*\"appli\" + 0.012*\"now\" + 0.011*\"industri\" + 0.011*\"per\" + 0.010*\"england\" + 0.009*\"energi\"')\n",
      "\n",
      "\n",
      "(5, '0.078*\"clean\" + 0.018*\"tattoo\" + 0.016*\"octopu\" + 0.012*\"floor\" + 0.012*\"alarm\" + 0.012*\"cleaner\" + 0.011*\"use\" + 0.011*\"fire\" + 0.011*\"carpet\" + 0.010*\"commerci\"')\n",
      "\n",
      "\n",
      "(6, '0.018*\"deliveri\" + 0.010*\"vehicl\" + 0.009*\"fleet\" + 0.009*\"courier\" + 0.009*\"insur\" + 0.009*\"book\" + 0.009*\"onlin\" + 0.008*\"email\" + 0.007*\"truck\" + 0.007*\"commun\"')\n",
      "\n",
      "\n",
      "(7, '0.031*\"inform\" + 0.027*\"data\" + 0.019*\"person\" + 0.019*\"may\" + 0.013*\"use\" + 0.010*\"hotel\" + 0.009*\"cash\" + 0.008*\"parti\" + 0.008*\"collect\" + 0.008*\"address\"')\n",
      "\n",
      "\n",
      "(8, '0.010*\"txm\" + 0.010*\"children\" + 0.008*\"home\" + 0.008*\"commun\" + 0.008*\"care\" + 0.007*\"peopl\" + 0.007*\"learn\" + 0.007*\"donat\" + 0.007*\"famili\" + 0.006*\"live\"')\n",
      "\n",
      "\n",
      "(9, '0.073*\"vacuum\" + 0.044*\"pump\" + 0.029*\"valv\" + 0.022*\"spare\" + 0.021*\"cup\" + 0.017*\"system\" + 0.015*\"filter\" + 0.012*\"view\" + 0.010*\"pressur\" + 0.010*\"compon\"')\n",
      "\n",
      "\n",
      "(10, '0.010*\"home\" + 0.006*\"repair\" + 0.006*\"store\" + 0.006*\"care\" + 0.005*\"use\" + 0.005*\"open\" + 0.005*\"polici\" + 0.005*\"time\" + 0.005*\"book\" + 0.005*\"condit\"')\n",
      "\n",
      "\n",
      "(11, '0.064*\"dog\" + 0.026*\"park\" + 0.025*\"grass\" + 0.022*\"turf\" + 0.021*\"artifici\" + 0.018*\"top\" + 0.016*\"blog\" + 0.011*\"nurseri\" + 0.009*\"pet\" + 0.008*\"school\"')\n",
      "\n",
      "\n",
      "(12, '0.025*\"coffe\" + 0.010*\"glass\" + 0.010*\"mug\" + 0.010*\"leather\" + 0.009*\"watch\" + 0.008*\"christma\" + 0.008*\"vat\" + 0.008*\"collect\" + 0.007*\"deliveri\" + 0.007*\"queen\"')\n",
      "\n",
      "\n",
      "(13, '0.016*\"page\" + 0.014*\"facebook\" + 0.009*\"plu\" + 0.008*\"voir\" + 0.008*\"hire\" + 0.007*\"mount\" + 0.007*\"fast\" + 0.007*\"fit\" + 0.007*\"inform\" + 0.006*\"fibr\"')\n",
      "\n",
      "\n",
      "(14, '0.066*\"cooki\" + 0.031*\"use\" + 0.015*\"necessari\" + 0.014*\"function\" + 0.012*\"set\" + 0.011*\"consent\" + 0.011*\"user\" + 0.010*\"store\" + 0.010*\"inform\" + 0.009*\"analyt\"')\n",
      "\n",
      "\n",
      "(15, '0.040*\"safeti\" + 0.020*\"health\" + 0.013*\"sport\" + 0.011*\"risk\" + 0.011*\"appoint\" + 0.011*\"injuri\" + 0.011*\"continu\" + 0.011*\"travel\" + 0.010*\"prestig\" + 0.010*\"assess\"')\n",
      "\n",
      "\n",
      "(16, '0.047*\"add\" + 0.032*\"price\" + 0.030*\"decor\" + 0.019*\"login\" + 0.018*\"incens\" + 0.018*\"list\" + 0.017*\"compar\" + 0.017*\"pleas\" + 0.017*\"wish\" + 0.017*\"furnitur\"')\n",
      "\n",
      "\n",
      "(17, '0.019*\"menu\" + 0.018*\"book\" + 0.016*\"treatment\" + 0.012*\"order\" + 0.009*\"open\" + 0.009*\"hour\" + 0.008*\"now\" + 0.008*\"park\" + 0.008*\"massag\" + 0.008*\"clinic\"')\n",
      "\n",
      "\n",
      "(18, '0.031*\"pcm\" + 0.023*\"remov\" + 0.017*\"video\" + 0.016*\"studio\" + 0.016*\"wed\" + 0.015*\"photographi\" + 0.010*\"dress\" + 0.009*\"move\" + 0.009*\"photograph\" + 0.008*\"photo\"')\n",
      "\n",
      "\n",
      "(19, '0.046*\"properti\" + 0.014*\"let\" + 0.011*\"mortgag\" + 0.010*\"advic\" + 0.009*\"rent\" + 0.008*\"hous\" + 0.008*\"agent\" + 0.008*\"financi\" + 0.008*\"home\" + 0.008*\"legal\"')\n",
      "\n",
      "\n",
      "(20, '0.026*\"electr\" + 0.024*\"electrician\" + 0.018*\"heat\" + 0.017*\"boiler\" + 0.017*\"tea\" + 0.017*\"ga\" + 0.014*\"instal\" + 0.011*\"plumb\" + 0.011*\"oil\" + 0.008*\"domest\"')\n",
      "\n",
      "\n",
      "(21, '0.029*\"notari\" + 0.017*\"materi\" + 0.014*\"class\" + 0.012*\"public\" + 0.012*\"equip\" + 0.011*\"use\" + 0.010*\"document\" + 0.010*\"thermal\" + 0.009*\"plant\" + 0.008*\"train\"')\n",
      "\n",
      "\n",
      "(22, '0.044*\"view\" + 0.028*\"googl\" + 0.016*\"ad\" + 0.014*\"direct\" + 0.013*\"slide\" + 0.013*\"storag\" + 0.009*\"open\" + 0.009*\"click\" + 0.009*\"review\" + 0.008*\"now\"')\n",
      "\n",
      "\n",
      "(23, '0.041*\"car\" + 0.023*\"vehicl\" + 0.012*\"volkswagen\" + 0.011*\"electr\" + 0.008*\"present\" + 0.007*\"price\" + 0.007*\"use\" + 0.006*\"key\" + 0.006*\"financ\" + 0.006*\"golf\"')\n",
      "\n",
      "\n",
      "(24, '0.010*\"industri\" + 0.009*\"partner\" + 0.009*\"secur\" + 0.008*\"data\" + 0.007*\"sector\" + 0.006*\"deliv\" + 0.005*\"employe\" + 0.005*\"research\" + 0.005*\"softwar\" + 0.005*\"approach\"')\n",
      "\n",
      "\n",
      "(25, '0.017*\"add\" + 0.012*\"food\" + 0.012*\"cabl\" + 0.011*\"hdmi\" + 0.010*\"blind\" + 0.010*\"fit\" + 0.009*\"sauc\" + 0.008*\"centr\" + 0.007*\"true\" + 0.007*\"dolor\"')\n",
      "\n",
      "\n",
      "(26, '0.016*\"technolog\" + 0.015*\"autom\" + 0.015*\"abarth\" + 0.014*\"process\" + 0.012*\"take\" + 0.011*\"retail\" + 0.011*\"sustain\" + 0.011*\"fashion\" + 0.011*\"digit\" + 0.010*\"back\"')\n",
      "\n",
      "\n",
      "(27, '0.032*\"train\" + 0.028*\"cours\" + 0.016*\"web\" + 0.016*\"learn\" + 0.006*\"onlin\" + 0.006*\"home\" + 0.006*\"social\" + 0.006*\"consult\" + 0.006*\"skill\" + 0.005*\"level\"')\n",
      "\n",
      "\n",
      "(28, '0.012*\"freight\" + 0.012*\"system\" + 0.010*\"speaker\" + 0.009*\"read\" + 0.008*\"logist\" + 0.007*\"power\" + 0.007*\"road\" + 0.006*\"ship\" + 0.006*\"air\" + 0.006*\"mobil\"')\n",
      "\n",
      "\n",
      "(29, '0.042*\"salon\" + 0.034*\"hair\" + 0.025*\"nail\" + 0.024*\"daycar\" + 0.023*\"top\" + 0.020*\"diamond\" + 0.013*\"pharmaci\" + 0.012*\"gel\" + 0.010*\"pick\" + 0.010*\"seller\"')\n",
      "\n",
      "\n"
     ]
    }
   ],
   "source": [
    "ldamodel = gensim.models.ldamodel.LdaModel(\n",
    "    corpus, num_topics=30, id2word=dictionary, passes=10\n",
    ")\n",
    "result = ldamodel.print_topics(num_topics=30, num_words=10)\n",
    "for elt in result:\n",
    "    print(elt)\n",
    "    print(\"\\n\")"
   ]
  },
  {
   "cell_type": "markdown",
   "metadata": {},
   "source": [
    "## Other trial"
   ]
  },
  {
   "cell_type": "code",
   "execution_count": 9,
   "metadata": {},
   "outputs": [],
   "source": [
    "crunchbase_industries = pd.read_csv(\n",
    "    \"/Users/cordiez/Documents/CompaniesHouse/OutputFiles/crunchbase_industries.csv\"\n",
    ")\n",
    "html = pd.read_csv(\n",
    "    \"/Users/cordiez/Documents/CompaniesHouse/OutputFiles/html.csv\", index_col=0\n",
    ")\n",
    "html_cb = pd.read_csv(\n",
    "    \"/Users/cordiez/Documents/CompaniesHouse/OutputFiles/html2.csv\", index_col=0\n",
    ")\n",
    "\n",
    "idx_to_drop = html_cb[\n",
    "    (html_cb[\"Content\"].isna() == True) | (html_cb[\"Content\"] == \"Error\")\n",
    "].index\n",
    "html_cb.drop(index=idx_to_drop, inplace=True)\n",
    "\n",
    "idx_to_drop = html[\n",
    "    (html[\"Content\"].isna() == True) | (html[\"Content\"] == \"Error\")\n",
    "].index\n",
    "html.drop(index=idx_to_drop, inplace=True)"
   ]
  },
  {
   "cell_type": "code",
   "execution_count": 218,
   "metadata": {},
   "outputs": [],
   "source": [
    "# Gensim\n",
    "import gensim\n",
    "import gensim.corpora as corpora\n",
    "import numpy as np\n",
    "import pandas as pd\n",
    "# spacy for lemmatization\n",
    "from gensim.models import CoherenceModel\n",
    "from gensim.utils import simple_preprocess\n",
    "\n",
    "nlp = spacy.load(\"en_core_web_sm\")\n",
    "\n",
    "# Plotting tools\n",
    "import pyLDAvis\n",
    "import pyLDAvis.gensim  # don't skip this\n",
    "\n",
    "%matplotlib inline\n",
    "\n",
    "# Enable logging for gensim - optional\n",
    "import logging\n",
    "\n",
    "logging.basicConfig(\n",
    "    format=\"%(asctime)s : %(levelname)s : %(message)s\", level=logging.ERROR\n",
    ")\n",
    "\n",
    "import warnings\n",
    "\n",
    "warnings.filterwarnings(\"ignore\", category=DeprecationWarning)"
   ]
  },
  {
   "cell_type": "code",
   "execution_count": 219,
   "metadata": {},
   "outputs": [],
   "source": [
    "from nltk.corpus import stopwords\n",
    "\n",
    "stop_words = stopwords.words(\"english\")\n",
    "stop_words.extend(\n",
    "    [\n",
    "        \"milton\",\n",
    "        \"keynes\",\n",
    "        \"world\",\n",
    "        \"work\",\n",
    "        \"uk\",\n",
    "        \"support\",\n",
    "        \"service\",\n",
    "        \"search\",\n",
    "        \"contact\",\n",
    "        \"shop\",\n",
    "        \"usage\",\n",
    "        \"business\",\n",
    "        \"manage\",\n",
    "        \"provide\",\n",
    "        \"website\",\n",
    "        \"help\",\n",
    "        \"product\",\n",
    "        \"solution\",\n",
    "        \"company\",\n",
    "        \"design\",\n",
    "        \"get\",\n",
    "        \"team\",\n",
    "        \"experience\",\n",
    "        \"customer\",\n",
    "        \"need\",\n",
    "        \"client\",\n",
    "        \"develop\",\n",
    "        \"quick\",\n",
    "        \"sale\",\n",
    "        \"day\",\n",
    "        \"ltd\",\n",
    "        \"project\",\n",
    "        \"work\",\n",
    "        \"office\",\n",
    "        \"market\",\n",
    "        \"can\",\n",
    "        \"will\",\n",
    "        \"offer\",\n",
    "        \"find\",\n",
    "        \"new\",\n",
    "        \"year\",\n",
    "        \"look\",\n",
    "        \"call\",\n",
    "        \"see\",\n",
    "        \"one\",\n",
    "        \"service\",\n",
    "        \"news\",\n",
    "        \"news\",\n",
    "        \"events\",\n",
    "        \"press\",\n",
    "        \"contact\",\n",
    "        \"search\",\n",
    "    ]\n",
    ")"
   ]
  },
  {
   "cell_type": "code",
   "execution_count": 236,
   "metadata": {},
   "outputs": [],
   "source": [
    "html_cb.drop(index=[311], inplace=True)\n",
    "data = html_cb.Content.tolist()\n",
    "\n",
    "data = [re.sub(r\"([a-z\\.!?])([A-Z])\", r\"\\1 \\2\", sent) for sent in data]\n",
    "\n",
    "# Remove Emails\n",
    "data = [re.sub(\"\\S*@\\S*\\s?\", \"\", sent) for sent in data]\n",
    "# Remove new line characters\n",
    "data = [re.sub(\"\\s+\", \" \", sent) for sent in data]\n",
    "# Remove distracting single quotes\n",
    "data = [re.sub(\"'\", \"\", sent) for sent in data]\n",
    "data = [sent.replace(\"/\", \" \") for sent in data]"
   ]
  },
  {
   "cell_type": "code",
   "execution_count": 237,
   "metadata": {},
   "outputs": [],
   "source": [
    "def sent_to_words(sentences):\n",
    "    for sentence in sentences:\n",
    "        yield (\n",
    "            gensim.utils.simple_preprocess(str(sentence), deacc=True)\n",
    "        )  # deacc=True removes punctuations\n",
    "\n",
    "\n",
    "data_words = list(sent_to_words(data))"
   ]
  },
  {
   "cell_type": "code",
   "execution_count": 238,
   "metadata": {},
   "outputs": [],
   "source": [
    "# Build the bigram and trigram models\n",
    "bigram = gensim.models.Phrases(\n",
    "    data_words, min_count=5, threshold=100\n",
    ")  # higher threshold fewer phrases.\n",
    "trigram = gensim.models.Phrases(bigram[data_words], threshold=100)\n",
    "\n",
    "# Faster way to get a sentence clubbed as a trigram/bigram\n",
    "bigram_mod = gensim.models.phrases.Phraser(bigram)\n",
    "trigram_mod = gensim.models.phrases.Phraser(trigram)\n",
    "\n",
    "# See trigram example"
   ]
  },
  {
   "cell_type": "code",
   "execution_count": 239,
   "metadata": {},
   "outputs": [],
   "source": [
    "def remove_stopwords(texts):\n",
    "    return [\n",
    "        [word for word in simple_preprocess(str(doc)) if word not in stop_words]\n",
    "        for doc in texts\n",
    "    ]\n",
    "\n",
    "\n",
    "def make_bigrams(texts):\n",
    "    return [bigram_mod[doc] for doc in texts]\n",
    "\n",
    "\n",
    "def make_trigrams(texts):\n",
    "    return [trigram_mod[bigram_mod[doc]] for doc in texts]\n",
    "\n",
    "\n",
    "def lemmatization(texts, allowed_postags=[\"NOUN\", \"ADJ\", \"VERB\", \"ADV\"]):\n",
    "    \"\"\"https://spacy.io/api/annotation\"\"\"\n",
    "    texts_out = []\n",
    "    for sent in texts:\n",
    "        doc = nlp(\" \".join(sent))\n",
    "        texts_out.append(\n",
    "            [token.lemma_ for token in doc if token.pos_ in allowed_postags]\n",
    "        )\n",
    "    return texts_out"
   ]
  },
  {
   "cell_type": "code",
   "execution_count": 240,
   "metadata": {},
   "outputs": [],
   "source": [
    "# Remove Stop Words\n",
    "data_words_nostops = remove_stopwords(data_words)\n",
    "\n",
    "# Form Bigrams\n",
    "data_words_bigrams = make_bigrams(data_words_nostops)\n",
    "\n",
    "# Initialize spacy 'en' model, keeping only tagger component (for efficiency)\n",
    "# python3 -m spacy download en\n",
    "nlp = spacy.load(\"en_core_web_sm\")\n",
    "\n",
    "# Do lemmatization keeping only noun, adj, vb, adv\n",
    "data_lemmatized = lemmatization(\n",
    "    data_words_bigrams, allowed_postags=[\"NOUN\", \"ADJ\", \"VERB\", \"ADV\"]\n",
    ")\n",
    "\n",
    "# print(data_lemmatized[:1])"
   ]
  },
  {
   "cell_type": "code",
   "execution_count": 241,
   "metadata": {},
   "outputs": [],
   "source": [
    "# Create Dictionary\n",
    "id2word = corpora.Dictionary(data_lemmatized)\n",
    "\n",
    "# Term Document Frequency\n",
    "corpus = [id2word.doc2bow(text) for text in data_lemmatized]\n",
    "\n",
    "# View\n",
    "# print(corpus[:1])"
   ]
  },
  {
   "cell_type": "code",
   "execution_count": 242,
   "metadata": {},
   "outputs": [],
   "source": [
    "lda_model = gensim.models.ldamodel.LdaModel(\n",
    "    corpus=corpus,\n",
    "    id2word=id2word,\n",
    "    num_topics=14,\n",
    "    passes=20,\n",
    "    alpha=\"auto\",\n",
    "    per_word_topics=True,\n",
    ")"
   ]
  },
  {
   "cell_type": "code",
   "execution_count": 243,
   "metadata": {},
   "outputs": [
    {
     "data": {
      "text/html": [
       "<div>\n",
       "<style scoped>\n",
       "    .dataframe tbody tr th:only-of-type {\n",
       "        vertical-align: middle;\n",
       "    }\n",
       "\n",
       "    .dataframe tbody tr th {\n",
       "        vertical-align: top;\n",
       "    }\n",
       "\n",
       "    .dataframe thead th {\n",
       "        text-align: right;\n",
       "    }\n",
       "</style>\n",
       "<table border=\"1\" class=\"dataframe\">\n",
       "  <thead>\n",
       "    <tr style=\"text-align: right;\">\n",
       "      <th></th>\n",
       "      <th>Website</th>\n",
       "      <th>Content</th>\n",
       "    </tr>\n",
       "  </thead>\n",
       "  <tbody>\n",
       "  </tbody>\n",
       "</table>\n",
       "</div>"
      ],
      "text/plain": [
       "Empty DataFrame\n",
       "Columns: [Website, Content]\n",
       "Index: []"
      ]
     },
     "execution_count": 243,
     "metadata": {},
     "output_type": "execute_result"
    }
   ],
   "source": [
    "html_cb[html_cb.Content.str.contains(\"敬请致电\")]"
   ]
  },
  {
   "cell_type": "code",
   "execution_count": 244,
   "metadata": {},
   "outputs": [
    {
     "name": "stdout",
     "output_type": "stream",
     "text": [
      "(37, '0.018*\"media\" + 0.016*\"digit\" + 0.016*\"social\" + 0.015*\"seo\" + 0.011*\"bed\"')\n",
      "(17, '0.072*\"cooki\" + 0.028*\"use\" + 0.019*\"necessari\" + 0.014*\"consent\" + 0.014*\"function\"')\n",
      "(36, '0.024*\"toggl\" + 0.017*\"clamp\" + 0.016*\"latch\" + 0.014*\"engin\" + 0.009*\"duti\"')\n",
      "(34, '0.018*\"read\" + 0.016*\"technolog\" + 0.013*\"light\" + 0.009*\"envis\" + 0.009*\"grow\"')\n",
      "(2, '0.024*\"properti\" + 0.017*\"pcm\" + 0.013*\"learn\" + 0.011*\"let\" + 0.009*\"add\"')\n",
      "(4, '0.023*\"intellig\" + 0.019*\"leadership\" + 0.018*\"skill\" + 0.015*\"qualif\" + 0.015*\"award\"')\n",
      "(22, '0.034*\"safeti\" + 0.021*\"risk\" + 0.020*\"fire\" + 0.019*\"health\" + 0.017*\"assess\"')\n",
      "(35, '0.041*\"energi\" + 0.015*\"film\" + 0.014*\"display\" + 0.012*\"banner\" + 0.011*\"print\"')\n",
      "(31, '0.047*\"bedroom\" + 0.023*\"apart\" + 0.012*\"amscan\" + 0.009*\"knight\" + 0.008*\"visibl\"')\n",
      "(24, '0.015*\"click\" + 0.015*\"cast\" + 0.010*\"time\" + 0.010*\"celestra\" + 0.008*\"view\"')\n",
      "(6, '0.115*\"therapi\" + 0.021*\"blood\" + 0.021*\"ozon\" + 0.021*\"explor\" + 0.021*\"recommend\"')\n",
      "(7, '0.015*\"aculab\" + 0.011*\"data\" + 0.009*\"technolog\" + 0.008*\"secur\" + 0.008*\"cloud\"')\n",
      "(33, '0.012*\"volunt\" + 0.012*\"back\" + 0.012*\"canal\" + 0.011*\"speaker\" + 0.006*\"make\"')\n",
      "(28, '0.038*\"sava\" + 0.017*\"surveyor\" + 0.014*\"kolbu\" + 0.014*\"residenti\" + 0.013*\"survey\"')\n"
     ]
    }
   ],
   "source": [
    "result = ldamodel.print_topics(num_topics=14, num_words=5)\n",
    "for elt in result:\n",
    "    print(elt)"
   ]
  },
  {
   "cell_type": "code",
   "execution_count": 112,
   "metadata": {},
   "outputs": [
    {
     "data": {
      "application/vnd.plotly.v1+json": {
       "config": {
        "plotlyServerURL": "https://plot.ly"
       },
       "data": [
        {
         "hovertemplate": "Number of topics=%{x}<br>Topic Coherence Score=%{y}<extra></extra>",
         "legendgroup": "",
         "line": {
          "color": "#636efa",
          "dash": "solid"
         },
         "mode": "lines",
         "name": "",
         "orientation": "v",
         "showlegend": false,
         "type": "scatter",
         "x": [
          1,
          2,
          3,
          4,
          5,
          6,
          7,
          8,
          9,
          10,
          11,
          12,
          13,
          14,
          15,
          16,
          17,
          18,
          19,
          20,
          21,
          22,
          23,
          24,
          25,
          26,
          27,
          28,
          29,
          30,
          31,
          32,
          33,
          34,
          35,
          36,
          37,
          38,
          39,
          40,
          41,
          42,
          43,
          44,
          45,
          46,
          47,
          48,
          49
         ],
         "xaxis": "x",
         "y": [
          0.2886119335190405,
          0.33832372375098096,
          0.37529321574955005,
          0.3943033067897648,
          0.3685687786394479,
          0.43217411243200554,
          0.46227812784512473,
          0.5027288458764798,
          0.5076518222317383,
          0.47218805264292546,
          0.4901435828092014,
          0.48337064254259676,
          0.4868761490062169,
          0.464390669857972,
          0.49303549511751776,
          0.500768593988896,
          0.5159126493834516,
          0.479581326989963,
          0.49631046649371724,
          0.47778380681682087,
          0.47269178937737355,
          0.4808213462940213,
          0.5038743901938029,
          0.5088571224557591,
          0.5059427413548372,
          0.4898439306521164,
          0.5095729099833421,
          0.4975034248650072,
          0.5074499699348484,
          0.4690087040550075,
          0.5116697273181396,
          0.4817381386405559,
          0.4862343688712884,
          0.4753117169643115,
          0.4830608141766372,
          0.4757156308491829,
          0.5004276198512764,
          0.4914726306192701,
          0.45544521323897985,
          0.5188667848204916,
          0.490085300297207,
          0.45487695234829234,
          0.46911667571501403,
          0.479890684763233,
          0.47196830721117344,
          0.46778252458614167,
          0.46449619385221275,
          0.4913479255439202,
          0.4733123199628158
         ],
         "yaxis": "y"
        }
       ],
       "layout": {
        "legend": {
         "tracegroupgap": 0
        },
        "margin": {
         "t": 60
        },
        "template": {
         "data": {
          "bar": [
           {
            "error_x": {
             "color": "#2a3f5f"
            },
            "error_y": {
             "color": "#2a3f5f"
            },
            "marker": {
             "line": {
              "color": "#E5ECF6",
              "width": 0.5
             }
            },
            "type": "bar"
           }
          ],
          "barpolar": [
           {
            "marker": {
             "line": {
              "color": "#E5ECF6",
              "width": 0.5
             }
            },
            "type": "barpolar"
           }
          ],
          "carpet": [
           {
            "aaxis": {
             "endlinecolor": "#2a3f5f",
             "gridcolor": "white",
             "linecolor": "white",
             "minorgridcolor": "white",
             "startlinecolor": "#2a3f5f"
            },
            "baxis": {
             "endlinecolor": "#2a3f5f",
             "gridcolor": "white",
             "linecolor": "white",
             "minorgridcolor": "white",
             "startlinecolor": "#2a3f5f"
            },
            "type": "carpet"
           }
          ],
          "choropleth": [
           {
            "colorbar": {
             "outlinewidth": 0,
             "ticks": ""
            },
            "type": "choropleth"
           }
          ],
          "contour": [
           {
            "colorbar": {
             "outlinewidth": 0,
             "ticks": ""
            },
            "colorscale": [
             [
              0,
              "#0d0887"
             ],
             [
              0.1111111111111111,
              "#46039f"
             ],
             [
              0.2222222222222222,
              "#7201a8"
             ],
             [
              0.3333333333333333,
              "#9c179e"
             ],
             [
              0.4444444444444444,
              "#bd3786"
             ],
             [
              0.5555555555555556,
              "#d8576b"
             ],
             [
              0.6666666666666666,
              "#ed7953"
             ],
             [
              0.7777777777777778,
              "#fb9f3a"
             ],
             [
              0.8888888888888888,
              "#fdca26"
             ],
             [
              1,
              "#f0f921"
             ]
            ],
            "type": "contour"
           }
          ],
          "contourcarpet": [
           {
            "colorbar": {
             "outlinewidth": 0,
             "ticks": ""
            },
            "type": "contourcarpet"
           }
          ],
          "heatmap": [
           {
            "colorbar": {
             "outlinewidth": 0,
             "ticks": ""
            },
            "colorscale": [
             [
              0,
              "#0d0887"
             ],
             [
              0.1111111111111111,
              "#46039f"
             ],
             [
              0.2222222222222222,
              "#7201a8"
             ],
             [
              0.3333333333333333,
              "#9c179e"
             ],
             [
              0.4444444444444444,
              "#bd3786"
             ],
             [
              0.5555555555555556,
              "#d8576b"
             ],
             [
              0.6666666666666666,
              "#ed7953"
             ],
             [
              0.7777777777777778,
              "#fb9f3a"
             ],
             [
              0.8888888888888888,
              "#fdca26"
             ],
             [
              1,
              "#f0f921"
             ]
            ],
            "type": "heatmap"
           }
          ],
          "heatmapgl": [
           {
            "colorbar": {
             "outlinewidth": 0,
             "ticks": ""
            },
            "colorscale": [
             [
              0,
              "#0d0887"
             ],
             [
              0.1111111111111111,
              "#46039f"
             ],
             [
              0.2222222222222222,
              "#7201a8"
             ],
             [
              0.3333333333333333,
              "#9c179e"
             ],
             [
              0.4444444444444444,
              "#bd3786"
             ],
             [
              0.5555555555555556,
              "#d8576b"
             ],
             [
              0.6666666666666666,
              "#ed7953"
             ],
             [
              0.7777777777777778,
              "#fb9f3a"
             ],
             [
              0.8888888888888888,
              "#fdca26"
             ],
             [
              1,
              "#f0f921"
             ]
            ],
            "type": "heatmapgl"
           }
          ],
          "histogram": [
           {
            "marker": {
             "colorbar": {
              "outlinewidth": 0,
              "ticks": ""
             }
            },
            "type": "histogram"
           }
          ],
          "histogram2d": [
           {
            "colorbar": {
             "outlinewidth": 0,
             "ticks": ""
            },
            "colorscale": [
             [
              0,
              "#0d0887"
             ],
             [
              0.1111111111111111,
              "#46039f"
             ],
             [
              0.2222222222222222,
              "#7201a8"
             ],
             [
              0.3333333333333333,
              "#9c179e"
             ],
             [
              0.4444444444444444,
              "#bd3786"
             ],
             [
              0.5555555555555556,
              "#d8576b"
             ],
             [
              0.6666666666666666,
              "#ed7953"
             ],
             [
              0.7777777777777778,
              "#fb9f3a"
             ],
             [
              0.8888888888888888,
              "#fdca26"
             ],
             [
              1,
              "#f0f921"
             ]
            ],
            "type": "histogram2d"
           }
          ],
          "histogram2dcontour": [
           {
            "colorbar": {
             "outlinewidth": 0,
             "ticks": ""
            },
            "colorscale": [
             [
              0,
              "#0d0887"
             ],
             [
              0.1111111111111111,
              "#46039f"
             ],
             [
              0.2222222222222222,
              "#7201a8"
             ],
             [
              0.3333333333333333,
              "#9c179e"
             ],
             [
              0.4444444444444444,
              "#bd3786"
             ],
             [
              0.5555555555555556,
              "#d8576b"
             ],
             [
              0.6666666666666666,
              "#ed7953"
             ],
             [
              0.7777777777777778,
              "#fb9f3a"
             ],
             [
              0.8888888888888888,
              "#fdca26"
             ],
             [
              1,
              "#f0f921"
             ]
            ],
            "type": "histogram2dcontour"
           }
          ],
          "mesh3d": [
           {
            "colorbar": {
             "outlinewidth": 0,
             "ticks": ""
            },
            "type": "mesh3d"
           }
          ],
          "parcoords": [
           {
            "line": {
             "colorbar": {
              "outlinewidth": 0,
              "ticks": ""
             }
            },
            "type": "parcoords"
           }
          ],
          "pie": [
           {
            "automargin": true,
            "type": "pie"
           }
          ],
          "scatter": [
           {
            "marker": {
             "colorbar": {
              "outlinewidth": 0,
              "ticks": ""
             }
            },
            "type": "scatter"
           }
          ],
          "scatter3d": [
           {
            "line": {
             "colorbar": {
              "outlinewidth": 0,
              "ticks": ""
             }
            },
            "marker": {
             "colorbar": {
              "outlinewidth": 0,
              "ticks": ""
             }
            },
            "type": "scatter3d"
           }
          ],
          "scattercarpet": [
           {
            "marker": {
             "colorbar": {
              "outlinewidth": 0,
              "ticks": ""
             }
            },
            "type": "scattercarpet"
           }
          ],
          "scattergeo": [
           {
            "marker": {
             "colorbar": {
              "outlinewidth": 0,
              "ticks": ""
             }
            },
            "type": "scattergeo"
           }
          ],
          "scattergl": [
           {
            "marker": {
             "colorbar": {
              "outlinewidth": 0,
              "ticks": ""
             }
            },
            "type": "scattergl"
           }
          ],
          "scattermapbox": [
           {
            "marker": {
             "colorbar": {
              "outlinewidth": 0,
              "ticks": ""
             }
            },
            "type": "scattermapbox"
           }
          ],
          "scatterpolar": [
           {
            "marker": {
             "colorbar": {
              "outlinewidth": 0,
              "ticks": ""
             }
            },
            "type": "scatterpolar"
           }
          ],
          "scatterpolargl": [
           {
            "marker": {
             "colorbar": {
              "outlinewidth": 0,
              "ticks": ""
             }
            },
            "type": "scatterpolargl"
           }
          ],
          "scatterternary": [
           {
            "marker": {
             "colorbar": {
              "outlinewidth": 0,
              "ticks": ""
             }
            },
            "type": "scatterternary"
           }
          ],
          "surface": [
           {
            "colorbar": {
             "outlinewidth": 0,
             "ticks": ""
            },
            "colorscale": [
             [
              0,
              "#0d0887"
             ],
             [
              0.1111111111111111,
              "#46039f"
             ],
             [
              0.2222222222222222,
              "#7201a8"
             ],
             [
              0.3333333333333333,
              "#9c179e"
             ],
             [
              0.4444444444444444,
              "#bd3786"
             ],
             [
              0.5555555555555556,
              "#d8576b"
             ],
             [
              0.6666666666666666,
              "#ed7953"
             ],
             [
              0.7777777777777778,
              "#fb9f3a"
             ],
             [
              0.8888888888888888,
              "#fdca26"
             ],
             [
              1,
              "#f0f921"
             ]
            ],
            "type": "surface"
           }
          ],
          "table": [
           {
            "cells": {
             "fill": {
              "color": "#EBF0F8"
             },
             "line": {
              "color": "white"
             }
            },
            "header": {
             "fill": {
              "color": "#C8D4E3"
             },
             "line": {
              "color": "white"
             }
            },
            "type": "table"
           }
          ]
         },
         "layout": {
          "annotationdefaults": {
           "arrowcolor": "#2a3f5f",
           "arrowhead": 0,
           "arrowwidth": 1
          },
          "coloraxis": {
           "colorbar": {
            "outlinewidth": 0,
            "ticks": ""
           }
          },
          "colorscale": {
           "diverging": [
            [
             0,
             "#8e0152"
            ],
            [
             0.1,
             "#c51b7d"
            ],
            [
             0.2,
             "#de77ae"
            ],
            [
             0.3,
             "#f1b6da"
            ],
            [
             0.4,
             "#fde0ef"
            ],
            [
             0.5,
             "#f7f7f7"
            ],
            [
             0.6,
             "#e6f5d0"
            ],
            [
             0.7,
             "#b8e186"
            ],
            [
             0.8,
             "#7fbc41"
            ],
            [
             0.9,
             "#4d9221"
            ],
            [
             1,
             "#276419"
            ]
           ],
           "sequential": [
            [
             0,
             "#0d0887"
            ],
            [
             0.1111111111111111,
             "#46039f"
            ],
            [
             0.2222222222222222,
             "#7201a8"
            ],
            [
             0.3333333333333333,
             "#9c179e"
            ],
            [
             0.4444444444444444,
             "#bd3786"
            ],
            [
             0.5555555555555556,
             "#d8576b"
            ],
            [
             0.6666666666666666,
             "#ed7953"
            ],
            [
             0.7777777777777778,
             "#fb9f3a"
            ],
            [
             0.8888888888888888,
             "#fdca26"
            ],
            [
             1,
             "#f0f921"
            ]
           ],
           "sequentialminus": [
            [
             0,
             "#0d0887"
            ],
            [
             0.1111111111111111,
             "#46039f"
            ],
            [
             0.2222222222222222,
             "#7201a8"
            ],
            [
             0.3333333333333333,
             "#9c179e"
            ],
            [
             0.4444444444444444,
             "#bd3786"
            ],
            [
             0.5555555555555556,
             "#d8576b"
            ],
            [
             0.6666666666666666,
             "#ed7953"
            ],
            [
             0.7777777777777778,
             "#fb9f3a"
            ],
            [
             0.8888888888888888,
             "#fdca26"
            ],
            [
             1,
             "#f0f921"
            ]
           ]
          },
          "colorway": [
           "#636efa",
           "#EF553B",
           "#00cc96",
           "#ab63fa",
           "#FFA15A",
           "#19d3f3",
           "#FF6692",
           "#B6E880",
           "#FF97FF",
           "#FECB52"
          ],
          "font": {
           "color": "#2a3f5f"
          },
          "geo": {
           "bgcolor": "white",
           "lakecolor": "white",
           "landcolor": "#E5ECF6",
           "showlakes": true,
           "showland": true,
           "subunitcolor": "white"
          },
          "hoverlabel": {
           "align": "left"
          },
          "hovermode": "closest",
          "mapbox": {
           "style": "light"
          },
          "paper_bgcolor": "white",
          "plot_bgcolor": "#E5ECF6",
          "polar": {
           "angularaxis": {
            "gridcolor": "white",
            "linecolor": "white",
            "ticks": ""
           },
           "bgcolor": "#E5ECF6",
           "radialaxis": {
            "gridcolor": "white",
            "linecolor": "white",
            "ticks": ""
           }
          },
          "scene": {
           "xaxis": {
            "backgroundcolor": "#E5ECF6",
            "gridcolor": "white",
            "gridwidth": 2,
            "linecolor": "white",
            "showbackground": true,
            "ticks": "",
            "zerolinecolor": "white"
           },
           "yaxis": {
            "backgroundcolor": "#E5ECF6",
            "gridcolor": "white",
            "gridwidth": 2,
            "linecolor": "white",
            "showbackground": true,
            "ticks": "",
            "zerolinecolor": "white"
           },
           "zaxis": {
            "backgroundcolor": "#E5ECF6",
            "gridcolor": "white",
            "gridwidth": 2,
            "linecolor": "white",
            "showbackground": true,
            "ticks": "",
            "zerolinecolor": "white"
           }
          },
          "shapedefaults": {
           "line": {
            "color": "#2a3f5f"
           }
          },
          "ternary": {
           "aaxis": {
            "gridcolor": "white",
            "linecolor": "white",
            "ticks": ""
           },
           "baxis": {
            "gridcolor": "white",
            "linecolor": "white",
            "ticks": ""
           },
           "bgcolor": "#E5ECF6",
           "caxis": {
            "gridcolor": "white",
            "linecolor": "white",
            "ticks": ""
           }
          },
          "title": {
           "x": 0.05
          },
          "xaxis": {
           "automargin": true,
           "gridcolor": "white",
           "linecolor": "white",
           "ticks": "",
           "title": {
            "standoff": 15
           },
           "zerolinecolor": "white",
           "zerolinewidth": 2
          },
          "yaxis": {
           "automargin": true,
           "gridcolor": "white",
           "linecolor": "white",
           "ticks": "",
           "title": {
            "standoff": 15
           },
           "zerolinecolor": "white",
           "zerolinewidth": 2
          }
         }
        },
        "xaxis": {
         "anchor": "y",
         "domain": [
          0,
          1
         ],
         "title": {
          "text": "Number of topics"
         }
        },
        "yaxis": {
         "anchor": "x",
         "domain": [
          0,
          1
         ],
         "title": {
          "text": "Topic Coherence Score"
         }
        }
       }
      },
      "text/html": [
       "<div>                            <div id=\"e7bc08cf-5b4f-45fa-99e0-a04fb7d174e5\" class=\"plotly-graph-div\" style=\"height:525px; width:100%;\"></div>            <script type=\"text/javascript\">                require([\"plotly\"], function(Plotly) {                    window.PLOTLYENV=window.PLOTLYENV || {};                                    if (document.getElementById(\"e7bc08cf-5b4f-45fa-99e0-a04fb7d174e5\")) {                    Plotly.newPlot(                        \"e7bc08cf-5b4f-45fa-99e0-a04fb7d174e5\",                        [{\"hovertemplate\": \"Number of topics=%{x}<br>Topic Coherence Score=%{y}<extra></extra>\", \"legendgroup\": \"\", \"line\": {\"color\": \"#636efa\", \"dash\": \"solid\"}, \"mode\": \"lines\", \"name\": \"\", \"orientation\": \"v\", \"showlegend\": false, \"type\": \"scatter\", \"x\": [1, 2, 3, 4, 5, 6, 7, 8, 9, 10, 11, 12, 13, 14, 15, 16, 17, 18, 19, 20, 21, 22, 23, 24, 25, 26, 27, 28, 29, 30, 31, 32, 33, 34, 35, 36, 37, 38, 39, 40, 41, 42, 43, 44, 45, 46, 47, 48, 49], \"xaxis\": \"x\", \"y\": [0.2886119335190405, 0.33832372375098096, 0.37529321574955005, 0.3943033067897648, 0.3685687786394479, 0.43217411243200554, 0.46227812784512473, 0.5027288458764798, 0.5076518222317383, 0.47218805264292546, 0.4901435828092014, 0.48337064254259676, 0.4868761490062169, 0.464390669857972, 0.49303549511751776, 0.500768593988896, 0.5159126493834516, 0.479581326989963, 0.49631046649371724, 0.47778380681682087, 0.47269178937737355, 0.4808213462940213, 0.5038743901938029, 0.5088571224557591, 0.5059427413548372, 0.4898439306521164, 0.5095729099833421, 0.4975034248650072, 0.5074499699348484, 0.4690087040550075, 0.5116697273181396, 0.4817381386405559, 0.4862343688712884, 0.4753117169643115, 0.4830608141766372, 0.4757156308491829, 0.5004276198512764, 0.4914726306192701, 0.45544521323897985, 0.5188667848204916, 0.490085300297207, 0.45487695234829234, 0.46911667571501403, 0.479890684763233, 0.47196830721117344, 0.46778252458614167, 0.46449619385221275, 0.4913479255439202, 0.4733123199628158], \"yaxis\": \"y\"}],                        {\"legend\": {\"tracegroupgap\": 0}, \"margin\": {\"t\": 60}, \"template\": {\"data\": {\"bar\": [{\"error_x\": {\"color\": \"#2a3f5f\"}, \"error_y\": {\"color\": \"#2a3f5f\"}, \"marker\": {\"line\": {\"color\": \"#E5ECF6\", \"width\": 0.5}}, \"type\": \"bar\"}], \"barpolar\": [{\"marker\": {\"line\": {\"color\": \"#E5ECF6\", \"width\": 0.5}}, \"type\": \"barpolar\"}], \"carpet\": [{\"aaxis\": {\"endlinecolor\": \"#2a3f5f\", \"gridcolor\": \"white\", \"linecolor\": \"white\", \"minorgridcolor\": \"white\", \"startlinecolor\": \"#2a3f5f\"}, \"baxis\": {\"endlinecolor\": \"#2a3f5f\", \"gridcolor\": \"white\", \"linecolor\": \"white\", \"minorgridcolor\": \"white\", \"startlinecolor\": \"#2a3f5f\"}, \"type\": \"carpet\"}], \"choropleth\": [{\"colorbar\": {\"outlinewidth\": 0, \"ticks\": \"\"}, \"type\": \"choropleth\"}], \"contour\": [{\"colorbar\": {\"outlinewidth\": 0, \"ticks\": \"\"}, \"colorscale\": [[0.0, \"#0d0887\"], [0.1111111111111111, \"#46039f\"], [0.2222222222222222, \"#7201a8\"], [0.3333333333333333, \"#9c179e\"], [0.4444444444444444, \"#bd3786\"], [0.5555555555555556, \"#d8576b\"], [0.6666666666666666, \"#ed7953\"], [0.7777777777777778, \"#fb9f3a\"], [0.8888888888888888, \"#fdca26\"], [1.0, \"#f0f921\"]], \"type\": \"contour\"}], \"contourcarpet\": [{\"colorbar\": {\"outlinewidth\": 0, \"ticks\": \"\"}, \"type\": \"contourcarpet\"}], \"heatmap\": [{\"colorbar\": {\"outlinewidth\": 0, \"ticks\": \"\"}, \"colorscale\": [[0.0, \"#0d0887\"], [0.1111111111111111, \"#46039f\"], [0.2222222222222222, \"#7201a8\"], [0.3333333333333333, \"#9c179e\"], [0.4444444444444444, \"#bd3786\"], [0.5555555555555556, \"#d8576b\"], [0.6666666666666666, \"#ed7953\"], [0.7777777777777778, \"#fb9f3a\"], [0.8888888888888888, \"#fdca26\"], [1.0, \"#f0f921\"]], \"type\": \"heatmap\"}], \"heatmapgl\": [{\"colorbar\": {\"outlinewidth\": 0, \"ticks\": \"\"}, \"colorscale\": [[0.0, \"#0d0887\"], [0.1111111111111111, \"#46039f\"], [0.2222222222222222, \"#7201a8\"], [0.3333333333333333, \"#9c179e\"], [0.4444444444444444, \"#bd3786\"], [0.5555555555555556, \"#d8576b\"], [0.6666666666666666, \"#ed7953\"], [0.7777777777777778, \"#fb9f3a\"], [0.8888888888888888, \"#fdca26\"], [1.0, \"#f0f921\"]], \"type\": \"heatmapgl\"}], \"histogram\": [{\"marker\": {\"colorbar\": {\"outlinewidth\": 0, \"ticks\": \"\"}}, \"type\": \"histogram\"}], \"histogram2d\": [{\"colorbar\": {\"outlinewidth\": 0, \"ticks\": \"\"}, \"colorscale\": [[0.0, \"#0d0887\"], [0.1111111111111111, \"#46039f\"], [0.2222222222222222, \"#7201a8\"], [0.3333333333333333, \"#9c179e\"], [0.4444444444444444, \"#bd3786\"], [0.5555555555555556, \"#d8576b\"], [0.6666666666666666, \"#ed7953\"], [0.7777777777777778, \"#fb9f3a\"], [0.8888888888888888, \"#fdca26\"], [1.0, \"#f0f921\"]], \"type\": \"histogram2d\"}], \"histogram2dcontour\": [{\"colorbar\": {\"outlinewidth\": 0, \"ticks\": \"\"}, \"colorscale\": [[0.0, \"#0d0887\"], [0.1111111111111111, \"#46039f\"], [0.2222222222222222, \"#7201a8\"], [0.3333333333333333, \"#9c179e\"], [0.4444444444444444, \"#bd3786\"], [0.5555555555555556, \"#d8576b\"], [0.6666666666666666, \"#ed7953\"], [0.7777777777777778, \"#fb9f3a\"], [0.8888888888888888, \"#fdca26\"], [1.0, \"#f0f921\"]], \"type\": \"histogram2dcontour\"}], \"mesh3d\": [{\"colorbar\": {\"outlinewidth\": 0, \"ticks\": \"\"}, \"type\": \"mesh3d\"}], \"parcoords\": [{\"line\": {\"colorbar\": {\"outlinewidth\": 0, \"ticks\": \"\"}}, \"type\": \"parcoords\"}], \"pie\": [{\"automargin\": true, \"type\": \"pie\"}], \"scatter\": [{\"marker\": {\"colorbar\": {\"outlinewidth\": 0, \"ticks\": \"\"}}, \"type\": \"scatter\"}], \"scatter3d\": [{\"line\": {\"colorbar\": {\"outlinewidth\": 0, \"ticks\": \"\"}}, \"marker\": {\"colorbar\": {\"outlinewidth\": 0, \"ticks\": \"\"}}, \"type\": \"scatter3d\"}], \"scattercarpet\": [{\"marker\": {\"colorbar\": {\"outlinewidth\": 0, \"ticks\": \"\"}}, \"type\": \"scattercarpet\"}], \"scattergeo\": [{\"marker\": {\"colorbar\": {\"outlinewidth\": 0, \"ticks\": \"\"}}, \"type\": \"scattergeo\"}], \"scattergl\": [{\"marker\": {\"colorbar\": {\"outlinewidth\": 0, \"ticks\": \"\"}}, \"type\": \"scattergl\"}], \"scattermapbox\": [{\"marker\": {\"colorbar\": {\"outlinewidth\": 0, \"ticks\": \"\"}}, \"type\": \"scattermapbox\"}], \"scatterpolar\": [{\"marker\": {\"colorbar\": {\"outlinewidth\": 0, \"ticks\": \"\"}}, \"type\": \"scatterpolar\"}], \"scatterpolargl\": [{\"marker\": {\"colorbar\": {\"outlinewidth\": 0, \"ticks\": \"\"}}, \"type\": \"scatterpolargl\"}], \"scatterternary\": [{\"marker\": {\"colorbar\": {\"outlinewidth\": 0, \"ticks\": \"\"}}, \"type\": \"scatterternary\"}], \"surface\": [{\"colorbar\": {\"outlinewidth\": 0, \"ticks\": \"\"}, \"colorscale\": [[0.0, \"#0d0887\"], [0.1111111111111111, \"#46039f\"], [0.2222222222222222, \"#7201a8\"], [0.3333333333333333, \"#9c179e\"], [0.4444444444444444, \"#bd3786\"], [0.5555555555555556, \"#d8576b\"], [0.6666666666666666, \"#ed7953\"], [0.7777777777777778, \"#fb9f3a\"], [0.8888888888888888, \"#fdca26\"], [1.0, \"#f0f921\"]], \"type\": \"surface\"}], \"table\": [{\"cells\": {\"fill\": {\"color\": \"#EBF0F8\"}, \"line\": {\"color\": \"white\"}}, \"header\": {\"fill\": {\"color\": \"#C8D4E3\"}, \"line\": {\"color\": \"white\"}}, \"type\": \"table\"}]}, \"layout\": {\"annotationdefaults\": {\"arrowcolor\": \"#2a3f5f\", \"arrowhead\": 0, \"arrowwidth\": 1}, \"coloraxis\": {\"colorbar\": {\"outlinewidth\": 0, \"ticks\": \"\"}}, \"colorscale\": {\"diverging\": [[0, \"#8e0152\"], [0.1, \"#c51b7d\"], [0.2, \"#de77ae\"], [0.3, \"#f1b6da\"], [0.4, \"#fde0ef\"], [0.5, \"#f7f7f7\"], [0.6, \"#e6f5d0\"], [0.7, \"#b8e186\"], [0.8, \"#7fbc41\"], [0.9, \"#4d9221\"], [1, \"#276419\"]], \"sequential\": [[0.0, \"#0d0887\"], [0.1111111111111111, \"#46039f\"], [0.2222222222222222, \"#7201a8\"], [0.3333333333333333, \"#9c179e\"], [0.4444444444444444, \"#bd3786\"], [0.5555555555555556, \"#d8576b\"], [0.6666666666666666, \"#ed7953\"], [0.7777777777777778, \"#fb9f3a\"], [0.8888888888888888, \"#fdca26\"], [1.0, \"#f0f921\"]], \"sequentialminus\": [[0.0, \"#0d0887\"], [0.1111111111111111, \"#46039f\"], [0.2222222222222222, \"#7201a8\"], [0.3333333333333333, \"#9c179e\"], [0.4444444444444444, \"#bd3786\"], [0.5555555555555556, \"#d8576b\"], [0.6666666666666666, \"#ed7953\"], [0.7777777777777778, \"#fb9f3a\"], [0.8888888888888888, \"#fdca26\"], [1.0, \"#f0f921\"]]}, \"colorway\": [\"#636efa\", \"#EF553B\", \"#00cc96\", \"#ab63fa\", \"#FFA15A\", \"#19d3f3\", \"#FF6692\", \"#B6E880\", \"#FF97FF\", \"#FECB52\"], \"font\": {\"color\": \"#2a3f5f\"}, \"geo\": {\"bgcolor\": \"white\", \"lakecolor\": \"white\", \"landcolor\": \"#E5ECF6\", \"showlakes\": true, \"showland\": true, \"subunitcolor\": \"white\"}, \"hoverlabel\": {\"align\": \"left\"}, \"hovermode\": \"closest\", \"mapbox\": {\"style\": \"light\"}, \"paper_bgcolor\": \"white\", \"plot_bgcolor\": \"#E5ECF6\", \"polar\": {\"angularaxis\": {\"gridcolor\": \"white\", \"linecolor\": \"white\", \"ticks\": \"\"}, \"bgcolor\": \"#E5ECF6\", \"radialaxis\": {\"gridcolor\": \"white\", \"linecolor\": \"white\", \"ticks\": \"\"}}, \"scene\": {\"xaxis\": {\"backgroundcolor\": \"#E5ECF6\", \"gridcolor\": \"white\", \"gridwidth\": 2, \"linecolor\": \"white\", \"showbackground\": true, \"ticks\": \"\", \"zerolinecolor\": \"white\"}, \"yaxis\": {\"backgroundcolor\": \"#E5ECF6\", \"gridcolor\": \"white\", \"gridwidth\": 2, \"linecolor\": \"white\", \"showbackground\": true, \"ticks\": \"\", \"zerolinecolor\": \"white\"}, \"zaxis\": {\"backgroundcolor\": \"#E5ECF6\", \"gridcolor\": \"white\", \"gridwidth\": 2, \"linecolor\": \"white\", \"showbackground\": true, \"ticks\": \"\", \"zerolinecolor\": \"white\"}}, \"shapedefaults\": {\"line\": {\"color\": \"#2a3f5f\"}}, \"ternary\": {\"aaxis\": {\"gridcolor\": \"white\", \"linecolor\": \"white\", \"ticks\": \"\"}, \"baxis\": {\"gridcolor\": \"white\", \"linecolor\": \"white\", \"ticks\": \"\"}, \"bgcolor\": \"#E5ECF6\", \"caxis\": {\"gridcolor\": \"white\", \"linecolor\": \"white\", \"ticks\": \"\"}}, \"title\": {\"x\": 0.05}, \"xaxis\": {\"automargin\": true, \"gridcolor\": \"white\", \"linecolor\": \"white\", \"ticks\": \"\", \"title\": {\"standoff\": 15}, \"zerolinecolor\": \"white\", \"zerolinewidth\": 2}, \"yaxis\": {\"automargin\": true, \"gridcolor\": \"white\", \"linecolor\": \"white\", \"ticks\": \"\", \"title\": {\"standoff\": 15}, \"zerolinecolor\": \"white\", \"zerolinewidth\": 2}}}, \"xaxis\": {\"anchor\": \"y\", \"domain\": [0.0, 1.0], \"title\": {\"text\": \"Number of topics\"}}, \"yaxis\": {\"anchor\": \"x\", \"domain\": [0.0, 1.0], \"title\": {\"text\": \"Topic Coherence Score\"}}},                        {\"responsive\": true}                    ).then(function(){\n",
       "                            \n",
       "var gd = document.getElementById('e7bc08cf-5b4f-45fa-99e0-a04fb7d174e5');\n",
       "var x = new MutationObserver(function (mutations, observer) {{\n",
       "        var display = window.getComputedStyle(gd).display;\n",
       "        if (!display || display === 'none') {{\n",
       "            console.log([gd, 'removed!']);\n",
       "            Plotly.purge(gd);\n",
       "            observer.disconnect();\n",
       "        }}\n",
       "}});\n",
       "\n",
       "// Listen for the removal of the full notebook cells\n",
       "var notebookContainer = gd.closest('#notebook-container');\n",
       "if (notebookContainer) {{\n",
       "    x.observe(notebookContainer, {childList: true});\n",
       "}}\n",
       "\n",
       "// Listen for the clearing of the current output cell\n",
       "var outputEl = gd.closest('.output');\n",
       "if (outputEl) {{\n",
       "    x.observe(outputEl, {childList: true});\n",
       "}}\n",
       "\n",
       "                        })                };                });            </script>        </div>"
      ]
     },
     "metadata": {},
     "output_type": "display_data"
    }
   ],
   "source": [
    "px.line(\n",
    "    x=np.arange(1, 50, 1),\n",
    "    y=scores,\n",
    "    labels={\"x\": \"Number of topics\", \"y\": \"Topic Coherence Score\"},\n",
    ")"
   ]
  },
  {
   "cell_type": "code",
   "execution_count": 302,
   "metadata": {},
   "outputs": [
    {
     "name": "stdout",
     "output_type": "stream",
     "text": [
      "recruit, now, appli, take, industri, retail, england, sustain, per, back\n",
      "train, cours, learn, student, level, workshop, class, educ, skill, join\n",
      "autom, notari, process, public, technolog, document, industri, read, partner, global\n",
      "deliveri, boiler, heat, ga, plumb, courier, logist, ship, quot, email\n",
      "tune, abarth, car, fiat, vehicl, part, engin, key, merced, audi\n",
      "speaker, sensor, power, research, cbd, system, rate, smart, sound, batteri\n",
      "park, museum, safeti, visit, comput, centr, fit, tour, shirt, yoga\n",
      "properti, let, home, hous, mortgag, pcm, rent, agent, bedroom, buckinghamshir\n",
      "system, use, applic, thermal, materi, control, comput, univers, led, scienc\n",
      "travel, book, now, airlin, fli, holiday, flight, bum, pciaw, air\n",
      "open, read, peopl, health, covid, use, time, direct, counsel, post\n",
      "truck, forklift, steel, conveyor, stainless, pallet, rack, section, warehous, denbigh\n",
      "txm, frame, accessori, decor, furnitur, leather, watch, top, tabl, climb\n",
      "recommend, thank, great, alway, remov, friendli, time, qualiti, profession, home\n",
      "fibr, tattoo, treatment, skin, patch, page, cabl, facebook, plu, voir\n",
      "electr, electrician, safeti, industri, instal, mainten, home, system, engin, commerci\n",
      "view, slide, bed, home, previou, next, bathroom, diamond, set, badminton\n",
      "door, window, roof, price, glass, kitchen, trade, mug, doubl, christma\n",
      "skip, room, hotel, vat, home, wast, space, present, hire, view\n",
      "account, consult, tax, financi, right, plan, make, home, email, use\n",
      "hire, school, home, meet, wavendon, plant, centr, divis, facil, lift\n",
      "care, home, treatment, health, beauti, hair, live, donat, visit, patient\n",
      "church, job, commun, centr, regist, saab, healthcar, nurs, doctor, home\n",
      "music, elit, structur, leo, nec, email, home, matti, pulvinar, use\n",
      "children, dog, art, googl, ad, top, grass, onlin, blog, click\n",
      "legal, advic, commerci, solicitor, law, employ, construct, partner, properti, privat\n",
      "clean, floor, carpet, massag, cleaner, blind, commerci, belvoir, treatment, bodi\n",
      "cooki, use, store, necessari, function, set, consent, inform, polici, privaci\n",
      "add, cart, view, oil, price, login, list, incens, pleas, wish\n",
      "gift, wed, home, love, set, wax, care, beauti, walnut, dress\n",
      "car, vehicl, book, repair, price, insur, make, mot, free, check\n",
      "fit, bodi, train, andi, class, total, sport, trainer, membership, metabol\n",
      "vacuum, coffe, pump, cup, spare, machin, valv, filter, special, print\n",
      "menu, food, order, tea, book, restaur, street, drink, park, pleas\n",
      "system, engin, web, secur, print, high, inspect, industri, brand, control\n",
      "data, inform, person, use, may, parti, privaci, third, collect, process\n"
     ]
    }
   ],
   "source": [
    "ch = \"\"\"(0, '0.011*\"recruit\" + 0.008*\"now\" + 0.008*\"appli\" + 0.007*\"take\" + 0.007*\"industri\" + 0.007*\"retail\" + 0.006*\"england\" + 0.006*\"sustain\" + 0.006*\"per\" + 0.006*\"back\"')\n",
    "\n",
    "\n",
    "(1, '0.039*\"train\" + 0.038*\"cours\" + 0.018*\"learn\" + 0.009*\"student\" + 0.008*\"level\" + 0.007*\"workshop\" + 0.007*\"class\" + 0.007*\"educ\" + 0.007*\"skill\" + 0.007*\"join\"')\n",
    "\n",
    "\n",
    "(2, '0.021*\"autom\" + 0.017*\"notari\" + 0.010*\"process\" + 0.009*\"public\" + 0.008*\"technolog\" + 0.008*\"document\" + 0.007*\"industri\" + 0.007*\"read\" + 0.006*\"partner\" + 0.006*\"global\"')\n",
    "\n",
    "\n",
    "(3, '0.022*\"deliveri\" + 0.018*\"boiler\" + 0.018*\"heat\" + 0.015*\"ga\" + 0.015*\"plumb\" + 0.014*\"courier\" + 0.011*\"logist\" + 0.010*\"ship\" + 0.009*\"quot\" + 0.009*\"email\"')\n",
    "\n",
    "\n",
    "(4, '0.047*\"tune\" + 0.038*\"abarth\" + 0.025*\"car\" + 0.021*\"fiat\" + 0.015*\"vehicl\" + 0.009*\"part\" + 0.009*\"engin\" + 0.008*\"key\" + 0.008*\"merced\" + 0.008*\"audi\"')\n",
    "\n",
    "\n",
    "(5, '0.023*\"speaker\" + 0.016*\"sensor\" + 0.014*\"power\" + 0.014*\"research\" + 0.013*\"cbd\" + 0.012*\"system\" + 0.011*\"rate\" + 0.009*\"smart\" + 0.009*\"sound\" + 0.009*\"batteri\"')\n",
    "\n",
    "\n",
    "(6, '0.024*\"park\" + 0.014*\"museum\" + 0.011*\"safeti\" + 0.011*\"visit\" + 0.011*\"comput\" + 0.010*\"centr\" + 0.009*\"fit\" + 0.009*\"tour\" + 0.008*\"shirt\" + 0.008*\"yoga\"')\n",
    "\n",
    "\n",
    "(7, '0.045*\"properti\" + 0.015*\"let\" + 0.013*\"home\" + 0.012*\"hous\" + 0.011*\"mortgag\" + 0.010*\"pcm\" + 0.009*\"rent\" + 0.009*\"agent\" + 0.008*\"bedroom\" + 0.008*\"buckinghamshir\"')\n",
    "\n",
    "\n",
    "(8, '0.023*\"system\" + 0.014*\"use\" + 0.014*\"applic\" + 0.014*\"thermal\" + 0.012*\"materi\" + 0.012*\"control\" + 0.011*\"comput\" + 0.011*\"univers\" + 0.011*\"led\" + 0.010*\"scienc\"')\n",
    "\n",
    "\n",
    "(9, '0.054*\"travel\" + 0.023*\"book\" + 0.019*\"now\" + 0.017*\"airlin\" + 0.015*\"fli\" + 0.015*\"holiday\" + 0.013*\"flight\" + 0.012*\"bum\" + 0.011*\"pciaw\" + 0.011*\"air\"')\n",
    "\n",
    "\n",
    "(10, '0.014*\"open\" + 0.014*\"read\" + 0.010*\"peopl\" + 0.008*\"health\" + 0.008*\"covid\" + 0.007*\"use\" + 0.007*\"time\" + 0.006*\"direct\" + 0.006*\"counsel\" + 0.006*\"post\"')\n",
    "\n",
    "\n",
    "(11, '0.038*\"truck\" + 0.029*\"forklift\" + 0.022*\"steel\" + 0.017*\"conveyor\" + 0.013*\"stainless\" + 0.013*\"pallet\" + 0.013*\"rack\" + 0.012*\"section\" + 0.011*\"warehous\" + 0.011*\"denbigh\"')\n",
    "\n",
    "\n",
    "(12, '0.027*\"txm\" + 0.023*\"frame\" + 0.014*\"accessori\" + 0.014*\"decor\" + 0.012*\"furnitur\" + 0.012*\"leather\" + 0.011*\"watch\" + 0.011*\"top\" + 0.010*\"tabl\" + 0.009*\"climb\"')\n",
    "\n",
    "\n",
    "(13, '0.016*\"recommend\" + 0.014*\"thank\" + 0.013*\"great\" + 0.012*\"alway\" + 0.012*\"remov\" + 0.011*\"friendli\" + 0.010*\"time\" + 0.010*\"qualiti\" + 0.009*\"profession\" + 0.009*\"home\"')\n",
    "\n",
    "\n",
    "(14, '0.021*\"fibr\" + 0.019*\"tattoo\" + 0.014*\"treatment\" + 0.012*\"skin\" + 0.012*\"patch\" + 0.011*\"page\" + 0.011*\"cabl\" + 0.011*\"facebook\" + 0.010*\"plu\" + 0.010*\"voir\"')\n",
    "\n",
    "\n",
    "(15, '0.023*\"electr\" + 0.015*\"electrician\" + 0.015*\"safeti\" + 0.013*\"industri\" + 0.012*\"instal\" + 0.010*\"mainten\" + 0.010*\"home\" + 0.009*\"system\" + 0.009*\"engin\" + 0.009*\"commerci\"')\n",
    "\n",
    "\n",
    "(16, '0.074*\"view\" + 0.035*\"slide\" + 0.024*\"bed\" + 0.017*\"home\" + 0.016*\"previou\" + 0.016*\"next\" + 0.015*\"bathroom\" + 0.013*\"diamond\" + 0.011*\"set\" + 0.011*\"badminton\"')\n",
    "\n",
    "\n",
    "(17, '0.023*\"door\" + 0.022*\"window\" + 0.014*\"roof\" + 0.012*\"price\" + 0.011*\"glass\" + 0.010*\"kitchen\" + 0.009*\"trade\" + 0.009*\"mug\" + 0.008*\"doubl\" + 0.007*\"christma\"')\n",
    "\n",
    "\n",
    "(18, '0.015*\"skip\" + 0.015*\"room\" + 0.015*\"hotel\" + 0.013*\"vat\" + 0.011*\"home\" + 0.011*\"wast\" + 0.010*\"space\" + 0.009*\"present\" + 0.008*\"hire\" + 0.008*\"view\"')\n",
    "\n",
    "\n",
    "(19, '0.017*\"account\" + 0.011*\"consult\" + 0.010*\"tax\" + 0.010*\"financi\" + 0.009*\"right\" + 0.008*\"plan\" + 0.008*\"make\" + 0.008*\"home\" + 0.008*\"email\" + 0.007*\"use\"')\n",
    "\n",
    "\n",
    "(20, '0.044*\"hire\" + 0.030*\"school\" + 0.015*\"home\" + 0.013*\"meet\" + 0.012*\"wavendon\" + 0.011*\"plant\" + 0.010*\"centr\" + 0.010*\"divis\" + 0.010*\"facil\" + 0.010*\"lift\"')\n",
    "\n",
    "\n",
    "(21, '0.044*\"care\" + 0.017*\"home\" + 0.016*\"treatment\" + 0.015*\"health\" + 0.014*\"beauti\" + 0.014*\"hair\" + 0.014*\"live\" + 0.011*\"donat\" + 0.010*\"visit\" + 0.009*\"patient\"')\n",
    "\n",
    "\n",
    "(22, '0.030*\"church\" + 0.028*\"job\" + 0.026*\"commun\" + 0.023*\"centr\" + 0.017*\"regist\" + 0.016*\"saab\" + 0.013*\"healthcar\" + 0.012*\"nurs\" + 0.010*\"doctor\" + 0.010*\"home\"')\n",
    "\n",
    "\n",
    "(23, '0.014*\"music\" + 0.013*\"elit\" + 0.012*\"structur\" + 0.008*\"leo\" + 0.008*\"nec\" + 0.008*\"email\" + 0.008*\"home\" + 0.007*\"matti\" + 0.007*\"pulvinar\" + 0.007*\"use\"')\n",
    "\n",
    "\n",
    "(24, '0.011*\"children\" + 0.011*\"dog\" + 0.009*\"art\" + 0.008*\"googl\" + 0.007*\"ad\" + 0.007*\"top\" + 0.006*\"grass\" + 0.006*\"onlin\" + 0.006*\"blog\" + 0.006*\"click\"')\n",
    "\n",
    "\n",
    "(25, '0.021*\"legal\" + 0.017*\"advic\" + 0.016*\"commerci\" + 0.015*\"solicitor\" + 0.014*\"law\" + 0.013*\"employ\" + 0.011*\"construct\" + 0.010*\"partner\" + 0.010*\"properti\" + 0.009*\"privat\"')\n",
    "\n",
    "\n",
    "(26, '0.108*\"clean\" + 0.024*\"floor\" + 0.022*\"carpet\" + 0.013*\"massag\" + 0.013*\"cleaner\" + 0.013*\"blind\" + 0.012*\"commerci\" + 0.010*\"belvoir\" + 0.009*\"treatment\" + 0.009*\"bodi\"')\n",
    "\n",
    "\n",
    "(27, '0.093*\"cooki\" + 0.035*\"use\" + 0.022*\"store\" + 0.020*\"necessari\" + 0.020*\"function\" + 0.016*\"set\" + 0.014*\"consent\" + 0.013*\"inform\" + 0.012*\"polici\" + 0.011*\"privaci\"')\n",
    "\n",
    "\n",
    "(28, '0.074*\"add\" + 0.044*\"cart\" + 0.038*\"view\" + 0.030*\"oil\" + 0.030*\"price\" + 0.021*\"login\" + 0.021*\"list\" + 0.020*\"incens\" + 0.017*\"pleas\" + 0.016*\"wish\"')\n",
    "\n",
    "\n",
    "(29, '0.018*\"gift\" + 0.013*\"wed\" + 0.012*\"home\" + 0.011*\"love\" + 0.010*\"set\" + 0.010*\"wax\" + 0.009*\"care\" + 0.007*\"beauti\" + 0.006*\"walnut\" + 0.006*\"dress\"')\n",
    "\n",
    "\n",
    "(30, '0.019*\"car\" + 0.018*\"vehicl\" + 0.018*\"book\" + 0.017*\"repair\" + 0.013*\"price\" + 0.010*\"insur\" + 0.008*\"make\" + 0.008*\"mot\" + 0.008*\"free\" + 0.008*\"check\"')\n",
    "\n",
    "\n",
    "(31, '0.052*\"fit\" + 0.022*\"bodi\" + 0.022*\"train\" + 0.022*\"andi\" + 0.019*\"class\" + 0.018*\"total\" + 0.017*\"sport\" + 0.016*\"trainer\" + 0.014*\"membership\" + 0.014*\"metabol\"')\n",
    "\n",
    "\n",
    "(32, '0.064*\"vacuum\" + 0.059*\"coffe\" + 0.039*\"pump\" + 0.026*\"cup\" + 0.021*\"spare\" + 0.021*\"machin\" + 0.014*\"valv\" + 0.014*\"filter\" + 0.009*\"special\" + 0.009*\"print\"')\n",
    "\n",
    "\n",
    "(33, '0.032*\"menu\" + 0.027*\"food\" + 0.024*\"order\" + 0.019*\"tea\" + 0.017*\"book\" + 0.015*\"restaur\" + 0.014*\"street\" + 0.014*\"drink\" + 0.013*\"park\" + 0.010*\"pleas\"')\n",
    "\n",
    "\n",
    "(34, '0.016*\"system\" + 0.015*\"engin\" + 0.013*\"web\" + 0.012*\"secur\" + 0.011*\"print\" + 0.008*\"high\" + 0.008*\"inspect\" + 0.007*\"industri\" + 0.007*\"brand\" + 0.007*\"control\"')\n",
    "\n",
    "\n",
    "(35, '0.036*\"data\" + 0.030*\"inform\" + 0.021*\"person\" + 0.020*\"use\" + 0.020*\"may\" + 0.010*\"parti\" + 0.009*\"privaci\" + 0.008*\"third\" + 0.008*\"collect\" + 0.008*\"process\"')\"\"\"\n",
    "\n",
    "\n",
    "liste = re.findall(r'\"(.*?)\"', ch)\n",
    "liste\n",
    "for i in range(36):\n",
    "    x = liste[i * 10 : i * 10 + 10]\n",
    "    w = \", \".join(x)\n",
    "    print(w)"
   ]
  },
  {
   "cell_type": "code",
   "execution_count": 303,
   "metadata": {},
   "outputs": [],
   "source": [
    "counts = dict()\n",
    "for i in range(36):\n",
    "    counts[i] = 0\n",
    "\n",
    "for elt in corpus:\n",
    "    tops = ldamodel.get_document_topics(elt)\n",
    "    topic_max = 0\n",
    "    maxi = 0\n",
    "    for t in tops:\n",
    "        if t[1] > maxi:\n",
    "            maxi = t[1]\n",
    "            topic_max = t[0]\n",
    "\n",
    "    counts[topic_max] += 1"
   ]
  },
  {
   "cell_type": "code",
   "execution_count": 306,
   "metadata": {},
   "outputs": [],
   "source": [
    "import pandas as pd\n",
    "\n",
    "pd.set_option(\"display.max_rows\", 500)\n",
    "pd.set_option(\"display.max_columns\", 500)\n",
    "pd.set_option(\"display.width\", 1000)"
   ]
  },
  {
   "cell_type": "code",
   "execution_count": 329,
   "metadata": {},
   "outputs": [
    {
     "data": {
      "text/html": [
       "<style type=\"text/css\">\n",
       "#T_f47b6_row0_col1, #T_f47b6_row1_col1, #T_f47b6_row2_col1, #T_f47b6_row3_col1, #T_f47b6_row4_col1, #T_f47b6_row5_col1, #T_f47b6_row6_col1, #T_f47b6_row7_col1, #T_f47b6_row8_col1, #T_f47b6_row9_col1, #T_f47b6_row10_col1, #T_f47b6_row11_col1, #T_f47b6_row12_col1, #T_f47b6_row13_col1, #T_f47b6_row14_col1, #T_f47b6_row15_col1, #T_f47b6_row16_col1, #T_f47b6_row17_col1, #T_f47b6_row18_col1, #T_f47b6_row19_col1, #T_f47b6_row20_col1, #T_f47b6_row21_col1, #T_f47b6_row22_col1, #T_f47b6_row23_col1, #T_f47b6_row24_col1, #T_f47b6_row25_col1, #T_f47b6_row26_col1, #T_f47b6_row27_col1, #T_f47b6_row28_col1, #T_f47b6_row29_col1, #T_f47b6_row30_col1, #T_f47b6_row31_col1, #T_f47b6_row32_col1, #T_f47b6_row33_col1, #T_f47b6_row34_col1, #T_f47b6_row35_col1 {\n",
       "  width: 450px;\n",
       "}\n",
       "</style>\n",
       "<table id=\"T_f47b6_\">\n",
       "  <thead>\n",
       "    <tr>\n",
       "      <th class=\"blank level0\" >&nbsp;</th>\n",
       "      <th class=\"col_heading level0 col0\" >Number of documents</th>\n",
       "      <th class=\"col_heading level0 col1\" >Terms</th>\n",
       "      <th class=\"col_heading level0 col2\" >Supposed activity</th>\n",
       "    </tr>\n",
       "  </thead>\n",
       "  <tbody>\n",
       "    <tr>\n",
       "      <th id=\"T_f47b6_level0_row0\" class=\"row_heading level0 row0\" >0</th>\n",
       "      <td id=\"T_f47b6_row0_col0\" class=\"data row0 col0\" >197</td>\n",
       "      <td id=\"T_f47b6_row0_col1\" class=\"data row0 col1\" >recruit, now, appli, take, industri, retail, england, sustain, per, back</td>\n",
       "      <td id=\"T_f47b6_row0_col2\" class=\"data row0 col2\" >human resources</td>\n",
       "    </tr>\n",
       "    <tr>\n",
       "      <th id=\"T_f47b6_level0_row1\" class=\"row_heading level0 row1\" >1</th>\n",
       "      <td id=\"T_f47b6_row1_col0\" class=\"data row1 col0\" >55</td>\n",
       "      <td id=\"T_f47b6_row1_col1\" class=\"data row1 col1\" >train, cours, learn, student, level, workshop, class, educ, skill, join</td>\n",
       "      <td id=\"T_f47b6_row1_col2\" class=\"data row1 col2\" >educational institution</td>\n",
       "    </tr>\n",
       "    <tr>\n",
       "      <th id=\"T_f47b6_level0_row2\" class=\"row_heading level0 row2\" >2</th>\n",
       "      <td id=\"T_f47b6_row2_col0\" class=\"data row2 col0\" >41</td>\n",
       "      <td id=\"T_f47b6_row2_col1\" class=\"data row2 col1\" >autom, notari, process, public, technolog, document, industri, read, partner, global</td>\n",
       "      <td id=\"T_f47b6_row2_col2\" class=\"data row2 col2\" >unknown</td>\n",
       "    </tr>\n",
       "    <tr>\n",
       "      <th id=\"T_f47b6_level0_row3\" class=\"row_heading level0 row3\" >3</th>\n",
       "      <td id=\"T_f47b6_row3_col0\" class=\"data row3 col0\" >53</td>\n",
       "      <td id=\"T_f47b6_row3_col1\" class=\"data row3 col1\" >deliveri, boiler, heat, ga, plumb, courier, logist, ship, quot, email</td>\n",
       "      <td id=\"T_f47b6_row3_col2\" class=\"data row3 col2\" >plumbing & heating</td>\n",
       "    </tr>\n",
       "    <tr>\n",
       "      <th id=\"T_f47b6_level0_row4\" class=\"row_heading level0 row4\" >4</th>\n",
       "      <td id=\"T_f47b6_row4_col0\" class=\"data row4 col0\" >27</td>\n",
       "      <td id=\"T_f47b6_row4_col1\" class=\"data row4 col1\" >tune, abarth, car, fiat, vehicl, part, engin, key, merced, audi</td>\n",
       "      <td id=\"T_f47b6_row4_col2\" class=\"data row4 col2\" >vehicule dealer</td>\n",
       "    </tr>\n",
       "    <tr>\n",
       "      <th id=\"T_f47b6_level0_row5\" class=\"row_heading level0 row5\" >5</th>\n",
       "      <td id=\"T_f47b6_row5_col0\" class=\"data row5 col0\" >10</td>\n",
       "      <td id=\"T_f47b6_row5_col1\" class=\"data row5 col1\" >speaker, sensor, power, research, cbd, system, rate, smart, sound, batteri</td>\n",
       "      <td id=\"T_f47b6_row5_col2\" class=\"data row5 col2\" >electronics</td>\n",
       "    </tr>\n",
       "    <tr>\n",
       "      <th id=\"T_f47b6_level0_row6\" class=\"row_heading level0 row6\" >6</th>\n",
       "      <td id=\"T_f47b6_row6_col0\" class=\"data row6 col0\" >30</td>\n",
       "      <td id=\"T_f47b6_row6_col1\" class=\"data row6 col1\" >park, museum, safeti, visit, comput, centr, fit, tour, shirt, yoga</td>\n",
       "      <td id=\"T_f47b6_row6_col2\" class=\"data row6 col2\" >outdoor activities</td>\n",
       "    </tr>\n",
       "    <tr>\n",
       "      <th id=\"T_f47b6_level0_row7\" class=\"row_heading level0 row7\" >7</th>\n",
       "      <td id=\"T_f47b6_row7_col0\" class=\"data row7 col0\" >111</td>\n",
       "      <td id=\"T_f47b6_row7_col1\" class=\"data row7 col1\" >properti, let, home, hous, mortgag, pcm, rent, agent, bedroom, buckinghamshir</td>\n",
       "      <td id=\"T_f47b6_row7_col2\" class=\"data row7 col2\" >real estate & services</td>\n",
       "    </tr>\n",
       "    <tr>\n",
       "      <th id=\"T_f47b6_level0_row8\" class=\"row_heading level0 row8\" >8</th>\n",
       "      <td id=\"T_f47b6_row8_col0\" class=\"data row8 col0\" >24</td>\n",
       "      <td id=\"T_f47b6_row8_col1\" class=\"data row8 col1\" >system, use, applic, thermal, materi, control, comput, univers, led, scienc</td>\n",
       "      <td id=\"T_f47b6_row8_col2\" class=\"data row8 col2\" >engineering</td>\n",
       "    </tr>\n",
       "    <tr>\n",
       "      <th id=\"T_f47b6_level0_row9\" class=\"row_heading level0 row9\" >9</th>\n",
       "      <td id=\"T_f47b6_row9_col0\" class=\"data row9 col0\" >15</td>\n",
       "      <td id=\"T_f47b6_row9_col1\" class=\"data row9 col1\" >travel, book, now, airlin, fli, holiday, flight, bum, pciaw, air</td>\n",
       "      <td id=\"T_f47b6_row9_col2\" class=\"data row9 col2\" >travel agency</td>\n",
       "    </tr>\n",
       "    <tr>\n",
       "      <th id=\"T_f47b6_level0_row10\" class=\"row_heading level0 row10\" >10</th>\n",
       "      <td id=\"T_f47b6_row10_col0\" class=\"data row10 col0\" >138</td>\n",
       "      <td id=\"T_f47b6_row10_col1\" class=\"data row10 col1\" >open, read, peopl, health, covid, use, time, direct, counsel, post</td>\n",
       "      <td id=\"T_f47b6_row10_col2\" class=\"data row10 col2\" >library</td>\n",
       "    </tr>\n",
       "    <tr>\n",
       "      <th id=\"T_f47b6_level0_row11\" class=\"row_heading level0 row11\" >11</th>\n",
       "      <td id=\"T_f47b6_row11_col0\" class=\"data row11 col0\" >13</td>\n",
       "      <td id=\"T_f47b6_row11_col1\" class=\"data row11 col1\" >truck, forklift, steel, conveyor, stainless, pallet, rack, section, warehous, denbigh</td>\n",
       "      <td id=\"T_f47b6_row11_col2\" class=\"data row11 col2\" >handling equipment</td>\n",
       "    </tr>\n",
       "    <tr>\n",
       "      <th id=\"T_f47b6_level0_row12\" class=\"row_heading level0 row12\" >12</th>\n",
       "      <td id=\"T_f47b6_row12_col0\" class=\"data row12 col0\" >40</td>\n",
       "      <td id=\"T_f47b6_row12_col1\" class=\"data row12 col1\" >txm, frame, accessori, decor, furnitur, leather, watch, top, tabl, climb</td>\n",
       "      <td id=\"T_f47b6_row12_col2\" class=\"data row12 col2\" >decoration</td>\n",
       "    </tr>\n",
       "    <tr>\n",
       "      <th id=\"T_f47b6_level0_row13\" class=\"row_heading level0 row13\" >13</th>\n",
       "      <td id=\"T_f47b6_row13_col0\" class=\"data row13 col0\" >82</td>\n",
       "      <td id=\"T_f47b6_row13_col1\" class=\"data row13 col1\" >recommend, thank, great, alway, remov, friendli, time, qualiti, profession, home</td>\n",
       "      <td id=\"T_f47b6_row13_col2\" class=\"data row13 col2\" >unknown</td>\n",
       "    </tr>\n",
       "    <tr>\n",
       "      <th id=\"T_f47b6_level0_row14\" class=\"row_heading level0 row14\" >14</th>\n",
       "      <td id=\"T_f47b6_row14_col0\" class=\"data row14 col0\" >44</td>\n",
       "      <td id=\"T_f47b6_row14_col1\" class=\"data row14 col1\" >fibr, tattoo, treatment, skin, patch, page, cabl, facebook, plu, voir</td>\n",
       "      <td id=\"T_f47b6_row14_col2\" class=\"data row14 col2\" >skincare</td>\n",
       "    </tr>\n",
       "    <tr>\n",
       "      <th id=\"T_f47b6_level0_row15\" class=\"row_heading level0 row15\" >15</th>\n",
       "      <td id=\"T_f47b6_row15_col0\" class=\"data row15 col0\" >148</td>\n",
       "      <td id=\"T_f47b6_row15_col1\" class=\"data row15 col1\" >electr, electrician, safeti, industri, instal, mainten, home, system, engin, commerci</td>\n",
       "      <td id=\"T_f47b6_row15_col2\" class=\"data row15 col2\" >electrical installations & maintenance</td>\n",
       "    </tr>\n",
       "    <tr>\n",
       "      <th id=\"T_f47b6_level0_row16\" class=\"row_heading level0 row16\" >16</th>\n",
       "      <td id=\"T_f47b6_row16_col0\" class=\"data row16 col0\" >15</td>\n",
       "      <td id=\"T_f47b6_row16_col1\" class=\"data row16 col1\" >view, slide, bed, home, previou, next, bathroom, diamond, set, badminton</td>\n",
       "      <td id=\"T_f47b6_row16_col2\" class=\"data row16 col2\" >real estate</td>\n",
       "    </tr>\n",
       "    <tr>\n",
       "      <th id=\"T_f47b6_level0_row17\" class=\"row_heading level0 row17\" >17</th>\n",
       "      <td id=\"T_f47b6_row17_col0\" class=\"data row17 col0\" >58</td>\n",
       "      <td id=\"T_f47b6_row17_col1\" class=\"data row17 col1\" >door, window, roof, price, glass, kitchen, trade, mug, doubl, christma</td>\n",
       "      <td id=\"T_f47b6_row17_col2\" class=\"data row17 col2\" >home design</td>\n",
       "    </tr>\n",
       "    <tr>\n",
       "      <th id=\"T_f47b6_level0_row18\" class=\"row_heading level0 row18\" >18</th>\n",
       "      <td id=\"T_f47b6_row18_col0\" class=\"data row18 col0\" >47</td>\n",
       "      <td id=\"T_f47b6_row18_col1\" class=\"data row18 col1\" >skip, room, hotel, vat, home, wast, space, present, hire, view</td>\n",
       "      <td id=\"T_f47b6_row18_col2\" class=\"data row18 col2\" >hotels</td>\n",
       "    </tr>\n",
       "    <tr>\n",
       "      <th id=\"T_f47b6_level0_row19\" class=\"row_heading level0 row19\" >19</th>\n",
       "      <td id=\"T_f47b6_row19_col0\" class=\"data row19 col0\" >232</td>\n",
       "      <td id=\"T_f47b6_row19_col1\" class=\"data row19 col1\" >account, consult, tax, financi, right, plan, make, home, email, use</td>\n",
       "      <td id=\"T_f47b6_row19_col2\" class=\"data row19 col2\" >accounting and consulting</td>\n",
       "    </tr>\n",
       "    <tr>\n",
       "      <th id=\"T_f47b6_level0_row20\" class=\"row_heading level0 row20\" >20</th>\n",
       "      <td id=\"T_f47b6_row20_col0\" class=\"data row20 col0\" >40</td>\n",
       "      <td id=\"T_f47b6_row20_col1\" class=\"data row20 col1\" >hire, school, home, meet, wavendon, plant, centr, divis, facil, lift</td>\n",
       "      <td id=\"T_f47b6_row20_col2\" class=\"data row20 col2\" >recruitment</td>\n",
       "    </tr>\n",
       "    <tr>\n",
       "      <th id=\"T_f47b6_level0_row21\" class=\"row_heading level0 row21\" >21</th>\n",
       "      <td id=\"T_f47b6_row21_col0\" class=\"data row21 col0\" >68</td>\n",
       "      <td id=\"T_f47b6_row21_col1\" class=\"data row21 col1\" >care, home, treatment, health, beauti, hair, live, donat, visit, patient</td>\n",
       "      <td id=\"T_f47b6_row21_col2\" class=\"data row21 col2\" >beauty & healthcare</td>\n",
       "    </tr>\n",
       "    <tr>\n",
       "      <th id=\"T_f47b6_level0_row22\" class=\"row_heading level0 row22\" >22</th>\n",
       "      <td id=\"T_f47b6_row22_col0\" class=\"data row22 col0\" >39</td>\n",
       "      <td id=\"T_f47b6_row22_col1\" class=\"data row22 col1\" >church, job, commun, centr, regist, saab, healthcar, nurs, doctor, home</td>\n",
       "      <td id=\"T_f47b6_row22_col2\" class=\"data row22 col2\" >community</td>\n",
       "    </tr>\n",
       "    <tr>\n",
       "      <th id=\"T_f47b6_level0_row23\" class=\"row_heading level0 row23\" >23</th>\n",
       "      <td id=\"T_f47b6_row23_col0\" class=\"data row23 col0\" >26</td>\n",
       "      <td id=\"T_f47b6_row23_col1\" class=\"data row23 col1\" >music, elit, structur, leo, nec, email, home, matti, pulvinar, use</td>\n",
       "      <td id=\"T_f47b6_row23_col2\" class=\"data row23 col2\" >unknown</td>\n",
       "    </tr>\n",
       "    <tr>\n",
       "      <th id=\"T_f47b6_level0_row24\" class=\"row_heading level0 row24\" >24</th>\n",
       "      <td id=\"T_f47b6_row24_col0\" class=\"data row24 col0\" >87</td>\n",
       "      <td id=\"T_f47b6_row24_col1\" class=\"data row24 col1\" >children, dog, art, googl, ad, top, grass, onlin, blog, click</td>\n",
       "      <td id=\"T_f47b6_row24_col2\" class=\"data row24 col2\" >pet supplies & care</td>\n",
       "    </tr>\n",
       "    <tr>\n",
       "      <th id=\"T_f47b6_level0_row25\" class=\"row_heading level0 row25\" >25</th>\n",
       "      <td id=\"T_f47b6_row25_col0\" class=\"data row25 col0\" >43</td>\n",
       "      <td id=\"T_f47b6_row25_col1\" class=\"data row25 col1\" >legal, advic, commerci, solicitor, law, employ, construct, partner, properti, privat</td>\n",
       "      <td id=\"T_f47b6_row25_col2\" class=\"data row25 col2\" >legal consulting</td>\n",
       "    </tr>\n",
       "    <tr>\n",
       "      <th id=\"T_f47b6_level0_row26\" class=\"row_heading level0 row26\" >26</th>\n",
       "      <td id=\"T_f47b6_row26_col0\" class=\"data row26 col0\" >37</td>\n",
       "      <td id=\"T_f47b6_row26_col1\" class=\"data row26 col1\" >clean, floor, carpet, massag, cleaner, blind, commerci, belvoir, treatment, bodi</td>\n",
       "      <td id=\"T_f47b6_row26_col2\" class=\"data row26 col2\" >property maintenance, development, decoration</td>\n",
       "    </tr>\n",
       "    <tr>\n",
       "      <th id=\"T_f47b6_level0_row27\" class=\"row_heading level0 row27\" >27</th>\n",
       "      <td id=\"T_f47b6_row27_col0\" class=\"data row27 col0\" >121</td>\n",
       "      <td id=\"T_f47b6_row27_col1\" class=\"data row27 col1\" >cooki, use, store, necessari, function, set, consent, inform, polici, privaci</td>\n",
       "      <td id=\"T_f47b6_row27_col2\" class=\"data row27 col2\" >web security</td>\n",
       "    </tr>\n",
       "    <tr>\n",
       "      <th id=\"T_f47b6_level0_row28\" class=\"row_heading level0 row28\" >28</th>\n",
       "      <td id=\"T_f47b6_row28_col0\" class=\"data row28 col0\" >15</td>\n",
       "      <td id=\"T_f47b6_row28_col1\" class=\"data row28 col1\" >add, cart, view, oil, price, login, list, incens, pleas, wish</td>\n",
       "      <td id=\"T_f47b6_row28_col2\" class=\"data row28 col2\" >unknown</td>\n",
       "    </tr>\n",
       "    <tr>\n",
       "      <th id=\"T_f47b6_level0_row29\" class=\"row_heading level0 row29\" >29</th>\n",
       "      <td id=\"T_f47b6_row29_col0\" class=\"data row29 col0\" >42</td>\n",
       "      <td id=\"T_f47b6_row29_col1\" class=\"data row29 col1\" >gift, wed, home, love, set, wax, care, beauti, walnut, dress</td>\n",
       "      <td id=\"T_f47b6_row29_col2\" class=\"data row29 col2\" >beauty</td>\n",
       "    </tr>\n",
       "    <tr>\n",
       "      <th id=\"T_f47b6_level0_row30\" class=\"row_heading level0 row30\" >30</th>\n",
       "      <td id=\"T_f47b6_row30_col0\" class=\"data row30 col0\" >128</td>\n",
       "      <td id=\"T_f47b6_row30_col1\" class=\"data row30 col1\" >car, vehicl, book, repair, price, insur, make, mot, free, check</td>\n",
       "      <td id=\"T_f47b6_row30_col2\" class=\"data row30 col2\" >vehicule support</td>\n",
       "    </tr>\n",
       "    <tr>\n",
       "      <th id=\"T_f47b6_level0_row31\" class=\"row_heading level0 row31\" >31</th>\n",
       "      <td id=\"T_f47b6_row31_col0\" class=\"data row31 col0\" >15</td>\n",
       "      <td id=\"T_f47b6_row31_col1\" class=\"data row31 col1\" >fit, bodi, train, andi, class, total, sport, trainer, membership, metabol</td>\n",
       "      <td id=\"T_f47b6_row31_col2\" class=\"data row31 col2\" >sports club</td>\n",
       "    </tr>\n",
       "    <tr>\n",
       "      <th id=\"T_f47b6_level0_row32\" class=\"row_heading level0 row32\" >32</th>\n",
       "      <td id=\"T_f47b6_row32_col0\" class=\"data row32 col0\" >15</td>\n",
       "      <td id=\"T_f47b6_row32_col1\" class=\"data row32 col1\" >vacuum, coffe, pump, cup, spare, machin, valv, filter, special, print</td>\n",
       "      <td id=\"T_f47b6_row32_col2\" class=\"data row32 col2\" >specialised equipment</td>\n",
       "    </tr>\n",
       "    <tr>\n",
       "      <th id=\"T_f47b6_level0_row33\" class=\"row_heading level0 row33\" >33</th>\n",
       "      <td id=\"T_f47b6_row33_col0\" class=\"data row33 col0\" >72</td>\n",
       "      <td id=\"T_f47b6_row33_col1\" class=\"data row33 col1\" >menu, food, order, tea, book, restaur, street, drink, park, pleas</td>\n",
       "      <td id=\"T_f47b6_row33_col2\" class=\"data row33 col2\" >restaurants</td>\n",
       "    </tr>\n",
       "    <tr>\n",
       "      <th id=\"T_f47b6_level0_row34\" class=\"row_heading level0 row34\" >34</th>\n",
       "      <td id=\"T_f47b6_row34_col0\" class=\"data row34 col0\" >97</td>\n",
       "      <td id=\"T_f47b6_row34_col1\" class=\"data row34 col1\" >system, engin, web, secur, print, high, inspect, industri, brand, control</td>\n",
       "      <td id=\"T_f47b6_row34_col2\" class=\"data row34 col2\" >computer and data processing services</td>\n",
       "    </tr>\n",
       "    <tr>\n",
       "      <th id=\"T_f47b6_level0_row35\" class=\"row_heading level0 row35\" >35</th>\n",
       "      <td id=\"T_f47b6_row35_col0\" class=\"data row35 col0\" >23</td>\n",
       "      <td id=\"T_f47b6_row35_col1\" class=\"data row35 col1\" >data, inform, person, use, may, parti, privaci, third, collect, process</td>\n",
       "      <td id=\"T_f47b6_row35_col2\" class=\"data row35 col2\" >web security</td>\n",
       "    </tr>\n",
       "  </tbody>\n",
       "</table>\n"
      ],
      "text/plain": [
       "<pandas.io.formats.style.Styler at 0x7fc78efa80d0>"
      ]
     },
     "execution_count": 329,
     "metadata": {},
     "output_type": "execute_result"
    }
   ],
   "source": [
    "results = pd.DataFrame()\n",
    "results[\"Number of documents\"] = None\n",
    "results[\"Number of documents\"] = None\n",
    "\n",
    "liste = re.findall(r'\"(.*?)\"', ch)\n",
    "liste\n",
    "for i in range(36):\n",
    "    x = liste[i * 10 : i * 10 + 10]\n",
    "    w = \", \".join(x)\n",
    "    results.loc[i, \"Terms\"] = w\n",
    "    results.loc[i, \"Number of documents\"] = counts[i]\n",
    "\n",
    "results_with_label.style.set_properties(subset=[\"Terms\"], **{\"width\": \"450px\"})"
   ]
  },
  {
   "cell_type": "code",
   "execution_count": 320,
   "metadata": {},
   "outputs": [],
   "source": [
    "# results.to_excel('/Users/cordiez/Documents/CompaniesHouse/OutputFiles/lda_36_topics.xls')"
   ]
  },
  {
   "cell_type": "code",
   "execution_count": 328,
   "metadata": {},
   "outputs": [],
   "source": [
    "results_with_label = pd.read_excel(\n",
    "    \"/Users/cordiez/Documents/CompaniesHouse/OutputFiles/lda_36_topics.xls\", index_col=0\n",
    ")"
   ]
  },
  {
   "cell_type": "markdown",
   "metadata": {},
   "source": [
    "## Other attempt"
   ]
  },
  {
   "cell_type": "code",
   "execution_count": 251,
   "metadata": {},
   "outputs": [
    {
     "name": "stdout",
     "output_type": "stream",
     "text": [
      "1\n",
      "0.33406803029773907\n",
      "2\n",
      "0.29685359854169996\n",
      "3\n",
      "0.2880296569101482\n",
      "4\n",
      "0.2825036442270326\n",
      "5\n",
      "0.3205585129167157\n",
      "6\n",
      "0.32235845243656513\n",
      "7\n",
      "0.3139779853118898\n",
      "8\n",
      "0.3052180979982194\n",
      "9\n",
      "0.3198336030525818\n",
      "10\n",
      "0.3214069615212848\n",
      "11\n",
      "0.36069890879634453\n",
      "12\n",
      "0.35000402415824805\n",
      "13\n",
      "0.3288600786533149\n",
      "14\n",
      "0.33266406492309564\n",
      "15\n",
      "0.35589705652128883\n",
      "16\n",
      "0.34431568946886426\n",
      "17\n",
      "0.3600652505826427\n",
      "18\n",
      "0.36502971831756365\n",
      "19\n",
      "0.3529122487410385\n",
      "20\n",
      "0.36079233422575746\n",
      "21\n",
      "0.3101061268498961\n",
      "22\n",
      "0.36771830296691893\n",
      "23\n",
      "0.352197730384222\n",
      "24\n",
      "0.37208447129863\n",
      "25\n",
      "0.379840006066778\n",
      "26\n",
      "0.3674522551789098\n",
      "27\n",
      "0.36367728877964633\n",
      "28\n",
      "0.33582380783706406\n",
      "29\n",
      "0.3567529013781576\n",
      "30\n",
      "0.36203382975601334\n",
      "31\n",
      "0.3649204140177195\n",
      "32\n",
      "0.3769534392648437\n",
      "33\n",
      "0.3694322311284342\n",
      "34\n",
      "0.35014821004850494\n",
      "35\n",
      "0.3398566845448563\n",
      "36\n",
      "0.3784221905672801\n",
      "37\n",
      "0.3847589697175918\n",
      "38\n",
      "0.3862000285833136\n",
      "39\n",
      "0.3942901164092443\n",
      "40\n",
      "0.36018830272180863\n",
      "41\n",
      "0.3546898345715532\n",
      "42\n",
      "0.3661203308455221\n",
      "43\n",
      "0.3546078258813018\n",
      "44\n",
      "0.3851557195714665\n",
      "45\n",
      "0.40027509534332195\n",
      "46\n",
      "0.3779670090894306\n",
      "47\n",
      "0.32812671197222903\n",
      "48\n",
      "0.3895561047765406\n",
      "49\n",
      "0.36732134345463446\n"
     ]
    }
   ],
   "source": [
    "x_ = []\n",
    "y_ = []\n",
    "\n",
    "for k in range(1, 50):\n",
    "    print(k)\n",
    "    lda_model = gensim.models.ldamodel.LdaModel(\n",
    "        corpus=corpus,\n",
    "        id2word=id2word,\n",
    "        num_topics=k,\n",
    "        passes=10,\n",
    "        alpha=\"auto\",\n",
    "        per_word_topics=True,\n",
    "    )\n",
    "\n",
    "    cm = coherence_model_lda = CoherenceModel(\n",
    "        model=lda_model, texts=data_lemmatized, dictionary=id2word, coherence=\"c_v\"\n",
    "    )\n",
    "\n",
    "    coherence = cm.get_coherence()\n",
    "    print(coherence)\n",
    "    x_.append(k)\n",
    "    y_.append(coherence)"
   ]
  },
  {
   "cell_type": "code",
   "execution_count": 254,
   "metadata": {},
   "outputs": [
    {
     "data": {
      "application/vnd.plotly.v1+json": {
       "config": {
        "plotlyServerURL": "https://plot.ly"
       },
       "data": [
        {
         "hovertemplate": "Number of topics=%{x}<br>Topic Coherence Score=%{y}<extra></extra>",
         "legendgroup": "",
         "line": {
          "color": "#636efa",
          "dash": "solid"
         },
         "mode": "lines",
         "name": "",
         "orientation": "v",
         "showlegend": false,
         "type": "scatter",
         "x": [
          1,
          2,
          3,
          4,
          5,
          6,
          7,
          8,
          9,
          10,
          11,
          12,
          13,
          14,
          15,
          16,
          17,
          18,
          19,
          20,
          21,
          22,
          23,
          24,
          25,
          26,
          27,
          28,
          29,
          30,
          31,
          32,
          33,
          34,
          35,
          36,
          37,
          38,
          39,
          40,
          41,
          42,
          43,
          44,
          45,
          46,
          47,
          48,
          49
         ],
         "xaxis": "x",
         "y": [
          0.33406803029773907,
          0.29685359854169996,
          0.2880296569101482,
          0.2825036442270326,
          0.3205585129167157,
          0.32235845243656513,
          0.3139779853118898,
          0.3052180979982194,
          0.3198336030525818,
          0.3214069615212848,
          0.36069890879634453,
          0.35000402415824805,
          0.3288600786533149,
          0.33266406492309564,
          0.35589705652128883,
          0.34431568946886426,
          0.3600652505826427,
          0.36502971831756365,
          0.3529122487410385,
          0.36079233422575746,
          0.3101061268498961,
          0.36771830296691893,
          0.352197730384222,
          0.37208447129863,
          0.379840006066778,
          0.3674522551789098,
          0.36367728877964633,
          0.33582380783706406,
          0.3567529013781576,
          0.36203382975601334,
          0.3649204140177195,
          0.3769534392648437,
          0.3694322311284342,
          0.35014821004850494,
          0.3398566845448563,
          0.3784221905672801,
          0.3847589697175918,
          0.3862000285833136,
          0.3942901164092443,
          0.36018830272180863,
          0.3546898345715532,
          0.3661203308455221,
          0.3546078258813018,
          0.3851557195714665,
          0.40027509534332195,
          0.3779670090894306,
          0.32812671197222903,
          0.3895561047765406,
          0.36732134345463446
         ],
         "yaxis": "y"
        }
       ],
       "layout": {
        "legend": {
         "tracegroupgap": 0
        },
        "margin": {
         "t": 60
        },
        "template": {
         "data": {
          "bar": [
           {
            "error_x": {
             "color": "#2a3f5f"
            },
            "error_y": {
             "color": "#2a3f5f"
            },
            "marker": {
             "line": {
              "color": "#E5ECF6",
              "width": 0.5
             }
            },
            "type": "bar"
           }
          ],
          "barpolar": [
           {
            "marker": {
             "line": {
              "color": "#E5ECF6",
              "width": 0.5
             }
            },
            "type": "barpolar"
           }
          ],
          "carpet": [
           {
            "aaxis": {
             "endlinecolor": "#2a3f5f",
             "gridcolor": "white",
             "linecolor": "white",
             "minorgridcolor": "white",
             "startlinecolor": "#2a3f5f"
            },
            "baxis": {
             "endlinecolor": "#2a3f5f",
             "gridcolor": "white",
             "linecolor": "white",
             "minorgridcolor": "white",
             "startlinecolor": "#2a3f5f"
            },
            "type": "carpet"
           }
          ],
          "choropleth": [
           {
            "colorbar": {
             "outlinewidth": 0,
             "ticks": ""
            },
            "type": "choropleth"
           }
          ],
          "contour": [
           {
            "colorbar": {
             "outlinewidth": 0,
             "ticks": ""
            },
            "colorscale": [
             [
              0,
              "#0d0887"
             ],
             [
              0.1111111111111111,
              "#46039f"
             ],
             [
              0.2222222222222222,
              "#7201a8"
             ],
             [
              0.3333333333333333,
              "#9c179e"
             ],
             [
              0.4444444444444444,
              "#bd3786"
             ],
             [
              0.5555555555555556,
              "#d8576b"
             ],
             [
              0.6666666666666666,
              "#ed7953"
             ],
             [
              0.7777777777777778,
              "#fb9f3a"
             ],
             [
              0.8888888888888888,
              "#fdca26"
             ],
             [
              1,
              "#f0f921"
             ]
            ],
            "type": "contour"
           }
          ],
          "contourcarpet": [
           {
            "colorbar": {
             "outlinewidth": 0,
             "ticks": ""
            },
            "type": "contourcarpet"
           }
          ],
          "heatmap": [
           {
            "colorbar": {
             "outlinewidth": 0,
             "ticks": ""
            },
            "colorscale": [
             [
              0,
              "#0d0887"
             ],
             [
              0.1111111111111111,
              "#46039f"
             ],
             [
              0.2222222222222222,
              "#7201a8"
             ],
             [
              0.3333333333333333,
              "#9c179e"
             ],
             [
              0.4444444444444444,
              "#bd3786"
             ],
             [
              0.5555555555555556,
              "#d8576b"
             ],
             [
              0.6666666666666666,
              "#ed7953"
             ],
             [
              0.7777777777777778,
              "#fb9f3a"
             ],
             [
              0.8888888888888888,
              "#fdca26"
             ],
             [
              1,
              "#f0f921"
             ]
            ],
            "type": "heatmap"
           }
          ],
          "heatmapgl": [
           {
            "colorbar": {
             "outlinewidth": 0,
             "ticks": ""
            },
            "colorscale": [
             [
              0,
              "#0d0887"
             ],
             [
              0.1111111111111111,
              "#46039f"
             ],
             [
              0.2222222222222222,
              "#7201a8"
             ],
             [
              0.3333333333333333,
              "#9c179e"
             ],
             [
              0.4444444444444444,
              "#bd3786"
             ],
             [
              0.5555555555555556,
              "#d8576b"
             ],
             [
              0.6666666666666666,
              "#ed7953"
             ],
             [
              0.7777777777777778,
              "#fb9f3a"
             ],
             [
              0.8888888888888888,
              "#fdca26"
             ],
             [
              1,
              "#f0f921"
             ]
            ],
            "type": "heatmapgl"
           }
          ],
          "histogram": [
           {
            "marker": {
             "colorbar": {
              "outlinewidth": 0,
              "ticks": ""
             }
            },
            "type": "histogram"
           }
          ],
          "histogram2d": [
           {
            "colorbar": {
             "outlinewidth": 0,
             "ticks": ""
            },
            "colorscale": [
             [
              0,
              "#0d0887"
             ],
             [
              0.1111111111111111,
              "#46039f"
             ],
             [
              0.2222222222222222,
              "#7201a8"
             ],
             [
              0.3333333333333333,
              "#9c179e"
             ],
             [
              0.4444444444444444,
              "#bd3786"
             ],
             [
              0.5555555555555556,
              "#d8576b"
             ],
             [
              0.6666666666666666,
              "#ed7953"
             ],
             [
              0.7777777777777778,
              "#fb9f3a"
             ],
             [
              0.8888888888888888,
              "#fdca26"
             ],
             [
              1,
              "#f0f921"
             ]
            ],
            "type": "histogram2d"
           }
          ],
          "histogram2dcontour": [
           {
            "colorbar": {
             "outlinewidth": 0,
             "ticks": ""
            },
            "colorscale": [
             [
              0,
              "#0d0887"
             ],
             [
              0.1111111111111111,
              "#46039f"
             ],
             [
              0.2222222222222222,
              "#7201a8"
             ],
             [
              0.3333333333333333,
              "#9c179e"
             ],
             [
              0.4444444444444444,
              "#bd3786"
             ],
             [
              0.5555555555555556,
              "#d8576b"
             ],
             [
              0.6666666666666666,
              "#ed7953"
             ],
             [
              0.7777777777777778,
              "#fb9f3a"
             ],
             [
              0.8888888888888888,
              "#fdca26"
             ],
             [
              1,
              "#f0f921"
             ]
            ],
            "type": "histogram2dcontour"
           }
          ],
          "mesh3d": [
           {
            "colorbar": {
             "outlinewidth": 0,
             "ticks": ""
            },
            "type": "mesh3d"
           }
          ],
          "parcoords": [
           {
            "line": {
             "colorbar": {
              "outlinewidth": 0,
              "ticks": ""
             }
            },
            "type": "parcoords"
           }
          ],
          "pie": [
           {
            "automargin": true,
            "type": "pie"
           }
          ],
          "scatter": [
           {
            "marker": {
             "colorbar": {
              "outlinewidth": 0,
              "ticks": ""
             }
            },
            "type": "scatter"
           }
          ],
          "scatter3d": [
           {
            "line": {
             "colorbar": {
              "outlinewidth": 0,
              "ticks": ""
             }
            },
            "marker": {
             "colorbar": {
              "outlinewidth": 0,
              "ticks": ""
             }
            },
            "type": "scatter3d"
           }
          ],
          "scattercarpet": [
           {
            "marker": {
             "colorbar": {
              "outlinewidth": 0,
              "ticks": ""
             }
            },
            "type": "scattercarpet"
           }
          ],
          "scattergeo": [
           {
            "marker": {
             "colorbar": {
              "outlinewidth": 0,
              "ticks": ""
             }
            },
            "type": "scattergeo"
           }
          ],
          "scattergl": [
           {
            "marker": {
             "colorbar": {
              "outlinewidth": 0,
              "ticks": ""
             }
            },
            "type": "scattergl"
           }
          ],
          "scattermapbox": [
           {
            "marker": {
             "colorbar": {
              "outlinewidth": 0,
              "ticks": ""
             }
            },
            "type": "scattermapbox"
           }
          ],
          "scatterpolar": [
           {
            "marker": {
             "colorbar": {
              "outlinewidth": 0,
              "ticks": ""
             }
            },
            "type": "scatterpolar"
           }
          ],
          "scatterpolargl": [
           {
            "marker": {
             "colorbar": {
              "outlinewidth": 0,
              "ticks": ""
             }
            },
            "type": "scatterpolargl"
           }
          ],
          "scatterternary": [
           {
            "marker": {
             "colorbar": {
              "outlinewidth": 0,
              "ticks": ""
             }
            },
            "type": "scatterternary"
           }
          ],
          "surface": [
           {
            "colorbar": {
             "outlinewidth": 0,
             "ticks": ""
            },
            "colorscale": [
             [
              0,
              "#0d0887"
             ],
             [
              0.1111111111111111,
              "#46039f"
             ],
             [
              0.2222222222222222,
              "#7201a8"
             ],
             [
              0.3333333333333333,
              "#9c179e"
             ],
             [
              0.4444444444444444,
              "#bd3786"
             ],
             [
              0.5555555555555556,
              "#d8576b"
             ],
             [
              0.6666666666666666,
              "#ed7953"
             ],
             [
              0.7777777777777778,
              "#fb9f3a"
             ],
             [
              0.8888888888888888,
              "#fdca26"
             ],
             [
              1,
              "#f0f921"
             ]
            ],
            "type": "surface"
           }
          ],
          "table": [
           {
            "cells": {
             "fill": {
              "color": "#EBF0F8"
             },
             "line": {
              "color": "white"
             }
            },
            "header": {
             "fill": {
              "color": "#C8D4E3"
             },
             "line": {
              "color": "white"
             }
            },
            "type": "table"
           }
          ]
         },
         "layout": {
          "annotationdefaults": {
           "arrowcolor": "#2a3f5f",
           "arrowhead": 0,
           "arrowwidth": 1
          },
          "coloraxis": {
           "colorbar": {
            "outlinewidth": 0,
            "ticks": ""
           }
          },
          "colorscale": {
           "diverging": [
            [
             0,
             "#8e0152"
            ],
            [
             0.1,
             "#c51b7d"
            ],
            [
             0.2,
             "#de77ae"
            ],
            [
             0.3,
             "#f1b6da"
            ],
            [
             0.4,
             "#fde0ef"
            ],
            [
             0.5,
             "#f7f7f7"
            ],
            [
             0.6,
             "#e6f5d0"
            ],
            [
             0.7,
             "#b8e186"
            ],
            [
             0.8,
             "#7fbc41"
            ],
            [
             0.9,
             "#4d9221"
            ],
            [
             1,
             "#276419"
            ]
           ],
           "sequential": [
            [
             0,
             "#0d0887"
            ],
            [
             0.1111111111111111,
             "#46039f"
            ],
            [
             0.2222222222222222,
             "#7201a8"
            ],
            [
             0.3333333333333333,
             "#9c179e"
            ],
            [
             0.4444444444444444,
             "#bd3786"
            ],
            [
             0.5555555555555556,
             "#d8576b"
            ],
            [
             0.6666666666666666,
             "#ed7953"
            ],
            [
             0.7777777777777778,
             "#fb9f3a"
            ],
            [
             0.8888888888888888,
             "#fdca26"
            ],
            [
             1,
             "#f0f921"
            ]
           ],
           "sequentialminus": [
            [
             0,
             "#0d0887"
            ],
            [
             0.1111111111111111,
             "#46039f"
            ],
            [
             0.2222222222222222,
             "#7201a8"
            ],
            [
             0.3333333333333333,
             "#9c179e"
            ],
            [
             0.4444444444444444,
             "#bd3786"
            ],
            [
             0.5555555555555556,
             "#d8576b"
            ],
            [
             0.6666666666666666,
             "#ed7953"
            ],
            [
             0.7777777777777778,
             "#fb9f3a"
            ],
            [
             0.8888888888888888,
             "#fdca26"
            ],
            [
             1,
             "#f0f921"
            ]
           ]
          },
          "colorway": [
           "#636efa",
           "#EF553B",
           "#00cc96",
           "#ab63fa",
           "#FFA15A",
           "#19d3f3",
           "#FF6692",
           "#B6E880",
           "#FF97FF",
           "#FECB52"
          ],
          "font": {
           "color": "#2a3f5f"
          },
          "geo": {
           "bgcolor": "white",
           "lakecolor": "white",
           "landcolor": "#E5ECF6",
           "showlakes": true,
           "showland": true,
           "subunitcolor": "white"
          },
          "hoverlabel": {
           "align": "left"
          },
          "hovermode": "closest",
          "mapbox": {
           "style": "light"
          },
          "paper_bgcolor": "white",
          "plot_bgcolor": "#E5ECF6",
          "polar": {
           "angularaxis": {
            "gridcolor": "white",
            "linecolor": "white",
            "ticks": ""
           },
           "bgcolor": "#E5ECF6",
           "radialaxis": {
            "gridcolor": "white",
            "linecolor": "white",
            "ticks": ""
           }
          },
          "scene": {
           "xaxis": {
            "backgroundcolor": "#E5ECF6",
            "gridcolor": "white",
            "gridwidth": 2,
            "linecolor": "white",
            "showbackground": true,
            "ticks": "",
            "zerolinecolor": "white"
           },
           "yaxis": {
            "backgroundcolor": "#E5ECF6",
            "gridcolor": "white",
            "gridwidth": 2,
            "linecolor": "white",
            "showbackground": true,
            "ticks": "",
            "zerolinecolor": "white"
           },
           "zaxis": {
            "backgroundcolor": "#E5ECF6",
            "gridcolor": "white",
            "gridwidth": 2,
            "linecolor": "white",
            "showbackground": true,
            "ticks": "",
            "zerolinecolor": "white"
           }
          },
          "shapedefaults": {
           "line": {
            "color": "#2a3f5f"
           }
          },
          "ternary": {
           "aaxis": {
            "gridcolor": "white",
            "linecolor": "white",
            "ticks": ""
           },
           "baxis": {
            "gridcolor": "white",
            "linecolor": "white",
            "ticks": ""
           },
           "bgcolor": "#E5ECF6",
           "caxis": {
            "gridcolor": "white",
            "linecolor": "white",
            "ticks": ""
           }
          },
          "title": {
           "x": 0.05
          },
          "xaxis": {
           "automargin": true,
           "gridcolor": "white",
           "linecolor": "white",
           "ticks": "",
           "title": {
            "standoff": 15
           },
           "zerolinecolor": "white",
           "zerolinewidth": 2
          },
          "yaxis": {
           "automargin": true,
           "gridcolor": "white",
           "linecolor": "white",
           "ticks": "",
           "title": {
            "standoff": 15
           },
           "zerolinecolor": "white",
           "zerolinewidth": 2
          }
         }
        },
        "xaxis": {
         "anchor": "y",
         "domain": [
          0,
          1
         ],
         "title": {
          "text": "Number of topics"
         }
        },
        "yaxis": {
         "anchor": "x",
         "domain": [
          0,
          1
         ],
         "title": {
          "text": "Topic Coherence Score"
         }
        }
       }
      },
      "text/html": [
       "<div>                            <div id=\"d7da6892-befe-4d02-a9bc-8c19e98b7f3b\" class=\"plotly-graph-div\" style=\"height:525px; width:100%;\"></div>            <script type=\"text/javascript\">                require([\"plotly\"], function(Plotly) {                    window.PLOTLYENV=window.PLOTLYENV || {};                                    if (document.getElementById(\"d7da6892-befe-4d02-a9bc-8c19e98b7f3b\")) {                    Plotly.newPlot(                        \"d7da6892-befe-4d02-a9bc-8c19e98b7f3b\",                        [{\"hovertemplate\": \"Number of topics=%{x}<br>Topic Coherence Score=%{y}<extra></extra>\", \"legendgroup\": \"\", \"line\": {\"color\": \"#636efa\", \"dash\": \"solid\"}, \"mode\": \"lines\", \"name\": \"\", \"orientation\": \"v\", \"showlegend\": false, \"type\": \"scatter\", \"x\": [1, 2, 3, 4, 5, 6, 7, 8, 9, 10, 11, 12, 13, 14, 15, 16, 17, 18, 19, 20, 21, 22, 23, 24, 25, 26, 27, 28, 29, 30, 31, 32, 33, 34, 35, 36, 37, 38, 39, 40, 41, 42, 43, 44, 45, 46, 47, 48, 49], \"xaxis\": \"x\", \"y\": [0.33406803029773907, 0.29685359854169996, 0.2880296569101482, 0.2825036442270326, 0.3205585129167157, 0.32235845243656513, 0.3139779853118898, 0.3052180979982194, 0.3198336030525818, 0.3214069615212848, 0.36069890879634453, 0.35000402415824805, 0.3288600786533149, 0.33266406492309564, 0.35589705652128883, 0.34431568946886426, 0.3600652505826427, 0.36502971831756365, 0.3529122487410385, 0.36079233422575746, 0.3101061268498961, 0.36771830296691893, 0.352197730384222, 0.37208447129863, 0.379840006066778, 0.3674522551789098, 0.36367728877964633, 0.33582380783706406, 0.3567529013781576, 0.36203382975601334, 0.3649204140177195, 0.3769534392648437, 0.3694322311284342, 0.35014821004850494, 0.3398566845448563, 0.3784221905672801, 0.3847589697175918, 0.3862000285833136, 0.3942901164092443, 0.36018830272180863, 0.3546898345715532, 0.3661203308455221, 0.3546078258813018, 0.3851557195714665, 0.40027509534332195, 0.3779670090894306, 0.32812671197222903, 0.3895561047765406, 0.36732134345463446], \"yaxis\": \"y\"}],                        {\"legend\": {\"tracegroupgap\": 0}, \"margin\": {\"t\": 60}, \"template\": {\"data\": {\"bar\": [{\"error_x\": {\"color\": \"#2a3f5f\"}, \"error_y\": {\"color\": \"#2a3f5f\"}, \"marker\": {\"line\": {\"color\": \"#E5ECF6\", \"width\": 0.5}}, \"type\": \"bar\"}], \"barpolar\": [{\"marker\": {\"line\": {\"color\": \"#E5ECF6\", \"width\": 0.5}}, \"type\": \"barpolar\"}], \"carpet\": [{\"aaxis\": {\"endlinecolor\": \"#2a3f5f\", \"gridcolor\": \"white\", \"linecolor\": \"white\", \"minorgridcolor\": \"white\", \"startlinecolor\": \"#2a3f5f\"}, \"baxis\": {\"endlinecolor\": \"#2a3f5f\", \"gridcolor\": \"white\", \"linecolor\": \"white\", \"minorgridcolor\": \"white\", \"startlinecolor\": \"#2a3f5f\"}, \"type\": \"carpet\"}], \"choropleth\": [{\"colorbar\": {\"outlinewidth\": 0, \"ticks\": \"\"}, \"type\": \"choropleth\"}], \"contour\": [{\"colorbar\": {\"outlinewidth\": 0, \"ticks\": \"\"}, \"colorscale\": [[0.0, \"#0d0887\"], [0.1111111111111111, \"#46039f\"], [0.2222222222222222, \"#7201a8\"], [0.3333333333333333, \"#9c179e\"], [0.4444444444444444, \"#bd3786\"], [0.5555555555555556, \"#d8576b\"], [0.6666666666666666, \"#ed7953\"], [0.7777777777777778, \"#fb9f3a\"], [0.8888888888888888, \"#fdca26\"], [1.0, \"#f0f921\"]], \"type\": \"contour\"}], \"contourcarpet\": [{\"colorbar\": {\"outlinewidth\": 0, \"ticks\": \"\"}, \"type\": \"contourcarpet\"}], \"heatmap\": [{\"colorbar\": {\"outlinewidth\": 0, \"ticks\": \"\"}, \"colorscale\": [[0.0, \"#0d0887\"], [0.1111111111111111, \"#46039f\"], [0.2222222222222222, \"#7201a8\"], [0.3333333333333333, \"#9c179e\"], [0.4444444444444444, \"#bd3786\"], [0.5555555555555556, \"#d8576b\"], [0.6666666666666666, \"#ed7953\"], [0.7777777777777778, \"#fb9f3a\"], [0.8888888888888888, \"#fdca26\"], [1.0, \"#f0f921\"]], \"type\": \"heatmap\"}], \"heatmapgl\": [{\"colorbar\": {\"outlinewidth\": 0, \"ticks\": \"\"}, \"colorscale\": [[0.0, \"#0d0887\"], [0.1111111111111111, \"#46039f\"], [0.2222222222222222, \"#7201a8\"], [0.3333333333333333, \"#9c179e\"], [0.4444444444444444, \"#bd3786\"], [0.5555555555555556, \"#d8576b\"], [0.6666666666666666, \"#ed7953\"], [0.7777777777777778, \"#fb9f3a\"], [0.8888888888888888, \"#fdca26\"], [1.0, \"#f0f921\"]], \"type\": \"heatmapgl\"}], \"histogram\": [{\"marker\": {\"colorbar\": {\"outlinewidth\": 0, \"ticks\": \"\"}}, \"type\": \"histogram\"}], \"histogram2d\": [{\"colorbar\": {\"outlinewidth\": 0, \"ticks\": \"\"}, \"colorscale\": [[0.0, \"#0d0887\"], [0.1111111111111111, \"#46039f\"], [0.2222222222222222, \"#7201a8\"], [0.3333333333333333, \"#9c179e\"], [0.4444444444444444, \"#bd3786\"], [0.5555555555555556, \"#d8576b\"], [0.6666666666666666, \"#ed7953\"], [0.7777777777777778, \"#fb9f3a\"], [0.8888888888888888, \"#fdca26\"], [1.0, \"#f0f921\"]], \"type\": \"histogram2d\"}], \"histogram2dcontour\": [{\"colorbar\": {\"outlinewidth\": 0, \"ticks\": \"\"}, \"colorscale\": [[0.0, \"#0d0887\"], [0.1111111111111111, \"#46039f\"], [0.2222222222222222, \"#7201a8\"], [0.3333333333333333, \"#9c179e\"], [0.4444444444444444, \"#bd3786\"], [0.5555555555555556, \"#d8576b\"], [0.6666666666666666, \"#ed7953\"], [0.7777777777777778, \"#fb9f3a\"], [0.8888888888888888, \"#fdca26\"], [1.0, \"#f0f921\"]], \"type\": \"histogram2dcontour\"}], \"mesh3d\": [{\"colorbar\": {\"outlinewidth\": 0, \"ticks\": \"\"}, \"type\": \"mesh3d\"}], \"parcoords\": [{\"line\": {\"colorbar\": {\"outlinewidth\": 0, \"ticks\": \"\"}}, \"type\": \"parcoords\"}], \"pie\": [{\"automargin\": true, \"type\": \"pie\"}], \"scatter\": [{\"marker\": {\"colorbar\": {\"outlinewidth\": 0, \"ticks\": \"\"}}, \"type\": \"scatter\"}], \"scatter3d\": [{\"line\": {\"colorbar\": {\"outlinewidth\": 0, \"ticks\": \"\"}}, \"marker\": {\"colorbar\": {\"outlinewidth\": 0, \"ticks\": \"\"}}, \"type\": \"scatter3d\"}], \"scattercarpet\": [{\"marker\": {\"colorbar\": {\"outlinewidth\": 0, \"ticks\": \"\"}}, \"type\": \"scattercarpet\"}], \"scattergeo\": [{\"marker\": {\"colorbar\": {\"outlinewidth\": 0, \"ticks\": \"\"}}, \"type\": \"scattergeo\"}], \"scattergl\": [{\"marker\": {\"colorbar\": {\"outlinewidth\": 0, \"ticks\": \"\"}}, \"type\": \"scattergl\"}], \"scattermapbox\": [{\"marker\": {\"colorbar\": {\"outlinewidth\": 0, \"ticks\": \"\"}}, \"type\": \"scattermapbox\"}], \"scatterpolar\": [{\"marker\": {\"colorbar\": {\"outlinewidth\": 0, \"ticks\": \"\"}}, \"type\": \"scatterpolar\"}], \"scatterpolargl\": [{\"marker\": {\"colorbar\": {\"outlinewidth\": 0, \"ticks\": \"\"}}, \"type\": \"scatterpolargl\"}], \"scatterternary\": [{\"marker\": {\"colorbar\": {\"outlinewidth\": 0, \"ticks\": \"\"}}, \"type\": \"scatterternary\"}], \"surface\": [{\"colorbar\": {\"outlinewidth\": 0, \"ticks\": \"\"}, \"colorscale\": [[0.0, \"#0d0887\"], [0.1111111111111111, \"#46039f\"], [0.2222222222222222, \"#7201a8\"], [0.3333333333333333, \"#9c179e\"], [0.4444444444444444, \"#bd3786\"], [0.5555555555555556, \"#d8576b\"], [0.6666666666666666, \"#ed7953\"], [0.7777777777777778, \"#fb9f3a\"], [0.8888888888888888, \"#fdca26\"], [1.0, \"#f0f921\"]], \"type\": \"surface\"}], \"table\": [{\"cells\": {\"fill\": {\"color\": \"#EBF0F8\"}, \"line\": {\"color\": \"white\"}}, \"header\": {\"fill\": {\"color\": \"#C8D4E3\"}, \"line\": {\"color\": \"white\"}}, \"type\": \"table\"}]}, \"layout\": {\"annotationdefaults\": {\"arrowcolor\": \"#2a3f5f\", \"arrowhead\": 0, \"arrowwidth\": 1}, \"coloraxis\": {\"colorbar\": {\"outlinewidth\": 0, \"ticks\": \"\"}}, \"colorscale\": {\"diverging\": [[0, \"#8e0152\"], [0.1, \"#c51b7d\"], [0.2, \"#de77ae\"], [0.3, \"#f1b6da\"], [0.4, \"#fde0ef\"], [0.5, \"#f7f7f7\"], [0.6, \"#e6f5d0\"], [0.7, \"#b8e186\"], [0.8, \"#7fbc41\"], [0.9, \"#4d9221\"], [1, \"#276419\"]], \"sequential\": [[0.0, \"#0d0887\"], [0.1111111111111111, \"#46039f\"], [0.2222222222222222, \"#7201a8\"], [0.3333333333333333, \"#9c179e\"], [0.4444444444444444, \"#bd3786\"], [0.5555555555555556, \"#d8576b\"], [0.6666666666666666, \"#ed7953\"], [0.7777777777777778, \"#fb9f3a\"], [0.8888888888888888, \"#fdca26\"], [1.0, \"#f0f921\"]], \"sequentialminus\": [[0.0, \"#0d0887\"], [0.1111111111111111, \"#46039f\"], [0.2222222222222222, \"#7201a8\"], [0.3333333333333333, \"#9c179e\"], [0.4444444444444444, \"#bd3786\"], [0.5555555555555556, \"#d8576b\"], [0.6666666666666666, \"#ed7953\"], [0.7777777777777778, \"#fb9f3a\"], [0.8888888888888888, \"#fdca26\"], [1.0, \"#f0f921\"]]}, \"colorway\": [\"#636efa\", \"#EF553B\", \"#00cc96\", \"#ab63fa\", \"#FFA15A\", \"#19d3f3\", \"#FF6692\", \"#B6E880\", \"#FF97FF\", \"#FECB52\"], \"font\": {\"color\": \"#2a3f5f\"}, \"geo\": {\"bgcolor\": \"white\", \"lakecolor\": \"white\", \"landcolor\": \"#E5ECF6\", \"showlakes\": true, \"showland\": true, \"subunitcolor\": \"white\"}, \"hoverlabel\": {\"align\": \"left\"}, \"hovermode\": \"closest\", \"mapbox\": {\"style\": \"light\"}, \"paper_bgcolor\": \"white\", \"plot_bgcolor\": \"#E5ECF6\", \"polar\": {\"angularaxis\": {\"gridcolor\": \"white\", \"linecolor\": \"white\", \"ticks\": \"\"}, \"bgcolor\": \"#E5ECF6\", \"radialaxis\": {\"gridcolor\": \"white\", \"linecolor\": \"white\", \"ticks\": \"\"}}, \"scene\": {\"xaxis\": {\"backgroundcolor\": \"#E5ECF6\", \"gridcolor\": \"white\", \"gridwidth\": 2, \"linecolor\": \"white\", \"showbackground\": true, \"ticks\": \"\", \"zerolinecolor\": \"white\"}, \"yaxis\": {\"backgroundcolor\": \"#E5ECF6\", \"gridcolor\": \"white\", \"gridwidth\": 2, \"linecolor\": \"white\", \"showbackground\": true, \"ticks\": \"\", \"zerolinecolor\": \"white\"}, \"zaxis\": {\"backgroundcolor\": \"#E5ECF6\", \"gridcolor\": \"white\", \"gridwidth\": 2, \"linecolor\": \"white\", \"showbackground\": true, \"ticks\": \"\", \"zerolinecolor\": \"white\"}}, \"shapedefaults\": {\"line\": {\"color\": \"#2a3f5f\"}}, \"ternary\": {\"aaxis\": {\"gridcolor\": \"white\", \"linecolor\": \"white\", \"ticks\": \"\"}, \"baxis\": {\"gridcolor\": \"white\", \"linecolor\": \"white\", \"ticks\": \"\"}, \"bgcolor\": \"#E5ECF6\", \"caxis\": {\"gridcolor\": \"white\", \"linecolor\": \"white\", \"ticks\": \"\"}}, \"title\": {\"x\": 0.05}, \"xaxis\": {\"automargin\": true, \"gridcolor\": \"white\", \"linecolor\": \"white\", \"ticks\": \"\", \"title\": {\"standoff\": 15}, \"zerolinecolor\": \"white\", \"zerolinewidth\": 2}, \"yaxis\": {\"automargin\": true, \"gridcolor\": \"white\", \"linecolor\": \"white\", \"ticks\": \"\", \"title\": {\"standoff\": 15}, \"zerolinecolor\": \"white\", \"zerolinewidth\": 2}}}, \"xaxis\": {\"anchor\": \"y\", \"domain\": [0.0, 1.0], \"title\": {\"text\": \"Number of topics\"}}, \"yaxis\": {\"anchor\": \"x\", \"domain\": [0.0, 1.0], \"title\": {\"text\": \"Topic Coherence Score\"}}},                        {\"responsive\": true}                    ).then(function(){\n",
       "                            \n",
       "var gd = document.getElementById('d7da6892-befe-4d02-a9bc-8c19e98b7f3b');\n",
       "var x = new MutationObserver(function (mutations, observer) {{\n",
       "        var display = window.getComputedStyle(gd).display;\n",
       "        if (!display || display === 'none') {{\n",
       "            console.log([gd, 'removed!']);\n",
       "            Plotly.purge(gd);\n",
       "            observer.disconnect();\n",
       "        }}\n",
       "}});\n",
       "\n",
       "// Listen for the removal of the full notebook cells\n",
       "var notebookContainer = gd.closest('#notebook-container');\n",
       "if (notebookContainer) {{\n",
       "    x.observe(notebookContainer, {childList: true});\n",
       "}}\n",
       "\n",
       "// Listen for the clearing of the current output cell\n",
       "var outputEl = gd.closest('.output');\n",
       "if (outputEl) {{\n",
       "    x.observe(outputEl, {childList: true});\n",
       "}}\n",
       "\n",
       "                        })                };                });            </script>        </div>"
      ]
     },
     "metadata": {},
     "output_type": "display_data"
    }
   ],
   "source": [
    "px.line(x=x_, y=y_, labels={\"x\": \"Number of topics\", \"y\": \"Topic Coherence Score\"})"
   ]
  },
  {
   "cell_type": "code",
   "execution_count": 9,
   "metadata": {},
   "outputs": [
    {
     "name": "stderr",
     "output_type": "stream",
     "text": [
      "/opt/anaconda3/lib/python3.8/site-packages/ipykernel/ipkernel.py:287: DeprecationWarning: `should_run_async` will not call `transform_cell` automatically in the future. Please pass the result to `transformed_cell` argument and any exception that happen during thetransform in `preprocessing_exc_tuple` in IPython 7.17 and above.\n",
      "  and should_run_async(code)\n"
     ]
    },
    {
     "data": {
      "text/html": [
       "\n",
       "<link rel=\"stylesheet\" type=\"text/css\" href=\"https://cdn.rawgit.com/bmabey/pyLDAvis/files/ldavis.v1.0.0.css\">\n",
       "\n",
       "\n",
       "<div id=\"ldavis_el296111406732528751687805926131\"></div>\n",
       "<script type=\"text/javascript\">\n",
       "\n",
       "var ldavis_el296111406732528751687805926131_data = {\"mdsDat\": {\"x\": [-0.1399556867466636, -0.14338937199880378, -0.15777199915403697, -0.15255362808655995, -0.116615984593154, -0.04853893687690899, -0.12732622093501067, -0.12026872804849358, -0.05500466634917844, -0.08359184977100516, -0.06803290066240743, -0.11574537487242936, -0.09162464623911291, -0.06882674087721674, -0.12372208472625146, -0.02747793276318601, 0.15283590691260257, 0.004865461034918707, 0.007687404646996418, -0.0672454150565682, -0.07765719241742738, 0.0812833890561714, -0.03691010557490093, -0.009089938326358139, 0.023800833166450458, -0.05703500860983483, 0.06997279447936533, 0.21287725651595193, 0.17495073824278098, 0.15910578043346627, 0.034480428533082835, 0.19624821853580926, 0.15424029523814295, 0.20524186682228507, 0.22802449105409342, 0.18276954801339085], \"y\": [-0.035810858724905144, -0.11143492930439156, 0.03720904796316083, -0.0399884133044744, 0.03914221828540197, 0.15599471047568364, -0.08513610700362002, 0.044086453519161156, 0.0011746263005859418, -0.12795280058486913, -0.0002669629380124266, 0.0003503396073323012, 0.04785912083773582, 0.07318806451372578, -0.082519904126159, 0.09705550329622044, -0.09872126228416225, 0.13661735235839195, -0.02356359510843005, 0.0985976779141794, -0.1079445317480125, 0.19899929468597272, -0.008603746732245605, -0.17750199413666062, 0.043815697502670836, 0.03241104120056605, -0.04558688575828758, 0.16963897760016966, -0.0453281435513226, 0.1420980663378401, 0.06052731698229281, -0.05002743886577214, -0.061361946193509806, -0.153606318863911, -0.09110565540437962, -0.03230401474796644], \"topics\": [1, 2, 3, 4, 5, 6, 7, 8, 9, 10, 11, 12, 13, 14, 15, 16, 17, 18, 19, 20, 21, 22, 23, 24, 25, 26, 27, 28, 29, 30, 31, 32, 33, 34, 35, 36], \"cluster\": [1, 1, 1, 1, 1, 1, 1, 1, 1, 1, 1, 1, 1, 1, 1, 1, 1, 1, 1, 1, 1, 1, 1, 1, 1, 1, 1, 1, 1, 1, 1, 1, 1, 1, 1, 1], \"Freq\": [8.17760117778437, 7.222476824585312, 6.163925122978433, 5.892300402354465, 5.383632306289793, 4.9478358241248745, 4.786960681929181, 3.900007022229156, 3.733263081288718, 3.706888804921724, 3.1807314221549006, 3.001168551636948, 2.9975706670227606, 2.6326322444130286, 2.5728300180323185, 2.541191921075813, 2.312880160801233, 2.2827064488679127, 2.2324337030335926, 2.177838286468586, 2.0107150396986992, 1.9042874981079434, 1.891362973548054, 1.775397502590238, 1.5967779173879542, 1.5427103830123654, 1.4634667088094857, 1.4360984519616269, 1.2598692268004772, 1.171368836618146, 0.8630429943877236, 0.8282977077935381, 0.6879474842124707, 0.6806819393015582, 0.6475665929448012, 0.3935340708318116]}, \"tinfo\": {\"Term\": [\"cooki\", \"properti\", \"clean\", \"system\", \"door\", \"vacuum\", \"safeti\", \"book\", \"add\", \"tune\", \"price\", \"use\", \"hire\", \"view\", \"treatment\", \"care\", \"repair\", \"necessari\", \"car\", \"engin\", \"learn\", \"quot\", \"children\", \"recruit\", \"vehicl\", \"window\", \"abarth\", \"now\", \"hour\", \"data\", \"benz\", \"bookkeep\", \"superfood\", \"vwf\", \"acupunctur\", \"cashback\", \"facelift\", \"legitim\", \"hmrc\", \"enforc\", \"demograph\", \"xero\", \"cellulit\", \"cryolipolysi\", \"evergreen\", \"leila\", \"prize\", \"godaddi\", \"palm\", \"beacon\", \"disclos\", \"osborn\", \"popup\", \"chiropract\", \"receipt\", \"fingertip\", \"thompson\", \"oat\", \"gemma\", \"subsequ\", \"tax\", \"giveaway\", \"incom\", \"loan\", \"reward\", \"wrong\", \"account\", \"subject\", \"retain\", \"otherwis\", \"purpos\", \"data\", \"payrol\", \"file\", \"may\", \"person\", \"chair\", \"licenc\", \"delet\", \"inform\", \"agreement\", \"advisor\", \"card\", \"interest\", \"protect\", \"financ\", \"regard\", \"financi\", \"insur\", \"fleet\", \"use\", \"parti\", \"third\", \"right\", \"address\", \"relat\", \"limit\", \"privaci\", \"polici\", \"time\", \"process\", \"collect\", \"advic\", \"email\", \"access\", \"regist\", \"requir\", \"make\", \"pleas\", \"includ\", \"number\", \"workforc\", \"workflow\", \"primark\", \"acceler\", \"rpa\", \"corrupt\", \"veloc\", \"webinar\", \"sap\", \"migrat\", \"absenc\", \"globe\", \"mazar\", \"erp\", \"algorithm\", \"ibm\", \"resili\", \"revalid\", \"worksaf\", \"miler\", \"chief\", \"boardroom\", \"discrimin\", \"breakthrough\", \"itso\", \"unleash\", \"chrome\", \"briberi\", \"literatur\", \"dev\", \"leadership\", \"autom\", \"ceo\", \"sage\", \"complianc\", \"forc\", \"intellig\", \"streamlin\", \"insight\", \"occup\", \"employe\", \"healthcar\", \"consult\", \"outsourc\", \"transform\", \"strategi\", \"risk\", \"career\", \"resourc\", \"doctor\", \"technolog\", \"partner\", \"success\", \"sector\", \"govern\", \"global\", \"learn\", \"process\", \"peopl\", \"digit\", \"read\", \"organis\", \"industri\", \"studi\", \"health\", \"data\", \"analyt\", \"deliv\", \"oper\", \"system\", \"train\", \"view\", \"time\", \"merri\", \"leaver\", \"tenant\", \"detach\", \"surveyor\", \"buster\", \"witchford\", \"bungalow\", \"sstc\", \"rob\", \"deanshang\", \"kempston\", \"repossess\", \"jake\", \"rightmov\", \"slade\", \"impecc\", \"connel\", \"maisonett\", \"mr\", \"landlord\", \"downstair\", \"alexandra\", \"iosh\", \"mortgag\", \"biggleswad\", \"zoopla\", \"ric\", \"marston\", \"hannah\", \"rent\", \"properti\", \"valuat\", \"agent\", \"residenti\", \"bedroom\", \"brown\", \"block\", \"let\", \"stoni\", \"auction\", \"sell\", \"dealt\", \"estat\", \"apart\", \"stratford\", \"hous\", \"buckinghamshir\", \"bedfordshir\", \"buy\", \"rental\", \"three\", \"profession\", \"thank\", \"fee\", \"home\", \"recommend\", \"say\", \"area\", \"view\", \"detail\", \"alway\", \"book\", \"time\", \"free\", \"pleas\", \"octopu\", \"circular\", \"entrepreneur\", \"upcycl\", \"landfil\", \"xen\", \"diploma\", \"cardboard\", \"plt\", \"hypnotherapi\", \"anxieti\", \"taught\", \"edi\", \"cpfi\", \"pollut\", \"knit\", \"billion\", \"psychotherapi\", \"alexa\", \"trustatrad\", \"retrofit\", \"auditor\", \"victori\", \"crucial\", \"broader\", \"setter\", \"assessor\", \"reus\", \"ipaf\", \"reprocess\", \"counsel\", \"cours\", \"facilit\", \"fashion\", \"topic\", \"sustain\", \"footprint\", \"yellow\", \"textil\", \"wast\", \"environment\", \"zero\", \"gain\", \"impact\", \"retail\", \"train\", \"program\", \"reduc\", \"faster\", \"take\", \"recycl\", \"invest\", \"level\", \"energi\", \"student\", \"back\", \"grow\", \"studi\", \"innov\", \"first\", \"stock\", \"made\", \"technolog\", \"creat\", \"process\", \"improv\", \"best\", \"use\", \"time\", \"home\", \"make\", \"volvo\", \"harben\", \"strap\", \"kia\", \"suzuki\", \"seiko\", \"lcv\", \"williamson\", \"taunton\", \"matthew\", \"motorhom\", \"mpg\", \"cabriolet\", \"cpc\", \"abort\", \"nissan\", \"devon\", \"aftersal\", \"cissp\", \"hackney\", \"hero\", \"roadsid\", \"crash\", \"mantel\", \"smartwatch\", \"wheelchair\", \"solihul\", \"callout\", \"peugeot\", \"citroen\", \"merced\", \"aston\", \"volkswagen\", \"courteou\", \"rover\", \"kevin\", \"mob\", \"hotel\", \"remov\", \"watch\", \"van\", \"golf\", \"car\", \"clock\", \"present\", \"depot\", \"travel\", \"tropic\", \"vehicl\", \"truck\", \"recommend\", \"move\", \"price\", \"dealer\", \"electr\", \"bu\", \"quot\", \"thank\", \"alex\", \"drive\", \"book\", \"air\", \"fleet\", \"use\", \"now\", \"free\", \"review\", \"best\", \"job\", \"time\", \"good\", \"make\", \"great\", \"pleas\", \"home\", \"pizza\", \"brunch\", \"nearbi\", \"cuisin\", \"aol\", \"ale\", \"offlin\", \"rub\", \"eyf\", \"groceri\", \"compost\", \"salad\", \"antiqu\", \"allergen\", \"aud\", \"propag\", \"picturesqu\", \"jpi\", \"owl\", \"succul\", \"supper\", \"lightbox\", \"gin\", \"cocoon\", \"sheep\", \"indulg\", \"charcoal\", \"arcad\", \"breakfast\", \"burger\", \"eur\", \"camp\", \"lunch\", \"takeaway\", \"smoke\", \"meat\", \"drink\", \"dinner\", \"restaur\", \"eat\", \"food\", \"snack\", \"wine\", \"meal\", \"dine\", \"dessert\", \"guest\", \"sunday\", \"tea\", \"pub\", \"beer\", \"recip\", \"monday\", \"italian\", \"street\", \"saturday\", \"menu\", \"tuesday\", \"tast\", \"friday\", \"wednesday\", \"order\", \"store\", \"book\", \"bar\", \"open\", \"hour\", \"park\", \"onlin\", \"garden\", \"home\", \"now\", \"pleas\", \"close\", \"deliveri\", \"term\", \"polici\", \"select\", \"local\", \"locat\", \"avail\", \"condit\", \"view\", \"saab\", \"vantag\", \"yamaha\", \"faculti\", \"oem\", \"extrus\", \"scholarship\", \"kerri\", \"deodoris\", \"swanbourn\", \"embassi\", \"pickl\", \"gud\", \"gill\", \"baskervil\", \"overhaul\", \"nasti\", \"caterpillar\", \"drummond\", \"ancillari\", \"ab\", \"mainmark\", \"mml\", \"ultrason\", \"ndt\", \"inventor\", \"tfsi\", \"astro\", \"egm\", \"simultan\", \"inspect\", \"civil\", \"hemel\", \"scaffold\", \"structur\", \"tunnel\", \"fabric\", \"loyal\", \"amp\", \"guard\", \"engin\", \"aerospac\", \"polym\", \"motorsport\", \"construct\", \"bespok\", \"supplier\", \"mainten\", \"rail\", \"machineri\", \"manufactur\", \"weld\", \"signag\", \"surfac\", \"qualiti\", \"commit\", \"convers\", \"carri\", \"build\", \"finish\", \"industri\", \"requir\", \"bridg\", \"complet\", \"plastic\", \"instal\", \"high\", \"standard\", \"rang\", \"specif\", \"ensur\", \"home\", \"includ\", \"specialist\", \"deliv\", \"time\", \"part\", \"suppli\", \"train\", \"unit\", \"read\", \"stabl\", \"atm\", \"homeless\", \"provinci\", \"welfar\", \"prayer\", \"pciaw\", \"cathol\", \"steward\", \"christ\", \"freemasonri\", \"pray\", \"tik\", \"emili\", \"almon\", \"legion\", \"auditorium\", \"uniti\", \"provinc\", \"mkfm\", \"tumour\", \"bookcas\", \"airspaceal\", \"ridgeway\", \"marlow\", \"necc\", \"pgm\", \"wander\", \"baptism\", \"highway\", \"nov\", \"secretari\", \"church\", \"oct\", \"volunt\", \"christian\", \"feb\", \"club\", \"cash\", \"youth\", \"chariti\", \"august\", \"marathon\", \"googl\", \"ad\", \"campaign\", \"grant\", \"winter\", \"commun\", \"jan\", \"award\", \"footbal\", \"join\", \"donat\", \"workshop\", \"young\", \"member\", \"london\", \"mark\", \"enquiri\", \"centr\", \"activ\", \"peopl\", \"click\", \"road\", \"local\", \"read\", \"increas\", \"group\", \"onlin\", \"now\", \"way\", \"home\", \"analyz\", \"plugin\", \"categor\", \"cookielawinfo\", \"para\", \"checkbox\", \"checbox\", \"logi\", \"mth\", \"psi\", \"acceptmanag\", \"georgina\", \"bounc\", \"metric\", \"stica\", \"somo\", \"descriptioncookielawinfo\", \"viewed_cookie_polici\", \"rust\", \"acceptprivaci\", \"empresa\", \"por\", \"advocaci\", \"springboard\", \"iri\", \"customerservic\", \"somewhat\", \"lesse\", \"dl\", \"queensburi\", \"opt\", \"necessari\", \"consent\", \"cooki\", \"function\", \"footfal\", \"rememb\", \"strictli\", \"essenti\", \"gdpr\", \"visitor\", \"properli\", \"browser\", \"accept\", \"basic\", \"user\", \"analyt\", \"set\", \"advertis\", \"store\", \"prefer\", \"use\", \"disabl\", \"overview\", \"categori\", \"non\", \"perform\", \"enabl\", \"inform\", \"privaci\", \"third\", \"polici\", \"featur\", \"improv\", \"content\", \"also\", \"may\", \"person\", \"parallel\", \"telephoni\", \"sip\", \"scalabl\", \"diamet\", \"titanium\", \"metrix\", \"odf\", \"unilev\", \"signmak\", \"cr\", \"ram\", \"lath\", \"ghz\", \"crane\", \"intel\", \"wren\", \"nuestra\", \"col\", \"kaak\", \"saa\", \"microscop\", \"microscopi\", \"aht\", \"weighbridg\", \"flawless\", \"legionella\", \"waiver\", \"hexagon\", \"pc\", \"amplifi\", \"desktop\", \"wireless\", \"cnc\", \"server\", \"broadband\", \"fuse\", \"grid\", \"system\", \"cloud\", \"softwar\", \"internet\", \"host\", \"network\", \"mobil\", \"microsoft\", \"app\", \"integr\", \"power\", \"user\", \"mac\", \"machin\", \"infrastructur\", \"comput\", \"research\", \"applic\", \"technolog\", \"cost\", \"multi\", \"digit\", \"base\", \"great\", \"web\", \"line\", \"commun\", \"use\", \"rang\", \"phone\", \"control\", \"learn\", \"secur\", \"connect\", \"onlin\", \"ecu\", \"clutch\", \"remap\", \"cambelt\", \"gearbox\", \"suspens\", \"autocentr\", \"synthet\", \"liter\", \"upvc\", \"upholsteri\", \"porsch\", \"solvent\", \"coolant\", \"tec\", \"moss\", \"sealant\", \"wiper\", \"knife\", \"klean\", \"swaddl\", \"churchil\", \"soda\", \"profici\", \"bodywork\", \"ref\", \"danni\", \"fudco\", \"washroom\", \"scooter\", \"mot\", \"tyre\", \"skoda\", \"clean\", \"dirt\", \"marc\", \"diagnost\", \"audi\", \"repair\", \"cleaner\", \"brake\", \"vehicl\", \"courtesi\", \"modif\", \"garag\", \"auto\", \"oil\", \"eco\", \"car\", \"wheel\", \"carpet\", \"replac\", \"engin\", \"align\", \"check\", \"book\", \"commerci\", \"qualiti\", \"window\", \"free\", \"price\", \"air\", \"unit\", \"profession\", \"friendli\", \"info\", \"make\", \"home\", \"time\", \"read\", \"high\", \"use\", \"care\", \"notari\", \"cbd\", \"psp\", \"anna\", \"legalis\", \"dentist\", \"knowl\", \"vinci\", \"thankyou\", \"kinshasa\", \"malvern\", \"tak\", \"agm\", \"hospic\", \"mkdon\", \"bellow\", \"potterspuri\", \"dentistri\", \"hammond\", \"formerli\", \"asc\", \"cohabit\", \"cardhold\", \"dementia\", \"datron\", \"caught\", \"usmor\", \"masoud\", \"swedish\", \"stamford\", \"cqc\", \"foreign\", \"canterburi\", \"patient\", \"implant\", \"mediat\", \"abroad\", \"oversea\", \"profess\", \"rule\", \"care\", \"societi\", \"canal\", \"public\", \"document\", \"fundrais\", \"dental\", \"research\", \"live\", \"financi\", \"independ\", \"languag\", \"famili\", \"plan\", \"regist\", \"home\", \"advic\", \"profession\", \"health\", \"staff\", \"onlin\", \"donat\", \"appoint\", \"back\", \"person\", \"make\", \"life\", \"use\", \"peopl\", \"inform\", \"train\", \"childcar\", \"daycar\", \"autism\", \"curriculum\", \"artefact\", \"retro\", \"respit\", \"ofst\", \"groomer\", \"math\", \"contactu\", \"psychologist\", \"museum\", \"dmc\", \"pupil\", \"parkland\", \"gado\", \"nurseri\", \"archaeolog\", \"sha\", \"doggi\", \"argu\", \"recuper\", \"gcse\", \"sixth\", \"asd\", \"autist\", \"moth\", \"switchboard\", \"spoil\", \"colleg\", \"difficulti\", \"emphasi\", \"school\", \"parent\", \"socialis\", \"puppi\", \"drama\", \"stantonburi\", \"tour\", \"child\", \"farmhous\", \"fun\", \"theatr\", \"groom\", \"children\", \"adult\", \"dog\", \"lake\", \"yr\", \"walnut\", \"comput\", \"learn\", \"play\", \"challeng\", \"session\", \"care\", \"educ\", \"walk\", \"pet\", \"park\", \"student\", \"activ\", \"young\", \"virtual\", \"visit\", \"home\", \"age\", \"month\", \"read\", \"set\", \"centr\", \"full\", \"moli\", \"kitemark\", \"bride\", \"wallet\", \"geek\", \"gown\", \"leather\", \"lash\", \"julian\", \"scunthorp\", \"infinit\", \"papa\", \"bsi\", \"curat\", \"activewear\", \"prop\", \"imit\", \"outfit\", \"embrac\", \"preced\", \"miller\", \"pmtue\", \"pmsun\", \"turner\", \"juicer\", \"flare\", \"halloween\", \"smash\", \"skye\", \"adida\", \"dress\", \"rooksley\", \"bridal\", \"creativ\", \"stitch\", \"bet\", \"wed\", \"ident\", \"brand\", \"visual\", \"ecommerc\", \"jacket\", \"media\", \"shi\", \"logo\", \"agenc\", \"personalis\", \"handmad\", \"digit\", \"bespok\", \"social\", \"java\", \"script\", \"walnut\", \"cloth\", \"creat\", \"good\", \"view\", \"uniqu\", \"craft\", \"blog\", \"corpor\", \"polici\", \"content\", \"item\", \"home\", \"accessori\", \"store\", \"order\", \"privaci\", \"account\", \"menu\", \"qualiti\", \"touch\", \"use\", \"litig\", \"abras\", \"cellar\", \"commercialis\", \"tnmoc\", \"shadow\", \"harpenden\", \"inherit\", \"mtp\", \"vizion\", \"trevor\", \"elliott\", \"sra\", \"ferrou\", \"insolv\", \"persona\", \"contractu\", \"vizionit\", \"fifti\", \"aldou\", \"oppress\", \"fin\", \"discard\", \"pragmat\", \"cpr\", \"pat\", \"toller\", \"basec\", \"niceic\", \"grit\", \"intyr\", \"electrician\", \"solicitor\", \"llp\", \"disput\", \"probat\", \"silverbug\", \"sam\", \"resolut\", \"legal\", \"law\", \"electr\", \"employ\", \"aviat\", \"commerci\", \"firm\", \"richard\", \"darren\", \"stuart\", \"depart\", \"matter\", \"domest\", \"energi\", \"privat\", \"advic\", \"injuri\", \"partner\", \"trust\", \"expert\", \"corpor\", \"data\", \"contractor\", \"properti\", \"audio\", \"contract\", \"video\", \"instal\", \"practic\", \"rang\", \"local\", \"home\", \"person\", \"surgic\", \"duchess\", \"massag\", \"birthston\", \"skincar\", \"rejuven\", \"ipl\", \"lipo\", \"tan\", \"peel\", \"hifu\", \"knee\", \"tsang\", \"acn\", \"orthodont\", \"merkur\", \"gambl\", \"pigment\", \"breast\", \"thur\", \"partial\", \"holli\", \"teeth\", \"barbershop\", \"postcard\", \"invas\", \"forestad\", \"woodwind\", \"treatment\", \"skelet\", \"rehabilit\", \"clinic\", \"facial\", \"hair\", \"pain\", \"skin\", \"barber\", \"femal\", \"tooth\", \"male\", \"salon\", \"hairdress\", \"therapi\", \"beauti\", \"injuri\", \"retreat\", \"bodi\", \"appoint\", \"aesthet\", \"sport\", \"health\", \"feel\", \"relax\", \"face\", \"women\", \"dental\", \"lift\", \"non\", \"laser\", \"book\", \"continu\", \"read\", \"now\", \"back\", \"consult\", \"care\", \"home\", \"visit\", \"pleas\", \"profession\", \"welcom\", \"pneumat\", \"vacuum\", \"bum\", \"td\", \"solenoid\", \"centrifug\", \"sava\", \"homogen\", \"gea\", \"blum\", \"etap\", \"lo\", \"contactor\", \"marin\", \"evapor\", \"valv\", \"refil\", \"asbesto\", \"convey\", \"semiconductor\", \"pump\", \"compress\", \"lcrig\", \"diaphragm\", \"vuototecnica\", \"lcl\", \"ferment\", \"virginia\", \"chiller\", \"pahd\", \"dryer\", \"spare\", \"patholog\", \"seal\", \"pressur\", \"rotari\", \"refriger\", \"filter\", \"cup\", \"decant\", \"dispens\", \"compon\", \"island\", \"hose\", \"solar\", \"compressor\", \"kit\", \"system\", \"control\", \"lubric\", \"element\", \"hygien\", \"equip\", \"carbon\", \"holder\", \"gener\", \"industri\", \"special\", \"small\", \"view\", \"separ\", \"oil\", \"air\", \"now\", \"unit\", \"electr\", \"detail\", \"trampolin\", \"witch\", \"metabol\", \"spell\", \"badminton\", \"cabin\", \"string\", \"squash\", \"workout\", \"racket\", \"kart\", \"vitamin\", \"playhous\", \"climb\", \"timet\", \"basketbal\", \"glenn\", \"tonnison\", \"plesk\", \"martial\", \"mkpa\", \"memorabilia\", \"campsit\", \"slideshow\", \"caramel\", \"playground\", \"arrow\", \"incontin\", \"smoothi\", \"yonex\", \"diet\", \"laundri\", \"soul\", \"pamper\", \"swing\", \"wooden\", \"andi\", \"tenni\", \"diana\", \"frame\", \"art\", \"slide\", \"toy\", \"vegan\", \"fit\", \"artist\", \"view\", \"play\", \"trainer\", \"accessori\", \"sport\", \"pro\", \"bodi\", \"interior\", \"class\", \"previou\", \"train\", \"free\", \"next\", \"edit\", \"like\", \"rang\", \"care\", \"facebook\", \"follow\", \"price\", \"conservatori\", \"pvc\", \"belvoir\", \"sphere\", \"liniar\", \"orangeri\", \"glaze\", \"hardwood\", \"casement\", \"sash\", \"hing\", \"tuner\", \"wharfsid\", \"rooflin\", \"genr\", \"nke\", \"charmain\", \"fidel\", \"lista\", \"patio\", \"bac\", \"rooflight\", \"idealcombi\", \"dent\", \"icaal\", \"mackerel\", \"skull\", \"fttx\", \"griffith\", \"basingstok\", \"speaker\", \"roof\", \"door\", \"fold\", \"window\", \"slough\", \"lock\", \"doubl\", \"timber\", \"aluminium\", \"enclosur\", \"trade\", \"extens\", \"showroom\", \"quot\", \"suppli\", \"instal\", \"floor\", \"survey\", \"vinyl\", \"price\", \"rate\", \"rang\", \"home\", \"qualiti\", \"free\", \"colour\", \"build\", \"onlin\", \"add\", \"choos\", \"start\", \"view\", \"industri\", \"zoohaus\", \"fuell\", \"espresso\", \"woodsid\", \"midday\", \"boom\", \"retweet\", \"wembley\", \"acoust\", \"downgrad\", \"sausag\", \"spider\", \"veneer\", \"bacon\", \"partit\", \"deboug\", \"pavement\", \"crew\", \"finer\", \"mahindra\", \"bodybuild\", \"foodservic\", \"venetian\", \"seeker\", \"hinowa\", \"barista\", \"behav\", \"liveri\", \"outperform\", \"squad\", \"coffe\", \"blind\", \"pilat\", \"ashley\", \"yoga\", \"sandwich\", \"georg\", \"desk\", \"medit\", \"storag\", \"workspac\", \"tue\", \"space\", \"bean\", \"unlimit\", \"machin\", \"class\", \"distanc\", \"furnitur\", \"vat\", \"room\", \"self\", \"tabl\", \"ago\", \"post\", \"open\", \"serv\", \"great\", \"site\", \"home\", \"studio\", \"lift\", \"book\", \"staff\", \"train\", \"social\", \"enjoy\", \"welcom\", \"like\", \"use\", \"page\", \"read\", \"txm\", \"candid\", \"trac\", \"annum\", \"doncast\", \"cambridgeshir\", \"extinguish\", \"adaptor\", \"intrud\", \"eal\", \"alarm\", \"wycomb\", \"keytec\", \"timesheet\", \"riser\", \"tempor\", \"inward\", \"incididunt\", \"selo\", \"dui\", \"leicestershir\", \"mig\", \"trent\", \"consequat\", \"aliqua\", \"wakefield\", \"speci\", \"commodo\", \"veniam\", \"nostrud\", \"recruit\", \"cctv\", \"supervisor\", \"fire\", \"locum\", \"perman\", \"swindon\", \"salari\", \"oxfordshir\", \"labour\", \"appli\", \"per\", \"cambridg\", \"greater\", \"summari\", \"coventri\", \"england\", \"northamptonshir\", \"role\", \"now\", \"job\", \"hour\", \"contract\", \"buyer\", \"engin\", \"secur\", \"oper\", \"benefit\", \"london\", \"sector\", \"site\", \"industri\", \"within\", \"buckinghamshir\", \"base\", \"current\", \"wax\", \"michel\", \"mirror\", \"wick\", \"candl\", \"tint\", \"unicorn\", \"alpaca\", \"klarna\", \"knive\", \"scarv\", \"doll\", \"shaker\", \"drawer\", \"zen\", \"escap\", \"natali\", \"stool\", \"swatch\", \"ncr\", \"vintag\", \"wallpap\", \"worktop\", \"glitter\", \"gloss\", \"illumin\", \"stationari\", \"unisex\", \"ella\", \"canva\", \"melt\", \"ceram\", \"ivori\", \"botan\", \"lamp\", \"decor\", \"bracelet\", \"hen\", \"kitchen\", \"alphabet\", \"bronz\", \"print\", \"wall\", \"furnitur\", \"smell\", \"magic\", \"magnet\", \"sampl\", \"white\", \"graphic\", \"gift\", \"frame\", \"rose\", \"lantern\", \"love\", \"tabl\", \"crystal\", \"gold\", \"room\", \"sign\", \"colour\", \"led\", \"home\", \"beauti\", \"light\", \"top\", \"set\", \"item\", \"accessori\", \"arla\", \"freight\", \"unfurnish\", \"editori\", \"sequenc\", \"multimedia\", \"dubai\", \"packshot\", \"walli\", \"albani\", \"nal\", \"abu\", \"drone\", \"cargo\", \"macnica\", \"dhabi\", \"pmfriday\", \"pmthursday\", \"pmtuesday\", \"pmwednesday\", \"reassembl\", \"junk\", \"divid\", \"unban\", \"photographi\", \"astralin\", \"taiwan\", \"hurri\", \"ghana\", \"crate\", \"tanzania\", \"malaysia\", \"pcm\", \"lithuania\", \"shoot\", \"prestig\", \"hong\", \"kong\", \"sea\", \"netherland\", \"photograph\", \"password\", \"saudi\", \"shot\", \"slovakia\", \"reset\", \"ship\", \"studio\", \"republ\", \"logist\", \"video\", \"imag\", \"air\", \"shipment\", \"parcel\", \"lifestyl\", \"slide\", \"photo\", \"worldwid\", \"road\", \"africa\", \"read\", \"south\", \"germani\", \"thank\", \"email\", \"time\", \"click\", \"box\", \"pleas\", \"good\", \"profession\", \"deliv\", \"use\", \"book\", \"hsbcad\", \"license\", \"react\", \"logic\", \"voltag\", \"geotechn\", \"wee\", \"rig\", \"cann\", \"drill\", \"seko\", \"situ\", \"putti\", \"bic\", \"hsb\", \"geo\", \"bhp\", \"suffici\", \"whatsapp\", \"caption\", \"trolley\", \"pac\", \"apc\", \"drc\", \"lgi\", \"litter\", \"slope\", \"dhd\", \"doneck\", \"toolset\", \"courier\", \"thermal\", \"circuit\", \"gap\", \"interfac\", \"hull\", \"button\", \"accid\", \"licens\", \"materi\", \"shield\", \"led\", \"uni\", \"scienc\", \"approv\", \"insur\", \"univers\", \"railway\", \"logist\", \"pad\", \"applic\", \"document\", \"test\", \"softwar\", \"transport\", \"manufactur\", \"automot\", \"site\", \"use\", \"enabl\", \"storag\", \"suppli\", \"power\", \"light\", \"industri\", \"onlin\", \"voir\", \"tout\", \"compt\", \"entrepris\", \"cett\", \"personn\", \"cre\", \"pour\", \"sur\", \"woolston\", \"aspley\", \"guis\", \"prestatair\", \"contenu\", \"propo\", \"mandarin\", \"communaut\", \"oubli\", \"accueil\", \"portugu\", \"wicken\", \"affich\", \"grumpi\", \"vou\", \"beaut\", \"connex\", \"ver\", \"preschool\", \"avi\", \"nou\", \"deutsch\", \"pavilion\", \"swim\", \"espan\", \"de\", \"wavendon\", \"cricket\", \"gate\", \"plu\", \"hall\", \"facebook\", \"facil\", \"page\", \"centr\", \"wolverton\", \"franc\", \"cafe\", \"fit\", \"room\", \"commun\", \"english\", \"public\", \"park\", \"inform\", \"photo\", \"meet\", \"hire\", \"home\", \"local\", \"studio\", \"arthur\", \"taxi\", \"reiki\", \"sameday\", \"rabbit\", \"diamond\", \"fmcg\", \"bristow\", \"kirkham\", \"heathrow\", \"akontaba\", \"chauffeur\", \"puff\", \"wig\", \"fullsiz\", \"cab\", \"qti\", \"minibu\", \"braid\", \"preset\", \"lace\", \"airport\", \"shisha\", \"reed\", \"smb\", \"ivi\", \"beech\", \"terrain\", \"paddington\", \"windsor\", \"telehandl\", \"seo\", \"alban\", \"tale\", \"deeper\", \"carousel\", \"spa\", \"cm\", \"web\", \"clark\", \"urgent\", \"deliveri\", \"commerc\", \"heal\", \"spiritu\", \"book\", \"text\", \"traffic\", \"deliv\", \"email\", \"onlin\", \"best\", \"price\", \"agenc\", \"celebr\", \"week\", \"well\", \"just\", \"time\", \"happi\", \"com\", \"brand\", \"pleas\", \"casino\", \"sku\", \"excav\", \"tring\", \"cf\", \"dumper\", \"mast\", \"airway\", \"slot\", \"bollard\", \"tiguan\", \"roulett\", \"fork\", \"blackjack\", \"steadi\", \"schaltbau\", \"loader\", \"vend\", \"iata\", \"tensat\", \"umrah\", \"xpress\", \"underlay\", \"denton\", \"scc\", \"lhr\", \"poker\", \"tourism\", \"breed\", \"baccarat\", \"mild\", \"soil\", \"hire\", \"concret\", \"airlin\", \"aircraft\", \"beam\", \"plant\", \"steel\", \"skip\", \"game\", \"stainless\", \"twin\", \"equip\", \"carpet\", \"ladder\", \"wast\", \"tool\", \"toggl\", \"conveyor\", \"machin\", \"rental\", \"floor\", \"commerci\", \"mobil\", \"menu\", \"rang\", \"light\", \"domest\", \"view\", \"use\", \"construct\", \"safeti\", \"onlin\", \"polici\", \"inform\", \"incens\", \"tablewar\", \"cookwar\", \"scent\", \"buddha\", \"tealight\", \"rice\", \"zinpifi\", \"satya\", \"taper\", \"diffus\", \"spice\", \"pepper\", \"ornament\", \"jug\", \"pork\", \"cone\", \"nut\", \"teapot\", \"honey\", \"prawn\", \"spici\", \"beef\", \"duck\", \"chilli\", \"aroma\", \"potter\", \"alic\", \"anderson\", \"stellar\", \"salt\", \"flower\", \"roy\", \"add\", \"bake\", \"burner\", \"chocol\", \"cake\", \"compar\", \"cast\", \"tin\", \"wish\", \"sauc\", \"sweet\", \"vase\", \"list\", \"price\", \"classic\", \"log\", \"login\", \"tea\", \"cart\", \"holder\", \"aluminium\", \"pleas\", \"vat\", \"hot\", \"green\", \"oil\", \"pack\", \"abarth\", \"fiat\", \"boiler\", \"potteri\", \"punto\", \"pave\", \"newbridg\", \"lehenga\", \"venturi\", \"sangeet\", \"beetl\", \"sare\", \"pig\", \"anarkali\", \"mehendi\", \"slab\", \"ralli\", \"tune\", \"stove\", \"granit\", \"liner\", \"plumber\", \"breaker\", \"powerflush\", \"sandston\", \"georgett\", \"gorgon\", \"choli\", \"flettner\", \"leak\", \"bec\", \"plumb\", \"heat\", \"brazilian\", \"ga\", \"yardley\", \"radiat\", \"transmiss\", \"ventil\", \"oil\", \"instal\", \"race\", \"tank\", \"patent\", \"cart\", \"view\", \"kit\", \"water\", \"select\", \"grand\", \"option\", \"engin\", \"system\", \"detail\", \"wed\", \"home\", \"part\", \"grass\", \"turf\", \"maxwel\", \"cutleri\", \"amelia\", \"odour\", \"eagl\", \"teddi\", \"apron\", \"glasswar\", \"pendant\", \"stow\", \"pillowcas\", \"funni\", \"coaster\", \"cot\", \"hoodi\", \"tumbl\", \"rectangular\", \"urin\", \"trinket\", \"lacher\", \"glenco\", \"shirt\", \"footmuff\", \"thumb\", \"souster\", \"geoff\", \"queen\", \"skirt\", \"mug\", \"emma\", \"canopi\", \"william\", \"protector\", \"glass\", \"towel\", \"artifici\", \"christma\", \"peter\", \"dog\", \"bee\", \"jewelleri\", \"blue\", \"crystal\", \"bed\", \"men\", \"bath\", \"poppi\", \"top\", \"royal\", \"leed\", \"gift\", \"main\", \"collect\", \"blog\", \"garden\", \"set\", \"children\", \"shape\", \"art\", \"tattoo\", \"foster\", \"budgen\", \"strobe\", \"len\", \"olivia\", \"violenc\", \"optician\", \"sunlight\", \"barrag\", \"pierc\", \"brave\", \"dummer\", \"hapi\", \"msf\", \"philanthropi\", \"scab\", \"cling\", \"sibl\", \"flee\", \"antibacteri\", \"rwa\", \"spontan\", \"zombi\", \"lens\", \"neq\", \"fosterplu\", \"intexion\", \"fountain\", \"mezzanin\", \"aftercar\", \"marriag\", \"ink\", \"poverti\", \"bore\", \"vulner\", \"tail\", \"children\", \"sponsor\", \"brocad\", \"child\", \"eye\", \"artist\", \"brother\", \"water\", \"afghanistan\", \"heal\", \"vision\", \"crown\", \"live\", \"empow\", \"basket\", \"famili\", \"stori\", \"face\", \"life\", \"skin\", \"transform\", \"like\", \"donat\", \"care\", \"make\", \"first\", \"follow\", \"choos\", \"add\", \"chang\", \"dolor\", \"hdmi\", \"lorem\", \"ipsum\", \"amet\", \"consectetur\", \"dapibu\", \"powerhous\", \"adipis\", \"sed\", \"pigtail\", \"eiusmod\", \"bh\", \"qui\", \"westburi\", \"caljan\", \"enim\", \"splice\", \"nisi\", \"reprehenderit\", \"aut\", \"volupt\", \"cabl\", \"nibh\", \"cute\", \"simplex\", \"jetzt\", \"shoppen\", \"unser\", \"mit\", \"dropdown\", \"und\", \"elit\", \"reel\", \"sie\", \"patch\", \"fibr\", \"sit\", \"adipisc\", \"true\", \"plate\", \"assembl\", \"termin\", \"pre\", \"lead\", \"gbp\", \"toggl\", \"review\", \"guid\", \"view\", \"return\", \"centr\", \"deploy\", \"avail\", \"garment\", \"trouser\", \"arma\", \"countess\", \"helmet\", \"mam\", \"drywal\", \"efd\", \"eon\", \"ksie\", \"gent\", \"farth\", \"dovecot\", \"puma\", \"marina\", \"parad\", \"abtech\", \"robotazia\", \"candic\", \"cej\", \"mpj\", \"kentucki\", \"wizdom\", \"plaster\", \"alter\", \"hibu\", \"footwear\", \"galaxi\", \"willowbridg\", \"embroideri\", \"coat\", \"abus\", \"workwear\", \"realm\", \"uniform\", \"direct\", \"safeti\", \"sent\", \"netherfield\", \"messag\", \"report\", \"quot\", \"dri\", \"hour\", \"galleri\", \"spray\", \"googl\", \"site\", \"place\", \"open\", \"soon\", \"appoint\", \"now\", \"address\", \"power\", \"com\", \"app\", \"learn\", \"order\", \"make\", \"home\", \"read\", \"avg\", \"booth\", \"cartridg\", \"marque\", \"photoelectr\", \"keyboard\", \"servo\", \"lithium\", \"guitar\", \"armour\", \"mina\", \"capacitor\", \"muslim\", \"percuss\", \"allah\", \"coupler\", \"resistor\", \"sensor\", \"panason\", \"handelsbanken\", \"mem\", \"ramadan\", \"weee\", \"disco\", \"confetti\", \"latch\", \"inductor\", \"mkma\", \"bluecub\", \"bench\", \"instrument\", \"batteri\", \"flex\", \"music\", \"scale\", \"audio\", \"unifi\", \"lion\", \"plc\", \"distributor\", \"balanc\", \"type\", \"tool\", \"corpor\", \"educ\", \"drum\", \"entertain\", \"locat\", \"commun\", \"profession\", \"link\", \"use\", \"power\", \"electron\", \"safeti\", \"applic\", \"forklift\", \"toe\", \"pivot\", \"dab\", \"jungheinrich\", \"balinit\", \"duravit\", \"etsi\", \"caregiv\", \"ctdi\", \"balzer\", \"excl\", \"stacker\", \"cineworld\", \"horizon\", \"optic\", \"oerlikon\", \"nexan\", \"fastax\", \"xscape\", \"leagu\", \"lyon\", \"baliq\", \"timor\", \"blockout\", \"caledonia\", \"mayott\", \"futuna\", \"intralogist\", \"porta\", \"divis\", \"rear\", \"katherin\", \"cord\", \"mount\", \"rack\", \"premier\", \"tray\", \"fibr\", \"front\", \"truck\", \"patch\", \"island\", \"panel\", \"fast\", \"distribut\", \"pallet\", \"warehous\", \"mat\", \"frame\", \"back\", \"unit\", \"overview\", \"craft\", \"learn\", \"matti\", \"pulvinar\", \"luctu\", \"ullamcorp\", \"grind\", \"tellu\", \"eleph\", \"reschedul\", \"hedg\", \"dive\", \"nec\", \"surgeon\", \"nrc\", \"kawai\", \"padi\", \"apac\", \"ning\", \"leo\", \"welovepianist\", \"scuba\", \"crete\", \"beater\", \"spill\", \"buckl\", \"beitrag\", \"asg\", \"accent\", \"rectec\", \"jcm\", \"diver\", \"hilton\", \"mba\", \"aluminum\", \"fenc\", \"landscap\", \"piano\", \"pdf\", \"adipisc\", \"steel\", \"tree\", \"cafe\", \"stainless\", \"suitabl\", \"remov\", \"green\", \"maximum\", \"elit\", \"stock\", \"soon\", \"well\", \"come\", \"unit\"], \"Freq\": [4100.0, 2419.0, 1361.0, 2025.0, 951.0, 784.0, 960.0, 2310.0, 882.0, 634.0, 1979.0, 4902.0, 774.0, 2382.0, 742.0, 1697.0, 1076.0, 856.0, 1339.0, 1427.0, 1662.0, 934.0, 721.0, 626.0, 1047.0, 760.0, 507.0, 2365.0, 1072.0, 1968.0, 91.46527787562057, 74.3976390085384, 72.3419898555858, 45.76834863243085, 39.649063239781405, 38.6789479792543, 37.88744545189231, 34.768621128190986, 34.75131249141025, 34.548231794523446, 32.37000090272779, 31.21263938066537, 28.732363516037005, 28.73220475588309, 28.385175849438436, 28.353380348612685, 26.773278336703203, 26.759617403458925, 26.059560724753716, 26.007648044424354, 24.698974865665225, 24.665064452789068, 24.636495185091153, 24.03119752825485, 23.300999100327207, 23.24414595520806, 22.618768918904795, 22.311431940941482, 22.235066416905077, 20.45738739344461, 592.8541418123087, 30.919501986468557, 79.5596044530658, 70.0513756748345, 130.02464165893795, 62.008480437244614, 1096.7456252152874, 251.90491766191042, 84.90224651275925, 67.3471534930901, 256.395773695797, 1029.8804448694705, 129.1735511538054, 108.98167121777037, 736.3881990486301, 854.6820529345649, 155.06904081949216, 93.41863256939867, 58.20575895050473, 1173.6529144969327, 151.74085343281325, 90.49176817180256, 268.59091223898827, 290.145642256307, 405.8209515235619, 299.3081292193415, 157.36177936230303, 313.4042769655619, 299.18538494034084, 187.51033259133646, 1006.5765710763562, 249.7279379513278, 201.37727603534324, 451.83173069102924, 308.78995089197105, 175.05804795884194, 314.78418998338805, 450.23306130111865, 487.1206050636059, 522.8134559878381, 364.0154415531046, 303.6439748629454, 297.471712718935, 400.95454456557854, 305.81333408614, 331.87071374877917, 340.0793394670448, 381.1931390068886, 373.1424267217201, 305.7409696959827, 261.55094269373524, 148.92739361793642, 61.53471606484922, 60.00108550641184, 57.79448513520955, 52.49788172904344, 49.36473181366522, 48.726302207087826, 94.36169330497223, 45.796427381052844, 45.24869836617294, 41.87396731797619, 41.89581117735033, 39.582201601728144, 36.13995924002629, 36.07393022417702, 36.00907636322607, 35.67323578893275, 34.349737615750946, 38.57445286028829, 26.562970964523235, 26.065696824581646, 21.43812379146449, 21.3024718556522, 20.930872519666014, 20.44006507017341, 20.31364077111951, 19.550195715962897, 19.02694464345365, 56.72202942718103, 18.476464697789044, 191.51679657341222, 769.1293194618764, 55.4969905388322, 80.96054066432204, 323.40676776746113, 207.9543024217081, 183.1938688383349, 45.04035542133071, 286.5830219479922, 58.727444615194486, 273.3486144395904, 244.66546038949832, 780.6738809345621, 85.56919103276968, 255.11496445341228, 230.98513501331635, 276.0186999088994, 443.10668359882413, 363.07543005542976, 100.80982164817758, 579.4305275782617, 438.8670986386132, 340.1768424519812, 301.73274498419215, 240.6768244162101, 284.4292835161649, 569.7012599266876, 532.488804916534, 447.0771046711884, 312.5728278034018, 664.9081433301766, 235.49946584714098, 476.97288503601584, 250.00290710539747, 349.3702127618562, 453.6182304997561, 259.1268364440082, 294.8515186448247, 262.2119118408188, 288.73587901364584, 279.20924545783413, 277.9923992686912, 276.12200670768794, 170.37271842860002, 80.19006796527901, 323.5990370560178, 123.02819084963721, 50.23990647087306, 40.47835458358266, 37.61656781485966, 54.81904566257046, 34.28293565575942, 34.02858145549037, 33.374449648041555, 28.1893530016392, 26.295785816768127, 26.176050839259986, 23.392286691517445, 23.242461263374825, 21.00793402815317, 28.746369667541156, 18.13363070326718, 140.4020141684451, 309.80947903526595, 18.09555108270759, 32.790701743823846, 16.14794160805245, 502.70018005622177, 15.322488547746328, 15.188942050547757, 14.316505605054381, 14.313036698355445, 19.545890289015908, 420.8832390118135, 2197.827256552625, 280.29527434907726, 388.4210420200779, 333.95591886455355, 377.66310616066534, 188.63584690921428, 258.5410723571082, 748.8094202007354, 248.2966315620976, 56.232883707712375, 293.4077017821964, 58.0903600168911, 273.3687893890128, 138.8144943043678, 318.9419778147084, 667.6306554175632, 406.41684672071585, 173.7829770983871, 365.6310059679756, 124.37895320155442, 153.52056169321875, 442.5784510700702, 351.1245652558839, 175.5004206959113, 681.9409568794249, 277.4806932035066, 191.10618714524435, 254.40767414250206, 272.26712730393314, 226.4630621245387, 216.24599648810172, 228.43947563391492, 223.03708724173205, 212.02115020005897, 205.29709553415972, 216.12631608943, 167.1744953970279, 93.43243344860568, 80.8929866481352, 75.54964444073067, 57.38324183900206, 53.27442632685615, 41.64480637922367, 39.265047828565194, 35.31231375893705, 36.426703010507104, 34.98681588729335, 34.36769228724302, 34.1575545785463, 32.38666236495485, 29.173709556067674, 48.09503146093271, 27.2297948017757, 26.733175496590896, 25.380436977646173, 23.073230995057155, 22.60014265735625, 22.005215957025456, 21.16509409699164, 32.749032999813664, 20.25326400014828, 20.137378172900764, 28.03020994157524, 19.603390400341798, 31.804190912532363, 230.54272217528143, 845.2789155287902, 67.54395690457208, 361.0417772962814, 99.46899885689008, 390.59382896626636, 46.75484896491764, 217.99835646430967, 75.2171685797712, 297.48049826092284, 208.7674298767515, 79.59005277892838, 209.63633934727446, 243.03387867498338, 365.35571083160136, 643.8090134949647, 170.46058908221724, 212.0132571317907, 87.5160899171358, 560.1090938752893, 141.08042146755653, 206.24260704469248, 264.20367106688906, 262.9507706339551, 156.52283711125907, 428.34121042068455, 199.3929125020238, 197.0743243893213, 202.68706818892068, 258.47847323806633, 177.02124996907352, 203.50222371832874, 263.94437966061935, 220.10175449900208, 234.64102984871528, 204.53363699624327, 225.07147740024638, 263.05032546044635, 241.31211836977113, 246.82129813121924, 202.11688856545297, 113.875088131749, 69.42743180462055, 49.02002894766214, 45.869100750748565, 36.14901642283293, 35.31008300978103, 33.78332677495085, 30.179723774328206, 30.13135434985008, 29.732844741036875, 29.63094718358944, 29.619258590351095, 29.046841029681673, 27.601880062288412, 25.295959763437335, 25.17407936509062, 24.56142238507607, 22.808810277620996, 42.94593712371639, 19.32779192739668, 179.63231161362123, 18.85789281070077, 17.75490345040076, 17.66222711548786, 17.2483421663887, 17.207627439121804, 17.094914760061886, 16.95142153815225, 16.623041000245973, 16.62215508600436, 120.00665986342719, 33.49025838055152, 294.11058789479677, 33.66085410809429, 27.285245353652947, 24.347591056314855, 37.8023389451024, 280.9350921198764, 392.483102528948, 280.05881343990353, 210.55255019891842, 152.6645346238592, 718.8429198205711, 115.75118573498291, 202.95797570700515, 41.99095143353647, 238.82774748154029, 58.30142894902136, 364.703937588888, 120.43143085704864, 303.72582327680834, 210.54701572343149, 435.26571290124446, 75.6239390593904, 237.98658684026861, 60.864916371005364, 243.0737851301975, 265.2957195276441, 103.0191248773135, 211.1354419535287, 356.24793592316456, 149.97891048564395, 122.1530708053714, 428.0886130530751, 284.0089358236772, 250.57972838157917, 168.85423913379935, 224.99356949093516, 166.4693779035651, 226.34790342223005, 166.23813437831916, 179.56398672199848, 161.72106669628428, 165.659970817695, 166.5842979026596, 90.0008882756439, 46.54208320955045, 42.659429034926674, 37.80043592476058, 31.447230944779207, 29.863518728121566, 28.69921145368539, 28.20700643121607, 28.16705798468001, 25.26761999863192, 24.28766290070224, 22.375617313419045, 22.343330588752558, 21.94210336755179, 21.812322947405878, 20.209742311218694, 19.82576425608966, 19.316872689512756, 18.286412265516255, 16.34295247502724, 15.880844297018399, 15.825815980886215, 15.481364405820123, 15.29213931583154, 14.905049686790996, 28.100412439820516, 13.93422376037304, 13.886458070448864, 167.23808893087684, 12.978748722668087, 43.341839161659536, 109.37965624245702, 157.02791827180573, 130.05089951163788, 69.29383846389887, 60.457622660426935, 248.44463785899862, 84.2464365679043, 243.8193547108283, 121.5554084844898, 571.1711101046153, 55.061661775423985, 142.00021242266695, 101.69458784845484, 105.94276790744834, 61.25450119897235, 110.91357412820591, 223.36018790299715, 327.8943242303728, 104.08955519579882, 75.09903592830773, 56.901014775273616, 244.06595694929536, 92.59261778892309, 309.86297640359743, 204.18308560411577, 680.4932233852102, 141.60073253146865, 110.97043096572159, 211.45183204129356, 129.10693878400824, 472.82636428240625, 492.02924656006786, 611.7521266948748, 132.1163259095064, 411.61466809433267, 296.5231821885424, 280.8514800277518, 292.01280199760413, 172.48465310066663, 397.41284554694823, 307.60136418424474, 286.9269190014468, 237.30801636562128, 215.52164721516343, 227.99493041882496, 239.02369316492795, 190.70328542907046, 190.95892621226244, 177.74272586282885, 182.41808693997115, 179.74253132819538, 184.3120279928306, 148.11095518847534, 103.83042320689015, 79.30826317511611, 41.81709484065519, 39.23083412456112, 36.39395870524128, 31.859516676859496, 25.39422777244847, 24.473712561531602, 23.509279315018855, 20.190832279867884, 20.097924658011785, 19.573729446872136, 18.47023901636073, 17.083489647479155, 29.204128423983338, 18.006844882513683, 16.990995803971327, 15.903071847684881, 15.587506113732404, 15.125557991385858, 14.144185278856167, 14.144122216380628, 12.96177160702907, 12.903108015749444, 12.738258279255655, 12.264834999079593, 12.100662354428424, 11.904936344823748, 11.178076039051774, 285.10958526634164, 118.54003549229576, 28.93638949275089, 81.26835112532912, 239.90128699551192, 41.916782231811254, 139.38116138175846, 29.387020666636378, 55.20930767216453, 39.62548573463462, 736.9122785044153, 101.89018776652024, 54.9827076021674, 83.42276000893746, 302.42146949847273, 301.30764014105074, 259.7643293784059, 306.72479972395837, 119.0922149535453, 49.51002206272798, 281.7709471754263, 70.8754029067282, 61.42967077245886, 118.67325884412752, 421.0521733415634, 154.00226492956656, 109.84452111965038, 149.13874520207884, 309.7767580137955, 145.03172735658447, 358.3069131188921, 335.709145463458, 77.44682706382926, 226.65407802880856, 92.10687445618028, 197.5056901950457, 230.17189320811636, 179.3541058675796, 243.9492164077862, 153.87070554200164, 195.4323907185717, 285.4571059736445, 197.5067877033919, 164.25545342606415, 175.8378130385585, 206.7012700842432, 166.05352613210493, 160.08676269221186, 170.56393140007367, 164.50281764590164, 165.6451645185776, 135.79850624861677, 118.89010749603622, 83.1282463837418, 71.57809989722449, 58.6087257197569, 49.558719104326435, 44.54638267621628, 43.20941734959796, 36.73669320462527, 30.77263213040638, 26.51438660450345, 25.593800585215934, 24.596088191164775, 41.78562874127039, 20.466101791206942, 20.039329721552026, 19.995626037766527, 19.990378278681447, 19.075076073161835, 25.374954068674732, 17.25717012141334, 16.190984476476373, 15.955556411304265, 15.85671069560725, 15.814122904255163, 15.354870973577958, 15.354870973577958, 14.454317837434706, 13.523697799917183, 134.28578155416648, 43.492727836294904, 43.25529693349191, 190.55540203820306, 34.05692169277109, 214.31425542583358, 42.70373239564545, 28.923614592848775, 206.63195435959744, 155.87508045752634, 63.06661323539465, 221.27458310132238, 144.61181387130557, 58.63321045486289, 307.31826161479466, 238.90435673691536, 120.716493509185, 82.95162170352202, 69.71914208361223, 423.9081164013221, 66.8741103275645, 240.70837442483995, 63.472855768649396, 219.68654738538862, 163.26119951529722, 130.89691538426982, 109.61653300334872, 177.4794213745605, 189.46914655407193, 113.55050271192971, 137.78040331972343, 216.074791166272, 175.95376025991283, 208.47881943259046, 184.63643455579253, 169.97364403543224, 169.07233465231675, 215.5125688641827, 110.63383751204663, 134.14669700970336, 145.07151107731568, 139.24999219164272, 126.17978027725206, 121.900175957244, 143.8570890082814, 105.25719070448358, 79.19126189947185, 75.80881220406984, 56.30436214935447, 51.24319172875839, 44.85678104751111, 29.80204533608974, 29.082683824015476, 24.388279713833224, 23.164941321544934, 22.863767296045403, 22.164261212285364, 21.25815409914374, 19.72012287156853, 19.72012287156853, 18.84670145873108, 18.361618814968693, 17.73135133282971, 17.892917848677797, 15.401004648506813, 14.915618288823747, 12.962991533133396, 12.122548319739634, 12.052039633359387, 12.04433715601882, 10.592215255358393, 10.070169003522755, 9.675546248509376, 9.236291921254985, 229.80132254603618, 749.8352907439617, 562.9851147630071, 3325.176217165589, 685.8729939548612, 47.82540744703948, 176.98054059103444, 80.65316397047566, 340.6485221153593, 177.62820098660808, 158.62664237282206, 101.10406876299935, 289.40634507388137, 334.35053073151903, 178.29752184943362, 413.787816332008, 348.3092040036606, 574.1576086210149, 197.9083760159042, 506.3232651697472, 201.60985857807324, 1163.0021460708774, 137.21522217588964, 148.14310047033075, 201.59806887824334, 177.807931785303, 245.69773100263245, 220.50246600795114, 408.57814953410474, 330.0065095286204, 165.84947634566072, 296.9098953890399, 166.40357843239687, 181.54501813653684, 179.8621144147989, 190.24530581604486, 180.42641859541595, 180.538876317681, 90.90004340685314, 49.39749425912707, 45.79262266202964, 41.80913987483663, 36.32836756316262, 34.04468901591026, 33.16677684387445, 31.06956810307452, 25.247197211243535, 23.970665689941125, 23.685794875963374, 23.68057222723911, 21.922045745031618, 20.738008909026004, 20.070030766418387, 18.961100348237828, 18.741026018563506, 18.18665419344812, 17.776419248478824, 15.999526108897513, 15.300960859210868, 14.793508912709846, 14.227755380195855, 14.22427018744482, 14.18328061960299, 13.948478180640798, 13.580673829621308, 23.68373528811345, 13.168192528852304, 18.27415926159102, 91.88447156815906, 41.13920152548998, 60.83254875267066, 88.41338408100036, 95.52162146468815, 71.07727455780852, 36.123070176597906, 33.751172045284655, 796.5319549034824, 233.44576342882198, 372.85034810567265, 135.53564376036627, 137.4005954180701, 238.20286990643868, 233.1965841413949, 68.51117202806734, 212.20338681466754, 139.05414631822637, 211.5270332432659, 195.23735884070862, 60.200080509066225, 153.82087716195235, 75.8972447284685, 128.1109700657196, 130.77563124198963, 159.86618216059702, 221.17299128219724, 170.8484940091872, 114.0462057045273, 149.10422222340472, 190.89976402072304, 190.7137225811279, 158.16546292904917, 115.91918324366961, 172.11193635279778, 263.20087926291797, 166.9904507455526, 137.57202440742884, 135.23969366599118, 148.1671337402333, 132.2583151701039, 119.87304360594625, 118.56819018150625, 77.00751651672546, 59.075349008347644, 58.137818966248915, 48.81685630824631, 45.284916416811164, 44.7566059820251, 37.994655262713856, 37.981522926034934, 35.41973808239772, 33.82035415045849, 29.994115829965384, 36.77138662856395, 24.11219045591164, 21.08681295580594, 45.04248277824643, 19.634541481967464, 19.55686485731222, 17.97281129646022, 16.636459305467238, 16.07288769394914, 15.858014025273159, 21.787596313916072, 15.541719079303716, 15.372185199981121, 26.14047485709636, 13.878433361753672, 13.753243907707931, 13.481947651437883, 12.951634726441709, 12.438788456141634, 308.59770293938243, 217.8261214224774, 49.39856942248285, 1147.2626685517175, 18.52597789827425, 42.53263329744465, 113.36741052045484, 98.64898397456028, 722.8809228535905, 142.26489096281705, 88.24730881366482, 545.7338521605051, 41.50537052223041, 35.85344335194177, 146.48699895588877, 112.58877410683395, 276.5894289387307, 59.06614519871822, 435.4264113498941, 95.38958270666944, 125.08981766060158, 135.97080252667777, 265.0814793844923, 62.76515922929863, 157.5845585781395, 252.36681335086573, 153.71531229610008, 157.7714929505874, 120.74690157972944, 158.7744435539115, 152.98201861234685, 100.74900516159786, 126.04205027399333, 133.15426034921802, 110.05102796726081, 120.82801272503873, 135.59520475939794, 157.09379851043582, 139.20746185729257, 131.75735140758337, 118.2833975441575, 133.18715882274324, 114.30944543039776, 483.6699674290203, 118.17813803284488, 71.20647467363978, 57.57923483348876, 48.514863828815905, 47.91426511960268, 46.43085261869348, 43.84879977741649, 35.36625513074635, 33.36165601585699, 28.48983412145275, 25.746640371817115, 25.267015954279945, 56.29416390381588, 20.549648393239178, 20.040818070437844, 19.859180451383438, 18.359417748629205, 27.788492865320634, 18.220091444378244, 17.34965059093577, 15.561993378721564, 15.518232381165017, 15.298948789985328, 14.798140969921972, 21.545451429791253, 13.640848823699267, 13.266612874172026, 13.188388270265907, 13.154899905041148, 18.353874272761843, 78.40074105424931, 19.633726344523563, 226.4448963524382, 57.07730333588473, 49.05101061390559, 38.80976634142148, 35.322095990653786, 54.3839731239309, 89.11032580215218, 587.0133645110101, 65.43783047419906, 45.682538866848425, 247.4722602986516, 186.01420157522764, 89.23169962362047, 83.57566733534318, 148.25267655559006, 228.20693371672488, 168.27841931265186, 108.39175565431626, 71.1583868239235, 148.47872163360097, 140.82136692963317, 166.81888149134159, 274.0715555118753, 146.38134559702553, 152.5629260328483, 132.39218725535187, 120.79385958265563, 131.78864201392085, 89.59714175594972, 96.06989062591889, 115.75392443011563, 116.1002168775417, 122.2647174147461, 99.08111337590023, 137.18551264363026, 103.81655133650261, 100.96664983818891, 96.82686640562075, 83.17272793390646, 63.68847283790157, 61.49983425042814, 47.08496564596639, 45.51263057431289, 35.99424306444167, 44.441134770804425, 26.54318706769282, 23.060723172397836, 21.71190505837976, 21.554706745280207, 18.382096116273058, 218.2220520041595, 15.45484770637163, 14.993398080055684, 14.9847963178327, 13.544303204787672, 155.14038582668542, 13.064635799846112, 12.46010289776398, 44.59804210934424, 16.24800694519084, 10.689218564089911, 10.644303869608732, 10.162725038928352, 10.122843511533995, 9.14957586981563, 8.22837327598561, 7.652417539652179, 7.5923901807756895, 102.2428292398904, 51.7968469374893, 35.30286256983788, 551.6606741379674, 176.09394605952156, 16.928402457368115, 43.61947249546959, 20.239086057341463, 38.481368897662485, 156.17689817455505, 229.51326159971333, 50.01857115720143, 162.40696832894446, 50.16830943682667, 43.377883246488416, 328.08825952264067, 122.21086695246737, 238.33006787827236, 57.87183042272693, 57.69929636473627, 91.27627520215603, 175.99791891243686, 357.83093634069434, 154.65486290512752, 167.3322420490172, 145.06537229760252, 341.2280942334671, 161.4169010631809, 111.55659789698433, 89.3368992784819, 214.157519828387, 110.32948335655772, 169.6556711373044, 97.1227632936005, 121.02335820639993, 207.66440867199833, 301.745961290988, 108.39854292392957, 134.86916924998366, 150.92158725290093, 121.09403454136611, 115.8933159894906, 109.68067105444983, 79.4179367511134, 48.475331660589724, 41.56948147025201, 93.06412351927537, 29.346578883736235, 26.216111572226474, 277.97788041352834, 24.89248456629401, 24.650361948970886, 24.245687664645423, 21.500348717658525, 21.02883960532918, 20.925918691792592, 18.029672636799184, 16.194185182792488, 16.18843165839785, 16.135608268608827, 15.842277093745352, 23.697778855077456, 15.194981261258825, 14.439479499066946, 13.346645729722812, 12.858882424216821, 12.369509154080095, 11.91507077783535, 11.760689407530473, 11.96989475859408, 11.390319660574907, 11.179894971219541, 10.91546649472685, 133.86815746699764, 17.597001031038136, 73.79433394667531, 236.64559309744416, 18.12732435392528, 18.985922263899266, 196.23233151723593, 81.56441996545578, 365.3799128733839, 103.45594262910767, 23.879087887777548, 28.773901200325525, 196.6994281339107, 30.350853646249693, 70.66800411040703, 135.5171993344824, 72.00865804386272, 34.85055024228005, 147.90898635892896, 125.8255870640484, 158.3897563188354, 61.327059903352215, 60.80985602769404, 62.33524092925543, 69.99545994371154, 137.4353328564379, 140.00390669206342, 185.26297927510657, 90.8943536207503, 55.6032961247445, 119.19057600301872, 92.8877210454499, 155.7013709354521, 102.88959528281644, 87.00417284063371, 126.19948826781304, 80.2390892932474, 94.90312904414182, 93.11032694867801, 102.76720389755519, 93.2446245273989, 91.6500805102715, 90.37236974428372, 86.0213228984443, 87.9665885227481, 74.22134425677302, 40.52097247128163, 34.824958942195686, 31.14545021249477, 30.665611707264937, 21.718668401089126, 21.33531944488654, 20.078203356236347, 19.572499600904294, 19.206235576559195, 18.760644237047035, 17.8857639557606, 15.843008585521453, 15.32542529626733, 15.010174647393967, 14.51639442866244, 14.497034439402519, 14.08785591094511, 14.054463824303419, 13.609825083316794, 13.553443381073189, 13.213213481974664, 12.885844257601663, 12.401567428155476, 12.354156326009395, 24.302013325846428, 11.628968399790619, 11.62138685721847, 11.587558311576938, 11.529390338440255, 17.52270736989661, 368.6742104052922, 227.3561216226019, 43.9724949990608, 118.75354381172642, 42.88078616799565, 24.935863584202277, 35.56159945742933, 79.12894157848083, 328.00062713102574, 209.62428855017987, 391.5765342072383, 154.39254516982487, 31.60042839365743, 366.6318011101728, 104.06303316292899, 54.82192859695232, 24.67657363897322, 33.7398647840382, 74.85082992513047, 116.17081968151385, 111.33507278741999, 153.6198771642884, 112.93804517170342, 178.0896382145092, 72.98284249037212, 163.30460505533776, 116.16728043905194, 99.58204775517899, 92.66845157088339, 136.27447799260733, 63.4377624510862, 131.6386221848706, 54.39795684370198, 76.51885016079058, 79.23334447406103, 82.27617963841531, 73.36709766389862, 85.1975864384109, 74.73148990410617, 79.17190246379477, 76.11569048518926, 91.73866941523569, 80.09404891623412, 337.3052177400635, 41.409420398515564, 40.2277823332212, 39.95562358617713, 33.17113509385511, 32.5952832887597, 31.17068795789491, 31.108899690458216, 30.33928207760223, 28.72719350177128, 28.448179571868, 25.97065587526604, 24.941981419000623, 24.329490329507557, 23.734501334703037, 23.186998224454154, 21.918686027422996, 21.407483906050267, 21.261838286948137, 21.19927006039244, 31.155671395579585, 19.734316543667983, 18.87914305371571, 31.441307930171053, 18.150468596058637, 17.371045111628156, 703.7369281131637, 16.946394959720568, 31.96886570029836, 325.27009144408095, 98.96764063441304, 337.66865989532477, 113.48991560443902, 201.1437887598742, 61.71693406714499, 74.12935853912342, 27.62156621146319, 60.23462176147374, 151.9838676103051, 37.65364237538957, 137.56636088386708, 294.3117473563355, 129.09131569964808, 66.89492290756412, 229.0899119358222, 235.3995368840389, 55.828745463381644, 146.4237551841599, 239.2818350829302, 134.29830398393773, 92.31797230450526, 114.31977331286596, 76.77704723231265, 72.86083020884242, 86.60682032510958, 112.26033354607033, 67.91346964165473, 202.56504342246424, 136.38283400191102, 157.61794459338648, 150.5462056149225, 125.54443751032072, 118.83359407360896, 115.3739209520452, 127.35982524964999, 104.40198230334408, 106.41329013510901, 100.78060392250491, 96.53706248924212, 80.92923539619551, 774.1421559719234, 61.35340905896901, 55.3737252295175, 53.646859234474626, 50.46643693456447, 42.55381970319973, 41.9549554121935, 35.275022144661186, 35.26503458725471, 34.66304423995898, 33.14684920800485, 26.70561877630778, 104.70082797144453, 23.71776325439526, 339.4458199595292, 22.27170135944227, 21.654405737919276, 21.58947699285292, 21.139371927683367, 486.8921534715478, 20.64270316359693, 20.479836058554962, 19.905586788071812, 18.693391108347466, 18.609622635533636, 18.209327065072667, 18.027566777148316, 18.673514350982753, 17.628869515221137, 55.48826461619057, 261.22794019261926, 46.16376897954471, 99.56533756735786, 147.75428640602627, 94.66115822305116, 62.18284459068806, 144.55282844142656, 244.46307564486307, 33.376447565262325, 51.90898575805121, 170.24682161880625, 109.12899147758839, 41.73335608132387, 53.13705547463825, 44.03547630338619, 107.62967330082786, 398.28889035493677, 215.9698808076931, 62.04507574058876, 71.61223203125854, 64.4284306620702, 160.37736157278601, 80.5422886420241, 79.42327167706304, 120.38329873626876, 139.70276279929135, 107.95319233012115, 100.09450919167462, 133.6708255063632, 74.05467412066345, 90.64987634662796, 84.43181255035607, 100.90279359561272, 87.43793262276444, 83.08738597250903, 82.58063129356789, 128.69585818446254, 89.981292293921, 57.83853712952599, 53.74600779085783, 52.23559526946356, 49.375782695842624, 46.06248550271096, 43.6090343155342, 40.547024453375876, 38.71556617771008, 31.05960665477067, 35.785235469017394, 26.090867962668973, 152.63308465984431, 23.29548738868926, 22.831050257776134, 21.59656505254486, 20.785471439348758, 19.110988608898218, 18.87246232541049, 36.60082404354049, 17.691224474265, 17.047073302691377, 16.764360283173, 16.329711239870765, 16.037328777723143, 16.036907770781955, 15.955490937225093, 14.69502253418226, 14.288533473953926, 41.54197253639846, 144.13584353226153, 136.65316371332253, 42.408516667823726, 63.30257835365284, 91.48091268750953, 85.58986279918108, 53.367295692350886, 33.406985195872295, 236.58353165785687, 236.30409278505155, 196.25804759889783, 71.68173494789603, 48.8254095014751, 261.18548061139234, 76.15583796608493, 380.25498870665683, 137.85306092975125, 77.83630352675239, 129.39765459716676, 99.89664518302946, 68.04484696605137, 96.31429184466471, 64.55680762375518, 99.29331585742268, 75.58039006256841, 122.72733457771315, 123.68463894235502, 85.64355753908909, 63.10097617267141, 84.70053575579045, 83.24744348771253, 77.13594212517603, 70.95920684501509, 68.77511146715989, 69.64542883372725, 198.79712128689428, 177.76199207093148, 98.84652620056367, 42.36646820977969, 38.92315440421126, 36.39817676550423, 198.6189710958157, 30.29089432530224, 27.233007797705312, 26.759463043386596, 25.41881268514837, 24.854603682751776, 34.68814544226527, 22.547791921578654, 21.073912793242105, 16.105302519376092, 14.488630812027198, 14.359416199964645, 14.213163602470567, 65.0981147609001, 12.539566180971706, 11.847695601947995, 11.373932081175916, 10.37256063033907, 10.339551661894783, 9.82836875842523, 9.795352566560311, 9.777554058128178, 9.760607913330375, 8.775291030802153, 180.6256201794451, 370.48401022461286, 778.2026982173577, 70.1608451736568, 543.6189184448128, 71.24155970860997, 129.70127248489993, 192.33619668332693, 43.35315857414483, 167.14797209536147, 29.27906232947603, 266.5404402994659, 174.74539255182074, 71.81246585384774, 242.3266427714704, 207.31854519965776, 196.25947995990578, 121.58866115843874, 83.02347058696401, 48.909438488696196, 225.60629797489048, 117.25684597704496, 163.748275367391, 201.01785670400676, 129.80223526696162, 136.6015626801997, 69.3819292802908, 108.35785593178983, 119.37639571797347, 92.55476172514234, 89.27227428414749, 89.55109832046256, 93.44756825966313, 83.90541309685739, 48.12070241195423, 38.19242665128472, 33.02322782701913, 32.197350663754115, 31.93717795528505, 31.47452140654967, 30.241117579347648, 29.474856071947066, 28.38440700372316, 23.94945924063767, 21.495980044248572, 16.34797286421807, 15.933816198431632, 14.329140321110593, 14.13630350600721, 12.816235507955598, 12.335588560943396, 28.040869018431316, 11.541341318435906, 10.830506666763789, 10.637816827103773, 10.361311724160803, 10.045055803873716, 9.844613512916638, 9.174609847429275, 9.157408687149715, 9.129220609137898, 14.265871419465483, 8.788426836576317, 8.772498121231115, 515.5970067948667, 110.0369628780478, 36.45371118297502, 11.919238336998758, 99.64197364373352, 23.731087958952028, 91.65014968348305, 94.01189606958862, 17.347340444842416, 168.2576003150755, 17.80645347603908, 32.719417505405666, 167.66447990668598, 34.32377929821759, 44.45294431626099, 139.43106903071913, 132.24745699345826, 66.06013041035813, 90.96291667064479, 125.79575045037033, 117.95811782374773, 82.26777695999967, 88.92167339246717, 66.86887788770302, 95.03401565018244, 141.29867994949964, 70.05211230739496, 112.6053688177011, 118.04475682756936, 166.99159813987953, 69.5853988337502, 59.27602984196516, 111.76111771065295, 81.86691653843236, 95.70550417032025, 80.38367257776622, 64.88992401044176, 79.07874808378702, 76.72105258250411, 89.75830593680708, 71.99423373587595, 68.24898535437013, 415.900156687901, 194.64157348387263, 101.53776066796064, 99.75526208420197, 94.55309205277564, 64.2150524083338, 40.52220510748234, 30.39622941592015, 28.94871237888277, 27.826588885714493, 146.21090925607845, 25.943483190988516, 13.114476993130959, 13.074114624008983, 13.097359675514742, 13.03453576461989, 13.02541898292377, 12.661264478319119, 12.363778937711253, 11.91377853397514, 11.525563867502054, 11.51004795827226, 11.500518509528217, 11.167624463234029, 11.167624463234029, 11.161947503034222, 11.136212507786603, 10.79663028113914, 10.048033667600864, 10.048033667600864, 570.3469038712558, 81.34747140787096, 45.901323794881186, 183.20892662113403, 38.36777082874693, 119.25824136395168, 28.24591623108223, 76.8521070865081, 30.09785812824771, 54.66446470181675, 344.4773798306769, 294.3166368873737, 46.410807737056665, 46.348718076089426, 34.70197508762293, 28.120433847883813, 263.8950005650977, 61.581002359161765, 116.10571792285752, 367.12228704623624, 184.40136337445878, 200.39134153472946, 128.4444552203161, 74.41171313216772, 169.9825387858717, 141.5030994771794, 131.82506828955601, 101.0785105739972, 105.43011061839442, 96.53011667811565, 130.82599764881303, 127.7681273882605, 96.25591243679477, 83.63401119003791, 87.36264757180194, 78.60522823772003, 216.02582706644867, 73.83261395801756, 101.3027385417605, 47.27509627048956, 204.32514713527425, 43.235942666625824, 34.4711082126983, 24.49090462886744, 23.07421686964272, 21.78766838754034, 20.581707213171036, 18.956125519111648, 18.222187035919305, 17.314145040284398, 17.254021444214406, 16.524624975482723, 16.470883085777032, 16.111176666141116, 15.237900446308224, 14.813137591641548, 98.10460405270534, 14.117322101916518, 14.107755704017585, 14.003439011433619, 13.693977306415757, 13.584475147322534, 13.200371244197044, 12.750921308607156, 11.943934733545216, 11.55659156429274, 87.12242855791062, 188.57937025108137, 20.92999874065077, 44.98323098305307, 39.12424710622483, 251.41451374467854, 34.8184173975156, 16.383183476330355, 249.60680607310016, 21.36468184783134, 43.1660871884091, 325.10345216619857, 128.13793175519996, 164.5182704650261, 46.84957641341278, 61.490291742150504, 26.74520675252596, 96.27466515685978, 143.20633584094298, 87.56063788794573, 201.1396246584657, 147.42260688312396, 56.13584116930739, 58.19906708230038, 175.9930608770235, 122.67558545279671, 69.58810496546874, 66.89201447479894, 127.86370675190203, 139.96225306606482, 77.05057838927618, 84.1758371673816, 191.66353186564686, 97.85860995789237, 90.86208384080305, 113.52451780640641, 92.17129662297, 77.9122231790542, 75.45787348593497, 37.38994954250541, 232.19770330466503, 29.931169599297302, 29.04500626278732, 28.954772021460872, 28.629826638983886, 26.97526993632206, 23.031755925016476, 18.669572239415505, 17.24351242968358, 14.027930104465225, 11.481648015887163, 11.479610987418665, 27.76576112718196, 10.23693357273685, 10.149119286260532, 10.11324835146977, 10.11324835146977, 10.11324835146977, 10.11324835146977, 10.081030954005124, 9.283127777155556, 9.233544056301106, 8.858914412937962, 163.41285069185804, 8.460043256538544, 15.655485251655135, 7.464090205404535, 24.472165857186997, 6.519789376994705, 22.47601783984209, 25.926688112764598, 339.19494390160804, 31.515411226566695, 71.80865613893596, 94.56246346360102, 31.509847428638142, 31.061246549773013, 100.42611198271416, 53.920986348889144, 83.77894881692544, 152.68004319160858, 20.531584117762677, 31.163430192433125, 22.865483694840606, 51.603494904985794, 140.32760047588428, 143.49469190667978, 45.355493210051726, 103.40232073209421, 181.45919538272827, 94.20018363317608, 123.92808401915163, 48.19934581612583, 45.68394612824357, 47.473751030079924, 80.12916032259895, 72.00795270961358, 59.408178018845504, 112.39001206320935, 44.21344587597486, 120.37058253132071, 60.51762240629265, 41.038311242642806, 82.6146218118223, 89.75689474112765, 86.92765978140261, 67.77678754776628, 58.6801213134145, 71.10558931408158, 63.00518212226467, 62.08243795091396, 58.97306174388515, 63.26219391670896, 58.6842688082877, 155.89745346181073, 86.0219407955922, 61.037971108917056, 43.684076894481066, 37.887169548909114, 27.245883715997163, 24.595493443510325, 23.284608110660567, 20.905896476326625, 74.83688571635074, 17.11975901183125, 16.492720939950242, 16.477850627540242, 16.414791311558762, 16.146705511580862, 24.350397540433846, 15.557171483691963, 14.509388918979402, 14.057497194513791, 13.194909927297228, 13.047382805276895, 12.726522988734434, 12.561019365977836, 12.209374227722554, 12.176249211711669, 12.012731579906077, 11.505197641200798, 11.260648295964556, 11.25844154816817, 10.771600486251971, 222.53545291914693, 156.04350422113652, 39.381507923556946, 105.20586494272983, 44.735470351831815, 27.79174728005683, 139.93535155372766, 63.16680240742892, 109.68945780949542, 222.42581308813283, 24.099163119872447, 123.60144587857918, 44.86473046039, 106.78580116868079, 102.262659179638, 159.39734069504328, 98.62491463073872, 29.236924992750538, 84.4559951372994, 50.709692221716914, 139.17891550284227, 108.57453890274991, 138.86694750942135, 124.85554171811923, 82.44416989078357, 94.523400161909, 53.15596365731139, 123.48274598967286, 160.68285786579492, 87.11046735978222, 69.62816652050253, 71.41775773828613, 70.3005935128456, 63.669898230818895, 74.60975400414925, 68.37093905225628, 132.5794640829516, 76.53355889985002, 67.77257765751237, 58.46093214651356, 54.633934164598095, 52.67345410763421, 51.685715059001716, 45.85088690784895, 45.41507278992654, 44.73419718869858, 43.433663381054295, 37.54781827391671, 36.453720091062394, 35.6141103093643, 35.12400505697402, 34.85430604486677, 34.14390969462883, 34.1439067422587, 34.14313617365268, 33.193340986033895, 31.49857719386108, 25.812335927014104, 25.234616138408224, 24.92550888969881, 23.898897459644203, 21.962172172810746, 20.980426435558414, 20.502632566643637, 19.040468303423836, 17.667132000546353, 42.50251536322719, 80.33465869091485, 83.55656841304508, 50.51727324370216, 48.33385676524696, 75.59314043978956, 53.489849402937125, 76.10694731964779, 142.07565634653716, 88.20636242872267, 190.68365544094908, 131.5741466225174, 190.99223716777394, 204.34298483614316, 88.85724785408873, 69.79772052523896, 69.11746492173998, 119.05569571501442, 103.80776680544027, 116.20763871872019, 70.32481897545851, 88.53411094248348, 97.07645736662091, 111.3855443817883, 68.08831592955175, 82.67337279099954, 76.71966450386965, 89.53940478395658, 72.96380683279969, 58.59269052103269, 102.48065516984664, 100.40404967494608, 81.76909820796452, 80.53635294056097, 74.3920457544035, 63.974977717861044, 34.50336421759125, 24.805044364622105, 48.394269613603996, 20.919337312244103, 18.077984377549928, 17.202687830776945, 16.6746269803021, 15.965237526748254, 14.219513482925914, 13.956579093046606, 46.57290843356524, 13.123214277651588, 12.962263232408317, 12.691078270574943, 12.690942781493588, 109.35700843636216, 11.80194258379223, 10.977672651258244, 9.856867036669012, 18.023522045447947, 9.319561552243215, 9.313231359742241, 8.933083939382215, 8.893849153823634, 51.066696187866114, 137.51063549644525, 19.591063685280425, 46.36073253216394, 27.989340131036766, 16.586504881789068, 38.390916773877386, 26.957577940713776, 357.1397941154676, 40.05826537583909, 36.820455700891934, 273.3361176994379, 71.20314050682107, 47.606056891120616, 28.71438641759178, 202.79560722489393, 50.097695392428285, 45.2570926710819, 106.42187566435776, 115.53194471211091, 95.55088782885856, 82.15427512564452, 77.53060040695284, 50.68240921952049, 40.177974970918875, 49.505759284199456, 52.17859089950478, 50.13575784088294, 54.63036138207365, 47.65087953163443, 48.9452794620586, 48.658424831416355, 47.77934599997229, 84.01294412378805, 47.06836066370226, 38.91175282415105, 30.609227497833622, 28.03031464286193, 26.697141957611834, 26.130638137017385, 25.218141079759057, 77.66288438927226, 22.88073105480205, 22.726763563898132, 22.431432588568747, 20.604054590473833, 19.070956331873855, 18.78687642115104, 17.937687572903684, 17.2529582797767, 15.126561186809647, 13.807521332353229, 13.465895392051783, 13.465025450428163, 62.13841758617462, 12.906351104446298, 12.886320800033083, 11.175948597373209, 10.648732855796343, 10.08916150935342, 9.976541951467023, 23.932445830677043, 9.54956229082322, 20.906553451840452, 33.12995032289567, 555.0822203708093, 47.451324389957186, 70.54523578962795, 37.50352704150017, 26.126576605517997, 203.4626937561942, 84.10976605590741, 274.55814394627913, 125.82120208380013, 45.43382288237417, 39.76520208635296, 206.3017719213613, 98.57548549128003, 30.682697653244304, 125.761380405993, 111.74941602737967, 82.73537193770481, 38.66121504831593, 94.39018686945037, 57.90264882075628, 77.66304674229688, 108.7419128344657, 78.03725964052448, 94.78421766021731, 94.02427562254864, 65.96061366842856, 57.12263453747639, 89.48512317177948, 97.23757750947834, 59.92221762351953, 65.58003653163564, 63.49849757937271, 57.585903481478745, 57.51378085617246, 194.3018283069349, 70.96554119988363, 59.49071217144937, 54.59894095283332, 51.653798774703475, 46.77460296725802, 43.36405639872991, 37.719704175624905, 33.552338774012334, 33.05792012730893, 31.61582900970247, 31.265201799046636, 30.042205888771125, 29.980645852331282, 29.133815646089733, 26.88858431704767, 25.43447805257741, 29.567635468102395, 25.033326153628902, 47.94089269489856, 23.20381890607425, 22.783979138920788, 22.779895316627634, 22.28220536363999, 20.275005378914333, 20.184488174712467, 113.77789126271976, 18.477149081772158, 17.858804484382844, 17.633267565164253, 38.03134654953946, 105.45484900678622, 49.02449165930541, 609.0297970307907, 66.1996249936544, 141.57052709317247, 64.28741370646068, 101.03531421677408, 146.3402509724631, 52.058336157022445, 37.614180650428395, 182.57500248337095, 69.84388674711171, 66.57355229574223, 76.91561186482515, 207.832822030756, 364.25396443633974, 74.94179274613225, 122.18109114374155, 151.5058560177686, 133.3815128047742, 148.0306560103484, 75.58728626487161, 86.85685675565608, 145.00500571002843, 84.94143788892393, 67.02594846415471, 72.46162745814763, 67.01003801995407, 56.63811184934098, 506.05336171526034, 287.3426856317251, 326.02907618969545, 124.58530852862896, 93.31795527843796, 80.33537376380502, 56.166065481622184, 51.31146807131613, 44.41690911071285, 37.0106557762906, 30.753935089877064, 30.59994737873048, 27.28200080381526, 25.175498765371874, 24.682365379109303, 23.18545946963304, 21.272701715456858, 607.6723459677058, 20.67301502939447, 20.218331399734055, 19.63802799397498, 44.13247036239934, 17.40281384622747, 17.14352956881353, 16.791806075887454, 16.490589527263328, 16.2973122959586, 15.31285666397376, 13.831746695338357, 49.781854477818854, 20.956869087964424, 250.4522010685444, 356.08114132541914, 35.277209088648256, 256.1467344134843, 21.289811461139813, 59.15095088186033, 80.45912299861254, 44.6522013083907, 142.34795931151478, 160.22073675701566, 53.5951823497637, 39.24421252661763, 36.485159463306005, 97.74333451038464, 137.04741833496595, 54.05076048484852, 65.76520352285556, 73.41926281313249, 43.03990652860741, 67.62461940277797, 71.26053703221584, 71.86759872914715, 62.48233134423009, 51.48346469245249, 56.325902419645544, 51.88676550791623, 161.31670828707004, 143.8286664172, 123.11942698508537, 92.65362972401802, 42.46412229920212, 37.891577504011146, 35.481219469169496, 23.16910134021366, 17.92323391312406, 17.87082352554233, 17.2210302316613, 17.191322926348484, 15.883145661188886, 15.915394542179504, 90.07919440737065, 14.419700538228222, 13.425738696447992, 13.089884685427437, 12.154868556842718, 11.941914403193088, 11.21986217439396, 10.280287019987531, 10.20744331691178, 85.96460971194234, 8.442629802124204, 8.286475045950697, 8.151181893801493, 8.475491065324364, 136.92338614557593, 7.792651873111913, 172.47850298340896, 107.59217772206863, 13.145606593427882, 128.16070894060377, 15.230992719501321, 211.7199116547726, 39.46907840741022, 143.5012915444654, 153.01584198846908, 61.08534956305383, 273.8026591139849, 38.61092463862913, 76.62918891528402, 72.00625443136721, 73.74712223155085, 103.8175555754204, 65.2691361554205, 47.950204905127976, 32.950689412121974, 158.09419391356676, 55.28455772952658, 47.77371321191606, 101.06866009345696, 79.87808283012147, 86.23970197976668, 83.03145594931014, 62.617398819947255, 69.29669868575793, 61.36094429833215, 50.0325036719098, 51.55050982978757, 210.0844004036272, 116.97342247830017, 30.29857508044701, 21.34714883109943, 15.041111580230927, 14.052939799891893, 12.921867434382921, 27.895173363539154, 9.966774066131766, 9.219694364260944, 8.778380776799965, 8.289368502077874, 7.544949675740495, 7.531644500209553, 6.710445651583037, 6.661054695354478, 5.835745252800437, 5.801694024609651, 5.450872944401981, 5.417043123395762, 5.412537187990928, 5.037638176194582, 4.991101178521682, 4.93842023121002, 28.839859974965535, 4.203030429752462, 4.20217551876773, 4.200421016429487, 4.178936540889222, 4.173022774936035, 59.093821707188255, 23.66842324301196, 57.94302774604641, 47.763933365347924, 9.552155403287857, 40.72578912333142, 26.345010308989888, 236.37212090547965, 52.73668607171291, 10.475311662009604, 94.51408192895515, 46.647734775459476, 48.56541939484258, 13.474739126180184, 89.096778701984, 13.64241018865485, 36.11559526941105, 58.95129133078819, 21.347592443332292, 92.9163630047521, 22.191392377786645, 38.78710792207782, 56.634409956562955, 38.907176838802485, 36.80366975712888, 47.35518458595215, 31.1338618089218, 34.95662799223784, 46.50473844664216, 35.958345902953724, 48.58969040945347, 48.362241800736946, 39.548796508811414, 38.652929583184225, 35.30515720888635, 32.2847706624405, 32.17376866912275, 140.28240812433933, 131.49547009456438, 130.2595739569727, 129.33214340076123, 106.6102234183192, 100.11814826543906, 66.64075007272763, 36.51293621981309, 35.64207565627856, 32.3949629773733, 29.434250244066934, 22.656684847673827, 20.41783297143349, 28.19962217604958, 19.29770944189894, 19.031877339758044, 18.483107979587757, 16.572940349607173, 15.236889687918495, 13.845596831041922, 13.381160223504404, 13.381102027074665, 348.4451564008014, 11.614512646686839, 20.10342675976487, 9.673676263975942, 8.83524489517135, 8.83524489517135, 8.833517380099076, 11.148063667868323, 28.843525852509316, 27.169217631868705, 131.75862822390724, 24.829643050598914, 17.61719104961111, 103.70609905550971, 174.26108585906846, 109.92449171417407, 42.69372785892564, 73.75539837908292, 53.59589782777888, 54.39440185132707, 39.58021274191278, 59.66033948899187, 73.02563352796724, 40.8059949526097, 47.376865008387384, 51.2330462060982, 45.7522473498345, 57.09792005785389, 36.889709094857736, 37.52167944025086, 30.806718087407713, 31.863384536251115, 47.74310723515972, 43.766473820582085, 19.06098601404256, 15.546857349209724, 22.534942887180357, 10.197623059209624, 10.174005500400886, 9.798448473824534, 8.98657938747185, 8.835598728906032, 8.746087322431864, 8.33566394850092, 7.835436611826737, 7.315562849700535, 9.685613336794477, 6.325549255198621, 5.404942727558569, 5.397023992545035, 4.954495430046852, 4.43065053456393, 4.429623725658673, 4.42840548319474, 4.382373662231798, 39.073003771716856, 62.252661812939465, 3.9139592758517274, 26.97316903913355, 7.505220719021559, 3.4485127456230233, 21.921839074003312, 93.66177252115988, 47.747737256113744, 56.17968210875842, 14.232957889176722, 27.513006586664527, 220.3891195219008, 295.3823117527255, 60.59204628652557, 9.018464204849453, 138.10290144996438, 128.1776527292048, 157.03568803491544, 51.53005225280564, 126.23113086491247, 88.45996941899148, 34.594702498835794, 82.1836758276426, 110.20862281360634, 65.53882681695941, 84.99405784325319, 41.33678128609442, 50.53897337188917, 82.57117805388359, 55.97255227025486, 51.63669537280158, 54.981590411846014, 46.86069647241468, 56.75599251915633, 51.80856073302787, 44.681554214696106, 44.848423222640136, 42.111826442057286, 49.86133409394142, 46.94506204176529, 43.05387679713988, 42.86796377419659, 31.38808380037111, 29.30655769727003, 26.4618417704152, 25.23337352055804, 25.055054589006843, 25.035212287898503, 24.625247139336093, 22.165987356110033, 20.932068325706112, 19.51749952893857, 18.47396640858558, 18.34024797599907, 16.017839156595006, 161.24628644087326, 19.70545895436836, 12.942214523096181, 12.925771565847642, 11.070099832129928, 9.79952741746058, 17.142037787999495, 8.638513048825866, 17.290025661786455, 8.025215285182622, 8.021968225886699, 7.991778755010364, 20.176121457862457, 98.21881155322801, 119.86501771196748, 16.40976047216298, 155.99282641529615, 100.2607638065225, 74.08736661979486, 29.374184629133246, 30.306153574568775, 29.03618337612931, 36.160359843495236, 44.07245161016828, 74.91442534476934, 66.19168131241703, 66.1496809779893, 45.43334198599381, 24.579624697678266, 28.223499810564924, 40.21308502954268, 36.50346325866416, 36.38684600503618, 32.493647080227255, 35.61626849210916, 31.491272324275254, 28.871685841937733, 29.99002088835784, 29.69036262314831, 83.98474504634632, 65.13869167974536, 46.03510407206655, 33.91453636230484, 22.676748885233057, 19.914217256584358, 18.807278115093194, 36.09700890661035, 17.13153949911461, 16.59921761648871, 16.04745243266674, 13.286419850332313, 13.28191672478281, 12.725984862707117, 23.020715359006363, 93.98121920556554, 11.628280660690383, 11.621758851366229, 11.06438182243644, 8.802968086382164, 29.98718348675693, 8.548517546408462, 7.209070574431231, 9.049218172516847, 6.65656903798684, 6.645657249979554, 6.645657249979554, 6.645657249979554, 6.636798269405032, 6.549214812243794, 115.99540877703157, 76.4794559757511, 8.834680339321316, 39.20116504849664, 145.07892835233378, 89.42386936733924, 50.515365573313524, 70.86376507179243, 92.60133988934975, 60.826792715661114, 71.81486924927282, 59.49870952049599, 56.90907109295028, 69.32180197150662, 85.29159733955882, 43.02082365904172, 29.392588921379186, 30.939983071250897, 25.088393522778983, 41.352490475534196, 54.88462101873875, 44.90015838717511, 33.69369762557188, 29.264231284737605, 38.8613245440516, 52.194804980413736, 51.83692906664158, 51.47726610170599, 50.76230593200607, 44.04698968329646, 38.71962135570018, 21.968182115531746, 19.1711981964245, 15.651238571942896, 22.550287837460026, 52.98541504236126, 10.396230536305175, 9.688542995423884, 8.959633494350092, 7.8991605160563365, 7.794557629979622, 7.431313286450209, 54.46700269813458, 7.182861513237232, 6.466195058937047, 5.020950901336086, 5.013518558457862, 4.983164883240476, 4.9603661559994565, 4.3172030951960085, 4.2780778801678645, 4.260244841308307, 3.600717819942931, 3.600602127298392, 2.884129767419154, 4.288047821145634, 5.4836119716721035, 13.109955770813004, 21.534835305679007, 41.435071793102345, 17.726099564162578, 23.182221435476293, 20.087857941290054, 31.305192646712317, 39.77119327663142, 33.20744748954764, 18.453692788544735, 21.672999973072287, 35.707683413547336, 28.110503983790505, 17.021155903548923, 21.168245334605015, 28.6384670033282, 24.39527263836875, 29.660209140262612, 21.157722397338887, 18.636209213517855], \"Total\": [4100.0, 2419.0, 1361.0, 2025.0, 951.0, 784.0, 960.0, 2310.0, 882.0, 634.0, 1979.0, 4902.0, 774.0, 2382.0, 742.0, 1697.0, 1076.0, 856.0, 1339.0, 1427.0, 1662.0, 934.0, 721.0, 626.0, 1047.0, 760.0, 507.0, 2365.0, 1072.0, 1968.0, 92.40365482506463, 75.33601587613384, 73.28036362159354, 46.70672244860066, 40.5874372729658, 39.61732175012246, 38.825819223219696, 35.706994991298295, 35.689686495264354, 35.486662075662224, 33.30837468773423, 32.151014342726285, 29.670737282044765, 29.670578540509545, 29.323549663467702, 29.291754240444714, 27.711652207423274, 27.697991434422313, 26.997935630426284, 26.955968699749846, 25.63734866841917, 25.603438446885235, 25.574868969424468, 24.96957154767199, 24.239420362595883, 24.182519829408513, 23.557146171314184, 23.249805706949243, 23.173440198996428, 21.39576120902511, 622.7359801961774, 32.356226495630814, 88.63999137486307, 78.325323870428, 151.59289038116373, 71.01624577991055, 1712.4997516819644, 337.3763581992891, 104.9187240995278, 80.79745815172235, 382.9047693086447, 1968.6804141564025, 175.8759446730626, 145.18618986367653, 1432.5211601050075, 1729.41255620515, 222.47706455252762, 124.08160670751097, 70.44799441876644, 2928.4177448213095, 233.7274553804172, 122.44275732048675, 542.7950062194252, 607.9931164239865, 962.5007312993986, 649.1389795845881, 269.92513563916197, 717.6866295949319, 679.7136340802082, 357.4653585636566, 4902.15943202496, 616.2019207822034, 440.93248551389115, 1799.7264407307373, 959.4017526652841, 368.53315215000777, 1098.1552760053855, 2155.305583214838, 2528.3500498317385, 2926.7901514349455, 1549.6515786872524, 1071.2828052455707, 1037.0733827608062, 1998.0677065359007, 1132.874076941903, 1399.8118319872701, 1538.9815051952153, 2231.22663127977, 2137.824851380322, 1580.0899642960153, 1020.1902435428449, 150.53181987174725, 62.47699515579822, 60.94336467098795, 58.73691809541512, 53.440160740852, 50.30701076743682, 49.66858121923264, 96.28375861547651, 46.74487934630913, 46.191795958305946, 42.81624661370664, 42.841626269118116, 40.52448195901764, 37.082238193948704, 37.01627076802668, 36.95143742286626, 36.61551923725424, 35.29201697488345, 39.91056972409868, 27.505249910410736, 27.007977022573797, 22.380407455661317, 22.244912901831082, 21.873151870844485, 21.38234404150986, 21.255919904489605, 20.492474856883618, 19.969223681165115, 59.689158067958935, 19.444843836539473, 204.33328937576823, 898.6615274857256, 59.84548910640884, 91.75673591118588, 401.4842317100402, 254.28951153828487, 226.85409643934233, 50.00975945827245, 386.0061070675777, 67.17784309427799, 379.68278405639217, 335.89944908959455, 1322.3916002958508, 103.00369490586543, 385.21351423120575, 345.82315000017064, 443.87568692103804, 819.7486858620765, 641.4376076033338, 132.4659892280303, 1372.439385638731, 969.551393488009, 687.2959939185707, 606.2198837834227, 468.1510907955953, 612.6613669431121, 1662.0801761946934, 1549.6515786872524, 1247.4481511495142, 733.2229860865477, 2588.320112940367, 519.8062848528815, 1665.5859864097129, 579.3420773374188, 1063.3463453929405, 1968.6804141564025, 702.3425096000731, 1171.3614217868887, 1006.6025763651601, 2025.4963606077754, 1626.9591101378971, 2382.7643938246174, 2926.7901514349455, 171.3236837981516, 81.36159776035147, 329.3079095685065, 125.34683061675787, 51.247080606969725, 41.42931895267187, 38.567532047735234, 56.28126968214694, 35.23389989436363, 34.97955007371469, 34.3264137858986, 29.14032285011817, 27.246752546871114, 27.127016817305392, 24.346018055167058, 24.193425613152616, 21.960778455293344, 30.16342741995536, 19.08459540643459, 147.82558301111382, 326.3845290831232, 19.07307536668821, 34.63300083825064, 17.098905949480994, 533.0990884831375, 16.2734528239247, 16.196804832288397, 15.26747633629756, 15.26413768470288, 20.985752461193968, 453.699397435643, 2419.195665729814, 303.37264059265686, 447.2571713658432, 388.2801503266505, 453.72053738840685, 225.57337333625884, 337.2206522707657, 1183.3204307942215, 347.1993984305428, 65.74168668838315, 430.2519443464584, 68.37350451526392, 431.0475099983939, 192.49529133904198, 521.7324715777178, 1401.1863889518393, 826.5933202748214, 284.559980824221, 865.6296706269022, 204.45004827730617, 288.77802282951126, 1585.1921962559854, 1137.6388274287851, 403.6896195324514, 4623.693263814078, 1008.2110956037002, 512.6866506429996, 1217.3150206893138, 2382.7643938246174, 1235.099262309981, 1123.1719688327817, 2310.717987410925, 2926.7901514349455, 1827.9261093606046, 2137.824851380322, 217.07648598623547, 168.63402492739436, 94.38261347333341, 81.84315769664039, 76.4998144889858, 58.33341173580756, 54.224598596091774, 42.594976323118374, 40.215232087365905, 36.26248365574256, 37.4089454752925, 35.93701493664637, 35.317864982632784, 35.10772496764579, 33.336832290646335, 30.123911114534675, 49.73394201545437, 28.179964972262002, 27.68334539511562, 26.33060687445169, 24.0234014382162, 23.55031268094644, 22.95539060745216, 22.115302384181884, 34.253493016880014, 21.20343403599365, 21.087573166068204, 29.361033869237616, 20.553560297147314, 33.3600706884648, 249.45393270043618, 1008.6171923165015, 73.65704438328984, 424.0135540542557, 118.31324473984209, 536.7956781584683, 52.10031012568049, 283.2087606869033, 89.82200714310427, 449.6717327242215, 307.5444949296675, 101.85442502822924, 332.84531764461155, 412.408591927469, 716.8586103971406, 1626.9591101378971, 284.39422367622393, 394.7278637826928, 122.79197358394018, 1559.5087334407197, 244.6823165892658, 437.19745238466373, 640.7938399233603, 669.3220063107095, 303.1684656572898, 1505.5439339099553, 527.1947126264961, 579.3420773374188, 626.5572533873595, 1099.755139018865, 510.6743280258425, 728.1085791819107, 1372.439385638731, 1130.3572976688115, 1549.6515786872524, 938.062482459777, 1656.9936406113354, 4902.15943202496, 2926.7901514349455, 4623.693263814078, 2231.22663127977, 114.8208698310889, 70.37321347496689, 49.96581127761107, 46.81488255353854, 37.09479837903838, 36.2558730488977, 34.749431480041494, 31.125505852961723, 31.077136175508677, 30.678653386764747, 30.576728924540205, 30.565040437885123, 29.99262270002803, 28.547662518410863, 26.24174151170807, 26.11987255751952, 25.507566221886428, 23.7545920509025, 45.00943326195989, 20.27357377840091, 188.51179496336965, 19.803764363745497, 18.70341984512311, 18.60800887515053, 18.194123912125914, 18.153446761582394, 18.04069645503931, 17.897203241401435, 17.568834455927146, 17.567947963992875, 127.2785285136948, 35.43230391884879, 321.9527219199452, 35.93564348181674, 29.00984122368339, 25.97295363050653, 41.338251593754464, 379.8017743885684, 562.3447804690021, 402.90560646146207, 300.32600977597815, 210.19164980109605, 1339.4669327688025, 174.70427634892746, 361.60465436977006, 50.9093361106904, 523.0079480490551, 79.21088338823014, 1047.3297253854353, 221.26278343327684, 1008.2110956037002, 605.229986205831, 1979.2246865152267, 128.64185302022318, 849.2791578940785, 92.90792830903524, 934.395124788693, 1137.6388274287851, 228.88816065446323, 864.1416505516277, 2310.717987410925, 516.3809645591942, 357.4653585636566, 4902.15943202496, 2365.32359747544, 1827.9261093606046, 792.486829371274, 1656.9936406113354, 850.2941907110583, 2926.7901514349455, 1187.2972502109733, 2231.22663127977, 1375.991830195458, 2137.824851380322, 4623.693263814078, 90.95082615656901, 47.494071314919246, 43.66197767811413, 38.75037405185251, 32.3971685396551, 30.813456430757473, 29.649149262071415, 29.15696968146915, 29.11699580313644, 26.217557596402035, 25.237600517115414, 23.325558139922236, 23.293363926771672, 22.892491704686364, 22.762260837196933, 21.159679904128414, 20.775708691383507, 20.26681070355491, 19.236349991520203, 17.292890133496613, 16.830984195065923, 16.775768690460733, 16.43130295309897, 16.242076908741257, 15.855167410530738, 29.961408915482117, 14.884161372549897, 14.836395782468232, 179.10617576157173, 13.928691857792327, 46.52528076214697, 119.00040683722689, 174.07029295241486, 146.3787290515321, 77.18985179468957, 67.52571668930185, 294.8309896697644, 96.65044659417129, 302.65653591166875, 144.68072407065947, 765.6895127914162, 62.73456292541082, 177.12035193622802, 123.0362121662642, 128.82818260952635, 71.48460123720557, 139.5969804043946, 319.5926939374219, 504.33114842534644, 135.69002731008942, 93.05396800647723, 67.338746983302, 396.0953914608434, 122.71222941225997, 569.8476938813133, 340.8972485195563, 1640.2913422342558, 215.21931890716706, 157.73140760830393, 378.2261547011215, 199.22145782899437, 1242.0600262967353, 1321.2234970702025, 2310.717987410925, 223.83926408039736, 1539.3424628092366, 1072.5869420306005, 973.916535279831, 1756.1844754359824, 491.6911447558499, 4623.693263814078, 2365.32359747544, 2137.824851380322, 1281.594865859623, 1128.1127896449532, 1602.0413200562696, 2528.3500498317385, 999.961836805568, 1086.8852591559505, 975.183029798287, 1352.1958681928552, 1223.8390949191507, 2382.7643938246174, 149.05596072921003, 104.77542883280334, 80.25326811015404, 42.762099780542634, 40.175840174444566, 37.339198471471036, 32.80452164596115, 26.339232773843023, 25.418722365511005, 24.454284307107347, 21.135845801962045, 21.042929624438713, 20.518735539285906, 19.41526457962729, 18.028495229335807, 30.820030710605764, 19.00814308778869, 17.936000736715048, 16.84807804815196, 16.532517157332684, 16.070562942045505, 15.089194186099737, 15.08912791447064, 13.910358002033027, 13.848113215474342, 13.683263211999376, 13.209839931823314, 13.045684936292233, 12.849941277567469, 12.123090657088781, 319.28927661566956, 132.88786377613806, 32.01530011502476, 94.56144717051008, 300.7208453956696, 49.10277850505025, 180.83609071834584, 33.72185558052744, 69.3350771347055, 47.771994578658564, 1427.8898588093916, 148.2312269318574, 72.09219964153199, 118.88090833563987, 554.9540896855764, 554.0913656069499, 479.06680604742, 616.4241317850835, 193.31204642853984, 64.65571098233971, 704.5233846834276, 112.13186006499681, 92.36810391882223, 234.6331964479285, 1535.033944307765, 354.27316811444564, 215.55749326765502, 365.03662914526313, 1154.994955673597, 351.86507816348757, 1665.5859864097129, 1538.9815051952153, 132.80955202843305, 955.8394211067787, 182.77352738351257, 887.5021417855927, 1269.1277525367998, 762.6938885059221, 1611.7872738287244, 551.2947683337422, 1141.6631736483785, 4623.693263814078, 1580.0899642960153, 833.3681356900206, 1171.3614217868887, 2926.7901514349455, 1049.7350465822967, 848.0772501822037, 1626.9591101378971, 1145.8779283362396, 2588.320112940367, 136.75011241992857, 119.84171221319889, 84.10220336390987, 72.5297058692498, 59.56035639184899, 50.5103257940047, 45.49798735498202, 44.16102194468511, 37.6882984623424, 31.724237476070318, 27.465991684849932, 26.54540733994378, 25.54769280051252, 43.5911218726702, 21.417706794581253, 20.990934700917915, 20.947230634274824, 20.941982954175202, 20.027057999211184, 26.76854483056449, 18.208774727777747, 17.142590048775418, 16.90716104214851, 16.80831551991203, 16.76574589234425, 16.306475809621464, 16.30647601041843, 15.405922816745571, 14.475302532943706, 143.77511186540173, 47.12378677923757, 47.12054711096336, 233.54719643444696, 39.05954418002769, 314.14911185469134, 54.127402051837244, 34.17338438390765, 359.66043301594834, 262.02381908089666, 90.1192548509309, 446.78617443588956, 268.71958111299966, 84.223875046765, 753.9321849345138, 552.4602599185592, 227.46993091339328, 136.0501813411756, 107.96647721255131, 1423.8084763512243, 103.11220398388464, 684.5654512992573, 96.81677438178698, 750.1259072465388, 460.98263267331726, 329.1258397243462, 245.16537212643647, 587.7304567531727, 675.5495800453643, 267.3297399354973, 428.8019605095529, 1172.0190361072014, 793.5112241617246, 1247.4481511495142, 1141.7531401408628, 957.1859013742402, 1086.8852591559505, 2588.320112940367, 363.31277630094075, 1028.9115880006232, 1756.1844754359824, 2365.32359747544, 1067.9980664359382, 4623.693263814078, 144.80811344620273, 106.2078947577524, 80.1419778605408, 76.75951605947984, 57.25507546475291, 52.19389560009881, 45.80748485937217, 30.752749113475332, 30.03338759608144, 25.33898348589919, 24.115645159084323, 23.814476605972235, 23.114965022115015, 22.20885793127962, 20.670826643634495, 20.670826643634495, 19.797405243177057, 19.312322598639174, 18.682055247862646, 18.868951176650363, 16.3517084258924, 15.866322063549521, 13.914037276626214, 13.073252675265563, 13.002746353388881, 12.995040947214388, 11.542919061447131, 11.020872775588716, 10.626250202990386, 10.186995703393938, 257.8870671324102, 856.4344243381361, 661.9158034637829, 4100.397694933488, 862.1121858196336, 54.734779475841606, 217.7216343012393, 98.41565400246962, 525.0349262106545, 258.5186634864145, 227.7592087900127, 137.0624347442367, 481.13836259689367, 593.2089595903235, 282.52119244499613, 803.6672903227744, 702.3425096000731, 1462.9315255012784, 376.52161406213975, 1321.2234970702025, 423.4703268627917, 4902.15943202496, 286.0348161410117, 327.87962499012065, 550.5387228854315, 472.27354315357917, 845.8248648837401, 720.301616919581, 2928.4177448213095, 2155.305583214838, 440.93248551389115, 2528.3500498317385, 596.4739240079822, 938.062482459777, 974.5148378066006, 1713.3256355609337, 1432.5211601050075, 1729.41255620515, 91.84487876143912, 50.34232248996687, 46.73746171229879, 42.753973641892166, 37.27319416657657, 34.989515638148575, 34.111604143248144, 32.01439477017687, 26.192023881992537, 24.915492293963407, 24.630622968215675, 24.62539896074698, 22.8668724364164, 21.682835713950652, 21.049387214335724, 19.905927008029913, 19.685852619702615, 19.131480862595282, 18.72124587560308, 16.944353032810675, 16.245787522750582, 15.738336569340209, 15.172582651417356, 15.169096803899592, 15.128111379619332, 14.893305345073582, 14.526180057307535, 25.342920938473373, 14.113019147311926, 19.615622651536537, 100.69094149266418, 45.092991625742094, 67.61494107454749, 105.808262587291, 123.74932224497627, 97.05663392860689, 44.85847929357783, 42.359781322683176, 2025.4963606077754, 470.0465067652941, 847.3933721719878, 245.06514212974074, 276.58333859395896, 596.7626946501465, 651.0707449867219, 120.39451180845317, 642.0240606901973, 443.7440788891332, 913.2221618030009, 803.6672903227744, 116.29836911770518, 580.9591629903173, 177.4028525809548, 458.281215206, 489.30046922718844, 722.0784496799732, 1372.439385638731, 841.8217910921595, 387.20649973560984, 733.2229860865477, 1320.4883470892164, 1375.991830195458, 893.7211581431288, 461.1879723893006, 1423.8084763512243, 4902.15943202496, 1611.7872738287244, 853.8403892521053, 832.0484447689098, 1662.0801761946934, 1095.0793991144724, 592.280244407933, 1756.1844754359824, 78.00016363819371, 60.02425411549492, 59.086960286114916, 49.765760203708105, 46.23382601323474, 45.70551130928874, 38.94355808757118, 38.93042573910084, 36.36864089806908, 34.76925697129441, 30.94301898532173, 38.094255315212514, 25.117085245218068, 22.038810437669962, 47.16193811861285, 20.58344433488488, 20.50576777746759, 18.921715457547435, 17.585362118127772, 17.021790671804627, 16.806916835746026, 23.104889729262833, 16.490622127960087, 16.32108802002295, 27.81743498050627, 14.82733622503004, 14.702146716019943, 14.43085049732803, 13.90053868263557, 13.389629972197179, 333.5636262373008, 238.28433217467764, 53.30379203969765, 1361.0971726762348, 19.996624525244716, 47.9116182729278, 136.6132370046349, 118.20021060962279, 1076.6962948391024, 201.9351555938693, 119.75040700864902, 1047.3297253854353, 50.674127831039826, 42.57801179103869, 240.57384502358698, 174.03614512402552, 605.6462732123613, 83.91826550788696, 1339.4669327688025, 169.34222270466765, 257.7899550130368, 308.8021008000216, 1427.8898588093916, 108.30446378085271, 779.0698921804125, 2310.717987410925, 1076.121013193473, 1535.033944307765, 760.5272484314664, 1827.9261093606046, 1979.2246865152267, 516.3809645591942, 1145.8779283362396, 1585.1921962559854, 850.7691899913355, 1278.4284753367822, 2231.22663127977, 4623.693263814078, 2926.7901514349455, 2588.320112940367, 1269.1277525367998, 4902.15943202496, 1697.411054619484, 484.6193180526022, 119.12761182560601, 72.15582416306574, 58.52858472326163, 49.46421671696453, 48.86363514330026, 47.38020209667937, 44.7981502356233, 36.315605153041936, 34.31100564330761, 29.49990076005025, 26.69598983827033, 26.216366362181034, 58.470611213264895, 21.498997862474816, 20.990167536891057, 20.80852991783665, 19.308783369677737, 29.231681572145796, 19.169541799132027, 18.299000108585435, 16.511342845174777, 16.46758184761823, 16.24831977917485, 15.74749045798213, 22.991895456131058, 14.590198939810545, 14.215962520550306, 14.137813113078208, 14.104249430062195, 19.78051062184315, 87.18015074014544, 21.23967796592556, 279.97121190182594, 67.68158768241402, 58.077080962983146, 46.27101003911443, 42.25302974696944, 73.30236693164512, 142.92203203272473, 1697.411054619484, 101.65452469067846, 63.913466700114554, 656.0859902288547, 477.35728279563347, 170.1278286105508, 165.61918572089152, 489.30046922718844, 1034.6918567107173, 717.6866295949319, 424.252514382168, 184.7344947789639, 922.5061871458947, 875.7090852053734, 1399.8118319872701, 4623.693263814078, 1037.0733827608062, 1585.1921962559854, 1063.3463453929405, 817.5886530507349, 1756.1844754359824, 460.98263267331726, 653.8188551795309, 1505.5439339099553, 1729.41255620515, 2231.22663127977, 816.459338485203, 4902.15943202496, 1247.4481511495142, 2928.4177448213095, 1626.9591101378971, 84.12455369486088, 64.63927979685415, 62.450641076053174, 48.035772689267034, 46.463437249263805, 36.94513713094676, 45.66358016489611, 27.494009286397986, 24.011696439023535, 22.662716534369356, 22.505515010124878, 19.332902653628246, 230.25228101486553, 16.40565435101072, 15.944204941178421, 15.935603122519248, 14.495787503004923, 166.06398869431197, 14.015442669366303, 13.410909397941518, 48.36925518796934, 17.660026094823017, 11.640025059351238, 11.595112508259765, 11.113531611907556, 11.07365002047733, 10.100382386876442, 9.179179786673359, 8.603224108202161, 8.543196907905621, 115.65790250690846, 58.47833238927337, 39.810349267936836, 666.1259648494917, 234.59936119580192, 19.158503829766477, 53.936792608894415, 23.466778967974733, 47.673037788462466, 226.3618936122001, 362.1302909767578, 65.6183169051865, 270.6638341281513, 69.89458609687574, 59.04069540951424, 721.7964813195409, 227.2505510099434, 543.0775061217781, 88.73436934159977, 89.19596328337676, 170.56877853487853, 458.281215206, 1662.0801761946934, 449.7781032524282, 516.2035751844643, 407.21398762758326, 1697.411054619484, 499.8157501609658, 275.32325438242054, 191.6440005779684, 973.916535279831, 303.1684656572898, 793.5112241617246, 245.16537212643647, 399.8249801802098, 1406.750944581314, 4623.693263814078, 351.25749929383284, 799.0265739497764, 2588.320112940367, 1462.9315255012784, 1172.0190361072014, 1074.540634546645, 80.3689271112934, 49.426322016274774, 42.520471984507616, 95.34481948697352, 30.297569318257974, 27.167102149511067, 288.28948624412084, 25.843510506704853, 25.6013523080094, 25.196678024262834, 22.451339244217042, 21.97987275016645, 21.876909047196694, 18.992207884039626, 17.145175622496666, 17.139452111437553, 17.08659869731814, 16.793268065039246, 25.15116023119371, 16.145971614977707, 15.39046985278583, 14.297636101624375, 13.809872807514896, 13.32049950779898, 12.86606118122987, 12.711682571239598, 12.947315583979302, 12.341406735507844, 12.130911485132437, 11.866457014784014, 163.61800893893295, 19.994238042419695, 107.97545471652637, 431.1223126359123, 21.130911068359712, 22.412583912843836, 379.80547529330113, 132.11363701519738, 1035.354670423581, 209.2257501921251, 30.390863569947477, 39.20086086988369, 553.0256543027986, 42.60740869540238, 152.53648882654966, 418.49650964858176, 190.95563284431813, 59.680683280447404, 733.2229860865477, 554.0913656069499, 866.4949023213467, 159.69921558753265, 158.25836145682223, 170.56877853487853, 230.30993938618076, 1130.3572976688115, 1187.2972502109733, 2382.7643938246174, 502.02721281907617, 167.33003448572202, 1083.3795513967978, 595.3566176568772, 2528.3500498317385, 974.5148378066006, 636.5640672928843, 4623.693263814078, 561.0343811139272, 1321.2234970702025, 1242.0600262967353, 2155.305583214838, 1712.4997516819644, 1640.2913422342558, 1535.033944307765, 1027.555501235915, 4902.15943202496, 75.17508093722203, 41.47470906372906, 35.778695489778784, 32.0991869269031, 31.619348264413567, 22.672405040268107, 22.28905630283124, 21.031995604667202, 20.526236151424197, 20.1599721209366, 19.71438109001489, 18.83950050229886, 16.796745178049637, 16.279161859263432, 15.963911714057854, 15.470130973039847, 15.450771009455103, 15.041592455322517, 15.008200878815762, 14.563561633113169, 14.507179925450595, 14.166950028646283, 13.839580805256606, 13.355304238024697, 13.307892879447792, 26.184621333394567, 12.582705006800516, 12.575123445726657, 12.541294872366132, 12.483126884783834, 19.077186914603647, 440.8455097551221, 269.9643042973069, 50.771134075335404, 152.71943540281492, 51.79958182268806, 28.621588772910982, 42.65580421580974, 110.57048507083724, 614.3272918390763, 372.7786804428698, 849.2791578940785, 313.0859004950387, 42.088350052893716, 1076.121013193473, 213.8613155475009, 92.65411830432083, 30.955603803829405, 48.72987432078089, 168.87299290579946, 369.03047008301064, 359.5988643013974, 669.3220063107095, 424.17093664141186, 1037.0733827608062, 211.46432261904457, 969.551393488009, 662.4294996366717, 600.687419729117, 595.3566176568772, 1968.6804141564025, 253.2654399069943, 2419.195665729814, 166.83772882692986, 565.5805983575495, 669.2366545929924, 887.5021417855927, 566.8715049593875, 1611.7872738287244, 1086.8852591559505, 4623.693263814078, 1729.41255620515, 92.68490408791844, 81.04050723737687, 342.5893446520359, 42.35572681227917, 41.17787205017395, 40.90189379183328, 34.11736462515781, 33.54153325215745, 32.11705049406384, 32.05513021071327, 31.28559729671134, 29.67349937727868, 29.39440897269644, 26.916886563609552, 25.888214040648066, 25.275719873062428, 24.68073192349189, 24.133227765971668, 22.86601785313842, 22.353713437817984, 22.20807840269176, 22.1454995581314, 32.61010379703241, 20.680546058668163, 19.825372500377274, 33.06929333978005, 19.096698049856254, 18.31727451018175, 742.8014237585373, 17.89262438615439, 33.76690050939099, 353.726814897301, 108.24611620912007, 386.4485354497063, 130.9444480279187, 250.12429065951994, 70.1677998426395, 86.51213148112852, 29.610762221671997, 72.84479954563535, 225.66727980532403, 43.404508115462335, 219.74379081572272, 587.1106977607591, 211.46432261904457, 93.07812869524987, 481.6480057811273, 653.8188551795309, 80.39576166940472, 416.1134277326347, 1063.3463453929405, 466.6573416408991, 240.64473465116833, 373.69426596308017, 174.4749972257403, 165.61918572089152, 246.16517310803744, 472.27354315357917, 143.95380845389712, 2310.717987410925, 942.0934165443649, 2588.320112940367, 2365.32359747544, 1505.5439339099553, 1322.3916002958508, 1697.411054619484, 4623.693263814078, 1406.750944581314, 2137.824851380322, 1585.1921962559854, 1033.553716360428, 81.8731899935845, 784.0930667298071, 62.29736358648477, 56.31770277297355, 54.59081376990606, 51.41039159626658, 43.49777436140176, 42.898974521413976, 36.21897675169497, 36.208994465887194, 35.60701660403703, 34.09167916234487, 27.649574319912364, 108.40508027544075, 24.661717846410124, 353.4777001004926, 23.215704374624284, 22.598365956376362, 22.53343159063185, 22.083326818723787, 508.66345400871467, 21.586658896498804, 21.423790591813926, 20.849541315587583, 19.637345635863237, 19.55357717102885, 19.153284450943325, 18.971521304664087, 19.65790210740332, 18.572824314110385, 61.593361017226194, 333.7133047110674, 52.32348057754173, 122.08349849317531, 195.57432248319714, 119.47476546883854, 77.66736932589983, 207.65318540885667, 385.29674037070004, 37.86678607694549, 66.63646696829555, 295.8760570981491, 175.86491124200015, 52.30697337698552, 76.3545829345391, 58.08504928056398, 240.87564349417417, 2025.4963606077754, 832.0484447689098, 103.00738795238209, 144.6551874400852, 120.39371740953203, 784.8272848805359, 190.30301183399092, 214.46423677181025, 824.13601219381, 1665.5859864097129, 707.5830802719851, 674.2192523451018, 2382.7643938246174, 227.73007988007646, 605.6462732123613, 516.3809645591942, 2365.32359747544, 1145.8779283362396, 849.2791578940785, 1235.099262309981, 129.65063834297956, 90.93607207206034, 58.79331753552254, 54.70078924680032, 53.19037515953872, 50.330562523267375, 47.018082615594814, 44.56381421450031, 41.501806706392635, 39.67034605740977, 32.01438689649294, 37.0094695427727, 27.045647740808324, 158.74096200478164, 24.250877776191658, 23.785830054449818, 22.551417814522022, 21.740251261231677, 20.065768389819997, 19.827242831458385, 38.52800740498239, 18.64600477583971, 18.001853097821208, 17.719140185306056, 17.286897634460136, 16.99210863596143, 16.99168882854449, 16.910270805783757, 15.64980231601302, 15.243313278093844, 45.178985934136506, 161.09044851489793, 174.07831881721654, 49.28672712455677, 77.77408024255946, 120.69237403907603, 116.91597337948379, 70.63921154098018, 40.18857414894874, 448.73776714175824, 449.4818576722031, 374.60061788025047, 112.09568139625428, 68.09742661218506, 857.8217892880746, 150.66530791497078, 2382.7643938246174, 449.7781032524282, 182.44769126818258, 561.0343811139272, 416.1134277326347, 167.5952462399011, 481.6480057811273, 155.89110547113188, 537.4205211063477, 281.96517088568135, 1626.9591101378971, 1827.9261093606046, 688.0711097461092, 161.5758984161468, 1220.0648075101637, 1611.7872738287244, 1697.411054619484, 944.4033375687167, 939.6663369612893, 1979.2246865152267, 199.74850487516053, 178.71336104008978, 99.79789388549541, 43.3178419634996, 39.874522093073516, 37.3495449458199, 203.86533684530502, 31.242268470656004, 28.184375547400435, 27.7108308221288, 26.370180657355537, 25.805971556094885, 36.14985105087394, 23.499159737849826, 22.02528046735913, 17.05667020999162, 15.43999849178834, 15.310783873316545, 15.164531289604103, 69.47232128157064, 13.490933860126212, 12.799139974031691, 12.325299824824832, 11.32392840004286, 11.29091933524668, 10.779736441839564, 10.746720238193, 10.728921756073323, 10.711975634323306, 9.726660331771576, 201.97133608790014, 429.98346267515814, 951.4405159694253, 82.3006033578523, 760.5272484314664, 96.83660693934767, 194.67824253853883, 305.0484682036624, 59.7615586853242, 315.38713333126714, 38.23661094201158, 684.8948861676707, 427.85056314681816, 134.0007017022893, 934.395124788693, 848.0772501822037, 887.5021417855927, 416.9719520292967, 228.89409321428238, 89.20551556935706, 1979.2246865152267, 692.0180065497939, 1611.7872738287244, 4623.693263814078, 1535.033944307765, 1827.9261093606046, 244.17215227804496, 1154.994955673597, 1756.1844754359824, 882.2174197882451, 766.1255132422453, 988.5940655276097, 2382.7643938246174, 1665.5859864097129, 49.076011076628944, 39.14774176030558, 33.978536494899544, 33.15265932842883, 32.89249778103818, 32.429846039342316, 31.19642624639915, 30.430164742628232, 29.35872209646508, 24.90476796102416, 22.45128871158312, 17.30328295144048, 16.88912498274089, 15.284449097732402, 15.09248636117771, 13.77154478475386, 13.29089723857951, 30.316203718454833, 12.496650158616895, 11.785815485539109, 11.593126015003861, 11.316621667139971, 11.000364830797217, 10.79996127372749, 10.129918512104007, 10.112717357144074, 10.08452927381263, 15.77644790405908, 9.743735514886584, 9.727808149563685, 595.1738486329532, 125.3088328131425, 43.70407653297498, 13.383539591793582, 134.66658736393262, 28.46677556994147, 135.8643133053363, 150.68584650059924, 21.377140307979836, 428.02772357211944, 22.68464632889845, 51.36426584153661, 497.3158372846276, 58.3265759364855, 86.50667893691173, 580.9591629903173, 537.4205211063477, 190.03764567990103, 327.28701672524494, 571.0859600687701, 663.1120569357165, 350.9945406406667, 420.390549204393, 232.90470700281048, 592.8850618329485, 1539.3424628092366, 311.41518486867045, 1375.991830195458, 1663.9117909517674, 4623.693263814078, 408.28108048671345, 246.16517310803744, 2310.717987410925, 817.5886530507349, 1626.9591101378971, 866.4949023213467, 377.6363929705775, 1033.553716360428, 1220.0648075101637, 4902.15943202496, 1018.3886248776402, 2588.320112940367, 416.8570268064425, 195.59846823251664, 102.4945684978396, 100.71207257204753, 95.50990516788913, 65.17187244159489, 41.479019649655804, 31.35303785437145, 29.905520174424197, 28.783402620938784, 153.2300541455193, 27.43287473535183, 14.071284775265664, 14.03092253329557, 14.056909455632187, 13.991345100675288, 13.982226756437688, 13.618075679370001, 13.320586916525263, 12.870586320480992, 12.482372228105106, 12.46685576784061, 12.457326719326336, 12.124432268493107, 12.124432273125489, 12.118757925803283, 12.09304702103281, 11.753438045376553, 11.004841430639699, 11.004841430639699, 626.7404721312707, 97.91680314442064, 53.92629933616478, 248.32820672922287, 46.220922754560036, 162.09322928540712, 33.77166115298344, 105.3431017147498, 37.38682517365703, 75.80070749356553, 679.5809957365017, 572.4115452462407, 65.11629786826421, 69.65049669076947, 48.896264281080946, 37.802410480409904, 736.1484405520197, 108.81268032639568, 294.9289700672494, 2365.32359747544, 850.2941907110583, 1072.5869420306005, 565.5805983575495, 233.825309116437, 1427.8898588093916, 1095.0793991144724, 1006.6025763651601, 598.0444003827806, 675.5495800453643, 606.2198837834227, 1663.9117909517674, 1665.5859864097129, 760.3425204981472, 826.5933202748214, 1320.4883470892164, 649.732122470309, 216.98129378341235, 74.93043531253882, 103.1564063827823, 48.22967409932285, 208.59895051608444, 44.190518913847626, 35.42568446005735, 25.44548006847846, 24.0287926720505, 22.742244033631223, 21.536282749434957, 19.910701034857894, 19.176762572453747, 18.26872084441211, 18.208596876507976, 17.479583292656347, 17.425458890860835, 17.065916100147426, 16.192475888815686, 15.767713060135547, 104.56725735847101, 15.071899007842374, 15.064785272717229, 14.958014446002032, 14.648560792917547, 14.539050917628755, 14.155433755126534, 13.705496956892702, 12.898510764987947, 12.511169420640867, 94.64883896160033, 208.04261911682744, 22.997480578467144, 52.1811019366011, 45.30173512904627, 354.56226858297197, 40.840177484790715, 17.88501094685233, 427.972932034115, 24.43948896885194, 56.18670279979288, 643.918003012591, 227.63473059095185, 327.28701672524494, 69.72022300071907, 101.20744035865903, 33.19372267459596, 197.75322063317927, 343.32652484583286, 174.6936738846871, 669.5404106394609, 448.73776714175824, 102.32158829460316, 111.32114083809803, 763.65697598425, 420.390549204393, 159.96826714973173, 151.05004969347348, 663.1120569357165, 964.4074734088503, 244.17215227804496, 314.5297800694051, 4623.693263814078, 587.1106977607591, 501.43914429419993, 1105.8535270322423, 1462.9315255012784, 636.5640672928843, 561.0343811139272, 38.34290645359918, 239.44399012943572, 30.884126497435556, 29.99800482350238, 29.90772898836358, 29.582783514590325, 27.92822897847444, 23.98471284232552, 19.622529682524032, 18.19646932172412, 14.980886967631143, 12.434604877161563, 12.432571335643193, 30.235217744980837, 11.189890434223516, 11.102076147534932, 11.066205212744169, 11.066205212744169, 11.066205212744169, 11.066205215174367, 11.033987849302301, 10.236084681409373, 10.186509502055419, 9.81187128786953, 181.27500714126654, 9.413000133327072, 17.636550726727897, 8.417047197678711, 27.688713558944944, 7.472746240201843, 26.005662481052408, 30.447593564254266, 445.2843755917202, 37.81096578998569, 92.60836197328103, 130.54752080887604, 39.39153383470475, 38.94817993921136, 147.04088441661295, 73.09348365442818, 120.86923582479838, 243.24345227767898, 24.890200337235477, 43.320598436036036, 29.41905130898866, 88.23119051509124, 363.2460836406912, 408.28108048671345, 79.48614388891433, 281.31748783276726, 669.2366545929924, 279.0296577996804, 516.3809645591942, 104.38685104638648, 98.84477269441827, 107.32350069252077, 374.60061788025047, 294.7288129831856, 185.4594652594032, 957.1859013742402, 96.85819506066835, 2588.320112940367, 306.24893979200834, 92.05013828361267, 1137.6388274287851, 1998.0677065359007, 2926.7901514349455, 1141.7531401408628, 523.6984642240642, 2137.824851380322, 1187.2972502109733, 1585.1921962559854, 1171.3614217868887, 4902.15943202496, 2310.717987410925, 156.8479637518363, 86.97245006200657, 61.98849679886441, 44.634589423682264, 38.837712143798164, 28.196391986631507, 25.54600166095644, 24.235116524534636, 21.856404764492765, 78.49367964960625, 18.070267503511044, 17.443229184838618, 17.428358837856056, 17.36529956709141, 17.09721393777845, 25.787628748094527, 16.507679696437975, 15.459920043447347, 15.00800566696287, 14.145418250023358, 13.997891552245823, 13.677031227342868, 13.51261015464947, 13.159882535757601, 13.126758831701395, 12.963239797518254, 12.455707714702408, 12.211156776186948, 12.208949856817597, 11.7221087626541, 242.62118867362275, 169.87407269343834, 48.65643115058324, 152.75816551591, 58.02612523668289, 33.86818286738956, 267.2716603878028, 101.3045107971704, 239.80120550189437, 655.6366267799303, 32.33249762819905, 314.5297800694051, 79.06885906674944, 300.3343258989276, 318.25438818322135, 679.7136340802082, 321.17445920556906, 46.006424910304794, 281.31748783276726, 118.16902555856805, 722.0784496799732, 477.35728279563347, 754.7657852576109, 847.3933721719878, 359.4764026822847, 704.5233846834276, 168.70311407736432, 1663.9117909517674, 4902.15943202496, 720.301616919581, 428.02772357211944, 848.0772501822037, 913.2221618030009, 501.43914429419993, 1665.5859864097129, 1756.1844754359824, 133.52989258092484, 77.48398735642404, 68.72300609031329, 59.41136056252249, 55.58436259391934, 53.62388253373945, 52.63614348816465, 46.8013154563576, 46.36550122942638, 45.68462566221078, 44.3840921810418, 38.4982473257182, 37.40414848116243, 36.56453872157042, 36.07443347623502, 35.8047344467633, 35.094338104851516, 35.094335156225306, 35.09356458821169, 34.14376948558486, 32.44900572045299, 26.76276432325365, 26.185044528508264, 25.87593731501019, 24.849325861718423, 22.912600585623075, 21.930854869157862, 21.453061461941186, 19.990896709122566, 18.61756145921256, 45.267358057908034, 90.54210718186805, 95.40247183877037, 56.1123121866487, 54.72463346219827, 113.9588731439431, 76.51000815881723, 127.12132057076073, 332.8902823165164, 171.16776730369077, 944.4033375687167, 487.0132856918056, 1018.3886248776402, 1172.0190361072014, 303.4574447253319, 185.0423108645125, 188.79860071607223, 857.8217892880746, 663.1120569357165, 1423.8084763512243, 253.07572846871042, 656.0859902288547, 973.916535279831, 2928.4177448213095, 294.7288129831856, 1100.6642354722755, 774.3339610006727, 4623.693263814078, 1086.8852591559505, 408.28108048671345, 103.43547056025447, 101.35886551216544, 82.72391340254693, 81.49126698713938, 75.34686087369927, 65.42448713117346, 35.459006804511205, 25.75985944299912, 50.29779848362364, 21.874161894615813, 19.032799924794293, 18.15750986505952, 17.62944205640427, 16.923521975406004, 15.174328607738019, 14.91139431498326, 49.82749679484231, 14.080696879700682, 13.917078308510483, 13.645893349336923, 13.645757986590635, 117.88802216533595, 12.756757665179325, 11.932487774123363, 10.811685140961504, 19.811699976373585, 10.274376650020447, 10.26804698371323, 9.887899017914581, 9.848664722747053, 59.39354857388826, 170.49593638510314, 22.41578707683668, 56.92052367974639, 34.32230914438839, 19.335593383972977, 52.802100228000654, 34.721791697397286, 893.7211581431288, 57.85180834204254, 54.968608866795854, 1128.1127896449532, 216.12520076956952, 116.38548977506686, 50.49043221426846, 2310.717987410925, 177.26236390419007, 156.93563873303094, 1171.3614217868887, 1998.0677065359007, 1756.1844754359824, 1656.9936406113354, 1979.2246865152267, 418.49650964858176, 179.6461954658617, 516.6358419681767, 1176.7745841117196, 1009.1974310181195, 2926.7901514349455, 646.1724832473675, 1167.1216274095573, 1035.354670423581, 2137.824851380322, 85.51534488319446, 48.01493509325806, 39.85832749803075, 31.55580411341511, 28.97688912832347, 27.643716454896673, 27.07721303377538, 26.164715861966847, 80.83428027723737, 23.82730549750212, 23.67379816361846, 23.378007337690445, 21.550638304916934, 20.01753090516613, 19.73345087474218, 18.88426368172607, 18.199580483195643, 16.073135800986822, 14.754095812062898, 14.412469881400575, 14.412634103886788, 66.6760451858712, 13.852967907169736, 13.832895994676173, 12.122525157887317, 11.595308501287928, 11.03573799877514, 10.92311640608759, 26.248771934922658, 10.496136956616066, 23.405273882992773, 38.45178461858103, 774.3339610006727, 56.61878012698126, 89.88355427281886, 46.003696959349355, 31.577104635528027, 377.2308381410181, 142.5573984911027, 685.1092570943435, 270.1894425615539, 69.97686760455761, 59.9745100902306, 784.8272848805359, 257.7899550130368, 42.137031358019364, 449.6717327242215, 518.8327932847826, 336.46570458775363, 70.29723596913144, 580.9591629903173, 204.45004827730617, 416.9719520292967, 1076.121013193473, 651.0707449867219, 1640.2913422342558, 1611.7872738287244, 501.43914429419993, 359.5988643013974, 2382.7643938246174, 4902.15943202496, 554.9540896855764, 960.762713971652, 1756.1844754359824, 2528.3500498317385, 2928.4177448213095, 195.25644615635807, 71.9201619036785, 60.44680142483822, 55.55355896989497, 52.6084167559144, 47.729220726752594, 44.31872222942174, 38.674321932844634, 34.50695660837915, 34.012537886589506, 32.57045250793875, 32.21982184227313, 30.996823724728266, 30.93526365850923, 30.088433403309473, 27.843209576993345, 26.38909580979715, 30.67899007465929, 25.987943910848642, 49.900145716171096, 24.15843673246478, 23.738597086520524, 23.7345165898462, 23.236823189649186, 21.229627752503067, 21.139105946846616, 119.4854713056006, 19.432288991587892, 18.813437754734846, 18.587885348172136, 40.89778618957188, 118.74622934127677, 54.60914585436408, 882.2174197882451, 77.66972960139897, 181.16013006763953, 78.59455512974509, 133.37397620408115, 239.95542579252583, 66.20039203462844, 44.347499412581946, 388.36795285966764, 104.87228096695111, 101.24314115798114, 126.55872955894651, 716.5678416324055, 1979.2246865152267, 155.3941793232203, 396.3288868388137, 613.0374129112386, 504.33114842534644, 694.0795337191463, 214.46423677181025, 315.38713333126714, 2137.824851380322, 571.0859600687701, 213.1083773896728, 310.5568662172775, 605.6462732123613, 241.76834311678465, 507.00362563383743, 288.2929487876377, 328.1733839232623, 125.53621973000575, 94.2682160991147, 81.28565823072097, 57.11634253020348, 52.261729473778445, 45.367169931389576, 37.9609171023082, 31.704197388841486, 31.55020857516524, 28.23808325703919, 26.12575983743351, 25.63262639665837, 24.135806455655477, 22.222962824063565, 634.8711259339207, 21.623449044841905, 21.16859537866194, 20.588289356529692, 46.35619101064301, 18.353076126690556, 18.093790543689853, 17.742081678811793, 17.441472436761256, 17.24757320563904, 16.26311762333253, 14.782007544435585, 53.22958619541049, 22.421233386780635, 276.06251058879496, 463.9251588880212, 40.99912612044997, 423.58296097376035, 23.38400133282523, 83.19844020246884, 124.0719581620967, 65.03638978708045, 605.6462732123613, 887.5021417855927, 128.61158818483344, 77.81351996983656, 68.36395981692678, 694.0795337191463, 2382.7643938246174, 240.87564349417417, 466.403333967428, 999.961836805568, 125.37742364528943, 969.0597371429254, 1427.8898588093916, 2025.4963606077754, 1235.099262309981, 379.80547529330113, 4623.693263814078, 1049.7350465822967, 162.27477471574497, 144.7865939294892, 124.07735458962281, 93.92225912515725, 43.422187117416605, 38.8495164406276, 36.439146861071364, 24.127038019736744, 18.881161667211487, 18.82875095439139, 18.178959741996035, 18.149853003650655, 16.841073068229683, 16.89358313339333, 96.00916248224742, 15.377628006723022, 14.383666088222371, 14.047812518911842, 13.112798708193651, 12.899860429374337, 12.177789637226956, 11.238214363551577, 11.165370674814424, 94.99985674087392, 9.400557144165798, 9.244402368550706, 9.109109358411246, 9.47331011588538, 153.4129327747836, 8.750579227592294, 198.42922219701364, 125.67844285117545, 14.8892099628881, 156.58686499085596, 17.47001221176934, 296.4258324106689, 50.48492335429952, 226.55304994823857, 261.8757038371013, 89.81269722280116, 543.0775061217781, 56.09769137042822, 158.24345223132255, 153.35868436676157, 159.96826714973173, 280.8615547853275, 159.38970211212978, 101.52462113532292, 58.11507744337478, 1105.8535270322423, 156.63035136781446, 120.93075758810049, 669.5404106394609, 510.17447959934236, 1071.2828052455707, 1083.3795513967978, 491.6911447558499, 1462.9315255012784, 721.7964813195409, 185.32778673251272, 449.4818576722031, 211.03879122039882, 117.92781518620828, 31.256610943437295, 22.301538763603546, 16.020241989903525, 15.007329712640397, 13.87626223887246, 30.47591104382034, 10.921164737721387, 10.174084242842754, 9.732770657512072, 9.243764050975608, 8.499339572302857, 8.48603439926018, 7.664835528468443, 7.615444835144047, 6.790135119960278, 6.756083972980509, 6.405262991629011, 6.37143302829881, 6.366927033002311, 5.992028036277707, 5.945491307771622, 5.89281008154103, 34.66555973348013, 5.157420284932656, 5.15656536824908, 5.154810873760672, 5.13332660149263, 5.127412638492269, 79.27099221518061, 31.16873467341563, 81.14151327861224, 67.30209541529008, 13.032542883932468, 75.54254990253771, 45.01250391537211, 721.7964813195409, 114.25710643382935, 15.866405486371232, 362.1302909767578, 140.46921685557092, 150.66530791497078, 22.934416964460468, 466.403333967428, 23.786537029246563, 116.38548977506686, 270.1202712465968, 54.651734951454664, 1034.6918567107173, 62.833729445116674, 236.52441459769722, 922.5061871458947, 419.5100610716936, 373.69426596308017, 816.459338485203, 250.12429065951994, 385.21351423120575, 1220.0648075101637, 460.98263267331726, 1697.411054619484, 2231.22663127977, 1099.755139018865, 939.6663369612893, 766.1255132422453, 882.2174197882451, 947.7335514347556, 141.23429271716603, 132.44735054108665, 131.21145479763373, 130.28402420191796, 107.56210423863439, 101.07002898334251, 67.59263093721408, 37.46481664367965, 36.593956380932845, 33.34686004067637, 30.386132405895577, 23.608879411562764, 21.369713479514402, 29.520017259256527, 20.24958983229934, 19.983759585739115, 19.435022920795575, 17.52482078914547, 16.189007317433703, 14.797921320120777, 14.334010289496065, 14.33399968461684, 376.64879982911356, 12.566393425055432, 21.958229698913836, 10.62555665437634, 9.78712529610077, 9.787125300590738, 9.785435044428654, 12.479757988103188, 32.418456669987116, 30.974750510021927, 162.0834054463615, 29.898322092421495, 20.5540175360499, 170.47362783568283, 319.5302672548668, 189.79199058559146, 63.7137418522399, 163.17601045287464, 107.16400473003377, 132.91540487214624, 99.94896503935833, 407.04717118235055, 896.436265589913, 172.14600770387517, 336.46570458775363, 792.486829371274, 616.8625480813187, 2382.7643938246174, 623.1904969167425, 1172.0190361072014, 104.08012774762402, 1352.1958681928552, 48.69358539591288, 44.72687430955605, 20.0114515173664, 16.497320732915085, 24.31855009601128, 11.148086442914986, 11.124468884106248, 10.748912082812994, 9.93705277768258, 9.786062166558281, 9.696550792395568, 9.286157446368902, 8.785900044453653, 8.266027450159815, 11.036686823342572, 7.276013327352492, 6.355406156412544, 6.347487390231706, 5.904958813752214, 5.381113930440232, 5.380087111702553, 5.378869014043721, 5.33283706472476, 48.28916360310618, 77.20766547239606, 4.864422682939836, 33.62052385306642, 9.4302648235455, 4.3989761428603025, 27.982549321263438, 133.69915059481824, 73.24880691556187, 91.47915799700341, 20.316304448939945, 44.2852451202258, 578.6862717906104, 960.762713971652, 149.0714905986087, 12.703745091360101, 629.6427025996123, 590.5359802329085, 934.395124788693, 198.97411942216434, 1072.5869420306005, 642.156641959647, 133.82431675948712, 753.9321849345138, 1663.9117909517674, 776.4708043159123, 1539.3424628092366, 335.3867743642875, 653.8188551795309, 2365.32359747544, 959.4017526652841, 913.2221618030009, 1167.1216274095573, 642.0240606901973, 1662.0801761946934, 1242.0600262967353, 2231.22663127977, 4623.693263814078, 2588.320112940367, 50.804894520978884, 47.88862299631521, 43.99847137115234, 43.811524402581604, 32.331644432042665, 30.25011851713151, 27.405470590607525, 26.17694586453225, 25.99861586242087, 25.978831825262525, 25.5688076635185, 23.109547904022808, 21.8756316675688, 20.46106398109539, 19.417527454092898, 19.283808993820127, 16.961399618823574, 172.67901128965622, 21.12776507995445, 13.8857749526834, 13.869332016201135, 12.013662719101912, 10.743087815677802, 18.97210821739968, 9.58207345756042, 19.298401963851877, 8.968775710991006, 8.96552867830537, 8.935339224955321, 22.59826888940842, 125.44365792135959, 192.83218896257142, 20.26395576099561, 332.38573384624306, 211.69189527811736, 166.83772882692986, 47.333188554783646, 57.69144871400594, 61.9271030660481, 98.30044883679412, 167.64964958279313, 638.7465190049456, 518.8327932847826, 595.3566176568772, 499.8157501609658, 49.60215913905105, 115.60257052806084, 975.183029798287, 1423.8084763512243, 1585.1921962559854, 981.8980729861975, 4902.15943202496, 913.2221618030009, 242.20453319226786, 960.762713971652, 722.0784496799732, 84.93316989270126, 66.08569021835785, 46.98210318664793, 34.86153397963664, 23.623746679807628, 20.861215782363754, 19.754275784974222, 37.98623349870297, 18.078537145081068, 17.54621704093967, 16.994450798886945, 14.233417468344037, 14.228915806471143, 13.672982783390346, 24.78075482425921, 101.43636654012771, 12.575278821174756, 12.568756517785381, 12.011818505551972, 9.751279704135884, 33.27653887767674, 9.495515176034328, 8.156068390968036, 10.268865709646887, 7.603566680326273, 7.592654939251957, 7.59265496022297, 7.5926549759158455, 7.5837960364593044, 7.496212413333675, 137.92355075436538, 95.83251083788562, 10.24220820042692, 49.566687496546294, 200.24334564918146, 126.36305019824515, 83.69022229157899, 127.36057544499491, 319.5302672548668, 171.02010206414846, 221.26278343327684, 170.47362783568283, 175.86491124200015, 274.6468819965824, 432.50054051248145, 246.13499858477368, 100.02197101959443, 135.04850497781052, 73.13346356474906, 448.73776714175824, 1505.5439339099553, 1145.8779283362396, 327.87962499012065, 167.33003448572202, 1662.0801761946934, 53.152841726836286, 52.7946196805336, 52.43675706642005, 51.72000115290144, 45.00468048092703, 39.677312968547525, 22.92587273299859, 20.12888900662822, 16.608929279331285, 23.972551572081738, 57.08750931438297, 11.353944422412281, 10.646233634100351, 9.917324733016448, 8.856851144287011, 8.752248237509093, 8.389003939196513, 61.66647861590259, 8.14055243228621, 7.423885682076092, 5.978641563333228, 5.971209341555936, 5.94086585190191, 5.918056868502379, 5.274894108195199, 5.2357685184700005, 5.21793562081556, 4.558408435557361, 4.55829273694291, 3.841820377731052, 5.724119231364391, 7.496972147281675, 19.680962944326605, 40.14446596988302, 99.47534736066864, 40.87909273255946, 71.97430277398769, 63.7137418522399, 142.5573984911027, 236.27200633849196, 188.79860071607223, 69.97686760455761, 146.23266774662721, 562.3447804690021, 310.5568662172775, 80.87252105658175, 162.0834054463615, 510.6743280258425, 335.3867743642875, 1176.7745841117196, 824.9459813247779, 1145.8779283362396], \"Category\": [\"Default\", \"Default\", \"Default\", \"Default\", \"Default\", \"Default\", \"Default\", \"Default\", \"Default\", \"Default\", \"Default\", \"Default\", \"Default\", \"Default\", \"Default\", \"Default\", \"Default\", \"Default\", \"Default\", \"Default\", \"Default\", \"Default\", \"Default\", \"Default\", \"Default\", \"Default\", \"Default\", \"Default\", \"Default\", \"Default\", \"Topic1\", \"Topic1\", \"Topic1\", \"Topic1\", \"Topic1\", \"Topic1\", \"Topic1\", \"Topic1\", \"Topic1\", \"Topic1\", \"Topic1\", \"Topic1\", \"Topic1\", \"Topic1\", \"Topic1\", \"Topic1\", \"Topic1\", \"Topic1\", \"Topic1\", \"Topic1\", \"Topic1\", \"Topic1\", \"Topic1\", \"Topic1\", \"Topic1\", \"Topic1\", \"Topic1\", \"Topic1\", \"Topic1\", \"Topic1\", \"Topic1\", \"Topic1\", \"Topic1\", \"Topic1\", \"Topic1\", \"Topic1\", \"Topic1\", \"Topic1\", \"Topic1\", \"Topic1\", \"Topic1\", \"Topic1\", \"Topic1\", \"Topic1\", \"Topic1\", \"Topic1\", \"Topic1\", \"Topic1\", \"Topic1\", \"Topic1\", \"Topic1\", \"Topic1\", \"Topic1\", \"Topic1\", \"Topic1\", \"Topic1\", \"Topic1\", \"Topic1\", \"Topic1\", \"Topic1\", \"Topic1\", \"Topic1\", \"Topic1\", \"Topic1\", \"Topic1\", \"Topic1\", \"Topic1\", \"Topic1\", \"Topic1\", \"Topic1\", \"Topic1\", \"Topic1\", \"Topic1\", \"Topic1\", \"Topic1\", \"Topic1\", \"Topic1\", \"Topic1\", \"Topic1\", \"Topic1\", \"Topic1\", \"Topic2\", \"Topic2\", \"Topic2\", \"Topic2\", \"Topic2\", \"Topic2\", \"Topic2\", \"Topic2\", \"Topic2\", \"Topic2\", \"Topic2\", \"Topic2\", \"Topic2\", \"Topic2\", \"Topic2\", \"Topic2\", \"Topic2\", \"Topic2\", \"Topic2\", \"Topic2\", \"Topic2\", \"Topic2\", \"Topic2\", \"Topic2\", \"Topic2\", \"Topic2\", \"Topic2\", \"Topic2\", \"Topic2\", \"Topic2\", \"Topic2\", \"Topic2\", \"Topic2\", \"Topic2\", \"Topic2\", \"Topic2\", \"Topic2\", \"Topic2\", \"Topic2\", \"Topic2\", \"Topic2\", \"Topic2\", \"Topic2\", \"Topic2\", \"Topic2\", \"Topic2\", \"Topic2\", \"Topic2\", \"Topic2\", \"Topic2\", \"Topic2\", \"Topic2\", \"Topic2\", \"Topic2\", \"Topic2\", \"Topic2\", \"Topic2\", \"Topic2\", \"Topic2\", \"Topic2\", \"Topic2\", \"Topic2\", \"Topic2\", \"Topic2\", \"Topic2\", \"Topic2\", \"Topic2\", \"Topic2\", \"Topic2\", \"Topic2\", \"Topic2\", \"Topic2\", \"Topic2\", \"Topic3\", \"Topic3\", \"Topic3\", \"Topic3\", \"Topic3\", \"Topic3\", \"Topic3\", \"Topic3\", \"Topic3\", \"Topic3\", \"Topic3\", \"Topic3\", \"Topic3\", \"Topic3\", \"Topic3\", \"Topic3\", \"Topic3\", \"Topic3\", \"Topic3\", \"Topic3\", \"Topic3\", \"Topic3\", \"Topic3\", \"Topic3\", \"Topic3\", \"Topic3\", \"Topic3\", \"Topic3\", \"Topic3\", \"Topic3\", \"Topic3\", \"Topic3\", \"Topic3\", \"Topic3\", \"Topic3\", \"Topic3\", \"Topic3\", \"Topic3\", \"Topic3\", \"Topic3\", \"Topic3\", \"Topic3\", \"Topic3\", \"Topic3\", \"Topic3\", \"Topic3\", \"Topic3\", \"Topic3\", \"Topic3\", \"Topic3\", \"Topic3\", \"Topic3\", \"Topic3\", \"Topic3\", \"Topic3\", \"Topic3\", \"Topic3\", \"Topic3\", \"Topic3\", \"Topic3\", \"Topic3\", \"Topic3\", \"Topic3\", \"Topic3\", \"Topic3\", \"Topic3\", \"Topic4\", \"Topic4\", \"Topic4\", \"Topic4\", \"Topic4\", \"Topic4\", \"Topic4\", \"Topic4\", \"Topic4\", \"Topic4\", \"Topic4\", \"Topic4\", \"Topic4\", \"Topic4\", \"Topic4\", \"Topic4\", \"Topic4\", \"Topic4\", \"Topic4\", \"Topic4\", \"Topic4\", \"Topic4\", \"Topic4\", \"Topic4\", \"Topic4\", \"Topic4\", \"Topic4\", \"Topic4\", \"Topic4\", \"Topic4\", \"Topic4\", \"Topic4\", \"Topic4\", \"Topic4\", \"Topic4\", \"Topic4\", \"Topic4\", \"Topic4\", \"Topic4\", \"Topic4\", \"Topic4\", \"Topic4\", \"Topic4\", \"Topic4\", \"Topic4\", \"Topic4\", \"Topic4\", \"Topic4\", \"Topic4\", \"Topic4\", \"Topic4\", \"Topic4\", \"Topic4\", \"Topic4\", \"Topic4\", \"Topic4\", \"Topic4\", \"Topic4\", \"Topic4\", \"Topic4\", \"Topic4\", \"Topic4\", \"Topic4\", \"Topic4\", \"Topic4\", \"Topic4\", \"Topic4\", \"Topic4\", \"Topic4\", \"Topic4\", \"Topic4\", \"Topic5\", \"Topic5\", \"Topic5\", \"Topic5\", \"Topic5\", \"Topic5\", \"Topic5\", \"Topic5\", \"Topic5\", \"Topic5\", \"Topic5\", \"Topic5\", \"Topic5\", \"Topic5\", \"Topic5\", \"Topic5\", \"Topic5\", \"Topic5\", \"Topic5\", \"Topic5\", \"Topic5\", \"Topic5\", \"Topic5\", \"Topic5\", \"Topic5\", \"Topic5\", \"Topic5\", \"Topic5\", \"Topic5\", \"Topic5\", \"Topic5\", \"Topic5\", \"Topic5\", \"Topic5\", \"Topic5\", \"Topic5\", \"Topic5\", \"Topic5\", \"Topic5\", \"Topic5\", \"Topic5\", \"Topic5\", \"Topic5\", \"Topic5\", \"Topic5\", \"Topic5\", \"Topic5\", \"Topic5\", \"Topic5\", \"Topic5\", \"Topic5\", \"Topic5\", \"Topic5\", \"Topic5\", \"Topic5\", \"Topic5\", \"Topic5\", \"Topic5\", \"Topic5\", \"Topic5\", \"Topic5\", \"Topic5\", \"Topic5\", \"Topic5\", \"Topic5\", \"Topic5\", \"Topic5\", \"Topic5\", \"Topic5\", \"Topic5\", \"Topic5\", \"Topic5\", \"Topic5\", \"Topic5\", \"Topic5\", \"Topic6\", \"Topic6\", \"Topic6\", \"Topic6\", \"Topic6\", \"Topic6\", \"Topic6\", \"Topic6\", \"Topic6\", \"Topic6\", \"Topic6\", \"Topic6\", \"Topic6\", \"Topic6\", \"Topic6\", \"Topic6\", \"Topic6\", \"Topic6\", \"Topic6\", \"Topic6\", \"Topic6\", \"Topic6\", \"Topic6\", \"Topic6\", \"Topic6\", \"Topic6\", \"Topic6\", \"Topic6\", \"Topic6\", \"Topic6\", \"Topic6\", \"Topic6\", \"Topic6\", \"Topic6\", \"Topic6\", \"Topic6\", \"Topic6\", \"Topic6\", \"Topic6\", \"Topic6\", \"Topic6\", \"Topic6\", \"Topic6\", \"Topic6\", \"Topic6\", \"Topic6\", \"Topic6\", \"Topic6\", \"Topic6\", \"Topic6\", \"Topic6\", \"Topic6\", \"Topic6\", \"Topic6\", \"Topic6\", \"Topic6\", \"Topic6\", \"Topic6\", \"Topic6\", \"Topic6\", \"Topic6\", \"Topic6\", \"Topic6\", \"Topic6\", \"Topic6\", \"Topic6\", \"Topic6\", \"Topic6\", \"Topic6\", \"Topic6\", \"Topic6\", \"Topic6\", \"Topic6\", \"Topic6\", \"Topic6\", \"Topic6\", \"Topic6\", \"Topic6\", \"Topic6\", \"Topic6\", \"Topic6\", \"Topic6\", \"Topic6\", \"Topic7\", \"Topic7\", \"Topic7\", \"Topic7\", \"Topic7\", \"Topic7\", \"Topic7\", \"Topic7\", \"Topic7\", \"Topic7\", \"Topic7\", \"Topic7\", \"Topic7\", \"Topic7\", \"Topic7\", \"Topic7\", \"Topic7\", \"Topic7\", \"Topic7\", \"Topic7\", \"Topic7\", \"Topic7\", \"Topic7\", \"Topic7\", \"Topic7\", \"Topic7\", \"Topic7\", \"Topic7\", \"Topic7\", \"Topic7\", \"Topic7\", \"Topic7\", \"Topic7\", \"Topic7\", \"Topic7\", \"Topic7\", \"Topic7\", \"Topic7\", \"Topic7\", \"Topic7\", \"Topic7\", \"Topic7\", \"Topic7\", \"Topic7\", \"Topic7\", \"Topic7\", \"Topic7\", \"Topic7\", \"Topic7\", \"Topic7\", \"Topic7\", \"Topic7\", \"Topic7\", \"Topic7\", \"Topic7\", \"Topic7\", \"Topic7\", \"Topic7\", \"Topic7\", \"Topic7\", \"Topic7\", \"Topic7\", \"Topic7\", \"Topic7\", \"Topic7\", \"Topic7\", \"Topic7\", \"Topic7\", \"Topic7\", \"Topic7\", \"Topic7\", \"Topic7\", \"Topic7\", \"Topic7\", \"Topic7\", \"Topic7\", \"Topic7\", \"Topic7\", \"Topic7\", \"Topic7\", \"Topic7\", \"Topic8\", \"Topic8\", \"Topic8\", \"Topic8\", \"Topic8\", \"Topic8\", \"Topic8\", \"Topic8\", \"Topic8\", \"Topic8\", \"Topic8\", \"Topic8\", \"Topic8\", \"Topic8\", \"Topic8\", \"Topic8\", \"Topic8\", \"Topic8\", \"Topic8\", \"Topic8\", \"Topic8\", \"Topic8\", \"Topic8\", \"Topic8\", \"Topic8\", \"Topic8\", \"Topic8\", \"Topic8\", \"Topic8\", \"Topic8\", \"Topic8\", \"Topic8\", \"Topic8\", \"Topic8\", \"Topic8\", \"Topic8\", \"Topic8\", \"Topic8\", \"Topic8\", \"Topic8\", \"Topic8\", \"Topic8\", \"Topic8\", \"Topic8\", \"Topic8\", \"Topic8\", \"Topic8\", \"Topic8\", \"Topic8\", \"Topic8\", \"Topic8\", \"Topic8\", \"Topic8\", \"Topic8\", \"Topic8\", \"Topic8\", \"Topic8\", \"Topic8\", \"Topic8\", \"Topic8\", \"Topic8\", \"Topic8\", \"Topic8\", \"Topic8\", \"Topic8\", \"Topic8\", \"Topic8\", \"Topic8\", \"Topic8\", \"Topic8\", \"Topic8\", \"Topic8\", \"Topic8\", \"Topic9\", \"Topic9\", \"Topic9\", \"Topic9\", \"Topic9\", \"Topic9\", \"Topic9\", \"Topic9\", \"Topic9\", \"Topic9\", \"Topic9\", \"Topic9\", \"Topic9\", \"Topic9\", \"Topic9\", \"Topic9\", \"Topic9\", \"Topic9\", \"Topic9\", \"Topic9\", \"Topic9\", \"Topic9\", \"Topic9\", \"Topic9\", \"Topic9\", \"Topic9\", \"Topic9\", \"Topic9\", \"Topic9\", \"Topic9\", \"Topic9\", \"Topic9\", \"Topic9\", \"Topic9\", \"Topic9\", \"Topic9\", \"Topic9\", \"Topic9\", \"Topic9\", \"Topic9\", \"Topic9\", \"Topic9\", \"Topic9\", \"Topic9\", \"Topic9\", \"Topic9\", \"Topic9\", \"Topic9\", \"Topic9\", \"Topic9\", \"Topic9\", \"Topic9\", \"Topic9\", \"Topic9\", \"Topic9\", \"Topic9\", \"Topic9\", \"Topic9\", \"Topic9\", \"Topic9\", \"Topic9\", \"Topic9\", \"Topic9\", \"Topic9\", \"Topic9\", \"Topic9\", \"Topic9\", \"Topic9\", \"Topic10\", \"Topic10\", \"Topic10\", \"Topic10\", \"Topic10\", \"Topic10\", \"Topic10\", \"Topic10\", \"Topic10\", \"Topic10\", \"Topic10\", \"Topic10\", \"Topic10\", \"Topic10\", \"Topic10\", \"Topic10\", \"Topic10\", \"Topic10\", \"Topic10\", \"Topic10\", \"Topic10\", \"Topic10\", \"Topic10\", \"Topic10\", \"Topic10\", \"Topic10\", \"Topic10\", \"Topic10\", \"Topic10\", \"Topic10\", \"Topic10\", \"Topic10\", \"Topic10\", \"Topic10\", \"Topic10\", \"Topic10\", \"Topic10\", \"Topic10\", \"Topic10\", \"Topic10\", \"Topic10\", \"Topic10\", \"Topic10\", \"Topic10\", \"Topic10\", \"Topic10\", \"Topic10\", \"Topic10\", \"Topic10\", \"Topic10\", \"Topic10\", \"Topic10\", \"Topic10\", \"Topic10\", \"Topic10\", \"Topic10\", \"Topic10\", \"Topic10\", \"Topic10\", \"Topic10\", \"Topic10\", \"Topic10\", \"Topic10\", \"Topic10\", \"Topic10\", \"Topic10\", \"Topic10\", \"Topic10\", \"Topic10\", \"Topic10\", \"Topic10\", \"Topic10\", \"Topic10\", \"Topic11\", \"Topic11\", \"Topic11\", \"Topic11\", \"Topic11\", \"Topic11\", \"Topic11\", \"Topic11\", \"Topic11\", \"Topic11\", \"Topic11\", \"Topic11\", \"Topic11\", \"Topic11\", \"Topic11\", \"Topic11\", \"Topic11\", \"Topic11\", \"Topic11\", \"Topic11\", \"Topic11\", \"Topic11\", \"Topic11\", \"Topic11\", \"Topic11\", \"Topic11\", \"Topic11\", \"Topic11\", \"Topic11\", \"Topic11\", \"Topic11\", \"Topic11\", \"Topic11\", \"Topic11\", \"Topic11\", \"Topic11\", \"Topic11\", \"Topic11\", \"Topic11\", \"Topic11\", \"Topic11\", \"Topic11\", \"Topic11\", \"Topic11\", \"Topic11\", \"Topic11\", \"Topic11\", \"Topic11\", \"Topic11\", \"Topic11\", \"Topic11\", \"Topic11\", \"Topic11\", \"Topic11\", \"Topic11\", \"Topic11\", \"Topic11\", \"Topic11\", \"Topic11\", \"Topic11\", \"Topic11\", \"Topic11\", \"Topic11\", \"Topic11\", \"Topic11\", \"Topic11\", \"Topic11\", \"Topic11\", \"Topic11\", \"Topic11\", \"Topic11\", \"Topic11\", \"Topic11\", \"Topic12\", \"Topic12\", \"Topic12\", \"Topic12\", \"Topic12\", \"Topic12\", \"Topic12\", \"Topic12\", \"Topic12\", \"Topic12\", \"Topic12\", \"Topic12\", \"Topic12\", \"Topic12\", \"Topic12\", \"Topic12\", \"Topic12\", \"Topic12\", \"Topic12\", \"Topic12\", \"Topic12\", \"Topic12\", \"Topic12\", \"Topic12\", \"Topic12\", \"Topic12\", \"Topic12\", \"Topic12\", \"Topic12\", \"Topic12\", \"Topic12\", \"Topic12\", \"Topic12\", \"Topic12\", \"Topic12\", \"Topic12\", \"Topic12\", \"Topic12\", \"Topic12\", \"Topic12\", \"Topic12\", \"Topic12\", \"Topic12\", \"Topic12\", \"Topic12\", \"Topic12\", \"Topic12\", \"Topic12\", \"Topic12\", \"Topic12\", \"Topic12\", \"Topic12\", \"Topic12\", \"Topic12\", \"Topic12\", \"Topic12\", \"Topic12\", \"Topic12\", \"Topic12\", \"Topic12\", \"Topic12\", \"Topic12\", \"Topic12\", \"Topic12\", \"Topic12\", \"Topic12\", \"Topic12\", \"Topic12\", \"Topic12\", \"Topic12\", \"Topic12\", \"Topic13\", \"Topic13\", \"Topic13\", \"Topic13\", \"Topic13\", \"Topic13\", \"Topic13\", \"Topic13\", \"Topic13\", \"Topic13\", \"Topic13\", \"Topic13\", \"Topic13\", \"Topic13\", \"Topic13\", \"Topic13\", \"Topic13\", \"Topic13\", \"Topic13\", \"Topic13\", \"Topic13\", \"Topic13\", \"Topic13\", \"Topic13\", \"Topic13\", \"Topic13\", \"Topic13\", \"Topic13\", \"Topic13\", \"Topic13\", \"Topic13\", \"Topic13\", \"Topic13\", \"Topic13\", \"Topic13\", \"Topic13\", \"Topic13\", \"Topic13\", \"Topic13\", \"Topic13\", \"Topic13\", \"Topic13\", \"Topic13\", \"Topic13\", \"Topic13\", \"Topic13\", \"Topic13\", \"Topic13\", \"Topic13\", \"Topic13\", \"Topic13\", \"Topic13\", \"Topic13\", \"Topic13\", \"Topic13\", \"Topic13\", \"Topic13\", \"Topic13\", \"Topic13\", \"Topic13\", \"Topic13\", \"Topic13\", \"Topic13\", \"Topic13\", \"Topic13\", \"Topic13\", \"Topic13\", \"Topic13\", \"Topic13\", \"Topic13\", \"Topic13\", \"Topic13\", \"Topic13\", \"Topic14\", \"Topic14\", \"Topic14\", \"Topic14\", \"Topic14\", \"Topic14\", \"Topic14\", \"Topic14\", \"Topic14\", \"Topic14\", \"Topic14\", \"Topic14\", \"Topic14\", \"Topic14\", \"Topic14\", \"Topic14\", \"Topic14\", \"Topic14\", \"Topic14\", \"Topic14\", \"Topic14\", \"Topic14\", \"Topic14\", \"Topic14\", \"Topic14\", \"Topic14\", \"Topic14\", \"Topic14\", \"Topic14\", \"Topic14\", \"Topic14\", \"Topic14\", \"Topic14\", \"Topic14\", \"Topic14\", \"Topic14\", \"Topic14\", \"Topic14\", \"Topic14\", \"Topic14\", \"Topic14\", \"Topic14\", \"Topic14\", \"Topic14\", \"Topic14\", \"Topic14\", \"Topic14\", \"Topic14\", \"Topic14\", \"Topic14\", \"Topic14\", \"Topic14\", \"Topic14\", \"Topic14\", \"Topic14\", \"Topic14\", \"Topic14\", \"Topic14\", \"Topic14\", \"Topic14\", \"Topic14\", \"Topic14\", \"Topic14\", \"Topic14\", \"Topic14\", \"Topic14\", \"Topic14\", \"Topic14\", \"Topic14\", \"Topic14\", \"Topic14\", \"Topic14\", \"Topic14\", \"Topic14\", \"Topic14\", \"Topic15\", \"Topic15\", \"Topic15\", \"Topic15\", \"Topic15\", \"Topic15\", \"Topic15\", \"Topic15\", \"Topic15\", \"Topic15\", \"Topic15\", \"Topic15\", \"Topic15\", \"Topic15\", \"Topic15\", \"Topic15\", \"Topic15\", \"Topic15\", \"Topic15\", \"Topic15\", \"Topic15\", \"Topic15\", \"Topic15\", \"Topic15\", \"Topic15\", \"Topic15\", \"Topic15\", \"Topic15\", \"Topic15\", \"Topic15\", \"Topic15\", \"Topic15\", \"Topic15\", \"Topic15\", \"Topic15\", \"Topic15\", \"Topic15\", \"Topic15\", \"Topic15\", \"Topic15\", \"Topic15\", \"Topic15\", \"Topic15\", \"Topic15\", \"Topic15\", \"Topic15\", \"Topic15\", \"Topic15\", \"Topic15\", \"Topic15\", \"Topic15\", \"Topic15\", \"Topic15\", \"Topic15\", \"Topic15\", \"Topic15\", \"Topic15\", \"Topic15\", \"Topic15\", \"Topic15\", \"Topic15\", \"Topic15\", \"Topic15\", \"Topic15\", \"Topic15\", \"Topic15\", \"Topic15\", \"Topic15\", \"Topic15\", \"Topic15\", \"Topic15\", \"Topic15\", \"Topic16\", \"Topic16\", \"Topic16\", \"Topic16\", \"Topic16\", \"Topic16\", \"Topic16\", \"Topic16\", \"Topic16\", \"Topic16\", \"Topic16\", \"Topic16\", \"Topic16\", \"Topic16\", \"Topic16\", \"Topic16\", \"Topic16\", \"Topic16\", \"Topic16\", \"Topic16\", \"Topic16\", \"Topic16\", \"Topic16\", \"Topic16\", \"Topic16\", \"Topic16\", \"Topic16\", \"Topic16\", \"Topic16\", \"Topic16\", \"Topic16\", \"Topic16\", \"Topic16\", \"Topic16\", \"Topic16\", \"Topic16\", \"Topic16\", \"Topic16\", \"Topic16\", \"Topic16\", \"Topic16\", \"Topic16\", \"Topic16\", \"Topic16\", \"Topic16\", \"Topic16\", \"Topic16\", \"Topic16\", \"Topic16\", \"Topic16\", \"Topic16\", \"Topic16\", \"Topic16\", \"Topic16\", \"Topic16\", \"Topic16\", \"Topic16\", \"Topic16\", \"Topic16\", \"Topic16\", \"Topic16\", \"Topic16\", \"Topic16\", \"Topic16\", \"Topic16\", \"Topic16\", \"Topic16\", \"Topic16\", \"Topic16\", \"Topic16\", \"Topic16\", \"Topic17\", \"Topic17\", \"Topic17\", \"Topic17\", \"Topic17\", \"Topic17\", \"Topic17\", \"Topic17\", \"Topic17\", \"Topic17\", \"Topic17\", \"Topic17\", \"Topic17\", \"Topic17\", \"Topic17\", \"Topic17\", \"Topic17\", \"Topic17\", \"Topic17\", \"Topic17\", \"Topic17\", \"Topic17\", \"Topic17\", \"Topic17\", \"Topic17\", \"Topic17\", \"Topic17\", \"Topic17\", \"Topic17\", \"Topic17\", \"Topic17\", \"Topic17\", \"Topic17\", \"Topic17\", \"Topic17\", \"Topic17\", \"Topic17\", \"Topic17\", \"Topic17\", \"Topic17\", \"Topic17\", \"Topic17\", \"Topic17\", \"Topic17\", \"Topic17\", \"Topic17\", \"Topic17\", \"Topic17\", \"Topic17\", \"Topic17\", \"Topic17\", \"Topic17\", \"Topic17\", \"Topic17\", \"Topic17\", \"Topic17\", \"Topic17\", \"Topic17\", \"Topic17\", \"Topic17\", \"Topic17\", \"Topic17\", \"Topic17\", \"Topic17\", \"Topic17\", \"Topic17\", \"Topic17\", \"Topic18\", \"Topic18\", \"Topic18\", \"Topic18\", \"Topic18\", \"Topic18\", \"Topic18\", \"Topic18\", \"Topic18\", \"Topic18\", \"Topic18\", \"Topic18\", \"Topic18\", \"Topic18\", \"Topic18\", \"Topic18\", \"Topic18\", \"Topic18\", \"Topic18\", \"Topic18\", \"Topic18\", \"Topic18\", \"Topic18\", \"Topic18\", \"Topic18\", \"Topic18\", \"Topic18\", \"Topic18\", \"Topic18\", \"Topic18\", \"Topic18\", \"Topic18\", \"Topic18\", \"Topic18\", \"Topic18\", \"Topic18\", \"Topic18\", \"Topic18\", \"Topic18\", \"Topic18\", \"Topic18\", \"Topic18\", \"Topic18\", \"Topic18\", \"Topic18\", \"Topic18\", \"Topic18\", \"Topic18\", \"Topic18\", \"Topic18\", \"Topic18\", \"Topic18\", \"Topic18\", \"Topic18\", \"Topic18\", \"Topic18\", \"Topic18\", \"Topic18\", \"Topic18\", \"Topic18\", \"Topic18\", \"Topic18\", \"Topic18\", \"Topic18\", \"Topic18\", \"Topic18\", \"Topic19\", \"Topic19\", \"Topic19\", \"Topic19\", \"Topic19\", \"Topic19\", \"Topic19\", \"Topic19\", \"Topic19\", \"Topic19\", \"Topic19\", \"Topic19\", \"Topic19\", \"Topic19\", \"Topic19\", \"Topic19\", \"Topic19\", \"Topic19\", \"Topic19\", \"Topic19\", \"Topic19\", \"Topic19\", \"Topic19\", \"Topic19\", \"Topic19\", \"Topic19\", \"Topic19\", \"Topic19\", \"Topic19\", \"Topic19\", \"Topic19\", \"Topic19\", \"Topic19\", \"Topic19\", \"Topic19\", \"Topic19\", \"Topic19\", \"Topic19\", \"Topic19\", \"Topic19\", \"Topic19\", \"Topic19\", \"Topic19\", \"Topic19\", \"Topic19\", \"Topic19\", \"Topic19\", \"Topic19\", \"Topic19\", \"Topic19\", \"Topic19\", \"Topic19\", \"Topic19\", \"Topic19\", \"Topic19\", \"Topic19\", \"Topic19\", \"Topic19\", \"Topic19\", \"Topic19\", \"Topic19\", \"Topic19\", \"Topic19\", \"Topic19\", \"Topic20\", \"Topic20\", \"Topic20\", \"Topic20\", \"Topic20\", \"Topic20\", \"Topic20\", \"Topic20\", \"Topic20\", \"Topic20\", \"Topic20\", \"Topic20\", \"Topic20\", \"Topic20\", \"Topic20\", \"Topic20\", \"Topic20\", \"Topic20\", \"Topic20\", \"Topic20\", \"Topic20\", \"Topic20\", \"Topic20\", \"Topic20\", \"Topic20\", \"Topic20\", \"Topic20\", \"Topic20\", \"Topic20\", \"Topic20\", \"Topic20\", \"Topic20\", \"Topic20\", \"Topic20\", \"Topic20\", \"Topic20\", \"Topic20\", \"Topic20\", \"Topic20\", \"Topic20\", \"Topic20\", \"Topic20\", \"Topic20\", \"Topic20\", \"Topic20\", \"Topic20\", \"Topic20\", \"Topic20\", \"Topic20\", \"Topic20\", \"Topic20\", \"Topic20\", \"Topic20\", \"Topic20\", \"Topic20\", \"Topic20\", \"Topic20\", \"Topic20\", \"Topic20\", \"Topic20\", \"Topic20\", \"Topic20\", \"Topic20\", \"Topic20\", \"Topic20\", \"Topic20\", \"Topic20\", \"Topic20\", \"Topic20\", \"Topic20\", \"Topic20\", \"Topic20\", \"Topic21\", \"Topic21\", \"Topic21\", \"Topic21\", \"Topic21\", \"Topic21\", \"Topic21\", \"Topic21\", \"Topic21\", \"Topic21\", \"Topic21\", \"Topic21\", \"Topic21\", \"Topic21\", \"Topic21\", \"Topic21\", \"Topic21\", \"Topic21\", \"Topic21\", \"Topic21\", \"Topic21\", \"Topic21\", \"Topic21\", \"Topic21\", \"Topic21\", \"Topic21\", \"Topic21\", \"Topic21\", \"Topic21\", \"Topic21\", \"Topic21\", \"Topic21\", \"Topic21\", \"Topic21\", \"Topic21\", \"Topic21\", \"Topic21\", \"Topic21\", \"Topic21\", \"Topic21\", \"Topic21\", \"Topic21\", \"Topic21\", \"Topic21\", \"Topic21\", \"Topic21\", \"Topic21\", \"Topic21\", \"Topic21\", \"Topic21\", \"Topic21\", \"Topic21\", \"Topic21\", \"Topic21\", \"Topic21\", \"Topic21\", \"Topic21\", \"Topic21\", \"Topic21\", \"Topic21\", \"Topic21\", \"Topic21\", \"Topic21\", \"Topic21\", \"Topic21\", \"Topic21\", \"Topic22\", \"Topic22\", \"Topic22\", \"Topic22\", \"Topic22\", \"Topic22\", \"Topic22\", \"Topic22\", \"Topic22\", \"Topic22\", \"Topic22\", \"Topic22\", \"Topic22\", \"Topic22\", \"Topic22\", \"Topic22\", \"Topic22\", \"Topic22\", \"Topic22\", \"Topic22\", \"Topic22\", \"Topic22\", \"Topic22\", \"Topic22\", \"Topic22\", \"Topic22\", \"Topic22\", \"Topic22\", \"Topic22\", \"Topic22\", \"Topic22\", \"Topic22\", \"Topic22\", \"Topic22\", \"Topic22\", \"Topic22\", \"Topic22\", \"Topic22\", \"Topic22\", \"Topic22\", \"Topic22\", \"Topic22\", \"Topic22\", \"Topic22\", \"Topic22\", \"Topic22\", \"Topic22\", \"Topic22\", \"Topic22\", \"Topic22\", \"Topic22\", \"Topic22\", \"Topic22\", \"Topic22\", \"Topic22\", \"Topic22\", \"Topic22\", \"Topic22\", \"Topic22\", \"Topic22\", \"Topic22\", \"Topic22\", \"Topic22\", \"Topic22\", \"Topic22\", \"Topic22\", \"Topic22\", \"Topic22\", \"Topic22\", \"Topic23\", \"Topic23\", \"Topic23\", \"Topic23\", \"Topic23\", \"Topic23\", \"Topic23\", \"Topic23\", \"Topic23\", \"Topic23\", \"Topic23\", \"Topic23\", \"Topic23\", \"Topic23\", \"Topic23\", \"Topic23\", \"Topic23\", \"Topic23\", \"Topic23\", \"Topic23\", \"Topic23\", \"Topic23\", \"Topic23\", \"Topic23\", \"Topic23\", \"Topic23\", \"Topic23\", \"Topic23\", \"Topic23\", \"Topic23\", \"Topic23\", \"Topic23\", \"Topic23\", \"Topic23\", \"Topic23\", \"Topic23\", \"Topic23\", \"Topic23\", \"Topic23\", \"Topic23\", \"Topic23\", \"Topic23\", \"Topic23\", \"Topic23\", \"Topic23\", \"Topic23\", \"Topic23\", \"Topic23\", \"Topic23\", \"Topic23\", \"Topic23\", \"Topic23\", \"Topic23\", \"Topic23\", \"Topic23\", \"Topic23\", \"Topic23\", \"Topic23\", \"Topic23\", \"Topic23\", \"Topic23\", \"Topic23\", \"Topic23\", \"Topic23\", \"Topic23\", \"Topic23\", \"Topic23\", \"Topic23\", \"Topic23\", \"Topic23\", \"Topic23\", \"Topic23\", \"Topic23\", \"Topic23\", \"Topic23\", \"Topic24\", \"Topic24\", \"Topic24\", \"Topic24\", \"Topic24\", \"Topic24\", \"Topic24\", \"Topic24\", \"Topic24\", \"Topic24\", \"Topic24\", \"Topic24\", \"Topic24\", \"Topic24\", \"Topic24\", \"Topic24\", \"Topic24\", \"Topic24\", \"Topic24\", \"Topic24\", \"Topic24\", \"Topic24\", \"Topic24\", \"Topic24\", \"Topic24\", \"Topic24\", \"Topic24\", \"Topic24\", \"Topic24\", \"Topic24\", \"Topic24\", \"Topic24\", \"Topic24\", \"Topic24\", \"Topic24\", \"Topic24\", \"Topic24\", \"Topic24\", \"Topic24\", \"Topic24\", \"Topic24\", \"Topic24\", \"Topic24\", \"Topic24\", \"Topic24\", \"Topic24\", \"Topic24\", \"Topic24\", \"Topic24\", \"Topic24\", \"Topic24\", \"Topic24\", \"Topic24\", \"Topic24\", \"Topic24\", \"Topic24\", \"Topic24\", \"Topic24\", \"Topic24\", \"Topic24\", \"Topic24\", \"Topic24\", \"Topic24\", \"Topic24\", \"Topic24\", \"Topic24\", \"Topic25\", \"Topic25\", \"Topic25\", \"Topic25\", \"Topic25\", \"Topic25\", \"Topic25\", \"Topic25\", \"Topic25\", \"Topic25\", \"Topic25\", \"Topic25\", \"Topic25\", \"Topic25\", \"Topic25\", \"Topic25\", \"Topic25\", \"Topic25\", \"Topic25\", \"Topic25\", \"Topic25\", \"Topic25\", \"Topic25\", \"Topic25\", \"Topic25\", \"Topic25\", \"Topic25\", \"Topic25\", \"Topic25\", \"Topic25\", \"Topic25\", \"Topic25\", \"Topic25\", \"Topic25\", \"Topic25\", \"Topic25\", \"Topic25\", \"Topic25\", \"Topic25\", \"Topic25\", \"Topic25\", \"Topic25\", \"Topic25\", \"Topic25\", \"Topic25\", \"Topic25\", \"Topic25\", \"Topic25\", \"Topic25\", \"Topic25\", \"Topic25\", \"Topic25\", \"Topic25\", \"Topic25\", \"Topic25\", \"Topic25\", \"Topic25\", \"Topic25\", \"Topic25\", \"Topic25\", \"Topic26\", \"Topic26\", \"Topic26\", \"Topic26\", \"Topic26\", \"Topic26\", \"Topic26\", \"Topic26\", \"Topic26\", \"Topic26\", \"Topic26\", \"Topic26\", \"Topic26\", \"Topic26\", \"Topic26\", \"Topic26\", \"Topic26\", \"Topic26\", \"Topic26\", \"Topic26\", \"Topic26\", \"Topic26\", \"Topic26\", \"Topic26\", \"Topic26\", \"Topic26\", \"Topic26\", \"Topic26\", \"Topic26\", \"Topic26\", \"Topic26\", \"Topic26\", \"Topic26\", \"Topic26\", \"Topic26\", \"Topic26\", \"Topic26\", \"Topic26\", \"Topic26\", \"Topic26\", \"Topic26\", \"Topic26\", \"Topic26\", \"Topic26\", \"Topic26\", \"Topic26\", \"Topic26\", \"Topic26\", \"Topic26\", \"Topic26\", \"Topic26\", \"Topic26\", \"Topic26\", \"Topic26\", \"Topic26\", \"Topic26\", \"Topic26\", \"Topic26\", \"Topic26\", \"Topic26\", \"Topic26\", \"Topic26\", \"Topic26\", \"Topic27\", \"Topic27\", \"Topic27\", \"Topic27\", \"Topic27\", \"Topic27\", \"Topic27\", \"Topic27\", \"Topic27\", \"Topic27\", \"Topic27\", \"Topic27\", \"Topic27\", \"Topic27\", \"Topic27\", \"Topic27\", \"Topic27\", \"Topic27\", \"Topic27\", \"Topic27\", \"Topic27\", \"Topic27\", \"Topic27\", \"Topic27\", \"Topic27\", \"Topic27\", \"Topic27\", \"Topic27\", \"Topic27\", \"Topic27\", \"Topic27\", \"Topic27\", \"Topic27\", \"Topic27\", \"Topic27\", \"Topic27\", \"Topic27\", \"Topic27\", \"Topic27\", \"Topic27\", \"Topic27\", \"Topic27\", \"Topic27\", \"Topic27\", \"Topic27\", \"Topic27\", \"Topic27\", \"Topic27\", \"Topic27\", \"Topic27\", \"Topic27\", \"Topic27\", \"Topic27\", \"Topic27\", \"Topic27\", \"Topic27\", \"Topic27\", \"Topic27\", \"Topic27\", \"Topic27\", \"Topic27\", \"Topic27\", \"Topic27\", \"Topic27\", \"Topic27\", \"Topic27\", \"Topic28\", \"Topic28\", \"Topic28\", \"Topic28\", \"Topic28\", \"Topic28\", \"Topic28\", \"Topic28\", \"Topic28\", \"Topic28\", \"Topic28\", \"Topic28\", \"Topic28\", \"Topic28\", \"Topic28\", \"Topic28\", \"Topic28\", \"Topic28\", \"Topic28\", \"Topic28\", \"Topic28\", \"Topic28\", \"Topic28\", \"Topic28\", \"Topic28\", \"Topic28\", \"Topic28\", \"Topic28\", \"Topic28\", \"Topic28\", \"Topic28\", \"Topic28\", \"Topic28\", \"Topic28\", \"Topic28\", \"Topic28\", \"Topic28\", \"Topic28\", \"Topic28\", \"Topic28\", \"Topic28\", \"Topic28\", \"Topic28\", \"Topic28\", \"Topic28\", \"Topic28\", \"Topic28\", \"Topic28\", \"Topic28\", \"Topic28\", \"Topic28\", \"Topic28\", \"Topic28\", \"Topic28\", \"Topic28\", \"Topic28\", \"Topic28\", \"Topic28\", \"Topic28\", \"Topic28\", \"Topic29\", \"Topic29\", \"Topic29\", \"Topic29\", \"Topic29\", \"Topic29\", \"Topic29\", \"Topic29\", \"Topic29\", \"Topic29\", \"Topic29\", \"Topic29\", \"Topic29\", \"Topic29\", \"Topic29\", \"Topic29\", \"Topic29\", \"Topic29\", \"Topic29\", \"Topic29\", \"Topic29\", \"Topic29\", \"Topic29\", \"Topic29\", \"Topic29\", \"Topic29\", \"Topic29\", \"Topic29\", \"Topic29\", \"Topic29\", \"Topic29\", \"Topic29\", \"Topic29\", \"Topic29\", \"Topic29\", \"Topic29\", \"Topic29\", \"Topic29\", \"Topic29\", \"Topic29\", \"Topic29\", \"Topic29\", \"Topic29\", \"Topic29\", \"Topic29\", \"Topic29\", \"Topic29\", \"Topic29\", \"Topic29\", \"Topic29\", \"Topic29\", \"Topic29\", \"Topic29\", \"Topic29\", \"Topic29\", \"Topic29\", \"Topic29\", \"Topic30\", \"Topic30\", \"Topic30\", \"Topic30\", \"Topic30\", \"Topic30\", \"Topic30\", \"Topic30\", \"Topic30\", \"Topic30\", \"Topic30\", \"Topic30\", \"Topic30\", \"Topic30\", \"Topic30\", \"Topic30\", \"Topic30\", \"Topic30\", \"Topic30\", \"Topic30\", \"Topic30\", \"Topic30\", \"Topic30\", \"Topic30\", \"Topic30\", \"Topic30\", \"Topic30\", \"Topic30\", \"Topic30\", \"Topic30\", \"Topic30\", \"Topic30\", \"Topic30\", \"Topic30\", \"Topic30\", \"Topic30\", \"Topic30\", \"Topic30\", \"Topic30\", \"Topic30\", \"Topic30\", \"Topic30\", \"Topic30\", \"Topic30\", \"Topic30\", \"Topic30\", \"Topic30\", \"Topic30\", \"Topic30\", \"Topic30\", \"Topic30\", \"Topic30\", \"Topic30\", \"Topic30\", \"Topic30\", \"Topic30\", \"Topic30\", \"Topic30\", \"Topic30\", \"Topic30\", \"Topic30\", \"Topic31\", \"Topic31\", \"Topic31\", \"Topic31\", \"Topic31\", \"Topic31\", \"Topic31\", \"Topic31\", \"Topic31\", \"Topic31\", \"Topic31\", \"Topic31\", \"Topic31\", \"Topic31\", \"Topic31\", \"Topic31\", \"Topic31\", \"Topic31\", \"Topic31\", \"Topic31\", \"Topic31\", \"Topic31\", \"Topic31\", \"Topic31\", \"Topic31\", \"Topic31\", \"Topic31\", \"Topic31\", \"Topic31\", \"Topic31\", \"Topic31\", \"Topic31\", \"Topic31\", \"Topic31\", \"Topic31\", \"Topic31\", \"Topic31\", \"Topic31\", \"Topic31\", \"Topic31\", \"Topic31\", \"Topic31\", \"Topic31\", \"Topic31\", \"Topic31\", \"Topic31\", \"Topic31\", \"Topic31\", \"Topic31\", \"Topic31\", \"Topic31\", \"Topic31\", \"Topic31\", \"Topic31\", \"Topic31\", \"Topic31\", \"Topic31\", \"Topic31\", \"Topic31\", \"Topic31\", \"Topic31\", \"Topic31\", \"Topic31\", \"Topic31\", \"Topic31\", \"Topic31\", \"Topic31\", \"Topic32\", \"Topic32\", \"Topic32\", \"Topic32\", \"Topic32\", \"Topic32\", \"Topic32\", \"Topic32\", \"Topic32\", \"Topic32\", \"Topic32\", \"Topic32\", \"Topic32\", \"Topic32\", \"Topic32\", \"Topic32\", \"Topic32\", \"Topic32\", \"Topic32\", \"Topic32\", \"Topic32\", \"Topic32\", \"Topic32\", \"Topic32\", \"Topic32\", \"Topic32\", \"Topic32\", \"Topic32\", \"Topic32\", \"Topic32\", \"Topic32\", \"Topic32\", \"Topic32\", \"Topic32\", \"Topic32\", \"Topic32\", \"Topic32\", \"Topic32\", \"Topic32\", \"Topic32\", \"Topic32\", \"Topic32\", \"Topic32\", \"Topic32\", \"Topic32\", \"Topic32\", \"Topic32\", \"Topic32\", \"Topic32\", \"Topic32\", \"Topic32\", \"Topic32\", \"Topic32\", \"Topic32\", \"Topic33\", \"Topic33\", \"Topic33\", \"Topic33\", \"Topic33\", \"Topic33\", \"Topic33\", \"Topic33\", \"Topic33\", \"Topic33\", \"Topic33\", \"Topic33\", \"Topic33\", \"Topic33\", \"Topic33\", \"Topic33\", \"Topic33\", \"Topic33\", \"Topic33\", \"Topic33\", \"Topic33\", \"Topic33\", \"Topic33\", \"Topic33\", \"Topic33\", \"Topic33\", \"Topic33\", \"Topic33\", \"Topic33\", \"Topic33\", \"Topic33\", \"Topic33\", \"Topic33\", \"Topic33\", \"Topic33\", \"Topic33\", \"Topic33\", \"Topic33\", \"Topic33\", \"Topic33\", \"Topic33\", \"Topic33\", \"Topic33\", \"Topic33\", \"Topic33\", \"Topic33\", \"Topic33\", \"Topic33\", \"Topic33\", \"Topic33\", \"Topic33\", \"Topic33\", \"Topic33\", \"Topic33\", \"Topic33\", \"Topic33\", \"Topic33\", \"Topic33\", \"Topic33\", \"Topic33\", \"Topic33\", \"Topic33\", \"Topic34\", \"Topic34\", \"Topic34\", \"Topic34\", \"Topic34\", \"Topic34\", \"Topic34\", \"Topic34\", \"Topic34\", \"Topic34\", \"Topic34\", \"Topic34\", \"Topic34\", \"Topic34\", \"Topic34\", \"Topic34\", \"Topic34\", \"Topic34\", \"Topic34\", \"Topic34\", \"Topic34\", \"Topic34\", \"Topic34\", \"Topic34\", \"Topic34\", \"Topic34\", \"Topic34\", \"Topic34\", \"Topic34\", \"Topic34\", \"Topic34\", \"Topic34\", \"Topic34\", \"Topic34\", \"Topic34\", \"Topic34\", \"Topic34\", \"Topic34\", \"Topic34\", \"Topic34\", \"Topic34\", \"Topic34\", \"Topic34\", \"Topic34\", \"Topic34\", \"Topic34\", \"Topic34\", \"Topic34\", \"Topic34\", \"Topic34\", \"Topic34\", \"Topic34\", \"Topic34\", \"Topic34\", \"Topic34\", \"Topic34\", \"Topic35\", \"Topic35\", \"Topic35\", \"Topic35\", \"Topic35\", \"Topic35\", \"Topic35\", \"Topic35\", \"Topic35\", \"Topic35\", \"Topic35\", \"Topic35\", \"Topic35\", \"Topic35\", \"Topic35\", \"Topic35\", \"Topic35\", \"Topic35\", \"Topic35\", \"Topic35\", \"Topic35\", \"Topic35\", \"Topic35\", \"Topic35\", \"Topic35\", \"Topic35\", \"Topic35\", \"Topic35\", \"Topic35\", \"Topic35\", \"Topic35\", \"Topic35\", \"Topic35\", \"Topic35\", \"Topic35\", \"Topic35\", \"Topic35\", \"Topic35\", \"Topic35\", \"Topic35\", \"Topic35\", \"Topic35\", \"Topic35\", \"Topic35\", \"Topic35\", \"Topic35\", \"Topic35\", \"Topic35\", \"Topic35\", \"Topic35\", \"Topic35\", \"Topic35\", \"Topic35\", \"Topic35\", \"Topic35\", \"Topic36\", \"Topic36\", \"Topic36\", \"Topic36\", \"Topic36\", \"Topic36\", \"Topic36\", \"Topic36\", \"Topic36\", \"Topic36\", \"Topic36\", \"Topic36\", \"Topic36\", \"Topic36\", \"Topic36\", \"Topic36\", \"Topic36\", \"Topic36\", \"Topic36\", \"Topic36\", \"Topic36\", \"Topic36\", \"Topic36\", \"Topic36\", \"Topic36\", \"Topic36\", \"Topic36\", \"Topic36\", \"Topic36\", \"Topic36\", \"Topic36\", \"Topic36\", \"Topic36\", \"Topic36\", \"Topic36\", \"Topic36\", \"Topic36\", \"Topic36\", \"Topic36\", \"Topic36\", \"Topic36\", \"Topic36\", \"Topic36\", \"Topic36\", \"Topic36\", \"Topic36\", \"Topic36\", \"Topic36\", \"Topic36\", \"Topic36\", \"Topic36\", \"Topic36\"], \"logprob\": [30.0, 29.0, 28.0, 27.0, 26.0, 25.0, 24.0, 23.0, 22.0, 21.0, 20.0, 19.0, 18.0, 17.0, 16.0, 15.0, 14.0, 13.0, 12.0, 11.0, 10.0, 9.0, 8.0, 7.0, 6.0, 5.0, 4.0, 3.0, 2.0, 1.0, -6.565299987792969, -6.7718000411987305, -6.799799919128418, -7.257599830627441, -7.401199817657471, -7.425899982452393, -7.446599960327148, -7.53249979019165, -7.5329999923706055, -7.538899898529053, -7.604000091552734, -7.640399932861328, -7.723199844360352, -7.723199844360352, -7.735400199890137, -7.736499786376953, -7.793799877166748, -7.794300079345703, -7.820799827575684, -7.822800159454346, -7.874499797821045, -7.875800132751465, -7.876999855041504, -7.901899814605713, -7.932700157165527, -7.935200214385986, -7.962399959564209, -7.976099967956543, -7.979499816894531, -8.062899589538574, -4.696300029754639, -7.649799823760986, -6.704699993133545, -6.831999778747559, -6.213500022888184, -6.95389986038208, -4.081099987030029, -5.552199840545654, -6.639699935913086, -6.871399879455566, -5.5345001220703125, -4.144000053405762, -6.220099925994873, -6.389999866485596, -4.479499816894531, -4.33050012588501, -6.037300109863281, -6.544099807739258, -7.017199993133545, -4.013299942016602, -6.059000015258789, -6.576000213623047, -5.48799991607666, -5.410799980163574, -5.075300216674805, -5.379700183868408, -6.02269983291626, -5.333700180053711, -5.380199909210205, -5.847400188446045, -4.166900157928467, -5.560800075531006, -5.776000022888184, -4.967899799346924, -5.348599910736084, -5.916100025177002, -5.3292999267578125, -4.971499919891357, -4.8927001953125, -4.822000026702881, -5.184000015258789, -5.3653998374938965, -5.385900020599365, -5.087399959564209, -5.3582000732421875, -5.276500225067139, -5.251999855041504, -5.137899875640869, -5.159299850463867, -5.358500003814697, -5.514599800109863, -5.95359992980957, -6.837399959564209, -6.86269998550415, -6.900100231170654, -6.996200084686279, -7.057799816131592, -7.070799827575684, -6.409900188446045, -7.132800102233887, -7.144800186157227, -7.222400188446045, -7.221799850463867, -7.278600215911865, -7.36959981918335, -7.371399879455566, -7.373199939727783, -7.382599830627441, -7.420400142669678, -7.3043999671936035, -7.677499771118164, -7.696400165557861, -7.8917999267578125, -7.898200035095215, -7.915800094604492, -7.939499855041504, -7.945700168609619, -7.984000205993652, -8.011199951171875, -6.918900012969971, -8.040499687194824, -5.702000141143799, -4.311800003051758, -6.940700054168701, -6.5630998611450195, -5.178100109100342, -5.619699954986572, -5.746500015258789, -7.149499893188477, -5.298999786376953, -6.884099960327148, -5.34630012512207, -5.457099914550781, -4.296899795532227, -6.507699966430664, -5.415299892425537, -5.514699935913086, -5.33650016784668, -4.8632001876831055, -5.062399864196777, -6.343800067901611, -4.59499979019165, -4.872799873352051, -5.127600193023682, -5.247499942779541, -5.473599910736084, -5.30649995803833, -4.6118998527526855, -4.679500102996826, -4.854300022125244, -5.212200164794922, -4.457399845123291, -5.495299816131592, -4.789599895477295, -5.435500144958496, -5.100900173187256, -4.839799880981445, -5.399700164794922, -5.270500183105469, -5.387899875640869, -5.291500091552734, -5.325099945068359, -5.329400062561035, -5.33620023727417, -5.6605000495910645, -6.414100170135498, -5.019000053405762, -5.986100196838379, -6.881700038909912, -7.097799777984619, -7.17110013961792, -6.79449987411499, -7.263899803161621, -7.271299839019775, -7.2906999588012695, -7.45959997177124, -7.529099941253662, -7.533699989318848, -7.646100044250488, -7.652599811553955, -7.753600120544434, -7.440000057220459, -7.9008002281188965, -5.854000091552734, -5.062600135803223, -7.902900218963623, -7.3084001541137695, -8.01669979095459, -4.578499794006348, -8.069199562072754, -8.07800006866455, -8.137100219726562, -8.137399673461914, -7.825799942016602, -4.756199836730957, -3.103300094604492, -5.162700176239014, -4.836400032043457, -4.987500190734863, -4.864500045776367, -5.558700084686279, -5.243500232696533, -4.179999828338623, -5.283899784088135, -6.769000053405762, -5.117000102996826, -6.736499786376953, -5.187699794769287, -5.8653998374938965, -5.0335001945495605, -4.2947998046875, -4.791200160980225, -5.640699863433838, -4.896900177001953, -5.975200176239014, -5.764699935913086, -4.705900192260742, -4.937399864196777, -5.630899906158447, -4.273600101470947, -5.172800064086914, -5.5457000732421875, -5.2596001625061035, -5.191800117492676, -5.375999927520752, -5.422100067138672, -5.367300033569336, -5.391200065612793, -5.441800117492676, -5.474100112915039, -5.377600193023682, -5.634399890899658, -6.21619987487793, -6.360300064086914, -6.428699970245361, -6.703700065612793, -6.7779998779296875, -7.0243000984191895, -7.083099842071533, -7.189199924468994, -7.158199787139893, -7.198500156402588, -7.216300010681152, -7.222499847412109, -7.275700092315674, -7.380199909210205, -6.880300045013428, -7.44920015335083, -7.467599868774414, -7.519499778747559, -7.614799976348877, -7.635499954223633, -7.662199974060059, -7.701099872589111, -7.264599800109863, -7.745200157165527, -7.750899791717529, -7.420199871063232, -7.7778000831604, -7.293900012969971, -5.313000202178955, -4.013800144195557, -6.5406999588012695, -4.864500045776367, -6.153600215911865, -4.785799980163574, -6.9085001945495605, -5.36899995803833, -6.43310022354126, -5.05810022354126, -5.412199974060059, -6.3765997886657715, -5.408100128173828, -5.260300159454346, -4.85260009765625, -4.286099910736084, -5.614999771118164, -5.3968000411987305, -6.281599998474121, -4.425300121307373, -5.804100036621094, -5.4243998527526855, -5.176700115203857, -5.18149995803833, -5.700300216674805, -4.69350004196167, -5.458199977874756, -5.469900131225586, -5.441800117492676, -5.198699951171875, -5.577199935913086, -5.43779993057251, -5.177700042724609, -5.359399795532227, -5.295400142669678, -5.432700157165527, -5.336999893188477, -5.181099891662598, -5.267399787902832, -5.244800090789795, -5.4446001052856445, -5.928100109100342, -6.422900199890137, -6.770999908447266, -6.837399959564209, -7.075500011444092, -7.098999977111816, -7.143199920654297, -7.25600004196167, -7.257599830627441, -7.270899772644043, -7.274400234222412, -7.274799823760986, -7.294300079345703, -7.345300197601318, -7.432499885559082, -7.437399864196777, -7.461999893188477, -7.535999774932861, -6.903200149536133, -7.701600074768066, -5.472300052642822, -7.72629976272583, -7.786499977111816, -7.791800022125244, -7.815499782562256, -7.817800045013428, -7.824399948120117, -7.832799911499023, -7.852399826049805, -7.852399826049805, -5.8755998611450195, -7.151899814605713, -4.9791998863220215, -7.1468000411987305, -7.356800079345703, -7.470799922943115, -7.030799865722656, -5.025100231170654, -4.690700054168701, -5.028200149536133, -5.313399791717529, -5.634900093078613, -4.0854997634887695, -5.9116997718811035, -5.350200176239014, -6.9257001876831055, -5.187399864196777, -6.597599983215332, -4.764100074768066, -5.872099876403809, -4.9471001625061035, -5.313499927520752, -4.587200164794922, -6.337399959564209, -5.190999984741211, -6.554500102996826, -5.1697998046875, -5.082300186157227, -6.028299808502197, -5.310699939727783, -4.787600040435791, -5.652699947357178, -5.857900142669678, -4.603899955749512, -5.014200210571289, -5.139400005340576, -5.53410005569458, -5.247099876403809, -5.548399925231934, -5.241099834442139, -5.549799919128418, -5.472700119018555, -5.577300071716309, -5.553199768066406, -5.547699928283691, -6.078999996185303, -6.738399982452393, -6.825500011444092, -6.946400165557861, -7.130499839782715, -7.18209981918335, -7.22189998626709, -7.239200115203857, -7.240600109100342, -7.3491997718811035, -7.388800144195557, -7.470799922943115, -7.4721999168396, -7.4903998374938965, -7.496300220489502, -7.5725998878479, -7.591800212860107, -7.617800235748291, -7.672599792480469, -7.784999847412109, -7.813700199127197, -7.8171000480651855, -7.839099884033203, -7.851399898529053, -7.877099990844727, -7.243000030517578, -7.944399833679199, -7.94789981842041, -5.459400177001953, -8.01550006866455, -6.809700012207031, -5.883900165557861, -5.522299766540527, -5.7108001708984375, -6.340400218963623, -6.476799964904785, -5.063600063323975, -6.144999980926514, -5.082300186157227, -5.77839994430542, -4.231100082397461, -6.570300102233887, -5.622900009155273, -5.9567999839782715, -5.915900230407715, -6.463699817657471, -5.869999885559082, -5.170000076293945, -4.786099910736084, -5.933499813079834, -6.260000228881836, -6.537499904632568, -5.081299781799316, -6.050600051879883, -4.842599868774414, -5.259799957275391, -4.056000232696533, -5.625800132751465, -5.869500160217285, -5.224800109863281, -5.718100070953369, -4.420000076293945, -4.380199909210205, -4.162399768829346, -5.695099830627441, -4.558700084686279, -4.886600017547607, -4.940899848937988, -4.9019999504089355, -5.428500175476074, -4.593800067901611, -4.849999904632568, -4.91949987411499, -5.109399795532227, -5.205699920654297, -5.149400234222412, -5.102200031280518, -5.328100204467773, -5.326700210571289, -5.398399829864502, -5.372499942779541, -5.387199878692627, -5.362100124359131, -5.547800064086914, -5.9029998779296875, -6.172399997711182, -6.812399864196777, -6.876299858093262, -6.951300144195557, -7.084400177001953, -7.311200141906738, -7.348100185394287, -7.388299942016602, -7.540500164031982, -7.545100212097168, -7.571499824523926, -7.6296000480651855, -7.707600116729736, -7.17140007019043, -7.65500020980835, -7.7129998207092285, -7.779200077056885, -7.799200057983398, -7.8292999267578125, -7.896399974822998, -7.896399974822998, -7.983699798583984, -7.9882001876831055, -8.001099586486816, -8.038999557495117, -8.052499771118164, -8.06879997253418, -8.131799697875977, -4.8927998542785645, -5.770500183105469, -7.180600166320801, -6.1479997634887695, -5.065499782562256, -6.809999942779541, -5.608500003814697, -7.165200233459473, -6.534599781036377, -6.866199970245361, -3.94320011138916, -5.921800136566162, -6.538700103759766, -6.121799945831299, -4.833899974822998, -4.837600231170654, -4.985899925231934, -4.819799900054932, -5.7657999992370605, -6.643499851226807, -4.904600143432617, -6.284800052642822, -6.427800178527832, -5.7692999839782715, -4.502999782562256, -5.508699893951416, -5.84660005569458, -5.540800094604492, -4.809899806976318, -5.56879997253418, -4.664299964904785, -4.729499816894531, -6.196100234985352, -5.122300148010254, -6.022799968719482, -5.259900093078613, -5.106900215148926, -5.356400012969971, -5.048799991607666, -5.5096001625061035, -5.270500183105469, -4.891600131988525, -5.259900093078613, -5.444300174713135, -5.376200199127197, -5.214399814605713, -5.4334001541137695, -5.46999979019165, -5.406599998474121, -5.442800045013428, -5.4359002113342285, -5.429599761962891, -5.562600135803223, -5.920400142669678, -6.070000171661377, -6.269899845123291, -6.437600135803223, -6.544300079345703, -6.574699878692627, -6.736999988555908, -6.9141998291015625, -7.0630998611450195, -7.098400115966797, -7.138199806213379, -6.6082000732421875, -7.322000026702881, -7.343100070953369, -7.345300197601318, -7.3454999923706055, -7.392399787902832, -7.10699987411499, -7.492599964141846, -7.556300163269043, -7.571000099182129, -7.577199935913086, -7.579899787902832, -7.609399795532227, -7.609399795532227, -7.6697998046875, -7.736400127410889, -5.440800189971924, -6.56820011138916, -6.573699951171875, -5.09089994430542, -6.81279993057251, -4.973400115966797, -6.58650016784668, -6.976099967956543, -5.009900093078613, -5.2916998863220215, -6.196599960327148, -4.941400051116943, -5.366700172424316, -6.269499778747559, -4.6128997802734375, -4.864699840545654, -5.547399997711182, -5.922500133514404, -6.09630012512207, -4.291299819946289, -6.138000011444092, -4.8572001457214355, -6.190199851989746, -4.948599815368652, -5.2453999519348145, -5.466400146484375, -5.643799781799316, -5.161900043487549, -5.09660005569458, -5.60860013961792, -5.41510009765625, -4.965199947357178, -5.170599937438965, -5.000999927520752, -5.122399806976318, -5.2052001953125, -5.2104997634887695, -4.967800140380859, -5.6346001625061035, -5.44189977645874, -5.36359977722168, -5.4045000076293945, -5.5030999183654785, -5.537600040435791, -5.3282999992370605, -5.640699863433838, -5.92519998550415, -5.968900203704834, -6.266300201416016, -6.360499858856201, -6.493599891662598, -6.902500152587891, -6.927000045776367, -7.103000164031982, -7.1545000076293945, -7.167500019073486, -7.198599815368652, -7.2403998374938965, -7.315499782562256, -7.315499782562256, -7.360799789428711, -7.3867998123168945, -7.421800136566162, -7.412700176239014, -7.562699794769287, -7.594699859619141, -7.735000133514404, -7.802000045776367, -7.8078999519348145, -7.808499813079834, -7.936999797821045, -7.987500190734863, -8.02750015258789, -8.074000358581543, -4.859899997711182, -3.6772000789642334, -3.9637999534606934, -2.1877999305725098, -3.766400098800659, -6.429500102996826, -5.121099948883057, -5.906899929046631, -4.466300010681152, -5.117400169372559, -5.230500221252441, -5.681000232696533, -4.629300117492676, -4.484899997711182, -5.11359977722168, -4.271699905395508, -4.443999767303467, -3.944200038909912, -5.009300231933594, -4.069900035858154, -4.990799903869629, -3.238300085067749, -5.3755998611450195, -5.298900127410889, -4.990799903869629, -5.116399765014648, -4.793000221252441, -4.901199817657471, -4.28439998626709, -4.498000144958496, -5.185999870300293, -4.603700160980225, -5.182700157165527, -5.095600128173828, -5.104899883270264, -5.048799991607666, -5.101799964904785, -5.101200103759766, -5.780300140380859, -6.390100002288818, -6.46589994430542, -6.5569000244140625, -6.697400093078613, -6.76230001449585, -6.78849983215332, -6.853799819946289, -7.061299800872803, -7.1132001876831055, -7.125100135803223, -7.125400066375732, -7.202499866485596, -7.257999897003174, -7.290800094604492, -7.347599983215332, -7.359300136566162, -7.3892998695373535, -7.412099838256836, -7.517499923706055, -7.562099933624268, -7.595799922943115, -7.634799957275391, -7.6350998878479, -7.637899875640869, -7.654600143432617, -7.681399822235107, -7.125199794769287, -7.712200164794922, -7.384500026702881, -5.769499778747559, -6.5731000900268555, -6.1819000244140625, -5.808000087738037, -5.7307000160217285, -6.026199817657471, -6.703100204467773, -6.770999908447266, -3.6096999645233154, -4.837100028991699, -4.368800163269043, -5.380799770355225, -5.367099761962891, -4.81689977645874, -4.838099956512451, -6.063000202178955, -4.932499885559082, -5.355100154876709, -4.935699939727783, -5.0157999992370605, -6.192299842834473, -5.254199981689453, -5.960599899291992, -5.437099933624268, -5.416500091552734, -5.215700149536133, -4.89109992980957, -5.149199962615967, -5.553400039672852, -5.285399913787842, -5.038300037384033, -5.0391998291015625, -5.226399898529053, -5.537099838256836, -5.141900062561035, -4.717100143432617, -5.172100067138672, -5.365900039672852, -5.382999897003174, -5.2916998863220215, -5.405300140380859, -5.503600120544434, -5.514500141143799, -5.793000221252441, -6.05810022354126, -6.074100017547607, -6.248899936676025, -6.323999881744385, -6.335700035095215, -6.499499797821045, -6.499800205230713, -6.569699764251709, -6.615900039672852, -6.735899925231934, -6.532199859619141, -6.95419979095459, -7.0883002281188965, -6.3292999267578125, -7.159599781036377, -7.163599967956543, -7.2480998039245605, -7.325300216674805, -7.359799861907959, -7.373300075531006, -7.055600166320801, -7.393400192260742, -7.404399871826172, -6.8734002113342285, -7.5065999031066895, -7.515699863433838, -7.535600185394287, -7.575699806213379, -7.616099834442139, -4.404900074005127, -4.753200054168701, -6.236999988555908, -3.0917999744415283, -7.217800140380859, -6.38670015335083, -5.406300067901611, -5.545400142669678, -3.5536999702453613, -5.179200172424316, -5.656799793243408, -3.8348000049591064, -6.411099910736084, -6.557499885559082, -5.150000095367432, -5.4131999015808105, -4.514400005340576, -6.058300018310547, -4.0605998039245605, -5.578999996185303, -5.3078999519348145, -5.2245001792907715, -4.5569000244140625, -5.997499942779541, -5.077000141143799, -4.605999946594238, -5.101799964904785, -5.075799942016602, -5.343200206756592, -5.069399833679199, -5.106599807739258, -5.5243000984191895, -5.300300121307373, -5.2453999519348145, -5.435999870300293, -5.342599868774414, -5.22730016708374, -5.080100059509277, -5.201000213623047, -5.25600004196167, -5.363800048828125, -5.245200157165527, -5.3979997634887695, -3.89739990234375, -5.306600093841553, -5.813199996948242, -6.025700092315674, -6.197000026702881, -6.209400177001953, -6.240900039672852, -6.298099994659424, -6.5131001472473145, -6.571400165557861, -6.729300022125244, -6.83050012588501, -6.849299907684326, -6.0482001304626465, -7.056000232696533, -7.081099987030029, -7.090199947357178, -7.168700218200684, -6.754199981689453, -7.176300048828125, -7.225200176239014, -7.334000110626221, -7.3368000984191895, -7.35099983215332, -7.384300231933594, -7.008699893951416, -7.465799808502197, -7.493599891662598, -7.499499797821045, -7.501999855041504, -7.169000148773193, -5.7170000076293945, -7.101600170135498, -4.656300067901611, -6.03439998626709, -6.185999870300293, -6.420100212097168, -6.5142998695373535, -6.082799911499023, -5.588900089263916, -3.7037999629974365, -5.89769983291626, -6.2571001052856445, -4.567500114440918, -4.853000164031982, -5.587600231170654, -5.65310001373291, -5.079899787902832, -4.648600101470947, -4.953199863433838, -5.393099784851074, -5.813899993896484, -5.078400135040283, -5.13129997253418, -4.961900234222412, -4.465400218963623, -5.092599868774414, -5.051199913024902, -5.1930999755859375, -5.2846999168396, -5.1975998878479, -5.583499908447266, -5.513700008392334, -5.327400207519531, -5.324399948120117, -5.272600173950195, -5.482900142669678, -5.15749979019165, -5.436200141906738, -5.464000225067139, -5.505899906158447, -5.656700134277344, -5.923600196838379, -5.958600044250488, -6.2256999015808105, -6.2596001625061035, -6.49429988861084, -6.2835001945495605, -6.798799991607666, -6.939499855041504, -6.999800205230713, -7.006999969482422, -7.166200160980225, -4.6921000480651855, -7.339700222015381, -7.369999885559082, -7.37060022354126, -7.471700191497803, -5.033299922943115, -7.507699966430664, -7.555099964141846, -6.279900074005127, -7.289700031280518, -7.708399772644043, -7.712600231170654, -7.758900165557861, -7.762800216674805, -7.863900184631348, -7.96999979019165, -8.04259967803955, -8.05049991607666, -5.450300216674805, -6.130300045013428, -6.513700008392334, -3.764699935913086, -4.906599998474121, -7.248600006103516, -6.30210018157959, -7.070000171661377, -6.4274001121521, -5.026599884033203, -4.64169979095459, -6.165200233459473, -4.987500190734863, -6.162199974060059, -6.307700157165527, -4.284299850463867, -5.271900177001953, -4.604000091552734, -6.019400119781494, -6.02239990234375, -5.563700199127197, -4.907100200653076, -4.1975998878479, -5.036399841308594, -4.957600116729736, -5.100399971008301, -4.245100021362305, -4.993599891662598, -5.363100051879883, -5.58519983291626, -4.710899829864502, -5.374199867248535, -4.943900108337402, -5.5015997886657715, -5.281599998474121, -4.741700172424316, -4.368000030517578, -5.3917999267578125, -5.173299789428711, -5.0609002113342285, -5.281099796295166, -5.324999809265137, -5.380000114440918, -5.5731000900268555, -6.066699981689453, -6.220399856567383, -5.4145002365112305, -6.568600177764893, -6.681399822235107, -4.320300102233887, -6.7332000732421875, -6.743000030517578, -6.7596001625061035, -6.879700183868408, -6.901899814605713, -6.906799793243408, -7.055799961090088, -7.1631999015808105, -7.16349983215332, -7.166800022125244, -7.185100078582764, -6.782400131225586, -7.226799964904785, -7.2778000831604, -7.356500148773193, -7.393799781799316, -7.432600021362305, -7.46999979019165, -7.482999801635742, -7.465400218963623, -7.514999866485596, -7.533699989318848, -7.557600021362305, -5.050899982452393, -7.080100059509277, -5.646500110626221, -4.481200218200684, -7.0503997802734375, -7.0040998458862305, -4.668499946594238, -5.54640007019043, -4.046899795532227, -5.308700084686279, -6.774799823760986, -6.5883002281188965, -4.666100025177002, -6.534999847412109, -5.689799785614014, -5.038700103759766, -5.671000003814697, -6.396699905395508, -4.951200008392334, -5.1128997802734375, -4.882699966430664, -5.831600189208984, -5.840099811553955, -5.815299987792969, -5.699399948120117, -5.024700164794922, -5.006100177764893, -4.72599983215332, -5.4380998611450195, -5.929599761962891, -5.167099952697754, -5.416399955749512, -4.899899959564209, -5.3140997886657715, -5.481800079345703, -5.109899997711182, -5.56279993057251, -5.394899845123291, -5.414000034332275, -5.315299987792969, -5.412600040435791, -5.429800033569336, -5.443900108337402, -5.493199825286865, -5.470799922943115, -5.617800235748291, -6.2230000495910645, -6.374499797821045, -6.486199855804443, -6.501699924468994, -6.846700191497803, -6.864500045776367, -6.92519998550415, -6.950699806213379, -6.969600200653076, -6.993100166320801, -7.040800094604492, -7.162099838256836, -7.195300102233887, -7.216100215911865, -7.249499797821045, -7.250899791717529, -7.2795000076293945, -7.281899929046631, -7.314000129699707, -7.31820011138916, -7.343599796295166, -7.36870002746582, -7.4070000648498535, -7.410799980163574, -6.734300136566162, -7.47130012512207, -7.4720001220703125, -7.474899768829346, -7.479899883270264, -7.061299800872803, -4.014900207519531, -4.498300075531006, -6.141300201416016, -5.147799968719482, -6.166399955749512, -6.708499908447266, -6.353600025177002, -5.553699970245361, -4.131800174713135, -4.579500198364258, -3.9546000957489014, -4.885300159454346, -6.471700191497803, -4.020500183105469, -5.279799938201904, -5.9207000732421875, -6.718999862670898, -6.406099796295166, -5.609300136566162, -5.1697998046875, -5.212299823760986, -4.8902997970581055, -5.197999954223633, -4.742499828338623, -5.6346001625061035, -4.82919979095459, -5.1697998046875, -5.323800086975098, -5.3958001136779785, -5.010200023651123, -5.774799823760986, -5.0447998046875, -5.928500175476074, -5.587299823760986, -5.5524001121521, -5.514699935913086, -5.62939977645874, -5.479899883270264, -5.610899925231934, -5.553199768066406, -5.592599868774414, -5.393499851226807, -5.529300212860107, -4.0914998054504395, -6.188899993896484, -6.217899799346924, -6.224699974060059, -6.410799980163574, -6.428299903869629, -6.4730000495910645, -6.474999904632568, -6.5, -6.554599761962891, -6.5644001960754395, -6.6554999351501465, -6.695899963378906, -6.720799922943115, -6.745500087738037, -6.768899917602539, -6.825099945068359, -6.848700046539307, -6.855500221252441, -6.858500003814697, -6.473499774932861, -6.930099964141846, -6.974400043487549, -6.464300155639648, -7.013800144195557, -7.057600021362305, -3.3559999465942383, -7.082399845123291, -6.447700023651123, -4.127799987792969, -5.317699909210205, -4.090400218963623, -5.180699825286865, -4.608399868011475, -5.789899826049805, -5.606599807739258, -6.593900203704834, -5.814199924468994, -4.888700008392334, -6.283999919891357, -4.98829984664917, -4.227799892425537, -5.0518999099731445, -5.7093000411987305, -4.478300094604492, -4.451200008392334, -5.890200138092041, -4.925899982452393, -4.434800148010254, -5.012400150299072, -5.387199878692627, -5.173500061035156, -5.571499824523926, -5.623899936676025, -5.451099872589111, -5.1915998458862305, -5.694200038909912, -4.601399898529053, -4.997000217437744, -4.85230016708374, -4.898200035095215, -5.079800128936768, -5.134699821472168, -5.164299964904785, -5.065400123596191, -5.264200210571289, -5.245100021362305, -5.299499988555908, -5.34250020980835, -5.424699783325195, -3.166599988937378, -5.701700210571289, -5.804200172424316, -5.835899829864502, -5.896999835968018, -6.067500114440918, -6.081699848175049, -6.255099773406982, -6.25540018081665, -6.272600173950195, -6.317399978637695, -6.533400058746338, -5.167200088500977, -6.652100086212158, -3.990999937057495, -6.715000152587891, -6.743100166320801, -6.746099948883057, -6.767199993133545, -3.6303000450134277, -6.790999889373779, -6.798900127410889, -6.827300071716309, -6.890100002288818, -6.894599914550781, -6.916399955749512, -6.926400184631348, -6.891200065612793, -6.948800086975098, -5.80210018157959, -4.252900123596191, -5.986100196838379, -5.21750020980835, -4.822800159454346, -5.26800012588501, -5.688199996948242, -4.844699859619141, -4.319200038909912, -6.310500144958496, -5.868800163269043, -4.681099891662598, -5.125800132751465, -6.086999893188477, -5.845399856567383, -6.033299922943115, -5.139599800109863, -3.8310999870300293, -4.44320011138916, -5.690499782562256, -5.546999931335449, -5.6528000831604, -4.740799903869629, -5.429500102996826, -5.44350004196167, -5.027599811553955, -4.878799915313721, -5.136600017547607, -5.212200164794922, -4.922900199890137, -5.513500213623047, -5.311299800872803, -5.382400035858154, -5.20419979095459, -5.347400188446045, -5.398399829864502, -5.4045000076293945, -4.947700023651123, -5.305600166320801, -5.747499942779541, -5.820899963378906, -5.849400043487549, -5.905700206756592, -5.975200176239014, -6.029900074005127, -6.102700233459473, -6.148900032043457, -6.36929988861084, -6.22760009765625, -6.543600082397461, -4.777100086212158, -6.656899929046631, -6.67710018157959, -6.732600212097168, -6.770899772644043, -6.854899883270264, -6.867499828338623, -6.205100059509277, -6.93209981918335, -6.969200134277344, -6.985899925231934, -7.012199878692627, -7.030300140380859, -7.030300140380859, -7.035399913787842, -7.117700099945068, -7.145699977874756, -6.078499794006348, -4.834400177001953, -4.887700080871582, -6.057799816131592, -5.657299995422363, -5.289100170135498, -5.355599880218506, -5.828000068664551, -6.29640007019043, -4.338900089263916, -4.340099811553955, -4.5258002281188965, -5.532899856567383, -5.916900157928467, -4.239999771118164, -5.472400188446045, -3.864300012588501, -4.879000186920166, -5.4506001472473145, -4.942299842834473, -5.201000213623047, -5.585000038146973, -5.237599849700928, -5.637599945068359, -5.207099914550781, -5.480000019073486, -4.995200157165527, -4.987400054931641, -5.355000019073486, -5.660399913787842, -5.366099834442139, -5.383399963378906, -5.45959997177124, -5.543099880218506, -5.5742998123168945, -5.561800003051758, -4.490600109100342, -4.602499961853027, -5.189300060272217, -6.036600112915039, -6.121300220489502, -6.188399791717529, -4.491499900817871, -6.372099876403809, -6.478499889373779, -6.495999813079834, -6.547399997711182, -6.569900035858154, -6.236499786376953, -6.667300224304199, -6.734899997711182, -7.003799915313721, -7.109499931335449, -7.118500232696533, -7.128699779510498, -5.60699987411499, -7.254000186920166, -7.310800075531006, -7.351600170135498, -7.443699836730957, -7.446899890899658, -7.497600078582764, -7.500999927520752, -7.502799987792969, -7.5046000480651855, -7.611000061035156, -4.58650016784668, -3.8680999279022217, -3.1259000301361084, -5.532100200653076, -3.4846999645233154, -5.5167999267578125, -4.917699813842773, -4.52370023727417, -6.013500213623047, -4.664000034332275, -6.406000137329102, -4.197400093078613, -4.61959981918335, -5.508900165557861, -4.292600154876709, -4.448699951171875, -4.503499984741211, -4.9822998046875, -5.363800048828125, -5.892899990081787, -4.364099979400635, -5.018499851226807, -4.684599876403809, -4.479499816894531, -4.916900157928467, -4.865799903869629, -5.543300151824951, -5.097499847412109, -5.0005998611450195, -5.255099773406982, -5.291200160980225, -5.288099765777588, -5.245500087738037, -5.3531999588012695, -5.884399890899658, -6.115499973297119, -6.260900020599365, -6.286300182342529, -6.294400215148926, -6.309000015258789, -6.348999977111816, -6.374599933624268, -6.412300109863281, -6.582200050354004, -6.690299987792969, -6.964000225067139, -6.989699840545654, -7.095900058746338, -7.109399795532227, -7.207399845123291, -7.245699882507324, -6.424499988555908, -7.31220006942749, -7.375800132751465, -7.393700122833252, -7.420100212097168, -7.451099872589111, -7.471199989318848, -7.5416998863220215, -7.543600082397461, -7.5467000007629395, -7.100299835205078, -7.584700107574463, -7.58650016784668, -3.5127999782562256, -5.057300090789795, -6.162099838256836, -7.28000020980835, -5.156599998474121, -6.591400146484375, -5.240200042724609, -5.214700222015381, -6.904699802398682, -4.632699966430664, -6.878600120544434, -6.270199775695801, -4.636199951171875, -6.222300052642822, -5.963699817657471, -4.8206000328063965, -4.873499870300293, -5.567599773406982, -5.247700214385986, -4.923500061035156, -4.987800121307373, -5.348199844360352, -5.270400047302246, -5.5553998947143555, -5.20389986038208, -4.807300090789795, -5.508900165557861, -5.034299850463867, -4.987100124359131, -4.640200138092041, -5.515600204467773, -5.675899982452393, -5.041800022125244, -5.353099822998047, -5.196899890899658, -5.371300220489502, -5.5854997634887695, -5.387700080871582, -5.418000221252441, -5.261000156402588, -5.481599807739258, -5.534999847412109, -3.647900104522705, -4.407199859619141, -5.0578999519348145, -5.0756001472473145, -5.1290998458862305, -5.51609992980957, -5.976500034332275, -6.263999938964844, -6.31279993057251, -6.35230016708374, -4.693299770355225, -6.422399997711182, -7.104599952697754, -7.107699871063232, -7.105899810791016, -7.1107001304626465, -7.111400127410889, -7.139800071716309, -7.16349983215332, -7.2006001472473145, -7.233699798583984, -7.235099792480469, -7.235899925231934, -7.2652997970581055, -7.2652997970581055, -7.2657999992370605, -7.268099784851074, -7.299099922180176, -7.3709001541137695, -7.3709001541137695, -3.3320999145507812, -5.279600143432617, -5.851799964904785, -4.467700004577637, -6.031099796295166, -4.896999835968018, -6.337399959564209, -5.336400032043457, -6.273900032043457, -5.67710018157959, -3.8362998962402344, -3.9937000274658203, -5.840799808502197, -5.842100143432617, -6.131499767303467, -6.341800212860107, -4.102799892425537, -5.558000087738037, -4.923799991607666, -3.772599935531616, -4.46120023727417, -4.377999782562256, -4.822800159454346, -5.36870002746582, -4.542600154876709, -4.72599983215332, -4.796800136566162, -5.062399864196777, -5.020299911499023, -5.108500003814697, -4.8043999671936035, -4.828100204467773, -5.111299991607666, -5.2519001960754395, -5.208199977874756, -5.313899993896484, -4.248499870300293, -5.3221001625061035, -5.005799770355225, -5.767899990081787, -4.304200172424316, -5.8572998046875, -6.083799839019775, -6.425600051879883, -6.485199928283691, -6.542600154876709, -6.5995001792907715, -6.68179988861084, -6.72130012512207, -6.77239990234375, -6.775899887084961, -6.8190999031066895, -6.822299957275391, -6.844399929046631, -6.900100231170654, -6.928400039672852, -5.037899971008301, -6.976500034332275, -6.977200031280518, -6.984600067138672, -7.006999969482422, -7.014999866485596, -7.043700218200684, -7.0782999992370605, -7.143700122833252, -7.176700115203857, -5.156599998474121, -4.384399890899658, -6.582699775695801, -5.817599773406982, -5.957200050354004, -4.096799850463867, -6.073800086975098, -6.827700138092041, -4.104000091552734, -6.56220006942749, -5.85890007019043, -3.8397998809814453, -4.7708001136779785, -4.520899772644043, -5.7769999504089355, -5.505000114440918, -6.337600231170654, -5.056700229644775, -4.659599781036377, -5.151599884033203, -4.319900035858154, -4.6305999755859375, -5.596199989318848, -5.560100078582764, -4.453499794006348, -4.8144001960754395, -5.38129997253418, -5.42080020904541, -4.7729997634887695, -4.682600021362305, -5.2795000076293945, -5.190999984741211, -4.368199825286865, -5.04040002822876, -5.11460018157959, -4.891900062561035, -5.100299835205078, -5.2683000564575195, -5.3003997802734375, -5.995699882507324, -4.16949987411499, -6.218200206756592, -6.248300075531006, -6.251399993896484, -6.262700080871582, -6.322199821472168, -6.480199813842773, -6.690199851989746, -6.769700050354004, -6.976099967956543, -7.176400184631348, -7.176499843597412, -6.293300151824951, -7.291100025177002, -7.299699783325195, -7.303299903869629, -7.303299903869629, -7.303299903869629, -7.303299903869629, -7.30649995803833, -7.388899803161621, -7.3942999839782715, -7.435699939727783, -4.5208001136779785, -7.481800079345703, -6.866300106048584, -7.60699987411499, -6.419600009918213, -7.742300033569336, -6.504700183868408, -6.361800193786621, -3.7904999256134033, -6.166600227355957, -5.343100070953369, -5.06790018081665, -6.166800022125244, -6.18120002746582, -5.007699966430664, -5.6296000480651855, -5.188899993896484, -4.588799953460693, -6.595200061798096, -6.1778998374938965, -6.487500190734863, -5.673500061035156, -4.673099994659424, -4.6508002281188965, -5.802599906921387, -4.978499889373779, -4.416100025177002, -5.071700096130371, -4.797399997711182, -5.741799831390381, -5.795400142669678, -5.756899833679199, -5.233500003814697, -5.3403000831604, -5.532700061798096, -4.895100116729736, -5.828100204467773, -4.826499938964844, -5.514200210571289, -5.902599811553955, -5.202899932861328, -5.119999885559082, -5.1519999504089355, -5.400899887084961, -5.545000076293945, -5.353000164031982, -5.473899841308594, -5.488699913024902, -5.539999961853027, -5.469799995422363, -5.544899940490723, -4.5046000480651855, -5.0991997718811035, -5.442299842834473, -5.776899814605713, -5.9191999435424805, -6.248899936676025, -6.35129976272583, -6.406099796295166, -6.513800144195557, -5.238500118255615, -6.713600158691406, -6.750899791717529, -6.751800060272217, -6.75570011138916, -6.77209997177124, -6.361299991607666, -6.809299945831299, -6.879000186920166, -6.910699844360352, -6.973999977111816, -6.985300064086914, -7.010200023651123, -7.023200035095215, -7.051599979400635, -7.0543999671936035, -7.06790018081665, -7.111000061035156, -7.132500171661377, -7.132699966430664, -7.1768999099731445, -4.148799896240234, -4.503699779510498, -5.880499839782715, -4.897900104522705, -5.7530999183654785, -6.229100227355957, -4.61269998550415, -5.408100128173828, -4.856200218200684, -4.1493000984191895, -6.371699810028076, -4.736800193786621, -5.750199794769287, -4.882999897003174, -4.926300048828125, -4.482399940490723, -4.962500095367432, -6.178400039672852, -5.117599964141846, -5.627699851989746, -4.618100166320801, -4.866399765014648, -4.620299816131592, -4.7266998291015625, -5.14169979095459, -5.005000114440918, -5.580599784851074, -4.73769998550415, -4.474400043487549, -5.086699962615967, -5.310699939727783, -5.285299777984619, -5.30109977722168, -5.400100231170654, -5.241600036621094, -5.32889986038208, -4.5605998039245605, -5.110099792480469, -5.231599807739258, -5.37939977645874, -5.447199821472168, -5.483699798583984, -5.502600193023682, -5.622399806976318, -5.631999969482422, -5.64709997177124, -5.676599979400635, -5.822199821472168, -5.851799964904785, -5.875100135803223, -5.888899803161621, -5.896599769592285, -5.917200088500977, -5.917200088500977, -5.917200088500977, -5.945499897003174, -5.997900009155273, -6.197000026702881, -6.219600200653076, -6.231900215148926, -6.27400016784668, -6.358500003814697, -6.404200077056885, -6.427299976348877, -6.501200199127197, -6.576099872589111, -5.698200225830078, -5.061600208282471, -5.022299766540527, -5.5254998207092285, -5.569699764251709, -5.122399806976318, -5.468299865722656, -5.115699768066406, -4.491399765014648, -4.968100070953369, -4.197199821472168, -4.56820011138916, -4.1956000328063965, -4.127999782562256, -4.9608001708984375, -5.202199935913086, -5.211999893188477, -4.6682000160217285, -4.805300235748291, -4.692399978637695, -5.194699764251709, -4.964399814605713, -4.872300148010254, -4.734799861907959, -5.2270002365112305, -5.032899856567383, -5.107600212097168, -4.953100204467773, -5.157800197601318, -5.377200126647949, -4.783699989318848, -4.804200172424316, -5.009500026702881, -5.024700164794922, -5.104000091552734, -5.254899978637695, -5.872300148010254, -6.202300071716309, -5.533999919891357, -6.372700214385986, -6.518700122833252, -6.568299770355225, -6.5995001792907715, -6.642899990081787, -6.758699893951416, -6.777400016784668, -5.572299957275391, -6.839000225067139, -6.85129976272583, -6.872499942779541, -6.872499942779541, -4.718699932098389, -6.945099830627441, -7.017499923706055, -7.125199794769287, -6.521699905395508, -7.18120002746582, -7.1819000244140625, -7.223599910736084, -7.228000164031982, -5.480199813842773, -4.489699840545654, -6.438300132751465, -5.576900005340576, -6.081500053405762, -6.604800224304199, -5.765500068664551, -6.119100093841553, -3.5352001190185547, -5.7230000495910645, -5.807300090789795, -3.8027000427246094, -5.147799968719482, -5.5503997802734375, -6.056000232696533, -4.101200103759766, -5.4994001388549805, -5.60099983215332, -4.7459001541137695, -4.66379976272583, -4.853700160980225, -5.004799842834473, -5.062699794769287, -5.487800121307373, -5.71999979019165, -5.511300086975098, -5.458700180053711, -5.498600006103516, -5.412799835205078, -5.549499988555908, -5.52269983291626, -5.528500080108643, -5.546800136566162, -4.929699897766113, -5.508999824523926, -5.6992998123168945, -5.939300060272217, -6.027299880981445, -6.076099872589111, -6.097499847412109, -6.1331000328063965, -5.008299827575684, -6.230299949645996, -6.237100124359131, -6.250199794769287, -6.335100173950195, -6.412499904632568, -6.427499771118164, -6.473700046539307, -6.512599945068359, -6.644199848175049, -6.735400199890137, -6.760499954223633, -6.760499954223633, -5.231299877166748, -6.8028998374938965, -6.804500102996826, -6.946899890899658, -6.995200157165527, -7.049200057983398, -7.060400009155273, -6.185400009155273, -7.104100227355957, -6.3206000328063965, -5.860199928283691, -3.0415000915527344, -5.500899791717529, -5.104400157928467, -5.736199855804443, -6.097700119018555, -4.045100212097168, -4.928500175476074, -3.745500087738037, -4.5258002281188965, -5.544400215148926, -5.677599906921387, -4.031300067901611, -4.769800186157227, -5.9369001388549805, -4.526199817657471, -4.644400119781494, -4.945000171661377, -5.7058000564575195, -4.813199996948242, -5.3018999099731445, -5.008200168609619, -4.6717000007629395, -5.003399848937988, -4.809000015258789, -4.8171000480651855, -5.171599864959717, -5.315400123596191, -4.866600036621094, -4.7835001945495605, -5.267600059509277, -5.1774001121521, -5.20959997177124, -5.307400226593018, -5.308599948883057, -4.072299957275391, -5.079599857330322, -5.255899906158447, -5.341700077056885, -5.397200107574463, -5.496399879455566, -5.5721001625061035, -5.711599826812744, -5.82859992980957, -5.843500137329102, -5.8881001472473145, -5.899199962615967, -5.9390997886657715, -5.941199779510498, -5.969799995422363, -6.050000190734863, -6.105599880218506, -5.955100059509277, -6.121500015258789, -5.471799850463867, -6.197400093078613, -6.215700149536133, -6.21589994430542, -6.23799991607666, -6.332399845123291, -6.3368000984191895, -4.607500076293945, -6.42519998550415, -6.4593000411987305, -6.4720001220703125, -5.7032999992370605, -4.683499813079834, -5.449399948120117, -2.9298999309539795, -5.149099826812744, -4.388999938964844, -5.178400039672852, -4.72629976272583, -4.355800151824951, -5.389400005340576, -5.714399814605713, -4.1346001625061035, -5.0954999923706055, -5.143400192260742, -4.999000072479248, -4.005000114440918, -3.4439001083374023, -5.025000095367432, -4.536200046539307, -4.321100234985352, -4.448500156402588, -4.344299793243408, -5.016499996185303, -4.877500057220459, -4.364999771118164, -4.899799823760986, -5.13670015335083, -5.058700084686279, -5.136899948120117, -5.305099964141846, -2.9842000007629395, -3.5501999855041504, -3.423799991607666, -4.385799884796143, -4.674799919128418, -4.8246002197265625, -5.182499885559082, -5.272900104522705, -5.417200088500977, -5.599599838256836, -5.784800052642822, -5.78980016708374, -5.904600143432617, -5.985000133514404, -6.004700183868408, -6.067299842834473, -6.15339994430542, -2.8011999130249023, -6.182000160217285, -6.20419979095459, -6.233399868011475, -5.423600196838379, -6.3541998863220215, -6.369200229644775, -6.389900207519531, -6.4079999923706055, -6.4197998046875, -6.482100009918213, -6.583899974822998, -5.303199768066406, -6.168399810791016, -3.6875998973846436, -3.335700035095215, -5.647600173950195, -3.66510009765625, -6.152599811553955, -5.13070011138916, -4.8231000900268555, -5.411900043487549, -4.252600193023682, -4.134300231933594, -5.229400157928467, -5.540999889373779, -5.613900184631348, -4.628499984741211, -4.290500164031982, -5.220900058746338, -5.024700164794922, -4.914599895477295, -5.448699951171875, -4.9969000816345215, -4.944499969482422, -4.935999870300293, -5.075900077819824, -5.269599914550781, -5.179699897766113, -5.2617998123168945, -4.054599761962891, -4.169400215148926, -4.32480001449585, -4.609099864959717, -5.3892998695373535, -5.503300189971924, -5.568999767303467, -5.995200157165527, -6.2519001960754395, -6.254799842834473, -6.291900157928467, -6.293600082397461, -6.372700214385986, -6.370699882507324, -4.63730001449585, -6.469399929046631, -6.540800094604492, -6.566199779510498, -6.6402997970581055, -6.657899856567383, -6.720300197601318, -6.807799816131592, -6.814899921417236, -4.684100151062012, -7.004700183868408, -7.023399829864502, -7.03980016708374, -7.000800132751465, -4.218599796295166, -7.084799766540527, -3.9876999855041504, -4.45959997177124, -6.5619001388549805, -4.2846999168396, -6.414700031280518, -3.7827000617980957, -5.462500095367432, -4.171599864959717, -4.107500076293945, -5.025700092315674, -3.525599956512451, -5.484499931335449, -4.798999786376953, -4.861199855804443, -4.837399959564209, -4.4953999519348145, -4.959499835968018, -5.2677998542785645, -5.64300012588501, -4.07480001449585, -5.125500202178955, -5.271500110626221, -4.522200107574463, -4.757500171661377, -4.6809000968933105, -4.718800067901611, -5.000899791717529, -4.899600028991699, -5.021200180053711, -5.225299835205078, -5.195400238037109, -3.484999895095825, -4.0706000328063965, -5.42140007019043, -5.771599769592285, -6.121699810028076, -6.189700126647949, -6.273600101470947, -5.5040998458862305, -6.533299922943115, -6.611199855804443, -6.660200119018555, -6.717599868774414, -6.811699867248535, -6.813399791717529, -6.928899765014648, -6.936299800872803, -7.06850004196167, -7.074399948120117, -7.1367998123168945, -7.14300012588501, -7.143799781799316, -7.21560001373291, -7.224899768829346, -7.235499858856201, -5.470799922943115, -7.396699905395508, -7.396900177001953, -7.397299766540527, -7.402500152587891, -7.403900146484375, -4.753399848937988, -5.668399810791016, -4.773099899291992, -4.966300010681152, -6.575799942016602, -5.125699996948242, -5.561299800872803, -3.3671000003814697, -4.867199897766113, -6.483500003814697, -4.28380012512207, -4.9899001121521, -4.9496002197265625, -6.2316999435424805, -4.342800140380859, -6.219299793243408, -5.245800018310547, -4.755799770355225, -5.771599769592285, -4.30079984664917, -5.732800006866455, -5.1743998527526855, -4.795899868011475, -5.17140007019043, -5.226900100708008, -4.974899768829346, -5.394199848175049, -5.27839994430542, -4.993000030517578, -5.250199794769287, -4.949100017547607, -4.953800201416016, -5.15500020980835, -5.1778998374938965, -5.268499851226807, -5.357900142669678, -5.361400127410889, -3.8478000164031982, -3.9124999046325684, -3.9219000339508057, -3.9291000366210938, -4.122300148010254, -4.185100078582764, -4.592100143432617, -5.19379997253418, -5.217899799346924, -5.313399791717529, -5.409299850463867, -5.671000003814697, -5.775000095367432, -5.452099800109863, -5.831500053405762, -5.845300197601318, -5.874599933624268, -5.983699798583984, -6.067699909210205, -6.16349983215332, -6.1975998878479, -6.1975998878479, -2.937999963760376, -6.339200019836426, -5.790500164031982, -6.521999835968018, -6.61269998550415, -6.61269998550415, -6.6128997802734375, -6.380199909210205, -5.429599761962891, -5.4893999099731445, -3.9105000495910645, -5.579400062561035, -5.922599792480469, -4.149899959564209, -3.6308999061584473, -4.091599941253662, -5.037399768829346, -4.490699768066406, -4.809999942779541, -4.795199871063232, -5.113100051879883, -4.7027997970581055, -4.5005998611450195, -5.082600116729736, -4.933300018310547, -4.855100154876709, -4.968200206756592, -4.746699810028076, -5.183499813079834, -5.166500091552734, -5.363699913024902, -5.329999923706055, -4.7399001121521, -4.826900005340576, -5.658100128173828, -5.8618998527526855, -5.490699768066406, -6.283599853515625, -6.285900115966797, -6.323599815368652, -6.409999847412109, -6.427000045776367, -6.43720006942749, -6.485199928283691, -6.547100067138672, -6.615799903869629, -6.335100173950195, -6.761199951171875, -6.918499946594238, -6.919899940490723, -7.005499839782715, -7.117199897766113, -7.117499828338623, -7.117700099945068, -7.128200054168701, -4.940299987792969, -4.474599838256836, -7.241199970245361, -5.3109002113342285, -6.590199947357178, -7.367800235748291, -5.5183000564575195, -4.066100120544434, -4.739799976348877, -4.577199935913086, -5.950200080871582, -5.291100025177002, -3.210400104522705, -2.9175000190734863, -4.5015997886657715, -6.406499862670898, -3.677799940109253, -3.7523999214172363, -3.549299955368042, -4.663599967956543, -3.767699956893921, -4.123199939727783, -5.062099933624268, -4.196800231933594, -3.90339994430542, -4.423099994659424, -4.1631999015808105, -4.883999824523926, -4.683000087738037, -4.1921000480651855, -4.580900192260742, -4.661499977111816, -4.598800182342529, -4.758600234985352, -4.566999912261963, -4.658199787139893, -4.80620002746582, -4.802499771118164, -4.8653998374938965, -4.6859002113342285, -4.746200084686279, -4.832699775695801, -4.836999893188477, -5.14870023727417, -5.217299938201904, -5.319499969482422, -5.367000102996826, -5.374100208282471, -5.374899864196777, -5.39139986038208, -5.496600151062012, -5.553899765014648, -5.623799800872803, -5.678800106048584, -5.686100006103516, -5.821499824523926, -3.512200117111206, -5.614299774169922, -6.0346999168396, -6.035900115966797, -6.190899848937988, -6.31279993057251, -5.753600120544434, -6.438899993896484, -5.744999885559082, -6.512599945068359, -6.513000011444092, -6.51669979095459, -5.590700149536133, -4.007999897003174, -3.808799982070923, -5.797299861907959, -3.545300006866455, -3.9874000549316406, -4.289899826049805, -5.215000152587891, -5.183800220489502, -5.226600170135498, -5.007199764251709, -4.809299945831299, -4.278800010681152, -4.402599811553955, -4.403200149536133, -4.778900146484375, -5.393199920654297, -5.255000114440918, -4.901000022888184, -4.997799873352051, -5.000999927520752, -5.114099979400635, -5.02239990234375, -5.145400047302246, -5.2322998046875, -5.194300174713135, -5.2042999267578125, -4.114699840545654, -4.368800163269043, -4.71589994430542, -5.021399974822998, -5.423900127410889, -5.553899765014648, -5.611000061035156, -4.959099769592285, -5.704400062561035, -5.735899925231934, -5.769700050354004, -5.958499908447266, -5.958899974822998, -6.0015997886657715, -5.408899784088135, -4.002200126647949, -6.091800212860107, -6.092400074005127, -6.141600131988525, -6.370200157165527, -5.144499778747559, -6.399499893188477, -6.569900035858154, -6.342599868774414, -6.649700164794922, -6.651299953460693, -6.651299953460693, -6.651299953460693, -6.652699947357178, -6.665900230407715, -3.7916998863220215, -4.2083001136779785, -6.366600036621094, -4.8765997886657715, -3.568000078201294, -4.0518999099731445, -4.623000144958496, -4.2845001220703125, -4.017000198364258, -4.437300205230713, -4.271200180053711, -4.4593000411987305, -4.503799915313721, -4.30649995803833, -4.0991997718811035, -4.783599853515625, -5.1645002365112305, -5.1132001876831055, -5.32289981842041, -4.823200225830078, -4.54010009765625, -4.740799903869629, -5.0279998779296875, -5.168900012969971, -4.885300159454346, -4.092199802398682, -4.099100112915039, -4.106100082397461, -4.120100021362305, -4.26200008392334, -4.390900135040283, -4.957600116729736, -5.093800067901611, -5.2967000007629395, -4.93149995803833, -4.077199935913086, -5.7058000564575195, -5.776299953460693, -5.854499816894531, -5.980500221252441, -5.993800163269043, -6.041500091552734, -4.049600124359131, -6.075500011444092, -6.180600166320801, -6.433599948883057, -6.435100078582764, -6.441199779510498, -6.445799827575684, -6.58459997177124, -6.593699932098389, -6.597899913787842, -6.76609992980957, -6.76609992980957, -6.98799991607666, -6.591400146484375, -6.3454999923706055, -5.473899841308594, -4.97760009765625, -4.3231000900268555, -5.1722002029418945, -4.903800010681152, -5.047100067138672, -4.603400230407715, -4.364099979400635, -4.54449987411499, -5.131999969482422, -4.971199989318848, -4.47189998626709, -4.711100101470947, -5.212800025939941, -4.994699954986572, -4.692500114440918, -4.852799892425537, -4.657400131225586, -4.995200157165527, -5.122099876403809], \"loglift\": [30.0, 29.0, 28.0, 27.0, 26.0, 25.0, 24.0, 23.0, 22.0, 21.0, 20.0, 19.0, 18.0, 17.0, 16.0, 15.0, 14.0, 13.0, 12.0, 11.0, 10.0, 9.0, 8.0, 7.0, 6.0, 5.0, 4.0, 3.0, 2.0, 1.0, 2.4936, 2.4912, 2.4909, 2.4835, 2.4804, 2.4798, 2.4793, 2.4771, 2.4771, 2.477, 2.4752, 2.4742, 2.4716, 2.4716, 2.4712, 2.4712, 2.4693, 2.4693, 2.4684, 2.468, 2.4665, 2.4664, 2.4664, 2.4655, 2.4643, 2.4642, 2.4631, 2.4626, 2.4624, 2.4589, 2.4546, 2.4584, 2.3957, 2.3921, 2.3503, 2.3681, 2.0582, 2.2116, 2.2921, 2.3217, 2.1027, 1.8559, 2.1951, 2.2169, 1.8383, 1.799, 2.1428, 2.2199, 2.3129, 1.5894, 2.0718, 2.2014, 1.8002, 1.764, 1.6401, 1.7296, 1.9642, 1.6752, 1.6832, 1.8586, 0.9207, 1.6006, 1.7201, 1.1217, 1.3701, 1.7594, 1.2543, 0.9378, 0.857, 0.7813, 1.0552, 1.243, 1.2549, 0.8977, 1.1942, 1.0644, 0.9941, 0.7368, 0.7582, 0.8613, 1.1427, 2.6173, 2.6128, 2.6124, 2.6118, 2.6102, 2.6091, 2.6088, 2.6078, 2.6075, 2.6073, 2.6057, 2.6056, 2.6044, 2.6022, 2.6022, 2.6021, 2.6019, 2.6009, 2.5939, 2.5931, 2.5925, 2.585, 2.5847, 2.5839, 2.5829, 2.5826, 2.5809, 2.5796, 2.577, 2.5769, 2.5632, 2.4723, 2.5525, 2.5028, 2.4117, 2.4268, 2.4142, 2.5233, 2.3301, 2.4935, 2.2994, 2.3111, 2.1009, 2.4425, 2.2159, 2.2244, 2.1529, 2.0128, 2.0589, 2.3549, 1.7657, 1.8353, 1.9247, 1.9303, 1.9626, 1.8606, 1.5573, 1.5597, 1.6018, 1.7754, 1.2689, 1.8362, 1.3775, 1.7876, 1.5149, 1.1601, 1.6309, 1.2485, 1.2828, 0.6799, 0.8655, 0.4795, 0.2672, 2.7809, 2.772, 2.769, 2.7678, 2.7666, 2.7632, 2.7615, 2.7601, 2.7591, 2.7589, 2.7583, 2.7533, 2.7509, 2.7508, 2.7465, 2.7464, 2.7421, 2.7383, 2.7353, 2.7349, 2.7343, 2.7338, 2.7318, 2.7292, 2.7277, 2.7262, 2.7222, 2.7221, 2.7221, 2.7154, 2.7114, 2.6905, 2.7073, 2.6454, 2.6357, 2.603, 2.6076, 2.5208, 2.3289, 2.4512, 2.6302, 2.4036, 2.6235, 2.3311, 2.4595, 2.2943, 2.0451, 2.0765, 2.2933, 1.9246, 2.2895, 2.1546, 1.5106, 1.6109, 1.9535, 0.8725, 1.4963, 1.7996, 1.221, 0.6172, 1.0901, 1.139, 0.4724, 0.2121, 0.6322, 0.4434, 2.8271, 2.8228, 2.8214, 2.8198, 2.819, 2.8151, 2.8138, 2.809, 2.8076, 2.805, 2.8049, 2.8047, 2.8043, 2.8041, 2.8026, 2.7995, 2.798, 2.7972, 2.7966, 2.7948, 2.7912, 2.7903, 2.7893, 2.7876, 2.7866, 2.7857, 2.7854, 2.7851, 2.7842, 2.7838, 2.7527, 2.6549, 2.7449, 2.6708, 2.658, 2.5136, 2.7233, 2.5698, 2.6541, 2.4184, 2.4441, 2.5849, 2.3692, 2.3027, 2.1575, 1.9045, 2.3197, 2.21, 2.4929, 1.8075, 2.2809, 2.0802, 1.9455, 1.8972, 2.1704, 1.5745, 1.8592, 1.7532, 1.7029, 1.3835, 1.7721, 1.5568, 1.1829, 1.1953, 0.9438, 1.3084, 0.8352, -0.0936, 0.336, -0.0988, 0.4301, 2.9135, 2.9083, 2.9027, 2.9014, 2.896, 2.8954, 2.8936, 2.8909, 2.8909, 2.8905, 2.8904, 2.8904, 2.8898, 2.8881, 2.8851, 2.8849, 2.884, 2.8812, 2.8749, 2.874, 2.8736, 2.8729, 2.8698, 2.8696, 2.8684, 2.8683, 2.868, 2.8675, 2.8665, 2.8665, 2.863, 2.8654, 2.8314, 2.8564, 2.8605, 2.8572, 2.8324, 2.6203, 2.5622, 2.5581, 2.5667, 2.602, 2.2994, 2.5102, 2.3443, 2.7292, 2.138, 2.6153, 1.8669, 2.3135, 1.722, 1.8659, 1.4073, 2.3905, 1.6496, 2.4989, 1.5753, 1.4659, 2.1235, 1.5126, 1.0521, 1.6855, 1.848, 0.4837, 0.8021, 0.9346, 1.3757, 0.9251, 1.291, 0.3622, 0.9558, 0.402, 0.7807, 0.3642, -0.4016, 2.9957, 2.986, 2.983, 2.9814, 2.9765, 2.9749, 2.9737, 2.9731, 2.9731, 2.9693, 2.9679, 2.9646, 2.9646, 2.9638, 2.9636, 2.9603, 2.9594, 2.9582, 2.9556, 2.9497, 2.9481, 2.9479, 2.9467, 2.946, 2.9444, 2.9421, 2.9403, 2.9401, 2.9377, 2.9356, 2.9353, 2.9219, 2.9032, 2.8879, 2.8983, 2.8957, 2.835, 2.8689, 2.79, 2.8321, 2.7131, 2.8758, 2.7852, 2.8157, 2.8106, 2.8518, 2.7762, 2.648, 2.5757, 2.7411, 2.7918, 2.8378, 2.522, 2.7246, 2.397, 2.4937, 2.1264, 2.5876, 2.6546, 2.4247, 2.5724, 2.0404, 2.0184, 1.6772, 2.479, 1.6872, 1.7205, 1.7627, 1.2121, 1.9587, 0.5522, 0.9664, 0.9979, 1.3197, 1.351, 1.0565, 0.6475, 1.3492, 1.2672, 1.3039, 1.003, 1.088, 0.4468, 3.0329, 3.0302, 3.0274, 3.0169, 3.0155, 3.0136, 3.01, 3.0027, 3.0014, 2.9999, 2.9935, 2.9933, 2.9921, 2.9894, 2.9854, 2.9854, 2.9852, 2.9851, 2.9816, 2.9804, 2.9787, 2.9746, 2.9746, 2.9686, 2.9686, 2.9677, 2.965, 2.9641, 2.9629, 2.9581, 2.9261, 2.925, 2.9382, 2.8878, 2.8133, 2.881, 2.7789, 2.9017, 2.8115, 2.8523, 2.3778, 2.6644, 2.7683, 2.6851, 2.4322, 2.4301, 2.4272, 2.3413, 2.5549, 2.7724, 2.1228, 2.5805, 2.6314, 2.3576, 1.7457, 2.2062, 2.3651, 2.1442, 1.7233, 2.153, 1.5027, 1.5166, 2.4999, 1.6001, 2.354, 1.5366, 1.332, 1.5918, 1.1511, 1.7631, 1.2742, 0.2544, 0.9598, 1.4152, 1.1429, 0.3889, 1.1953, 1.372, 0.7839, 1.0983, 0.2904, 3.2372, 3.2362, 3.2325, 3.231, 3.2281, 3.2252, 3.2231, 3.2224, 3.2186, 3.2137, 3.2089, 3.2077, 3.2062, 3.2019, 3.1987, 3.1978, 3.1977, 3.1977, 3.1955, 3.1907, 3.1905, 3.1871, 3.1863, 3.1859, 3.1858, 3.1841, 3.1841, 3.1804, 3.1762, 3.1759, 3.164, 3.1586, 3.0408, 3.1071, 2.8618, 3.0071, 3.0774, 2.69, 2.7248, 2.8872, 2.5415, 2.6246, 2.882, 2.3468, 2.4059, 2.6106, 2.7494, 2.8068, 2.0326, 2.8112, 2.199, 2.822, 2.0162, 2.2062, 2.3222, 2.4392, 2.0468, 1.9729, 2.388, 2.1089, 1.5533, 1.7379, 1.4552, 1.4223, 1.5158, 1.3834, 0.7584, 2.0552, 1.2069, 0.7505, 0.4118, 1.1084, -0.3916, 3.2813, 3.2789, 3.276, 3.2754, 3.2711, 3.2695, 3.2669, 3.2565, 3.2557, 3.2496, 3.2477, 3.2471, 3.2459, 3.2441, 3.2408, 3.2408, 3.2387, 3.2374, 3.2357, 3.2348, 3.228, 3.2261, 3.2171, 3.2124, 3.212, 3.2119, 3.2019, 3.1977, 3.1942, 3.1899, 3.1726, 3.155, 3.126, 3.0783, 3.0592, 3.1529, 3.0807, 3.0888, 2.8553, 2.9126, 2.9262, 2.9836, 2.7796, 2.7145, 2.8276, 2.6241, 2.5866, 2.3526, 2.6447, 2.3287, 2.5457, 1.8492, 2.5533, 2.4934, 2.2833, 2.311, 2.0517, 2.1041, 1.3184, 1.4113, 2.3101, 1.146, 2.0113, 1.6456, 1.5981, 1.09, 1.216, 1.0283, 3.2846, 3.276, 3.2746, 3.2726, 3.2693, 3.2676, 3.2669, 3.265, 3.2582, 3.2563, 3.2559, 3.2559, 3.2528, 3.2504, 3.2473, 3.2463, 3.2458, 3.2443, 3.2432, 3.2376, 3.2351, 3.2331, 3.2307, 3.2307, 3.2305, 3.2294, 3.2277, 3.2273, 3.2257, 3.2241, 3.2035, 3.2032, 3.1893, 3.1154, 3.0361, 2.9835, 3.0784, 3.0678, 2.3617, 2.5951, 2.474, 2.7027, 2.5954, 2.3766, 2.2682, 2.7312, 2.1879, 2.1346, 1.8324, 1.88, 2.6365, 1.9661, 2.4459, 2.0204, 1.9755, 1.7872, 1.4696, 1.7002, 2.0726, 1.7022, 1.361, 1.3188, 1.5632, 1.9141, 1.182, 0.3705, 1.0278, 1.4694, 1.4781, 0.8775, 1.1812, 1.6974, 0.5996, 3.4353, 3.4321, 3.4319, 3.4288, 3.4273, 3.4271, 3.4234, 3.4234, 3.4216, 3.4204, 3.4169, 3.4127, 3.4072, 3.4039, 3.4021, 3.4009, 3.4007, 3.3966, 3.3926, 3.3907, 3.3899, 3.3894, 3.3888, 3.3882, 3.3859, 3.3819, 3.3813, 3.38, 3.3774, 3.3744, 3.3703, 3.3583, 3.372, 3.2771, 3.3717, 3.329, 3.2615, 3.2672, 3.0497, 3.0978, 3.1428, 2.7962, 3.2485, 3.2762, 2.952, 3.0125, 2.6643, 3.0969, 2.3244, 2.8741, 2.7249, 2.6278, 1.7641, 2.9025, 1.8499, 1.2336, 1.502, 1.1729, 1.6077, 1.0046, 0.8879, 1.8138, 1.2407, 0.9711, 1.4029, 1.089, 0.6474, 0.066, 0.4024, 0.4703, 1.0751, -0.1576, 0.7501, 3.5042, 3.4982, 3.4929, 3.4898, 3.4868, 3.4865, 3.4859, 3.4847, 3.4797, 3.4781, 3.4713, 3.47, 3.4693, 3.4682, 3.461, 3.4599, 3.4595, 3.4558, 3.4555, 3.4554, 3.4529, 3.447, 3.4468, 3.446, 3.444, 3.4412, 3.4389, 3.4371, 3.4367, 3.4365, 3.4313, 3.4, 3.4275, 3.294, 3.3358, 3.3373, 3.3303, 3.327, 3.2076, 3.0337, 2.4444, 3.0657, 3.1704, 2.5312, 2.5637, 2.8609, 2.8222, 2.3121, 1.9946, 2.0558, 2.1416, 2.5522, 1.6795, 1.6786, 1.379, 0.6806, 1.5482, 1.1653, 1.4228, 1.5939, 0.9165, 1.8681, 1.5884, 0.9407, 0.8051, 0.6021, 1.3971, -0.0699, 1.0199, 0.1387, 0.6846, 3.496, 3.4925, 3.492, 3.4874, 3.4867, 3.4813, 3.4802, 3.4722, 3.467, 3.4645, 3.4642, 3.4569, 3.4537, 3.4477, 3.4459, 3.4458, 3.4395, 3.4393, 3.4371, 3.4338, 3.4262, 3.424, 3.4222, 3.4218, 3.4179, 3.4176, 3.4085, 3.398, 3.3903, 3.3894, 3.3841, 3.386, 3.3872, 3.3188, 3.2205, 3.3836, 3.2951, 3.3594, 3.2932, 3.1362, 3.0513, 3.2359, 2.9966, 3.1758, 3.1991, 2.7189, 2.8871, 2.6838, 3.08, 3.0718, 2.8821, 2.5504, 1.9716, 2.4398, 2.3808, 2.4752, 1.9031, 2.3771, 2.604, 2.7441, 1.9928, 2.4966, 1.9647, 2.5814, 2.3123, 1.5943, 0.778, 2.3317, 1.7283, 0.6654, 1.0157, 1.1936, 1.2253, 3.6253, 3.6178, 3.6146, 3.613, 3.6053, 3.6016, 3.6008, 3.5997, 3.5993, 3.5987, 3.5939, 3.593, 3.5927, 3.5852, 3.5801, 3.5801, 3.5799, 3.5789, 3.5777, 3.5765, 3.5734, 3.5684, 3.5658, 3.5631, 3.5604, 3.5594, 3.5587, 3.557, 3.5555, 3.5537, 3.4365, 3.5095, 3.2566, 3.0374, 3.4839, 3.4713, 2.9768, 3.1549, 2.5956, 2.9329, 3.396, 3.328, 2.6035, 3.298, 2.8678, 2.5096, 2.6619, 3.0992, 2.0363, 2.1548, 1.9378, 2.6801, 2.6807, 2.6306, 2.4462, 1.5301, 1.4994, 1.0829, 1.9282, 2.5355, 1.4301, 1.7794, 0.8498, 1.3889, 1.6471, 0.0361, 1.6924, 1.0037, 1.0464, 0.594, 0.7267, 0.7525, 0.8048, 1.1568, -0.3833, 3.6474, 3.6369, 3.6331, 3.63, 3.6295, 3.6172, 3.6164, 3.6138, 3.6126, 3.6117, 3.6106, 3.6082, 3.6017, 3.5998, 3.5986, 3.5965, 3.5964, 3.5947, 3.5945, 3.5924, 3.5922, 3.5905, 3.5888, 3.5861, 3.5858, 3.5856, 3.5813, 3.5813, 3.5811, 3.5807, 3.5752, 3.4814, 3.4884, 3.5164, 3.4086, 3.4712, 3.5223, 3.4783, 3.3256, 3.0327, 3.0845, 2.886, 2.9532, 3.3736, 2.5834, 2.9398, 3.1354, 3.4335, 3.2926, 2.8465, 2.5043, 2.4877, 2.1884, 2.3369, 1.8983, 2.5963, 1.8789, 1.9193, 1.8631, 1.8, 0.9897, 2.2758, 0.749, 2.5395, 1.6598, 1.5264, 1.2818, 1.6155, 0.72, 0.983, -0.4072, 0.5369, 3.6623, 3.6608, 3.657, 3.6499, 3.6492, 3.6491, 3.6444, 3.6439, 3.6426, 3.6426, 3.6418, 3.6401, 3.6398, 3.6368, 3.6353, 3.6344, 3.6334, 3.6325, 3.6302, 3.6293, 3.629, 3.6289, 3.6269, 3.6257, 3.6236, 3.6221, 3.6217, 3.6195, 3.6185, 3.6182, 3.6178, 3.5887, 3.5829, 3.5376, 3.5295, 3.4546, 3.5442, 3.5181, 3.603, 3.4825, 3.2772, 3.5304, 3.2042, 2.982, 3.179, 3.3422, 2.9294, 2.651, 3.3079, 2.6281, 2.181, 2.427, 2.7145, 2.4881, 2.8517, 2.8514, 2.6279, 2.2358, 2.9213, 1.2383, 1.7399, 0.8739, 0.9181, 1.1883, 1.2631, 0.9839, 0.0806, 1.0717, 0.6723, 0.917, 1.3017, 3.7551, 3.7539, 3.7514, 3.7498, 3.7492, 3.7481, 3.7447, 3.7444, 3.7403, 3.7403, 3.7398, 3.7386, 3.7319, 3.7319, 3.7276, 3.7262, 3.7252, 3.724, 3.7239, 3.723, 3.7229, 3.722, 3.7216, 3.7203, 3.7174, 3.7172, 3.7161, 3.7156, 3.7153, 3.7145, 3.6623, 3.5218, 3.6414, 3.5628, 3.4863, 3.5339, 3.5443, 3.4045, 3.3117, 3.6405, 3.5169, 3.214, 3.2895, 3.5408, 3.4042, 3.4898, 2.9611, 2.1403, 2.4179, 3.2597, 3.0636, 3.1415, 2.1787, 2.9068, 2.7733, 1.843, 1.2883, 1.8865, 1.8592, 0.886, 2.6433, 1.8674, 1.9558, 0.6122, 1.1937, 1.4422, 1.0615, 3.7724, 3.7693, 3.7634, 3.7622, 3.7617, 3.7607, 3.7593, 3.7582, 3.7565, 3.7554, 3.7495, 3.7462, 3.7439, 3.7406, 3.7396, 3.7388, 3.7365, 3.7349, 3.7311, 3.7305, 3.7285, 3.7272, 3.7253, 3.7244, 3.7228, 3.722, 3.722, 3.7217, 3.7169, 3.7151, 3.6959, 3.6686, 3.5377, 3.6295, 3.5739, 3.5027, 3.4679, 3.4994, 3.595, 3.1397, 3.1368, 3.1334, 3.3327, 3.4471, 2.5906, 3.0975, 1.9446, 2.5972, 2.928, 2.3129, 2.353, 2.8784, 2.1702, 2.8982, 2.0911, 2.4632, 1.1953, 1.0866, 1.6961, 2.8396, 1.1123, 0.8165, 0.6885, 1.1914, 1.1651, 0.4328, 3.7973, 3.7967, 3.7925, 3.7799, 3.7779, 3.7763, 3.776, 3.7712, 3.7677, 3.7671, 3.7653, 3.7645, 3.7608, 3.7608, 3.7579, 3.7447, 3.7385, 3.7379, 3.7373, 3.737, 3.7289, 3.7248, 3.7217, 3.7143, 3.7141, 3.7097, 3.7094, 3.7092, 3.7091, 3.6991, 3.6904, 3.6531, 3.6011, 3.6425, 3.4663, 3.4951, 3.396, 3.3409, 3.4811, 3.1672, 3.5352, 2.8583, 2.9066, 3.1783, 2.4525, 2.3934, 2.2931, 2.5697, 2.7879, 3.2011, 1.6304, 2.0268, 1.5153, 0.6665, 1.3318, 1.2082, 2.5438, 1.4357, 1.1135, 1.5474, 1.6524, 1.4006, 0.5635, 0.8138, 3.8072, 3.8021, 3.7983, 3.7976, 3.7974, 3.7969, 3.7957, 3.7949, 3.7931, 3.7877, 3.7834, 3.77, 3.7686, 3.7623, 3.7614, 3.7549, 3.7522, 3.7488, 3.7473, 3.7423, 3.7408, 3.7386, 3.736, 3.7342, 3.7278, 3.7276, 3.7273, 3.7262, 3.7236, 3.7235, 3.6833, 3.6969, 3.6454, 3.711, 3.5256, 3.6449, 3.4332, 3.3551, 3.618, 2.8931, 3.5847, 3.3759, 2.7396, 3.2966, 3.161, 2.3997, 2.4247, 2.7702, 2.5465, 2.314, 2.1002, 2.376, 2.2734, 2.5789, 1.9961, 1.4386, 2.3349, 1.3238, 1.181, 0.5058, 2.0574, 2.403, 0.7979, 1.5256, 0.9936, 1.4492, 2.0656, 1.2565, 1.0604, -0.1735, 1.1774, 0.1912, 3.9044, 3.9018, 3.8973, 3.8971, 3.8966, 3.8919, 3.8833, 3.8757, 3.8742, 3.8729, 3.8598, 3.8509, 3.8363, 3.8361, 3.836, 3.8358, 3.8358, 3.8338, 3.8321, 3.8294, 3.8269, 3.8268, 3.8268, 3.8245, 3.8245, 3.8244, 3.8243, 3.8218, 3.8157, 3.8157, 3.8124, 3.7213, 3.7456, 3.6026, 3.7205, 3.5998, 3.728, 3.5913, 3.6898, 3.5798, 3.2272, 3.2415, 3.568, 3.4994, 3.5638, 3.6108, 2.8808, 3.3374, 2.9744, 2.0437, 2.3782, 2.2291, 2.4243, 2.7617, 1.7784, 1.8604, 1.8738, 2.1289, 2.0492, 2.0693, 1.3636, 1.339, 1.8399, 1.6158, 1.191, 1.7946, 3.9566, 3.9463, 3.9429, 3.9411, 3.9404, 3.9392, 3.9337, 3.9228, 3.9205, 3.9182, 3.9157, 3.9119, 3.91, 3.9074, 3.9072, 3.9049, 3.9047, 3.9035, 3.9003, 3.8986, 3.8973, 3.8956, 3.8954, 3.8951, 3.8937, 3.8932, 3.8912, 3.8889, 3.8842, 3.8817, 3.8782, 3.8628, 3.8669, 3.8126, 3.8145, 3.6173, 3.8015, 3.8734, 3.4219, 3.8266, 3.6974, 3.2776, 3.3864, 3.2732, 3.5635, 3.4628, 3.7451, 3.2412, 3.0867, 3.2704, 2.7585, 2.8479, 3.3607, 3.3125, 2.4934, 2.7294, 3.1287, 3.1465, 2.3151, 2.0309, 2.8077, 2.6429, 0.7779, 2.1694, 2.2529, 1.6847, 1.1965, 1.8606, 1.9549, 3.9427, 3.9371, 3.9365, 3.9356, 3.9355, 3.9351, 3.9332, 3.9273, 3.9181, 3.9141, 3.9021, 3.8881, 3.8881, 3.8827, 3.8789, 3.8781, 3.8778, 3.8778, 3.8778, 3.8778, 3.8775, 3.8702, 3.8697, 3.8657, 3.8641, 3.8611, 3.8487, 3.8477, 3.8444, 3.8315, 3.822, 3.8071, 3.6957, 3.7857, 3.7135, 3.6454, 3.7446, 3.7416, 3.5866, 3.6637, 3.6013, 3.5022, 3.7754, 3.6385, 3.7159, 3.4315, 3.0168, 2.9222, 3.4068, 2.967, 2.6628, 2.882, 2.5407, 3.1951, 3.1961, 3.1522, 2.4257, 2.5586, 2.8295, 1.8258, 3.1837, 0.8997, 2.3464, 3.16, 1.3453, 0.865, 0.4513, 1.1438, 1.7791, 0.5645, 1.0317, 0.7279, 0.979, -0.3823, 0.2947, 4.0251, 4.0202, 4.0157, 4.0096, 4.0064, 3.9969, 3.9932, 3.9911, 3.9867, 3.9834, 3.9771, 3.9751, 3.9751, 3.9749, 3.9739, 3.9738, 3.9718, 3.9677, 3.9657, 3.9616, 3.9608, 3.9591, 3.9581, 3.9562, 3.956, 3.955, 3.9518, 3.9501, 3.9501, 3.9466, 3.9447, 3.9462, 3.8197, 3.6582, 3.771, 3.8334, 3.3841, 3.5588, 3.249, 2.9501, 3.7373, 3.0971, 3.4645, 2.9971, 2.8958, 2.5809, 2.8505, 3.5778, 2.8279, 3.1851, 2.3848, 2.5503, 2.3383, 2.1161, 2.5586, 2.0225, 2.8762, 1.4303, 0.6131, 1.9187, 2.2151, 1.5567, 1.4669, 1.9674, 0.9255, 0.7852, 4.13, 4.1248, 4.1233, 4.1211, 4.1199, 4.1193, 4.119, 4.1167, 4.1165, 4.1162, 4.1155, 4.1122, 4.1114, 4.1108, 4.1105, 4.1103, 4.1097, 4.1097, 4.1097, 4.109, 4.1075, 4.101, 4.1002, 4.0998, 4.0982, 4.0948, 4.0929, 4.0919, 4.0885, 4.0848, 4.0742, 4.0176, 4.0046, 4.0321, 4.013, 3.7267, 3.7793, 3.6242, 3.2857, 3.4742, 2.5372, 2.8285, 2.4634, 2.3905, 2.909, 3.1622, 3.1323, 2.1624, 2.2828, 1.6315, 2.8566, 2.1343, 1.8314, 0.868, 2.6719, 1.5484, 1.8253, 0.1929, 1.4361, 2.1958, 4.1624, 4.1622, 4.16, 4.1598, 4.1589, 4.1492, 4.1443, 4.1339, 4.133, 4.127, 4.1202, 4.1176, 4.1159, 4.1133, 4.1066, 4.1055, 4.1041, 4.1012, 4.1006, 4.0991, 4.0991, 4.0965, 4.0938, 4.0882, 4.0792, 4.077, 4.0741, 4.074, 4.0701, 4.0697, 4.0206, 3.9566, 4.0369, 3.9664, 3.9677, 4.0183, 3.8529, 3.9185, 3.2544, 3.8041, 3.7709, 2.754, 3.0613, 3.2777, 3.6072, 1.7385, 2.908, 2.9282, 1.7731, 1.3212, 1.2604, 1.1675, 0.9318, 2.0605, 2.674, 1.8264, 1.0558, 1.1695, 0.1906, 1.5645, 1.0, 1.114, 0.3707, 4.2066, 4.2045, 4.2003, 4.1939, 4.1912, 4.1895, 4.1888, 4.1875, 4.1843, 4.1838, 4.1835, 4.183, 4.1794, 4.1759, 4.1752, 4.1729, 4.1709, 4.1637, 4.1581, 4.1564, 4.1564, 4.1539, 4.1536, 4.1535, 4.1431, 4.1392, 4.1347, 4.1337, 4.132, 4.1299, 4.1115, 4.0754, 3.8915, 4.0477, 3.9821, 4.0201, 4.0349, 3.607, 3.6967, 3.3099, 3.4601, 3.7925, 3.8134, 2.8882, 3.263, 3.9071, 2.9502, 2.689, 2.8215, 3.6265, 2.4071, 2.9628, 2.5437, 1.9322, 2.1029, 1.3733, 1.3828, 2.1959, 2.3846, 0.9424, 0.3041, 1.9985, 1.5399, 0.9045, 0.4423, 0.2942, 4.2383, 4.2299, 4.2273, 4.2259, 4.2249, 4.223, 4.2215, 4.2182, 4.2152, 4.2148, 4.2135, 4.2132, 4.212, 4.2119, 4.211, 4.2084, 4.2064, 4.2063, 4.2058, 4.2032, 4.2029, 4.2022, 4.2022, 4.2013, 4.1972, 4.197, 4.1943, 4.1928, 4.1912, 4.1905, 4.1706, 4.1245, 4.1354, 3.8727, 4.0834, 3.9967, 4.0423, 3.9656, 3.7487, 4.0029, 4.0786, 3.4884, 3.8368, 3.824, 3.7452, 3.0055, 2.5506, 3.514, 3.0665, 2.8454, 2.9132, 2.6981, 3.2004, 2.9537, 1.5525, 2.3377, 3.0865, 2.7879, 2.0418, 2.7919, 4.3723, 4.3709, 4.3676, 4.3666, 4.364, 4.3624, 4.3574, 4.3558, 4.353, 4.3488, 4.3437, 4.3436, 4.3397, 4.3371, 4.3364, 4.334, 4.3305, 4.3304, 4.3292, 4.3282, 4.3269, 4.325, 4.321, 4.3202, 4.3191, 4.3181, 4.3175, 4.314, 4.3077, 4.3072, 4.3066, 4.2768, 4.1096, 4.2238, 3.8712, 4.2803, 4.033, 3.941, 3.9981, 2.9261, 2.6623, 3.4988, 3.6897, 3.7462, 2.4139, 1.5185, 2.8798, 2.4152, 1.7626, 3.305, 1.7118, 1.3766, 1.0354, 1.3901, 2.3758, -0.0336, 1.3669, 4.4411, 4.4404, 4.4392, 4.4334, 4.4247, 4.422, 4.4204, 4.4065, 4.3949, 4.3948, 4.3929, 4.3927, 4.3884, 4.3874, 4.3832, 4.3827, 4.3781, 4.3764, 4.3711, 4.3698, 4.3651, 4.3579, 4.3573, 4.3471, 4.3395, 4.3376, 4.3359, 4.3357, 4.3333, 4.3311, 4.3068, 4.2916, 4.3224, 4.2467, 4.3098, 4.1105, 4.2008, 3.9904, 3.9097, 4.0615, 3.7622, 4.0734, 3.7218, 3.691, 3.6727, 3.4518, 3.5542, 3.6969, 3.8796, 2.5018, 3.4056, 3.5183, 2.5562, 2.5927, 1.9275, 1.8784, 2.3862, 1.3972, 1.982, 3.1375, 2.2815, 4.7479, 4.7443, 4.7213, 4.7087, 4.6894, 4.6868, 4.6812, 4.664, 4.661, 4.654, 4.6493, 4.6435, 4.6334, 4.6332, 4.6195, 4.6186, 4.601, 4.6002, 4.5911, 4.5902, 4.5901, 4.579, 4.5775, 4.5758, 4.5685, 4.5478, 4.5478, 4.5477, 4.5468, 4.5465, 4.4587, 4.4772, 4.4157, 4.4095, 4.4418, 4.1346, 4.2168, 3.6361, 3.9793, 4.3373, 3.4092, 3.6501, 3.6203, 4.2206, 3.0971, 4.1965, 3.5823, 3.2303, 3.8124, 2.3423, 3.7117, 2.9445, 1.962, 2.3746, 2.4346, 1.9052, 2.6688, 2.3528, 1.4854, 2.2015, 1.199, 0.9209, 1.4272, 1.5616, 1.6751, 1.4446, 1.3695, 4.7868, 4.7863, 4.7863, 4.7862, 4.7847, 4.7841, 4.7794, 4.7678, 4.7672, 4.7646, 4.7617, 4.7524, 4.748, 4.7478, 4.7454, 4.7447, 4.7433, 4.7377, 4.7329, 4.727, 4.7248, 4.7248, 4.7157, 4.7148, 4.7053, 4.6997, 4.6912, 4.6912, 4.6912, 4.6807, 4.6767, 4.6625, 4.5864, 4.6078, 4.6394, 4.2965, 4.1873, 4.2474, 4.3932, 3.9995, 4.1007, 3.9001, 3.8672, 2.8733, 2.2859, 3.354, 2.8332, 2.0548, 2.1921, 1.0623, 1.9666, 1.352, 3.5761, 1.0455, 4.9595, 4.9575, 4.9306, 4.9199, 4.903, 4.8901, 4.8899, 4.8866, 4.8787, 4.877, 4.876, 4.8712, 4.8647, 4.8571, 4.8486, 4.8392, 4.8172, 4.817, 4.8037, 4.7849, 4.7848, 4.7848, 4.7829, 4.7674, 4.7639, 4.7618, 4.7589, 4.7509, 4.7358, 4.7351, 4.6233, 4.5513, 4.4917, 4.6233, 4.5032, 4.0138, 3.7998, 4.079, 4.6366, 3.4621, 3.4516, 3.1958, 3.6282, 2.8395, 2.9969, 3.6264, 2.7629, 2.2647, 2.5071, 2.0827, 2.8857, 2.4191, 1.6242, 2.1378, 2.1065, 1.9239, 2.3618, 1.6021, 1.8022, 1.0685, 0.3436, 0.8608, 4.9711, 4.9699, 4.9681, 4.9681, 4.9602, 4.9581, 4.9548, 4.9531, 4.9529, 4.9528, 4.9522, 4.9481, 4.9457, 4.9426, 4.94, 4.9397, 4.9326, 4.9213, 4.9201, 4.9195, 4.9194, 4.908, 4.8979, 4.8884, 4.8862, 4.8799, 4.8787, 4.8786, 4.8782, 4.8765, 4.7452, 4.5144, 4.7789, 4.2333, 4.2425, 4.1781, 4.5127, 4.3461, 4.2324, 3.9898, 3.6538, 2.8467, 2.9308, 2.7926, 2.5918, 4.2877, 3.5798, 1.8014, 1.3261, 1.2156, 1.5814, 0.0652, 1.6226, 2.8629, 1.523, 1.7985, 5.0285, 5.0253, 5.0193, 5.0122, 4.9988, 4.9932, 4.9906, 4.9887, 4.9859, 4.9842, 4.9824, 4.9709, 4.9708, 4.9679, 4.966, 4.9634, 4.9614, 4.9614, 4.9575, 4.9374, 4.9356, 4.9346, 4.9163, 4.9133, 4.9067, 4.9065, 4.9065, 4.9065, 4.9063, 4.9047, 4.8666, 4.8141, 4.8919, 4.8051, 4.7174, 4.6939, 4.5349, 4.4534, 3.8012, 4.006, 3.9144, 3.9871, 3.9114, 3.663, 3.4162, 3.2955, 3.8151, 3.5661, 3.9698, 2.6554, 1.728, 1.8002, 2.7644, 3.2961, 1.2839, 5.5196, 5.5195, 5.5193, 5.5191, 5.5162, 5.5133, 5.4951, 5.489, 5.4784, 5.4766, 5.4632, 5.4496, 5.4435, 5.4362, 5.4233, 5.4219, 5.4165, 5.4136, 5.4126, 5.3996, 5.3632, 5.3629, 5.362, 5.3612, 5.3374, 5.3357, 5.335, 5.3019, 5.3019, 5.251, 5.2489, 5.225, 5.1315, 4.9149, 4.662, 4.7022, 4.4048, 4.3835, 4.0218, 3.7559, 3.7999, 4.2049, 3.6286, 2.781, 3.1355, 3.9793, 3.5021, 2.6568, 2.9169, 1.857, 1.8744, 1.4189]}, \"token.table\": {\"Topic\": [7, 29, 5, 15, 1, 12, 18, 2, 33, 23, 4, 31, 33, 2, 36, 1, 2, 3, 4, 5, 6, 9, 11, 12, 14, 17, 18, 20, 21, 27, 9, 9, 1, 2, 3, 4, 6, 7, 8, 9, 10, 11, 12, 13, 15, 20, 21, 23, 24, 25, 26, 27, 5, 6, 9, 10, 14, 16, 17, 18, 19, 20, 22, 27, 30, 32, 1, 11, 15, 22, 24, 1, 3, 6, 8, 9, 11, 12, 14, 15, 17, 18, 19, 20, 21, 22, 23, 25, 26, 27, 28, 30, 32, 33, 34, 25, 16, 20, 1, 2, 3, 4, 5, 7, 8, 9, 10, 11, 12, 13, 16, 19, 23, 24, 25, 27, 32, 33, 14, 1, 1, 3, 5, 7, 8, 9, 10, 11, 13, 18, 22, 28, 31, 21, 1, 2, 8, 11, 13, 17, 18, 19, 21, 23, 26, 28, 30, 31, 32, 1, 2, 3, 4, 5, 6, 7, 8, 9, 10, 11, 12, 14, 15, 16, 17, 18, 20, 23, 25, 26, 31, 33, 36, 14, 32, 32, 36, 8, 12, 13, 15, 18, 1, 3, 7, 8, 9, 10, 14, 22, 23, 25, 1, 3, 4, 5, 9, 10, 12, 14, 15, 18, 19, 20, 27, 30, 31, 1, 2, 4, 6, 14, 9, 7, 10, 17, 24, 7, 16, 25, 17, 31, 2, 4, 7, 14, 15, 17, 23, 9, 16, 18, 19, 31, 5, 1, 3, 6, 8, 10, 13, 14, 16, 22, 31, 1, 2, 3, 4, 8, 11, 12, 14, 21, 23, 26, 36, 1, 2, 3, 11, 23, 12, 5, 8, 13, 14, 15, 16, 20, 22, 31, 32, 1, 5, 15, 24, 10, 5, 8, 11, 12, 17, 19, 20, 23, 25, 27, 15, 27, 5, 15, 23, 27, 23, 26, 8, 27, 26, 5, 21, 21, 26, 23, 15, 6, 3, 5, 26, 28, 4, 3, 23, 2, 28, 4, 11, 14, 16, 21, 34, 6, 8, 22, 1, 22, 1, 2, 3, 4, 5, 6, 7, 8, 9, 10, 11, 12, 13, 14, 15, 16, 17, 19, 21, 22, 23, 24, 25, 26, 27, 29, 31, 36, 1, 33, 7, 10, 19, 27, 28, 34, 36, 1, 2, 3, 4, 5, 6, 7, 9, 10, 11, 12, 13, 14, 15, 16, 18, 19, 20, 21, 23, 24, 27, 31, 30, 32, 7, 18, 2, 10, 1, 2, 4, 6, 9, 17, 9, 29, 7, 28, 7, 18, 20, 12, 21, 31, 6, 4, 6, 36, 3, 4, 5, 14, 20, 23, 31, 24, 1, 2, 4, 5, 6, 10, 15, 18, 20, 23, 26, 33, 34, 1, 3, 5, 6, 8, 9, 10, 11, 12, 13, 14, 17, 20, 21, 22, 24, 27, 1, 2, 3, 8, 10, 11, 15, 17, 24, 29, 32, 34, 35, 1, 3, 4, 5, 8, 11, 12, 14, 15, 16, 19, 29, 31, 33, 1, 4, 5, 7, 11, 23, 24, 30, 6, 13, 1, 2, 3, 4, 5, 6, 7, 8, 9, 10, 11, 12, 13, 14, 15, 18, 19, 20, 21, 24, 25, 26, 27, 29, 36, 13, 23, 33, 34, 28, 18, 8, 10, 11, 13, 14, 18, 22, 28, 30, 31, 13, 26, 2, 18, 30, 14, 16, 18, 30, 31, 17, 12, 13, 36, 20, 25, 25, 7, 17, 24, 32, 4, 5, 7, 23, 7, 8, 3, 23, 6, 5, 7, 11, 24, 3, 10, 14, 15, 19, 34, 4, 8, 2, 3, 8, 9, 12, 13, 16, 17, 18, 20, 21, 25, 29, 32, 13, 13, 1, 4, 5, 10, 11, 21, 11, 1, 2, 10, 13, 15, 17, 5, 7, 10, 11, 14, 17, 21, 24, 34, 1, 2, 3, 4, 5, 6, 7, 9, 10, 11, 12, 13, 14, 16, 18, 19, 20, 21, 23, 24, 25, 26, 27, 31, 32, 35, 34, 25, 2, 15, 25, 2, 4, 5, 6, 7, 8, 10, 14, 15, 17, 20, 21, 24, 31, 19, 27, 1, 2, 3, 4, 5, 6, 7, 8, 11, 12, 13, 14, 15, 16, 17, 20, 21, 22, 23, 24, 26, 27, 29, 30, 31, 33, 35, 36, 20, 18, 11, 25, 28, 1, 11, 12, 13, 15, 18, 20, 34, 35, 35, 35, 8, 5, 6, 20, 24, 25, 28, 16, 25, 16, 20, 31, 1, 2, 4, 5, 6, 7, 9, 10, 11, 12, 14, 15, 16, 17, 18, 19, 20, 21, 22, 24, 25, 26, 27, 29, 30, 31, 15, 1, 2, 4, 6, 9, 11, 21, 29, 30, 32, 19, 7, 5, 9, 10, 11, 13, 14, 19, 20, 22, 28, 30, 31, 18, 3, 12, 15, 18, 20, 22, 28, 30, 31, 5, 11, 20, 27, 29, 34, 1, 10, 20, 27, 20, 28, 36, 25, 3, 6, 13, 14, 15, 16, 18, 20, 22, 25, 28, 12, 29, 3, 6, 11, 16, 17, 23, 30, 3, 4, 6, 13, 15, 20, 26, 27, 31, 3, 4, 22, 23, 28, 30, 26, 28, 6, 17, 30, 29, 20, 36, 12, 19, 29, 34, 1, 2, 3, 4, 8, 13, 15, 16, 18, 19, 20, 21, 24, 29, 1, 2, 3, 4, 6, 7, 11, 14, 15, 19, 20, 22, 24, 32, 1, 2, 3, 4, 5, 6, 7, 8, 9, 10, 11, 12, 13, 14, 15, 16, 17, 18, 19, 20, 21, 22, 23, 26, 27, 28, 30, 31, 32, 14, 27, 32, 24, 24, 3, 4, 17, 16, 27, 8, 20, 3, 6, 9, 10, 13, 17, 22, 35, 1, 2, 3, 4, 6, 7, 8, 9, 10, 11, 13, 14, 15, 17, 18, 20, 21, 22, 25, 26, 30, 32, 5, 8, 18, 22, 25, 28, 29, 30, 34, 17, 2, 1, 7, 8, 11, 15, 16, 18, 21, 24, 28, 20, 10, 11, 5, 29, 27, 1, 2, 3, 4, 5, 6, 10, 11, 12, 13, 16, 18, 20, 22, 23, 25, 26, 27, 8, 1, 20, 34, 4, 31, 6, 22, 9, 4, 5, 6, 7, 8, 9, 12, 15, 18, 20, 22, 23, 26, 28, 30, 32, 22, 30, 26, 5, 7, 11, 1, 2, 3, 4, 5, 6, 7, 9, 11, 14, 15, 17, 18, 19, 20, 21, 22, 26, 31, 18, 29, 29, 6, 18, 2, 16, 15, 27, 2, 9, 14, 29, 33, 14, 1, 7, 12, 25, 26, 32, 26, 1, 10, 23, 4, 29, 29, 31, 11, 18, 22, 26, 6, 18, 31, 3, 6, 12, 22, 28, 29, 1, 3, 5, 9, 10, 14, 18, 20, 28, 6, 14, 5, 8, 26, 3, 5, 6, 7, 8, 9, 11, 12, 14, 15, 19, 20, 21, 22, 26, 27, 29, 35, 36, 28, 31, 2, 3, 4, 5, 6, 7, 8, 9, 10, 11, 13, 14, 15, 19, 20, 21, 22, 23, 25, 26, 27, 29, 17, 3, 25, 6, 22, 28, 3, 1, 2, 4, 8, 10, 11, 19, 24, 25, 1, 2, 3, 5, 6, 8, 9, 11, 12, 13, 14, 15, 18, 19, 20, 22, 26, 30, 31, 32, 34, 35, 1, 3, 7, 8, 21, 23, 26, 18, 17, 24, 32, 5, 6, 8, 20, 22, 25, 36, 14, 20, 25, 28, 35, 32, 5, 11, 3, 13, 15, 21, 23, 21, 4, 6, 8, 1, 6, 8, 9, 10, 14, 18, 6, 12, 13, 33, 21, 22, 28, 24, 11, 30, 5, 12, 22, 34, 24, 1, 5, 7, 8, 9, 11, 13, 14, 15, 21, 27, 29, 18, 4, 10, 11, 15, 17, 18, 35, 1, 3, 5, 6, 10, 15, 21, 22, 26, 4, 12, 1, 2, 3, 5, 6, 7, 9, 11, 12, 13, 14, 16, 17, 18, 20, 22, 23, 26, 30, 31, 35, 36, 2, 3, 4, 5, 6, 7, 8, 9, 10, 12, 13, 14, 15, 16, 17, 21, 23, 35, 23, 25, 18, 26, 3, 7, 11, 22, 23, 27, 1, 3, 4, 5, 7, 10, 11, 14, 15, 19, 20, 21, 23, 29, 33, 2, 6, 9, 11, 14, 17, 18, 19, 20, 22, 23, 28, 29, 30, 32, 34, 19, 1, 5, 7, 8, 30, 1, 16, 27, 22, 27, 28, 9, 4, 5, 6, 9, 14, 16, 17, 18, 19, 20, 22, 24, 28, 29, 34, 7, 8, 12, 25, 12, 15, 20, 21, 33, 2, 6, 8, 9, 12, 13, 21, 25, 26, 15, 1, 1, 2, 4, 5, 6, 7, 8, 9, 10, 11, 13, 15, 16, 19, 20, 21, 23, 24, 25, 32, 35, 17, 2, 11, 32, 11, 22, 36, 25, 27, 1, 20, 22, 1, 2, 3, 4, 7, 8, 9, 10, 12, 13, 14, 15, 20, 21, 22, 24, 1, 2, 3, 4, 5, 6, 8, 9, 11, 13, 14, 15, 16, 18, 19, 20, 21, 22, 23, 24, 25, 30, 31, 6, 4, 8, 13, 14, 15, 18, 26, 31, 19, 26, 9, 1, 2, 3, 4, 5, 6, 7, 8, 10, 11, 12, 13, 14, 15, 16, 18, 19, 21, 23, 24, 31, 9, 2, 1, 8, 13, 18, 31, 13, 6, 8, 13, 15, 18, 26, 30, 31, 33, 17, 28, 1, 3, 20, 28, 29, 1, 2, 3, 4, 5, 6, 8, 9, 11, 12, 15, 17, 18, 19, 23, 25, 26, 27, 30, 31, 8, 8, 18, 22, 3, 6, 7, 8, 14, 30, 2, 8, 25, 11, 35, 5, 24, 25, 4, 29, 4, 5, 5, 7, 15, 2, 26, 32, 2, 4, 5, 7, 8, 10, 16, 18, 20, 21, 23, 25, 27, 29, 32, 6, 11, 14, 18, 22, 28, 5, 9, 11, 16, 17, 20, 21, 23, 30, 31, 11, 17, 21, 30, 1, 2, 3, 5, 6, 7, 8, 9, 10, 11, 12, 14, 15, 16, 17, 18, 19, 20, 22, 23, 24, 26, 27, 29, 30, 6, 18, 31, 1, 3, 11, 15, 16, 2, 5, 22, 1, 2, 3, 4, 5, 6, 7, 8, 9, 10, 11, 12, 13, 14, 15, 16, 17, 18, 19, 21, 23, 25, 27, 33, 35, 4, 8, 12, 14, 22, 30, 2, 10, 14, 15, 6, 7, 8, 15, 18, 22, 25, 32, 35, 11, 7, 26, 10, 19, 21, 22, 28, 30, 17, 33, 35, 6, 20, 22, 25, 26, 28, 36, 12, 10, 1, 2, 3, 4, 5, 6, 9, 11, 12, 13, 14, 18, 19, 20, 21, 22, 23, 26, 27, 28, 30, 4, 10, 13, 5, 7, 8, 10, 14, 16, 18, 19, 22, 28, 30, 1, 2, 3, 4, 5, 6, 7, 8, 9, 10, 11, 12, 14, 15, 16, 18, 19, 21, 22, 23, 24, 25, 26, 27, 29, 31, 32, 33, 35, 36, 1, 3, 4, 5, 6, 7, 8, 9, 10, 11, 12, 13, 14, 15, 16, 18, 19, 20, 21, 22, 23, 24, 27, 30, 32, 36, 4, 10, 11, 23, 25, 26, 1, 2, 3, 4, 5, 7, 10, 11, 14, 15, 19, 20, 21, 23, 24, 27, 15, 1, 2, 3, 4, 5, 6, 7, 8, 9, 10, 12, 13, 17, 24, 36, 21, 1, 2, 3, 4, 5, 6, 7, 8, 10, 12, 13, 14, 15, 16, 20, 21, 24, 25, 26, 31, 34, 36, 25, 1, 5, 14, 15, 18, 23, 28, 33, 1, 2, 3, 4, 5, 7, 10, 11, 12, 13, 14, 15, 19, 20, 21, 22, 23, 24, 26, 27, 1, 2, 9, 19, 23, 1, 2, 7, 10, 17, 24, 6, 17, 17, 29, 34, 25, 1, 4, 10, 13, 15, 24, 27, 13, 19, 27, 1, 2, 3, 5, 6, 7, 8, 9, 10, 11, 12, 14, 15, 16, 17, 18, 19, 20, 22, 23, 24, 25, 27, 28, 30, 31, 28, 34, 1, 2, 3, 4, 5, 8, 9, 10, 12, 14, 15, 17, 20, 21, 24, 25, 26, 27, 32, 3, 25, 32, 1, 3, 5, 9, 20, 23, 26, 30, 21, 19, 7, 15, 18, 19, 21, 24, 25, 26, 27, 1, 2, 3, 4, 7, 9, 10, 12, 15, 16, 18, 21, 23, 24, 33, 17, 13, 1, 2, 3, 4, 5, 6, 7, 8, 9, 10, 12, 13, 14, 16, 18, 19, 20, 22, 24, 26, 27, 28, 30, 31, 36, 25, 1, 2, 3, 4, 5, 6, 8, 9, 10, 12, 13, 14, 15, 16, 17, 20, 21, 22, 23, 24, 25, 26, 27, 28, 29, 30, 31, 32, 1, 3, 5, 7, 10, 12, 15, 17, 21, 25, 3, 7, 8, 15, 19, 21, 25, 15, 1, 2, 3, 4, 5, 7, 9, 10, 12, 13, 14, 16, 17, 21, 24, 29, 34, 2, 3, 7, 8, 9, 19, 24, 26, 17, 17, 27, 1, 2, 3, 5, 6, 7, 8, 9, 10, 12, 14, 16, 17, 18, 19, 20, 21, 23, 24, 25, 26, 27, 30, 33, 9, 28, 11, 32, 35, 1, 2, 3, 5, 6, 8, 12, 13, 14, 15, 17, 21, 23, 34, 2, 1, 2, 3, 4, 5, 7, 8, 10, 11, 12, 15, 19, 21, 24, 26, 30, 4, 8, 15, 33, 34, 6, 23, 24, 4, 6, 7, 8, 11, 12, 13, 15, 16, 21, 22, 5, 12, 22, 1, 5, 11, 15, 21, 5, 4, 15, 12, 24, 10, 6, 8, 9, 14, 18, 30, 35, 10, 5, 23, 25, 1, 2, 4, 5, 6, 7, 8, 10, 12, 13, 14, 15, 18, 19, 20, 22, 25, 31, 33, 5, 7, 10, 13, 14, 18, 24, 26, 28, 36, 20, 29, 18, 25, 30, 12, 16, 22, 28, 31, 4, 1, 17, 22, 30, 35, 6, 8, 17, 20, 26, 30, 32, 14, 1, 2, 3, 4, 5, 6, 7, 8, 9, 10, 12, 13, 14, 15, 17, 20, 21, 22, 25, 27, 33, 13, 9, 18, 32, 30, 35, 11, 32, 15, 24, 1, 2, 4, 6, 7, 8, 9, 10, 11, 12, 14, 15, 21, 24, 25, 34, 12, 13, 12, 23, 25, 5, 7, 11, 27, 3, 20, 3, 20, 17, 30, 3, 6, 7, 14, 19, 22, 33, 10, 21, 26, 1, 9, 2, 4, 5, 6, 7, 8, 9, 10, 11, 12, 14, 15, 16, 19, 20, 21, 23, 24, 26, 2, 4, 5, 6, 7, 8, 9, 10, 11, 18, 19, 20, 21, 22, 23, 24, 26, 27, 28, 29, 30, 32, 12, 1, 19, 12, 16, 28, 12, 12, 27, 7, 2, 3, 7, 10, 12, 15, 19, 24, 28, 30, 2, 10, 15, 26, 32, 35, 5, 27, 9, 2, 15, 19, 20, 1, 10, 6, 28, 3, 23, 1, 2, 3, 4, 5, 6, 7, 9, 10, 12, 14, 17, 18, 20, 21, 22, 23, 24, 25, 26, 28, 29, 36, 17, 25, 2, 5, 23, 24, 7, 11, 16, 10, 25, 26, 7, 18, 17, 6, 18, 11, 13, 28, 1, 2, 4, 6, 10, 14, 36, 3, 6, 22, 28, 6, 11, 20, 4, 1, 3, 5, 6, 9, 10, 12, 14, 15, 17, 18, 19, 20, 24, 25, 29, 31, 33, 34, 11, 23, 6, 7, 8, 9, 12, 13, 14, 18, 20, 23, 28, 31, 15, 1, 25, 34, 2, 2, 17, 27, 1, 3, 15, 1, 4, 5, 6, 12, 19, 20, 23, 1, 2, 4, 10, 12, 15, 17, 19, 21, 24, 35, 2, 7, 17, 27, 34, 36, 36, 23, 2, 35, 9, 13, 1, 2, 16, 2, 7, 12, 21, 23, 24, 13, 18, 19, 20, 30, 13, 14, 22, 32, 4, 5, 11, 12, 15, 19, 21, 23, 27, 4, 8, 12, 13, 14, 31, 21, 24, 5, 6, 8, 12, 13, 15, 19, 20, 26, 27, 3, 6, 10, 12, 17, 18, 19, 23, 30, 35, 33, 20, 3, 13, 14, 22, 24, 5, 12, 14, 18, 6, 11, 12, 16, 17, 28, 30, 31, 33, 36, 17, 21, 24, 6, 15, 20, 25, 28, 36, 1, 2, 3, 4, 5, 6, 7, 8, 9, 11, 12, 13, 14, 15, 18, 20, 21, 24, 25, 26, 32, 34, 23, 32, 34, 6, 17, 23, 32, 34, 7, 5, 17, 18, 33, 23, 16, 28, 21, 31, 27, 35, 30, 21, 1, 6, 16, 32, 2, 11, 19, 24, 5, 14, 22, 11, 4, 3, 6, 8, 10, 14, 18, 22, 23, 24, 34, 23, 1, 2, 4, 9, 10, 12, 13, 24, 31, 34, 33, 7, 32, 1, 5, 7, 11, 14, 15, 17, 22, 24, 29, 15, 21, 1, 2, 9, 10, 13, 18, 21, 23, 24, 34, 35, 2, 3, 11, 17, 22, 24, 30, 32, 36, 36, 16, 32, 36, 22, 15, 1, 2, 3, 4, 5, 6, 7, 8, 9, 10, 11, 12, 13, 14, 15, 16, 17, 18, 19, 20, 21, 22, 23, 24, 26, 28, 29, 30, 31, 32, 33, 35, 36, 7, 14, 20, 15, 33, 8, 22, 15, 30, 13, 16, 35, 1, 2, 4, 8, 12, 15, 21, 31, 1, 2, 11, 21, 33, 1, 2, 4, 8, 31, 9, 1, 2, 4, 7, 8, 9, 10, 13, 14, 15, 20, 23, 24, 25, 28, 30, 10, 18, 19, 2, 4, 5, 6, 7, 13, 15, 17, 19, 20, 21, 1, 1, 2, 4, 5, 7, 8, 10, 11, 15, 17, 19, 21, 24, 26, 29, 36, 1, 3, 4, 5, 6, 7, 8, 9, 11, 12, 13, 14, 15, 16, 18, 20, 21, 22, 23, 25, 26, 2, 12, 13, 16, 17, 20, 23, 25, 27, 30, 33, 32, 1, 2, 3, 4, 5, 6, 7, 8, 9, 12, 13, 16, 18, 19, 20, 21, 24, 27, 1, 2, 3, 4, 5, 7, 8, 10, 14, 15, 19, 20, 22, 32, 1, 2, 3, 4, 5, 6, 7, 8, 9, 10, 11, 12, 13, 15, 16, 19, 20, 21, 24, 26, 27, 31, 6, 8, 13, 14, 28, 34, 4, 25, 4, 7, 8, 9, 11, 15, 19, 24, 33, 1, 2, 5, 7, 8, 9, 10, 11, 12, 13, 15, 17, 18, 20, 24, 25, 27, 2, 22, 17, 25, 20, 1, 2, 4, 6, 9, 15, 16, 20, 28, 3, 5, 8, 14, 15, 18, 20, 23, 35, 17, 18, 35, 6, 10, 30, 17, 1, 27, 35, 1, 2, 3, 4, 5, 7, 8, 9, 10, 11, 12, 14, 15, 16, 19, 27, 29, 2, 3, 4, 5, 7, 8, 11, 13, 15, 16, 19, 24, 21, 7, 7, 10, 12, 14, 16, 18, 20, 31, 34, 6, 4, 6, 7, 19, 20, 1, 2, 4, 6, 10, 12, 15, 16, 20, 28, 29, 30, 31, 33, 1, 2, 4, 5, 6, 7, 8, 9, 10, 14, 15, 16, 18, 19, 20, 22, 23, 25, 26, 30, 34, 1, 16, 28, 2, 4, 5, 6, 7, 8, 10, 11, 12, 13, 15, 16, 20, 21, 25, 27, 34, 4, 24, 7, 3, 4, 5, 6, 8, 9, 11, 12, 13, 14, 15, 16, 18, 19, 20, 21, 22, 27, 29, 31, 6, 13, 33, 4, 7, 22, 23, 33, 1, 2, 3, 4, 6, 7, 9, 10, 11, 18, 19, 20, 23, 24, 25, 26, 32, 35, 35, 2, 4, 20, 1, 2, 3, 6, 9, 10, 14, 16, 17, 18, 19, 20, 23, 24, 25, 27, 30, 34, 35, 8, 27, 1, 3, 4, 5, 6, 8, 10, 13, 15, 23, 26, 1, 3, 4, 5, 6, 8, 10, 11, 13, 14, 15, 16, 20, 22, 24, 16, 17, 29, 7, 27, 36, 17, 15, 29, 4, 10, 18, 32, 35, 19, 15, 1, 2, 6, 9, 18, 19, 23, 24, 28, 34, 3, 11, 17, 20, 21, 28, 15, 1, 2, 5, 8, 11, 15, 32, 1, 2, 3, 4, 12, 15, 17, 21, 20, 1, 1, 3, 5, 6, 7, 14, 16, 19, 20, 22, 26, 29, 30, 31, 1, 17, 21, 28, 29, 1, 2, 3, 12, 15, 18, 32, 1, 2, 3, 4, 5, 6, 7, 8, 9, 10, 13, 15, 16, 18, 19, 20, 21, 22, 23, 24, 26, 28, 30, 31, 33, 2, 4, 5, 11, 13, 14, 16, 17, 18, 19, 20, 21, 22, 23, 25, 27, 29, 30, 35, 14, 10, 31, 1, 5, 8, 11, 20, 22, 24, 27, 29, 5, 10, 34, 3, 6, 8, 9, 11, 19, 22, 23, 24, 27, 29, 33, 36, 14, 22, 28, 31, 26, 6, 19, 20, 1, 2, 3, 4, 5, 6, 7, 8, 9, 10, 11, 12, 13, 14, 15, 16, 18, 19, 20, 22, 23, 24, 26, 27, 29, 31, 33, 2, 6, 14, 16, 17, 18, 21, 23, 25, 27, 28, 31, 33, 36, 20, 1, 7, 8, 18, 22, 28, 9, 14, 30, 4, 18, 6, 33, 2, 4, 5, 17, 31, 4, 12, 16, 27, 35, 12, 31, 31, 31, 4, 15, 18, 19, 22, 35, 2, 4, 5, 12, 13, 14, 17, 23, 25, 1, 2, 3, 4, 5, 6, 7, 8, 9, 10, 11, 12, 13, 14, 15, 16, 18, 19, 20, 21, 22, 26, 27, 29, 30, 31, 32, 8, 5, 23, 1, 3, 5, 6, 8, 13, 15, 16, 17, 18, 21, 22, 25, 36, 2, 3, 4, 5, 6, 7, 8, 10, 11, 12, 14, 15, 16, 18, 19, 20, 22, 23, 25, 26, 27, 29, 30, 31, 2, 3, 5, 6, 10, 11, 12, 14, 18, 19, 21, 35, 19, 11, 20, 1, 2, 3, 4, 5, 6, 7, 8, 10, 11, 12, 13, 14, 15, 16, 18, 19, 20, 21, 22, 23, 24, 25, 26, 27, 29, 31, 26, 4, 6, 7, 8, 10, 13, 18, 25, 26, 2, 3, 9, 10, 14, 17, 18, 28, 30, 8, 12, 31, 30, 6, 9, 11, 12, 18, 20, 22, 9, 10, 17, 24, 35, 3, 5, 7, 15, 17, 21, 27, 29, 13, 1, 4, 7, 8, 10, 12, 14, 15, 18, 18, 33, 3, 5, 6, 7, 8, 11, 13, 16, 18, 19, 20, 25, 31, 32, 33, 36, 16, 2, 6, 7, 8, 13, 14, 18, 20, 27, 32, 1, 2, 24, 3, 5, 8, 11, 19, 3, 6, 9, 14, 15, 16, 18, 19, 22, 26, 27, 30, 36, 33, 5, 6, 8, 14, 18, 21, 22, 25, 6, 17, 27, 32, 13, 1, 2, 4, 9, 10, 14, 20, 17, 11, 14, 1, 1, 2, 3, 4, 5, 7, 9, 10, 11, 12, 13, 14, 15, 16, 17, 18, 21, 22, 23, 24, 27, 29, 36, 19, 33, 6, 24, 30, 4, 6, 20, 29, 9, 24, 4, 11, 14, 15, 17, 23, 36, 17, 23, 10, 1, 6, 8, 9, 12, 14, 16, 17, 18, 22, 30, 31, 7, 6, 1, 25, 1, 11, 19, 20, 27, 30, 30, 19, 23, 30, 18, 22, 2, 4, 5, 7, 14, 17, 21, 23, 24, 29, 30, 31, 34, 2, 22, 1, 2, 4, 7, 11, 18, 22, 28, 5, 8, 11, 1, 2, 3, 4, 5, 6, 7, 8, 9, 10, 11, 13, 14, 16, 18, 20, 22, 23, 26, 31, 1, 2, 3, 5, 8, 9, 10, 11, 12, 14, 15, 18, 20, 22, 23, 25, 26, 27, 32, 33, 29, 1, 2, 3, 4, 6, 12, 13, 16, 17, 19, 20, 23, 27, 14, 1, 6, 8, 12, 18, 20, 29, 29, 1, 8, 13, 6, 7, 10, 14, 22, 26, 30, 2, 3, 4, 5, 6, 7, 8, 9, 10, 11, 13, 14, 16, 18, 19, 20, 21, 22, 23, 25, 26, 27, 36, 4, 21, 29, 3, 4, 6, 8, 13, 14, 15, 23, 25, 27, 28, 29, 30, 36, 10, 13, 15, 18, 19, 36, 15, 6, 13, 14, 16, 13, 1, 2, 3, 4, 5, 7, 8, 9, 10, 13, 14, 17, 19, 21, 24, 25, 27, 33, 1, 2, 3, 4, 6, 7, 8, 9, 13, 15, 20, 21, 29, 25, 7, 18, 26, 7, 3, 6, 8, 11, 1, 2, 3, 4, 5, 6, 8, 12, 13, 14, 19, 20, 23, 26, 27, 30, 32, 34, 25, 34, 5, 6, 14, 16, 18, 28, 8, 16, 3, 7, 8, 13, 25, 28, 35, 14, 12, 20, 34, 6, 14, 22, 3, 25, 31, 3, 4, 5, 6, 7, 8, 10, 11, 13, 15, 16, 18, 20, 22, 23, 26, 29, 30, 31, 33, 5, 19, 15, 32, 1, 26, 31, 1, 2, 3, 4, 7, 8, 9, 11, 12, 16, 18, 20, 25, 31, 2, 9, 12, 16, 21, 23, 31, 3, 5, 10, 17, 18, 22, 24, 26, 29, 30, 26, 36, 31, 33, 3, 7, 11, 22, 2, 5, 10, 33, 16, 1, 2, 3, 4, 5, 6, 7, 8, 9, 10, 11, 12, 13, 14, 15, 16, 17, 18, 19, 20, 21, 23, 24, 26, 29, 30, 32, 33, 34, 36, 8, 26, 9, 36, 19, 20, 1, 2, 3, 5, 8, 20, 21, 25, 26, 27, 1, 9, 17, 20, 22, 28, 16, 1, 2, 3, 4, 5, 6, 7, 8, 9, 10, 11, 12, 13, 14, 15, 16, 17, 18, 19, 20, 21, 22, 23, 24, 25, 26, 27, 28, 29, 30, 31, 32, 33, 35, 8, 17, 28, 29, 4, 23, 28, 30, 26, 35, 9, 17, 8, 12, 1, 3, 6, 7, 8, 10, 12, 13, 15, 16, 22, 23, 25, 26, 33, 1, 3, 6, 8, 20, 22, 24, 26, 28, 29, 36, 5, 6, 18, 20, 1, 3, 4, 5, 6, 7, 9, 11, 12, 14, 15, 16, 18, 20, 21, 22, 23, 24, 25, 26, 33, 35, 2, 3, 4, 5, 6, 7, 8, 11, 12, 13, 15, 17, 18, 19, 20, 21, 22, 25, 28, 33, 36, 24, 24, 24, 26, 23, 6, 11, 12, 16, 17, 4, 27, 2, 19, 19, 1, 6, 12, 14, 22, 1, 3, 5, 6, 7, 8, 10, 14, 16, 19, 23, 32, 14, 2, 4, 8, 9, 12, 14, 15, 21, 30, 31, 3, 12, 16, 1, 2, 3, 4, 8, 9, 11, 12, 14, 16, 18, 21, 24, 25, 27, 28, 21, 1, 2, 3, 4, 5, 6, 7, 8, 9, 10, 11, 12, 13, 14, 15, 16, 18, 19, 21, 22, 23, 24, 25, 26, 27, 29, 30, 32, 33, 35, 36, 1, 4, 22, 18, 1, 2, 4, 8, 9, 10, 11, 14, 16, 21, 24, 26, 29, 36, 1, 3, 4, 6, 7, 8, 11, 12, 13, 19, 20, 23, 24, 27, 36, 34, 6, 18, 2, 3, 4, 7, 9, 10, 11, 15, 17, 18, 19, 20, 21, 22, 23, 24, 26, 27, 34, 14, 1, 2, 3, 4, 5, 6, 7, 8, 9, 10, 11, 12, 13, 14, 15, 16, 18, 19, 20, 21, 22, 23, 24, 25, 26, 27, 28, 29, 30, 32, 36, 1, 2, 3, 4, 5, 6, 7, 8, 9, 10, 11, 12, 13, 14, 15, 17, 18, 19, 20, 21, 23, 24, 25, 26, 27, 31, 32, 33, 34, 36, 2, 7, 10, 15, 15, 15, 16, 20, 26, 8, 22, 31, 2, 4, 7, 8, 10, 14, 15, 16, 17, 20, 21, 23, 34, 1, 2, 3, 14, 17, 20, 24, 25, 34, 15, 4, 7, 11, 13, 19, 4, 5, 7, 8, 9, 10, 14, 15, 17, 19, 20, 21, 24, 26, 29, 30, 35, 12, 17, 34, 1, 3, 5, 11, 12, 15, 23, 24, 26, 27, 29, 1, 2, 3, 5, 7, 10, 12, 13, 17, 20, 25, 10, 2, 10, 14, 1, 3, 4, 5, 6, 8, 9, 11, 12, 13, 17, 21, 23, 25, 31, 10, 24, 7, 11, 18, 19, 22, 25, 1, 3, 4, 8, 10, 11, 13, 31, 35, 21, 12, 15, 1, 16, 7, 2, 3, 4, 7, 12, 20, 21, 25, 21, 3, 4, 16, 32, 9, 2, 17, 27, 35, 6, 12, 15, 17, 30, 1, 2, 4, 5, 6, 7, 8, 9, 11, 12, 14, 15, 18, 20, 21, 22, 23, 25, 26, 27, 28, 29, 30, 33, 2, 26, 29, 22, 30, 14, 30, 3, 4, 5, 7, 8, 17, 2, 9, 10, 14, 18, 20, 28, 30, 36, 32, 5, 22, 30, 1, 2, 3, 4, 5, 7, 8, 11, 12, 14, 15, 17, 19, 21, 23, 24, 26, 29, 31, 35, 2, 3, 4, 6, 8, 10, 11, 13, 15, 17, 18, 19, 21, 22, 23, 25, 26, 31, 32, 6, 28, 14, 14, 35, 23, 1, 2, 3, 4, 5, 6, 7, 8, 10, 11, 12, 13, 14, 15, 16, 19, 20, 21, 22, 23, 24, 25, 26, 27, 31, 10, 18, 35, 36, 3, 33, 7, 4, 5, 34, 21, 5, 12, 26, 29, 6, 7, 11, 12, 13, 17, 18, 21, 29, 30, 31, 3, 6, 18, 19, 22, 25, 28, 29, 30, 14, 22, 11, 16, 11, 4, 22, 12, 4, 23, 28, 33, 7, 21, 25, 31, 26, 30, 3, 27, 12, 13, 18, 25, 15, 22, 29, 4, 3, 15, 2, 13, 19, 25, 27, 36, 1, 4, 6, 9, 10, 12, 13, 17, 23, 19, 22, 7, 10, 13, 14, 16, 34, 14, 27, 34, 10, 12, 18, 33, 1, 2, 11, 15, 23, 27, 17, 17, 5, 2, 3, 4, 5, 7, 8, 9, 10, 11, 12, 13, 15, 16, 17, 18, 19, 20, 21, 24, 26, 27, 32, 2, 8, 18, 35, 5, 29, 1, 2, 4, 6, 7, 8, 9, 10, 12, 13, 14, 15, 21, 22, 24, 25, 28, 29, 31, 33, 35, 14, 22, 3, 6, 9, 10, 13, 15, 22, 24, 3, 12, 30, 1, 2, 3, 4, 6, 9, 11, 12, 14, 15, 19, 23, 27, 12, 8, 10, 1, 29, 21, 1, 31, 24, 31, 15, 36, 9, 1, 2, 3, 4, 5, 6, 7, 8, 11, 12, 13, 14, 16, 20, 22, 23, 26, 2, 3, 4, 5, 7, 8, 10, 11, 15, 18, 19, 20, 21, 23, 24, 36, 24, 27, 1, 3, 6, 8, 10, 17, 26, 1, 3, 5, 12, 13, 15, 21, 24, 26, 27, 24, 1, 2, 3, 4, 5, 6, 7, 8, 9, 11, 12, 13, 14, 15, 16, 17, 18, 20, 22, 24, 28, 31, 34, 3, 13, 14, 16, 18, 20, 23, 34, 15, 16, 17, 19, 20, 22, 26, 27, 31, 5, 6, 7, 9, 11, 14, 21, 22, 23, 24, 27, 28, 29, 30, 34, 6, 1, 2, 3, 4, 5, 6, 7, 8, 9, 10, 11, 12, 13, 14, 15, 16, 17, 18, 20, 21, 22, 23, 25, 26, 28, 29, 31, 36, 1, 2, 3, 4, 6, 7, 8, 10, 11, 12, 13, 14, 15, 16, 18, 19, 20, 22, 24, 25, 26, 27, 32, 1, 3, 6, 7, 8, 10, 11, 13, 14, 15, 16, 17, 20, 22, 23, 26, 27, 29, 32, 29, 19, 1, 2, 3, 4, 5, 8, 9, 10, 11, 12, 13, 14, 15, 16, 17, 18, 19, 21, 22, 23, 24, 25, 26, 28, 30, 34, 5, 6, 34, 16, 1, 2, 3, 4, 5, 6, 7, 8, 11, 12, 15, 16, 17, 19, 28, 32, 19, 11, 2, 17, 34, 1, 17, 23, 15, 24, 1, 2, 3, 4, 5, 7, 8, 10, 12, 14, 18, 21, 22, 23, 24, 25, 26, 27, 28, 30, 31, 34, 36, 8, 20, 3, 15, 17, 27, 1, 5, 35, 1, 3, 4, 5, 6, 7, 8, 10, 11, 12, 13, 14, 15, 16, 19, 20, 22, 25, 26, 27, 29, 36, 1, 3, 4, 5, 6, 7, 8, 9, 10, 11, 12, 13, 14, 15, 16, 18, 20, 21, 23, 24, 25, 26, 34, 36, 5, 7, 10, 11, 12, 19, 23, 28, 2, 14, 21, 1, 2, 3, 6, 9, 10, 14, 18, 22, 23, 28, 9, 24, 1, 2, 3, 4, 5, 6, 8, 9, 11, 12, 13, 17, 18, 21, 22, 23, 27, 28, 31, 32, 34, 4, 8, 12, 23, 24, 33, 8, 14, 22, 26, 2, 3, 5, 6, 7, 8, 10, 12, 14, 15, 16, 18, 21, 23, 26, 27, 29, 30, 32, 33, 32, 3, 4, 5, 6, 8, 9, 10, 12, 13, 14, 16, 18, 20, 22, 23, 25, 26, 28, 30, 6, 7, 27, 9, 14, 17, 36, 6, 15, 25, 28, 35, 10, 15, 23, 25, 26, 7, 8, 10, 11, 13, 15, 17, 20, 21, 27, 7, 23, 27, 19, 23, 1, 3, 4, 5, 6, 7, 8, 11, 12, 14, 15, 19, 20, 22, 24, 26, 28, 30, 31, 36, 4, 16, 18, 20, 22, 28, 17, 22, 20, 1, 2, 3, 4, 5, 6, 7, 8, 11, 12, 13, 15, 17, 23, 25, 27, 30, 31, 7, 3, 4, 5, 7, 9, 10, 11, 15, 16, 17, 19, 20, 21, 23, 25, 3, 1, 2, 3, 4, 5, 6, 7, 8, 9, 10, 11, 12, 13, 14, 15, 16, 18, 19, 20, 21, 22, 23, 24, 25, 26, 27, 30, 31, 33, 17, 23, 32, 11, 16, 17, 12, 33, 25, 5, 2, 5, 7, 10, 11, 15, 16, 17, 19, 20, 21, 24, 27, 30, 32, 8, 16, 11, 22, 6, 17, 33, 1, 3, 6, 8, 10, 13, 16, 17, 18, 24, 31, 8, 34, 12, 31, 3, 18, 12, 16, 18, 27, 13, 20, 22, 30, 35, 2, 4, 5, 7, 10, 11, 17, 19, 24, 27, 30, 36, 13, 2, 3, 4, 5, 7, 8, 12, 13, 15, 18, 20, 21, 26, 31, 5, 36, 2, 5, 10, 18, 19, 36, 30, 1, 2, 3, 4, 5, 6, 7, 8, 9, 11, 12, 13, 15, 18, 20, 24, 25, 30, 31, 35, 2, 2, 36, 6, 8, 12, 6, 18, 28, 1, 2, 4, 5, 6, 8, 9, 13, 14, 15, 17, 18, 22, 23, 26, 29, 33, 34, 12, 15, 20, 28, 2, 3, 4, 5, 6, 7, 8, 9, 10, 11, 12, 13, 14, 15, 16, 19, 20, 21, 22, 23, 24, 25, 26, 29, 22, 28, 34, 1, 2, 3, 4, 5, 6, 8, 9, 11, 12, 13, 14, 15, 16, 18, 19, 23, 25, 26, 18, 5, 8, 14, 16, 30, 1, 2, 3, 4, 5, 6, 8, 9, 10, 11, 12, 14, 15, 16, 17, 18, 19, 20, 21, 24, 25, 27, 28, 29, 32, 33, 36, 1, 5, 16, 3, 1, 2, 3, 4, 5, 9, 10, 11, 12, 14, 15, 16, 18, 19, 20, 21, 22, 26, 33, 35, 36, 18, 9, 10, 31, 22, 10, 10, 2, 4, 10, 13, 20, 21, 2, 1, 27, 2, 14, 34, 26, 22, 29, 32, 12, 8, 34, 12, 18, 7, 5, 33, 36, 1, 3, 5, 6, 7, 10, 12, 15, 18, 25, 26, 27, 1, 7, 11, 24, 14, 1, 3, 5, 6, 11, 15, 16, 17, 18, 20, 21, 25, 36, 1, 3, 4, 5, 6, 8, 9, 10, 11, 13, 18, 19, 20, 21, 31, 32, 35, 1, 3, 11, 5, 11, 25, 13, 5, 7, 14, 29, 17, 22, 24, 25, 30, 35, 1, 2, 3, 5, 7, 8, 10, 11, 12, 13, 15, 19, 20, 21, 23, 24, 26, 31, 5, 33, 3, 13, 31, 9, 15, 20, 22, 30, 4, 6, 7, 9, 10, 13, 14, 15, 16, 17, 19, 20, 21, 27, 29, 30, 31, 23, 8, 13, 6, 8, 10, 13, 19, 22, 34, 36, 34, 23, 7, 22, 22, 7, 6, 32, 36, 8, 1, 3, 9, 11, 12, 31, 25, 33, 4, 14, 17, 23, 1, 2, 3, 4, 8, 10, 12, 14, 15, 21, 23, 24, 29, 35, 1, 2, 3, 4, 5, 7, 8, 9, 11, 12, 13, 16, 18, 19, 22, 23, 24, 25, 26, 27, 31, 36, 32, 15, 36, 32, 5, 19, 1, 2, 3, 4, 6, 9, 10, 14, 16, 17, 25, 27, 32, 36, 3, 13, 21, 26, 21, 12, 25, 8, 20, 1, 2, 3, 4, 5, 6, 7, 8, 9, 10, 11, 12, 13, 14, 15, 16, 17, 18, 19, 20, 21, 22, 23, 24, 25, 26, 27, 29, 30, 31, 33, 36, 36, 10, 1, 2, 3, 4, 5, 6, 7, 8, 9, 10, 11, 12, 13, 14, 15, 18, 20, 21, 23, 24, 26, 32, 33, 36, 13, 30, 28, 1, 2, 13, 8, 17, 20, 4, 10, 30, 7, 35, 6, 13, 7, 9, 11, 17, 18, 28, 29, 31, 1, 2, 4, 5, 6, 8, 9, 10, 11, 12, 13, 14, 15, 16, 18, 19, 23, 24, 25, 26, 27, 33, 36, 1, 3, 4, 5, 6, 7, 8, 9, 10, 11, 13, 14, 15, 16, 18, 19, 20, 21, 22, 23, 27, 30, 31, 32, 33, 34, 35, 1, 2, 3, 4, 5, 7, 8, 9, 10, 11, 12, 13, 14, 17, 19, 20, 21, 24, 25, 27, 33, 15, 1, 9, 18, 10, 32, 35, 1, 31, 1, 2, 3, 4, 5, 6, 7, 9, 10, 13, 14, 16, 17, 19, 20, 25, 26, 27, 28, 29, 30, 32, 35, 19, 1, 5, 6, 7, 9, 10, 11, 12, 13, 14, 15, 17, 18, 19, 21, 22, 23, 28, 30, 32, 33, 35, 36, 1, 2, 3, 4, 5, 8, 12, 13, 14, 15, 20, 21, 24, 25, 26, 28, 16, 1, 1, 8, 14, 25, 14, 20, 1, 2, 14, 1, 7, 4, 12, 23, 1, 2, 4, 9, 13, 15, 16, 24, 35, 6, 3, 13, 21, 24, 1, 5, 7, 10, 18, 19, 22, 23, 28, 34, 23, 10, 11, 22, 24, 28, 36, 26, 36, 1, 2, 3, 4, 6, 8, 9, 10, 11, 12, 13, 14, 15, 16, 18, 19, 20, 25, 26, 27, 28, 29, 30, 17, 4, 16, 7, 17, 23, 24, 35, 1, 6, 18, 29, 34, 10, 11, 17, 19, 21, 24, 27, 31, 32, 35, 14, 9, 33, 10, 6, 12, 23, 24, 8, 13, 31, 2, 3, 5, 6, 7, 8, 11, 13, 14, 15, 16, 20, 21, 25, 36, 13, 1, 2, 3, 4, 5, 6, 7, 8, 10, 11, 13, 14, 16, 18, 19, 20, 21, 23, 24, 26, 29, 31, 35, 1, 3, 4, 6, 7, 8, 9, 11, 12, 13, 20, 21, 25, 28, 29, 33, 16, 20, 1, 2, 3, 4, 5, 6, 7, 8, 10, 12, 13, 14, 15, 17, 21, 23, 31, 1, 9, 12, 14, 18, 23, 25, 28, 31, 15, 31, 7, 32, 35, 2, 10, 17, 29, 17, 27, 1, 12, 16, 31, 11, 19, 29, 20, 10, 25, 1, 2, 21, 10, 8, 3, 23, 4, 5, 10, 36, 16, 30, 1, 2, 3, 4, 5, 6, 7, 8, 9, 10, 12, 13, 14, 15, 18, 20, 21, 22, 25, 28, 33, 28, 1, 2, 3, 5, 6, 8, 12, 15, 18, 20, 21, 25, 26, 27, 36, 34, 1, 2, 3, 4, 7, 8, 9, 10, 11, 12, 13, 14, 15, 17, 18, 23, 24, 26, 34, 35, 12, 16, 21, 24, 30, 1, 2, 3, 4, 5, 8, 9, 10, 11, 12, 13, 14, 15, 17, 18, 20, 21, 23, 26, 28, 31, 32, 15, 1, 2, 5, 6, 9, 10, 12, 14, 22, 24, 30, 31, 25, 6, 13, 14, 30, 35, 2, 3, 8, 28, 30, 5, 8, 31, 1, 2, 3, 4, 5, 6, 7, 8, 9, 10, 11, 12, 15, 16, 17, 18, 19, 22, 23, 24, 25, 26, 30, 32, 1, 3, 6, 8, 10, 13, 22, 23, 25, 26, 30, 34, 34, 10, 14, 18, 22, 23, 15, 23, 25, 16, 36, 7, 6, 31, 29, 16, 32, 20, 25, 30, 35, 6, 1, 2, 3, 4, 5, 6, 7, 8, 9, 11, 12, 13, 15, 16, 17, 19, 20, 21, 22, 23, 24, 25, 27, 28, 31, 33, 1, 2, 3, 4, 5, 6, 7, 9, 10, 12, 13, 14, 15, 16, 18, 19, 20, 21, 26, 29, 5, 6, 7, 17, 22, 24, 27, 25, 33, 4, 6, 7, 19, 20, 27, 30, 35, 20, 27, 28, 30, 32, 4, 6, 8, 10, 13, 15, 18, 20, 27, 18, 18, 2, 5, 10, 12, 14, 15, 28, 34, 1, 2, 3, 4, 5, 6, 7, 8, 9, 10, 11, 12, 13, 14, 15, 16, 17, 18, 19, 20, 21, 23, 24, 25, 26, 27, 28, 18, 4, 1, 4, 5, 6, 9, 13, 14, 17, 18, 19, 25, 26, 31, 9, 5, 18, 20, 29, 5, 29, 23, 14, 23, 14, 23, 23, 17, 27, 1, 2, 3, 4, 5, 6, 7, 8, 9, 10, 11, 12, 13, 14, 15, 16, 18, 19, 20, 21, 22, 23, 24, 25, 27, 29, 31, 32, 34, 36, 4, 2, 7, 34, 8, 30, 1, 9, 28, 11, 35, 25, 1, 2, 4, 5, 6, 7, 8, 13, 14, 16, 17, 18, 20, 22, 23, 30, 16, 18, 28, 29, 12, 25, 4, 31, 2, 4, 5, 6, 7, 8, 9, 10, 11, 12, 15, 17, 18, 19, 20, 24, 25, 26, 27, 28, 29, 30, 31, 32, 33, 34, 29, 32, 1, 2, 3, 4, 5, 7, 10, 12, 13, 15, 16, 20, 31, 15, 28, 8, 8, 1, 2, 5, 6, 7, 8, 10, 13, 16, 19, 20, 23, 25, 30, 32, 14, 1, 3, 7, 9, 10, 12, 23, 24, 2, 6, 7, 16, 21, 25, 26, 35, 25, 1, 2, 3, 4, 5, 12, 14, 21, 22, 23, 32, 26, 3, 10, 11, 14, 17, 36, 25, 7, 19, 20, 23, 28, 2, 3, 4, 5, 10, 11, 13, 15, 16, 18, 19, 23, 24, 36, 1, 3, 4, 5, 6, 7, 8, 9, 11, 12, 14, 15, 16, 18, 19, 20, 22, 23, 25, 26, 27, 28, 29, 30, 31, 2, 3, 6, 8, 10, 13, 14, 15, 17, 18, 22, 24, 30, 33, 1, 2, 3, 4, 5, 6, 7, 8, 9, 10, 11, 12, 13, 14, 15, 16, 18, 19, 20, 21, 22, 23, 24, 25, 26, 27, 30, 31, 32, 34, 35, 36, 1, 2, 6, 7, 8, 9, 10, 13, 15, 16, 20, 21, 24, 1, 5, 7, 10, 11, 17, 18, 23, 3, 15, 1, 2, 3, 4, 7, 10, 11, 14, 15, 17, 21, 23, 24, 26, 31, 36, 4, 12, 13, 15, 1, 2, 3, 4, 5, 7, 9, 10, 11, 12, 13, 14, 15, 16, 18, 19, 20, 21, 23, 24, 26, 27, 29, 34, 11, 1, 2, 4, 6, 7, 10, 11, 22, 14, 6, 2, 9, 11, 23, 30, 31, 1, 3, 5, 10, 12, 15, 19, 24, 25, 25, 1, 3, 4, 8, 9, 10, 11, 12, 13, 14, 15, 17, 20, 21, 22, 23, 24, 31, 35, 14, 30, 8, 8, 9, 12, 13, 4, 3, 6, 25, 1, 2, 3, 5, 7, 10, 11, 12, 13, 15, 16, 23, 25, 27, 26, 36, 33, 17, 29, 29, 13, 13, 18, 1, 2, 3, 9, 10, 11, 12, 20, 21, 23, 24, 25, 31, 33, 24, 19, 22, 26, 1, 2, 3, 4, 5, 6, 7, 9, 10, 11, 12, 13, 14, 15, 18, 19, 20, 21, 22, 23, 24, 25, 26, 30, 32, 33, 36, 3, 8, 28, 30, 9, 32, 2, 5, 7, 8, 9, 11, 12, 14, 15, 19, 23, 24, 26, 27, 29, 33, 26, 1, 7, 8, 11, 14, 16, 18, 20, 29, 10, 20, 34, 35, 18, 5, 29, 5, 7, 8, 21, 23, 27, 8, 13, 23, 24, 29, 10, 34, 1, 2, 3, 4, 5, 6, 7, 8, 9, 10, 11, 13, 14, 15, 16, 17, 18, 19, 20, 22, 24, 25, 26, 27, 29, 30, 31, 35, 36, 1, 3, 4, 5, 7, 9, 11, 13, 15, 18, 19, 20, 21, 23, 25, 26, 27, 30, 32, 34, 24, 1, 2, 3, 4, 5, 6, 7, 8, 9, 10, 11, 12, 13, 14, 15, 16, 18, 19, 20, 21, 22, 23, 24, 25, 26, 29, 31, 32, 33, 26, 33, 3, 35, 23, 1, 6, 18, 1, 2, 3, 4, 5, 8, 9, 10, 11, 14, 15, 16, 18, 19, 20, 21, 22, 23, 29, 30, 2, 6, 13, 15, 21, 22, 26, 30, 36, 13, 4, 5, 7, 12, 18, 19, 27, 1, 2, 4, 7, 8, 9, 10, 15, 16, 17, 18, 19, 22, 24, 30, 26, 21, 32, 11, 17, 5, 11, 17, 1, 2, 3, 4, 5, 6, 11, 16, 18, 1, 2, 3, 4, 5, 6, 8, 9, 11, 12, 13, 14, 15, 16, 21, 23, 25, 26, 28, 29, 31, 33, 36, 1, 16, 26, 16, 1, 2, 3, 4, 8, 10, 12, 13, 14, 15, 18, 22, 24, 27, 33, 1, 4, 6, 8, 13, 16, 20, 23, 11, 1, 4, 9, 11, 12, 31, 1, 2, 3, 5, 9, 11, 16, 20, 30, 36, 1, 3, 4, 20, 23, 35, 1, 3, 27, 34, 3, 5, 7, 8, 11, 19, 24, 27, 29, 1, 4, 5, 10, 11, 13, 14, 17, 19, 24, 29, 1, 2, 3, 8, 9, 10, 12, 13, 14, 15, 24, 31, 33, 35, 3, 32, 4, 16, 17, 23, 31, 36, 1, 2, 3, 4, 5, 6, 7, 9, 10, 11, 12, 13, 14, 15, 19, 20, 21, 23, 24, 25, 26, 30, 35, 36, 36, 1, 2, 4, 10, 11, 12, 13, 16, 18, 24, 33, 2, 3, 5, 23, 3, 8, 13, 15, 2, 34, 2, 4, 15, 16, 2, 4, 13, 15, 26, 13, 6, 10, 20, 25, 33, 1, 2, 4, 5, 8, 9, 10, 14, 15, 19, 20, 31, 1, 8, 12, 20, 26, 14, 16, 20, 31, 13, 4, 1, 2, 4, 5, 6, 8, 9, 11, 14, 17, 18, 19, 20, 22, 26, 32, 20, 4, 2, 1, 2, 3, 4, 5, 6, 7, 8, 11, 12, 14, 15, 16, 18, 19, 20, 22, 25, 26, 32, 1, 2, 6, 7, 9, 3, 28, 5, 15, 29, 30, 8, 24, 1, 2, 3, 4, 5, 6, 7, 8, 9, 10, 11, 12, 13, 14, 15, 16, 18, 19, 20, 21, 22, 23, 25, 26, 30, 31, 32, 35, 3, 21, 1, 2, 4, 8, 9, 10, 14, 15, 16, 20, 21, 24, 31, 1, 3, 5, 6, 7, 8, 10, 11, 12, 13, 14, 15, 18, 19, 20, 21, 23, 25, 26, 27, 29, 30, 35, 36, 5, 3, 33, 2, 8, 13, 15, 18, 21, 9, 11, 19, 23, 24, 19, 19, 14, 25, 3, 5, 6, 10, 11, 12, 13, 14, 18, 19, 20, 22, 25, 26, 6, 13, 22, 28, 36, 5, 17, 24, 27, 5, 7, 18, 28, 1, 3, 5, 7, 8, 17, 30, 2, 6, 2, 4, 6, 12, 9, 31, 10, 7, 1, 2, 3, 4, 5, 6, 7, 8, 9, 11, 13, 14, 15, 16, 17, 18, 19, 20, 24, 25, 27, 29, 33, 34, 2, 28, 6, 1, 21, 13, 16, 18, 25, 11, 28, 5, 15, 26, 2, 10, 17, 22, 24, 36, 29, 20, 23, 29, 2, 29, 19, 3, 5, 6, 8, 11, 13, 14, 16, 18, 21, 25, 36, 28, 6, 28, 17, 23, 20, 17, 2, 3, 4, 5, 8, 9, 10, 11, 13, 14, 15, 19, 20, 21, 22, 23, 24, 26, 31, 31, 7, 25, 10, 2, 7, 8, 9, 10, 15, 17, 20, 34, 22, 27, 28, 27, 7, 2, 3, 6, 8, 13, 25, 34, 2, 10, 16, 21, 24, 11, 2, 9, 10, 14, 18, 20, 28, 30, 36, 14, 17, 18, 22, 23, 25, 28, 29, 12, 17, 18, 19, 11, 1, 8, 2, 4, 7, 8, 10, 14, 15, 17, 21, 1, 2, 3, 5, 9, 10, 12, 13, 15, 19, 20, 21, 22, 24, 26, 29, 32, 20, 5, 24, 1, 2, 3, 4, 5, 6, 7, 8, 9, 11, 14, 17, 18, 19, 20, 21, 22, 23, 25, 27, 28, 29, 30, 31, 36, 1, 2, 4, 5, 6, 10, 11, 17, 20, 22, 23, 26, 1, 3, 4, 6, 10, 12, 14, 21, 17, 10, 17, 34, 1, 2, 4, 9, 12, 21, 23, 31, 33, 35, 36, 6, 8, 11, 14, 26, 1, 3, 4, 8, 10, 12, 13, 15, 17, 19, 20, 25, 23, 1, 3, 4, 5, 6, 7, 12, 15, 20, 21, 24, 25, 27, 28, 32, 1, 4, 6, 10, 34, 1, 4, 6, 9, 13, 16, 18, 20, 21, 1, 2, 3, 4, 5, 6, 7, 8, 9, 10, 12, 13, 14, 15, 16, 17, 18, 19, 20, 22, 23, 26, 28, 30, 31, 4, 13, 15, 22, 1, 4, 11, 13, 14, 15, 16, 18, 20, 22, 23, 24, 26, 28, 30, 36, 6, 4, 12, 14, 10, 24, 6, 9, 10, 12, 14, 17, 18, 19, 22, 23, 24, 30, 32, 7, 12, 17, 23, 8, 22, 30, 26, 5, 19, 23, 28, 32, 6, 23, 31, 5, 7, 19, 22, 30, 31, 32, 33, 1, 2, 4, 5, 6, 7, 8, 9, 10, 12, 13, 14, 15, 17, 18, 19, 20, 22, 23, 26, 28, 31, 32, 7, 22, 10, 15, 32, 32, 7, 10, 6, 13, 14, 16, 20, 23, 32, 1, 2, 3, 4, 5, 6, 7, 8, 9, 10, 11, 12, 13, 14, 15, 16, 17, 18, 19, 20, 21, 23, 24, 25, 26, 27, 28, 30, 31, 32, 33, 24, 13, 16, 16, 18, 28, 31, 16, 2, 3, 4, 5, 6, 7, 8, 9, 10, 13, 14, 16, 18, 19, 20, 22, 24, 27, 28, 29, 30, 31, 36, 30, 7, 11, 24, 27, 19, 14, 29, 3, 2, 18, 19, 20, 22, 23, 35, 18, 24, 11, 27, 8, 19, 26, 17, 23, 1, 4, 5, 7, 8, 10, 12, 13, 14, 15, 17, 19, 20, 22, 23, 25, 26, 27, 5, 14, 26, 14, 22, 28, 30, 4, 6, 18, 6, 17, 18, 1, 2, 4, 5, 6, 8, 9, 12, 13, 14, 15, 17, 18, 20, 22, 26, 29, 31, 34, 13, 14, 2, 8, 12, 11, 1, 2, 3, 7, 10, 14, 24, 27, 30, 11, 15, 17, 29, 17, 3, 12, 15, 26, 5, 11, 9, 9, 1, 2, 3, 5, 6, 8, 18, 19, 20, 21, 22, 23, 26, 29, 33, 36, 16, 18, 22, 28, 30, 1, 4, 5, 8, 12, 13, 14, 16, 17, 21, 23, 25, 30, 31, 35, 4, 18, 25, 26, 4, 6, 7, 8, 10, 13, 14, 15, 19, 20, 23, 24, 35, 5, 11, 17, 19, 27, 28, 29, 31, 10, 13, 19, 21, 1, 2, 3, 5, 6, 7, 11, 13, 14, 16, 17, 18, 19, 20, 22, 26, 28, 31, 36, 1, 2, 3, 4, 5, 7, 8, 9, 11, 12, 15, 16, 19, 20, 21, 26, 29, 32, 1, 2, 3, 4, 7, 9, 10, 12, 13, 15, 19, 20, 21, 24, 18, 19, 28, 28, 20, 36, 4, 8, 20, 26, 32, 13, 8, 13, 31, 31, 1, 3, 5, 7, 11, 14, 16, 18, 25, 32, 11, 17, 22, 26, 33, 9, 20, 18, 15, 3, 8, 35, 1, 2, 3, 4, 5, 6, 7, 8, 9, 10, 11, 12, 13, 14, 15, 16, 19, 20, 21, 23, 24, 26, 27, 18, 27, 36, 12, 1, 2, 3, 4, 5, 7, 8, 10, 11, 12, 15, 17, 18, 19, 20, 23, 24, 32, 33, 34, 13, 25, 1, 2, 3, 4, 5, 6, 7, 8, 11, 12, 13, 14, 15, 16, 17, 19, 20, 21, 22, 25, 26, 29, 31, 22, 27, 15, 19, 21, 22, 27, 28, 36, 28, 8, 9, 12, 14, 1, 3, 4, 5, 6, 7, 9, 10, 11, 14, 17, 18, 19, 21, 22, 23, 27, 30, 36, 3, 6, 8, 11, 12, 20, 22, 1, 3, 5, 17, 20, 22, 24, 30, 35, 1, 3, 5, 6, 9, 13, 14, 16, 18, 19, 20, 21, 29, 34, 1, 2, 5, 6, 8, 12, 13, 16, 17, 18, 21, 22, 30, 31, 29, 30, 5, 2, 3, 4, 6, 7, 10, 12, 14, 15, 26, 3, 4, 6, 8, 11, 13, 16, 18, 20, 25, 2, 4, 3, 5, 6, 8, 9, 12, 15, 18, 23, 24, 26, 27, 1, 3, 9, 18, 31, 1, 4, 5, 7, 14, 15, 18, 24, 11, 12, 15, 1, 4, 8, 10, 13, 17, 18, 21, 1, 2, 3, 4, 7, 10, 12, 14, 19, 24, 7, 8, 14, 16, 18, 20, 23, 25, 26, 30, 31, 33, 1, 3, 10, 11, 12, 13, 23, 30, 1, 2, 3, 4, 7, 8, 10, 12, 13, 15, 21, 23, 25, 26, 27, 35, 6, 24, 3, 4, 7, 8, 10, 13, 18, 19, 21, 23, 24, 33, 36, 4, 21, 27, 3, 5, 6, 8, 13, 16, 36, 31, 1, 5, 21, 6, 4, 5, 6, 7, 8, 9, 10, 11, 14, 15, 17, 18, 19, 20, 21, 23, 24, 25, 27, 28, 29, 32, 2, 5, 7, 8, 9, 10, 11, 14, 15, 16, 17, 19, 20, 21, 27, 28, 36, 25, 7, 11, 17, 18, 19, 30, 36, 16, 1, 3, 4, 9, 10, 15, 17, 19, 21, 23, 3, 11, 1, 4, 6, 8, 17, 18, 20, 31, 36, 5, 11, 7, 22, 12, 3, 4, 6, 14, 20, 28, 12, 25, 31, 5, 21, 18, 25, 27, 13, 11, 1, 2, 3, 4, 5, 9, 10, 11, 13, 14, 15, 17, 18, 19, 20, 21, 23, 25, 26, 29, 30, 34, 35, 1, 6, 13, 18, 20, 22, 26, 33, 35, 28, 25, 26, 27, 31, 17, 23, 12, 1, 2, 3, 4, 5, 6, 7, 8, 9, 10, 11, 12, 13, 14, 15, 16, 20, 21, 23, 24, 25, 26, 28, 31, 35, 36, 6, 20, 36, 9, 26, 16, 10, 17, 29, 30, 17, 23, 28, 6, 18, 19, 20, 25, 36, 31, 4, 5, 1, 6, 15, 34, 26, 17, 3, 6, 20, 22, 25, 28, 28, 28, 11, 36, 1, 2, 4, 7, 10, 11, 12, 14, 16, 17, 19, 21, 24, 29, 32, 30, 12, 16, 26, 27, 10, 36, 21, 3, 15, 13, 18, 35, 27, 1, 2, 3, 5, 6, 7, 8, 9, 10, 11, 12, 13, 14, 15, 16, 18, 19, 20, 21, 22, 23, 24, 25, 27, 28, 30, 31, 32, 34, 1, 24, 32, 34, 26, 1, 2, 3, 4, 5, 6, 7, 8, 10, 11, 15, 16, 17, 24, 1, 8, 11, 14, 18, 23, 26, 30, 4, 20, 28, 7, 1, 3, 4, 5, 6, 7, 8, 10, 12, 13, 14, 15, 16, 18, 20, 22, 23, 25, 26, 29, 30, 31, 36, 12, 7, 8, 13, 4, 16, 17, 19, 24, 1, 3, 7, 8, 9, 12, 14, 15, 20, 21, 1, 1, 3, 10, 11, 12, 13, 15, 20, 23, 28, 30, 35, 30, 16, 27, 8, 7, 19, 24, 25, 1, 2, 3, 4, 5, 6, 7, 8, 9, 10, 11, 12, 13, 14, 15, 16, 18, 19, 20, 21, 22, 23, 24, 26, 27, 32, 33, 21, 18, 35, 27, 28, 22, 10, 15, 35, 1, 2, 4, 5, 7, 8, 9, 12, 14, 15, 17, 19, 27, 28, 32, 34, 15, 18, 1, 2, 4, 5, 7, 10, 21, 22, 26, 27, 30, 31, 34, 36, 24, 12, 16, 2, 5, 6, 7, 8, 11, 12, 13, 15, 16, 17, 18, 20, 21, 22, 23, 24, 26, 27, 28, 29, 30, 34, 36, 4, 12, 17, 35, 1, 2, 3, 4, 5, 6, 7, 8, 9, 10, 12, 13, 14, 15, 16, 18, 19, 20, 21, 22, 23, 24, 26, 34, 36, 3, 8, 11, 13, 14, 16, 23, 27, 25, 18, 29, 30, 18, 26, 30, 21, 1, 2, 3, 5, 6, 7, 11, 12, 15, 18, 19, 22, 23, 27, 28, 29, 33, 35, 3, 8, 9, 10, 13, 15, 26, 29, 2, 3, 4, 5, 7, 12, 13, 14, 15, 16, 17, 18, 19, 20, 21, 25, 26, 29, 4, 5, 14, 18, 18, 2, 4, 7, 10, 14, 16, 19, 31, 1, 11, 29, 1, 5, 8, 10, 12, 13, 14, 17, 19, 21, 23, 24, 1, 5, 8, 14, 18, 23, 26, 28, 14, 22, 28, 35, 12, 16, 17, 25, 1, 5, 6, 8, 12, 14, 22, 25, 28, 30, 36, 21, 15, 27, 30, 24, 4, 5, 6, 33, 5, 25, 27, 35, 2, 3, 14, 21, 31, 32, 34, 1, 2, 3, 5, 9, 11, 12, 13, 14, 15, 19, 20, 23, 24, 25, 26, 31, 35, 4, 16, 1, 20, 26, 1, 3, 4, 6, 8, 13, 15, 16, 17, 18, 30, 8, 4, 11, 29, 19, 7, 17, 30, 14, 5, 27, 32, 21, 1, 2, 3, 4, 5, 6, 7, 8, 9, 10, 11, 13, 15, 16, 17, 19, 20, 23, 24, 27, 31, 34, 35, 5, 7, 11, 36, 7, 27, 23, 19, 32, 35, 27, 23, 4, 8, 24, 25, 32, 22, 10, 34, 5, 8, 11, 33, 10, 1, 2, 4, 6, 7, 10, 11, 13, 14, 18, 21, 22, 23, 24, 26, 28, 22, 1, 2, 4, 5, 6, 7, 9, 10, 11, 12, 14, 15, 17, 18, 19, 20, 23, 24, 25, 26, 27, 29, 30, 32, 35, 36, 8, 2, 4, 8, 10, 13, 14, 15, 24, 35, 2, 1, 12, 15, 18, 20, 32, 4, 11, 11, 4, 12, 26, 30, 1, 2, 3, 4, 5, 6, 7, 8, 9, 10, 11, 12, 13, 14, 15, 16, 17, 18, 19, 20, 21, 22, 23, 24, 26, 27, 28, 29, 30, 31, 32, 33, 34, 35, 36, 1, 2, 9, 10, 21, 26, 12, 11, 17, 3, 5, 7, 10, 12, 17, 29, 1, 5, 11, 20, 23, 26, 29, 7, 22, 28, 1, 2, 3, 4, 5, 9, 11, 14, 15, 18, 20, 23, 27, 28, 32, 35, 6, 18, 31, 36, 1, 5, 7, 11, 22, 23, 24, 26, 29, 2, 27, 20, 20, 21, 9, 25, 29, 29, 25, 4, 1, 2, 4, 5, 8, 10, 11, 13, 14, 15, 16, 19, 20, 22, 23, 25, 26, 34, 1, 2, 3, 4, 5, 6, 7, 8, 9, 10, 11, 13, 14, 15, 16, 17, 18, 19, 20, 21, 25, 26, 27, 28, 29, 31, 32, 33, 9, 12, 14, 22, 6, 19, 22, 27, 29, 31, 17, 2, 8, 10, 13, 14, 16, 21, 23, 25, 2, 5, 7, 8, 10, 12, 14, 24, 31, 1, 2, 3, 5, 6, 7, 8, 9, 10, 11, 12, 13, 14, 15, 16, 18, 19, 20, 25, 26, 27, 29, 31, 3, 4, 8, 9, 13, 14, 15, 25, 30, 7, 8, 14, 15, 26, 34, 18, 15, 15, 25, 5, 24, 24, 4, 8, 12, 13, 32, 5, 25, 8, 31, 17, 1, 10, 36, 21, 5, 6, 12, 13, 20, 31, 5, 15, 17, 18, 19, 22, 24, 27, 32, 1, 14, 26, 23, 22, 3, 12, 13, 14, 20, 8, 7, 9, 10, 17, 20, 21, 24, 27, 29, 35, 11, 4, 7, 10, 17, 27, 28, 2, 5, 6, 8, 15, 16, 20, 21, 23, 31, 36, 2, 3, 4, 5, 6, 7, 9, 13, 17, 18, 20, 25, 28, 29, 31, 8, 15, 25, 31, 22, 1, 2, 3, 4, 5, 6, 7, 8, 10, 11, 12, 14, 15, 16, 17, 18, 19, 20, 21, 22, 24, 31, 33, 1, 6, 7, 8, 10, 11, 13, 14, 15, 16, 20, 22, 23, 24, 25, 26, 32, 2, 16, 6, 8, 14, 16, 20, 26, 29, 33, 34, 1, 3, 6, 8, 16, 18, 24, 34, 2, 3, 4, 5, 6, 8, 9, 13, 14, 16, 17, 18, 20, 21, 25, 26, 27, 31, 35, 10, 1, 2, 3, 4, 5, 6, 7, 8, 9, 11, 12, 13, 14, 15, 16, 18, 20, 21, 22, 23, 24, 25, 27, 30, 31, 34, 5, 7, 27, 34, 36, 8, 1, 2, 3, 4, 5, 6, 7, 8, 10, 11, 12, 13, 14, 15, 16, 18, 19, 20, 21, 22, 23, 24, 25, 26, 27, 36, 36, 20, 32, 11, 19, 24, 11, 18, 22, 25, 27, 28, 29, 5, 2, 3, 4, 6, 22, 25, 28, 30, 22, 25, 26, 3, 7, 15, 26, 30, 5, 33, 4, 10, 11, 19, 20, 31, 26, 6, 8, 16, 22, 30, 8, 9, 11, 30, 11, 10, 21, 32, 1, 2, 3, 4, 5, 9, 12, 13, 15, 16, 18, 20, 28, 18, 3, 1, 2, 3, 4, 5, 6, 7, 8, 9, 10, 11, 12, 15, 16, 18, 19, 20, 21, 22, 23, 24, 33, 3, 6, 7, 8, 9, 12, 14, 16, 20, 21, 25, 8, 12, 14, 16, 21, 18, 22, 20, 16, 25, 2, 2, 10, 18, 2, 3, 4, 5, 6, 7, 8, 11, 16, 20, 26, 10, 20, 22, 22, 33, 2, 7, 8, 10, 14, 17, 21, 23, 24, 10, 1, 4, 8, 21, 31, 4, 1, 6, 27, 35, 7, 19, 29, 4, 6, 15, 26, 28, 29, 16, 18, 20, 25, 18, 3, 4, 8, 13, 27, 31, 34, 2, 8, 13, 16, 25, 13, 15, 18, 27, 22, 1, 4, 5, 17, 27, 28, 31, 20, 3], \"Freq\": [0.9333836066660375, 0.9980204764165488, 0.952680674369342, 0.9885542521106144, 0.043223608006597074, 0.842860356128643, 0.10805902001649269, 0.9809360539920532, 0.7867317803056612, 0.8846280286881911, 0.10921679597078027, 0.21843359194156053, 0.6553007758246816, 0.9874539196248255, 0.766586690729389, 0.0876588243642034, 0.006742986489554108, 0.011800226356719689, 0.001685746622388527, 0.05731538516120992, 0.05394389191643286, 0.563039371877768, 0.02865769258060496, 0.05900113178359844, 0.02865769258060496, 0.030343439202993483, 0.03371493244777054, 0.006742986489554108, 0.008428733111942635, 0.020228959468662322, 0.9537377021545674, 0.9539480934305634, 0.27010945543570114, 0.03619113618582923, 0.0008827106386787619, 0.13064117452445675, 0.017654212773575238, 0.08915377450655494, 0.074147693649016, 0.037073846824508, 0.060024323430155804, 0.010592527664145143, 0.022950476605647807, 0.035308425547150475, 0.02912945107639914, 0.04766637448865314, 0.055610770236761996, 0.03354300426979295, 0.015006080857538951, 0.011475238302823904, 0.006178974470751333, 0.017654212773575238, 0.10872773942817053, 0.0320835952410995, 0.0320835952410995, 0.01247695370487203, 0.1425937566271089, 0.0071296878313554446, 0.07486172222923217, 0.2299324325612131, 0.019606641536227473, 0.008912109789194307, 0.1336816468379146, 0.057037502650843556, 0.08912109789194306, 0.04634297090381039, 0.12832597381599628, 0.08884105879568972, 0.10858351630584301, 0.039484915020306544, 0.6218874115698281, 0.640584034492595, 0.0035036501430770924, 0.02744525945410389, 0.005839416905128488, 0.030364967906668136, 0.033868618049745225, 0.012262775500769823, 0.05430657721769493, 0.024525551001539646, 0.00467153352410279, 0.015766425643846917, 0.007007300286154185, 0.011678833810256976, 0.01927007578692401, 0.025109492692052496, 0.023941609311026797, 0.01401460057230837, 0.0052554752146156385, 0.0011678833810256975, 0.011094892119744126, 0.005839416905128488, 0.012846717191282673, 0.004087591833589941, 0.007591241976667034, 0.9688386004373283, 0.965936381184251, 0.9537199850865213, 0.06049063773572682, 0.03402598372634633, 0.0037806648584829262, 0.16634925377324875, 0.027724875628874792, 0.016382881053426012, 0.22179900503099834, 0.0025204432389886173, 0.0869552917451073, 0.015122659433931705, 0.032765762106852024, 0.21423767531403248, 0.0063011080974715436, 0.0075613297169658525, 0.055449751257749584, 0.0063011080974715436, 0.016382881053426012, 0.0025204432389886173, 0.0012602216194943087, 0.022683989150897556, 0.9332071220668018, 0.9855266232007933, 0.0036201698929346146, 0.05611263334048653, 0.036201698929346146, 0.04706220860814999, 0.43261030220568647, 0.1954891742184692, 0.052492463447551915, 0.03439161398287884, 0.012670594625271151, 0.09593450216276729, 0.01991093441114038, 0.0018100849464673073, 0.012670594625271151, 0.9568450795531828, 0.01586910401674041, 0.018136118876274754, 0.005667537148835861, 0.006801044578603032, 0.01586910401674041, 0.018136118876274754, 0.013602089157206064, 0.10541619096834699, 0.005667537148835861, 0.026070670884644955, 0.006801044578603032, 0.6903060247282078, 0.007934552008370205, 0.03627223775254951, 0.027204178314412127, 0.3220757093069475, 0.031269486340480344, 0.05732739162421396, 0.03231180255182969, 0.045861913299371164, 0.06358128889231003, 0.040650332242624446, 0.04169264845397379, 0.05524275920151527, 0.022930956649685582, 0.012507794536192137, 0.02188864043833624, 0.04690422951072051, 0.009380845902144103, 0.006253897268096068, 0.012507794536192137, 0.030227170129130995, 0.006253897268096068, 0.03752338360857641, 0.006253897268096068, 0.009380845902144103, 0.014592426958890826, 0.058369707835563306, 0.014592426958890826, 0.9269826694097045, 0.9837690034182168, 0.6748936532361002, 0.31390402476097684, 0.22882232746588468, 0.030803005620407553, 0.5368523836699602, 0.022002146871719683, 0.17601717497375746, 0.12482683130175706, 0.07702081080321181, 0.03983835041545438, 0.061085470637030057, 0.5258662254839979, 0.05046191052624222, 0.07967670083090876, 0.015935340166181755, 0.013279450138484795, 0.010623560110787836, 0.2863828200945169, 0.12920975721436115, 0.029891809504814893, 0.009642519195101578, 0.11956723801925957, 0.007714015356081263, 0.14078078024848303, 0.01735653455118284, 0.1716368416728081, 0.004821259597550789, 0.024106297987753943, 0.011571023034121894, 0.026999053746284418, 0.01253527495363205, 0.0067497634365711046, 0.7350373510817816, 0.08167081678686462, 0.08983789846555108, 0.024501245036059386, 0.05716957175080523, 0.9343082630544853, 0.6881141181330832, 0.08095460213330391, 0.08095460213330391, 0.14167055373328186, 0.2985231995026101, 0.696554132172757, 0.9714990456874854, 0.3783652907917666, 0.5885682301205258, 0.12389245940917698, 0.1342168310266084, 0.08259497293945132, 0.05162185808715707, 0.06194622970458849, 0.08259497293945132, 0.4542723511669823, 0.07568973003028696, 0.05045982002019131, 0.05045982002019131, 0.06307477502523913, 0.7442823452978218, 0.9682338450904346, 0.05693828612971381, 0.03416297167782829, 0.0313160573713426, 0.19643708714751265, 0.06547902904917088, 0.3074667451004546, 0.019928400145399833, 0.1252642294853704, 0.14234571532428453, 0.014234571532428452, 0.040621605217867104, 0.016726543325004103, 0.13381234660003283, 0.0191160495142904, 0.0645166671107301, 0.014337037135717802, 0.0047790123785726, 0.32497284174293684, 0.1792129641964725, 0.071685185678589, 0.12186481565360131, 0.0095580247571452, 0.0022358501193981517, 0.022358501193981514, 0.8675098463264828, 0.01341510071638891, 0.09166985489532421, 0.9536027859323888, 0.29196490219143334, 0.004293601502815196, 0.12880804508445587, 0.004293601502815196, 0.03434881202252157, 0.19750566912949902, 0.2876713006886181, 0.02146800751407598, 0.025761609016891177, 0.008587203005630392, 0.6503301024374875, 0.008556975032072204, 0.12835462548108303, 0.20964588828576897, 0.9229290432374954, 0.2904832096745601, 0.011619328386982403, 0.19559202784753713, 0.003873109462327468, 0.16267059741775364, 0.038731094623274676, 0.02130210204280107, 0.24013278666430302, 0.013555883118146136, 0.019365547311637338, 0.17389906743949535, 0.8260205703376028, 0.08900404600955163, 0.05562752875596977, 0.05562752875596977, 0.7899109083347706, 0.0593783818866909, 0.9246062322356154, 0.9463445672583934, 0.9554852470742905, 0.9457357861756929, 0.03915680923992841, 0.9528156915049246, 0.08922283179905367, 0.8922283179905367, 0.9342471717688828, 0.9613033097733593, 0.9736006107401345, 0.41068091827565234, 0.4500014317275765, 0.030582621573718792, 0.10485470253846443, 0.9753156497033705, 0.9528484162871887, 0.028874194432945113, 0.9725452957053551, 0.9262933464910943, 0.16619813599208497, 0.5816934759722974, 0.07386583821870443, 0.17543136576942303, 0.907258975282673, 0.9269975305844562, 0.9610137805792603, 0.9338067885521741, 0.9431930517880422, 0.08183477169056172, 0.859265102750898, 0.08404707021899849, 0.04552549636862418, 0.06361896287410301, 0.08988367231754005, 0.05136209846716574, 0.07937778854016524, 0.06361896287410301, 0.03151765133212443, 0.11089543987228967, 0.023930068604020402, 0.04727647699818665, 0.03968889427008262, 0.03443595238139521, 0.030933991122270275, 0.029183010492707807, 0.03677059322081184, 0.004669281678833249, 0.014591505246353904, 0.012840524616791435, 0.003501961259124937, 0.01926078692518715, 0.009338563357666498, 0.012840524616791435, 0.01517516545620806, 0.024513728813874557, 0.010505883777374811, 0.0029183010492707805, 0.00758758272810403, 0.18132914542022255, 0.8030290725752712, 0.06024342147161512, 0.08877977901080124, 0.5295079676715645, 0.04438988950540062, 0.2758514562121324, 0.3048631317976039, 0.6605367855614751, 0.03472308878980431, 0.0454071161097441, 0.19231249175891618, 0.002671006829984947, 0.13889235515921725, 0.044516780499749116, 0.11307262246936277, 0.08547221855951831, 0.025819732689854488, 0.03739409561978926, 0.016916376589904664, 0.013355034149924736, 0.04362644488975414, 0.03828443122978424, 0.014245369759919718, 0.0151357053699147, 0.029381075129834417, 0.046297451719739084, 0.007122684879959859, 0.04006510244977421, 0.0008903356099949824, 0.007122684879959859, 0.005342013659969894, 0.9672474554639334, 0.9947741424118357, 0.7932492797714057, 0.187495284309605, 0.07945103979967094, 0.9136869576962159, 0.06834272359127472, 0.36876594604458646, 0.055528462917910706, 0.00854284044890934, 0.49548474603674164, 0.0014238067414848899, 0.9944194187261272, 0.9569099676166931, 0.9677897108912724, 0.9567629390577421, 0.23948823407660558, 0.7355710046638599, 0.025659453651064885, 0.990968776611276, 0.9929296205125941, 0.7853081987720316, 0.9444750045189834, 0.9623366695481148, 0.9568737453723796, 0.9140508567518436, 0.7220955849521498, 0.07272905172179925, 0.10389864531685608, 0.036364525860899624, 0.02597466132921402, 0.005194932265842804, 0.02597466132921402, 0.9620643126100186, 0.1682179946401018, 0.014018166220008482, 0.1791210128112195, 0.07632112719782397, 0.04672722073336161, 0.33020569318242204, 0.009345444146672321, 0.003115148048890774, 0.012460592195563096, 0.021806036342235418, 0.02647875841557158, 0.07320597914893319, 0.038939350611134675, 0.08387521186966944, 0.04267335340737568, 0.01618644439590112, 0.03973036351721184, 0.08387521186966944, 0.01912943428606496, 0.02648690901147456, 0.03825886857212992, 0.0220724241762288, 0.00294298989016384, 0.017657939340983038, 0.01324345450573728, 0.01177195956065536, 0.5061942611081804, 0.030901393846720318, 0.02648690901147456, 0.0147149494508192, 0.21050344331335014, 0.04570140545618786, 0.05678053405162734, 0.024928039339738833, 0.22158257190878963, 0.009694237521009546, 0.052625860828337534, 0.10802150380553495, 0.192499859345761, 0.009694237521009546, 0.004154673223289805, 0.04154673223289806, 0.022158257190878963, 0.047413744272467896, 0.12694647660047856, 0.0030589512433850255, 0.09176853730155075, 0.012235804973540102, 0.021412658703695176, 0.1468296596824812, 0.02294213432538769, 0.0367074149206203, 0.35942677109774046, 0.02753056119046523, 0.01682423183861764, 0.007647378108462563, 0.07800325670631815, 0.09740635526493692, 0.01256856196966928, 0.19481271052987384, 0.22937625594646435, 0.12568561969669279, 0.015710702462086598, 0.32049833022656665, 0.9533311730103086, 0.9436254064173336, 0.927548298450411, 0.0377880821465196, 0.034502161959865725, 0.2086559318525213, 0.02053700116658674, 0.06982580396639491, 0.08461244480633738, 0.08543392485300084, 0.0648969236864141, 0.0032859201866538785, 0.06407544363975064, 0.05996804340643328, 0.02793032158655797, 0.039431042239846545, 0.014786640839942454, 0.03203772181987532, 0.002464440139990409, 0.01642960093326939, 0.015608120886605924, 0.008214800466634696, 0.012322200699952044, 0.0188940410732598, 0.02217996125991368, 0.039431042239846545, 0.012322200699952044, 0.0057503603266442875, 0.9060009262778129, 0.9649764042998592, 0.9494563641978375, 0.9623219461195833, 0.946113806813266, 0.9416368297141516, 0.08231700427602856, 0.02224783899352123, 0.020023055094169108, 0.05561959748380308, 0.0022247838993521233, 0.5250490002471011, 0.10234005937019766, 0.020023055094169108, 0.1156887627663104, 0.05117002968509883, 0.990025764844353, 0.9861220667100048, 0.3001504504818462, 0.061795680981556564, 0.635612718667439, 0.07964673597436445, 0.026548911991454816, 0.5044293278376415, 0.06637227997863704, 0.3252241718953215, 0.9735217157943437, 0.9290125088323281, 0.9030446132492951, 0.7639757154827163, 0.8966237905671882, 0.07471864921393236, 0.9688155797938568, 0.27837254858149046, 0.045141494364566014, 0.25580180139920744, 0.40627344928109416, 0.9484258734988905, 0.9313534924395677, 0.028222833104229326, 0.8498884401027157, 0.9198443821540403, 0.9929764670609722, 0.8518187290423664, 0.1368994385960946, 0.9665120770450322, 0.08460221812147846, 0.008460221812147846, 0.8375619594026368, 0.06768177449718277, 0.029969240381992855, 0.13186465768076858, 0.011987696152797142, 0.3236677961255228, 0.04795078461118857, 0.44354475765349427, 0.9766324681798525, 0.9547801496621267, 0.03349216295561058, 0.11908324606439318, 0.5395959587292816, 0.03721351439512287, 0.03349216295561058, 0.03349216295561058, 0.018606757197561434, 0.05209892015317202, 0.03349216295561058, 0.02232810863707372, 0.018606757197561434, 0.03721351439512287, 0.018606757197561434, 0.906933910151186, 0.9767713981624854, 0.8910553734771287, 0.10917272378367032, 0.00574593283071949, 0.09768085812223133, 0.02298373132287796, 0.6492904098713024, 0.11491865661438981, 0.9757711381828689, 0.014465958097006097, 0.8557170597382837, 0.08679574858203658, 0.0011127660074620074, 0.013353192089544089, 0.028931916194012194, 0.07113087429137205, 0.14818932144035843, 0.11855145715228675, 0.0770584471489864, 0.053348155718529036, 0.017782718572843012, 0.1422617485827441, 0.3141613614535599, 0.0474205828609147, 0.1456889527870552, 0.0022186134942191148, 0.11758651519361309, 0.025883824099223005, 0.09096315326298371, 0.13459588531595962, 0.02736289976203575, 0.02366521060500389, 0.048809496872820525, 0.04363273205297592, 0.019967521447972033, 0.025883824099223005, 0.02292567277359752, 0.012572143133908318, 0.011832605302501945, 0.05250718602985238, 0.026623361930629377, 0.03180012675047398, 0.021446597110784775, 0.017009370122346545, 0.03180012675047398, 0.0029581513256254862, 0.025883824099223005, 0.0059163026512509724, 0.02366521060500389, 0.006655840482657344, 0.9841571461063359, 0.9504326032223265, 0.16631680717355007, 0.7603054042219431, 0.04751908776387145, 0.06281357015372162, 0.14169572802118596, 0.15192119292993136, 0.01314702631124406, 0.03213717542748548, 0.35204814900109094, 0.01022546490874538, 0.07303903506246699, 0.01314702631124406, 0.0219117105187401, 0.01606858771374274, 0.07303903506246699, 0.029215614024986798, 0.00876468420749604, 0.9636100906567175, 0.9527314707623613, 0.03918849438473359, 0.0026568470769310908, 0.04450218853859577, 0.2842826372316267, 0.0850191064617949, 0.014612658923120999, 0.03453901200010418, 0.02258320015391427, 0.020590564846215954, 0.07704856523100163, 0.00996317653849159, 0.0053136941538621816, 0.013284235384655453, 0.08369068292332936, 0.004649482384629409, 0.033210588461638636, 0.003985270615396636, 0.03188216492317309, 0.025904259000078134, 0.01926214130775041, 0.031217953153940315, 0.012620023615422681, 0.004649482384629409, 0.01926214130775041, 0.0026568470769310908, 0.027896894307776452, 0.0365316473078025, 0.010627388307724363, 0.9159636641452152, 0.9776204782168143, 0.06437514364553602, 0.07725017237464323, 0.8497518961210755, 0.2206983437906185, 0.05368338092204234, 0.07754266133183893, 0.2206983437906185, 0.07754266133183893, 0.05368338092204234, 0.023859280409796596, 0.26245208450776253, 0.9587168940032809, 0.8582566580427088, 0.9414837931125096, 0.9671645872780906, 0.004467491456909121, 0.5897088723120041, 0.21443958993163784, 0.03127244019836385, 0.07147986331054594, 0.08041484622436419, 0.883596181425713, 0.11401241050654361, 0.9670924521655503, 0.889968510159339, 0.8846004991880525, 0.0787587412105905, 0.09996301769036486, 0.09617653974754801, 0.0030291823542534808, 0.022718867656901107, 0.10450679122174508, 0.061340942673632985, 0.1446434574156037, 0.07572955885633702, 0.03483559707391503, 0.030291823542534808, 0.03483559707391503, 0.025748050011154586, 0.0030291823542534808, 0.015903207359830775, 0.0022718867656901106, 0.023476163245464476, 0.06588471620501321, 0.004543773531380221, 0.005301069119943591, 0.004543773531380221, 0.026505345599717955, 0.013631320594140663, 0.006815660297070331, 0.006815660297070331, 0.007572955885633702, 0.9542649860886974, 0.04247468976096819, 0.010618672440242047, 0.0070791149601613645, 0.12388451180282388, 0.6300412314543614, 0.04955380472112955, 0.024776902360564776, 0.04955380472112955, 0.056632919681290916, 0.0035395574800806823, 0.9252918980425396, 0.9429516875228583, 0.008455786703464785, 0.05919050692425349, 0.09301365373811263, 0.11415312049677459, 0.004227893351732392, 0.025367360110394352, 0.19025520082795763, 0.05919050692425349, 0.19025520082795763, 0.029595253462126745, 0.05919050692425349, 0.1648878407175633, 0.9669622606126875, 0.009849827448920913, 0.029549482346762742, 0.04924913724460457, 0.1378975842848928, 0.0689487921424464, 0.1378975842848928, 0.03939930979568365, 0.47279171754820387, 0.04924913724460457, 0.1659473979534152, 0.12964640465110563, 0.02592928093022113, 0.05185856186044226, 0.005185856186044225, 0.622302742325307, 0.9645359174289768, 0.0950055438782896, 0.06333702925219308, 0.8233813802785099, 0.5829246694855561, 0.39433139406375856, 0.8373513159558955, 0.9658209696937151, 0.011922794162494412, 0.06131722712139984, 0.05620745819461652, 0.07324002128389426, 0.01021953785356664, 0.5007573548247654, 0.04258140772319433, 0.03065861356069992, 0.16691911827492178, 0.011922794162494412, 0.03406512617855546, 0.04460057940387844, 0.9366121674814472, 0.4130148752066225, 0.1388584494229162, 0.024923311434882394, 0.03560473062126056, 0.0071209461242521125, 0.0071209461242521125, 0.3702891984611098, 0.6114703813797474, 0.07379814947686605, 0.15813889173614157, 0.007028395188272958, 0.017570987970682395, 0.024599383158955355, 0.03865617353550127, 0.05622716150618366, 0.014056790376545916, 0.8331119463442176, 0.013223999148320915, 0.06611999574160457, 0.08595599446408594, 0.30304277385934486, 0.6952157753243793, 0.8759655506674549, 0.9690528101945656, 0.805983899523548, 0.05373225996823654, 0.1289574239237677, 0.9777885123472851, 0.8924561331158093, 0.7583090613677924, 0.9528270779568196, 0.9920049025642677, 0.04425117715404696, 0.8850235430809392, 0.23911268111276068, 0.16721166511381866, 0.04347503292959285, 0.006688466604552747, 0.17222801506723323, 0.06688466604552747, 0.01003269990682912, 0.02006539981365824, 0.028425983069349174, 0.021737516464796425, 0.00501634995341456, 0.16888378176495686, 0.026753866418210988, 0.021737516464796425, 0.9848095313142972, 0.019852321625605254, 0.030680860694117212, 0.012633295579930617, 0.010828539068511958, 0.5432317099370165, 0.012633295579930617, 0.2273993204387511, 0.03789988673979185, 0.03429037371695453, 0.014438052091349277, 0.025266591159861233, 0.009023782557093298, 0.019852321625605254, 0.02957162827850191, 0.06216076964664687, 0.06035026179286104, 0.13578808903393735, 0.13578808903393735, 0.04888371205221745, 0.022329596863358586, 0.03017513089643052, 0.028364623042644692, 0.04828020943428884, 0.04828020943428884, 0.017501575919929704, 0.021726094245429976, 0.02655411518885886, 0.021122591627501366, 0.02474360733507303, 0.005431523561357494, 0.03681365969364524, 0.03379614660400219, 0.017501575919929704, 0.0042245183255002735, 0.011466549740643598, 0.021726094245429976, 0.04948721467014606, 0.01327705759442943, 0.006035026179286105, 0.019915586391644143, 0.01508756544821526, 0.0030175130896430524, 0.8477380418913587, 0.1338533750354777, 0.9359039848228453, 0.9692458476434139, 0.921377712960463, 0.921746611631644, 0.9651356408684524, 0.020106992518092757, 0.9679918888350622, 0.949168011280376, 0.11172396778187585, 0.8778311754290246, 0.7680431143702322, 0.056342931170017034, 0.044481261450013444, 0.02668875687000807, 0.017792504580005378, 0.03261959173000986, 0.056342931170017034, 0.9206205842992129, 0.0756890785821808, 0.2132216725912654, 0.06553566560164434, 0.038767576834775525, 0.0378445392910904, 0.029537201397924213, 0.0756890785821808, 0.04430580209688632, 0.01107645052422158, 0.04245972700951606, 0.012922525611591842, 0.10984146769853066, 0.025845051223183684, 0.026768088766868817, 0.004615187718425658, 0.04061365192214579, 0.0036921501747405267, 0.02122986350475803, 0.004615187718425658, 0.029537201397924213, 0.07661211612586592, 0.008307337893166185, 0.013041322102222423, 0.05868594946000091, 0.06520661051111211, 0.07824793261333454, 0.05868594946000091, 0.20214049258444755, 0.05216528840888969, 0.46948759568000725, 0.8953213525074648, 0.9666106589337575, 0.9383207183159603, 0.037371690080618004, 0.045676510098533116, 0.058133740125405786, 0.10796266023289647, 0.026990665058224117, 0.4754509460256402, 0.1993156804299627, 0.008304820017915113, 0.037371690080618004, 0.0020762050044787783, 0.9488381292296628, 0.03594867753625645, 0.9346656159426676, 0.00304716972487273, 0.99337733030851, 0.965279099745926, 0.027264253077715118, 0.01644510503100277, 0.09867063018601661, 0.0004327659218684939, 0.15406466818518386, 0.2648527441835183, 0.0017310636874739757, 0.10905701231086047, 0.011684679890449336, 0.03505403967134801, 0.08785148213930427, 0.0017310636874739757, 0.04846978324927132, 0.004327659218684939, 0.025533189390241143, 0.02293659385903018, 0.08785148213930427, 0.0021638296093424696, 0.9333478753487989, 0.9822659074733857, 0.9559095643683385, 0.9814439643340008, 0.2301929889445162, 0.7673099631483874, 0.11498415666441596, 0.8623811749831197, 0.9517643647287252, 0.09929377982241289, 0.04200890684794391, 0.10502226711985978, 0.08974630099333472, 0.01718546189234069, 0.02482344495560322, 0.06301336027191587, 0.009547478829078162, 0.09356529252496598, 0.08592730946170346, 0.12602672054383174, 0.11266025018312231, 0.007637983063262529, 0.08592730946170346, 0.007637983063262529, 0.028642436487234486, 0.856999213899948, 0.12242845912856401, 0.9341041066105321, 0.25052106919213424, 0.008350702306404474, 0.7348618029635938, 0.004829262998306094, 0.025112167591191687, 0.013521936395257061, 0.19123881473292131, 0.0878925865691709, 0.013521936395257061, 0.06954138717560775, 0.009658525996612188, 0.014487788994918281, 0.35253619887634485, 0.0038634103986448748, 0.04442921958441606, 0.024146314991530467, 0.008692673396950968, 0.04539507218407728, 0.008692673396950968, 0.033804840988142654, 0.047326777383399715, 0.8654483126011489, 0.1219538188523986, 0.8536767319667903, 0.9262752403275437, 0.9324078261952976, 0.0614160843601693, 0.9600811133210143, 0.9621264245177891, 0.03809702040458322, 0.9143284897099974, 0.9514641281684234, 0.04630682050033281, 0.6853409434049256, 0.11113636920079874, 0.148181825601065, 0.9877594965385791, 0.12047326231907309, 0.5797775749105393, 0.13553242010895722, 0.09035494673930482, 0.04517747336965241, 0.015059157789884136, 0.9705021898632437, 0.20606525479455265, 0.7315316545206618, 0.05151631369863816, 0.9634053958741581, 0.02919410290527752, 0.2521049902220059, 0.6302624755550147, 0.10678683213320923, 0.08898902677767437, 0.7653056302879995, 0.017797805355534872, 0.13080777264357088, 0.26161554528714176, 0.5668336814554739, 0.8378648472763696, 0.004433147340086611, 0.03103203138060628, 0.09752924148190545, 0.017732589360346444, 0.013299442020259834, 0.13093946543768434, 0.04364648847922812, 0.016627233706372615, 0.6006588176427108, 0.054038509545711, 0.0727441474653802, 0.022862446346262347, 0.012470425279779462, 0.04572489269252469, 0.9895972002138287, 0.9599162274110629, 0.6565639887814374, 0.21526688156768436, 0.1183967848622264, 0.49117261178086374, 0.013307632338890396, 0.03266418846818552, 0.0774262245171805, 0.04355225129091402, 0.012097847580809451, 0.004839139032323781, 0.02177612564545701, 0.04718160556515686, 0.03508375798434741, 0.03871311225859025, 0.007258708548485671, 0.1016219196787994, 0.007258708548485671, 0.03508375798434741, 0.012097847580809451, 0.009678278064647562, 0.007258708548485671, 0.8448719083135978, 0.9884349920900063, 0.9597969547718629, 0.1385287435361027, 0.08831207400426547, 0.07965402753325905, 0.0008658046471006418, 0.0034632185884025672, 0.26839944060119897, 0.054545692767340434, 0.017316092942012837, 0.059740520649944284, 0.012121265059408986, 0.015584483647811552, 0.02337672547171733, 0.034632185884025675, 0.09350690188686932, 0.01818189758911348, 0.015584483647811552, 0.005194827882603851, 0.008658046471006419, 0.0069264371768051345, 0.012987069706509627, 0.03290057658982439, 0.00952385111810706, 0.9791746630708746, 0.97723452776771, 0.017767900504867453, 0.933325263615996, 0.2152791565419975, 0.7838369289477858, 0.9654998202045103, 0.07857174220989109, 0.03741511533804338, 0.03367360380423903, 0.1197283690817388, 0.06360569607467373, 0.10476232294652145, 0.007483023067608675, 0.5238116147326072, 0.0299320922704347, 0.08779736020942956, 0.024259796899973957, 0.4228136031138318, 0.11090192868559523, 0.017328426357124255, 0.03234639586663194, 0.008086598966657985, 0.010397055814274553, 0.03812253798567336, 0.005776142119041418, 0.024259796899973957, 0.015017969509507687, 0.03465685271424851, 0.008086598966657985, 0.011552284238082836, 0.058916649614222466, 0.023104568476165672, 0.030035939019015374, 0.02194934005235739, 0.00924182739046627, 0.003465685271424851, 0.003465685271424851, 0.04704366709303644, 0.4533298828965329, 0.034213576067662864, 0.12402421324527788, 0.3164755786258815, 0.021383485042289287, 0.9388793364502827, 0.9735635276746158, 0.03185991832562437, 0.03982489790703046, 0.9239376314431067, 0.9669044381361453, 0.1483061839113323, 0.026483247127023622, 0.26483247127023624, 0.01059329885080945, 0.365468810352926, 0.17478943103835592, 0.05248400174625524, 0.08997257442215184, 0.08997257442215184, 0.7572691680531114, 0.9219436489615652, 0.9507720465952187, 0.9498690812581296, 0.9846127096105115, 0.030714276847344263, 0.12285710738937705, 0.015357138423672131, 0.706428367488918, 0.10749996896570492, 0.9820187391018252, 0.042016663076111856, 0.9159632550592385, 0.025209997845667114, 0.035169483579110566, 0.05275422536866585, 0.5319384391340473, 0.13628174886905345, 0.06154659626344349, 0.18463978879033047, 0.94434722401204, 0.18775385876508074, 0.7197231252661429, 0.07823077448545031, 0.8467459566958144, 0.9969403224988183, 0.977953146433832, 0.014381663918144588, 0.9608167594935808, 0.06716273076224571, 0.8731154999091943, 0.047081693121914674, 0.9416338624382935, 0.9591429543110861, 0.9519874681828084, 0.9190254943489234, 0.008958787788209811, 0.5367807016435712, 0.007465656490174843, 0.038821413748909184, 0.01045191908624478, 0.32475605732260565, 0.013438181682314717, 0.02314353511954201, 0.007465656490174843, 0.01567787862936717, 0.007465656490174843, 0.0044793938941049055, 0.9255564727881074, 0.19442677046160786, 0.010509555160086913, 0.09458599644078221, 0.21019110320173826, 0.42563698398351996, 0.026273887900217282, 0.03678344306030419, 0.4955830413282332, 0.020265477526433328, 0.06632338099559998, 0.22660488506829993, 0.0036846322775333324, 0.007369264555066665, 0.005526948416299998, 0.1197505490198333, 0.05158485188546665, 0.9860317724183015, 0.9716059193180292, 0.08895900588667388, 0.01649570970084019, 0.012960914764945864, 0.051843659059783456, 0.007069589871788653, 0.02120876961536596, 0.0017673974679471632, 0.0671611037819922, 0.34582077122832827, 0.2008941788566609, 0.0005891324893157211, 0.06775023627130793, 0.00530219240384149, 0.04536320167731052, 0.008836987339735815, 0.007658722361104374, 0.0035347949358943264, 0.008836987339735815, 0.0017673974679471632, 0.02886749197647033, 0.002945662446578605, 0.0035347949358943264, 0.5404095275055252, 0.04147612626453241, 0.01097897459943505, 0.023177835265473994, 0.036596581998116835, 0.07075339186302587, 0.035376695931512936, 0.01951817706566231, 0.029277265598493467, 0.06953350579642198, 0.029277265598493467, 0.029277265598493467, 0.01341874673264284, 0.0012198860666038944, 0.0048795442664155775, 0.02683749346528568, 0.017078404932454522, 0.9403415698722878, 0.9260723781176707, 0.06614802700840505, 0.10343618425787615, 0.8792075661919473, 0.08146166905121653, 0.03103301678141582, 0.4848908872096222, 0.0038791270976769776, 0.011637381293030933, 0.3840335826700208, 0.049310120034110484, 0.03287341335607366, 0.03013396224306752, 0.09862024006822097, 0.4081782158379146, 0.010957804452024553, 0.1287542023112885, 0.0356128644690798, 0.021915608904049106, 0.0027394511130061383, 0.03287341335607366, 0.008218353339018415, 0.024655060017055242, 0.05478902226012276, 0.0575284733731289, 0.007203785383510832, 0.138312679363408, 0.08644542460212999, 0.08356391044872566, 0.07059709675840616, 0.015848327843723833, 0.04466346937776716, 0.077800882141917, 0.005763028306808666, 0.05042649768457583, 0.014407570767021665, 0.21323204735192064, 0.1411941935168123, 0.008644542460213, 0.04466346937776716, 0.9773066804360164, 0.9579775842324925, 0.2328032627490518, 0.0152657877212493, 0.07251249167593417, 0.5953657211287227, 0.08396183246687114, 0.9844178828135814, 0.0116938077179704, 0.9822798483095136, 0.060422602904038086, 0.1359508565340857, 0.7854938377524951, 0.9857505655459612, 0.21796831905132366, 0.019980429246371334, 0.012714818611327214, 0.3669133370697282, 0.03996085849274267, 0.019980429246371334, 0.07083970369168019, 0.023613234563893398, 0.027246039881415458, 0.09263653559681255, 0.019980429246371334, 0.010898415952566182, 0.05267567710406988, 0.003632805317522061, 0.019980429246371334, 0.9478144124515421, 0.973709350609246, 0.9568589089132032, 0.04349358676878197, 0.990534420959796, 0.09191476550480933, 0.07148926205929615, 0.827232889543284, 0.7433405149392104, 0.061231466502669904, 0.2059603873271624, 0.17812790255322153, 0.005566496954788173, 0.11689643605055162, 0.15029541777928068, 0.02226598781915269, 0.03339898172872904, 0.2226598781915269, 0.9782357774893934, 0.9773939799449924, 0.09385513085637169, 0.07764379007208931, 0.0008532284623306517, 0.06484536313712953, 0.046927565428185845, 0.046927565428185845, 0.18429734786342078, 0.0008532284623306517, 0.0025596853869919553, 0.04351465157886324, 0.0989745016303556, 0.016211340784282383, 0.017917797708943688, 0.022183940020596944, 0.013651655397290427, 0.026450082332250203, 0.009385513085637169, 0.023037168482927597, 0.17405860631545295, 0.032422681568564767, 0.0025596853869919553, 0.972566021139411, 0.9190333443880244, 0.033419394341382705, 0.016709697170691352, 0.052873781567914654, 0.908467701485079, 0.03364695190685478, 0.9894869246196364, 0.9662873014422859, 0.6967010298870783, 0.1303505152691953, 0.16630927810207677, 0.027121082985520063, 0.16078927769986892, 0.04261884469153152, 0.1181704330083374, 0.044556064904782956, 0.07361436810355446, 0.001937220213251433, 0.034869963838525794, 0.030995523412022927, 0.3235157756129893, 0.02130942234576576, 0.04649328511803439, 0.01937220213251433, 0.017434981919262897, 0.011623321279508598, 0.023246642559017195, 0.03798535985720912, 0.21736067029402997, 0.030599317662751792, 0.16143777939313878, 0.09390825075810033, 0.027433871007984365, 0.010551488849224756, 0.0949633996430228, 0.029544168777829317, 0.017937531043682085, 0.05486774201596873, 0.027433871007984365, 0.021102977698449512, 0.007386042194457329, 0.006330893309534853, 0.020047828813527038, 0.021102977698449512, 0.010551488849224756, 0.025323573238139413, 0.01688238215875961, 0.014772084388914659, 0.017937531043682085, 0.03376476431751922, 0.9405971656434395, 0.24396457687533185, 0.49464377513255353, 0.11191035636483111, 0.015667449891076355, 0.0604315924370088, 0.020143864145669602, 0.011191035636483111, 0.04252593541863583, 0.9067358398671999, 0.936251728697286, 0.9823722070344808, 0.1771342999968516, 0.003850745652105469, 0.03337312898491407, 0.016686564492457034, 0.15274624420018362, 0.12450744275141017, 0.015402982608421876, 0.0012835818840351565, 0.008985073188246095, 0.2028059376775547, 0.1026865507228125, 0.012835818840351563, 0.0012835818840351565, 0.010268655072281252, 0.007701491304210938, 0.03337312898491407, 0.012835818840351563, 0.012835818840351563, 0.046208947825265634, 0.011552236956316408, 0.011552236956316408, 0.9771257618085025, 0.9626785441304504, 0.04694442973590158, 0.038660118606036596, 0.6351305199563154, 0.01656862225972997, 0.2623365191123912, 0.986632277433056, 0.011083456634999003, 0.059573579413119644, 0.4544217220349591, 0.006927160396874377, 0.031864937825622136, 0.013854320793748754, 0.0845113568418674, 0.3269619707324706, 0.008312592476249252, 0.9665324354649447, 0.9420796366833099, 0.9611698764706122, 0.06361763854691872, 0.10178822167506996, 0.8143057734005597, 0.9223323809993019, 0.13444272279107858, 0.03002119052616318, 0.057431842745703475, 0.04176861290596617, 0.17099025908379897, 0.04960022782583482, 0.003915807459934328, 0.03524226713940895, 0.014357960686425869, 0.05482130443908059, 0.03263172883278607, 0.09528464819173531, 0.009136884073180099, 0.1161689546447184, 0.023494844759605966, 0.007831614919868656, 0.02480011391291741, 0.043073882059277604, 0.005221076613245771, 0.045684420365900494, 0.9771708468448891, 0.7944220186074948, 0.11084958399174347, 0.09237465332645288, 0.01909302744293617, 0.09546513721468085, 0.053460476840221274, 0.1909302744293617, 0.053460476840221274, 0.5842466397538468, 0.97596801458472, 0.8178218489281275, 0.17983517096848878, 0.9521793982914591, 0.9507801045278963, 0.14386587413976604, 0.8015384416358394, 0.020552267734252293, 0.9903102299307752, 0.00593000137683099, 0.02221756479758119, 0.9553552862959912, 0.9676713543803217, 0.8954918577099451, 0.09782684159856543, 0.1728554437032648, 0.6914217748130592, 0.12099881059228537, 0.05023998701132049, 0.18421328570817516, 0.13397329869685465, 0.003721480519357074, 0.05023998701132049, 0.01860740259678537, 0.01674666233710683, 0.18421328570817516, 0.24561771427756687, 0.02977184415485659, 0.014885922077428296, 0.01860740259678537, 0.02418962337582098, 0.001860740259678537, 0.022328883116142444, 0.045046732319619136, 0.03861148484538783, 0.045046732319619136, 0.231668909072327, 0.15444593938155132, 0.4826435605673479, 0.028653354648674273, 0.0176328336299534, 0.8427025072315228, 0.015428729426209223, 0.009551118216224758, 0.043347382673635436, 0.002938805604992233, 0.008081715413728641, 0.018367535031201455, 0.01248992382121699, 0.7031960313319069, 0.12380211819223712, 0.05942501673227382, 0.10894586400916867, 0.08495706873031478, 0.04466814953861911, 0.035033842775387534, 0.04204061133046504, 0.07532276196708321, 0.06656430127323631, 0.16203152283616737, 0.07795030017523727, 0.03328215063661816, 0.0455439956080038, 0.07181937768954445, 0.0035033842775387537, 0.040288919191695666, 0.013137691040770326, 0.009634306763231572, 0.02189615173461721, 0.0017516921387693769, 0.03678553491415691, 0.018392767457078456, 0.059557532718158814, 0.007882614624462195, 0.03240630456723347, 0.009634306763231572, 0.0017516921387693769, 0.00525507641630813, 0.03149785623605701, 0.9638344008233445, 0.888088428740036, 0.02544336369470041, 0.019789282873655875, 0.016962242463133607, 0.016962242463133607, 0.9187881334197371, 0.06296354176259711, 0.6639791676782968, 0.2690260420765513, 0.09441361168284634, 0.032771666865120216, 0.11860222294043508, 0.017166111215062972, 0.07412638933777192, 0.18492583445317837, 0.007802777825028624, 0.03979416690764598, 0.11860222294043508, 0.015605555650057248, 0.03043083351761163, 0.003901388912514312, 0.03823361134264026, 0.028870277952605907, 0.004681666695017174, 0.04213500025515457, 0.016385833432560108, 0.028090000170103043, 0.01326472230254866, 0.03199138908261736, 0.005461944477520036, 0.007802777825028624, 0.021067500127577285, 0.018726666780068697, 0.005461944477520036, 0.4819592254499995, 0.07381357506891884, 0.034735800032432394, 0.30393825028378346, 0.05644567505270264, 0.04341975004054049, 0.3808133821306732, 0.4956956314885299, 0.017019592497460254, 0.10424500404694405, 0.17238482276211559, 0.013902001835654482, 0.5755428759960955, 0.019462802569916275, 0.03058440403843986, 0.033364804405570755, 0.11121601468523586, 0.013902001835654482, 0.027804003671308964, 0.9829359959471697, 0.20160249969256955, 0.7776096416713396, 0.8316930818838527, 0.009451057748680144, 0.14176586623020215, 0.0208313451371874, 0.031247017705781106, 0.9374105311734331, 0.16454853977847675, 0.7030710335989461, 0.11967166529343763, 0.923527211715591, 0.8669735761831496, 0.031923445634650854, 0.028563082936266557, 0.008400906745960751, 0.04368471507899591, 0.020162176190305806, 0.9690308141518477, 0.9614744723510636, 0.2837719400623759, 0.0410722544827123, 0.0196026669122036, 0.035471492507796985, 0.08121104863627206, 0.09427949324440778, 0.13255136673966242, 0.02053612724135615, 0.010268063620678076, 0.013068444608135733, 0.009334603291525523, 0.045739556128475065, 0.0588080007366108, 0.0009334603291525523, 0.004667301645762761, 0.025203428887118913, 0.0056007619749153135, 0.030804190862034227, 0.0037338413166102093, 0.0028003809874576568, 0.0802775883071195, 0.043230941350517235, 0.06916950616082758, 0.8819112035505516, 0.004095471128342576, 0.06962300918182379, 0.02047735564171288, 0.02866829789839803, 0.05733659579679606, 0.06962300918182379, 0.11467319159359211, 0.28258750785563774, 0.31535127688237835, 0.008190942256685152, 0.02866829789839803, 0.05826299367866822, 0.08568087305686503, 0.021420218264216258, 0.017136174611373005, 0.09082172544027693, 0.11652598735733644, 0.09253534290141423, 0.005140852383411902, 0.021420218264216258, 0.03855639287558926, 0.06254703733151147, 0.05911980240923687, 0.010281704766823803, 0.04112681906729521, 0.03084511430047141, 0.03941320160615791, 0.015422557150235706, 0.007711278575117853, 0.0008568087305686503, 0.012852130958529754, 0.008568087305686502, 0.020563409533647607, 0.04198362779786386, 0.007711278575117853, 0.010281704766823803, 0.0034272349222746012, 0.015422557150235706, 0.04712448018127577, 0.009424896036255154, 0.0068544698445492025, 0.056973427429178894, 0.08000523851757035, 0.06303443034717665, 0.10667365135676048, 0.06424663093077619, 0.03879041867518563, 0.12243225894355464, 0.010909805252395958, 0.04727582276038249, 0.05091242451118114, 0.02909281400638922, 0.020607409921192366, 0.001212200583599551, 0.02666841283919012, 0.016970808170393713, 0.0618222297635771, 0.037578218091586076, 0.06909543326517441, 0.004848802334398204, 0.01333420641959506, 0.019395209337592815, 0.0036366017507986526, 0.010909805252395958, 0.007273203501597305, 0.01454640700319461, 0.02545621225559057, 0.38403665886466315, 0.21746654176673696, 0.03238863388015231, 0.027761686182987695, 0.004626947697164616, 0.3285132864986878, 0.03902906781400145, 0.026948642062048618, 0.06876550043419302, 0.053897284124097236, 0.02973643262019158, 0.05575581116285921, 0.0037170540775239473, 0.14310658198467197, 0.0055755811162859215, 0.34103971161282215, 0.0641191828372881, 0.0037170540775239473, 0.0055755811162859215, 0.03159495965895355, 0.026948642062048618, 0.10128972361252757, 0.9657565492420044, 0.04798557026059693, 0.05363093146772598, 0.005645361207129051, 0.10161650172832291, 0.06209897327841956, 0.022581444828516203, 0.4346928129489369, 0.06492165388198408, 0.03104948663920978, 0.05363093146772598, 0.05363093146772598, 0.019758764224951677, 0.014113403017822627, 0.019758764224951677, 0.011290722414258101, 0.9358963698563985, 0.08849504838101441, 0.0828763151504738, 0.02739132449888541, 0.0414381575752369, 0.005618733230540597, 0.012642149768716344, 0.020367907960709666, 0.29779286121865167, 0.12080276445662284, 0.0028093666152702985, 0.07093650703557504, 0.011939808114898769, 0.01826088299925694, 0.004916391576723023, 0.03862879095996661, 0.016856199691621793, 0.003511708269087873, 0.08147163184283866, 0.003511708269087873, 0.02107024961452724, 0.025986641191250263, 0.0028093666152702985, 0.9688172462013115, 0.008334881336374835, 0.1708650673956841, 0.04167440668187417, 0.037506966013686756, 0.020837203340937086, 0.050009288018249005, 0.6084463375553629, 0.06251161002281125, 0.05231004172448167, 0.047079037552033506, 0.08683466926263958, 0.11298969012488042, 0.10148148094549445, 0.2374875894291468, 0.11194348929039077, 0.032432225869178634, 0.0020924016689792668, 0.023016418358771936, 0.03557082837264754, 0.026155020862240835, 0.014646811682854869, 0.010462008344896334, 0.015693012517344503, 0.02406261919326157, 0.01778541418632377, 0.0125544100138756, 0.028247422531220104, 0.0062772050069378, 0.1594085021157744, 0.8045147841155489, 0.007472273536676925, 0.01494454707335385, 0.012453789227794875, 0.08449483964735581, 0.020278761515365396, 0.20278761515365396, 0.047317110202519254, 0.5745649096020196, 0.06421607813199041, 0.9509620371288424, 0.9728230802500911, 0.7575099022034053, 0.08608067070493243, 0.13772907312789187, 0.9894794169893683, 0.15710877428749853, 0.05455165773871477, 0.27930448762221965, 0.384043670480552, 0.019638596785937316, 0.08946471869149222, 0.015274464166840135, 0.05298595259862147, 0.08830992099770245, 0.830113257378403, 0.12093093006624141, 0.08742979403437723, 0.0065368070306076435, 0.09233239930733297, 0.14707815818867198, 0.048208951850731374, 0.012256513182389331, 0.03758664042599395, 0.004902605272955733, 0.0808929870037696, 0.013890714940041243, 0.03595243866834204, 0.017159118455345065, 0.058831263275468795, 0.013073614061215287, 0.026964329001256532, 0.06700227206372834, 0.031866934274212264, 0.004085504394129778, 0.030232732516560352, 0.007353907909433599, 0.031866934274212264, 0.0016342017576519109, 0.007353907909433599, 0.004085504394129778, 0.010622311424737421, 0.9473609925929543, 0.9392539140783612, 0.08610788639587606, 0.1603970432864358, 0.01013033957598542, 0.06078203745591251, 0.17052738286242122, 0.052340087809258, 0.008441949646654515, 0.20260679151970837, 0.030391018727956257, 0.030391018727956257, 0.018572289222639937, 0.01688389929330903, 0.011818729505316322, 0.008441949646654515, 0.035456188515948964, 0.04727491802126529, 0.01688389929330903, 0.018572289222639937, 0.015195509363978128, 0.961429203526597, 0.9601703620585216, 0.9894129941971337, 0.07251677592349001, 0.016618427815799794, 0.03021532330145417, 0.8505613509359349, 0.015107661650727085, 0.0015107661650727085, 0.007553830825363542, 0.004532298495218126, 0.9072589756293093, 0.9962527635657231, 0.5441891601719809, 0.0774838870443549, 0.009009754307483128, 0.04865267326040889, 0.0846916904903414, 0.005405852584489877, 0.09370144479782454, 0.02522731206095276, 0.10811705168979754, 0.04990957291715571, 0.5905966128530092, 0.045372339015596105, 0.018905141256498375, 0.03856648816325669, 0.006805850852339416, 0.013611701704678831, 0.020417552557018246, 0.05217818986793552, 0.08998847238093227, 0.018148935606238443, 0.020417552557018246, 0.003781028251299675, 0.004537233901559611, 0.027979609059617598, 0.9765068961859366, 0.9775381718704302, 0.07183061487042437, 0.09132749604953956, 0.023601487743139436, 0.01231381969207275, 0.06669985666539406, 0.06875215994740619, 0.07490906979344256, 0.023601487743139436, 0.18470729538109126, 0.06669985666539406, 0.03694145907621825, 0.016418426256097, 0.10569361902362444, 0.007183061487042438, 0.014366122974084876, 0.022575336102133376, 0.014366122974084876, 0.009235364769054562, 0.0246276393841455, 0.025653791025151564, 0.014366122974084876, 0.006156909846036375, 0.0010261516410060626, 0.013339971333078812, 0.00410460656402425, 0.9845604856150589, 0.03184397584481713, 0.19106385506890278, 0.010614658614939043, 0.0965933933959453, 0.057319156520670836, 0.026536646537347608, 0.053073293074695216, 0.049888895490213504, 0.013799056199420756, 0.04245863445975617, 0.049888895490213504, 0.0042458634459756174, 0.026536646537347608, 0.144359357163171, 0.028659578260335418, 0.01910638550689028, 0.057319156520670836, 0.005307329307469522, 0.015921987922408565, 0.013799056199420756, 0.006368795168963427, 0.00955319275344514, 0.011676124476432948, 0.0021229317229878087, 0.015921987922408565, 0.0031843975844817133, 0.006368795168963427, 0.005307329307469522, 0.23692467596861888, 0.030057608145272544, 0.08486854064547542, 0.2104032570169078, 0.03712998653239549, 0.02475332435493033, 0.1361432839521168, 0.001768094596780738, 0.22631610838793445, 0.010608567580684427, 0.10265909162161202, 0.2645445822556925, 0.02763898620581862, 0.24875087585236758, 0.05132954581080601, 0.14214335762992433, 0.15793706403324925, 0.9061036495481486, 0.2403706193520346, 0.0709093327088502, 0.015624090257882249, 0.0036055592902805187, 0.0036055592902805187, 0.027642621225483978, 0.001201853096760173, 0.16225016806262335, 0.010816677870841557, 0.05167968316068744, 0.009614824774081383, 0.004807412387040692, 0.2596002689001974, 0.07211118580561038, 0.030046327419004325, 0.013220384064361903, 0.02403706193520346, 0.06030873621200477, 0.05103046910246557, 0.5103046910246557, 0.07422613687631356, 0.04639133554769598, 0.1762870750812447, 0.05566960265723517, 0.027834801328617584, 0.9763271036421447, 0.44098462155201323, 0.5547871045331779, 0.03511854476406728, 0.009511272540268222, 0.03146036301781027, 0.011950060371106228, 0.004633696878592211, 0.005365333227843612, 0.005853090794011214, 0.8108969537536368, 0.002682666613921806, 0.0014632726985028034, 0.007072484709430216, 0.007072484709430216, 0.008291878624849218, 0.008535757407933019, 0.004145939312424609, 0.005853090794011214, 0.0009755151323352022, 0.007316363492514017, 0.00024387878308380055, 0.007316363492514017, 0.002194909047754205, 0.010242908889519623, 0.002926545397005607, 0.009267393757184422, 0.990105252111135, 0.9760648803454518, 0.9528644959941046, 0.18157356189329985, 0.7868187682042993, 0.0923816051906191, 0.12933424726686674, 0.01175765884244243, 0.021835652135964514, 0.0604679597611325, 0.04367130427192903, 0.07894428079925632, 0.08230361189709702, 0.1562088960495923, 0.1562088960495923, 0.028554314331645902, 0.006718662195681389, 0.01847632103812382, 0.11085792622874292, 0.9740193116725028, 0.12116578720024297, 0.04157649560792651, 0.04870389485499963, 0.10097148933353582, 0.09028039046292614, 0.06533449309817023, 0.017818498117682793, 0.20313087854158382, 0.016630598243170605, 0.08315299121585303, 0.08434089109036522, 0.06295869334914586, 0.007127399247073117, 0.03920069585890214, 0.016630598243170605, 0.9104134912015865, 0.926022682822976, 0.02806129341887806, 0.04409631822966552, 0.9698544544919442, 0.9334255491624321, 0.020608257783808266, 0.057703121794663144, 0.9191282971578486, 0.8377806827377985, 0.021812041444061025, 0.02379495430261203, 0.03965825717102005, 0.011897477151306015, 0.00892310786347951, 0.003965825717102005, 0.009914564292755012, 0.02379495430261203, 0.00793165143420401, 0.010906020722030512, 0.9461358335548892, 0.027827524516320267, 0.027827524516320267, 0.019733936089324503, 0.15787148871459603, 0.8288253157516291, 0.23808005589125095, 0.7406935072172252, 0.9808158542557498, 0.9684478282581217, 0.9017205134354777, 0.9099866198662752, 0.05055481221479306, 0.9743967917892513, 0.005976213433968594, 0.10757184181143468, 0.011952426867937188, 0.3346679523022412, 0.31673931200033545, 0.04780970747174875, 0.1733101895850892, 0.9501464245181904, 0.9623908434421138, 0.9367372817159821, 0.9879143218707183, 0.07962084217584227, 0.14862557206157223, 0.19462872531872555, 0.017693520483520506, 0.07785149012749022, 0.10969982699782713, 0.03538704096704101, 0.08227487024837034, 0.0017693520483520503, 0.026540280725280755, 0.12120061531211546, 0.02034754855604858, 0.025655604701104732, 0.014154816386816402, 0.017693520483520506, 0.007962084217584226, 0.010616112290112303, 0.007962084217584226, 0.0008846760241760252, 0.01855621888620757, 0.13917164164655677, 0.01855621888620757, 0.03711243777241514, 0.5497279845038993, 0.1252544774819011, 0.01855621888620757, 0.03943196513319108, 0.05102960193707082, 0.8363103803821929, 0.9235984907620588, 0.032985660384359246, 0.22219315366836584, 0.6927198320249053, 0.06535092754951936, 0.4391443386256339, 0.03659536155213616, 0.01829768077606808, 0.09148840388034041, 0.3842512962974297, 0.9495687481542368, 0.9773992091325756, 0.10001983696568931, 0.4375867867248907, 0.46259174596631303, 0.9688698116713585, 0.9806356952619755, 0.06748045668641005, 0.6332781319801558, 0.15831953299503895, 0.08824367412838237, 0.038931032703698104, 0.01038160872098616, 0.9477571070147436, 0.0692593123284533, 0.0877284622827075, 0.10465851640744053, 0.05540744986276264, 0.049251066544677896, 0.04155558739707198, 0.0692593123284533, 0.05848564152180501, 0.06618112066941093, 0.032321012419944874, 0.05079016237419908, 0.024625533272338948, 0.023086437442817763, 0.026164629101860133, 0.04463377905611435, 0.015390958295211843, 0.12158857053217356, 0.009234574977127106, 0.012312766636169474, 0.02770372493138132, 0.012312766636169474, 0.9784374720904935, 0.9234291795419325, 0.04554101189903597, 0.9108202379807193, 0.9901806117767218, 0.975286974459016, 0.9522418916378477, 0.9912323143958611, 0.8076082171883638, 0.16152164343767278, 0.5231930955341801, 0.23061132560438619, 0.022857950775765152, 0.00304772677010202, 0.00406363569346936, 0.00304772677010202, 0.07924089602265252, 0.02184204185239781, 0.00203181784673468, 0.00304772677010202, 0.014222724927142761, 0.06908180678897913, 0.00203181784673468, 0.007619316925255051, 0.0071113624635713805, 0.00660340800188771, 0.9525327251363255, 0.9901100414660674, 0.09136653246757355, 0.018273306493514708, 0.877118711688706, 0.5907875097854226, 0.25652615556472297, 0.10882927811836732, 0.03886759932798833, 0.8482818075684844, 0.1316299356571786, 0.9613588010046218, 0.9439754365386794, 0.8714761250913623, 0.10563346970804391, 0.11563554171699883, 0.019742653463877848, 0.06486871852417007, 0.016922274397609585, 0.05358720225909702, 0.7079151456333344, 0.019742653463877848, 0.029135568815989683, 0.11654227526395873, 0.8157959268477112, 0.8233023591165506, 0.15614355086693202, 0.2518437046953308, 0.06317435304221856, 0.04097795873008772, 0.048661325991979164, 0.15025251534365497, 0.022196394312130847, 0.05634469325387061, 0.027318639153391812, 0.019635271891500366, 0.060613230621588084, 0.02475751673276133, 0.03158717652110928, 0.01622044199732639, 0.015366734523782894, 0.015366734523782894, 0.0025611224206304826, 0.05036874093906615, 0.011951904629608918, 0.09049299219561038, 0.020388032305917483, 0.03634388367576595, 0.10371303390401503, 0.19147021643818157, 0.017728723744276073, 0.010637234246565644, 0.04432180936069018, 0.02216090468034509, 0.025706649429200305, 0.046981117922331596, 0.049640426483973, 0.03279813892691073, 0.005318617123282822, 0.046981117922331596, 0.035457447488552146, 0.015955851369848464, 0.24199707910936838, 0.023047340867558896, 0.0017728723744276072, 0.0035457447488552144, 0.004432180936069018, 0.017728723744276073, 0.9231723774433098, 0.9607193476115171, 0.8830857672998137, 0.5071876161833108, 0.4407701902545439, 0.04830358249364865, 0.9823256059282631, 0.9322182374404265, 0.9397887474179862, 0.9441859293669309, 0.11843219958301075, 0.12435380956216129, 0.07698092972895698, 0.059216099791505376, 0.0473728798332043, 0.4441207484362903, 0.035529659874903224, 0.041451269854053764, 0.005921609979150537, 0.0473728798332043, 0.4803991029031132, 0.08647183852256038, 0.009607982058062264, 0.04803991029031132, 0.29784744379993017, 0.06725587440643585, 0.8249960264396468, 0.15714210027421843, 0.959721729520495, 0.2720892569020207, 0.03981794003444205, 0.05972691005166308, 0.6238143938729255, 0.06652918539756851, 0.9092322004334363, 0.8533306326712969, 0.12590124088592905, 0.9812773038998234, 0.007977864259348157, 0.10930295573775362, 0.010525469811783683, 0.1829812444202394, 0.08663271306621953, 0.0833941069702861, 0.038053621627217926, 0.12306703164547074, 0.026718500291450883, 0.03157640943535105, 0.007286863715850241, 0.05019839448696833, 0.06720107649061889, 0.016193030479667202, 0.007286863715850241, 0.028337803339417607, 0.04048257619916801, 0.010525469811783683, 0.0032386060959334407, 0.011335121335767043, 0.005667560667883521, 0.0048579091439001605, 0.05019839448696833, 0.0048579091439001605, 0.044181946678697494, 0.949911853591996, 0.925695271780768, 0.9801013464996547, 0.9007324276207893, 0.9008155575769174, 0.05123954423071397, 0.8271526425815254, 0.10979902335152993, 0.9658415599992162, 0.015284796929245165, 0.9782270034716906, 0.1492961650682735, 0.8211289078755042, 0.9592537167734981, 0.06640255282341892, 0.9296357395278649, 0.10260210499950191, 0.8892182433290166, 0.9824855823602787, 0.013638415856782245, 0.42688241631728424, 0.14593104966757003, 0.0013638415856782244, 0.20321239626605545, 0.2018485546803772, 0.0068192079283911225, 0.015524553397310036, 0.822801330057432, 0.13972098057579033, 0.015524553397310036, 0.8691113487836258, 0.05173281837997773, 0.06207938205597327, 0.9774161795975003, 0.1019550711259111, 0.02073662463577853, 0.005184156158944632, 0.12441974781467117, 0.032832989006649334, 0.044929353377520145, 0.03456104105963088, 0.04147324927155706, 0.06220987390733559, 0.012096364370870808, 0.01728052052981544, 0.02592078079472316, 0.005184156158944632, 0.03801714516559397, 0.015552468476833897, 0.010368312317889265, 0.00864026026490772, 0.3801714516559397, 0.01728052052981544, 0.9501603621157897, 0.05000844011135735, 0.03496077902303376, 0.02796862321842701, 0.045449012729943894, 0.4789626726155625, 0.020976467413820258, 0.18179605091977558, 0.06642548014376415, 0.020976467413820258, 0.024472545316123633, 0.045449012729943894, 0.02796862321842701, 0.024472545316123633, 0.9393348095530674, 0.975139836936248, 0.05270895509034052, 0.8960522365357888, 0.9440360631068775, 0.165074778127622, 0.780353496603304, 0.030013596023203998, 0.11131523604157233, 0.10476728098030336, 0.7792066522910063, 0.052621152846967896, 0.1946982655337812, 0.13681499740211653, 0.08419384455514863, 0.11576653626332936, 0.026310576423483948, 0.3472996087899881, 0.031572691708180736, 0.0771934105643088, 0.044690921905652464, 0.14219838788162148, 0.06094216623498063, 0.028439677576324294, 0.024376866493992254, 0.06500497731731267, 0.06094216623498063, 0.10563308814063309, 0.20720336519893415, 0.1747008765402778, 0.22380365766717986, 0.15259340295489537, 0.10172893530326357, 0.13224761589424264, 0.3662241670917489, 0.9594306192581367, 0.7808798186894349, 0.8835214847818081, 0.1522582610811688, 0.8410456326388371, 0.9410657389928434, 0.9143189097529584, 0.06039286043626336, 0.7624598630078249, 0.17362947375425716, 0.2052969621120368, 0.14245095330222962, 0.3896452546208045, 0.012569201761961437, 0.02304353656359597, 0.22834049867563277, 0.4382431555665124, 0.009206788982489757, 0.009206788982489757, 0.03682715592995903, 0.5045320362404386, 0.9303430417756907, 0.06202286945171271, 0.9542607247598405, 0.9912606726495399, 0.033370516960093105, 0.12792031501369022, 0.16685258480046553, 0.02502788772006983, 0.3086772818808612, 0.1390438206670546, 0.016685258480046553, 0.019466134893387645, 0.15850995556044226, 0.21475863293565323, 0.35359249665163106, 0.19523512085059383, 0.1453417010776643, 0.013015674723372922, 0.07809404834023753, 0.9946612326020761, 0.900978391180589, 0.055705006367106576, 0.021020757119662857, 0.010510378559831429, 0.02837802211154486, 0.0031531135679494287, 0.01891868140769657, 0.8177074519548851, 0.022071794975646, 0.014714529983764001, 0.007357264991882001, 0.0786760220148906, 0.06228518409512172, 0.03278167583953775, 0.0262253406716302, 0.06228518409512172, 0.04261617859139907, 0.6294081761191248, 0.00655633516790755, 0.022947173087676426, 0.03278167583953775, 0.9105498536886071, 0.9636708937645949, 0.943738733997645, 0.8522686486839174, 0.08522686486839175, 0.9305522890618708, 0.9118622424929701, 0.042782576596520044, 0.09167694984968582, 0.8189807519905266, 0.042782576596520044, 0.05528357171246602, 0.06533513020564166, 0.03015467547952692, 0.1005155849317564, 0.3015467547952692, 0.06533513020564166, 0.0753866886988173, 0.03015467547952692, 0.26134052082256665, 0.02010311698635128, 0.025479758484096404, 0.012739879242048202, 0.9554909431536152, 0.8411598803700416, 0.020350642267017136, 0.06105192680105141, 0.013567094844678091, 0.030525963400525706, 0.027134189689356183, 0.2036703124859794, 0.1064640269813074, 0.042817054329438844, 0.01851548295327085, 0.24417293144625937, 0.01388661221495314, 0.005786088422897142, 0.008100523792055997, 0.025458789060747423, 0.03934540127570056, 0.02082991832242971, 0.021987136007009137, 0.06364697265186856, 0.017358265268691424, 0.0023144353691588564, 0.012729394530373712, 0.010414959161214855, 0.05901810191355084, 0.03471653053738285, 0.009257741476635425, 0.008100523792055997, 0.031244877483644563, 0.884772723440072, 0.8945521464890737, 0.09253987722300762, 0.12096247631438868, 0.08064165087625912, 0.1008020635953239, 0.181443714471583, 0.5040103179766194, 0.9496632170311565, 0.06494206411111898, 0.892953381527886, 0.016235516027779746, 0.8989193195809285, 0.9667637722681998, 0.9871606524582934, 0.9467731376378451, 0.9323584568097238, 0.9412496032126926, 0.9767138237021438, 0.9618170874404847, 0.9605054732329962, 0.9727828349116414, 0.013823541545335617, 0.8432360342654727, 0.06220593695401028, 0.0760294784993459, 0.03574907062060343, 0.7030650555385342, 0.13107992560887924, 0.11916356873534477, 0.03290462601361769, 0.7897110243268246, 0.16452313006808847, 0.9871774161547532, 0.9626855988242542, 0.14234796294161614, 0.09902466987242863, 0.04951233493621431, 0.0557013768032411, 0.10521371173945541, 0.3899096376226877, 0.03713425120216073, 0.06189041867026789, 0.04332329306918752, 0.018567125601080366, 0.9667309599630279, 0.04201548269184583, 0.1960722525619472, 0.14005160897281943, 0.010003686355201389, 0.06002211813120833, 0.06202285540224861, 0.3221187006374847, 0.024008847252483333, 0.05201916904704722, 0.0900331771968125, 0.9303267086898525, 0.9338564076513535, 0.9742097284268156, 0.0023549382807878097, 0.28023765541374934, 0.004709876561575619, 0.06240586444087696, 0.014129629684726858, 0.4615679030344107, 0.09772993865269411, 0.012952160544332954, 0.05416358045811962, 0.008242283982757333, 0.837027919837427, 0.1610541525974453, 0.2807544479195191, 0.06605987009871038, 0.04541616069286338, 0.06193112821754097, 0.02064370940584699, 0.016514967524677595, 0.08670357950455737, 0.04954490257403278, 0.2229520615831475, 0.11973351455391255, 0.03302993504935519, 0.1797377644045358, 0.020738972815907978, 0.048390936570451945, 0.49773534758179144, 0.041477945631815956, 0.11060785501817588, 0.05530392750908794, 0.013825981877271985, 0.02765196375454397, 0.9596145043732216, 0.049357304518428645, 0.8143955245540726, 0.1295629243608752, 0.9303399608405268, 0.9554393439360868, 0.20069389975539098, 0.019518858080948248, 0.05455270591854767, 0.033031913675450886, 0.04103965032404504, 0.06456237672929037, 0.07557301462110733, 0.04254110094565644, 0.04954787051317632, 0.04754593635102779, 0.012512088513428365, 0.038036749080822226, 0.004003868324297077, 0.013012572053965499, 0.031029979513302344, 0.021020308702559654, 0.011511121432354096, 0.03403288075652515, 0.01851789099987398, 0.01201160497289123, 0.0020019341621485384, 0.007006769567519884, 0.045043518648342114, 0.014013539135039768, 0.05805609070230761, 0.004504351864834211, 0.004003868324297077, 0.006005802486445615, 0.009008703729668423, 0.007507253108057019, 0.007006769567519884, 0.008007736648594154, 0.004003868324297077, 0.946259742212133, 0.9542303328907275, 0.03975959720378031, 0.17868279057049993, 0.7862042785101997, 0.9634989464754343, 0.02294045110655796, 0.1352658388688892, 0.859335917520002, 0.8791683731393163, 0.0753572891262271, 0.025119096375409038, 0.23955087048446785, 0.0031940116064595714, 0.015970058032297858, 0.13414848747130198, 0.02874610445813614, 0.491877787394774, 0.07026825534211056, 0.012776046425838286, 0.1869982074021422, 0.7190212763490821, 0.044774218673752364, 0.01580266541426554, 0.03160533082853108, 0.2546403045194939, 0.17506520935715206, 0.031830038064936735, 0.17506520935715206, 0.3501304187143041, 0.9173353394834258, 0.022212916956128866, 0.15826703331241818, 0.059697214319596334, 0.04720244853177384, 0.009718151168306379, 0.30681591545653, 0.14577226752459568, 0.059697214319596334, 0.024989531575644975, 0.005553229239032217, 0.0013883073097580541, 0.019436302336612758, 0.12078273594895071, 0.009718151168306379, 0.0013883073097580541, 0.006941536548790271, 0.10461178178333513, 0.10461178178333513, 0.7584354179291798, 0.10159534478003307, 0.3929349364286573, 0.023904787007066605, 0.011952393503533302, 0.013446442691474964, 0.029880983758833253, 0.23008357494301607, 0.10607749234385805, 0.03286908213471658, 0.017928590255299953, 0.037351229698541565, 0.9862860565858632, 0.006303007157361852, 0.008404009543149136, 0.014006682571915226, 0.0035016706429788066, 0.5161462527750761, 0.02101002385787284, 0.023811360372255886, 0.18558854407787675, 0.00980467780034066, 0.004202004771574568, 0.011205346057532182, 0.11905680186127943, 0.009104343671744898, 0.014707016700510988, 0.049723723130299054, 0.002101002385787284, 0.08150530069045242, 0.03667738531070359, 0.028526855241658346, 0.00950895174721945, 0.024451590207135724, 0.05569528880514248, 0.10052320418489132, 0.008150530069045241, 0.029885276919832553, 0.08558056572497504, 0.00950895174721945, 0.014942638459916276, 0.039394228667052, 0.03124369859800676, 0.02173474685078731, 0.014942638459916276, 0.35862332303799066, 0.005433686712696828, 0.008150530069045241, 0.029885276919832553, 0.006792108390871035, 0.09088188795964942, 0.24893734528077885, 0.09088188795964942, 0.02765970503119765, 0.0553194100623953, 0.003951386433028236, 0.13829852515598826, 0.2765970503119765, 0.003951386433028236, 0.0553194100623953, 0.003951386433028236, 0.9261630445899761, 0.04501684773089258, 0.05560904719698495, 0.03972074799784639, 0.026480498665230928, 0.08473759572873897, 0.24626863758664763, 0.08738564559526206, 0.042368797864369485, 0.005296099733046186, 0.01853634906566165, 0.02912854853175402, 0.023832448798707835, 0.052960997330461855, 0.010592199466092371, 0.17212324132400103, 0.021184398932184743, 0.005296099733046186, 0.034424648264800205, 0.1935625478516228, 0.11427186559915081, 0.03264910445690023, 0.004664157779557176, 0.09095107670136493, 0.12126810226848657, 0.32182688678944515, 0.03731326223645741, 0.03264910445690023, 0.002332078889778588, 0.006996236669335764, 0.018656631118228705, 0.009328315559114352, 0.013992473338671528, 0.10160615028800685, 0.061314056208279996, 0.06744546182910799, 0.028029282838070855, 0.06481771656303885, 0.026277452660691425, 0.17080344229449426, 0.012262811241656, 0.11562079170704227, 0.019270131951173712, 0.09197108431241999, 0.035912518636278284, 0.008759150886897143, 0.041168009168416564, 0.03153294319282971, 0.04379575443448571, 0.014014641419035427, 0.008759150886897143, 0.028905197926760568, 0.009635065975586856, 0.0052554905321382855, 0.011386896152966284, 0.17300653358002357, 0.06920261343200942, 0.10380392014801414, 0.3719640471970507, 0.03460130671600471, 0.242209147012033, 0.9853509727856387, 0.9762442645790409, 0.6795764627417451, 0.09754686068063327, 0.032515620226877755, 0.07803748854450661, 0.016257810113438877, 0.019509372136126652, 0.022760934158814427, 0.055276554385692185, 0.9057011370829099, 0.015289988295738985, 0.012741656913115821, 0.021660816752296894, 0.1936731850793605, 0.015289988295738985, 0.001274165691311582, 0.003822497073934746, 0.04332163350459379, 0.014015822604427403, 0.0917399297744339, 0.007644994147869492, 0.20386651060985314, 0.022934982443608476, 0.050966627652463285, 0.01783831967836215, 0.01783831967836215, 0.2624781324101859, 0.9708151868210234, 0.9725632307917871, 0.08910700352835745, 0.9088914359892459, 0.9712013348471783, 0.04761587991951892, 0.10665957101972239, 0.009523175983903783, 0.01714171677102681, 0.649480602102238, 0.022855622361369083, 0.08570858385513405, 0.020950987164588323, 0.03809270393561513, 0.6333408584149279, 0.15775523213265605, 0.01623950919012636, 0.025519228727341418, 0.09511712525645437, 0.006959789652911295, 0.025519228727341418, 0.020879368958733886, 0.01623950919012636, 0.9829523318174259, 0.026325326516885246, 0.9477117546078688, 0.924228705245877, 0.021493690819671556, 0.021493690819671556, 0.9731682176184476, 0.9548639343238644, 0.9784655415339956, 0.913343547248071, 0.07824368957351377, 0.13151598885760826, 0.016647593526279526, 0.03329518705255905, 0.048278021226210624, 0.1015503205103051, 0.011653315468395669, 0.06492561475249015, 0.08823224568928148, 0.016647593526279526, 0.011653315468395669, 0.09489128309979329, 0.16647593526279525, 0.05160753993146653, 0.046613261873582675, 0.03662470575781496, 0.003329518705255905, 0.03739623452244833, 0.004674529315306041, 0.051419822468366454, 0.032721705207142286, 0.15425946740509935, 0.016360852603571143, 0.028047175891836248, 0.08647879233316176, 0.04908255781071343, 0.07011793972959061, 0.4090213150892786, 0.06076888109897854, 0.9884515194982488, 0.9641342469497772, 0.07830897221638312, 0.07830897221638312, 0.10678496211324973, 0.08542796969059978, 0.14949894695854962, 0.049832982319516536, 0.07830897221638312, 0.3345928812881825, 0.02847598989686659, 0.9616376699475253, 0.0995376527356765, 0.06082856556069119, 0.7686518739032796, 0.02764934798213236, 0.0387090871749853, 0.037463780622695335, 0.08027952990577572, 0.11239134186808601, 0.08295551423596824, 0.04816771794346543, 0.0776035455755832, 0.0668996082548131, 0.30506221364194774, 0.005351968660385048, 0.021407874641540193, 0.016055905981155146, 0.03478779629250281, 0.09901142021712339, 0.010703937320770096, 0.05294348083173933, 0.08365069971414814, 0.015883044249521798, 0.1185933970630961, 0.07517974278106986, 0.08470956933078293, 0.04129591504875668, 0.00317660884990436, 0.05400235044837412, 0.026471740415869666, 0.007412087316443506, 0.036001566965582744, 0.07517974278106986, 0.007412087316443506, 0.05612008968164369, 0.018000783482791372, 0.015883044249521798, 0.20224409677724425, 0.010588696166347866, 0.009529826549713079, 0.00317660884990436, 0.9787301532912455, 0.9145824669472893, 0.07390565389473044, 0.11293326407281094, 0.04311997355507327, 0.02874664903671551, 0.06775995844368657, 0.13551991688737314, 0.09445327540635097, 0.002053332074051108, 0.03079998111076662, 0.016426656592408863, 0.012319992444306647, 0.014373324518357756, 0.012319992444306647, 0.08829327918419765, 0.04311997355507327, 0.2710398337747463, 0.004106664148102216, 0.026693316962664405, 0.9231975104261281, 0.06788216988427412, 0.9821781487706691, 0.13116443194203076, 0.006504021418613095, 0.05420017848844246, 0.09864432484896528, 0.10731635340711608, 0.04336014279075397, 0.024932082104683534, 0.1604325283257897, 0.09322430700012103, 0.02926809638375893, 0.0726282391745129, 0.023848078534914684, 0.0075880249883819445, 0.004336014279075397, 0.01409204640699504, 0.01300804283722619, 0.01300804283722619, 0.01734405711630159, 0.021680071395376983, 0.061788203476824406, 0.22859470811593452, 0.7619823603864484, 0.8614973465831318, 0.8513878779304479, 0.014150491045935422, 0.023584151743225704, 0.09433660697290282, 0.014150491045935422, 0.023121358387554226, 0.06473980348515183, 0.02543349422630965, 0.03468203758133134, 0.05549126013013014, 0.0508669884526193, 0.01849708671004338, 0.01618495087128796, 0.12485533529279283, 0.03699417342008676, 0.06936407516266269, 0.02543349422630965, 0.06936407516266269, 0.05549126013013014, 0.01849708671004338, 0.10404611274399403, 0.004624271677510845, 0.19653154629421093, 0.9157647524324232, 0.2443156431514809, 0.7166592199110107, 0.03257541908686412, 0.16429888391682407, 0.010059115341846371, 0.013412153789128495, 0.07544336506384779, 0.2783021911244163, 0.13412153789128495, 0.0033530384472821237, 0.03855994214374442, 0.01844171146005168, 0.020118230683692742, 0.040236461367385484, 0.02682430757825699, 0.040236461367385484, 0.04191298059102654, 0.013412153789128495, 0.01676519223641062, 0.021794749907333804, 0.025147788354615928, 0.01676519223641062, 0.8486136366890306, 0.11705015678469387, 0.25266936543509644, 0.43597851290761735, 0.017340054490643873, 0.02229435577368498, 0.007431451924561659, 0.07183736860409605, 0.019817205132164426, 0.10651747758538378, 0.019817205132164426, 0.014862903849123319, 0.03220295833976719, 0.06428699888125947, 0.08571599850834596, 0.13500269765064488, 0.04071509929146433, 0.04285799925417298, 0.02357189958979514, 0.017143199701669193, 0.015000299738960544, 0.08571599850834596, 0.05785829899313352, 0.012857399776251895, 0.287148595002959, 0.07714439865751137, 0.04714379917959028, 0.006428699888125947, 0.8553713650685179, 0.0693544350055555, 0.0693544350055555, 0.22419030326002928, 0.22419030326002928, 0.5480207413022938, 0.9397865961894319, 0.9214233588730157, 0.9955151563953437, 0.04068472170628773, 0.1032766012544227, 0.015647969887033743, 0.5445493520687742, 0.2910522398988276, 0.9143881930434036, 0.9328233352580689, 0.7507601108779438, 0.034438537196235956, 0.006887707439247191, 0.006887707439247191, 0.020663122317741575, 0.06198936695322472, 0.034438537196235956, 0.013775414878494383, 0.020663122317741575, 0.04821395207473034, 0.028894331614448196, 0.14447165807224097, 0.698279680682498, 0.07223582903612048, 0.028894331614448196, 0.028894331614448196, 0.9176287043939132, 0.46061014575236714, 0.18948176564395036, 0.20950829372014024, 0.06624159286739728, 0.02156703023589679, 0.046215064791207405, 0.006162008638827654, 0.436123493308855, 0.18671101630474943, 0.08917541077241764, 0.011146926346552205, 0.2340854532775963, 0.0055734631732761025, 0.029260681659699538, 0.006966828966595128, 0.9602573367812144, 0.9511002228985896, 0.02841998430817191, 0.03126198273898911, 0.07673395763206416, 0.03410398116980629, 0.4120897724684927, 0.059681967047161014, 0.01989398901572034, 0.10799594037105327, 0.0994699450786017, 0.05683996861634382, 0.017051990584903146, 0.01989398901572034, 0.02273598744653753, 0.011367993723268764, 0.060403931545142606, 0.06845778908449496, 0.7369279648507399, 0.008053857539352347, 0.12080786309028521, 0.1683333888966189, 0.22912044599817571, 0.060787057101556824, 0.0187037098774021, 0.4862964568124546, 0.02805556481610315, 0.004675927469350525, 0.060922652345842494, 0.0709248788503838, 0.1418497577007676, 0.23459767619742333, 0.08547357194789842, 0.06728770557600515, 0.05364830579708518, 0.029097386195029253, 0.008183639867351976, 0.02000445300908261, 0.012730106460325298, 0.0018185866371893283, 0.025460212920650597, 0.020913746327677275, 0.019095159690487945, 0.011820813141730634, 0.013639399778919961, 0.016367279734703952, 0.02455091960205593, 0.011820813141730634, 0.019095159690487945, 0.009092933185946641, 0.002727879955783992, 0.036371732743786564, 0.0018185866371893283, 0.030309325695233248, 0.008160203071793567, 0.04662973183882038, 0.11774007289302146, 0.0244806092153807, 0.041966758654938346, 0.017486149439557643, 0.059452908094495986, 0.304259000248303, 0.0850992606058472, 0.012823176255675604, 0.02914358239926274, 0.004662973183882038, 0.011657432959705095, 0.13872345222049065, 0.011657432959705095, 0.02797783910329223, 0.008160203071793567, 0.016320406143587134, 0.9440135035428125, 0.9400196716325923, 0.7847528142872143, 0.5259250875536836, 0.34129181213590104, 0.011189895479865609, 0.022379790959731218, 0.0055949477399328046, 0.02517726482969762, 0.0027974738699664023, 0.06713937287919365, 0.9470973382955715, 0.09869741246917013, 0.049348706234585066, 0.789579299753361, 0.10312444228138107, 0.02638067128128353, 0.03597364265629572, 0.01199121421876524, 0.15828402768770117, 0.2925856269378719, 0.11031917081264021, 0.002398242843753048, 0.02398242843753048, 0.18706294181273775, 0.007194728531259144, 0.028778914125036578, 0.01199121421876524, 0.07579188029738605, 0.01684264006608579, 0.8842386034695039, 0.01684264006608579, 0.9870552831036201, 0.07290347525049512, 0.8505405445891097, 0.060752896042079264, 0.11812703683623901, 0.04043988648447822, 0.009577867851586947, 0.009577867851586947, 0.07130190511736949, 0.0840723955861521, 0.05746720710952168, 0.013834698007847812, 0.00851366031252173, 0.054274584492326035, 0.03831147140634779, 0.06065982972671733, 0.11280599914091292, 0.027669396015695624, 0.00851366031252173, 0.02979781109382606, 0.07343032019549993, 0.022348358320369542, 0.026605188476630407, 0.026605188476630407, 0.013834698007847812, 0.010642075390652163, 0.004256830156260865, 0.010642075390652163, 0.015963113085978246, 0.041504094023543436, 0.00851366031252173, 0.0013060124022782759, 0.7457330817008955, 0.03395632245923517, 0.016978161229617584, 0.05224049609113103, 0.007836074413669654, 0.005224049609113103, 0.05485252089568758, 0.02481423564328724, 0.019590186034174135, 0.0026120248045565517, 0.01828417363189586, 0.00914208681594793, 0.005224049609113103, 0.8836559438084742, 0.03098636593871439, 0.21690456157100071, 0.6507136847130022, 0.02065757729247626, 0.02065757729247626, 0.04131515458495252, 0.8769561229562614, 0.10961951536953267, 0.8510133896654183, 0.9021059545830511, 0.076774974858132, 0.17846241855784645, 0.8030808835103089, 0.8179653134009984, 0.023595153271182646, 0.04325778099716819, 0.03539272990677397, 0.07865051090394216, 0.09176400742693479, 0.8946990724126141, 0.942571325838997, 0.9744490953295197, 0.9890128922083073, 0.9389895798560515, 0.992132346514321, 0.7757101315207814, 0.7792218010903319, 0.015599311028769882, 0.011142365020549915, 0.5281481019740659, 0.02228473004109983, 0.3275855316041675, 0.09136739316850931, 0.1026792192079343, 0.037829186023975794, 0.08646671091194466, 0.005404169431996541, 0.010808338863993083, 0.08106254147994812, 0.037829186023975794, 0.25399596330383745, 0.3782918602397579, 0.07768366526022794, 0.013129633565108946, 0.11597842982512901, 0.0683835081516091, 0.13731408436843107, 0.07658952912980219, 0.002188272260851491, 0.04978319393437142, 0.022429790673727783, 0.015317905825960437, 0.08698382236884676, 0.02352392680415353, 0.005470680652128727, 0.018600314217237672, 0.025165130999792146, 0.032277015847559494, 0.06783644008639622, 0.07494832493416356, 0.010394293239044582, 0.0038294764564901092, 0.013129633565108946, 0.007111884847767346, 0.0180532461520248, 0.010941361304257454, 0.014770837760747564, 0.0010941361304257454, 0.007111884847767346, 0.9830338663829505, 0.02505805218479943, 0.968911351145578, 0.06345409935747322, 0.03701489129185938, 0.1004689906493326, 0.557867290184452, 0.04230273290498215, 0.04494665371154353, 0.015863524839368304, 0.02643920806561384, 0.01850744564592969, 0.015863524839368304, 0.03701489129185938, 0.01321960403280692, 0.015863524839368304, 0.01321960403280692, 0.01763110391921076, 0.21274865395847653, 0.0011754069279473842, 0.177486446120055, 0.00822784849563169, 0.01645569699126338, 0.018806510847158148, 0.015280290063315993, 0.12929476207421225, 0.04584087018994798, 0.01645569699126338, 0.03996383555021106, 0.04584087018994798, 0.012929476207421225, 0.028209766270737218, 0.07875226417247473, 0.0070524415676843045, 0.028209766270737218, 0.009403255423579074, 0.024683545486895067, 0.028209766270737218, 0.009403255423579074, 0.014104883135368609, 0.012929476207421225, 0.08770898753395437, 0.04677812668477566, 0.07016719002716348, 0.19880703841029657, 0.02338906334238783, 0.0409308608491787, 0.02923632917798479, 0.05262539252037262, 0.005847265835596958, 0.04677812668477566, 0.02338906334238783, 0.3566832159714144, 0.9320601107319381, 0.9008478053602619, 0.9706817888159938, 0.0930630231979925, 0.04653151159899625, 0.04373962090305648, 0.0260576464954379, 0.0483927720629561, 0.0558378139187955, 0.0967855441259122, 0.030710797655337525, 0.0707278976304743, 0.07631167902235385, 0.019543234871578427, 0.10236932551779175, 0.038155839511176924, 0.03257205811929738, 0.0009306302319799251, 0.030710797655337525, 0.028849537191377676, 0.03536394881523715, 0.012098193015739025, 0.0018612604639598501, 0.017681974407618574, 0.025127016263457976, 0.002791890695939775, 0.01302882324771895, 0.025127016263457976, 0.010236932551779175, 0.017681974407618574, 0.9226108358336738, 0.03694619945147639, 0.007389239890295278, 0.014778479780590556, 0.08128163879324807, 0.0665031590126575, 0.5985284311139175, 0.133006318025315, 0.040640819396624034, 0.018473099725738195, 0.046397673827068, 0.0173991276851505, 0.7957201061342162, 0.0313184298332709, 0.057997092283835004, 0.0324783716789476, 0.012759360302443701, 0.0011599418456767, 0.0034798255370301003, 0.38206565340227294, 0.5231360485046507, 0.08816899693898607, 0.9471051744122301, 0.036665065788643585, 0.05805302083201901, 0.06416386513012629, 0.018332532894321792, 0.03972048793769722, 0.27804341556388057, 0.5041446545938494, 0.044584658942870815, 0.8025238609716746, 0.022292329471435408, 0.13375397682861245, 0.9219436445096258, 0.028329751443291324, 0.1865041970016679, 0.04721625240548554, 0.04721625240548554, 0.04249462716493699, 0.018886500962194217, 0.02360812620274277, 0.604368030790215, 0.9657978220981683, 0.12318034181804796, 0.6309237019948798, 0.05708357303763198, 0.04206158013299199, 0.003004398580927999, 0.012017594323711996, 0.021030790066495993, 0.05407917445670398, 0.05708357303763198, 0.1060415607314864, 0.8483324858518912, 0.029587796432375694, 0.04048856353904042, 0.1027786612914103, 0.1588397492685432, 0.04204581598284967, 0.07007635997141612, 0.06696185508379762, 0.03893131109523118, 0.05450383553332365, 0.08097712707808084, 0.08097712707808084, 0.04048856353904042, 0.02024428176952021, 0.02180153421332946, 0.13703821505521374, 0.01090076710666473, 0.9724184871987549, 0.08142435097177424, 0.0851254578341276, 0.06291881666000736, 0.029608854898826992, 0.06291881666000736, 0.059217709797653985, 0.04441328234824049, 0.03330996176118037, 0.46633946465652515, 0.07032103038471411, 0.13747219292059917, 0.17020366742550375, 0.6873609646029959, 0.21199312001269183, 0.004156727843386114, 0.02078363921693057, 0.6068822651343727, 0.15379893020528623, 0.13423060533817915, 0.3498130926994972, 0.03254075280925555, 0.036608346910412495, 0.01016898525289236, 0.05491252036561874, 0.01220278230347083, 0.02237176755636319, 0.14236579354049303, 0.01016898525289236, 0.03457454985983402, 0.12812921418644374, 0.03254075280925555, 0.9857561239273397, 0.07866501036255052, 0.023599503108765157, 0.06293200829004042, 0.06293200829004042, 0.047199006217530315, 0.08653151139880558, 0.03933250518127526, 0.597854078755384, 0.45891276279781906, 0.24397893718365066, 0.05809022313896444, 0.2381699148697542, 0.9486755727608648, 0.05802289009895129, 0.03481373405937078, 0.030945541386107358, 0.6885382958408887, 0.05802289009895129, 0.06575927544547813, 0.061891082772214716, 0.9663442520739374, 0.9733133482640708, 0.9571724944457498, 0.9493627105462207, 0.17108826445366082, 0.1322597221663052, 0.08493743625359047, 0.04610889396623483, 0.04853567785919456, 0.037615150340875786, 0.001213391946479864, 0.047322285912714694, 0.015774095304238234, 0.026694622822557006, 0.0303347986619966, 0.013347311411278503, 0.03518836644791606, 0.029121406715516735, 0.14560703357758367, 0.010920527518318776, 0.021841055036637552, 0.014560703357758368, 0.015774095304238234, 0.03640175839439592, 0.010920527518318776, 0.010920527518318776, 0.009707135571838912, 0.9534498337545091, 0.9281650962998274, 0.038778284338139894, 0.9306788241153574, 0.8444777909872443, 0.13248512108950555, 0.18400711262431324, 0.6771461744574727, 0.9173537416644322, 0.9657990969338381, 0.9575693235078182, 0.06518186840212664, 0.09777280260318995, 0.20640924994006768, 0.03259093420106332, 0.09777280260318995, 0.4454094340811987, 0.054318223668438866, 0.07223159702751493, 0.8667791643301792, 0.9685080068419594, 0.03584548388509995, 0.2046179705107789, 0.03435192205655412, 0.026884112913824965, 0.019416303771095808, 0.07019740594165408, 0.04630041668492077, 0.041819731199283276, 0.06272959679892491, 0.3002059275377121, 0.15084974468312895, 0.007467809142729156, 0.9271055733583797, 0.9128916947618555, 0.9580845283112989, 0.030905952526170934, 0.060723452654634934, 0.0371087766222769, 0.1450615813416279, 0.01686762573739859, 0.02698820117983775, 0.7151873312657003, 0.9559848151160499, 0.9761345556797776, 0.019620795089040754, 0.8956263335311263, 0.9755484192143815, 0.935953100629737, 0.46355134389658764, 0.21382121848751048, 0.024483345628340897, 0.09303671338769541, 0.027747791712119683, 0.009793338251336358, 0.031012237795898467, 0.08161115209446965, 0.013057784335115145, 0.0032644460837787863, 0.0065288921675575725, 0.0032644460837787863, 0.027747791712119683, 0.9803549411539311, 0.95572528918806, 0.9747999259774892, 0.06620322217896017, 0.1522674110116084, 0.04634225552527212, 0.039721933307376105, 0.059582899961064154, 0.44356158859903316, 0.1853690221010885, 0.7279071273515556, 0.23787814619331882, 0.02854537754319826, 0.09685864258471534, 0.032005464506253765, 0.09264739725494511, 0.16760756412485525, 0.1398133449483717, 0.024425222912667348, 0.07496016686991012, 0.018529479450989022, 0.016844981319080927, 0.0235829738467133, 0.03958570609984018, 0.008422490659540463, 0.1179148692335665, 0.01937172851694307, 0.02105622664885116, 0.020213977582897114, 0.0008422490659540465, 0.05306169115510492, 0.022740724780759253, 0.008422490659540463, 0.15253361283414218, 0.055707928165512795, 0.010611033936288152, 0.0490760319553327, 0.4071984273050578, 0.001326379242036019, 0.01326379242036019, 0.010611033936288152, 0.02520120559868436, 0.005305516968144076, 0.007958275452216113, 0.030506722566828435, 0.03713861877700853, 0.018569309388504266, 0.005305516968144076, 0.014590171662396208, 0.02652758484072038, 0.01193741317832417, 0.006631896210180095, 0.10876309784695355, 0.9276667395021608, 0.12816375136077013, 0.51479106796576, 0.029904875317513034, 0.061945813157705566, 0.03204093784019253, 0.06621793820306457, 0.06835400072574407, 0.04272125045359005, 0.021360625226795025, 0.012816375136077014, 0.0021360625226795023, 0.0021360625226795023, 0.01708850018143602, 0.9570398733332671, 0.20737385762174934, 0.19142202242007633, 0.11166284641171119, 0.015951835201673027, 0.039879588004182565, 0.07975917600836513, 0.3429644568359701, 0.94479579973266, 0.2940091634254514, 0.6100690141078117, 0.08820274902763543, 0.05151875165176718, 0.08586458608627863, 0.12021042052079009, 0.18890208938981298, 0.5037389050395014, 0.05151875165176718, 0.9921443445663198, 0.009447730513162542, 0.14316945469946313, 0.044331658561762695, 0.11773325716402552, 0.11555301166098801, 0.009447730513162542, 0.05668638307897525, 0.02470944903442511, 0.1388089636933881, 0.03633742505062516, 0.023982700533412605, 0.004360491006075019, 0.04651190406480021, 0.030523437042525133, 0.003633742505062516, 0.08212258061441287, 0.02470944903442511, 0.0007267485010125032, 0.03343043104657515, 0.02470944903442511, 0.012354724517212555, 0.013808221519237562, 0.003633742505062516, 0.3015053875815799, 0.6604403727977465, 0.028714798817293326, 0.057960399392382164, 0.028980199696191082, 0.07728053252317622, 0.12236084316169568, 0.06118042158084784, 0.028980199696191082, 0.06118042158084784, 0.006440044376931351, 0.025760177507725406, 0.07728053252317622, 0.23184159756952866, 0.06118042158084784, 0.057960399392382164, 0.09016062127703892, 0.8026481473310484, 0.11803649225456594, 0.02360729845091319, 0.04721459690182638, 0.9335346103624439, 0.9776760890158345, 0.9612976068221548, 0.9535594575533944, 0.7283112046995075, 0.18631216864406006, 0.06774987950693093, 0.9578665155295176, 0.05928594906636726, 0.16230743432923495, 0.005831404826200058, 0.13703801341570138, 0.06803305630566735, 0.06317355228383396, 0.13023470778513463, 0.10010578284976766, 0.031100825739733644, 0.09524627882793428, 0.004859504021833382, 0.004859504021833382, 0.002915702413100029, 0.018466115282966853, 0.03984793297903373, 0.022353718500433557, 0.044707437000867115, 0.007775206434933411, 0.0910479541057286, 0.05690497131608038, 0.013277826640418756, 0.3774696430633332, 0.02845248565804019, 0.03224615041244555, 0.07018279795649913, 0.22382622050991619, 0.03603981516685091, 0.009484161886013398, 0.03034931803524287, 0.018968323772026795, 0.009484161886013398, 0.9547434594881793, 0.8373106535072206, 0.020932766337680514, 0.12559659802608308, 0.9747189324462652, 0.0859617447686729, 0.7951461391102242, 0.07163478730722742, 0.04298087238433645, 0.21236497564564538, 0.19129058874951266, 0.11347746790225327, 0.006484426737271615, 0.04863320052953712, 0.03566434705499388, 0.03404324037067598, 0.016211066843179037, 0.10375082779634584, 0.03728545373931179, 0.05187541389817292, 0.004863320052953712, 0.011347746790225327, 0.016211066843179037, 0.009726640105907423, 0.008105533421589518, 0.07457090747862358, 0.02431660026476856, 0.9870579218450459, 0.9615896527836201, 0.9371805981361929, 0.002587666683317379, 0.031052000199808544, 0.8746313389612741, 0.0724546671328866, 0.015526000099904272, 0.11519540750696378, 0.8754850970529247, 0.005842221440125297, 0.052579992961127676, 0.29211107200626485, 0.06426443584137827, 0.5141154867310261, 0.052579992961127676, 0.01752666432037589, 0.9268330506169566, 0.9578648402724995, 0.034209458581160694, 0.9362099014493803, 0.1005350419968419, 0.5864544116482444, 0.3016051259905257, 0.9530275379442894, 0.04765137689721447, 0.9427253795597914, 0.12225837844871096, 0.015475744107431768, 0.18416135487843804, 0.026308764982634004, 0.07118842289418613, 0.021666041750404475, 0.04333208350080895, 0.029403913804120357, 0.06345055084047024, 0.026308764982634004, 0.04487965791155213, 0.051069955554524836, 0.030951488214863536, 0.055712678786754365, 0.04333208350080895, 0.07428357171567249, 0.00928544646445906, 0.03868936026857942, 0.010833020875202238, 0.034046637036349886, 0.9804867021532935, 0.9602375713587253, 0.9421664028607841, 0.9890722575032737, 0.27494836393991207, 0.41242254590986815, 0.3093169094324011, 0.13448111296903636, 0.32820914983352234, 0.013165983087877687, 0.05642564180519009, 0.014106410451297522, 0.0028212820902595043, 0.0018808547268396696, 0.03855752190021323, 0.12413641197141818, 0.2247621398573405, 0.04137880399047273, 0.0009404273634198348, 0.013165983087877687, 0.004702136817099174, 0.7293849414282638, 0.011908325574339, 0.10419784877546626, 0.083358279020373, 0.03274789532943225, 0.0178624883615085, 0.023816651148678, 0.015088640626385187, 0.019399680805352384, 0.01293312053690159, 0.032332801342253976, 0.0021555200894835982, 0.021555200894835983, 0.10346496429521272, 0.01293312053690159, 0.7673651518561609, 0.010777600447417992, 0.9600367822626849, 0.9633372345025842, 0.04112087258705525, 0.9457800695022708, 0.06247013124394862, 0.905816903037255, 0.05591274184688128, 0.8946038695501005, 0.04243766286111968, 0.9548474143751927, 0.921135291060388, 0.8222969632200181, 0.9589076953040472, 0.008667370150887187, 0.03860919430849747, 0.06697513298412827, 0.0015758854819794886, 0.012607083855835909, 0.05988364831522057, 0.1812268304276412, 0.011819141114846166, 0.010243255632866677, 0.051216278164333384, 0.09297724343678983, 0.015758854819794887, 0.07327867491204622, 0.04018507979047696, 0.020486511265733354, 0.007879427409897444, 0.033093595121569265, 0.010243255632866677, 0.06067159105621032, 0.026790053193651308, 0.03466948060354875, 0.04176096527245645, 0.03072976689860003, 0.010243255632866677, 0.0007879427409897443, 0.0031517709639589772, 0.017334740301774374, 0.012607083855835909, 0.015758854819794887, 0.012607083855835909, 0.9320110988711807, 0.05564245366395109, 0.1746993658903296, 0.6987974635613184, 0.9480405282330386, 0.8884572950163524, 0.05940589244020002, 0.025828648887043486, 0.0012914324443521743, 0.014205756887873917, 0.03745154088621305, 0.019371486665282614, 0.014205756887873917, 0.09944029821511742, 0.010331459554817395, 0.7167450066154567, 0.980675467817408, 0.027976692479427207, 0.36835978431245825, 0.04196503871914081, 0.20516241151579953, 0.3543714380727446, 0.948273934614819, 0.03936247272810404, 0.03309043037032922, 0.14750113406904922, 0.05342049870242691, 0.03611831288787568, 0.08586209710471046, 0.06163903696433874, 0.02638583336719062, 0.031143934466192208, 0.013625471328959091, 0.03395553966105678, 0.05925998641483795, 0.06531575144993088, 0.027250942657918182, 0.017085908491869337, 0.02746721998060007, 0.0004325546453637807, 0.011678975424822078, 0.043471741859059956, 0.03611831288787568, 0.01297663936091342, 0.04152524595492294, 0.0017302185814551227, 0.011030143456776408, 0.01946495904137013, 0.010165034166048845, 0.010381311488730735, 0.004109269130955916, 0.012111530070185858, 0.002811605194864574, 0.0043255464536378066, 0.00648831968045671, 0.009732479520685065, 0.002595327872182684, 0.9868944769598885, 0.9790443820291035, 0.9619210387284437, 0.02004002164017591, 0.12693082785202178, 0.8123572982529393, 0.05077233114080871, 0.9038029609603254, 0.040353895879759336, 0.9281396052344648, 0.19117909820413903, 0.8029522124573839, 0.017102608973123504, 0.9577461024949162, 0.0036155467826934446, 0.028924374261547557, 0.007231093565386889, 0.03615546782693445, 0.13015968417696402, 0.49532990922900194, 0.03977101460962789, 0.010846640348080335, 0.02169328069616067, 0.028924374261547557, 0.05061765495770823, 0.02169328069616067, 0.032539921044241006, 0.0723109356538689, 0.02169328069616067, 0.04223203287566366, 0.06100182526484751, 0.1876979238918385, 0.10792630623780713, 0.014077344291887887, 0.05630937716755155, 0.05630937716755155, 0.05630937716755155, 0.3143940225188295, 0.08446406575132732, 0.01876979238918385, 0.7398596292826003, 0.22906686031169474, 0.01316476208687901, 0.01579771450425481, 0.014917205657668286, 0.0727213775811329, 0.02517278454731523, 0.0783153297027585, 0.27690063002046755, 0.018646507072085358, 0.018646507072085358, 0.027969760608128037, 0.009323253536042679, 0.0046616267680213395, 0.0027969760608128036, 0.020511157779293892, 0.023308133840106698, 0.01305255495045975, 0.18646507072085358, 0.0018646507072085357, 0.005593952121625607, 0.007458602828834143, 0.03356371272975364, 0.03915766485137925, 0.11747299455413775, 0.0009323253536042678, 0.06280392151527293, 0.4767388587750263, 0.08921011578873995, 0.05923551688372333, 0.058521835957413414, 0.04067981279966542, 0.03853877002073566, 0.007136809263099196, 0.016414661305128152, 0.0007136809263099197, 0.030688279831326545, 0.009277852042028955, 0.007136809263099196, 0.014273618526198392, 0.008564171115719036, 0.03568404631549598, 0.009991532968338875, 0.004282085557859518, 0.004995766484169438, 0.01712834223143807, 0.006423128336789277, 0.9358249863532434, 0.9945937216425842, 0.8267346408761771, 0.14763118587074592, 0.8316455682855729, 0.008306081260024505, 0.09967297512029406, 0.09136689386026955, 0.25748851906075965, 0.5315892006415683, 0.9651848541945464, 0.9488890527980473, 0.9742516803344301, 0.8856674733990137, 0.8924732182047614, 0.2649234461388256, 0.03027696527300864, 0.08326165450077376, 0.6206777880966771, 0.9629239266935127, 0.053757726394692874, 0.050173877968380014, 0.10751545278938575, 0.01791924213156429, 0.025086938984190007, 0.028670787410502864, 0.27595632882609006, 0.0430061811157543, 0.010751545278938575, 0.0430061811157543, 0.33688175207340865, 0.003583848426312858, 0.936406378088069, 0.23762841492214942, 0.5892214778171664, 0.038796475905657046, 0.007274339232310696, 0.014548678464621392, 0.04122125564976061, 0.014548678464621392, 0.019398237952828523, 0.004849559488207131, 0.03152213667334635, 0.9562502550968651, 0.8421788251697668, 0.14775067108241524, 0.1193950318813677, 0.20147911629980797, 0.02238656847775644, 0.21853554942571765, 0.031980812111080635, 0.1940169268072225, 0.02451862261849515, 0.020254514337017734, 0.013858351914801607, 0.04050902867403547, 0.023452595548125798, 0.031980812111080635, 0.029848757970341925, 0.020254514337017734, 0.007462189492585481, 0.9935651489049846, 0.9546135816893482, 0.19365985919436782, 0.014556133207419804, 0.04619990104963677, 0.11138606280460371, 0.05063002854754714, 0.04746565176332545, 0.1253093206551792, 0.031643767842216966, 0.02531501427377357, 0.031643767842216966, 0.03290951855590564, 0.019619136062174518, 0.02911226641483961, 0.012024631780042446, 0.03290951855590564, 0.030378017128528285, 0.0031643767842216963, 0.035441019983283, 0.009493130352665089, 0.007594504282132071, 0.012657507136886785, 0.013923257850575464, 0.00886025499582075, 0.0025315014273773573, 0.02911226641483961, 0.006961628925287732, 0.013290382493731125, 0.0006328753568443393, 0.0063287535684433925, 0.010126005709509429, 0.0050630028547547145, 0.9025271636329013, 0.0338447686362338, 0.05640794772705633, 0.9461705364604557, 0.005504898617557428, 0.2477204377900843, 0.002752449308778714, 0.30552187327443725, 0.11835532027748472, 0.057801435484353, 0.049544087558016855, 0.027524493087787143, 0.04128673963168071, 0.013762246543893571, 0.057801435484353, 0.019267145161450998, 0.016514695852672286, 0.03578184101412329, 0.007071260389272769, 0.14613938137830387, 0.023570867964242563, 0.03535630194636384, 0.20035237769606176, 0.04007047553921236, 0.07778386428200046, 0.2545653740138197, 0.08721221146769748, 0.011785433982121282, 0.028285041557091075, 0.016499607574969793, 0.028285041557091075, 0.028285041557091075, 0.009428347185697024, 0.8919835056412665, 0.9345354912709533, 0.03337626754539119, 0.28638569481975945, 0.00480311437852846, 0.05763737254234152, 0.2149393684391486, 0.00720467156779269, 0.04743075448796854, 0.02161401470337807, 0.028218296973854702, 0.08405450162424805, 0.008405450162424805, 0.05043270097454883, 0.00960622875705692, 0.07684983005645536, 0.00240155718926423, 0.018612068216797784, 0.04502919729870431, 0.003602335783896345, 0.016210511027533552, 0.01681090032484961, 0.9798970012742871, 0.06570567037617923, 0.07118114290752751, 0.023466310848635444, 0.014861996870802446, 0.10168734701075359, 0.05866577712158861, 0.09855850556426886, 0.026595152295120168, 0.021901890125393078, 0.030506204103226076, 0.09464745375616296, 0.0422393595275438, 0.019555259040529537, 0.02268410048701426, 0.02268410048701426, 0.019555259040529537, 0.028941783379983713, 0.03441725591133198, 0.0062576828929694515, 0.03285283518808962, 0.007039893254590633, 0.0211196797637719, 0.03128841446484726, 0.028941783379983713, 0.017990838317287174, 0.030506204103226076, 0.0054754725313482695, 0.007039893254590633, 0.0015644207232423629, 0.004693262169727088, 0.0054754725313482695, 0.4008990869134475, 0.06932071093988913, 0.04405109217362413, 0.010585921375056961, 0.0529296068752848, 0.010927402709736217, 0.004439257350830338, 0.02253776808883095, 0.13966586588381602, 0.025952581435623515, 0.006829626693585136, 0.034489614802604936, 0.014000734721849529, 0.020830361415434664, 0.0054637013548681085, 0.016049622729925068, 0.008195552032302163, 0.009902958705698447, 0.0027318506774340542, 0.007854070697622907, 0.0006829626693585136, 0.0037562946814718246, 0.037904428149397505, 0.005805182689547365, 0.019805917411396895, 0.004097776016151081, 0.001707406673396284, 0.006146664024226622, 0.007854070697622907, 0.004780738685509595, 0.34948705219780696, 0.16346975022155485, 0.4284034833392472, 0.05073199144806875, 0.9509321120037609, 0.34521189719322226, 0.6100319827113105, 0.018915720394149165, 0.018915720394149165, 0.0616207388544962, 0.20951051210528707, 0.7148005707121559, 0.37666150814488547, 0.3239927379381854, 0.04947672352750614, 0.04947672352750614, 0.035112513471133394, 0.02713239677314853, 0.039900583489924306, 0.011172163377178806, 0.025536373433551557, 0.007980116697984862, 0.023940350093954586, 0.012768186716775778, 0.015960233395969723, 0.0673564472788204, 0.7435115526546713, 0.01554379552588163, 0.0336782236394102, 0.06476581469117346, 0.020725060701175507, 0.01554379552588163, 0.012953162938234692, 0.023315693288822444, 0.9396193281870238, 0.03758347329166482, 0.8926074906770396, 0.03131956107638736, 0.01879173664583241, 0.01879173664583241, 0.005633789220993142, 0.006760547065191772, 0.22309805315132844, 0.0473238294563424, 0.014647851974582172, 0.014647851974582172, 0.009014062753589028, 0.09239414322428754, 0.010140820597787656, 0.2208445374629312, 0.021408399039773943, 0.04957734514473965, 0.013521094130383543, 0.0078873049093904, 0.18028125507178056, 0.05183086083313691, 0.0315492196375616, 0.039858531573867935, 0.16740583261024533, 0.7812272188478115, 0.43989113210095937, 0.12505266297184464, 0.08385884458111934, 0.03972261059105653, 0.019125701395693886, 0.029424155993375205, 0.007356038998343801, 0.2339220401473329, 0.0014712077996687604, 0.011769662397350084, 0.008827246798012563, 0.08563494547381684, 0.36732884505874064, 0.013521307180076342, 0.05183167752362598, 0.07662074068709927, 0.3132436163384353, 0.011267755983396952, 0.015774858376755733, 0.020281960770114515, 0.015774858376755733, 0.024789063163473294, 0.9544895845511506, 0.8066858957908731, 0.1278354698247832, 0.05730555543869591, 0.4769790844108296, 0.011513288244399334, 0.034539864733198006, 0.0016447554634856192, 0.037829375660169244, 0.07236924039336724, 0.10855386059005087, 0.034539864733198006, 0.0773035067838241, 0.08881679502822344, 0.0032895109269712383, 0.01973706556182743, 0.013158043707884953, 0.01644755463485619, 0.0032895109269712383, 0.20680340021073568, 0.7755127507902587, 0.26300410068996805, 0.06414734163169952, 0.4169577206060469, 0.1475388857529089, 0.057732607468529575, 0.038488404979019716, 0.2856383384093894, 0.03264438153250165, 0.05304711999031518, 0.008161095383125412, 0.5549544860525281, 0.02040273845781353, 0.04080547691562706, 0.7759741526815349, 0.9230206042392637, 0.9697206345469752, 0.05241862987852244, 0.9435353378134038, 0.03023953338600888, 0.9374255349662752, 0.9500657700277082, 0.13037587407954318, 0.33851981339951565, 0.47118298351554205, 0.006861888109449642, 0.01829836829186571, 0.009149184145932856, 0.011436480182416069, 0.013723776218899284, 0.929751764611781, 0.9357323823683381, 0.9730674253441072, 0.9672493864214272, 0.9901444232339036, 0.9228819569238511, 0.045489460879387954, 0.6197939044816608, 0.005686182609923494, 0.3241124087656391, 0.7578706738964073, 0.057044029218009155, 0.04889488218686499, 0.08149147031144165, 0.057044029218009155, 0.009425602713511928, 0.06912108656575415, 0.039273344639633036, 0.05026988113873029, 0.10996536499097251, 0.017280271641438538, 0.007854668927926607, 0.03770241085404771, 0.03141867571170643, 0.0801176230648514, 0.13667123934592296, 0.006283735142341286, 0.03141867571170643, 0.02356400678377982, 0.007854668927926607, 0.12253283527565507, 0.04712801356755964, 0.007854668927926607, 0.06755015278016882, 0.039273344639633036, 0.006283735142341286, 0.0219930729981945, 0.02827680814053579, 0.004712801356755964, 0.9353511458413402, 0.9085540373348009, 0.050475224296377824, 0.9131435040611617, 0.043483024002912464, 0.7397796720908094, 0.22958679478680294, 0.9584540819620673, 0.058189038427863854, 0.09698173071310642, 0.14547259606965965, 0.649777595777813, 0.04849086535655321, 0.037570629122541575, 0.09392657280635394, 0.22542377473524947, 0.3819680627458394, 0.043832400642965175, 0.03130885760211798, 0.1690678310514371, 0.006261771520423596, 0.8775215263341473, 0.919575434840467, 0.17694255026153752, 0.3286075933428554, 0.4865920132192281, 0.02822552507377477, 0.10349359193717415, 0.12466273574250523, 0.009408508357924924, 0.19522654842694215, 0.024697334439552923, 0.022345207350071693, 0.107021782571396, 0.039986160521180925, 0.022345207350071693, 0.05057073242384646, 0.002352127089481231, 0.009408508357924924, 0.21639569223227323, 0.007056381268443692, 0.01293669899214677, 0.003528190634221846, 0.010584571902665539, 0.004704254178962462, 0.002352127089481231, 0.07198791493312894, 0.011997985822188157, 0.01999664303698026, 0.0919845579701092, 0.29328409787571047, 0.07332102446892762, 0.021329752572778946, 0.10398254379229735, 0.0586568195751421, 0.013331095357986841, 0.0013331095357986841, 0.0053324381431947366, 0.09465077704170656, 0.01999664303698026, 0.011997985822188157, 0.04532572421715526, 0.023995971644376314, 0.026662190715973682, 0.007998657214792104, 0.9374933371567582, 0.9638255209661479, 0.9326863778253008, 0.9765109162682291, 0.9735966234204173, 0.879242433031613, 0.0009908863907740623, 0.004954431953870311, 0.17340511838546088, 0.08521622960656935, 0.13872409470836872, 0.04855343314792905, 0.02675393255089968, 0.08422534321579529, 0.041617228412510615, 0.041617228412510615, 0.01288152308006281, 0.01783595503393312, 0.057471410664895604, 0.029726591723221864, 0.03369013728631812, 0.00891797751696656, 0.03170836450476999, 0.00891797751696656, 0.04062634202173655, 0.010899750298514685, 0.010899750298514685, 0.014863295861610932, 0.04954431953870311, 0.011890636689288747, 0.01387240947083687, 0.9442673892014614, 0.9683146549152232, 0.8787167594996613, 0.9075028036580753, 0.9608678717808528, 0.743650754379104, 0.9491544501184944, 0.03850158954680649, 0.9240381491233558, 0.9586739299410172, 0.9238673090357211, 0.9825935149445987, 0.9617905211833008, 0.9543161221187092, 0.01988158587747311, 0.004151519786284187, 0.07472735615311536, 0.06227279679426281, 0.012454559358852561, 0.03736367807655768, 0.4483641369186922, 0.053969757221694434, 0.020757598931420936, 0.2241820684593461, 0.049818237435410244, 0.004151519786284187, 0.0023365963712870677, 0.11682981856435339, 0.03504894556930602, 0.1238396076782146, 0.584149092821767, 0.03504894556930602, 0.009346385485148271, 0.009346385485148271, 0.0794442766237603, 0.9711424609784818, 0.957185003587502, 0.9399716110069929, 0.9773030012835497, 0.9667131041035342, 0.9626903986583472, 0.967362761892204, 0.9708696452188392, 0.12837570350665384, 0.7959293617412537, 0.051350281402661534, 0.9196753348609948, 0.10553991202099391, 0.7255868951443332, 0.09234742301836968, 0.07915493401574544, 0.9526770160202749, 0.8898210762407749, 0.2610530368534498, 0.7356949220415404, 0.15777426609191694, 0.6536362452379416, 0.0901567234810954, 0.0901567234810954, 0.1103710483882577, 0.8608941774284101, 0.02207420967765154, 0.9934664614244553, 0.9497999211875928, 0.04902193141613382, 0.2814767753308783, 0.09047467778492516, 0.030158225928308385, 0.15079112964154193, 0.030158225928308385, 0.4121624210202146, 0.027065870973271854, 0.010826348389308743, 0.005413174194654371, 0.21111379359152047, 0.04871856775188934, 0.38433536782046035, 0.16780840003428552, 0.010826348389308743, 0.11908983228239617, 0.4671170238510865, 0.5210151419877503, 0.034733363803996255, 0.305653601475167, 0.027786691043197, 0.07641340036879175, 0.47237374773434904, 0.06946672760799251, 0.9673608387495959, 0.051817762002942774, 0.8809019540500271, 0.9620904678229686, 0.043453848844133225, 0.8939077476507407, 0.05586923422817129, 0.36482773059454154, 0.02414301158346231, 0.01877789789824846, 0.5633369369474539, 0.013412784213034615, 0.01609534105564154, 0.9716892123529681, 0.9335416118024437, 0.9784332736358022, 0.23872305061104837, 0.050198772324753164, 0.121592581853291, 0.002231056547766807, 0.09928201637562292, 0.07139380952853783, 0.011155282738834036, 0.05912299851582039, 0.025657150299318282, 0.022310565477668073, 0.0011155282738834035, 0.010039754464950633, 0.010039754464950633, 0.002231056547766807, 0.006693169643300422, 0.05689194196805358, 0.006693169643300422, 0.0613540550635872, 0.01561739583436765, 0.039043489585919126, 0.006693169643300422, 0.08143356399348846, 0.9396413114405096, 0.05872758196503185, 0.0601024045004176, 0.901536067506264, 0.056359634076183426, 0.9393272346030571, 0.02286291632874198, 0.34294374493112967, 0.10047650070789238, 0.03670099726455949, 0.010829802471509359, 0.01203311385723262, 0.019252982171572192, 0.08904504254352139, 0.03549768587883623, 0.2153927380444639, 0.003008278464308155, 0.008423179700062833, 0.009024835392924466, 0.008423179700062833, 0.00601655692861631, 0.004211589850031417, 0.001203311385723262, 0.008423179700062833, 0.009024835392924466, 0.03429437449311297, 0.023464572021603607, 0.9643084929035262, 0.031218620273855163, 0.9832648596164246, 0.02225544429673832, 0.03815219022297998, 0.03497284103773165, 0.19394030030014822, 0.04769023777872498, 0.2670653315608599, 0.39423929897079313, 0.5623052510066402, 0.04134597433872354, 0.39692135365174597, 0.21161358404056324, 0.0195335616037443, 0.03743932640717657, 0.011394577602184175, 0.008138984001560125, 0.02930034240561645, 0.030928139205928473, 0.06022848161154492, 0.0130223744024962, 0.5339173505023441, 0.0195335616037443, 0.00976678080187215, 0.01627796800312025, 0.9906151002123255, 0.9527922546071956, 0.9637771213607644, 0.9802000982868878, 0.9758574871807199, 0.9613557247540652, 0.9559004138215417, 0.936315444514102, 0.14423537477662537, 0.8365651737044272, 0.09729759400357127, 0.8756783460321415, 0.9073691533895615, 0.0016901592738136357, 0.09718415824428406, 0.6329646480432066, 0.005070477821440907, 0.029577787291738628, 0.01605651310122954, 0.0380285836608068, 0.007605716732161361, 0.010986035279788633, 0.010140955642881814, 0.005070477821440907, 0.05831049494657044, 0.022817150196484084, 0.005070477821440907, 0.01183111491669545, 0.029577787291738628, 0.016901592738136358, 0.07802821576121902, 0.024969029043590087, 0.4119889792192364, 0.023408464728365705, 0.17634376762035497, 0.012484514521795043, 0.029650721989263225, 0.06242257260897521, 0.012484514521795043, 0.03901410788060951, 0.023408464728365705, 0.018726771782692563, 0.04525636514150703, 0.009363385891346282, 0.024969029043590087, 0.006242257260897522, 0.9141632107249317, 0.94865953749986, 0.7495067356697153, 0.01611842442300463, 0.04835527326901389, 0.04835527326901389, 0.04029606105751157, 0.056414485480516204, 0.03223684884600926, 0.004170120821148667, 0.07089205395952734, 0.03336096656918933, 0.03336096656918933, 0.07923229560182467, 0.075062174780676, 0.10008289970756801, 0.4587132903263534, 0.058381691496081335, 0.08340241642297334, 0.9888188723979459, 0.11390646859713206, 0.15677449441325703, 0.031844819177692836, 0.17392170473970703, 0.012248007376035706, 0.011023206638432136, 0.017147210326449988, 0.004899202950414282, 0.008573605163224994, 0.012248007376035706, 0.12125527302275349, 0.018372011064053558, 0.036744022128107116, 0.030620018440089266, 0.008573605163224994, 0.04041842434091783, 0.06001523614257496, 0.01959681180165713, 0.013472808113639276, 0.014697608851242848, 0.026945616227278552, 0.05756563466736782, 0.012248007376035706, 0.0652233663161513, 0.08385861383505168, 0.01863524751890037, 0.03727049503780074, 0.1397643563917528, 0.16771722767010336, 0.43792831669415877, 0.02795287127835056, 0.020311565348058357, 0.3534212370562154, 0.12999401822757348, 0.004062313069611671, 0.23967647110708862, 0.020311565348058357, 0.04062313069611671, 0.16655483585407851, 0.020311565348058357, 0.021936859387958307, 0.031908159109757535, 0.025925379276678, 0.0737876179413143, 0.103701517106712, 0.005982779833079538, 0.09572447732927261, 0.181477654936746, 0.009971299721799231, 0.12763263643903014, 0.13162115632774984, 0.011965559666159076, 0.0737876179413143, 0.051850758553356, 0.051850758553356, 0.9537565935263603, 0.031965515077505516, 0.023769229160196408, 0.13032094608521477, 0.057374001421163744, 0.07212731607232013, 0.062291772971549204, 0.028687000710581872, 0.015572943242887301, 0.058193630012894654, 0.0385225438113528, 0.04098142958654553, 0.0073766573255781955, 0.03770291521962189, 0.048358086912123725, 0.052456229870778276, 0.024588857751927318, 0.0073766573255781955, 0.0696684302971274, 0.06311140156328011, 0.0073766573255781955, 0.005737400142116374, 0.04425994395346917, 0.004917771550385463, 0.009835543100770927, 0.0065570287338472845, 0.005737400142116374, 0.0385225438113528, 0.0073766573255781955, 0.2868446811509515, 0.06192202640718954, 0.07649191497358708, 0.06010079033638985, 0.06192202640718954, 0.071028206761188, 0.023676068920396, 0.07740253300898692, 0.007284944283198769, 0.025497304991195693, 0.006374326247798923, 0.022765450884996156, 0.021854832849596308, 0.020033596778796615, 0.03824595748679354, 0.015480506601797384, 0.013659270530997693, 0.021854832849596308, 0.03096101320359477, 0.02822915909739523, 0.009106180353998461, 0.014569888566397538, 0.005463708212399077, 0.006504939806772807, 0.03686132557171257, 0.08890084402589503, 0.0910691572948193, 0.032524699033864034, 0.2515243391952152, 0.015178192882469884, 0.08022759095019796, 0.032524699033864034, 0.017346506151394152, 0.04336626537848538, 0.09540578383266785, 0.015178192882469884, 0.008673253075697076, 0.002168313268924269, 0.052039518454182455, 0.08456421748804649, 0.02385144595816696, 0.01951481942031842, 0.9714260205720727, 0.978068148602954, 0.24849829805443555, 0.10082512912864393, 0.053977089331496246, 0.01120279212540488, 0.07129049534348561, 0.07230893099124969, 0.00916592082987672, 0.10591730736746433, 0.02240558425080976, 0.04684803979714768, 0.01222122777316896, 0.02749776248963016, 0.01425809906869712, 0.00305530694329224, 0.025460891194102, 0.01731340601198936, 0.01629497036422528, 0.0050921782388204, 0.00611061388658448, 0.031571505080686485, 0.01629497036422528, 0.01731340601198936, 0.02138714860304568, 0.0050921782388204, 0.00407374259105632, 0.03258994072845056, 0.2773374625989523, 0.19066950553677972, 0.5200077423730356, 0.983854845033877, 0.09210572421118719, 0.09629234803896843, 0.1688604943871765, 0.015350954035197865, 0.036284073174104044, 0.06279935741671853, 0.026515284242614495, 0.06000827486486438, 0.03209744934632281, 0.06000827486486438, 0.019537577862979102, 0.006977706379635394, 0.016746495311124945, 0.006977706379635394, 0.29027258539283235, 0.011164330207416629, 0.9232069051548968, 0.9623675544570117, 0.9549472943663034, 0.03350692260934398, 0.9550388394955226, 0.026447354070623926, 0.13223677035311962, 0.8463153302599656, 0.9843687439697826, 0.9256945167594091, 0.0057988278936242765, 0.0715188773546994, 0.1092112586632572, 0.1111442012944653, 0.02222884025889306, 0.012564127102852598, 0.049290037095806344, 0.024161782890101152, 0.2203554599577225, 0.03672590999295375, 0.027061196836913288, 0.008698241840436414, 0.06572004946107513, 0.03962532393976589, 0.00483235657802023, 0.0028994139468121382, 0.003865885262416184, 0.0357594386773497, 0.010631184471644507, 0.029960610783725427, 0.08988183235117628, 0.007731770524832368, 0.008698241840436414, 0.06338562432312236, 0.887398740523713, 0.1181773877868684, 0.8666341771037016, 0.9679781345721845, 0.9340874651312286, 0.8937084015866897, 0.025534525759619706, 0.06383631439904927, 0.015641025450286998, 0.1784917021973928, 0.0009200603206051174, 0.054283558915701934, 0.17573152123557745, 0.017481146091497233, 0.15549019418226484, 0.008280542885446057, 0.053363498595096814, 0.038642533465414936, 0.03312217154178423, 0.031282050900573996, 0.0690045240453838, 0.0073604825648409394, 0.01104072384726141, 0.025761688976943288, 0.004600301603025587, 0.06716440340417358, 0.019321266732707468, 0.02208144769452282, 0.006440422244235822, 0.0036802412824204697, 0.005127242627503713, 0.06665415415754826, 0.010254485255007426, 0.0410179410200297, 0.18252983753913216, 0.07485774236155421, 0.09536671287156906, 0.12305382306008911, 0.00820358820400594, 0.04922152922403564, 0.021534419035515593, 0.017432624933512622, 0.023585316086517077, 0.030763455765022277, 0.0030763455765022273, 0.006152691153004455, 0.005127242627503713, 0.06665415415754826, 0.055374220377040095, 0.02050897051001485, 0.025636213137518564, 0.015381727882511138, 0.0410179410200297, 0.010254485255007426, 0.015410042544462127, 0.08218689357046467, 0.0359567659370783, 0.025683404240770213, 0.06677685102600255, 0.6677685102600255, 0.04623012763338638, 0.05650348932969447, 0.04327044725221729, 0.10817611813054323, 0.8221384977921286, 0.27502411158924717, 0.00756947096117194, 0.020185255896458507, 0.08831049454700597, 0.11858837839169373, 0.027754726857630446, 0.025231569870573133, 0.050463139741146266, 0.025231569870573133, 0.050463139741146266, 0.30782515242099223, 0.9755225423685621, 0.9857825638842874, 0.12560407958518643, 0.10602941783165087, 0.0016312218127946289, 0.019574661753535547, 0.05872398526060664, 0.013049774502357031, 0.013049774502357031, 0.05872398526060664, 0.024468327191919433, 0.09950453058047236, 0.008156109063973144, 0.04567421075824961, 0.022837105379124804, 0.019574661753535547, 0.02773077081750869, 0.03751810169427647, 0.0032624436255892578, 0.2479457155447836, 0.03099321444309795, 0.019574661753535547, 0.01631221812794629, 0.23461037032733115, 0.060429943872191354, 0.010664107742151416, 0.36613436581386527, 0.29859501678023964, 0.02132821548430283, 0.19667425303143837, 0.4654623988410708, 0.17700682772829454, 0.1573394024251507, 0.03700690628557745, 0.11546154761100165, 0.04440828754269294, 0.02072386751992337, 0.04884911629696223, 0.27977221151896553, 0.034046353782731256, 0.03552663003415435, 0.04144773503984674, 0.00740138125711549, 0.016283038765654078, 0.001480276251423098, 0.15542900639942528, 0.025164696274192665, 0.05921105005692392, 0.03108580127988506, 0.002960552502846196, 0.017763315017077175, 0.011842210011384784, 0.010361933759961686, 0.99076715672803, 0.10083061167713091, 0.003928465390018087, 0.16106708099074157, 0.06023646931361067, 0.0104759077067149, 0.011785396170054262, 0.018332838486751074, 0.06547442316696812, 0.09690214628711283, 0.051070050070235136, 0.03928465390018088, 0.03273721158348406, 0.03928465390018088, 0.2304699695477278, 0.0013094884633393625, 0.0065474423166968125, 0.040594142363520234, 0.014404373096732988, 0.011785396170054262, 0.05930871731610442, 0.859976401083514, 0.02965435865805221, 0.05824824917192988, 0.3300734119742693, 0.6018985747766088, 0.9726001921781671, 0.9019344848400909, 0.02872402817962073, 0.04021363945146902, 0.02297922254369658, 0.9478158723515123, 0.5159143714154255, 0.25795718570771276, 0.05159143714154255, 0.008598572856923758, 0.15477431142462764, 0.11360523114961181, 0.06196648971797008, 0.2650788726824276, 0.010327748286328348, 0.05336003281269646, 0.012049039667383072, 0.06713036386113426, 0.2392595019666067, 0.012049039667383072, 0.1618013898191441, 0.7733268916284468, 0.07733268916284468, 0.13919884049312042, 0.9276664651268133, 0.8936637993715901, 0.1922790144257075, 0.0727913411754464, 0.2801779924488881, 0.043949489011590286, 0.0796584488335074, 0.05631028279610005, 0.004120264594836589, 0.005493686126448786, 0.017854479910958555, 0.045322910543202484, 0.017854479910958555, 0.08240529189673178, 0.012360793784509768, 0.004120264594836589, 0.016481058379346356, 0.017854479910958555, 0.028841852163856124, 0.009613950721285375, 0.006867107658060982, 0.004120264594836589, 0.17785253669306902, 0.07904557186358624, 0.0494034824147414, 0.05928417889768968, 0.6027224854598451, 0.01976139296589656, 0.18075706840173006, 0.8134068078077853, 0.9333253191937984, 0.0039202274515390675, 0.02548147843500394, 0.047042729418468814, 0.00980056862884767, 0.04116238824116021, 0.1568090980615627, 0.08232477648232042, 0.1156467098204025, 0.07644443530501183, 0.07448432157924229, 0.05096295687000788, 0.02940170588654301, 0.03528204706385161, 0.01568090980615627, 0.011760682354617203, 0.06076352549885555, 0.1568090980615627, 0.005880341177308602, 0.9278162788107591, 0.17358178319551185, 0.029200673808590778, 0.03244519312065642, 0.49803371440207606, 0.035689712432722065, 0.06002360727321438, 0.0389342317447877, 0.021089375528426674, 0.034067452776689246, 0.003244519312065642, 0.009733557936196926, 0.01622259656032821, 0.03244519312065642, 0.001622259656032821, 0.012978077248262568, 0.9431690647175623, 0.1707580909347021, 0.07708764210175527, 0.04481839657078795, 0.09053316107299166, 0.0806731138274183, 0.03988837294800127, 0.02644285397676489, 0.029131957771012167, 0.016134622765483664, 0.04257747674224855, 0.06095301933627161, 0.0546784438163613, 0.04123292484512491, 0.033613797428090966, 0.013893702936944264, 0.033613797428090966, 0.011204599142696987, 0.003585471725663036, 0.02733922190818065, 0.008515495348449711, 0.0076191274170339515, 0.015238254834067903, 0.004930023622786674, 0.008067311382741832, 0.012100967074112746, 0.0022409198285393973, 0.001792735862831518, 0.021512830353978215, 0.020168278456854576, 0.09852995422015964, 0.8539262699080502, 0.03284331807338654, 0.06863907967606708, 0.823668956112805, 0.0823668956112805, 0.949155735395508, 0.897014931773817, 0.9775243565076617, 0.9673254199721241, 0.09793855179271961, 0.024129788122843963, 0.40027060297894107, 0.15045632594243882, 0.005677597205375051, 0.004258197904031287, 0.009935795109406337, 0.005677597205375051, 0.05535657275240674, 0.007096996506718813, 0.04967897554703169, 0.13484293362765745, 0.03264618393090654, 0.014193993013437626, 0.008516395808062575, 0.7005139572032332, 0.2968279479674717, 0.8974858614679045, 0.08348705688073531, 0.027673979783765283, 0.9685892924317849, 0.9060690187248965, 0.01122209598050653, 0.15336864506692258, 0.0037406986601688434, 0.4264396472592481, 0.07107327454320803, 0.1645907410474291, 0.04488838392202612, 0.01122209598050653, 0.05236978124236381, 0.03740698660168843, 0.02244419196101306, 0.9543267625990972, 0.9814769192889854, 0.2245840286218107, 0.7700023838462081, 0.9171825024894955, 0.9582774650771987, 0.914464988298011, 0.9836850014768763, 0.011675786367678057, 0.9602169901152052, 0.041020893224124895, 0.12306267967237469, 0.1504099418217913, 0.3418407768677075, 0.3418407768677075, 0.01982805637910701, 0.12964498401723815, 0.03202993722778825, 0.1708263318815373, 0.1448973350780897, 0.02592899680344763, 0.007626175530425773, 0.07778699041034288, 0.3386021935509043, 0.02287852659127732, 0.01982805637910701, 0.007626175530425773, 0.9707574097145721, 0.22220387379273782, 0.06774508347339567, 0.02438823005042244, 0.07587449349020316, 0.0027098033389358267, 0.02709803338935827, 0.06232547679552402, 0.01625882003361496, 0.3143371873165559, 0.02438823005042244, 0.02438823005042244, 0.021678426711486613, 0.09755292020168976, 0.013549016694679134, 0.9778786448606793, 0.9783108167055116, 0.22257250998032396, 0.06182569721675665, 0.1607468127635673, 0.2473027888670266, 0.08655597610345932, 0.21020737053697264, 0.9913170731824023, 0.5137794962456605, 0.011867189451326398, 0.06212822712753232, 0.009074909580426069, 0.015357539289951809, 0.02164016899947755, 0.0013961399354501646, 0.019545959096302305, 0.1256525941905148, 0.02513051883810296, 0.05584559741800658, 0.06212822712753232, 0.02164016899947755, 0.011169119483601317, 0.016753679225401975, 0.008376839612700988, 0.004188419806350494, 0.011169119483601317, 0.0027922798709003292, 0.9219436464151446, 0.9870576517289462, 0.13338718356618007, 0.6669359178309003, 0.8290242214394812, 0.09753226134582131, 0.06502150756388088, 0.88855036187281, 0.088855036187281, 0.014809172697880168, 0.047014093826765226, 0.10668582829919801, 0.028931750047240138, 0.05605526571652777, 0.059671734472432784, 0.03435645318109766, 0.15550815650391575, 0.005424703133857526, 0.35622217245664417, 0.005424703133857526, 0.01265764064566756, 0.016274109401572576, 0.02712351566928763, 0.0072329375118100345, 0.02712351566928763, 0.014465875023620069, 0.01265764064566756, 0.02531528129133512, 0.8437063155985982, 0.13774796989364868, 0.7952420087570881, 0.14033682507478024, 0.18534262623012113, 0.06995775597901631, 0.06541504455180745, 0.09357985540050233, 0.004542711427208851, 0.07268338283534162, 0.05087836798473913, 0.03179897999046196, 0.061780875410040376, 0.006359795998092391, 0.022713557136044258, 0.07995172111887579, 0.009993965139859473, 0.019987930279718947, 0.0009085422854417703, 0.014536676567068325, 0.049969825699297366, 0.024530641706927796, 0.005451253712650621, 0.015445218852510094, 0.027256268563253108, 0.07540900969166693, 0.010902507425301243, 0.9753194859212381, 0.9191871865992617, 0.07395758972637738, 0.9373198352173238, 0.04253650582974496, 0.04253650582974496, 0.15313142098708188, 0.013611681865518388, 0.02211898303146738, 0.030626284197416375, 0.30115846127459434, 0.020417522798277583, 0.04253650582974496, 0.1071919946909573, 0.015313142098708188, 0.010208761399138792, 0.05955110816164295, 0.020417522798277583, 0.03402920466379597, 0.032327744430606174, 0.0017014602331897985, 0.020417522798277583, 0.030626284197416375, 0.9653542523663428, 0.11293075877221415, 0.018821793128702358, 0.0439175173003055, 0.41407944883145187, 0.40780551778855106, 0.017679786055871536, 0.021947320621081907, 0.01463154708072127, 0.021337672826051854, 0.04328499344713376, 0.414560500620436, 0.02316661621114201, 0.020118377235991747, 0.045113936832223915, 0.011583308105571006, 0.020118377235991747, 0.05608759714276487, 0.012192955900601059, 0.039017458881923386, 0.015850842670781375, 0.02865344636641249, 0.015850842670781375, 0.03718851549683323, 0.0060964779503005296, 0.01646049046581143, 0.01463154708072127, 0.057916540527855026, 0.005486830155270477, 0.004877182360240423, 0.009144716925450795, 0.024385911801202118, 0.0030482389751502648, 0.047140708413787306, 0.9428141682757462, 0.9495278520465791, 0.9922737839345603, 0.17311405270000044, 0.06352809273394512, 0.03335224868532119, 0.025411237093578048, 0.136585399377982, 0.026999439411926677, 0.10323315069266081, 0.006352809273394512, 0.001588202318348628, 0.01588202318348628, 0.012705618546789024, 0.019058427820183535, 0.03652865332201844, 0.006352809273394512, 0.03335224868532119, 0.00794101159174314, 0.012705618546789024, 0.025411237093578048, 0.21917191993211066, 0.03176404636697256, 0.00794101159174314, 0.9865066716971155, 0.9455686584596037, 0.9674127273938781, 0.7801205563155557, 0.9875826784048708, 0.9530867467418025, 0.9227170035348057, 0.1328964232643419, 0.1328964232643419, 0.5731158253274744, 0.15781450262640598, 0.9728662205290871, 0.9625522444043263, 0.9741989690251123, 0.08545082659567943, 0.897233679254634, 0.9816307827757821, 0.9096538399356182, 0.977753844801685, 0.9232497589477507, 0.9790957589703104, 0.009694017415547627, 0.8814273490308205, 0.9767897152385049, 0.9339319771859561, 0.8923065540304679, 0.02595514451314919, 0.96034034698652, 0.9278203537908806, 0.919245457535054, 0.048381339870266, 0.024190669935133, 0.07526063853629196, 0.004607794196099507, 0.13976975728168506, 0.06911691294149262, 0.052221667555794424, 0.35787201589706175, 0.05836539315059376, 0.013823382588298523, 0.021503039581797702, 0.04607794196099508, 0.039934216366195735, 0.1198026490985872, 0.02348630097872414, 0.07045890293617242, 0.8455068352340691, 0.04697260195744828, 0.9829669604846443, 0.07321468672746938, 0.040394309918603793, 0.05806682050799295, 0.6160132262587079, 0.022721799329214636, 0.015147866219476423, 0.032820376808865584, 0.015147866219476423, 0.02524644369912737, 0.015147866219476423, 0.05301753176816748, 0.01767251058938916, 0.010098577479650948, 0.047557867583999186, 0.07884593836294601, 0.036294162103578324, 0.18147081051789163, 0.0187728424673681, 0.08635507534989326, 0.1689555822063129, 0.01501827397389448, 0.00750913698694724, 0.1689555822063129, 0.0375456849347362, 0.008760659818105114, 0.06758223288252516, 0.042551776259367693, 0.020024365298525974, 0.012515228311578733, 0.00375456849347362, 0.05439889248829076, 0.9435394110900087, 0.971654679100715, 0.020985501563711036, 0.9263599975981015, 0.05096478951186966, 0.871537565002776, 0.9811383053444499, 0.6981777071021675, 0.0925295756400463, 0.20188271048737375, 0.01997569500765256, 0.13483594130165477, 0.054933161271044535, 0.00499392375191314, 0.054933161271044535, 0.7241189440274053, 0.03469755378719482, 0.04791566951564999, 0.3089734551526396, 0.3486278023380051, 0.01321811572845517, 0.029740760389024134, 0.04791566951564999, 0.01321811572845517, 0.03469755378719482, 0.01817490912662586, 0.009913586796341377, 0.009913586796341377, 0.021479438058739652, 0.014870380194512067, 0.006609057864227585, 0.02643623145691034, 0.0033045289321137926, 0.008261322330284482, 0.9815135059600719, 0.743482385498807, 0.9470620521041647, 0.04058837366160706, 0.9132616054187809, 0.9655920400995235, 0.9743627546939392, 0.02015832121757014, 0.10583118639224323, 0.8668078123555161, 0.11621705738598563, 0.056817228055370754, 0.033573816578173626, 0.056817228055370754, 0.2944165453778303, 0.018078208926708878, 0.036156417853417756, 0.030991215302929503, 0.023243411477197128, 0.07747803825732376, 0.06973023443159138, 0.012913006376220625, 0.11621705738598563, 0.007747803825732376, 0.02582601275244125, 0.0103304051009765, 0.012913006376220625, 0.9802999094286413, 0.04777368524435951, 0.9467875802973066, 0.11131645023343775, 0.07220526501628395, 0.14140197732355606, 0.1353848719055324, 0.03309407979913014, 0.024068421672094647, 0.4693342226058456, 0.012034210836047323, 0.9599722796180122, 0.9345241059657867, 0.9469625684564451, 0.918196766019835, 0.9513110710977799, 0.9387560455148047, 0.9848385777897104, 0.052550900118603736, 0.928399235428666, 0.9198799406521309, 0.06889027148295211, 0.021017370960900644, 0.8757237900375268, 0.009341053760400286, 0.023352634401000716, 0.7755815463955795, 0.2361508341379047, 0.708452502413714, 0.06840555067314934, 0.08208666080777921, 0.09576777094240907, 0.7387799472700128, 0.050271238917820704, 0.1709222123205904, 0.008378539819636785, 0.09551535394385935, 0.08713681412422256, 0.3988184954147109, 0.03854128317032921, 0.018432787603200926, 0.050271238917820704, 0.018432787603200926, 0.05864977873745749, 0.003351415927854714, 0.9804549367002421, 0.9547483860491239, 0.0058133526365842575, 0.1148137145725391, 0.02616008686462916, 0.06976023163901109, 0.16132053566521315, 0.04941349741096619, 0.045053482933528, 0.0654002171615729, 0.0203467342280449, 0.03633345397865161, 0.03633345397865161, 0.02325341054633703, 0.12498708168656154, 0.03342677766035948, 0.007266690795730322, 0.03924013029694374, 0.03197343950121342, 0.01017336711402245, 0.02616008686462916, 0.058133526365842576, 0.007266690795730322, 0.007266690795730322, 0.95492792514946, 0.9568389964612954, 0.8344256422736225, 0.9265546494531954, 0.9571256500178777, 0.9380494435911276, 0.06987475897896887, 0.06563992510145561, 0.044465755713889284, 0.02540900326507959, 0.044465755713889284, 0.3769002150986806, 0.031761254081349485, 0.004234833877513265, 0.23715069714074286, 0.006352250816269897, 0.01693933551005306, 0.03387867102010612, 0.010587084693783163, 0.02752642020383622, 0.3124635832700126, 0.0735208431223559, 0.5697865341982583, 0.04595052695147244, 0.9086909668828106, 0.9987220524862879, 0.9668290898050469, 0.9124903353256304, 0.06366211641806724, 0.002959425935407421, 0.022407082082370473, 0.04777359010014837, 0.025366508017777897, 0.12006813795081538, 0.13021474115792653, 0.028325933953185316, 0.058765743574518796, 0.016488230211555634, 0.009301052939851895, 0.04692803983288911, 0.017756555612444526, 0.011837703741629685, 0.01860210587970379, 0.008878277806222263, 0.06383904517807437, 0.04270028849659279, 0.021984306948740845, 0.009723828073481527, 0.005918851870814842, 0.1551584740420748, 0.01310602914251858, 0.02367540748325937, 0.004650526469925947, 0.016065455077926002, 0.017756555612444526, 0.0008455502672592631, 0.004650526469925947, 0.004227751336296316, 0.011414928608000053, 0.03509033609125942, 0.004227751336296316, 0.9392993187721865, 0.9408576434452868, 0.2568148457195051, 0.0019604186696145424, 0.11762512017687254, 0.054891722749207186, 0.038228164057483575, 0.04508962940113448, 0.05685214141882173, 0.06175318809285809, 0.08135737478900351, 0.012742721352494525, 0.013722930687301797, 0.01666355869172361, 0.03332711738344722, 0.009802093348072713, 0.05293130407959264, 0.03920837339229085, 0.023525024035374507, 0.0029406280044218134, 0.02254481470056724, 0.014703140022109068, 0.017643768026530882, 0.011762512017687254, 0.006861465343650898, 0.006861465343650898, 0.9333751478493125, 0.06021775147414919, 0.9778679130894816, 0.9462444666117927, 0.8782657686284877, 0.11908688388182884, 0.8704658672741299, 0.07680581181830558, 0.051203874545537056, 0.9950409829911115, 0.9683144167659907, 0.9781331527787253, 0.9707326550150778, 0.9542531955469585, 0.9781056361403989, 0.9820321117501628, 0.018162416721654633, 0.009906772757266162, 0.4573626756271212, 0.15025272015187013, 0.018162416721654633, 0.11062562912280548, 0.23446028858863252, 0.9328774850737143, 0.1309657403405193, 0.009680076459951427, 0.011957741509351763, 0.03985913836450588, 0.16626954860622453, 0.08256535804076218, 0.01708248787050252, 0.06776053521966, 0.05808045875970857, 0.07516294663021109, 0.040997970889206044, 0.023915483018703526, 0.009110660197601343, 0.029040229379854284, 0.013096574034051931, 0.06776053521966, 0.020498985444603022, 0.03872030583980571, 0.0028470813117504198, 0.05466396118560806, 0.03587322452805529, 0.0011388325247001679, 0.0022776650494003357, 0.03378065716780276, 0.051320613774161895, 0.031831773100429527, 0.071459082470352, 0.26764674525259113, 0.009744420336866183, 0.06171466213348582, 0.0006496280224577455, 0.01624070056144364, 0.04612358959449993, 0.06301391817840131, 0.015591072538985892, 0.014941444516528147, 0.053919125863992876, 0.042875449482211204, 0.0142918164940704, 0.09159755116654211, 0.018189584628816872, 0.001299256044915491, 0.004547396157204218, 0.006496280224577455, 0.0071459082470352, 0.006496280224577455, 0.011043676381781673, 0.05521838190890836, 0.002598512089830982, 0.001299256044915491, 0.09636375097535196, 0.2602814717066208, 0.047685155121823655, 0.07152773268273548, 0.050665477316937636, 0.07649493634125878, 0.025829459024321145, 0.013908170243865233, 0.07649493634125878, 0.003973762926818638, 0.004967203658523297, 0.03576386634136774, 0.010927848048751253, 0.005960644390227957, 0.005960644390227957, 0.005960644390227957, 0.13113417658501506, 0.03973762926818638, 0.006954085121932616, 0.022849136829207167, 0.006954085121932616, 0.9650393854590011, 0.08530865950212332, 0.8918632584312892, 0.019388331705028027, 0.02957519184022838, 0.03943358912030451, 0.9266893443271559, 0.06562560171291562, 0.9187584239808186, 0.15994885976481266, 0.05778797514083554, 0.04953255012071618, 0.010319281275149203, 0.06501147203343999, 0.0712030407985295, 0.012383137530179045, 0.08358617832870856, 0.03921326884556697, 0.02683013131538793, 0.019606634422783487, 0.0010319281275149204, 0.06913918454349967, 0.06397954390592507, 0.038181340718052056, 0.007223496892604443, 0.04437290948314158, 0.016510850040238726, 0.043340981355626654, 0.07017111267101458, 0.021670490677813327, 0.011351209402664125, 0.018574706295268566, 0.9638671649740959, 0.13847961963064434, 0.006440912540960202, 0.3808189539842719, 0.014492053217160454, 0.017712509487640554, 0.04267104558386134, 0.03623013304290113, 0.012881825081920404, 0.008051140676200252, 0.07487560828866234, 0.006440912540960202, 0.02012785169050063, 0.005635798473340176, 0.03381479084004106, 0.004830684405720151, 0.053942642530541686, 0.04508638778672141, 0.025763650163840808, 0.004025570338100126, 0.01690739542002053, 0.04186593151624131, 0.004025570338100126, 0.005635798473340176, 0.0461710462134805, 0.45209149417366323, 0.03655207825233873, 0.09811347320364606, 0.019237935922283542, 0.04232345902902379, 0.0461710462134805, 0.038475871844567085, 0.05386622058239392, 0.050018633397937204, 0.019237935922283542, 0.030780697475653665, 0.01346655514559848, 0.028856903883425312, 0.021161729514511896, 0.9697670700714404, 0.9656904087994078, 0.9764313512758421, 0.8292340072652615, 0.08663638881875867, 0.07425976184465029, 0.9688173276013413, 0.9527627343309849, 0.9236703917352542, 0.09708389596255698, 0.83492150527799, 0.058250337577534186, 0.032446431004232605, 0.9409464991227456, 0.09466776758859279, 0.8283429664001868, 0.04733388379429639, 0.015249498959109323, 0.28364068063943343, 0.006099799583643729, 0.45138516918963595, 0.012199599167287458, 0.021349298542753053, 0.024399198334574917, 0.07929739458736848, 0.1036965929219434, 0.9357284520158339, 0.10698956066530149, 0.08024217049897613, 0.8024217049897612, 0.9504986706479577, 0.15303906013090965, 0.3060781202618193, 0.045498098957838004, 0.037225717329140186, 0.07858762547262928, 0.03308952651479127, 0.04963428977218691, 0.037225717329140186, 0.23576287641788782, 0.024817144886093455, 0.9589441470990717, 0.10154945378687621, 0.06769963585791747, 0.160786635162554, 0.4315851785942239, 0.11001190826911589, 0.11847436275135557, 0.9102034702917259, 0.9032555554645726, 0.09132073721971708, 0.03044024573990569, 0.051061057370164385, 0.051061057370164385, 0.07364575582235247, 0.04222356667148209, 0.12863458683637566, 0.05302494419209378, 0.009819434109646996, 0.021602755041223394, 0.011783320931576396, 0.014729151164470496, 0.04418745349341149, 0.005891660465788198, 0.040259679849552685, 0.009819434109646996, 0.07069992558945838, 0.18755119149425764, 0.005891660465788198, 0.02651247209604689, 0.009819434109646996, 0.007855547287717597, 0.011783320931576396, 0.9691579318028012, 0.12218922024543291, 0.8629613679833699, 0.14996705070990335, 0.009997803380660222, 0.10997583718726245, 0.41990774198772934, 0.28993629803914645, 0.9630365949424065, 0.12173662870405005, 0.8521564009283504, 0.04733108287675811, 0.9466216575351621, 0.33861662409536203, 0.018205194843836668, 0.050974545562742675, 0.2038981822509707, 0.021846233812604, 0.032769350718906, 0.018205194843836668, 0.003641038968767334, 0.054615584531510004, 0.251231688844946, 0.955419543993537, 0.9780792278315037, 0.8246274065282956, 0.9908010248058181, 0.12140247453548585, 0.010116872877957154, 0.4653761523860291, 0.394558042240329, 0.17050344807467357, 0.7502151715285637, 0.07246396543173626, 0.026696332856212916, 0.09138360093088269, 0.014374948461037726, 0.2885257512536858, 0.022589204724487853, 0.06571405010760104, 0.04004449928431938, 0.21973135504729094, 0.015401730493968991, 0.010267820329312661, 0.01848207659276279, 0.0605801399429447, 0.024642768790350385, 0.09959785719433281, 0.004107128131725065, 0.9412885025231891, 0.0790675706886509, 0.004763106667991019, 0.04572582401271378, 0.04858368801350839, 0.12574601603496288, 0.011431456003178445, 0.1581351413773018, 0.1038357253622042, 0.0752570853542581, 0.0752570853542581, 0.029531261341544317, 0.013336698670374852, 0.02286291200635689, 0.021910290672758684, 0.03905747467752635, 0.009526213335982038, 0.006668349335187426, 0.012384077336776649, 0.051441552014303, 0.0028578640007946112, 0.049536309347106594, 0.0009526213335982037, 0.009526213335982038, 0.4057111663700291, 0.011359912658360814, 0.004868533996440349, 0.06329094195372453, 0.05030818462988361, 0.016228446654801162, 0.25316376781489813, 0.019474135985761396, 0.02758835931316198, 0.045439650633443254, 0.006491378661920465, 0.022719825316721627, 0.03894827197152279, 0.01785129132028128, 0.006491378661920465, 0.008114223327400581, 0.9456018489854875, 0.9276138911088961, 0.04641321780592804, 0.4527867248178313, 0.014439667761844278, 0.08870081625132914, 0.024753716163161618, 0.0010314048401317342, 0.02991074036382029, 0.020628096802634683, 0.018565287122371214, 0.0020628096802634685, 0.025785121003293353, 0.030942145203952023, 0.16811898894147267, 0.004125619360526937, 0.014439667761844278, 0.028879335523688557, 0.02991074036382029, 0.05344439851626351, 0.07399993640713409, 0.06577772125078586, 0.02055553789087058, 0.012333322734522348, 0.6289994594606397, 0.016444430312696465, 0.06577772125078586, 0.06166661367261174, 0.9165685344241198, 0.03819035560100499, 0.03519605980218428, 0.6100650365711943, 0.3460945880548121, 0.24866903622207726, 0.17553108439205453, 0.02925518073200909, 0.5265932531761636, 0.8791464079273065, 0.09555939216601157, 0.03571795804315258, 0.8072258517752484, 0.13215644475966457, 0.01785897902157629, 0.043182665335753344, 0.9356244156079891, 0.9841834554987331, 0.9028735821662649, 0.0994012651143858, 0.8835668010167627, 0.73347154006649, 0.21037555800356686, 0.045486607135906354, 0.9176359231497563, 0.9890547388152217, 0.2358043662782234, 0.7613112396982642, 0.09725693379734798, 0.43070927824539823, 0.13893847685335425, 0.3195584967627148, 0.9670838894187167, 0.9351470183812296, 0.007214728717747962, 0.35833152631481546, 0.04409000883068199, 0.09940292900008303, 0.006413092193553744, 0.057717829741983695, 0.005611455669359526, 0.16674039703239735, 0.000801636524194218, 0.008016365241942179, 0.08337019851619867, 0.024850732250020758, 0.028858914870991847, 0.012826184387107488, 0.01683436700807858, 0.029660551395186065, 0.009619638290330615, 0.000801636524194218, 0.02805727834679763, 0.004809819145165308, 0.004809819145165308, 0.9678411009598693, 0.0366868910566194, 0.02271093255885963, 0.02271093255885963, 0.019216942934419685, 0.08210875617433866, 0.0122289636855398, 0.03144590661995948, 0.01048196887331983, 0.0489158547421592, 0.08036176136211869, 0.5136164747926716, 0.03843388586883937, 0.06463880805213894, 0.0069879792488798855, 0.005240984436659915, 0.9774662753842429, 0.03192150186281316, 0.0922176720481269, 0.023645556935417155, 0.11704550683031492, 0.10758728405614806, 0.023645556935417155, 0.290840350305631, 0.08630628281427262, 0.0839417271207309, 0.008275944927396004, 0.02128100124187544, 0.007093667080625147, 0.009458222774166863, 0.009458222774166863, 0.020098723395104583, 0.0011822778467708579, 0.030739224016042302, 0.011822778467708578, 0.013005056314479435, 0.01064050062093772, 0.04935431316451798, 0.13572436120242445, 0.734145408322205, 0.05552360231008273, 0.02467715658225899, 0.4943875288358762, 0.04278909606298812, 0.038741478867840594, 0.02139454803149406, 0.038741478867840594, 0.020238085975737622, 0.10465981604595742, 0.004047617195147525, 0.0028911551393910892, 0.06707479923387327, 0.026020396254519802, 0.007517003362416831, 0.04394555811874455, 0.0017346930836346535, 0.026020396254519802, 0.02139454803149406, 0.0057823102787821785, 0.01040815850180792, 0.008673465418173267, 0.0017346930836346535, 0.009829927473929703, 0.0017346930836346535, 0.9696104077037774, 0.020947274193587738, 0.06807864112916015, 0.0314209112903816, 0.09949955241954175, 0.0157104556451908, 0.14139410080671722, 0.08378909677435095, 0.37705093548457924, 0.0157104556451908, 0.047131366935572405, 0.06807864112916015, 0.0314209112903816, 0.9883655844325164, 0.2191563517424733, 0.4644027453590506, 0.13566821774534063, 0.1617582596194446, 0.010436016749641586, 0.12247711448540463, 0.0668056988102207, 0.08907426508029427, 0.03340284940511035, 0.6791912712372439, 0.9676225274161406, 0.9198799293247846, 0.9191846506058492, 0.18621747343115388, 0.019910044329117083, 0.06324367022190132, 0.043333625892784236, 0.10189257980195213, 0.04450480497096759, 0.0527030585182511, 0.02576593972003387, 0.02459476064185051, 0.16162271278930337, 0.03630655142368409, 0.0772978191601016, 0.016396507094567008, 0.039820088658234165, 0.0023423581563667153, 0.008198253547283504, 0.022252402485483797, 0.009369432625466861, 0.011711790781833577, 0.008198253547283504, 0.014054148938200292, 0.018738865250933722, 0.003513537234550073, 0.009369432625466861, 0.01357179828980006, 0.03392949572450015, 0.02714359657960012, 0.05428719315920024, 0.023750647007150103, 0.08821668888370039, 0.19000517605720083, 0.24429236921640107, 0.230720570926601, 0.06107309230410027, 0.02035769743470009, 0.00678589914490003, 0.9588129692926189, 0.049640423049394325, 0.16546807683131443, 0.03309361536626288, 0.049640423049394325, 0.6949659226915206, 0.03309888160878259, 0.8991862837052604, 0.06068128294943475, 0.5381724135593987, 0.4403228838213262, 0.9504380025475406, 0.9626627085070161, 0.9247109910119483, 0.9561555490233014, 0.9530428429648544, 0.9543827300105282, 0.8237217865211679, 0.13728696442019464, 0.9500582258136301, 0.9790962277115121, 0.9895457117131383, 0.034772717595979136, 0.08242421948676537, 0.09015149006364961, 0.06696967833299686, 0.010303027435845671, 0.11462118022378309, 0.024469690160133468, 0.10045451749949529, 0.0038636352884421268, 0.019318176442210632, 0.014166662724287798, 0.03606059602545985, 0.01159090586532638, 0.0437878666023441, 0.02575756858961418, 0.006439392147403545, 0.07984846262780394, 0.029621203878056303, 0.030909082307537014, 0.02318181173065276, 0.030909082307537014, 0.015454541153768507, 0.010303027435845671, 0.0038636352884421268, 0.006439392147403545, 0.08499997634572679, 0.106199651883467, 0.04796113310866252, 0.10962544710551432, 0.09820612969868991, 0.014845112628871731, 0.0251224982950137, 0.10163192492073723, 0.017128976110236612, 0.0011419317406824408, 0.16101237543622415, 0.12332862799370362, 0.014845112628871731, 0.0696578361816289, 0.009135453925459527, 0.010277385666141968, 0.014845112628871731, 0.02283863481364882, 0.009135453925459527, 0.03654181570183811, 0.006851590444094645, 0.063621521820091, 0.12989394038268579, 0.11398855992766303, 0.11663945667016683, 0.01590538045502275, 0.01590538045502275, 0.5381320387282696, 0.1656686387395909, 0.8076346138555056, 0.1805513110810424, 0.027356259254703395, 0.5033551702865424, 0.04377001480752543, 0.04924126665846611, 0.12036754072069493, 0.027356259254703395, 0.04377001480752543, 0.05598894904231253, 0.26128176219745847, 0.05598894904231253, 0.12130938959167716, 0.5039005413808129, 0.024456504041564, 0.04001973388619563, 0.12672915730628617, 0.002223318549233091, 0.3446143751311291, 0.07114619357545891, 0.30681795979416654, 0.011116592746165454, 0.0755928306739251, 0.9416135656135243, 0.9613376706363523, 0.0645920736149052, 0.0161480184037263, 0.0807400920186315, 0.0807400920186315, 0.0968881104223578, 0.11303612882608409, 0.0645920736149052, 0.4682925337080627, 0.17447640753131222, 0.02151719771163636, 0.09589185936707507, 0.011694129191106717, 0.07764901782894859, 0.1342486031139051, 0.04256663025562845, 0.014500720196972329, 0.022452728046924896, 0.014500720196972329, 0.020113902208703554, 0.03835674374683003, 0.015436250532260866, 0.01730731120283794, 0.02432378871750197, 0.04958310777029248, 0.011226364023462448, 0.027598144891011853, 0.00701647751466403, 0.020113902208703554, 0.004209886508798418, 0.033211326902743074, 0.004677651676442686, 0.010290833688173911, 0.022452728046924896, 0.01730731120283794, 0.06782594930841895, 0.9468862408298954, 0.9697817959939691, 0.009011978298445977, 0.018023956596891953, 0.10513974681520305, 0.06308384808912183, 0.02403194212918927, 0.11715571787979769, 0.015019963830743294, 0.04505989149222988, 0.02403194212918927, 0.0871157902183111, 0.4265669727931095, 0.042055898726081224, 0.018023956596891953, 0.9886270718339022, 0.054335519763286655, 0.021734207905314662, 0.014489471936876441, 0.9055919960547776, 0.02157209162785631, 0.9491720316256776, 0.9036521379961131, 0.9413555201555376, 0.9036521379961131, 0.9092412135543897, 0.9036521379961131, 0.9036521377976662, 0.989334848273862, 0.9061469202249911, 0.19261573374003724, 0.08305811927188464, 0.030850158586700007, 0.0779164261741013, 0.02452192092788975, 0.09452805002847824, 0.0355963368308077, 0.041133544782266676, 0.11746791154166542, 0.01779816841540385, 0.022544346659511546, 0.02768603975729488, 0.0047461782441076935, 0.061700317173400014, 0.012260960463944875, 0.004350663390432052, 0.009887871341891029, 0.021753316952160262, 0.022148831805835902, 0.003955148536756411, 0.014238534732323081, 0.0134475050249718, 0.018193683269079493, 0.0027686039757294878, 0.022939861513187186, 0.0007910297073512822, 0.007910297073512823, 0.007514782219837182, 0.0019775742683782057, 0.003164118829405129, 0.9598992406059701, 0.18032464073284787, 0.7629119415620487, 0.05548450484087627, 0.41297372482011624, 0.5678388716276598, 0.9775221147716635, 0.9453986840756393, 0.9697157910383262, 0.971275056930289, 0.9338049156063066, 0.9665013704457046, 0.12818673448280232, 0.091080048185149, 0.10794672377499141, 0.08433337794921204, 0.04891335921054299, 0.08602004550819628, 0.021926678266795133, 0.03879335385663754, 0.03542001873866906, 0.0742133725953066, 0.020240010707810892, 0.0657800348003854, 0.1602334181035029, 0.01686667558984241, 0.008433337794921204, 0.008433337794921204, 0.9583678692361737, 0.04184609179145981, 0.9540908928452837, 0.9957285655792486, 0.9611443037528761, 0.9828783561200363, 0.2823091893760483, 0.7132021626342273, 0.1445431413308987, 0.012045261777574891, 0.010950237979613538, 0.04051588052457009, 0.03613578533272468, 0.021900475959227075, 0.004380095191845415, 0.232145045167807, 0.04489597571641551, 0.02080545216126572, 0.03723080913068603, 0.06570142787768123, 0.02299549975718843, 0.02299549975718843, 0.03066066634291791, 0.07665166585729477, 0.0010950237979613538, 0.005475118989806769, 0.0284706187469952, 0.0010950237979613538, 0.02299549975718843, 0.012045261777574891, 0.009855214181652184, 0.0032850713938840617, 0.0569412374939904, 0.03394573773680197, 0.9395488446133633, 0.9875932492049694, 0.22756479885021205, 0.11290036532103544, 0.02822509133025886, 0.07585493295007069, 0.022932886705835324, 0.08114713757449422, 0.010584409248847073, 0.14288952485943548, 0.04410170520352947, 0.12877697919430606, 0.05645018266051772, 0.04586577341167065, 0.021168818497694145, 0.89851940368637, 0.9520483570483665, 0.9794537965472059, 0.9898966045856454, 0.08107168489623659, 0.01719702406889867, 0.041764201310182485, 0.11546573303403393, 0.15968665206834481, 0.07615824944797983, 0.06387466082733792, 0.13757619255118936, 0.056504507654952775, 0.039307483586054105, 0.012283588620641907, 0.012283588620641907, 0.039307483586054105, 0.0024567177241283816, 0.1474030634477029, 0.9290243013982105, 0.1771080409709573, 0.19836100588747219, 0.023614405462794308, 0.4770109903484451, 0.03778304874047089, 0.03778304874047089, 0.042505929833029754, 0.007084321638838293, 0.1433859257559584, 0.011948827146329867, 0.059744135731649335, 0.023897654292659734, 0.11948827146329867, 0.011948827146329867, 0.023897654292659734, 0.6093901844628232, 0.9788812677041484, 0.04148176694833492, 0.09955624067600381, 0.055309022597779894, 0.011061804519555978, 0.5613865793674659, 0.03871631581844592, 0.07190172937711387, 0.008296353389666984, 0.022123609039111956, 0.08296353389666984, 0.005530902259777989, 0.9526675657795385, 0.02045258267656104, 0.01022629133828052, 0.10737605905194546, 0.05624460236054286, 0.7567455590327584, 0.04601831102226234, 0.9624600869641614, 0.0689404129947145, 0.05362032121811128, 0.10724064243622256, 0.7277043593886531, 0.030640183553206447, 0.12058226870078505, 0.010639611944186916, 0.07802382092403738, 0.12058226870078505, 0.0886634328682243, 0.021279223888373833, 0.024825761203102804, 0.028372298517831775, 0.03901191046201869, 0.26953683591940186, 0.06738420897985047, 0.08157035823876635, 0.03901191046201869, 0.01773268657364486, 0.017178443777327263, 0.06366129164538926, 0.03334639086187057, 0.21978303068051058, 0.007073476849487697, 0.002526241731959892, 0.004041986771135827, 0.01212596031340748, 0.07730299699797269, 0.005557731810311762, 0.028293907397950787, 0.020715182202071112, 0.03637788094022244, 0.03536738424743848, 0.1141861262845871, 0.017178443777327263, 0.010610215274231545, 0.019199437162895176, 0.017178443777327263, 0.03940937101857431, 0.013641705352583414, 0.1839103980866801, 0.004547235117527805, 0.01515745039175935, 0.0020209933855679135, 0.9845206336066142, 0.012423942120847287, 0.027953869771906396, 0.015529927651059108, 0.12268642844336695, 0.03727182636254186, 0.06211971060423643, 0.041930804657859595, 0.03727182636254186, 0.06056671783913052, 0.5047226486594211, 0.03882481912764777, 0.007764963825529554, 0.031059855302118217, 0.20878709891744598, 0.10392957812779534, 0.039901534459778565, 0.011135311942263786, 0.025982394531948835, 0.06913172830822101, 0.035725792481429645, 0.03711770647421262, 0.15311053920612705, 0.011135311942263786, 0.019950767229889282, 0.040829477121633886, 0.01670296791339568, 0.04778904708554875, 0.009279426618553155, 0.013455168596902075, 0.019022824568033968, 0.01855885323710631, 0.021342681222672258, 0.001855885323710631, 0.014847082589685048, 0.018094881906178653, 0.001855885323710631, 0.013455168596902075, 0.0013919139927829733, 0.015311053920612706, 0.001855885323710631, 0.006959569963914867, 0.006495598632987209, 0.006959569963914867, 0.003711770647421262, 0.00417574197834892, 0.08487144424615281, 0.174457968728203, 0.10373176518974232, 0.04950834247692247, 0.02593294129743558, 0.016502780825640825, 0.03064802153333296, 0.037720641887179024, 0.26640203332820184, 0.042435722123076405, 0.09901668495384494, 0.042435722123076405, 0.018860320943589512, 0.9743193873069524, 0.1133683706804118, 0.05966756351600622, 0.23867025406402487, 0.08950134527400933, 0.03580053810960373, 0.40573943190884226, 0.04773405081280497, 0.15444140123339806, 0.8301225316295145, 0.2348915104570495, 0.3433029768218416, 0.0774367616891372, 0.151646991641227, 0.021940415811922204, 0.03484654276011174, 0.020649803117103252, 0.015487352337827439, 0.016132658685236917, 0.03678246180234017, 0.0193591904222843, 0.0006453063474094766, 0.0025812253896379065, 0.010970207905961102, 0.0077436761689137195, 0.004517144431866337, 0.09549486998868045, 0.7366747113412492, 0.08185274570458324, 0.06821062142048603, 0.03721946155131864, 0.020186826604105024, 0.2794613808005789, 0.09967245635776856, 0.026495209917887844, 0.049205389847506, 0.014509281621700487, 0.023341018260996434, 0.08390149807331151, 0.09651826470087715, 0.008200898307917667, 0.010724251633430795, 0.03721946155131864, 0.06371467146920648, 0.016401796615835334, 0.011985928296187357, 0.011355089964809077, 0.011355089964809077, 0.03911197654545349, 0.001261676662756564, 0.011985928296187357, 0.013247604958943922, 0.00946257497067423, 0.022710179929618154, 0.9190563755062029, 0.12306860367124288, 0.15119857022466981, 0.5977617892603225, 0.02109747491507021, 0.014064983276713471, 0.014064983276713471, 0.028129966553426942, 0.04571119564931878, 0.9335187552070483, 0.9451938824508328, 0.0437756706364965, 0.7368904557143577, 0.06566350595474475, 0.029183780424331, 0.03647972553041375, 0.08025539616691026, 0.002480163173651331, 0.9085664426142709, 0.005787047405186438, 0.005787047405186438, 0.002480163173651331, 0.05456358982032928, 0.00537368687624455, 0.011574094810372876, 0.002893523702593219, 0.9702162065291244, 0.42181786132452126, 0.10181810445764305, 0.10077914420807528, 0.010389602495677863, 0.015584403743516795, 0.04363633048184703, 0.04675321123055039, 0.04155840998271145, 0.030129847237465805, 0.07376617771931283, 0.009350642246110078, 0.02805192673833023, 0.012467522994813436, 0.007272721746974504, 0.007272721746974504, 0.0041558409982711455, 0.01142856274524565, 0.027012966488762443, 0.005194801247838931, 0.05724094453272974, 0.858614167990946, 0.9487164815095838, 0.9926967045722659, 0.9471571743734584, 0.9839815541368679, 0.9310552234442614, 0.9581275216834563, 0.09580659874355679, 0.7664527899484543, 0.1326552905680017, 0.04420152301969483, 0.15546742579340941, 0.024387047183279907, 0.019814475836414925, 0.06401599885610976, 0.04724990391760482, 0.018290285387459932, 0.37647504089188355, 0.036580570774919864, 0.0259112376322349, 0.030483808979099886, 0.009145142693729966, 0.13565294995699448, 0.012193523591639954, 0.9642959740648394, 0.9849488511264607, 0.8468396750684227, 0.957411027196887, 0.041284664417114224, 0.9865467264408475, 0.9407806820934757, 0.8157696791326113, 0.16686197982257958, 0.6685735475748236, 0.13319238643092188, 0.005223230840428309, 0.026116154202141546, 0.03395100046278401, 0.026116154202141546, 0.02350453878192739, 0.013058077101070773, 0.015669692521284927, 0.015669692521284927, 0.0026116154202141546, 0.007834846260642464, 0.013058077101070773, 0.01828130794149908, 0.9180439850278086, 0.996008350825377, 0.04013848033014217, 0.943254287758341, 0.015634833411337347, 0.05472191693968072, 0.0019543541764171684, 0.00846886809780773, 0.08664303515449448, 0.015634833411337347, 0.27426103609054264, 0.041692889096899596, 0.03387547239123092, 0.10292931995797087, 0.041692889096899596, 0.004560159744973393, 0.05863062529251506, 0.014331930627059236, 0.007817416705668673, 0.0846886809780773, 0.005863062529251506, 0.007817416705668673, 0.028012409861979417, 0.03387547239123092, 0.031921118214813755, 0.012377576450642068, 0.00846886809780773, 0.01368047923492018, 0.003908708352834337, 0.0013029027842781124, 0.003908708352834337, 0.0456284869429899, 0.0456284869429899, 0.01303671055513997, 0.8930146730270879, 0.8834793163799535, 0.9485089305366209, 0.029965909771128146, 0.2600612883708621, 0.00963189956929119, 0.004280844253018307, 0.023544643391600686, 0.03531696508740103, 0.008561688506036613, 0.013912743822309497, 0.01284253275905492, 0.25899107730760756, 0.018193588075327803, 0.031036120834382723, 0.046019075719946796, 0.05779139741574714, 0.018193588075327803, 0.16802313693096854, 0.9821245257190349, 0.02332604738298206, 0.007775349127660686, 0.1555069825532137, 0.08552884040426754, 0.10107953865958891, 0.0544274438936248, 0.06997814214894617, 0.06997814214894617, 0.41986885289367704, 0.08705076351625422, 0.047482234645229576, 0.14244670393568873, 0.7043198139042387, 0.9831020869734872, 0.27644749041001243, 0.7091479101822058, 0.020691933451124314, 0.6155850201709483, 0.06207580035337294, 0.22243828459958637, 0.06724878371615402, 0.0051729833627810785, 0.2608331341414918, 0.06520828353537295, 0.021736094511790982, 0.6303467408419385, 0.9449685069562682, 0.974603499348625, 0.915624173676012, 0.029160175640519682, 0.095546107417873, 0.02357631221999464, 0.019853736606311276, 0.01861287806841682, 0.04715262443998928, 0.15138474162312346, 0.00930643903420841, 0.03536446832999196, 0.10361168791418696, 0.01613116099262791, 0.014890302454733455, 0.01861287806841682, 0.052736487860514325, 0.038466614674728096, 0.021715024413152956, 0.05149562932261987, 0.10175040010734528, 0.004963434151577819, 0.03660532686788641, 0.010547297572102864, 0.006824721958419501, 0.013029014647891773, 0.058320351281039365, 0.008065580496313954, 0.004343004882630591, 0.0037225756136833638, 0.0012408585378944547, 0.0037225756136833638, 0.06069206234878211, 0.039016325795645644, 0.20664202180656768, 0.17774103973571906, 0.007225245517712157, 0.028900982070848628, 0.049131669520442664, 0.015895540138966744, 0.01011534372479702, 0.0462415713133578, 0.16907074511446446, 0.007225245517712157, 0.06213711145232455, 0.005780196414169725, 0.01011534372479702, 0.03179108027793349, 0.013005441931881882, 0.043351473106272936, 0.01156039282833945, 0.0028900982070848625, 0.9840535446105136, 0.027817270220956952, 0.2569233985685607, 0.07456573823117627, 0.0123632312093142, 0.00309080780232855, 0.020090250715135576, 0.06413426189831742, 0.08345181066287086, 0.05138467971371215, 0.008886072431694581, 0.05099832873842108, 0.022794707542173057, 0.058338997268951386, 0.016226740962224886, 0.013908635110478476, 0.06104345409598887, 0.004249860728201756, 0.01274958218460527, 0.026271866319792676, 0.01274958218460527, 0.008113370481112443, 0.04636211703492825, 0.016226740962224886, 0.0023181058517464125, 0.00309080780232855, 0.014681337061060612, 0.004636211703492825, 0.005795264629366031, 0.016226740962224886, 0.24610775116932684, 0.6891017032741151, 0.18782769899924223, 0.7930502846634673, 0.9062906481841303, 0.9488675742218471, 0.8464665969227835, 0.1485029117408392, 0.024796394434669865, 0.0069429904417075625, 0.27474405033614213, 0.047609077314566144, 0.3015241563255856, 0.005951134664320768, 0.01091041355125474, 0.051576500424113325, 0.04066608687285858, 0.04066608687285858, 0.008926701996481151, 0.050584644646726525, 0.0069429904417075625, 0.011902269328641536, 0.02777196176683025, 0.011902269328641536, 0.024796394434669865, 0.041657942650245375, 0.005951134664320768, 0.003967423109547179, 0.03191113529335154, 0.009573340588005462, 0.014360010882008192, 0.009573340588005462, 0.9094673558605189, 0.012764454117340616, 0.009573340588005462, 0.9151364454715294, 0.8774992536426622, 0.9450151476403342, 0.5762574180490886, 0.05313011655771739, 0.07765170881512541, 0.028608524300309364, 0.05313011655771739, 0.024521592257408027, 0.1839119419305602, 0.0025333909555230287, 0.07853511962121389, 0.5370788825708821, 0.06333477388807572, 0.09120207439882903, 0.005066781911046057, 0.05573460102150663, 0.015200345733138172, 0.04053425528836846, 0.012666954777615144, 0.010133563822092115, 0.010133563822092115, 0.010133563822092115, 0.0354674733773224, 0.027867300510753316, 0.9218530291608139, 0.13378677196784577, 0.8361673247990361, 0.9442019650412046, 0.9476343963117871, 0.10300335996229282, 0.07725251997171961, 0.7982760397077694, 0.5816427567156207, 0.04075204027943839, 0.15930343018325918, 0.014818923737977597, 0.10002773523134878, 0.014818923737977597, 0.04816150214842719, 0.014818923737977597, 0.018523654672471995, 0.23717473478465298, 0.059293683696163245, 0.12501680297383816, 0.028575269251163007, 0.027860887519883935, 0.030718414445000234, 0.04929233945825619, 0.06143682889000047, 0.03143279617627931, 0.11930174912360557, 0.025003360594767633, 0.04000537695162821, 0.005715053850232602, 0.0042862903876744515, 0.04000537695162821, 0.026432124057325784, 0.027860887519883935, 0.005715053850232602, 0.011430107700465203, 0.01785954328197688, 0.01785954328197688, 0.005715053850232602, 0.002857526925116301, 0.02961479984583979, 0.9476735950668733, 0.9912490430787013, 0.9779498280342863, 0.47485551565458073, 0.06783650223636868, 0.07597688250473292, 0.024421140805092723, 0.013567300447273736, 0.04341536143127595, 0.027134600894547473, 0.02984806098400222, 0.013567300447273736, 0.09497110313091615, 0.027134600894547473, 0.04341536143127595, 0.027134600894547473, 0.005426920178909494, 0.02984806098400222, 0.004155503345832898, 0.020777516729164492, 0.2243971806749765, 0.02493302007499739, 0.15375362379581722, 0.3823063078166266, 0.15790912714165015, 0.02493302007499739, 0.9816040581398745, 0.027558124939014602, 0.050523229054860105, 0.8129646857009307, 0.022965104115845503, 0.0597092707011983, 0.022965104115845503, 0.028452295736889056, 0.021339221802666793, 0.012447879384888961, 0.6970812455537818, 0.021339221802666793, 0.030230564220444622, 0.06223939692444481, 0.010669610901333396, 0.051569786023111415, 0.06401766540800037, 0.02644923063117401, 0.9279271746436882, 0.013224615315587005, 0.011020512762989172, 0.008816410210391337, 0.013224615315587005, 0.09293223533128893, 0.6065051147936751, 0.28368787627446096, 0.014673510841782462, 0.04086574850392255, 0.05386848666426154, 0.11795341045450372, 0.006501369080169497, 0.6714985492803637, 0.0009287670114527852, 0.034364379423753054, 0.03715068045811141, 0.03622191344665862, 0.09714959814806383, 0.019429919629612765, 0.08419631839498866, 0.06152807882710709, 0.44041151160455605, 0.019429919629612765, 0.016191599691343973, 0.009714959814806383, 0.08419631839498866, 0.02266823956788156, 0.14248607728382695, 0.020320523053086754, 0.36068928419228985, 0.04741455379053575, 0.06265494608035081, 0.022013899974177315, 0.008466884605452814, 0.0948291075810715, 0.049107930711626314, 0.013547015368724501, 0.032174161500720694, 0.04572117686944519, 0.020320523053086754, 0.21675224589959202, 0.0050801307632716885, 0.9542421598784518, 0.9460788239875393, 0.9592305813388133, 0.029975955666837917, 0.3019394176869511, 0.5661364081630333, 0.05032323628115852, 0.06290404535144815, 0.22092533201487174, 0.07212562309897283, 0.057830454556834075, 0.04288550562641628, 0.05003308989748566, 0.027940556695998486, 0.2183262104617556, 0.002599121553116138, 0.02988989786083559, 0.033138799802230764, 0.030539678249114622, 0.009096925435906483, 0.01299560776558069, 0.004548462717953242, 0.03508814096706787, 0.033138799802230764, 0.04678418795609049, 0.017544070483533934, 0.01299560776558069, 0.009096925435906483, 0.01299560776558069, 0.0032489019413951725, 0.013645388153859725, 0.0019493411648371037, 0.9439169739444393, 0.06539948766152111, 0.12262403936535209, 0.1594112511749577, 0.26772915261435204, 0.012262403936535209, 0.30247263043453515, 0.008174935957690138, 0.012262403936535209, 0.010218669947112673, 0.012262403936535209, 0.02656854186249295, 0.22667720885596754, 0.13600632531358053, 0.034001581328395133, 0.5893607430255157, 0.8602036434749859, 0.023179140093637342, 0.03348098013525394, 0.07983926032252862, 0.9831896624689134, 0.943318379353752, 0.09948405302692509, 0.06330803374440687, 0.7144763808297347, 0.1175720626681842, 0.5659163037794314, 0.22605472189536516, 0.1558998082037001, 0.04209294821499903, 0.007794990410185006, 0.9635687749648901, 0.8061943855433942, 0.026432602804701447, 0.016520376752938406, 0.1222507879717442, 0.026432602804701447, 0.004184925669425936, 0.11996786919021016, 0.5091659564468222, 0.18134677900845722, 0.02929447968598155, 0.02092462834712968, 0.023714578793413637, 0.054404033702537165, 0.008369851338851871, 0.013949752231419787, 0.025109554016555617, 0.00976482656199385, 0.810150911855995, 0.03812474879322329, 0.02859356159491747, 0.06671831038814076, 0.04765593599152912, 0.053718312455234916, 0.719825386900148, 0.16115493736570477, 0.053718312455234916, 0.974417820467228, 0.9573998111446373, 0.17009245250760213, 0.05937189379982338, 0.08986016358892188, 0.16367386939410772, 0.08023228891868026, 0.008023228891868026, 0.05134866490795536, 0.004813937335120815, 0.09146480936729548, 0.04653472757283455, 0.027278978232351286, 0.07541835158355943, 0.02567433245397768, 0.032092915567472104, 0.014441812005362445, 0.05937189379982338, 0.9616486120253198, 0.9536448929114989, 0.9633906734261476, 0.08075843992356938, 0.05173587557603663, 0.21703830729459267, 0.007571103742834628, 0.21325275542317537, 0.03659366809036737, 0.017665908733280798, 0.0012618506238057715, 0.0012618506238057715, 0.020189609980892344, 0.0618306805664828, 0.013880356861863485, 0.015142207485669256, 0.015142207485669256, 0.017665908733280798, 0.0794965892997636, 0.013880356861863485, 0.02776071372372697, 0.042902921209396226, 0.06435438181409434, 0.8575600061000831, 0.05277292345231281, 0.019789846294617303, 0.05277292345231281, 0.013193230863078203, 0.916981935430664, 0.9702445791962323, 0.14030676928252372, 0.5936055623491387, 0.05396414203173989, 0.20506373972061157, 0.9519097842401605, 0.9490360806277017, 0.2511492801186362, 0.08834676004173264, 0.1016821200480319, 0.02778200001312347, 0.03000456001417335, 0.048340680022834835, 0.08445728003989535, 0.035560960016798045, 0.023892520011286184, 0.05723092002703435, 0.050563240023884716, 0.0200030400094489, 0.006667680003149633, 0.03611660001706051, 0.025003800011811125, 0.0016669200007874082, 0.012779720006036796, 0.004445120002099756, 0.022225600010498777, 0.006667680003149633, 0.00944588000446198, 0.008334600003937041, 0.0033338400015748165, 0.022781240010761247, 0.0016669200007874082, 0.007223320003412102, 0.007223320003412102, 0.005000760002362225, 0.9447130100652584, 0.9248121033312401, 0.10137973609715899, 0.6217957147292418, 0.02252883024381311, 0.013517298146287864, 0.02252883024381311, 0.020275947219431798, 0.013517298146287864, 0.013517298146287864, 0.0856095549264898, 0.011264415121906554, 0.03829901141448228, 0.004505766048762621, 0.02928747931695704, 0.016715666180444844, 0.09924926794639126, 0.03552079063344529, 0.08880197658361323, 0.09507035140128005, 0.17760395316722646, 0.009402562226500225, 0.09924926794639126, 0.029252415815778476, 0.007313103953944619, 0.02298404099811166, 0.017760395316722646, 0.026118228406945068, 0.014626207907889238, 0.017760395316722646, 0.006268374817666816, 0.1170096632631139, 0.009402562226500225, 0.03552079063344529, 0.043878623723667715, 0.006268374817666816, 0.010447291362778027, 0.007313103953944619, 0.003134187408833408, 0.9594135564843955, 0.9719964930466395, 0.7877132623681324, 0.4238308633143012, 0.06103164431725937, 0.06103164431725937, 0.0372971159716585, 0.016953234532572047, 0.3933150411556715, 0.013954025028476157, 0.025582379218872953, 0.860498210089363, 0.0860498210089363, 0.009302683352317438, 0.9375629944157908, 0.9787584005803478, 0.90025936281299, 0.05001440904516611, 0.030160814889147524, 0.09349852615635733, 0.11461109657876059, 0.004524122233372129, 0.007540203722286881, 0.0030160814889147523, 0.09349852615635733, 0.0015080407444573762, 0.007540203722286881, 0.09953068913418683, 0.1779488078459704, 0.19302921529054415, 0.15683623742356714, 0.015080407444573762, 0.1954621730696383, 0.03909243461392766, 0.5472940845949873, 0.16614284710919255, 0.03909243461392766, 0.11717955624404625, 0.7951469887988852, 0.08369968303146161, 0.9410553980163743, 0.9307186410230135, 0.03447106077863013, 0.09155975472193593, 0.8972855962749722, 0.17238038326681654, 0.07022904503462897, 0.04469121047658207, 0.08938242095316414, 0.20430267646437517, 0.057460127755605515, 0.35114522517314484, 0.9730509653996778, 0.9603192754902624, 0.20290783434537157, 0.04897775311784831, 0.11894597185763162, 0.6227171467840714, 0.9634914232500903, 0.8344420235900694, 0.9233162737721404, 0.9929156759377883, 0.018735115068725598, 0.10512481233007141, 0.03851106986349151, 0.013530916438524044, 0.018735115068725598, 0.02081679452080622, 0.09992061369986986, 0.024980153424967465, 0.014571756164564355, 0.04059274931557213, 0.012490076712483733, 0.007285878082282178, 0.022898473972886843, 0.03122519178120933, 0.05828702465825742, 0.011449236986443422, 0.008326717808322488, 0.007285878082282178, 0.008326717808322488, 0.007285878082282178, 0.06869542191866053, 0.022898473972886843, 0.3070477191818918, 0.03122519178120933, 0.8827689781642009, 0.10898382446471616, 0.9431714288691119, 0.26579813527628005, 0.7309448720097702, 0.13293907750330505, 0.6735579926834123, 0.02215651291721751, 0.16838949817085308, 0.0489024024608442, 0.9291456467560398, 0.14066081065179378, 0.8439648639107626, 0.993971538235908, 0.27812442105315593, 0.010113615311023854, 0.03034084593307156, 0.48545353492914495, 0.16687465263189358, 0.020227230622047707, 0.9581739227534944, 0.8430881095413557, 0.14051468492355929, 0.9746866731454764, 0.9840650065477611, 0.9825608577561564, 0.9743482674088156, 0.09386992748979096, 0.08506962178762306, 0.5984207877474175, 0.01466717617027984, 0.03520122280867161, 0.032267787574615646, 0.020534046638391774, 0.03813465804272758, 0.017600611404335807, 0.02346748187244774, 0.020534046638391774, 0.017600611404335807, 0.9853085679466718, 0.3242038762436623, 0.6674785687369518, 0.120529363337909, 0.8437055433653631, 0.9353583337586154, 0.9885563257267833, 0.021455600582156877, 0.37254724647199666, 0.058515274314973297, 0.07021832917796796, 0.08972342061629239, 0.044861710308146195, 0.0721688383218004, 0.01170305486299466, 0.015604073150659547, 0.06631731089030307, 0.01170305486299466, 0.0039010182876648867, 0.10337698462311949, 0.009752545719162216, 0.009752545719162216, 0.013653564006827103, 0.00585152743149733, 0.013653564006827103, 0.00585152743149733, 0.8836348458460572, 0.8565858753614829, 0.12690161116466414, 0.982364828864623, 0.1984015493121316, 0.08975308183167859, 0.08975308183167859, 0.004723846412193609, 0.037790771297548875, 0.037790771297548875, 0.023619232060968047, 0.033066924885355266, 0.47238464121936097, 0.9750986390885388, 0.9074017052332563, 0.9900355804351806, 0.953174574522503, 0.9754752818942506, 0.0735596607633683, 0.012009740532794824, 0.001501217566599353, 0.022518263498990294, 0.8286720967628428, 0.03452800403178512, 0.027021916198788354, 0.5393988832782248, 0.05327396378056542, 0.006659245472570677, 0.03995547283542406, 0.35626963278253126, 0.8962159540567837, 0.06318781458335969, 0.07582537750003163, 0.2401136954167668, 0.3854456689584941, 0.03791268875001581, 0.031593907291679844, 0.08846294041670356, 0.08214415895836759, 0.8082021002136577, 0.952506516013321, 0.01360165921155216, 0.034004148028880396, 0.08841078487508904, 0.680082960577608, 0.04080497763465648, 0.12241493290396943, 0.01360165921155216, 0.09829338238263889, 0.8191115198553242, 0.040955575992766204, 0.03276446079421296, 0.9753353406243416, 0.06366649336509934, 0.9125530715664241, 0.4981690770603165, 0.09402528937893391, 0.16165751507255302, 0.03299132960664348, 0.013196531842657391, 0.0065982659213286955, 0.03299132960664348, 0.0016495664803321739, 0.16000794859222087, 0.1707638735156703, 0.1543267092200443, 0.03652703176805782, 0.04200608653326649, 0.1342368417476125, 0.1205392048345908, 0.0009131757942014455, 0.0301348012086477, 0.039266559150662156, 0.07579359091871997, 0.03470068017965493, 0.12967096277660525, 0.0100449337362159, 0.001826351588402891, 0.017350340089827464, 0.0009131757942014455, 0.9596105888520396, 0.9259292460915101, 0.9653608383060057, 0.9407719059331529, 0.035001335762782096, 0.09900377830044077, 0.048001831903244016, 0.011000419811160086, 0.006000228987905502, 0.19100728944832512, 0.05000190823254585, 0.009000343481858252, 0.09700370197113894, 0.045001717409291264, 0.056002137220451345, 0.04900187006789493, 0.022000839622320172, 0.03700141209208393, 0.044001679244640345, 0.01000038164650917, 0.002000076329301834, 0.012000457975811004, 0.005000190823254585, 0.027001030445574756, 0.04000152658603668, 0.07300278601951693, 0.02000076329301834, 0.005000190823254585, 0.005000190823254585, 0.3532818481269369, 0.09971665068099027, 0.09686760351867625, 0.0398866602723961, 0.014245235811570037, 0.03418856594776809, 0.025641424460826068, 0.01994333013619805, 0.23362186730974863, 0.025641424460826068, 0.014245235811570037, 0.0370376131100821, 0.1185351993643345, 0.6809963414460786, 0.037187513526065724, 0.02091797635841197, 0.03486329393068662, 0.037187513526065724, 0.06972658786137324, 0.900861206431755, 0.9509436767559285, 0.05211982587103865, 0.011582183526897478, 0.932365773915247, 0.15428838812600335, 0.006708190788087103, 0.06708190788087103, 0.07379009866895812, 0.013416381576174205, 0.03354095394043551, 0.12745562497365495, 0.03354095394043551, 0.4091996380733132, 0.06037371709278392, 0.03354095394043551, 0.02932621214329932, 0.08797863642989796, 0.04105669700061905, 0.023460969714639457, 0.8094034551550613, 0.06586745153692063, 0.052693961229536505, 0.030738144050562962, 0.052693961229536505, 0.1580818836886095, 0.09221443215168888, 0.052693961229536505, 0.021955817178973543, 0.32494609424880844, 0.09660559558748359, 0.017564653743178834, 0.026346980614768253, 0.9696490165228943, 0.09633441610322102, 0.02568917762752561, 0.06422294406881401, 0.006422294406881402, 0.16697965457891645, 0.14450162415483153, 0.03532261923784771, 0.054589502458491916, 0.22478030424084908, 0.016055736017203504, 0.04174491364472911, 0.03532261923784771, 0.03853376644128841, 0.02568917762752561, 0.019266883220644206, 0.1616170467617403, 0.008080852338087016, 0.04848511402852209, 0.7757618244563534, 0.9487156921476396, 0.004911422644521475, 0.2971410699935492, 0.024557113222607372, 0.06875991702330064, 0.3560781417278069, 0.06384849437877917, 0.1522541019801657, 0.022101401900346634, 0.00982284528904295, 0.044431334527244896, 0.04169709855633752, 0.012304061869083203, 0.013671179854536891, 0.01913965179635165, 0.004784912949087912, 0.025975241723620094, 0.04511489351997174, 0.3923628618252088, 0.01503829783999058, 0.018456092803624802, 0.0827106381199482, 0.01913965179635165, 0.005468471941814756, 0.008202707912722134, 0.04648201150542543, 0.009569825898175824, 0.002734235970907378, 0.009569825898175824, 0.0628874273308697, 0.021190328774532183, 0.00751914891999529, 0.03759574459997645, 0.04716557049815227, 0.005468471941814756, 0.9432434371738666, 0.8947939057616717, 0.9703425799303665, 0.9386360149160894, 0.06475013926173866, 0.16727119309282484, 0.03777091456934755, 0.03777091456934755, 0.059354294323260434, 0.016187534815434664, 0.059354294323260434, 0.03777091456934755, 0.03237506963086933, 0.021583379753912883, 0.04316675950782577, 0.059354294323260434, 0.03777091456934755, 0.03777091456934755, 0.26979224692391107, 0.021583379753912883, 0.9460638044122606, 0.1408205798877283, 0.11735048323977358, 0.7041028994386416, 0.21650044115041991, 0.7422872268014398, 0.041294319954285896, 0.01651772798171436, 0.01651772798171436, 0.07432977591771461, 0.03578841062704778, 0.12663591452647677, 0.03578841062704778, 0.11287114120838146, 0.04680022928152402, 0.3854136529066684, 0.01651772798171436, 0.01651772798171436, 0.07432977591771461, 0.3448710219642764, 0.12453675793154426, 0.06705825427083152, 0.4598280292857018, 0.06315798997850999, 0.021052663326169996, 0.9052645230253099, 0.9406778991149952, 0.14037609264431977, 0.05399080486319992, 0.7774675900300788, 0.021596321945279967, 0.9195754344186001, 0.09233482787422943, 0.715594916025278, 0.18466965574845887, 0.13432765479087402, 0.052238532418673225, 0.5373106191634961, 0.2164167771630748, 0.05970117990705512, 0.7806080728511009, 0.8757412008834582, 0.09730457787593981, 0.19908597278010065, 0.009332154974067218, 0.0010369061082296908, 0.007258342757607836, 0.10576442303942847, 0.05910364816909238, 0.0902108314159831, 0.03214408935512042, 0.013479779406985982, 0.02384884048928289, 0.019701216056364126, 0.05184530541148454, 0.014516685515215672, 0.04147624432918764, 0.06532508481847052, 0.005184530541148455, 0.018664309948134436, 0.14516685515215672, 0.014516685515215672, 0.038365526004498565, 0.017627403839904746, 0.006221436649378145, 0.017627403839904746, 0.6604011277920124, 0.324787439897711, 0.9632561025420632, 0.8734665359898313, 0.10481598431877975, 0.9411271639948678, 0.9073593781605459, 0.984221186061871, 0.17914349227854717, 0.11591637735670698, 0.026344631217433405, 0.03688248370440677, 0.03161355746092009, 0.026344631217433405, 0.579581886783535, 0.1105827850974906, 0.07933112843950413, 0.03305463684979339, 0.013221854739917355, 0.034256623644331324, 0.0306506632607175, 0.04146854441155898, 0.022236755698951914, 0.07993212183677309, 0.06851324728866265, 0.015625828328993237, 0.001802980191806912, 0.0024039735890758825, 0.020433775507145, 0.02764569627437265, 0.007211920767227648, 0.006009933972689706, 0.021635762301682942, 0.015024834931724266, 0.07091722087773854, 0.07873013504223515, 0.015625828328993237, 0.07392218786408339, 0.013822848137186325, 0.024640729288027796, 0.007211920767227648, 0.004807947178151765, 0.006610927369958677, 0.0024039735890758825, 0.003004966986344853, 0.06610927369958677, 0.9172613528409608, 0.8998039821370134, 0.9501121597989214, 0.8036004798654679, 0.055972172726948016, 0.011994037012917432, 0.12393838246681346, 0.9713955094926043, 0.06276371185286532, 0.02335393929408942, 0.013136590852925298, 0.06276371185286532, 0.09925424199988003, 0.0642233330587459, 0.021894318088208832, 0.04524825738229825, 0.03357128773525354, 0.016055833264686476, 0.05692522702934296, 0.014596212058805886, 0.01021734844116412, 0.01167696964704471, 0.017515454470567064, 0.0029192424117611775, 0.004378863617641766, 0.4013958316171619, 0.01021734844116412, 0.0029192424117611775, 0.004378863617641766, 0.013136590852925298, 0.007298106029402943, 0.9142251949190323, 0.01876039136681414, 0.9192591769738928, 0.03752078273362828, 0.9788620959023108, 0.9305164532394531, 0.9067744013697179, 0.9529410190729577, 0.9506714909977934, 0.06673774363071609, 0.5232239100648142, 0.1281364677709749, 0.010678038980914576, 0.010678038980914576, 0.2135607796182915, 0.042712155923658304, 0.9594144987970457, 0.963413743711688, 0.024741978194654533, 0.9649371495915268, 0.0619600395928579, 0.7331938018488184, 0.19620679204405, 0.20394947263873078, 0.7818063117818014, 0.15870208337692443, 0.03559672898174006, 0.041529517145363404, 0.12162215735427853, 0.03114713785902255, 0.12013896031337269, 0.0014831970409058357, 0.05932788163623343, 0.03559672898174006, 0.07119345796348012, 0.14831970409058357, 0.0014831970409058357, 0.034113531940834226, 0.011865576327246686, 0.025214349695399207, 0.004449591122717507, 0.06822706388166845, 0.02818074377721088, 0.9343676058328887, 0.8913084412291152, 0.9249251961762809, 0.07171520377880075, 0.6741229155207271, 0.11474432604608122, 0.12908736680184135, 0.09068549604964495, 0.8938998896322145, 0.9584785607580399, 0.8767097025190573, 0.07970088204718702, 0.015940176409437404, 0.11886971259041708, 0.016157048313260574, 0.015002973433741962, 0.033468171506039764, 0.023081497590372247, 0.12348601210849153, 0.09001784060245177, 0.061165968614486456, 0.09232599036148899, 0.18234383096394077, 0.02423557246989086, 0.012694823674704737, 0.00461629951807445, 0.09232599036148899, 0.00461629951807445, 0.05077929469881895, 0.006924449277111675, 0.020773347831335023, 0.026543722228928087, 0.8873344260623932, 0.05219614270955254, 0.20658204899290294, 0.13772136599526863, 0.6394206278351758, 0.9702484160904864, 0.0011800894753718218, 0.28912192146609633, 0.02832214740892372, 0.0873266211775148, 0.4401733743136895, 0.005900447376859109, 0.1475111844214777, 0.8582176439231752, 0.104026381081597, 0.15716148970767, 0.10477432647177999, 0.6941299128755424, 0.0392903724269175, 0.9891774141269212, 0.12964676975017822, 0.0074083868428673275, 0.8408519066654416, 0.014816773685734655, 0.942313953475526, 0.9555248853793358, 0.9529651851011883, 0.9675471786784553, 0.15206324130302545, 0.020871425276885847, 0.03876121837135943, 0.13715508039096413, 0.08050406892513112, 0.059632643648245276, 0.020871425276885847, 0.05366937928342075, 0.029816321824122638, 0.09243059765478018, 0.05366937928342075, 0.017889793094473583, 0.02385305745929811, 0.017889793094473583, 0.12224691947890282, 0.07155917237789433, 0.13212443776039773, 0.7870020857901951, 0.02297816308876482, 0.05170086694972085, 0.8782417342056491, 0.029387856839969567, 0.052245078826612563, 0.08163293566658213, 0.1697965061864908, 0.009795952279989854, 0.0424491265466227, 0.06204103110660242, 0.026122539413306282, 0.06857166595992899, 0.10449015765322513, 0.1991843630264604, 0.08163293566658213, 0.026122539413306282, 0.009795952279989854, 0.029387856839969567, 0.13257048431357546, 0.1136318436973504, 0.018938640616225067, 0.7196683434165525, 0.05429145419422296, 0.10858290838844592, 0.168906746382027, 0.08043178399144142, 0.018097151398074322, 0.03418350819636261, 0.016086356798288286, 0.038205097395934674, 0.062334632593367106, 0.337813492764054, 0.04624827579507882, 0.01407556219850225, 0.022118740597646392, 0.11686678190360622, 0.011986336605498074, 0.7821084635087493, 0.014982920756872593, 0.029965841513745185, 0.011986336605498074, 0.023972673210996148, 0.005993168302749037, 0.06931676678074282, 0.029707185763175496, 0.8961667705224607, 0.909613597042025, 0.08196917311491621, 0.059356987428042775, 0.018372400870584667, 0.02685197050316221, 0.14980573017553653, 0.02119892408144385, 0.04663763297917647, 0.10740788201264884, 0.02685197050316221, 0.032505016924880566, 0.15263225338639572, 0.06501003384976113, 0.02119892408144385, 0.032505016924880566, 0.05653046421718359, 0.01130609284343672, 0.06501003384976113, 0.019785662476014258, 0.00565304642171836, 0.013199448753691678, 0.09599599093593948, 0.13199448753691678, 0.04079829614777428, 0.10919543968963116, 0.19679178141867593, 0.028798797280781843, 0.10319569025613494, 0.09359609116254099, 0.007199699320195461, 0.043198195921172765, 0.03839839637437579, 0.007199699320195461, 0.011999498866992435, 0.011999498866992435, 0.017999248300488654, 0.03839839637437579, 0.009599599093593947, 0.11609034526744456, 0.09069558224019106, 0.0018139116448038213, 0.08888167059538725, 0.2793423932997885, 0.06348690756813374, 0.1287877267810713, 0.050789526054507, 0.0018139116448038213, 0.021766939737645857, 0.04353387947529171, 0.009069558224019107, 0.010883469868822928, 0.09250949388499488, 0.9871886812521391, 0.9695773865048485, 0.9621406397513752, 0.9688862368812889, 0.9246800185203015, 0.8416281607165559, 0.19805732613978352, 0.0396114652279567, 0.1584458609118268, 0.5743662458053722, 0.970052715776099, 0.9364176064579569, 0.48137049603870896, 0.04376095418533718, 0.4638661143645741, 0.8409733933113774, 0.05767658143303349, 0.009612763572172247, 0.03845105428868899, 0.1778361260851866, 0.019225527144344494, 0.07930529947042105, 0.350865870384287, 0.2403190893043062, 0.021628718037387556, 0.0024031908930430617, 0.12703221964176276, 0.18681208770847463, 0.3885691424336272, 0.03736241754169493, 0.26153692279186447, 0.9179046942696867, 0.9251827196451927, 0.987348160734481, 0.9525655018514634, 0.9649797525092867, 0.9945147217310861, 0.9136325055832963, 0.08317140868609915, 0.055039902806977375, 0.08317140868609915, 0.007338653707596984, 0.07583275497850217, 0.026908396927855606, 0.056263011758243546, 0.01223108951266164, 0.001223108951266164, 0.02201596112279095, 0.05014746700191272, 0.14799618310320584, 0.10641047876015626, 0.017123525317726297, 0.00611554475633082, 0.047701249099380394, 0.007338653707596984, 0.10029493400382544, 0.0305777237816541, 0.009784871610129312, 0.00611554475633082, 0.004892435805064656, 0.041585704343049576, 0.07145218371669938, 0.6430696534502944, 0.2572278613801178, 0.9217080330621091, 0.05244568050539638, 0.03408969232850765, 0.09309108289707857, 0.031467408303237826, 0.009177994088444366, 0.2346944202616488, 0.015733704151618913, 0.05375682251803129, 0.1363587693140306, 0.02884512427796801, 0.011800278113714185, 0.043267686416952014, 0.009177994088444366, 0.0681793846570153, 0.006555710063174547, 0.014422562138984005, 0.07211281069492002, 0.03540083434114256, 0.02884512427796801, 0.018355988176888733, 0.7970962573984854, 0.16780973839968114, 0.15982292986522822, 0.10115375307925836, 0.013149987900303589, 0.11531527851035454, 0.012138450369511004, 0.06979608962468828, 0.007080762715548086, 0.08193453999419928, 0.024276900739022007, 0.015173062961888755, 0.033380738516155264, 0.05664610172438469, 0.02731151333139976, 0.0050576876539629185, 0.009103837777133254, 0.09103837777133253, 0.04754226394725143, 0.06473840197072536, 0.0050576876539629185, 0.010115375307925837, 0.04147303876249593, 0.007080762715548086, 0.0020230750615851676, 0.9183752490305652, 0.9628321027377448, 0.042088310136877756, 0.0070147183561462935, 0.05611774684917035, 0.03507359178073147, 0.5892363419162886, 0.042088310136877756, 0.21745626904053508, 0.9683726611628822, 0.9817370778086429, 0.9675471786784553, 0.09464807236800557, 0.8518326513120502, 0.015665561319532714, 0.011749170989649537, 0.34660054419466135, 0.09986795341202107, 0.07049502593789722, 0.04503848879365656, 0.009790975824707946, 0.052871269453422916, 0.03524751296894861, 0.009790975824707946, 0.023498341979299075, 0.005874585494824769, 0.052871269453422916, 0.005874585494824769, 0.017623756484474305, 0.009790975824707946, 0.04112209846377338, 0.09007697758731312, 0.05678765978330609, 0.7142869518813766, 0.06048397576414882, 0.0345622718652279, 0.04896321847573953, 0.01728113593261395, 0.12096795152829765, 0.9375412316636071, 0.04438964803829732, 0.011681486325867716, 0.12849634958454487, 0.009345189060694172, 0.39249794054915527, 0.09345189060694173, 0.16354080856214803, 0.09812448513728882, 0.05607113436416504, 0.04995369833064143, 0.0060549937370474455, 0.03784371085654654, 0.3723821148284179, 0.3829783538682509, 0.008325616388440238, 0.07190305062743842, 0.0030274968685237227, 0.012109987474094891, 0.009839364822702099, 0.023463100731058853, 0.0037843710856546534, 0.015894358559749546, 0.0015137484342618614, 0.004767466112471146, 0.2193034411736727, 0.052442127237182605, 0.10965172058683635, 0.17401251310519683, 0.052442127237182605, 0.03813972889976917, 0.13825651726166321, 0.030988529731062447, 0.06674452557459604, 0.009534932224942292, 0.002383733056235573, 0.009534932224942292, 0.09296558919318734, 0.9711679185152646, 0.9366467043331219, 0.9806705574688861, 0.6679714761718122, 0.011566605647996747, 0.02602486270799268, 0.002891651411999187, 0.031808165531991055, 0.03469981694399024, 0.031808165531991055, 0.06650798247598129, 0.01734990847199512, 0.1098827536559691, 0.6114244701606261, 0.011500146774181055, 0.12075154112890107, 0.03641713145157334, 0.04983396935478457, 0.0038333822580603515, 0.0632508072579958, 0.021083602419331934, 0.07858433629023721, 0.0019166911290301757, 0.8998243640333337, 0.07998438791407411, 0.22111171345065236, 0.014038838949247769, 0.544005009283351, 0.056155355796991074, 0.03158738763580748, 0.01579369381790374, 0.038606807110431365, 0.017548548686559712, 0.008774274343279856, 0.021058258423871653, 0.01579369381790374, 0.01579369381790374, 0.0914488664554742, 0.07112689613203549, 0.8230397980992679, 0.978346998453375, 0.9416390600935718, 0.02327740197321486, 0.0598561765025525, 0.026602745112245554, 0.7980823533673667, 0.009976029417092082, 0.026602745112245554, 0.02992808825127625, 0.02327740197321486, 0.12312775445516173, 0.16417033927354896, 0.6977239419125831, 0.039581953136132365, 0.5178638868643984, 0.013193984378710789, 0.0032984960946776973, 0.3628345704145467, 0.019790976568066183, 0.029686464852099276, 0.013193984378710789, 0.008630479634725225, 0.43152398173626133, 0.018987055196395496, 0.3400408976081739, 0.06213945337002163, 0.02934363075806577, 0.018987055196395496, 0.044878494100571174, 0.01726095926945045, 0.027617534831120723, 0.009797172073786971, 0.014695758110680458, 0.11021818583010344, 0.03673939527670114, 0.05633373942427509, 0.171450511291272, 0.35024890163788425, 0.14450828808835783, 0.014695758110680458, 0.041637981313594634, 0.04653656735048812, 0.002449293018446743, 0.7469403053166604, 0.038532634798081694, 0.029640488306216687, 0.026676439475595018, 0.0948495625798934, 0.032604537136838356, 0.02074834181435168, 0.011856195322486674, 0.9347645921362988, 0.49469224760283187, 0.06692895114626549, 0.06401899674860177, 0.10184840391823008, 0.07856876873692036, 0.04364931596495575, 0.0174597263859823, 0.002909954397663717, 0.021824657982477874, 0.026189589578973452, 0.007274885994159291, 0.01891470358481416, 0.029099543976637166, 0.011639817590654867, 0.014549771988318583, 0.9252357400344398, 0.9702508135776367, 0.13676834532386004, 0.006838417266193002, 0.16412201438863203, 0.04786892086335101, 0.12992992805766704, 0.06838417266193002, 0.041030503597158006, 0.06154575539573701, 0.054707338129544016, 0.006838417266193002, 0.09573784172670202, 0.041030503597158006, 0.15044517985624603, 0.14316022098867082, 0.7158011049433541, 0.12270876084743214, 0.059450670683104875, 0.04067677467791386, 0.6977631348595994, 0.12828828936880526, 0.025031861340254685, 0.03128982667531836, 0.012515930670127342, 0.9156532512929036, 0.9825278757048054, 0.12980679346015433, 0.8530160713095857, 0.9506277122338734, 0.07074827203195158, 0.03655327388317498, 0.014149654406390315, 0.18866205875187086, 0.011791378671991929, 0.0825396507039435, 0.024761895211183053, 0.001179137867199193, 0.06131516909435803, 0.004716551468796772, 0.002358275734398386, 0.010612240804792736, 0.24408153851023293, 0.014149654406390315, 0.03419499814877659, 0.024761895211183053, 0.0837187885711427, 0.007074827203195157, 0.0035374136015975787, 0.04126982535197175, 0.023582757343983858, 0.010612240804792736, 0.02922348161733047, 0.025048698529140403, 0.5427218014647087, 0.006262174632285101, 0.03548565624961557, 0.027136090073235437, 0.0313108731614255, 0.05635957169056591, 0.12315610110160698, 0.012524349264570201, 0.012524349264570201, 0.02296130698504537, 0.025048698529140403, 0.012524349264570201, 0.0020873915440950334, 0.027136090073235437, 0.008349566176380134, 0.9705491972863706, 0.5071746104196698, 0.14064506003234542, 0.2557182909679008, 0.021309857580658398, 0.03409577212905344, 0.03835774364518511, 0.8807511846068541, 0.9926104030137556, 0.16601564272095817, 0.18785980623687373, 0.1398026465018595, 0.004368832703183109, 0.06116365784456354, 0.008737665406366219, 0.017475330812732438, 0.36261311436419813, 0.02184416351591555, 0.017475330812732438, 0.975665333669756, 0.9845639773174278, 0.029806499290176133, 0.7283963264036792, 0.057750092374716254, 0.057750092374716254, 0.06520171719726028, 0.03539521790708416, 0.00931453102818004, 0.007451624822544033, 0.007451624822544033, 0.9704864717728987, 0.9519890028830378, 0.9814231199162383, 0.9263561732619691, 0.9195198646369379, 0.04938606154265733, 0.0592632738511888, 0.04938606154265733, 0.0592632738511888, 0.10864933539384612, 0.6617732246716083, 0.06289145222714948, 0.8804803311800927, 0.052409543522624565, 0.14805312588416433, 0.8290975049513203, 0.8100385090189108, 0.06428877055705641, 0.10286203289129027, 0.9298839480855721, 0.9761002937564502, 0.01727971507660365, 0.14268107591824156, 0.010367829045962191, 0.034065724008161484, 0.014317478206328739, 0.022216776527061836, 0.3934837976015174, 0.020735658091924382, 0.034065724008161484, 0.002468530725229093, 0.009380416755870553, 0.19649504572823578, 0.0009874122900916371, 0.019748245801832744, 0.007899298320733097, 0.008393004465778916, 0.00345594301532073, 0.00345594301532073, 0.005924473740549823, 0.035546842443298934, 0.0014811184351374558, 0.007899298320733097, 0.00691188603064146, 0.02616614484035849, 0.25690396752351974, 0.01902992352026072, 0.06660473232091252, 0.21170789916290053, 0.2925850741240086, 0.011893702200162951, 0.07849843452107548, 0.03330236616045626, 0.9872057865371485, 0.11108024582237165, 0.08886419665789731, 0.17772839331579462, 0.5776172782763326, 0.05670042943740222, 0.9072068709984356, 0.9739290491760457, 0.06861135029614587, 0.01987805475869647, 0.04424470252742117, 0.3590874408022588, 0.061557846994672934, 0.05642802641178352, 0.03398506136164235, 0.05578679883892235, 0.008335958447195294, 0.021160509904418822, 0.02693155806016941, 0.015389461748668233, 0.013465779030084704, 0.04680961281886588, 0.02500787534158588, 0.049374523110310584, 0.027572785633030585, 0.00897718602005647, 0.011542096311501176, 0.0012824551457223529, 0.0012824551457223529, 0.015389461748668233, 0.003206137864305882, 0.012183323884362352, 0.009618413592917647, 0.003206137864305882, 0.8881071781558779, 0.07514753045934351, 0.02732637471248855, 0.17568355583415382, 0.8081443568371076, 0.9652193935345867, 0.0642561858394041, 0.41123958937218624, 0.5011982495473519, 0.01285123716788082, 0.11535949150250584, 0.8459696043517094, 0.9702304517832311, 0.703727949196063, 0.05705902290778889, 0.03803934860519259, 0.15215739442077036, 0.019019674302596296, 0.02535956573679506, 0.9950777237947978, 0.9739261889642687, 0.9653399151895615, 0.952249458611963, 0.01926980354695372, 0.011240718735723004, 0.016058169622461434, 0.9865935208992415, 0.9766023344686938, 0.009914120941391992, 0.6503663337553146, 0.03569083538901117, 0.027759538635897578, 0.009914120941391992, 0.263715617041027, 0.9847217131214577, 0.9619845296635328, 0.9541592605211526, 0.02120353912269228, 0.040074629579653964, 0.4218765550294481, 0.192358221982339, 0.01967299997546649, 0.16102714794733683, 0.01821574071802453, 0.004371777772325887, 0.029873814777560227, 0.011658074059535698, 0.05756174066895751, 0.0065576666584888305, 0.0036431481436049054, 0.011658074059535698, 0.01238670368825668, 0.008743555544651773, 0.9532873443140932, 0.030665342441841666, 0.9506256156970917, 0.8586791196110078, 0.11785791837798146, 0.973336103231344, 0.9829294647779089, 0.9291458331174005, 0.9838816213814559, 0.015183358354652097, 0.08493866039995644, 0.7502915001996153, 0.15572087739992016, 0.901996681136286, 0.1342037794583528, 0.11048404169362068, 0.020598719637793687, 0.033706995770935125, 0.14231842658839275, 0.06616558429109487, 0.04244584652636275, 0.062420362538768745, 0.00749044350465225, 0.020598719637793687, 0.05430571540872881, 0.0006242036253876874, 0.05243310453256575, 0.026216552266282875, 0.019974516012405998, 0.029961774018609, 0.02933757039322131, 0.023719737764732123, 0.00749044350465225, 0.01935031238701831, 0.029961774018609, 0.008114647130039936, 0.006242036253876875, 0.003745221752326125, 0.00749044350465225, 0.0006242036253876874, 0.014356683383916812, 0.019974516012405998, 0.004993629003101499, 0.3201633952627614, 0.050025530509806466, 0.40020424407845173, 0.23011744034510975, 0.8765055335523342, 0.1748886907412566, 0.10334331725619708, 0.01854880053316358, 0.04769691565670634, 0.12189211778936065, 0.00927440026658179, 0.11129280319898147, 0.007949485942784391, 0.013249143237973984, 0.07552011645645171, 0.049021829980503744, 0.007949485942784391, 0.07287028780885692, 0.1841630910078384, 0.32155725978475824, 0.01128271086964064, 0.06769626521784385, 0.11846846413122672, 0.02256542173928128, 0.141033885870508, 0.282067771741016, 0.02256542173928128, 0.8349846812096965, 0.05566564541397977, 0.08906503266236762, 0.9084137326366283, 0.018459285577886602, 0.3085337732303904, 0.08262727830101622, 0.23293860372095, 0.03340251675998528, 0.028128435166303395, 0.06768404711891754, 0.008790135989469811, 0.011427176786310755, 0.0043950679947349055, 0.02285435357262151, 0.009669149588416793, 0.019338299176833586, 0.0052740815936818865, 0.009669149588416793, 0.009669149588416793, 0.07295812871259943, 0.0052740815936818865, 0.009669149588416793, 0.007032108791575849, 0.0052740815936818865, 0.012306190385257735, 0.01494323118209868, 0.9637730075680224, 0.12876533795515668, 0.14307259772795186, 0.7153629886397593, 0.3686110979487318, 0.6280040928015431, 0.017660140552548723, 0.058867135175162406, 0.9183273087325335, 0.45585210117993835, 0.02041128811253455, 0.03855465532367638, 0.015875446309749096, 0.37647486963119287, 0.011339604506963639, 0.015875446309749096, 0.022679209013927278, 0.02041128811253455, 0.02041128811253455, 0.9763491652485212, 0.031165806565942932, 0.5332815790172457, 0.1108117566789082, 0.013851469584863526, 0.09696028709404468, 0.03462867396215882, 0.02424007177351117, 0.0380915413583747, 0.02077720437729529, 0.02077720437729529, 0.01731433698107941, 0.05886874573566998, 0.8653885541823514, 0.9394412278933587, 0.9715382314674819, 0.9785619466779586, 0.13386531703639418, 0.7195260790706187, 0.11713215240684491, 0.016733164629549272, 0.17869405489955736, 0.09430126032940313, 0.07619268497629311, 0.08234276717168897, 0.07721769867552575, 0.056717424690872896, 0.07072594524705235, 0.01571687672156719, 0.034508794540832305, 0.027333698646203806, 0.04749230139777911, 0.017083561653877376, 0.0351921370069874, 0.0208419452177304, 0.02391698631542833, 0.018108575353110022, 0.007516767127706046, 0.009566794526171332, 0.01674189042079983, 0.009225123293093784, 0.002391698631542833, 0.02972539727774664, 0.014691863022334545, 0.018791917819265116, 0.008200109593861141, 0.0013666849323101902, 0.005466739729240761, 0.9265249643529014, 0.9484192783561959, 0.8764356506819565, 0.13529511425615406, 0.8568690569556424, 0.9730594040733348, 0.9717196531560522, 0.9804123646308478, 0.9835714779588356, 0.04755313775471889, 0.08321799107075806, 0.020804497767689514, 0.08321799107075806, 0.06241349330306854, 0.029720711096699305, 0.026748639987029376, 0.11888284438679722, 0.017832426658019585, 0.014860355548349653, 0.026748639987029376, 0.04755313775471889, 0.24668190210260424, 0.014860355548349653, 0.13968734215448675, 0.014860355548349653, 0.9536900049325178, 0.9659501975236261, 0.10022496779893725, 0.2447802098166352, 0.011564419361415836, 0.0019274032269026393, 0.05782209680707918, 0.1561196613791138, 0.007709612907610557, 0.01927403226902639, 0.023128838722831672, 0.2158691614130956, 0.007709612907610557, 0.01927403226902639, 0.1272086129755742, 0.007709612907610557, 0.9383977083581844, 0.0337715048506284, 0.9456021358175951, 0.09494928345690272, 0.0831936578860481, 0.03978827116289257, 0.046118223393352746, 0.05696957007414163, 0.09856639901716567, 0.06691663786486478, 0.019894135581446284, 0.026224087811906466, 0.028936924482103686, 0.026224087811906466, 0.043405386723155526, 0.028032645592037945, 0.0072342311205259215, 0.10308779346749437, 0.018085577801314805, 0.0009042788900657402, 0.008138510010591661, 0.011755625570854623, 0.008138510010591661, 0.010851346680788881, 0.14287606463038693, 0.018085577801314805, 0.010851346680788881, 0.8367617692988658, 0.059164973586788495, 0.08452139083826928, 0.008452139083826927, 0.032115053600811364, 0.09537197735998526, 0.08077422572325282, 0.036007787370606684, 0.11386246276651302, 0.04282007146774849, 0.06520329064407156, 0.007785467539590634, 0.04087370458285083, 0.08369377605059931, 0.05060553900733912, 0.015570935079181268, 0.08369377605059931, 0.005839100654692976, 0.036007787370606684, 0.010705017866937122, 0.05352508933468561, 0.032115053600811364, 0.023356402618771904, 0.014597751636732438, 0.0019463668848976586, 0.014597751636732438, 0.028222319831016047, 0.023356402618771904, 0.007785467539590634, 0.035341637553648865, 0.14578425490880156, 0.004417704694206108, 0.6891619322961529, 0.10160720796674048, 0.004417704694206108, 0.013253114082618324, 0.9154896485793078, 0.9937537112771738, 0.13865525655797295, 0.059423681381988405, 0.7725078579658493, 0.6423084199424467, 0.04460475138489213, 0.3033123094172665, 0.9951746857898132, 0.1868899922968092, 0.0730039032409411, 0.03066163936119526, 0.048182576139021126, 0.0467224980742023, 0.018981014842644684, 0.029201561296376438, 0.013140702583369397, 0.013140702583369397, 0.004380234194456466, 0.38984084330662544, 0.026281405166738794, 0.02336124903710115, 0.03650195162047055, 0.02190117097228233, 0.017520936777825864, 0.010220546453731754, 0.011680624518550575, 0.0446042725317986, 0.07646446719736902, 0.3122299077225902, 0.15292893439473804, 0.05734835039802677, 0.03823223359868451, 0.28674175199013385, 0.02548815573245634, 0.17148556362695103, 0.011063584750125874, 0.3958304766156146, 0.010448941152896659, 0.10510405512619579, 0.05962042893123387, 0.029502892667002328, 0.01413680273627195, 0.006761079569521367, 0.014751446333501164, 0.005531792375062937, 0.07560116245919347, 0.004917148777833722, 0.059005785334004655, 0.010448941152896659, 0.005531792375062937, 0.01659537712518881, 0.004302505180604506, 0.4878110508352642, 0.02740511521546428, 0.05481023043092856, 0.4275197973612428, 0.9949816032431837, 0.6619705451116354, 0.07268696181617958, 0.05191925844012827, 0.025959629220064135, 0.01557577753203848, 0.05970714720614751, 0.020767703376051307, 0.09085870227022447, 0.23373532931681687, 0.10477790624546963, 0.6447871153567363, 0.11683659813721008, 0.13630936449341174, 0.008345471295515005, 0.12518206943272508, 0.14465483578892677, 0.03060006141688835, 0.01669094259103001, 0.05007282777309003, 0.005563647530343337, 0.08623653672032172, 0.047291004007918365, 0.2281095487440768, 0.28489050798521454, 0.45697202287561256, 0.07839269011673689, 0.05736050496346601, 0.017208151489039803, 0.02103218515327087, 0.00956008416057767, 0.07074462278827474, 0.08636895649667296, 0.18844135962910466, 0.16488618967546656, 0.5574723555694345, 0.01884756753583039, 0.947763396087471, 0.02423258683178193, 0.00807752894392731, 0.004232409990066124, 0.19469085954304172, 0.008464819980132248, 0.012697229970198372, 0.025394459940396744, 0.21585290949337232, 0.06348614985099187, 0.10581024975165311, 0.1608315796225127, 0.03385927992052899, 0.16929639960264498, 0.9632885345604015, 0.9637634533514869, 0.9823866281012048, 0.9032837918610036, 0.928711295660401, 0.15149433369131024, 0.7322226128413328, 0.10099622246087349, 0.9837486003487449, 0.5423415458216304, 0.02711707729108152, 0.09942928340063224, 0.3254049274929783, 0.24513407264330705, 0.11031033268948817, 0.09192527724124014, 0.03677011089649606, 0.012256703632165352, 0.45349803439011804, 0.04902681452866141, 0.019624729887678945, 0.1811513528093441, 0.027172702921401615, 0.2158720287644684, 0.025663108314657082, 0.04075905438210242, 0.04075905438210242, 0.04981662202256963, 0.012076756853956273, 0.17511297438236598, 0.04679743280908056, 0.010567162247211739, 0.02868229752814615, 0.05434540584280323, 0.022643919101168013, 0.01811513528093441, 0.015095946067445342, 0.013586351460700807, 0.9494653928488537, 0.9525621020653396, 0.1752190915716738, 0.6424700024294706, 0.15575030361926562, 0.041817807275387156, 0.05575707636718288, 0.004646423030598573, 0.6597920703449974, 0.05575707636718288, 0.02787853818359144, 0.018585692122394293, 0.04646423030598573, 0.05575707636718288, 0.02787853818359144, 0.9254109835605204, 0.9336158118352826, 0.009450736936844877, 0.031502456456149595, 0.9576746762669476, 0.9687680212177662, 0.8553487456046968, 0.1221926779435281, 0.9945672184962632, 0.9008671178565155, 0.0833687510323567, 0.6669500082588536, 0.23343250289059878, 0.9979440749433728, 0.154991059918768, 0.034442457759726215, 0.10332737327917865, 0.0031311325236114745, 0.040704722806949166, 0.02661462645069753, 0.028180192712503268, 0.06575378299584096, 0.040704722806949166, 0.04383585533056064, 0.06418821673403523, 0.004696698785417211, 0.01095896383264016, 0.017221228879863108, 0.018786795141668845, 0.0673193492576467, 0.007827831309028687, 0.0547948191632008, 0.015655662618057373, 0.017221228879863108, 0.020352361403474583, 0.11741746963543029, 0.04383585533056064, 0.05455667135710026, 0.025180002164815505, 0.9148734119882966, 0.9860788643300127, 0.9345553865759619, 0.9019864034773609, 0.9172562231963591, 0.03228436011700719, 0.8716777231591941, 0.06456872023401437, 0.9384270639414191, 0.97137278603269, 0.07588322470841317, 0.1264720411806886, 0.5691241853130988, 0.1011776329445509, 0.11382483706261975, 0.9597556269755405, 0.35915602812863795, 0.6126779303370883, 0.24838972822973307, 0.09032353753808475, 0.022580884384521188, 0.6322647627665933, 0.9544890502786968, 0.035854630068603385, 0.1832569981284173, 0.1334589008109126, 0.02390308671240226, 0.04780617342480452, 0.021911162819702068, 0.10557196631310997, 0.08166887960070772, 0.1812650742357171, 0.035854630068603385, 0.00995961946350094, 0.05577386899560527, 0.04581424953210433, 0.017927315034301693, 0.01195154335620113, 0.01195154335620113, 0.9485245256620997, 0.05410698510444394, 0.09861434381938977, 0.006108853156953348, 0.01658117285458766, 0.028798879168494357, 0.14399439584247178, 0.010472319697634312, 0.021817332703404815, 0.10995935682516027, 0.061961224877669675, 0.030544265784766742, 0.014835786238315274, 0.07592431780784875, 0.03316234570917532, 0.04450735871494582, 0.058470451645124905, 0.03752581224985628, 0.02007194608713243, 0.026180799244085777, 0.008726933081361927, 0.018326559470860045, 0.007854239773225734, 0.00959962638949812, 0.006108853156953348, 0.03927119886612867, 0.01658117285458766, 0.9550194002050126, 0.20860936503396232, 0.009340717837341597, 0.14011076756012394, 0.08406646053607437, 0.15256505800991274, 0.024908580899577593, 0.06538502486139118, 0.3082436886322727, 0.003113572612447199, 0.94091434714974, 0.15027741394951416, 0.05779900536519775, 0.1155980107303955, 0.1387176128764746, 0.5086312472137402, 0.919734274371803, 0.9896978840947751, 0.9695240149072376, 0.9778753692686182, 0.2001142147631213, 0.10915320805261162, 0.6731114496577717, 0.930242622832937, 0.20541967554572851, 0.026314933610128082, 0.02835485094424654, 0.05364982588731539, 0.08730846190026992, 0.017339297340006877, 0.019175222940713485, 0.016931313873183185, 0.23724238595797642, 0.05364982588731539, 0.027130900543775465, 0.027946867477422848, 0.01672732213977134, 0.017951272540242414, 0.0004079834668236912, 0.0006119752002355368, 0.0044878181350606035, 0.009587611470356742, 0.014483413072241037, 0.018359256007066106, 0.004283826401648758, 0.005507776802119831, 0.012851479204946272, 0.03284266907930714, 0.00509979333529614, 0.019787198140949022, 0.002447900800942147, 0.002447900800942147, 0.007139710669414596, 0.005507776802119831, 0.0018359256007066103, 0.006731727202590905, 0.007343702402826441, 0.002447900800942147, 0.0006119752002355368, 0.17046855290698357, 0.03857317620522986, 0.5151385467408117, 0.24263772129096203, 0.006221480033101591, 0.02613021613902668, 0.9595482596059647, 0.011478229284102746, 0.9871277184328361, 0.922957322232496, 0.026370209206642743, 0.019777656904982056, 0.009888828452491028, 0.019777656904982056, 0.959042111860588, 0.036777426118547625, 0.006659429869200666, 0.7025698512006702, 0.06326458375740632, 0.04661600908440466, 0.016648574673001664, 0.13651831231861364, 0.026637719476802664, 0.9925991347261318, 0.38717202812294005, 0.6084131870503343, 0.2609064316378176, 0.019261548644402642, 0.033269947658513654, 0.01050629926058326, 0.02101259852116652, 0.0017510498767638765, 0.09630774322201321, 0.029767847904985902, 0.01575944889087489, 0.02101259852116652, 0.22063228447224845, 0.03502099753527753, 0.06303779556349956, 0.1488392395249295, 0.008755249383819382, 0.014008399014111012, 0.07342421364136133, 0.7195572936853409, 0.14684842728272265, 0.05873937091308906, 0.019096182907097053, 0.3485053380545212, 0.03914717495954896, 0.5213257933637495, 0.0009548091453548527, 0.015276946325677642, 0.013367328034967938, 0.009548091453548527, 0.031508701796710135, 0.9865391520590937, 0.9332341980884068, 0.9473551777460649, 0.9090607587853321, 0.9086909668828106, 0.276768130256451, 0.030752014472938998, 0.6919203256411274, 0.9698643328764568, 0.9575550121182482, 0.9583805554089764, 0.04482719198673451, 0.10011406210370707, 0.026896315192040707, 0.0014942397328911504, 0.06275806878142831, 0.13298733622731237, 0.013448157596020353, 0.013448157596020353, 0.04183871252095221, 0.11804493889840087, 0.03287327412360531, 0.04333295225384336, 0.03436751385649646, 0.020919356260476106, 0.2704573916532982, 0.013448157596020353, 0.011953917863129203, 0.014942397328911504, 0.02727923926027254, 0.11667120791316563, 0.11415312428914047, 0.010911695704109015, 0.035672851340356394, 0.0772212311367715, 0.037771254360377364, 0.004616486644046122, 0.0016787224160167717, 0.029797322884297695, 0.0033574448320335434, 0.0008393612080083859, 0.07764091174077568, 0.0025180836240251575, 0.007554250872075472, 0.05623720093656185, 0.1594786295215933, 0.03903029617238994, 0.016367543556163523, 0.0029377642280293504, 0.00881329268408805, 0.005036167248050315, 0.03735157375637317, 0.018046265972180293, 0.05749624274857443, 0.01301009872412998, 0.023921794428238996, 0.013849459932138366, 0.9320473965813079, 0.9821834108902869, 0.057379337964571175, 0.9371958534213292, 0.06726041502820546, 0.5492933893970112, 0.1457308992277785, 0.2017812450846164, 0.022420138342735155, 0.9368517095030295, 0.9487905429900741, 0.032514226585193894, 0.23010068044906448, 0.23510286915447892, 0.30263241667757396, 0.07503283058121668, 0.04501969834873001, 0.01000437741082889, 0.050021887054144454, 0.017507660468950557, 0.12216780268917252, 0.02221232776166773, 0.1851027313472311, 0.04072260089639084, 0.26654793314001274, 0.07033903791194782, 0.0518287647772247, 0.01851027313472311, 0.21842122298973268, 0.15923216605101928, 0.004265147304938016, 0.05331434131172521, 0.03483203632366047, 0.08814637763538567, 0.019193162872221073, 0.06326635168991392, 0.11658069300163912, 0.0049760051890943525, 0.03198860478703512, 0.013506299798970386, 0.1478584399045179, 0.03056688901872245, 0.03412117843950413, 0.07392921995225896, 0.03269946267119146, 0.013506299798970386, 0.022747452293002755, 0.020614878640533747, 0.0035542894207816803, 0.01279544191481405, 0.0049760051890943525, 0.014217157683126721, 0.03951541651296188, 0.004390601834773542, 0.105374444034565, 0.6981056917289932, 0.03951541651296188, 0.030734212843414793, 0.02195300917386771, 0.03951541651296188, 0.017562407339094168, 0.04301573774612158, 0.05257479057859304, 0.4922912208722803, 0.248535373644258, 0.019118105664942923, 0.13382673965460046, 0.9727240202239043, 0.942461620781115, 0.9307525145082663, 0.996031655753758, 0.9131775567752592, 0.08386324500997279, 0.9784304456272681, 0.0381984209000424, 0.6812051727174229, 0.0763968418000848, 0.20054170972522262, 0.9069345811379862, 0.9928508655935417, 0.9661485764033725, 0.4500774734750889, 0.5427404827199602, 0.9675442064481837, 0.984868935100758, 0.9470100174429905, 0.039458750726791274, 0.9076837797526079, 0.08717026120381499, 0.3668415158993881, 0.06900979011968687, 0.40679455228447, 0.043585130601907496, 0.021792565300953748, 0.008786005522127023, 0.008786005522127023, 0.017572011044254047, 0.035144022088508094, 0.1493620938761594, 0.5623043534161295, 0.10543206626552427, 0.008786005522127023, 0.09664606074339725, 0.010488246822226403, 0.9754069544670554, 0.010488246822226403, 0.9682747488424767, 0.9288809587110004, 0.04690190120792904, 0.029313688254955648, 0.5335091262401928, 0.36348973436145005, 0.01758821295297339, 0.9087414085174181, 0.12588069747823738, 0.06664272219436096, 0.022214240731453654, 0.08885696292581462, 0.037023734552422756, 0.26657088877744384, 0.029618987641938203, 0.11847595056775281, 0.007404746910484551, 0.2295471542250211, 0.9352155550805729, 0.6604818101433712, 0.004447688957194418, 0.022238444785972093, 0.008895377914388837, 0.2802044043032484, 0.020014600307374883, 0.06453124400116012, 0.694951858474032, 0.044675476616187766, 0.0049639418462430855, 0.017373796461850798, 0.024819709231215428, 0.024819709231215428, 0.08935095323237553, 0.012409854615607714, 0.012409854615607714, 0.007445912769364628, 0.006432201018977943, 0.032161005094889714, 0.06217794318345344, 0.015008469044281865, 0.08147454624038727, 0.13936435541118875, 0.06861014420243139, 0.012864402037955885, 0.04288134012651962, 0.09862708229099512, 0.0450254071328456, 0.012864402037955885, 0.05145760815182354, 0.14150842241751474, 0.1908219635630123, 0.09652605099127069, 0.20182719752720238, 0.666907261394234, 0.026325286633982918, 0.9954775189773185, 0.11048709141748057, 0.12265939809906742, 0.07209750880632207, 0.1797756063742057, 0.05617987699193928, 0.007490650265591903, 0.04213490774395446, 0.11797774168307248, 0.04868922672634737, 0.024344613363173687, 0.02153561951357672, 0.014981300531183806, 0.024344613363173687, 0.010299644115188867, 0.024344613363173687, 0.007490650265591903, 0.02153561951357672, 0.025280944646372674, 0.007490650265591903, 0.007490650265591903, 0.01779029438078077, 0.01872662566397976, 0.01872662566397976, 0.2181888592692027, 0.03356751681064657, 0.02797293067553881, 0.010070255043193971, 0.17678892186940529, 0.02237834454043105, 0.013427006724258629, 0.012308089497237076, 0.02797293067553881, 0.011189172270215524, 0.00447566890808621, 0.003356751681064657, 0.012308089497237076, 0.0011189172270215525, 0.01902159285936639, 0.3994534500466942, 0.00447566890808621, 0.9762809569514518, 0.010385967627143104, 0.18957072681587514, 0.047392681703968785, 0.5160536452209934, 0.002632926761331599, 0.021063414090652793, 0.03159512113597919, 0.13427926482791155, 0.05265853522663198, 0.002632926761331599, 0.04517585654716635, 0.0903517130943327, 0.6475206105093844, 0.08533217347798087, 0.05521493577986998, 0.07529309424527725, 0.9786267272584215, 0.9308310768349687, 0.019355993501929687, 0.07935957335791172, 0.015484794801543748, 0.005806798050578906, 0.11807156036177108, 0.1722683421671742, 0.017420394151736716, 0.07742397400771875, 0.038711987003859374, 0.017420394151736716, 0.015484794801543748, 0.05419678180540312, 0.05032558310501718, 0.12774955711273592, 0.023227192202315623, 0.09677996750964843, 0.03290518895328046, 0.03484078830347343, 0.005806798050578906, 0.9254294636448057, 0.02902606756196713, 0.054181992782338644, 0.03483128107436056, 0.0222533184641748, 0.07740284683191236, 0.12674716168725647, 0.11513673466246963, 0.07740284683191236, 0.007740284683191235, 0.02902606756196713, 0.03773388783055727, 0.06288981305092879, 0.01548056936638247, 0.01741564053718028, 0.09385095178369372, 0.013545498195584661, 0.07643531124651345, 0.007740284683191235, 0.021285782878775895, 0.020318247293376994, 0.011610427024786853, 0.0038701423415956177, 0.014513033780983566, 0.0038701423415956177, 0.0067727490977923304, 0.018383176122579184, 0.20511565568133924, 0.6331831110163081, 0.0535084319168711, 0.08026264787530665, 0.03567228794458074, 0.9905917891397024, 0.0866776028112419, 0.040789460146466776, 0.12916662379714478, 0.06798243357744463, 0.06713265315772657, 0.03569077762815843, 0.052686386022519585, 0.03144187552956814, 0.0008497804197180578, 0.04673792308449318, 0.04928726434364735, 0.040789460146466776, 0.017845388814079214, 0.005948462938026405, 0.03739033846759454, 0.02379385175210562, 0.010197365036616694, 0.04503836224505706, 0.044188581825339, 0.01104714545633475, 0.01954494965351533, 0.014446267135206983, 0.028042753850695906, 0.044188581825339, 0.022944071332387562, 0.025493412591541736, 0.8598925021645129, 0.953001741701885, 0.9382906101976364, 0.02766263126762799, 0.9681920943669796, 0.9328354686604501, 0.5609941719359602, 0.05905201809852213, 0.03543121085911328, 0.03543121085911328, 0.2243976687743841, 0.0413364126689655, 0.0413364126689655, 0.9364612805088123, 0.06699161974254074, 0.046602865907854424, 0.1951495009891404, 0.08155501533874525, 0.4165131140514489, 0.032039470311649915, 0.020388753834686312, 0.13398323948508148, 0.9745037858478891, 0.9553451426852299, 0.9454296820278837, 0.04470362185492871, 0.01277246338712249, 0.06386231693561245, 0.0574760852420512, 0.8174376567758393, 0.9638397570700163, 0.6819768742936032, 0.03287193200711839, 0.0368165638479726, 0.159100150914453, 0.7152932404748962, 0.051280213931104685, 0.0052595091211389425, 0.9138294635224076, 0.801714757495101, 0.02258351429563665, 0.03387527144345497, 0.056458785739091626, 0.07904230003472827, 0.6483493933231932, 0.05557280514198799, 0.22229122056795195, 0.06483493933231932, 0.9512879548571911, 0.9021674652166846, 0.0739481528866135, 0.014789630577322698, 0.1287438874187102, 0.02574877748374204, 0.04377292172236147, 0.03089853298049045, 0.09269559894147135, 0.07209657695447771, 0.02574877748374204, 0.02059902198699363, 0.002574877748374204, 0.028323655232116243, 0.04377292172236147, 0.01287438874187102, 0.4712026279524793, 0.9897062623144909, 0.9852847196177138, 0.07496621386195236, 0.07365101712753214, 0.22884423178911772, 0.02893432815724477, 0.0697054269242715, 0.060499049783329976, 0.1012701485503567, 0.018412754281883034, 0.010521573875361734, 0.01183677060978195, 0.010521573875361734, 0.017097557547462817, 0.01183677060978195, 0.027619131422824555, 0.010521573875361734, 0.013151967344202169, 0.0065759836721010845, 0.1262588865043408, 0.00394559020326065, 0.022358344485143684, 0.0710206236586917, 0.7500697942674626, 0.036248904718605326, 0.14170026390000265, 0.0032953549744186663, 0.18783523354186396, 0.04943032461627999, 0.079088519386048, 0.06261174451395465, 0.05931638953953599, 0.06590709948837332, 0.023067484820930663, 0.2932865927232613, 0.22352772958947684, 0.005731480245884021, 0.2980369727859691, 0.4413239789330696, 0.022925920983536085, 0.7539830144573786, 0.2319947736791934, 0.9652317686792501, 0.9280856707448732, 0.9850140905767105, 0.9923652673338603, 0.9898239463719208, 0.006643113734039738, 0.9879087985267075, 0.9771847475394755, 0.018230109203899638, 0.1458408736311971, 0.036460218407799276, 0.09115054601949818, 0.06988208528161527, 0.39802405095180876, 0.027345163805849455, 0.018230109203899638, 0.1549559282331469, 0.04253692147576582, 0.1763307191130556, 0.7934882360087502, 0.9293195851489774, 0.3716693588403354, 0.6121612969134936, 0.26960069107319334, 0.03774409675024707, 0.03774409675024707, 0.18872048375123535, 0.0323520829287832, 0.0323520829287832, 0.026960069107319337, 0.3181288154663682, 0.05931215203610254, 0.9651601262616292, 0.8730396730932077, 0.04224385514967134, 0.07040642524945225, 0.9477679700295742, 0.0364526142319067, 0.9771415438231765, 0.964199750264281, 0.0599915605199633, 0.9298691880594312, 0.9229557835555432, 0.9843835878629412, 0.04276428083316317, 0.8980498974964266, 0.7697501993626752, 0.09533603386601941, 0.017654821086299892, 0.0812121769969795, 0.02471674952081985, 0.010592892651779935, 0.12623769810144506, 0.022277240841431477, 0.7425746947143826, 0.10396045726001356, 0.9184354965740547, 0.028552156200876387, 0.032631035658144444, 0.44867674029948607, 0.39565130735500137, 0.008157758914536111, 0.07341983023082499, 0.012236638371804167, 0.08877126218179514, 0.6990736896816366, 0.011096407772724392, 0.033289223318173175, 0.1664461165908659, 0.6502536422610655, 0.05605634847078151, 0.21301412418896973, 0.07847888785909411, 0.9336249308661855, 0.019635867557503704, 0.7854347023001482, 0.07854347023001482, 0.029453801336255556, 0.08836140400876667, 0.9825640916467637, 0.8484916246770419, 0.9780746019689982, 0.926108584706623], \"Term\": [\"ab\", \"abarth\", \"abort\", \"abras\", \"abroad\", \"abroad\", \"abroad\", \"absenc\", \"abtech\", \"abu\", \"abus\", \"abus\", \"abus\", \"acceler\", \"accent\", \"accept\", \"accept\", \"accept\", \"accept\", \"accept\", \"accept\", \"accept\", \"accept\", \"accept\", \"accept\", \"accept\", \"accept\", \"accept\", \"accept\", \"accept\", \"acceptmanag\", \"acceptprivaci\", \"access\", \"access\", \"access\", \"access\", \"access\", \"access\", \"access\", \"access\", \"access\", \"access\", \"access\", \"access\", \"access\", \"access\", \"access\", \"access\", \"access\", \"access\", \"access\", \"access\", \"accessori\", \"accessori\", \"accessori\", \"accessori\", \"accessori\", \"accessori\", \"accessori\", \"accessori\", \"accessori\", \"accessori\", \"accessori\", \"accessori\", \"accessori\", \"accessori\", \"accid\", \"accid\", \"accid\", \"accid\", \"accid\", \"account\", \"account\", \"account\", \"account\", \"account\", \"account\", \"account\", \"account\", \"account\", \"account\", \"account\", \"account\", \"account\", \"account\", \"account\", \"account\", \"account\", \"account\", \"account\", \"account\", \"account\", \"account\", \"account\", \"account\", \"accueil\", \"acn\", \"acoust\", \"activ\", \"activ\", \"activ\", \"activ\", \"activ\", \"activ\", \"activ\", \"activ\", \"activ\", \"activ\", \"activ\", \"activ\", \"activ\", \"activ\", \"activ\", \"activ\", \"activ\", \"activ\", \"activ\", \"activ\", \"activewear\", \"acupunctur\", \"ad\", \"ad\", \"ad\", \"ad\", \"ad\", \"ad\", \"ad\", \"ad\", \"ad\", \"ad\", \"ad\", \"ad\", \"ad\", \"adaptor\", \"add\", \"add\", \"add\", \"add\", \"add\", \"add\", \"add\", \"add\", \"add\", \"add\", \"add\", \"add\", \"add\", \"add\", \"add\", \"address\", \"address\", \"address\", \"address\", \"address\", \"address\", \"address\", \"address\", \"address\", \"address\", \"address\", \"address\", \"address\", \"address\", \"address\", \"address\", \"address\", \"address\", \"address\", \"address\", \"address\", \"address\", \"address\", \"address\", \"adida\", \"adipis\", \"adipisc\", \"adipisc\", \"adult\", \"adult\", \"adult\", \"adult\", \"adult\", \"advertis\", \"advertis\", \"advertis\", \"advertis\", \"advertis\", \"advertis\", \"advertis\", \"advertis\", \"advertis\", \"advertis\", \"advic\", \"advic\", \"advic\", \"advic\", \"advic\", \"advic\", \"advic\", \"advic\", \"advic\", \"advic\", \"advic\", \"advic\", \"advic\", \"advic\", \"advic\", \"advisor\", \"advisor\", \"advisor\", \"advisor\", \"advisor\", \"advocaci\", \"aerospac\", \"aerospac\", \"aerospac\", \"aerospac\", \"aesthet\", \"aesthet\", \"affich\", \"afghanistan\", \"afghanistan\", \"africa\", \"africa\", \"africa\", \"africa\", \"africa\", \"africa\", \"africa\", \"aftercar\", \"aftercar\", \"aftercar\", \"aftercar\", \"aftercar\", \"aftersal\", \"age\", \"age\", \"age\", \"age\", \"age\", \"age\", \"age\", \"age\", \"age\", \"age\", \"agenc\", \"agenc\", \"agenc\", \"agenc\", \"agenc\", \"agenc\", \"agenc\", \"agenc\", \"agenc\", \"agenc\", \"agenc\", \"agenc\", \"agent\", \"agent\", \"agent\", \"agent\", \"agent\", \"agm\", \"ago\", \"ago\", \"ago\", \"ago\", \"ago\", \"ago\", \"ago\", \"ago\", \"ago\", \"ago\", \"agreement\", \"agreement\", \"agreement\", \"agreement\", \"aht\", \"air\", \"air\", \"air\", \"air\", \"air\", \"air\", \"air\", \"air\", \"air\", \"air\", \"aircraft\", \"aircraft\", \"airlin\", \"airlin\", \"airlin\", \"airlin\", \"airport\", \"airport\", \"airspaceal\", \"airway\", \"akontaba\", \"alarm\", \"alarm\", \"alban\", \"alban\", \"albani\", \"aldou\", \"ale\", \"alex\", \"alex\", \"alex\", \"alex\", \"alexa\", \"alexandra\", \"alexandra\", \"algorithm\", \"alic\", \"align\", \"align\", \"align\", \"align\", \"aliqua\", \"allah\", \"allergen\", \"almon\", \"alpaca\", \"alphabet\", \"alphabet\", \"also\", \"also\", \"also\", \"also\", \"also\", \"also\", \"also\", \"also\", \"also\", \"also\", \"also\", \"also\", \"also\", \"also\", \"also\", \"also\", \"also\", \"also\", \"also\", \"also\", \"also\", \"also\", \"also\", \"also\", \"also\", \"also\", \"also\", \"also\", \"alter\", \"alter\", \"aluminium\", \"aluminium\", \"aluminium\", \"aluminium\", \"aluminium\", \"aluminum\", \"aluminum\", \"alway\", \"alway\", \"alway\", \"alway\", \"alway\", \"alway\", \"alway\", \"alway\", \"alway\", \"alway\", \"alway\", \"alway\", \"alway\", \"alway\", \"alway\", \"alway\", \"alway\", \"alway\", \"alway\", \"alway\", \"alway\", \"alway\", \"alway\", \"amelia\", \"amet\", \"amp\", \"amp\", \"amplifi\", \"amplifi\", \"analyt\", \"analyt\", \"analyt\", \"analyt\", \"analyt\", \"analyt\", \"analyz\", \"anarkali\", \"ancillari\", \"anderson\", \"andi\", \"andi\", \"andi\", \"anna\", \"annum\", \"antibacteri\", \"antiqu\", \"anxieti\", \"aol\", \"apac\", \"apart\", \"apart\", \"apart\", \"apart\", \"apart\", \"apart\", \"apart\", \"apc\", \"app\", \"app\", \"app\", \"app\", \"app\", \"app\", \"app\", \"app\", \"app\", \"app\", \"app\", \"app\", \"app\", \"appli\", \"appli\", \"appli\", \"appli\", \"appli\", \"appli\", \"appli\", \"appli\", \"appli\", \"appli\", \"appli\", \"appli\", \"appli\", \"appli\", \"appli\", \"appli\", \"appli\", \"applic\", \"applic\", \"applic\", \"applic\", \"applic\", \"applic\", \"applic\", \"applic\", \"applic\", \"applic\", \"applic\", \"applic\", \"applic\", \"appoint\", \"appoint\", \"appoint\", \"appoint\", \"appoint\", \"appoint\", \"appoint\", \"appoint\", \"appoint\", \"appoint\", \"appoint\", \"appoint\", \"appoint\", \"appoint\", \"approv\", \"approv\", \"approv\", \"approv\", \"approv\", \"approv\", \"approv\", \"apron\", \"arcad\", \"archaeolog\", \"area\", \"area\", \"area\", \"area\", \"area\", \"area\", \"area\", \"area\", \"area\", \"area\", \"area\", \"area\", \"area\", \"area\", \"area\", \"area\", \"area\", \"area\", \"area\", \"area\", \"area\", \"area\", \"area\", \"area\", \"area\", \"argu\", \"arla\", \"arma\", \"armour\", \"aroma\", \"arrow\", \"art\", \"art\", \"art\", \"art\", \"art\", \"art\", \"art\", \"art\", \"art\", \"art\", \"artefact\", \"arthur\", \"artifici\", \"artifici\", \"artifici\", \"artist\", \"artist\", \"artist\", \"artist\", \"artist\", \"asbesto\", \"asc\", \"asd\", \"asg\", \"ashley\", \"ashley\", \"aspley\", \"assembl\", \"assembl\", \"assembl\", \"assembl\", \"assessor\", \"aston\", \"aston\", \"astralin\", \"astro\", \"atm\", \"auction\", \"auction\", \"aud\", \"audi\", \"audi\", \"audi\", \"audi\", \"audio\", \"audio\", \"audio\", \"audio\", \"audio\", \"audio\", \"auditor\", \"auditorium\", \"august\", \"august\", \"august\", \"august\", \"august\", \"august\", \"august\", \"august\", \"august\", \"august\", \"august\", \"august\", \"august\", \"aut\", \"autism\", \"autist\", \"auto\", \"auto\", \"auto\", \"auto\", \"auto\", \"auto\", \"autocentr\", \"autom\", \"autom\", \"autom\", \"autom\", \"autom\", \"autom\", \"automot\", \"automot\", \"automot\", \"automot\", \"automot\", \"automot\", \"automot\", \"automot\", \"automot\", \"avail\", \"avail\", \"avail\", \"avail\", \"avail\", \"avail\", \"avail\", \"avail\", \"avail\", \"avail\", \"avail\", \"avail\", \"avail\", \"avail\", \"avail\", \"avail\", \"avail\", \"avail\", \"avail\", \"avail\", \"avail\", \"avail\", \"avail\", \"avail\", \"avail\", \"avail\", \"avg\", \"avi\", \"aviat\", \"aviat\", \"aviat\", \"award\", \"award\", \"award\", \"award\", \"award\", \"award\", \"award\", \"award\", \"award\", \"award\", \"award\", \"award\", \"award\", \"award\", \"bac\", \"baccarat\", \"back\", \"back\", \"back\", \"back\", \"back\", \"back\", \"back\", \"back\", \"back\", \"back\", \"back\", \"back\", \"back\", \"back\", \"back\", \"back\", \"back\", \"back\", \"back\", \"back\", \"back\", \"back\", \"back\", \"back\", \"back\", \"back\", \"back\", \"back\", \"bacon\", \"badminton\", \"bake\", \"bake\", \"bake\", \"balanc\", \"balanc\", \"balanc\", \"balanc\", \"balanc\", \"balanc\", \"balanc\", \"balanc\", \"balinit\", \"baliq\", \"balzer\", \"baptism\", \"bar\", \"bar\", \"bar\", \"bar\", \"bar\", \"bar\", \"barber\", \"barber\", \"barbershop\", \"barista\", \"barrag\", \"base\", \"base\", \"base\", \"base\", \"base\", \"base\", \"base\", \"base\", \"base\", \"base\", \"base\", \"base\", \"base\", \"base\", \"base\", \"base\", \"base\", \"base\", \"base\", \"base\", \"base\", \"base\", \"base\", \"base\", \"base\", \"base\", \"basec\", \"basic\", \"basic\", \"basic\", \"basic\", \"basic\", \"basic\", \"basic\", \"basic\", \"basic\", \"basic\", \"basingstok\", \"baskervil\", \"basket\", \"basket\", \"basket\", \"basket\", \"basket\", \"basket\", \"basket\", \"basket\", \"basket\", \"basket\", \"basket\", \"basket\", \"basketbal\", \"bath\", \"bath\", \"bath\", \"bath\", \"bath\", \"bath\", \"bath\", \"bath\", \"bath\", \"batteri\", \"batteri\", \"batteri\", \"batteri\", \"batteri\", \"batteri\", \"beacon\", \"beam\", \"beam\", \"beam\", \"bean\", \"bean\", \"beater\", \"beaut\", \"beauti\", \"beauti\", \"beauti\", \"beauti\", \"beauti\", \"beauti\", \"beauti\", \"beauti\", \"beauti\", \"beauti\", \"beauti\", \"bec\", \"bec\", \"bed\", \"bed\", \"bed\", \"bed\", \"bed\", \"bed\", \"bed\", \"bedfordshir\", \"bedfordshir\", \"bedfordshir\", \"bedfordshir\", \"bedfordshir\", \"bedfordshir\", \"bedfordshir\", \"bedfordshir\", \"bedfordshir\", \"bedroom\", \"bedroom\", \"bedroom\", \"bedroom\", \"bee\", \"bee\", \"beech\", \"beef\", \"beer\", \"beer\", \"beer\", \"beetl\", \"behav\", \"beitrag\", \"bellow\", \"belvoir\", \"bench\", \"bench\", \"benefit\", \"benefit\", \"benefit\", \"benefit\", \"benefit\", \"benefit\", \"benefit\", \"benefit\", \"benefit\", \"benefit\", \"benefit\", \"benefit\", \"benefit\", \"benefit\", \"benz\", \"bespok\", \"bespok\", \"bespok\", \"bespok\", \"bespok\", \"bespok\", \"bespok\", \"bespok\", \"bespok\", \"bespok\", \"bespok\", \"bespok\", \"bespok\", \"best\", \"best\", \"best\", \"best\", \"best\", \"best\", \"best\", \"best\", \"best\", \"best\", \"best\", \"best\", \"best\", \"best\", \"best\", \"best\", \"best\", \"best\", \"best\", \"best\", \"best\", \"best\", \"best\", \"best\", \"best\", \"best\", \"best\", \"best\", \"best\", \"bet\", \"bet\", \"bh\", \"bhp\", \"bic\", \"biggleswad\", \"billion\", \"billion\", \"birthston\", \"blackjack\", \"blind\", \"blind\", \"block\", \"block\", \"block\", \"block\", \"block\", \"block\", \"block\", \"blockout\", \"blog\", \"blog\", \"blog\", \"blog\", \"blog\", \"blog\", \"blog\", \"blog\", \"blog\", \"blog\", \"blog\", \"blog\", \"blog\", \"blog\", \"blog\", \"blog\", \"blog\", \"blog\", \"blog\", \"blog\", \"blog\", \"blog\", \"blue\", \"blue\", \"blue\", \"blue\", \"blue\", \"blue\", \"blue\", \"blue\", \"bluecub\", \"blum\", \"boardroom\", \"bodi\", \"bodi\", \"bodi\", \"bodi\", \"bodi\", \"bodi\", \"bodi\", \"bodi\", \"bodi\", \"bodi\", \"bodybuild\", \"bodywork\", \"bodywork\", \"boiler\", \"boiler\", \"bollard\", \"book\", \"book\", \"book\", \"book\", \"book\", \"book\", \"book\", \"book\", \"book\", \"book\", \"book\", \"book\", \"book\", \"book\", \"book\", \"book\", \"book\", \"book\", \"bookcas\", \"bookkeep\", \"boom\", \"booth\", \"bore\", \"bore\", \"botan\", \"botan\", \"bounc\", \"box\", \"box\", \"box\", \"box\", \"box\", \"box\", \"box\", \"box\", \"box\", \"box\", \"box\", \"box\", \"box\", \"box\", \"box\", \"box\", \"bracelet\", \"bracelet\", \"braid\", \"brake\", \"brake\", \"brake\", \"brand\", \"brand\", \"brand\", \"brand\", \"brand\", \"brand\", \"brand\", \"brand\", \"brand\", \"brand\", \"brand\", \"brand\", \"brand\", \"brand\", \"brand\", \"brand\", \"brand\", \"brand\", \"brave\", \"brazilian\", \"brazilian\", \"breaker\", \"breakfast\", \"breakfast\", \"breakthrough\", \"breast\", \"breed\", \"breed\", \"briberi\", \"bridal\", \"bridal\", \"bridal\", \"bridal\", \"bride\", \"bridg\", \"bridg\", \"bridg\", \"bridg\", \"bridg\", \"bridg\", \"bristow\", \"broadband\", \"broadband\", \"broadband\", \"broader\", \"broader\", \"brocad\", \"brocad\", \"bronz\", \"bronz\", \"bronz\", \"bronz\", \"brother\", \"brother\", \"brother\", \"brown\", \"brown\", \"brown\", \"brown\", \"brown\", \"brown\", \"browser\", \"browser\", \"browser\", \"browser\", \"browser\", \"browser\", \"browser\", \"browser\", \"browser\", \"brunch\", \"bsi\", \"bu\", \"bu\", \"bu\", \"buckinghamshir\", \"buckinghamshir\", \"buckinghamshir\", \"buckinghamshir\", \"buckinghamshir\", \"buckinghamshir\", \"buckinghamshir\", \"buckinghamshir\", \"buckinghamshir\", \"buckinghamshir\", \"buckinghamshir\", \"buckinghamshir\", \"buckinghamshir\", \"buckinghamshir\", \"buckinghamshir\", \"buckinghamshir\", \"buckinghamshir\", \"buckinghamshir\", \"buckl\", \"buddha\", \"budgen\", \"build\", \"build\", \"build\", \"build\", \"build\", \"build\", \"build\", \"build\", \"build\", \"build\", \"build\", \"build\", \"build\", \"build\", \"build\", \"build\", \"build\", \"build\", \"build\", \"build\", \"build\", \"build\", \"bum\", \"bungalow\", \"bungalow\", \"burger\", \"burner\", \"burner\", \"buster\", \"button\", \"button\", \"button\", \"button\", \"button\", \"button\", \"button\", \"button\", \"button\", \"buy\", \"buy\", \"buy\", \"buy\", \"buy\", \"buy\", \"buy\", \"buy\", \"buy\", \"buy\", \"buy\", \"buy\", \"buy\", \"buy\", \"buy\", \"buy\", \"buy\", \"buy\", \"buy\", \"buy\", \"buy\", \"buy\", \"buyer\", \"buyer\", \"buyer\", \"buyer\", \"buyer\", \"buyer\", \"cab\", \"cabin\", \"cabl\", \"cabl\", \"cabl\", \"cabriolet\", \"cafe\", \"cafe\", \"cafe\", \"cafe\", \"cafe\", \"cafe\", \"cake\", \"cake\", \"cake\", \"cake\", \"caledonia\", \"caljan\", \"callout\", \"cambelt\", \"cambridg\", \"cambridg\", \"cambridg\", \"cambridg\", \"cambridg\", \"cambridgeshir\", \"camp\", \"camp\", \"camp\", \"campaign\", \"campaign\", \"campaign\", \"campaign\", \"campaign\", \"campaign\", \"campsit\", \"canal\", \"canal\", \"canal\", \"candic\", \"candid\", \"candl\", \"candl\", \"cann\", \"canopi\", \"canopi\", \"canterburi\", \"canterburi\", \"canva\", \"capacitor\", \"caption\", \"car\", \"car\", \"car\", \"car\", \"car\", \"car\", \"car\", \"car\", \"car\", \"car\", \"car\", \"car\", \"caramel\", \"carbon\", \"carbon\", \"carbon\", \"carbon\", \"carbon\", \"carbon\", \"carbon\", \"card\", \"card\", \"card\", \"card\", \"card\", \"card\", \"card\", \"card\", \"card\", \"cardboard\", \"cardhold\", \"care\", \"care\", \"care\", \"care\", \"care\", \"care\", \"care\", \"care\", \"care\", \"care\", \"care\", \"care\", \"care\", \"care\", \"care\", \"care\", \"care\", \"care\", \"care\", \"care\", \"care\", \"care\", \"career\", \"career\", \"career\", \"career\", \"career\", \"career\", \"career\", \"career\", \"career\", \"career\", \"career\", \"career\", \"career\", \"career\", \"career\", \"career\", \"career\", \"caregiv\", \"cargo\", \"cargo\", \"carousel\", \"carousel\", \"carpet\", \"carpet\", \"carpet\", \"carpet\", \"carpet\", \"carpet\", \"carri\", \"carri\", \"carri\", \"carri\", \"carri\", \"carri\", \"carri\", \"carri\", \"carri\", \"carri\", \"carri\", \"carri\", \"carri\", \"carri\", \"carri\", \"cart\", \"cart\", \"cart\", \"cart\", \"cart\", \"cart\", \"cart\", \"cart\", \"cart\", \"cart\", \"cart\", \"cart\", \"cart\", \"cart\", \"cart\", \"cartridg\", \"casement\", \"cash\", \"cash\", \"cash\", \"cash\", \"cash\", \"cashback\", \"casino\", \"casino\", \"cast\", \"cast\", \"cast\", \"categor\", \"categori\", \"categori\", \"categori\", \"categori\", \"categori\", \"categori\", \"categori\", \"categori\", \"categori\", \"categori\", \"categori\", \"categori\", \"categori\", \"categori\", \"categori\", \"caterpillar\", \"cathol\", \"caught\", \"caught\", \"cbd\", \"cctv\", \"cctv\", \"cctv\", \"cej\", \"celebr\", \"celebr\", \"celebr\", \"celebr\", \"celebr\", \"celebr\", \"celebr\", \"celebr\", \"celebr\", \"cellar\", \"cellulit\", \"centr\", \"centr\", \"centr\", \"centr\", \"centr\", \"centr\", \"centr\", \"centr\", \"centr\", \"centr\", \"centr\", \"centr\", \"centr\", \"centr\", \"centr\", \"centr\", \"centr\", \"centr\", \"centr\", \"centr\", \"centr\", \"centrifug\", \"ceo\", \"ceo\", \"ceo\", \"ceram\", \"ceram\", \"ceram\", \"cett\", \"cf\", \"chair\", \"chair\", \"chair\", \"challeng\", \"challeng\", \"challeng\", \"challeng\", \"challeng\", \"challeng\", \"challeng\", \"challeng\", \"challeng\", \"challeng\", \"challeng\", \"challeng\", \"challeng\", \"challeng\", \"challeng\", \"challeng\", \"chang\", \"chang\", \"chang\", \"chang\", \"chang\", \"chang\", \"chang\", \"chang\", \"chang\", \"chang\", \"chang\", \"chang\", \"chang\", \"chang\", \"chang\", \"chang\", \"chang\", \"chang\", \"chang\", \"chang\", \"chang\", \"chang\", \"chang\", \"charcoal\", \"chariti\", \"chariti\", \"chariti\", \"chariti\", \"chariti\", \"chariti\", \"chariti\", \"chariti\", \"charmain\", \"chauffeur\", \"checbox\", \"check\", \"check\", \"check\", \"check\", \"check\", \"check\", \"check\", \"check\", \"check\", \"check\", \"check\", \"check\", \"check\", \"check\", \"check\", \"check\", \"check\", \"check\", \"check\", \"check\", \"check\", \"checkbox\", \"chief\", \"child\", \"child\", \"child\", \"child\", \"child\", \"childcar\", \"children\", \"children\", \"children\", \"children\", \"children\", \"children\", \"children\", \"children\", \"children\", \"chiller\", \"chilli\", \"chiropract\", \"chocol\", \"chocol\", \"chocol\", \"choli\", \"choos\", \"choos\", \"choos\", \"choos\", \"choos\", \"choos\", \"choos\", \"choos\", \"choos\", \"choos\", \"choos\", \"choos\", \"choos\", \"choos\", \"choos\", \"choos\", \"choos\", \"choos\", \"choos\", \"choos\", \"christ\", \"christian\", \"christian\", \"christian\", \"christma\", \"christma\", \"christma\", \"christma\", \"christma\", \"christma\", \"chrome\", \"church\", \"church\", \"churchil\", \"cineworld\", \"circuit\", \"circuit\", \"circuit\", \"circular\", \"circular\", \"cissp\", \"cissp\", \"citroen\", \"civil\", \"civil\", \"clark\", \"clark\", \"clark\", \"class\", \"class\", \"class\", \"class\", \"class\", \"class\", \"class\", \"class\", \"class\", \"class\", \"class\", \"class\", \"class\", \"class\", \"class\", \"classic\", \"classic\", \"classic\", \"classic\", \"classic\", \"classic\", \"clean\", \"clean\", \"clean\", \"clean\", \"clean\", \"clean\", \"clean\", \"clean\", \"clean\", \"clean\", \"cleaner\", \"cleaner\", \"cleaner\", \"cleaner\", \"click\", \"click\", \"click\", \"click\", \"click\", \"click\", \"click\", \"click\", \"click\", \"click\", \"click\", \"click\", \"click\", \"click\", \"click\", \"click\", \"click\", \"click\", \"click\", \"click\", \"click\", \"click\", \"click\", \"click\", \"click\", \"climb\", \"climb\", \"cling\", \"clinic\", \"clinic\", \"clinic\", \"clinic\", \"clinic\", \"clock\", \"clock\", \"clock\", \"close\", \"close\", \"close\", \"close\", \"close\", \"close\", \"close\", \"close\", \"close\", \"close\", \"close\", \"close\", \"close\", \"close\", \"close\", \"close\", \"close\", \"close\", \"close\", \"close\", \"close\", \"close\", \"close\", \"close\", \"close\", \"cloth\", \"cloth\", \"cloth\", \"cloth\", \"cloth\", \"cloth\", \"cloud\", \"cloud\", \"cloud\", \"cloud\", \"club\", \"club\", \"club\", \"club\", \"club\", \"club\", \"club\", \"club\", \"club\", \"clutch\", \"cm\", \"cm\", \"cnc\", \"cnc\", \"cnc\", \"coaster\", \"coaster\", \"coaster\", \"coat\", \"coat\", \"coat\", \"cocoon\", \"coffe\", \"coffe\", \"coffe\", \"coffe\", \"coffe\", \"coffe\", \"cohabit\", \"col\", \"collect\", \"collect\", \"collect\", \"collect\", \"collect\", \"collect\", \"collect\", \"collect\", \"collect\", \"collect\", \"collect\", \"collect\", \"collect\", \"collect\", \"collect\", \"collect\", \"collect\", \"collect\", \"collect\", \"collect\", \"collect\", \"colleg\", \"colleg\", \"colleg\", \"colour\", \"colour\", \"colour\", \"colour\", \"colour\", \"colour\", \"colour\", \"colour\", \"colour\", \"colour\", \"colour\", \"com\", \"com\", \"com\", \"com\", \"com\", \"com\", \"com\", \"com\", \"com\", \"com\", \"com\", \"com\", \"com\", \"com\", \"com\", \"com\", \"com\", \"com\", \"com\", \"com\", \"com\", \"com\", \"com\", \"com\", \"com\", \"com\", \"com\", \"com\", \"com\", \"com\", \"come\", \"come\", \"come\", \"come\", \"come\", \"come\", \"come\", \"come\", \"come\", \"come\", \"come\", \"come\", \"come\", \"come\", \"come\", \"come\", \"come\", \"come\", \"come\", \"come\", \"come\", \"come\", \"come\", \"come\", \"come\", \"come\", \"commerc\", \"commerc\", \"commerc\", \"commerc\", \"commerc\", \"commerc\", \"commerci\", \"commerci\", \"commerci\", \"commerci\", \"commerci\", \"commerci\", \"commerci\", \"commerci\", \"commerci\", \"commerci\", \"commerci\", \"commerci\", \"commerci\", \"commerci\", \"commerci\", \"commerci\", \"commercialis\", \"commit\", \"commit\", \"commit\", \"commit\", \"commit\", \"commit\", \"commit\", \"commit\", \"commit\", \"commit\", \"commit\", \"commit\", \"commit\", \"commit\", \"commit\", \"commodo\", \"commun\", \"commun\", \"commun\", \"commun\", \"commun\", \"commun\", \"commun\", \"commun\", \"commun\", \"commun\", \"commun\", \"commun\", \"commun\", \"commun\", \"commun\", \"commun\", \"commun\", \"commun\", \"commun\", \"commun\", \"commun\", \"commun\", \"communaut\", \"compar\", \"compar\", \"compar\", \"compar\", \"compar\", \"compar\", \"compar\", \"compar\", \"complet\", \"complet\", \"complet\", \"complet\", \"complet\", \"complet\", \"complet\", \"complet\", \"complet\", \"complet\", \"complet\", \"complet\", \"complet\", \"complet\", \"complet\", \"complet\", \"complet\", \"complet\", \"complet\", \"complet\", \"complianc\", \"complianc\", \"complianc\", \"complianc\", \"complianc\", \"compon\", \"compon\", \"compon\", \"compon\", \"compon\", \"compon\", \"compost\", \"compress\", \"compressor\", \"compressor\", \"compressor\", \"compt\", \"comput\", \"comput\", \"comput\", \"comput\", \"comput\", \"comput\", \"comput\", \"concret\", \"concret\", \"concret\", \"condit\", \"condit\", \"condit\", \"condit\", \"condit\", \"condit\", \"condit\", \"condit\", \"condit\", \"condit\", \"condit\", \"condit\", \"condit\", \"condit\", \"condit\", \"condit\", \"condit\", \"condit\", \"condit\", \"condit\", \"condit\", \"condit\", \"condit\", \"condit\", \"condit\", \"condit\", \"cone\", \"confetti\", \"connect\", \"connect\", \"connect\", \"connect\", \"connect\", \"connect\", \"connect\", \"connect\", \"connect\", \"connect\", \"connect\", \"connect\", \"connect\", \"connect\", \"connect\", \"connect\", \"connect\", \"connect\", \"connect\", \"connel\", \"connex\", \"consectetur\", \"consent\", \"consent\", \"consent\", \"consent\", \"consent\", \"consent\", \"consent\", \"consent\", \"consequat\", \"conservatori\", \"construct\", \"construct\", \"construct\", \"construct\", \"construct\", \"construct\", \"construct\", \"construct\", \"construct\", \"consult\", \"consult\", \"consult\", \"consult\", \"consult\", \"consult\", \"consult\", \"consult\", \"consult\", \"consult\", \"consult\", \"consult\", \"consult\", \"consult\", \"consult\", \"contactor\", \"contactu\", \"content\", \"content\", \"content\", \"content\", \"content\", \"content\", \"content\", \"content\", \"content\", \"content\", \"content\", \"content\", \"content\", \"content\", \"content\", \"content\", \"content\", \"content\", \"content\", \"content\", \"content\", \"content\", \"content\", \"content\", \"content\", \"contenu\", \"continu\", \"continu\", \"continu\", \"continu\", \"continu\", \"continu\", \"continu\", \"continu\", \"continu\", \"continu\", \"continu\", \"continu\", \"continu\", \"continu\", \"continu\", \"continu\", \"continu\", \"continu\", \"continu\", \"continu\", \"continu\", \"continu\", \"continu\", \"continu\", \"continu\", \"continu\", \"continu\", \"continu\", \"contract\", \"contract\", \"contract\", \"contract\", \"contract\", \"contract\", \"contract\", \"contract\", \"contract\", \"contract\", \"contractor\", \"contractor\", \"contractor\", \"contractor\", \"contractor\", \"contractor\", \"contractor\", \"contractu\", \"control\", \"control\", \"control\", \"control\", \"control\", \"control\", \"control\", \"control\", \"control\", \"control\", \"control\", \"control\", \"control\", \"control\", \"control\", \"control\", \"control\", \"convers\", \"convers\", \"convers\", \"convers\", \"convers\", \"convers\", \"convers\", \"convers\", \"convey\", \"conveyor\", \"conveyor\", \"cooki\", \"cooki\", \"cooki\", \"cooki\", \"cooki\", \"cooki\", \"cooki\", \"cooki\", \"cooki\", \"cooki\", \"cooki\", \"cooki\", \"cooki\", \"cooki\", \"cooki\", \"cooki\", \"cooki\", \"cooki\", \"cooki\", \"cooki\", \"cooki\", \"cooki\", \"cooki\", \"cooki\", \"cookielawinfo\", \"cookwar\", \"coolant\", \"cord\", \"cord\", \"corpor\", \"corpor\", \"corpor\", \"corpor\", \"corpor\", \"corpor\", \"corpor\", \"corpor\", \"corpor\", \"corpor\", \"corpor\", \"corpor\", \"corpor\", \"corpor\", \"corrupt\", \"cost\", \"cost\", \"cost\", \"cost\", \"cost\", \"cost\", \"cost\", \"cost\", \"cost\", \"cost\", \"cost\", \"cost\", \"cost\", \"cost\", \"cost\", \"cot\", \"counsel\", \"counsel\", \"counsel\", \"countess\", \"coupler\", \"courier\", \"courier\", \"courier\", \"cours\", \"cours\", \"cours\", \"cours\", \"cours\", \"cours\", \"cours\", \"cours\", \"cours\", \"cours\", \"cours\", \"courteou\", \"courteou\", \"courteou\", \"courtesi\", \"courtesi\", \"courtesi\", \"coventri\", \"coventri\", \"cpc\", \"cpfi\", \"cpr\", \"cqc\", \"cqc\", \"cr\", \"craft\", \"craft\", \"craft\", \"craft\", \"craft\", \"craft\", \"craft\", \"crane\", \"crash\", \"crate\", \"cre\", \"creat\", \"creat\", \"creat\", \"creat\", \"creat\", \"creat\", \"creat\", \"creat\", \"creat\", \"creat\", \"creat\", \"creat\", \"creat\", \"creat\", \"creat\", \"creat\", \"creat\", \"creat\", \"creat\", \"creativ\", \"creativ\", \"creativ\", \"creativ\", \"creativ\", \"creativ\", \"creativ\", \"creativ\", \"creativ\", \"crete\", \"crew\", \"crew\", \"cricket\", \"cricket\", \"cricket\", \"crown\", \"crown\", \"crown\", \"crown\", \"crown\", \"crucial\", \"cryolipolysi\", \"crystal\", \"crystal\", \"crystal\", \"ctdi\", \"cuisin\", \"cup\", \"cup\", \"cup\", \"cup\", \"cup\", \"cup\", \"curat\", \"current\", \"current\", \"current\", \"current\", \"current\", \"current\", \"current\", \"current\", \"current\", \"current\", \"current\", \"current\", \"current\", \"current\", \"current\", \"current\", \"current\", \"current\", \"current\", \"current\", \"current\", \"curriculum\", \"customerservic\", \"cute\", \"cute\", \"cutleri\", \"dab\", \"danni\", \"dapibu\", \"darren\", \"darren\", \"data\", \"data\", \"data\", \"data\", \"data\", \"data\", \"data\", \"data\", \"data\", \"data\", \"data\", \"data\", \"data\", \"data\", \"data\", \"data\", \"datron\", \"daycar\", \"de\", \"de\", \"de\", \"dealer\", \"dealer\", \"dealer\", \"dealer\", \"dealt\", \"dealt\", \"deanshang\", \"deboug\", \"decant\", \"decant\", \"decor\", \"decor\", \"decor\", \"decor\", \"decor\", \"decor\", \"decor\", \"deeper\", \"deeper\", \"deeper\", \"delet\", \"delet\", \"deliv\", \"deliv\", \"deliv\", \"deliv\", \"deliv\", \"deliv\", \"deliv\", \"deliv\", \"deliv\", \"deliv\", \"deliv\", \"deliv\", \"deliv\", \"deliv\", \"deliv\", \"deliv\", \"deliv\", \"deliv\", \"deliv\", \"deliveri\", \"deliveri\", \"deliveri\", \"deliveri\", \"deliveri\", \"deliveri\", \"deliveri\", \"deliveri\", \"deliveri\", \"deliveri\", \"deliveri\", \"deliveri\", \"deliveri\", \"deliveri\", \"deliveri\", \"deliveri\", \"deliveri\", \"deliveri\", \"deliveri\", \"deliveri\", \"deliveri\", \"deliveri\", \"dementia\", \"demograph\", \"dent\", \"dental\", \"dental\", \"dental\", \"dentist\", \"dentistri\", \"denton\", \"deodoris\", \"depart\", \"depart\", \"depart\", \"depart\", \"depart\", \"depart\", \"depart\", \"depart\", \"depart\", \"depart\", \"deploy\", \"deploy\", \"deploy\", \"deploy\", \"deploy\", \"deploy\", \"depot\", \"depot\", \"descriptioncookielawinfo\", \"desk\", \"desk\", \"desk\", \"desk\", \"desktop\", \"desktop\", \"dessert\", \"dessert\", \"detach\", \"detach\", \"detail\", \"detail\", \"detail\", \"detail\", \"detail\", \"detail\", \"detail\", \"detail\", \"detail\", \"detail\", \"detail\", \"detail\", \"detail\", \"detail\", \"detail\", \"detail\", \"detail\", \"detail\", \"detail\", \"detail\", \"detail\", \"detail\", \"detail\", \"deutsch\", \"deutsch\", \"dev\", \"devon\", \"dhabi\", \"dhd\", \"diagnost\", \"diagnost\", \"diagnost\", \"diamet\", \"diamond\", \"diamond\", \"diana\", \"diana\", \"diaphragm\", \"diet\", \"diet\", \"difficulti\", \"difficulti\", \"diffus\", \"digit\", \"digit\", \"digit\", \"digit\", \"digit\", \"digit\", \"digit\", \"dine\", \"dine\", \"dine\", \"dine\", \"dinner\", \"dinner\", \"dinner\", \"diploma\", \"direct\", \"direct\", \"direct\", \"direct\", \"direct\", \"direct\", \"direct\", \"direct\", \"direct\", \"direct\", \"direct\", \"direct\", \"direct\", \"direct\", \"direct\", \"direct\", \"direct\", \"direct\", \"direct\", \"dirt\", \"dirt\", \"disabl\", \"disabl\", \"disabl\", \"disabl\", \"disabl\", \"disabl\", \"disabl\", \"disabl\", \"disabl\", \"disabl\", \"disabl\", \"disabl\", \"discard\", \"disclos\", \"disco\", \"disco\", \"discrimin\", \"dispens\", \"dispens\", \"dispens\", \"disput\", \"disput\", \"disput\", \"distanc\", \"distanc\", \"distanc\", \"distanc\", \"distanc\", \"distanc\", \"distanc\", \"distanc\", \"distribut\", \"distribut\", \"distribut\", \"distribut\", \"distribut\", \"distribut\", \"distribut\", \"distribut\", \"distribut\", \"distribut\", \"distribut\", \"distributor\", \"distributor\", \"distributor\", \"distributor\", \"distributor\", \"dive\", \"diver\", \"divid\", \"divis\", \"divis\", \"dl\", \"dmc\", \"doctor\", \"doctor\", \"doctor\", \"document\", \"document\", \"document\", \"document\", \"document\", \"document\", \"dog\", \"dog\", \"dog\", \"dog\", \"dog\", \"doggi\", \"doggi\", \"doll\", \"dolor\", \"domest\", \"domest\", \"domest\", \"domest\", \"domest\", \"domest\", \"domest\", \"domest\", \"domest\", \"donat\", \"donat\", \"donat\", \"donat\", \"donat\", \"donat\", \"doncast\", \"doneck\", \"door\", \"door\", \"door\", \"door\", \"door\", \"door\", \"door\", \"door\", \"door\", \"door\", \"doubl\", \"doubl\", \"doubl\", \"doubl\", \"doubl\", \"doubl\", \"doubl\", \"doubl\", \"doubl\", \"doubl\", \"dovecot\", \"downgrad\", \"downstair\", \"drama\", \"drama\", \"drawer\", \"drc\", \"dress\", \"dress\", \"dress\", \"dress\", \"dri\", \"dri\", \"dri\", \"dri\", \"dri\", \"dri\", \"dri\", \"dri\", \"dri\", \"dri\", \"drill\", \"drill\", \"drill\", \"drink\", \"drink\", \"drink\", \"drink\", \"drink\", \"drink\", \"drive\", \"drive\", \"drive\", \"drive\", \"drive\", \"drive\", \"drive\", \"drive\", \"drive\", \"drive\", \"drive\", \"drive\", \"drive\", \"drive\", \"drive\", \"drive\", \"drive\", \"drive\", \"drive\", \"drive\", \"drive\", \"drive\", \"drone\", \"dropdown\", \"dropdown\", \"drum\", \"drum\", \"drum\", \"drum\", \"drum\", \"drummond\", \"dryer\", \"dryer\", \"dryer\", \"drywal\", \"dubai\", \"duchess\", \"duck\", \"dui\", \"dummer\", \"dumper\", \"duravit\", \"eagl\", \"eal\", \"eat\", \"eat\", \"eat\", \"eat\", \"eco\", \"eco\", \"eco\", \"eco\", \"ecommerc\", \"ecommerc\", \"ecommerc\", \"ecu\", \"edi\", \"edit\", \"edit\", \"edit\", \"edit\", \"edit\", \"edit\", \"edit\", \"edit\", \"edit\", \"edit\", \"editori\", \"educ\", \"educ\", \"educ\", \"educ\", \"educ\", \"educ\", \"educ\", \"educ\", \"educ\", \"educ\", \"efd\", \"egm\", \"eiusmod\", \"electr\", \"electr\", \"electr\", \"electr\", \"electr\", \"electr\", \"electr\", \"electr\", \"electr\", \"electr\", \"electrician\", \"electrician\", \"electron\", \"electron\", \"electron\", \"electron\", \"electron\", \"electron\", \"electron\", \"electron\", \"electron\", \"electron\", \"electron\", \"element\", \"element\", \"element\", \"element\", \"element\", \"element\", \"element\", \"element\", \"element\", \"eleph\", \"elit\", \"elit\", \"elit\", \"ella\", \"elliott\", \"email\", \"email\", \"email\", \"email\", \"email\", \"email\", \"email\", \"email\", \"email\", \"email\", \"email\", \"email\", \"email\", \"email\", \"email\", \"email\", \"email\", \"email\", \"email\", \"email\", \"email\", \"email\", \"email\", \"email\", \"email\", \"email\", \"email\", \"email\", \"email\", \"email\", \"email\", \"email\", \"email\", \"embassi\", \"embrac\", \"embrac\", \"embroideri\", \"embroideri\", \"emili\", \"emili\", \"emma\", \"emma\", \"emphasi\", \"emphasi\", \"emphasi\", \"employ\", \"employ\", \"employ\", \"employ\", \"employ\", \"employ\", \"employ\", \"employ\", \"employe\", \"employe\", \"employe\", \"employe\", \"employe\", \"empow\", \"empow\", \"empow\", \"empow\", \"empow\", \"empresa\", \"enabl\", \"enabl\", \"enabl\", \"enabl\", \"enabl\", \"enabl\", \"enabl\", \"enabl\", \"enabl\", \"enabl\", \"enabl\", \"enabl\", \"enabl\", \"enabl\", \"enabl\", \"enabl\", \"enclosur\", \"enclosur\", \"enclosur\", \"energi\", \"energi\", \"energi\", \"energi\", \"energi\", \"energi\", \"energi\", \"energi\", \"energi\", \"energi\", \"energi\", \"enforc\", \"engin\", \"engin\", \"engin\", \"engin\", \"engin\", \"engin\", \"engin\", \"engin\", \"engin\", \"engin\", \"engin\", \"engin\", \"engin\", \"engin\", \"engin\", \"engin\", \"england\", \"england\", \"england\", \"england\", \"england\", \"england\", \"england\", \"england\", \"england\", \"england\", \"england\", \"england\", \"england\", \"england\", \"england\", \"england\", \"england\", \"england\", \"england\", \"england\", \"england\", \"english\", \"english\", \"english\", \"english\", \"english\", \"english\", \"english\", \"english\", \"english\", \"english\", \"english\", \"enim\", \"enjoy\", \"enjoy\", \"enjoy\", \"enjoy\", \"enjoy\", \"enjoy\", \"enjoy\", \"enjoy\", \"enjoy\", \"enjoy\", \"enjoy\", \"enjoy\", \"enjoy\", \"enjoy\", \"enjoy\", \"enjoy\", \"enjoy\", \"enjoy\", \"enquiri\", \"enquiri\", \"enquiri\", \"enquiri\", \"enquiri\", \"enquiri\", \"enquiri\", \"enquiri\", \"enquiri\", \"enquiri\", \"enquiri\", \"enquiri\", \"enquiri\", \"enquiri\", \"ensur\", \"ensur\", \"ensur\", \"ensur\", \"ensur\", \"ensur\", \"ensur\", \"ensur\", \"ensur\", \"ensur\", \"ensur\", \"ensur\", \"ensur\", \"ensur\", \"ensur\", \"ensur\", \"ensur\", \"ensur\", \"ensur\", \"ensur\", \"ensur\", \"ensur\", \"entertain\", \"entertain\", \"entertain\", \"entertain\", \"entertain\", \"entertain\", \"entrepreneur\", \"entrepris\", \"environment\", \"environment\", \"environment\", \"environment\", \"environment\", \"environment\", \"environment\", \"environment\", \"eon\", \"equip\", \"equip\", \"equip\", \"equip\", \"equip\", \"equip\", \"equip\", \"equip\", \"equip\", \"equip\", \"equip\", \"equip\", \"equip\", \"equip\", \"equip\", \"equip\", \"equip\", \"erp\", \"escap\", \"espan\", \"espan\", \"espresso\", \"essenti\", \"essenti\", \"essenti\", \"essenti\", \"essenti\", \"essenti\", \"essenti\", \"essenti\", \"essenti\", \"estat\", \"estat\", \"estat\", \"estat\", \"estat\", \"estat\", \"estat\", \"estat\", \"estat\", \"etap\", \"etsi\", \"etsi\", \"eur\", \"eur\", \"eur\", \"evapor\", \"evergreen\", \"excav\", \"excl\", \"expert\", \"expert\", \"expert\", \"expert\", \"expert\", \"expert\", \"expert\", \"expert\", \"expert\", \"expert\", \"expert\", \"expert\", \"expert\", \"expert\", \"expert\", \"expert\", \"expert\", \"extens\", \"extens\", \"extens\", \"extens\", \"extens\", \"extens\", \"extens\", \"extens\", \"extens\", \"extens\", \"extens\", \"extens\", \"extinguish\", \"extrus\", \"eye\", \"eye\", \"eye\", \"eye\", \"eye\", \"eye\", \"eye\", \"eye\", \"eye\", \"eyf\", \"fabric\", \"fabric\", \"fabric\", \"fabric\", \"fabric\", \"face\", \"face\", \"face\", \"face\", \"face\", \"face\", \"face\", \"face\", \"face\", \"face\", \"face\", \"face\", \"face\", \"face\", \"facebook\", \"facebook\", \"facebook\", \"facebook\", \"facebook\", \"facebook\", \"facebook\", \"facebook\", \"facebook\", \"facebook\", \"facebook\", \"facebook\", \"facebook\", \"facebook\", \"facebook\", \"facebook\", \"facebook\", \"facebook\", \"facebook\", \"facebook\", \"facebook\", \"facelift\", \"facial\", \"facial\", \"facil\", \"facil\", \"facil\", \"facil\", \"facil\", \"facil\", \"facil\", \"facil\", \"facil\", \"facil\", \"facil\", \"facil\", \"facil\", \"facil\", \"facil\", \"facil\", \"facil\", \"facilit\", \"facilit\", \"faculti\", \"famili\", \"famili\", \"famili\", \"famili\", \"famili\", \"famili\", \"famili\", \"famili\", \"famili\", \"famili\", \"famili\", \"famili\", \"famili\", \"famili\", \"famili\", \"famili\", \"famili\", \"famili\", \"famili\", \"famili\", \"farmhous\", \"farmhous\", \"farth\", \"fashion\", \"fashion\", \"fashion\", \"fashion\", \"fashion\", \"fast\", \"fast\", \"fast\", \"fast\", \"fast\", \"fast\", \"fast\", \"fast\", \"fast\", \"fast\", \"fast\", \"fast\", \"fast\", \"fast\", \"fast\", \"fast\", \"fast\", \"fast\", \"fastax\", \"faster\", \"faster\", \"faster\", \"featur\", \"featur\", \"featur\", \"featur\", \"featur\", \"featur\", \"featur\", \"featur\", \"featur\", \"featur\", \"featur\", \"featur\", \"featur\", \"featur\", \"featur\", \"featur\", \"featur\", \"featur\", \"featur\", \"feb\", \"feb\", \"fee\", \"fee\", \"fee\", \"fee\", \"fee\", \"fee\", \"fee\", \"fee\", \"fee\", \"fee\", \"fee\", \"feel\", \"feel\", \"feel\", \"feel\", \"feel\", \"feel\", \"feel\", \"feel\", \"feel\", \"feel\", \"feel\", \"feel\", \"feel\", \"feel\", \"feel\", \"femal\", \"femal\", \"femal\", \"fenc\", \"fenc\", \"fenc\", \"ferment\", \"ferrou\", \"fiat\", \"fibr\", \"fibr\", \"fibr\", \"fibr\", \"fibr\", \"fidel\", \"fifti\", \"file\", \"file\", \"file\", \"file\", \"file\", \"file\", \"file\", \"file\", \"file\", \"file\", \"filter\", \"filter\", \"filter\", \"filter\", \"filter\", \"filter\", \"fin\", \"financ\", \"financ\", \"financ\", \"financ\", \"financ\", \"financ\", \"financ\", \"financi\", \"financi\", \"financi\", \"financi\", \"financi\", \"financi\", \"financi\", \"financi\", \"finer\", \"fingertip\", \"finish\", \"finish\", \"finish\", \"finish\", \"finish\", \"finish\", \"finish\", \"finish\", \"finish\", \"finish\", \"finish\", \"finish\", \"finish\", \"finish\", \"fire\", \"fire\", \"fire\", \"fire\", \"fire\", \"firm\", \"firm\", \"firm\", \"firm\", \"firm\", \"firm\", \"firm\", \"first\", \"first\", \"first\", \"first\", \"first\", \"first\", \"first\", \"first\", \"first\", \"first\", \"first\", \"first\", \"first\", \"first\", \"first\", \"first\", \"first\", \"first\", \"first\", \"first\", \"first\", \"first\", \"first\", \"first\", \"first\", \"fit\", \"fit\", \"fit\", \"fit\", \"fit\", \"fit\", \"fit\", \"fit\", \"fit\", \"fit\", \"fit\", \"fit\", \"fit\", \"fit\", \"fit\", \"fit\", \"fit\", \"fit\", \"fit\", \"flare\", \"flawless\", \"flee\", \"fleet\", \"fleet\", \"fleet\", \"fleet\", \"fleet\", \"fleet\", \"fleet\", \"fleet\", \"flettner\", \"flex\", \"flex\", \"flex\", \"floor\", \"floor\", \"floor\", \"floor\", \"floor\", \"floor\", \"floor\", \"floor\", \"floor\", \"floor\", \"floor\", \"floor\", \"floor\", \"flower\", \"flower\", \"flower\", \"flower\", \"fmcg\", \"fold\", \"fold\", \"fold\", \"follow\", \"follow\", \"follow\", \"follow\", \"follow\", \"follow\", \"follow\", \"follow\", \"follow\", \"follow\", \"follow\", \"follow\", \"follow\", \"follow\", \"follow\", \"follow\", \"follow\", \"follow\", \"follow\", \"follow\", \"follow\", \"follow\", \"follow\", \"follow\", \"follow\", \"follow\", \"follow\", \"food\", \"food\", \"food\", \"food\", \"food\", \"food\", \"food\", \"food\", \"food\", \"food\", \"food\", \"food\", \"food\", \"food\", \"foodservic\", \"footbal\", \"footbal\", \"footbal\", \"footbal\", \"footbal\", \"footbal\", \"footfal\", \"footfal\", \"footmuff\", \"footprint\", \"footprint\", \"footwear\", \"footwear\", \"forc\", \"forc\", \"forc\", \"forc\", \"forc\", \"foreign\", \"foreign\", \"forestad\", \"fork\", \"forklift\", \"formerli\", \"foster\", \"fosterplu\", \"fountain\", \"frame\", \"frame\", \"frame\", \"frame\", \"frame\", \"frame\", \"franc\", \"franc\", \"franc\", \"franc\", \"franc\", \"franc\", \"franc\", \"franc\", \"franc\", \"free\", \"free\", \"free\", \"free\", \"free\", \"free\", \"free\", \"free\", \"free\", \"free\", \"free\", \"free\", \"free\", \"free\", \"free\", \"free\", \"free\", \"free\", \"free\", \"free\", \"free\", \"free\", \"free\", \"free\", \"free\", \"free\", \"free\", \"freemasonri\", \"freight\", \"freight\", \"friday\", \"friday\", \"friday\", \"friday\", \"friday\", \"friday\", \"friday\", \"friday\", \"friday\", \"friday\", \"friday\", \"friday\", \"friday\", \"friday\", \"friendli\", \"friendli\", \"friendli\", \"friendli\", \"friendli\", \"friendli\", \"friendli\", \"friendli\", \"friendli\", \"friendli\", \"friendli\", \"friendli\", \"friendli\", \"friendli\", \"friendli\", \"friendli\", \"friendli\", \"friendli\", \"friendli\", \"friendli\", \"friendli\", \"friendli\", \"friendli\", \"friendli\", \"front\", \"front\", \"front\", \"front\", \"front\", \"front\", \"front\", \"front\", \"front\", \"front\", \"front\", \"front\", \"fttx\", \"fudco\", \"fuell\", \"full\", \"full\", \"full\", \"full\", \"full\", \"full\", \"full\", \"full\", \"full\", \"full\", \"full\", \"full\", \"full\", \"full\", \"full\", \"full\", \"full\", \"full\", \"full\", \"full\", \"full\", \"full\", \"full\", \"full\", \"full\", \"full\", \"full\", \"fullsiz\", \"fun\", \"fun\", \"fun\", \"fun\", \"fun\", \"fun\", \"fun\", \"fun\", \"fun\", \"function\", \"function\", \"function\", \"function\", \"function\", \"function\", \"function\", \"function\", \"function\", \"fundrais\", \"fundrais\", \"fundrais\", \"funni\", \"furnitur\", \"furnitur\", \"furnitur\", \"furnitur\", \"furnitur\", \"furnitur\", \"furnitur\", \"fuse\", \"fuse\", \"fuse\", \"fuse\", \"futuna\", \"ga\", \"ga\", \"ga\", \"ga\", \"ga\", \"ga\", \"ga\", \"ga\", \"gado\", \"gain\", \"gain\", \"gain\", \"gain\", \"gain\", \"gain\", \"gain\", \"gain\", \"gain\", \"galaxi\", \"galaxi\", \"galleri\", \"galleri\", \"galleri\", \"galleri\", \"galleri\", \"galleri\", \"galleri\", \"galleri\", \"galleri\", \"galleri\", \"galleri\", \"galleri\", \"galleri\", \"galleri\", \"galleri\", \"galleri\", \"gambl\", \"game\", \"game\", \"game\", \"game\", \"game\", \"game\", \"game\", \"game\", \"game\", \"game\", \"gap\", \"gap\", \"gap\", \"garag\", \"garag\", \"garag\", \"garag\", \"garag\", \"garden\", \"garden\", \"garden\", \"garden\", \"garden\", \"garden\", \"garden\", \"garden\", \"garden\", \"garden\", \"garden\", \"garden\", \"garden\", \"garment\", \"gate\", \"gate\", \"gate\", \"gate\", \"gate\", \"gate\", \"gate\", \"gate\", \"gbp\", \"gbp\", \"gbp\", \"gbp\", \"gcse\", \"gdpr\", \"gdpr\", \"gdpr\", \"gdpr\", \"gdpr\", \"gdpr\", \"gdpr\", \"gea\", \"gearbox\", \"geek\", \"gemma\", \"gener\", \"gener\", \"gener\", \"gener\", \"gener\", \"gener\", \"gener\", \"gener\", \"gener\", \"gener\", \"gener\", \"gener\", \"gener\", \"gener\", \"gener\", \"gener\", \"gener\", \"gener\", \"gener\", \"gener\", \"gener\", \"gener\", \"gener\", \"genr\", \"gent\", \"geo\", \"geo\", \"geoff\", \"georg\", \"georg\", \"georg\", \"georgett\", \"georgina\", \"geotechn\", \"germani\", \"germani\", \"germani\", \"germani\", \"germani\", \"germani\", \"germani\", \"ghana\", \"ghana\", \"ghz\", \"gift\", \"gift\", \"gift\", \"gift\", \"gift\", \"gift\", \"gift\", \"gift\", \"gift\", \"gift\", \"gift\", \"gift\", \"gill\", \"gin\", \"giveaway\", \"giveaway\", \"glass\", \"glass\", \"glass\", \"glass\", \"glass\", \"glass\", \"glasswar\", \"glaze\", \"glaze\", \"glenco\", \"glenn\", \"glitter\", \"global\", \"global\", \"global\", \"global\", \"global\", \"global\", \"global\", \"global\", \"global\", \"global\", \"global\", \"global\", \"global\", \"globe\", \"gloss\", \"godaddi\", \"gold\", \"gold\", \"gold\", \"gold\", \"gold\", \"gold\", \"gold\", \"golf\", \"golf\", \"golf\", \"good\", \"good\", \"good\", \"good\", \"good\", \"good\", \"good\", \"good\", \"good\", \"good\", \"good\", \"good\", \"good\", \"good\", \"good\", \"good\", \"good\", \"good\", \"good\", \"good\", \"googl\", \"googl\", \"googl\", \"googl\", \"googl\", \"googl\", \"googl\", \"googl\", \"googl\", \"googl\", \"googl\", \"googl\", \"googl\", \"googl\", \"googl\", \"googl\", \"googl\", \"googl\", \"googl\", \"googl\", \"gorgon\", \"govern\", \"govern\", \"govern\", \"govern\", \"govern\", \"govern\", \"govern\", \"govern\", \"govern\", \"govern\", \"govern\", \"govern\", \"govern\", \"gown\", \"grand\", \"grand\", \"grand\", \"grand\", \"grand\", \"grand\", \"grand\", \"granit\", \"grant\", \"grant\", \"grant\", \"graphic\", \"graphic\", \"graphic\", \"graphic\", \"graphic\", \"graphic\", \"grass\", \"great\", \"great\", \"great\", \"great\", \"great\", \"great\", \"great\", \"great\", \"great\", \"great\", \"great\", \"great\", \"great\", \"great\", \"great\", \"great\", \"great\", \"great\", \"great\", \"great\", \"great\", \"great\", \"great\", \"greater\", \"greater\", \"greater\", \"green\", \"green\", \"green\", \"green\", \"green\", \"green\", \"green\", \"green\", \"green\", \"green\", \"green\", \"green\", \"green\", \"green\", \"grid\", \"grid\", \"grid\", \"grid\", \"griffith\", \"grind\", \"grit\", \"groceri\", \"groom\", \"groom\", \"groom\", \"groomer\", \"group\", \"group\", \"group\", \"group\", \"group\", \"group\", \"group\", \"group\", \"group\", \"group\", \"group\", \"group\", \"group\", \"group\", \"group\", \"group\", \"group\", \"group\", \"grow\", \"grow\", \"grow\", \"grow\", \"grow\", \"grow\", \"grow\", \"grow\", \"grow\", \"grow\", \"grow\", \"grow\", \"grow\", \"grumpi\", \"guard\", \"guard\", \"guard\", \"gud\", \"guest\", \"guest\", \"guest\", \"guest\", \"guid\", \"guid\", \"guid\", \"guid\", \"guid\", \"guid\", \"guid\", \"guid\", \"guid\", \"guid\", \"guid\", \"guid\", \"guid\", \"guid\", \"guid\", \"guid\", \"guid\", \"guid\", \"guis\", \"guitar\", \"hackney\", \"hair\", \"hair\", \"hair\", \"hair\", \"hair\", \"hairdress\", \"hairdress\", \"hall\", \"hall\", \"hall\", \"hall\", \"hall\", \"hall\", \"hall\", \"halloween\", \"hammond\", \"hammond\", \"handelsbanken\", \"handmad\", \"handmad\", \"handmad\", \"hannah\", \"hannah\", \"hapi\", \"happi\", \"happi\", \"happi\", \"happi\", \"happi\", \"happi\", \"happi\", \"happi\", \"happi\", \"happi\", \"happi\", \"happi\", \"happi\", \"happi\", \"happi\", \"happi\", \"happi\", \"happi\", \"happi\", \"happi\", \"harben\", \"hardwood\", \"harpenden\", \"hdmi\", \"heal\", \"heal\", \"heal\", \"health\", \"health\", \"health\", \"health\", \"health\", \"health\", \"health\", \"health\", \"health\", \"health\", \"health\", \"health\", \"health\", \"health\", \"healthcar\", \"healthcar\", \"healthcar\", \"healthcar\", \"healthcar\", \"healthcar\", \"healthcar\", \"heat\", \"heat\", \"heat\", \"heat\", \"heat\", \"heat\", \"heat\", \"heat\", \"heat\", \"heat\", \"heathrow\", \"hedg\", \"helmet\", \"helmet\", \"hemel\", \"hemel\", \"hen\", \"hen\", \"hero\", \"hero\", \"hexagon\", \"hibu\", \"hifu\", \"high\", \"high\", \"high\", \"high\", \"high\", \"high\", \"high\", \"high\", \"high\", \"high\", \"high\", \"high\", \"high\", \"high\", \"high\", \"high\", \"high\", \"high\", \"high\", \"high\", \"high\", \"high\", \"high\", \"high\", \"high\", \"high\", \"high\", \"high\", \"high\", \"high\", \"highway\", \"highway\", \"hilton\", \"hilton\", \"hing\", \"hinowa\", \"hire\", \"hire\", \"hire\", \"hire\", \"hire\", \"hire\", \"hire\", \"hire\", \"hire\", \"hire\", \"hmrc\", \"holder\", \"holder\", \"holder\", \"holder\", \"holder\", \"holli\", \"home\", \"home\", \"home\", \"home\", \"home\", \"home\", \"home\", \"home\", \"home\", \"home\", \"home\", \"home\", \"home\", \"home\", \"home\", \"home\", \"home\", \"home\", \"home\", \"home\", \"home\", \"home\", \"home\", \"home\", \"home\", \"home\", \"home\", \"home\", \"home\", \"home\", \"home\", \"home\", \"home\", \"home\", \"homeless\", \"homogen\", \"honey\", \"honey\", \"hong\", \"hong\", \"hong\", \"hoodi\", \"horizon\", \"horizon\", \"hose\", \"hose\", \"hospic\", \"hospic\", \"host\", \"host\", \"host\", \"host\", \"host\", \"host\", \"host\", \"host\", \"host\", \"host\", \"host\", \"host\", \"host\", \"host\", \"host\", \"hot\", \"hot\", \"hot\", \"hot\", \"hot\", \"hot\", \"hot\", \"hot\", \"hot\", \"hot\", \"hot\", \"hotel\", \"hotel\", \"hotel\", \"hotel\", \"hour\", \"hour\", \"hour\", \"hour\", \"hour\", \"hour\", \"hour\", \"hour\", \"hour\", \"hour\", \"hour\", \"hour\", \"hour\", \"hour\", \"hour\", \"hour\", \"hour\", \"hour\", \"hour\", \"hour\", \"hour\", \"hour\", \"hous\", \"hous\", \"hous\", \"hous\", \"hous\", \"hous\", \"hous\", \"hous\", \"hous\", \"hous\", \"hous\", \"hous\", \"hous\", \"hous\", \"hous\", \"hous\", \"hous\", \"hous\", \"hous\", \"hous\", \"hous\", \"hsb\", \"hsbcad\", \"hull\", \"hull\", \"hurri\", \"hygien\", \"hygien\", \"hygien\", \"hygien\", \"hygien\", \"hypnotherapi\", \"iata\", \"ibm\", \"icaal\", \"idealcombi\", \"ident\", \"ident\", \"ident\", \"ident\", \"illumin\", \"imag\", \"imag\", \"imag\", \"imag\", \"imag\", \"imag\", \"imag\", \"imag\", \"imag\", \"imag\", \"imag\", \"imag\", \"imit\", \"impact\", \"impact\", \"impact\", \"impact\", \"impact\", \"impact\", \"impact\", \"impact\", \"impact\", \"impact\", \"impecc\", \"implant\", \"implant\", \"improv\", \"improv\", \"improv\", \"improv\", \"improv\", \"improv\", \"improv\", \"improv\", \"improv\", \"improv\", \"improv\", \"improv\", \"improv\", \"improv\", \"improv\", \"incens\", \"incididunt\", \"includ\", \"includ\", \"includ\", \"includ\", \"includ\", \"includ\", \"includ\", \"includ\", \"includ\", \"includ\", \"includ\", \"includ\", \"includ\", \"includ\", \"includ\", \"includ\", \"includ\", \"includ\", \"includ\", \"includ\", \"includ\", \"includ\", \"includ\", \"includ\", \"includ\", \"includ\", \"includ\", \"includ\", \"includ\", \"includ\", \"includ\", \"incom\", \"incom\", \"incom\", \"incontin\", \"increas\", \"increas\", \"increas\", \"increas\", \"increas\", \"increas\", \"increas\", \"increas\", \"increas\", \"increas\", \"increas\", \"increas\", \"increas\", \"increas\", \"independ\", \"independ\", \"independ\", \"independ\", \"independ\", \"independ\", \"independ\", \"independ\", \"independ\", \"independ\", \"independ\", \"independ\", \"independ\", \"independ\", \"independ\", \"inductor\", \"indulg\", \"indulg\", \"industri\", \"industri\", \"industri\", \"industri\", \"industri\", \"industri\", \"industri\", \"industri\", \"industri\", \"industri\", \"industri\", \"industri\", \"industri\", \"industri\", \"industri\", \"industri\", \"industri\", \"industri\", \"industri\", \"infinit\", \"info\", \"info\", \"info\", \"info\", \"info\", \"info\", \"info\", \"info\", \"info\", \"info\", \"info\", \"info\", \"info\", \"info\", \"info\", \"info\", \"info\", \"info\", \"info\", \"info\", \"info\", \"info\", \"info\", \"info\", \"info\", \"info\", \"info\", \"info\", \"info\", \"info\", \"info\", \"inform\", \"inform\", \"inform\", \"inform\", \"inform\", \"inform\", \"inform\", \"inform\", \"inform\", \"inform\", \"inform\", \"inform\", \"inform\", \"inform\", \"inform\", \"inform\", \"inform\", \"inform\", \"inform\", \"inform\", \"inform\", \"inform\", \"inform\", \"inform\", \"inform\", \"inform\", \"inform\", \"inform\", \"inform\", \"inform\", \"infrastructur\", \"infrastructur\", \"infrastructur\", \"infrastructur\", \"inherit\", \"injuri\", \"injuri\", \"injuri\", \"injuri\", \"ink\", \"ink\", \"ink\", \"innov\", \"innov\", \"innov\", \"innov\", \"innov\", \"innov\", \"innov\", \"innov\", \"innov\", \"innov\", \"innov\", \"innov\", \"innov\", \"insight\", \"insight\", \"insight\", \"insight\", \"insight\", \"insight\", \"insight\", \"insight\", \"insight\", \"insolv\", \"inspect\", \"inspect\", \"inspect\", \"inspect\", \"inspect\", \"instal\", \"instal\", \"instal\", \"instal\", \"instal\", \"instal\", \"instal\", \"instal\", \"instal\", \"instal\", \"instal\", \"instal\", \"instal\", \"instal\", \"instal\", \"instal\", \"instal\", \"instrument\", \"instrument\", \"instrument\", \"insur\", \"insur\", \"insur\", \"insur\", \"insur\", \"insur\", \"insur\", \"insur\", \"insur\", \"insur\", \"insur\", \"integr\", \"integr\", \"integr\", \"integr\", \"integr\", \"integr\", \"integr\", \"integr\", \"integr\", \"integr\", \"integr\", \"intel\", \"intellig\", \"intellig\", \"intellig\", \"interest\", \"interest\", \"interest\", \"interest\", \"interest\", \"interest\", \"interest\", \"interest\", \"interest\", \"interest\", \"interest\", \"interest\", \"interest\", \"interest\", \"interest\", \"interfac\", \"interfac\", \"interior\", \"interior\", \"interior\", \"interior\", \"interior\", \"interior\", \"internet\", \"internet\", \"internet\", \"internet\", \"internet\", \"internet\", \"internet\", \"intexion\", \"intralogist\", \"intrud\", \"intyr\", \"intyr\", \"invas\", \"invas\", \"inventor\", \"invest\", \"invest\", \"invest\", \"invest\", \"invest\", \"invest\", \"invest\", \"invest\", \"inward\", \"iosh\", \"ipaf\", \"ipl\", \"ipsum\", \"iri\", \"island\", \"island\", \"island\", \"island\", \"italian\", \"italian\", \"italian\", \"italian\", \"italian\", \"item\", \"item\", \"item\", \"item\", \"item\", \"item\", \"item\", \"item\", \"item\", \"item\", \"item\", \"item\", \"item\", \"item\", \"item\", \"item\", \"item\", \"item\", \"item\", \"item\", \"item\", \"item\", \"item\", \"item\", \"itso\", \"ivi\", \"ivi\", \"ivori\", \"ivori\", \"jacket\", \"jacket\", \"jake\", \"jan\", \"jan\", \"jan\", \"jan\", \"jan\", \"java\", \"java\", \"java\", \"java\", \"java\", \"java\", \"java\", \"java\", \"jcm\", \"jetzt\", \"jewelleri\", \"jewelleri\", \"jewelleri\", \"job\", \"job\", \"job\", \"job\", \"job\", \"job\", \"job\", \"job\", \"job\", \"job\", \"job\", \"job\", \"job\", \"job\", \"job\", \"job\", \"job\", \"job\", \"job\", \"job\", \"join\", \"join\", \"join\", \"join\", \"join\", \"join\", \"join\", \"join\", \"join\", \"join\", \"join\", \"join\", \"join\", \"join\", \"join\", \"join\", \"join\", \"join\", \"join\", \"jpi\", \"jug\", \"juicer\", \"julian\", \"jungheinrich\", \"junk\", \"just\", \"just\", \"just\", \"just\", \"just\", \"just\", \"just\", \"just\", \"just\", \"just\", \"just\", \"just\", \"just\", \"just\", \"just\", \"just\", \"just\", \"just\", \"just\", \"just\", \"just\", \"just\", \"just\", \"just\", \"just\", \"kaak\", \"kart\", \"katherin\", \"kawai\", \"kempston\", \"kentucki\", \"kerri\", \"kevin\", \"kevin\", \"keyboard\", \"keytec\", \"kia\", \"kinshasa\", \"kirkham\", \"kirkham\", \"kit\", \"kit\", \"kit\", \"kit\", \"kit\", \"kit\", \"kit\", \"kit\", \"kit\", \"kit\", \"kit\", \"kitchen\", \"kitchen\", \"kitchen\", \"kitchen\", \"kitchen\", \"kitchen\", \"kitchen\", \"kitchen\", \"kitchen\", \"kitemark\", \"klarna\", \"klean\", \"knee\", \"knife\", \"knit\", \"knive\", \"knowl\", \"kong\", \"kong\", \"kong\", \"ksie\", \"labour\", \"labour\", \"labour\", \"labour\", \"lace\", \"lacher\", \"ladder\", \"ladder\", \"lake\", \"lake\", \"lake\", \"lake\", \"lamp\", \"lamp\", \"lamp\", \"landfil\", \"landlord\", \"landlord\", \"landscap\", \"landscap\", \"landscap\", \"landscap\", \"landscap\", \"landscap\", \"languag\", \"languag\", \"languag\", \"languag\", \"languag\", \"languag\", \"languag\", \"languag\", \"languag\", \"lantern\", \"lantern\", \"laser\", \"laser\", \"laser\", \"laser\", \"laser\", \"laser\", \"lash\", \"latch\", \"latch\", \"lath\", \"laundri\", \"laundri\", \"laundri\", \"law\", \"law\", \"law\", \"law\", \"law\", \"law\", \"lcl\", \"lcrig\", \"lcv\", \"lead\", \"lead\", \"lead\", \"lead\", \"lead\", \"lead\", \"lead\", \"lead\", \"lead\", \"lead\", \"lead\", \"lead\", \"lead\", \"lead\", \"lead\", \"lead\", \"lead\", \"lead\", \"lead\", \"lead\", \"lead\", \"lead\", \"leadership\", \"leadership\", \"leagu\", \"leagu\", \"leak\", \"leak\", \"learn\", \"learn\", \"learn\", \"learn\", \"learn\", \"learn\", \"learn\", \"learn\", \"learn\", \"learn\", \"learn\", \"learn\", \"learn\", \"learn\", \"learn\", \"learn\", \"learn\", \"learn\", \"learn\", \"learn\", \"learn\", \"leather\", \"leather\", \"leaver\", \"led\", \"led\", \"led\", \"led\", \"led\", \"led\", \"led\", \"leed\", \"leed\", \"leed\", \"legal\", \"legal\", \"legal\", \"legal\", \"legal\", \"legal\", \"legal\", \"legal\", \"legal\", \"legal\", \"legal\", \"legal\", \"legal\", \"legalis\", \"legion\", \"legionella\", \"legitim\", \"lehenga\", \"leicestershir\", \"leila\", \"len\", \"lens\", \"lens\", \"leo\", \"leo\", \"lesse\", \"let\", \"let\", \"let\", \"let\", \"let\", \"let\", \"let\", \"let\", \"let\", \"let\", \"let\", \"let\", \"let\", \"let\", \"let\", \"let\", \"let\", \"level\", \"level\", \"level\", \"level\", \"level\", \"level\", \"level\", \"level\", \"level\", \"level\", \"level\", \"level\", \"level\", \"level\", \"level\", \"level\", \"lgi\", \"lhr\", \"licenc\", \"licenc\", \"licenc\", \"licenc\", \"licenc\", \"licenc\", \"licenc\", \"licens\", \"licens\", \"licens\", \"licens\", \"licens\", \"licens\", \"licens\", \"licens\", \"licens\", \"licens\", \"license\", \"life\", \"life\", \"life\", \"life\", \"life\", \"life\", \"life\", \"life\", \"life\", \"life\", \"life\", \"life\", \"life\", \"life\", \"life\", \"life\", \"life\", \"life\", \"life\", \"life\", \"life\", \"life\", \"life\", \"lifestyl\", \"lifestyl\", \"lifestyl\", \"lifestyl\", \"lifestyl\", \"lifestyl\", \"lifestyl\", \"lifestyl\", \"lift\", \"lift\", \"lift\", \"lift\", \"lift\", \"lift\", \"lift\", \"lift\", \"lift\", \"light\", \"light\", \"light\", \"light\", \"light\", \"light\", \"light\", \"light\", \"light\", \"light\", \"light\", \"light\", \"light\", \"light\", \"light\", \"lightbox\", \"like\", \"like\", \"like\", \"like\", \"like\", \"like\", \"like\", \"like\", \"like\", \"like\", \"like\", \"like\", \"like\", \"like\", \"like\", \"like\", \"like\", \"like\", \"like\", \"like\", \"like\", \"like\", \"like\", \"like\", \"like\", \"like\", \"like\", \"like\", \"limit\", \"limit\", \"limit\", \"limit\", \"limit\", \"limit\", \"limit\", \"limit\", \"limit\", \"limit\", \"limit\", \"limit\", \"limit\", \"limit\", \"limit\", \"limit\", \"limit\", \"limit\", \"limit\", \"limit\", \"limit\", \"limit\", \"limit\", \"line\", \"line\", \"line\", \"line\", \"line\", \"line\", \"line\", \"line\", \"line\", \"line\", \"line\", \"line\", \"line\", \"line\", \"line\", \"line\", \"line\", \"line\", \"line\", \"liner\", \"liniar\", \"link\", \"link\", \"link\", \"link\", \"link\", \"link\", \"link\", \"link\", \"link\", \"link\", \"link\", \"link\", \"link\", \"link\", \"link\", \"link\", \"link\", \"link\", \"link\", \"link\", \"link\", \"link\", \"link\", \"link\", \"link\", \"link\", \"lion\", \"lion\", \"lion\", \"lipo\", \"list\", \"list\", \"list\", \"list\", \"list\", \"list\", \"list\", \"list\", \"list\", \"list\", \"list\", \"list\", \"list\", \"list\", \"list\", \"list\", \"lista\", \"liter\", \"literatur\", \"literatur\", \"lithium\", \"lithuania\", \"lithuania\", \"lithuania\", \"litig\", \"litter\", \"live\", \"live\", \"live\", \"live\", \"live\", \"live\", \"live\", \"live\", \"live\", \"live\", \"live\", \"live\", \"live\", \"live\", \"live\", \"live\", \"live\", \"live\", \"live\", \"live\", \"live\", \"live\", \"live\", \"liveri\", \"liveri\", \"llp\", \"llp\", \"lo\", \"loader\", \"loan\", \"loan\", \"loan\", \"local\", \"local\", \"local\", \"local\", \"local\", \"local\", \"local\", \"local\", \"local\", \"local\", \"local\", \"local\", \"local\", \"local\", \"local\", \"local\", \"local\", \"local\", \"local\", \"local\", \"local\", \"local\", \"locat\", \"locat\", \"locat\", \"locat\", \"locat\", \"locat\", \"locat\", \"locat\", \"locat\", \"locat\", \"locat\", \"locat\", \"locat\", \"locat\", \"locat\", \"locat\", \"locat\", \"locat\", \"locat\", \"locat\", \"locat\", \"locat\", \"locat\", \"locat\", \"lock\", \"lock\", \"lock\", \"lock\", \"lock\", \"lock\", \"lock\", \"lock\", \"locum\", \"locum\", \"locum\", \"log\", \"log\", \"log\", \"log\", \"log\", \"log\", \"log\", \"log\", \"log\", \"log\", \"log\", \"logi\", \"logic\", \"login\", \"login\", \"login\", \"login\", \"login\", \"login\", \"login\", \"login\", \"login\", \"login\", \"login\", \"login\", \"login\", \"login\", \"login\", \"login\", \"login\", \"login\", \"login\", \"login\", \"login\", \"logist\", \"logist\", \"logist\", \"logist\", \"logist\", \"logist\", \"logo\", \"logo\", \"logo\", \"logo\", \"london\", \"london\", \"london\", \"london\", \"london\", \"london\", \"london\", \"london\", \"london\", \"london\", \"london\", \"london\", \"london\", \"london\", \"london\", \"london\", \"london\", \"london\", \"london\", \"london\", \"lorem\", \"love\", \"love\", \"love\", \"love\", \"love\", \"love\", \"love\", \"love\", \"love\", \"love\", \"love\", \"love\", \"love\", \"love\", \"love\", \"love\", \"love\", \"love\", \"love\", \"loyal\", \"loyal\", \"loyal\", \"lubric\", \"lubric\", \"lubric\", \"luctu\", \"lunch\", \"lunch\", \"lunch\", \"lunch\", \"lyon\", \"mac\", \"mac\", \"mac\", \"mac\", \"mac\", \"machin\", \"machin\", \"machin\", \"machin\", \"machin\", \"machin\", \"machin\", \"machin\", \"machin\", \"machin\", \"machineri\", \"machineri\", \"machineri\", \"mackerel\", \"macnica\", \"made\", \"made\", \"made\", \"made\", \"made\", \"made\", \"made\", \"made\", \"made\", \"made\", \"made\", \"made\", \"made\", \"made\", \"made\", \"made\", \"made\", \"made\", \"made\", \"made\", \"magic\", \"magic\", \"magic\", \"magic\", \"magic\", \"magic\", \"magnet\", \"magnet\", \"mahindra\", \"main\", \"main\", \"main\", \"main\", \"main\", \"main\", \"main\", \"main\", \"main\", \"main\", \"main\", \"main\", \"main\", \"main\", \"main\", \"main\", \"main\", \"main\", \"mainmark\", \"mainten\", \"mainten\", \"mainten\", \"mainten\", \"mainten\", \"mainten\", \"mainten\", \"mainten\", \"mainten\", \"mainten\", \"mainten\", \"mainten\", \"mainten\", \"mainten\", \"mainten\", \"maisonett\", \"make\", \"make\", \"make\", \"make\", \"make\", \"make\", \"make\", \"make\", \"make\", \"make\", \"make\", \"make\", \"make\", \"make\", \"make\", \"make\", \"make\", \"make\", \"make\", \"make\", \"make\", \"make\", \"make\", \"make\", \"make\", \"make\", \"make\", \"make\", \"make\", \"malaysia\", \"malaysia\", \"malaysia\", \"male\", \"male\", \"male\", \"malvern\", \"mam\", \"mandarin\", \"mantel\", \"manufactur\", \"manufactur\", \"manufactur\", \"manufactur\", \"manufactur\", \"manufactur\", \"manufactur\", \"manufactur\", \"manufactur\", \"manufactur\", \"manufactur\", \"manufactur\", \"manufactur\", \"manufactur\", \"manufactur\", \"marathon\", \"marathon\", \"marc\", \"marc\", \"marin\", \"marin\", \"marina\", \"mark\", \"mark\", \"mark\", \"mark\", \"mark\", \"mark\", \"mark\", \"mark\", \"mark\", \"mark\", \"mark\", \"marlow\", \"marque\", \"marriag\", \"marriag\", \"marston\", \"martial\", \"masoud\", \"massag\", \"massag\", \"mast\", \"mat\", \"mat\", \"mat\", \"mat\", \"mat\", \"materi\", \"materi\", \"materi\", \"materi\", \"materi\", \"materi\", \"materi\", \"materi\", \"materi\", \"materi\", \"materi\", \"materi\", \"math\", \"matter\", \"matter\", \"matter\", \"matter\", \"matter\", \"matter\", \"matter\", \"matter\", \"matter\", \"matter\", \"matter\", \"matter\", \"matter\", \"matter\", \"matthew\", \"matti\", \"maximum\", \"maximum\", \"maximum\", \"maximum\", \"maximum\", \"maximum\", \"maxwel\", \"may\", \"may\", \"may\", \"may\", \"may\", \"may\", \"may\", \"may\", \"may\", \"may\", \"may\", \"may\", \"may\", \"may\", \"may\", \"may\", \"may\", \"may\", \"may\", \"mayott\", \"mazar\", \"mba\", \"mba\", \"meal\", \"meal\", \"meal\", \"meat\", \"meat\", \"meat\", \"media\", \"media\", \"media\", \"media\", \"media\", \"media\", \"media\", \"media\", \"media\", \"media\", \"media\", \"media\", \"media\", \"media\", \"media\", \"media\", \"media\", \"media\", \"mediat\", \"mediat\", \"medit\", \"medit\", \"meet\", \"meet\", \"meet\", \"meet\", \"meet\", \"meet\", \"meet\", \"meet\", \"meet\", \"meet\", \"meet\", \"meet\", \"meet\", \"meet\", \"meet\", \"meet\", \"meet\", \"meet\", \"meet\", \"meet\", \"meet\", \"meet\", \"meet\", \"mehendi\", \"melt\", \"melt\", \"mem\", \"member\", \"member\", \"member\", \"member\", \"member\", \"member\", \"member\", \"member\", \"member\", \"member\", \"member\", \"member\", \"member\", \"member\", \"member\", \"member\", \"member\", \"member\", \"member\", \"memorabilia\", \"men\", \"men\", \"men\", \"men\", \"men\", \"menu\", \"menu\", \"menu\", \"menu\", \"menu\", \"menu\", \"menu\", \"menu\", \"menu\", \"menu\", \"menu\", \"menu\", \"menu\", \"menu\", \"menu\", \"menu\", \"menu\", \"menu\", \"menu\", \"menu\", \"menu\", \"menu\", \"menu\", \"menu\", \"menu\", \"menu\", \"menu\", \"merced\", \"merced\", \"merkur\", \"merri\", \"messag\", \"messag\", \"messag\", \"messag\", \"messag\", \"messag\", \"messag\", \"messag\", \"messag\", \"messag\", \"messag\", \"messag\", \"messag\", \"messag\", \"messag\", \"messag\", \"messag\", \"messag\", \"messag\", \"messag\", \"messag\", \"metabol\", \"metric\", \"metrix\", \"mezzanin\", \"michel\", \"microscop\", \"microscopi\", \"microsoft\", \"microsoft\", \"microsoft\", \"microsoft\", \"midday\", \"mig\", \"migrat\", \"mild\", \"mild\", \"miler\", \"miller\", \"mina\", \"minibu\", \"mirror\", \"mirror\", \"mit\", \"mkdon\", \"mkfm\", \"mkma\", \"mkpa\", \"mkpa\", \"mml\", \"mob\", \"mob\", \"mob\", \"mobil\", \"mobil\", \"mobil\", \"mobil\", \"mobil\", \"mobil\", \"mobil\", \"mobil\", \"mobil\", \"mobil\", \"mobil\", \"mobil\", \"modif\", \"modif\", \"modif\", \"modif\", \"moli\", \"monday\", \"monday\", \"monday\", \"monday\", \"monday\", \"monday\", \"monday\", \"monday\", \"monday\", \"monday\", \"monday\", \"monday\", \"monday\", \"month\", \"month\", \"month\", \"month\", \"month\", \"month\", \"month\", \"month\", \"month\", \"month\", \"month\", \"month\", \"month\", \"month\", \"month\", \"month\", \"month\", \"mortgag\", \"mortgag\", \"moss\", \"mot\", \"mot\", \"mot\", \"moth\", \"motorhom\", \"motorsport\", \"motorsport\", \"motorsport\", \"mount\", \"mount\", \"mount\", \"mount\", \"mount\", \"mount\", \"move\", \"move\", \"move\", \"move\", \"move\", \"move\", \"move\", \"move\", \"move\", \"move\", \"move\", \"move\", \"move\", \"move\", \"move\", \"move\", \"move\", \"move\", \"mpg\", \"mpj\", \"mr\", \"mr\", \"msf\", \"mth\", \"mtp\", \"mug\", \"mug\", \"mug\", \"multi\", \"multi\", \"multi\", \"multi\", \"multi\", \"multi\", \"multi\", \"multi\", \"multi\", \"multi\", \"multi\", \"multi\", \"multi\", \"multi\", \"multi\", \"multi\", \"multi\", \"multimedia\", \"museum\", \"museum\", \"music\", \"music\", \"music\", \"music\", \"music\", \"music\", \"music\", \"music\", \"muslim\", \"nal\", \"nasti\", \"natali\", \"ncr\", \"ndt\", \"nearbi\", \"nec\", \"nec\", \"necc\", \"necessari\", \"necessari\", \"necessari\", \"necessari\", \"necessari\", \"neq\", \"netherfield\", \"netherfield\", \"netherland\", \"netherland\", \"netherland\", \"netherland\", \"network\", \"network\", \"network\", \"network\", \"network\", \"network\", \"network\", \"network\", \"network\", \"network\", \"network\", \"network\", \"newbridg\", \"nexan\", \"next\", \"next\", \"next\", \"next\", \"next\", \"next\", \"next\", \"next\", \"next\", \"next\", \"next\", \"next\", \"next\", \"next\", \"next\", \"next\", \"next\", \"next\", \"next\", \"next\", \"next\", \"next\", \"nibh\", \"niceic\", \"ning\", \"nisi\", \"nissan\", \"nke\", \"non\", \"non\", \"non\", \"non\", \"non\", \"non\", \"non\", \"non\", \"non\", \"non\", \"non\", \"non\", \"non\", \"non\", \"northamptonshir\", \"northamptonshir\", \"northamptonshir\", \"northamptonshir\", \"nostrud\", \"notari\", \"nou\", \"nov\", \"nov\", \"now\", \"now\", \"now\", \"now\", \"now\", \"now\", \"now\", \"now\", \"now\", \"now\", \"now\", \"now\", \"now\", \"now\", \"now\", \"now\", \"now\", \"now\", \"now\", \"now\", \"now\", \"now\", \"now\", \"now\", \"now\", \"now\", \"now\", \"now\", \"now\", \"now\", \"now\", \"now\", \"nrc\", \"nuestra\", \"number\", \"number\", \"number\", \"number\", \"number\", \"number\", \"number\", \"number\", \"number\", \"number\", \"number\", \"number\", \"number\", \"number\", \"number\", \"number\", \"number\", \"number\", \"number\", \"number\", \"number\", \"number\", \"number\", \"number\", \"nurseri\", \"nurseri\", \"nut\", \"oat\", \"occup\", \"occup\", \"oct\", \"oct\", \"oct\", \"octopu\", \"odf\", \"odour\", \"oem\", \"oerlikon\", \"offlin\", \"ofst\", \"oil\", \"oil\", \"oil\", \"oil\", \"oil\", \"oil\", \"oil\", \"olivia\", \"onlin\", \"onlin\", \"onlin\", \"onlin\", \"onlin\", \"onlin\", \"onlin\", \"onlin\", \"onlin\", \"onlin\", \"onlin\", \"onlin\", \"onlin\", \"onlin\", \"onlin\", \"onlin\", \"onlin\", \"onlin\", \"onlin\", \"onlin\", \"onlin\", \"onlin\", \"onlin\", \"open\", \"open\", \"open\", \"open\", \"open\", \"open\", \"open\", \"open\", \"open\", \"open\", \"open\", \"open\", \"open\", \"open\", \"open\", \"open\", \"open\", \"open\", \"open\", \"open\", \"open\", \"open\", \"open\", \"open\", \"open\", \"open\", \"open\", \"oper\", \"oper\", \"oper\", \"oper\", \"oper\", \"oper\", \"oper\", \"oper\", \"oper\", \"oper\", \"oper\", \"oper\", \"oper\", \"oper\", \"oper\", \"oper\", \"oper\", \"oper\", \"oper\", \"oper\", \"oper\", \"oppress\", \"opt\", \"opt\", \"opt\", \"optic\", \"optic\", \"optic\", \"optician\", \"optician\", \"option\", \"option\", \"option\", \"option\", \"option\", \"option\", \"option\", \"option\", \"option\", \"option\", \"option\", \"option\", \"option\", \"option\", \"option\", \"option\", \"option\", \"option\", \"option\", \"option\", \"option\", \"option\", \"option\", \"orangeri\", \"order\", \"order\", \"order\", \"order\", \"order\", \"order\", \"order\", \"order\", \"order\", \"order\", \"order\", \"order\", \"order\", \"order\", \"order\", \"order\", \"order\", \"order\", \"order\", \"order\", \"order\", \"order\", \"order\", \"organis\", \"organis\", \"organis\", \"organis\", \"organis\", \"organis\", \"organis\", \"organis\", \"organis\", \"organis\", \"organis\", \"organis\", \"organis\", \"organis\", \"organis\", \"ornament\", \"orthodont\", \"osborn\", \"otherwis\", \"otherwis\", \"otherwis\", \"oubli\", \"outfit\", \"outperform\", \"outsourc\", \"outsourc\", \"outsourc\", \"overhaul\", \"overhaul\", \"oversea\", \"oversea\", \"oversea\", \"overview\", \"overview\", \"overview\", \"overview\", \"overview\", \"overview\", \"overview\", \"overview\", \"overview\", \"owl\", \"oxfordshir\", \"oxfordshir\", \"oxfordshir\", \"pac\", \"pack\", \"pack\", \"pack\", \"pack\", \"pack\", \"pack\", \"pack\", \"pack\", \"pack\", \"pack\", \"packshot\", \"pad\", \"pad\", \"pad\", \"pad\", \"pad\", \"pad\", \"paddington\", \"padi\", \"page\", \"page\", \"page\", \"page\", \"page\", \"page\", \"page\", \"page\", \"page\", \"page\", \"page\", \"page\", \"page\", \"page\", \"page\", \"page\", \"page\", \"page\", \"page\", \"page\", \"page\", \"page\", \"page\", \"pahd\", \"pain\", \"pain\", \"pallet\", \"pallet\", \"pallet\", \"pallet\", \"pallet\", \"palm\", \"pamper\", \"pamper\", \"panason\", \"panason\", \"panel\", \"panel\", \"panel\", \"panel\", \"panel\", \"panel\", \"panel\", \"panel\", \"panel\", \"panel\", \"papa\", \"para\", \"parad\", \"parallel\", \"parcel\", \"parcel\", \"parcel\", \"parcel\", \"parent\", \"parent\", \"parent\", \"park\", \"park\", \"park\", \"park\", \"park\", \"park\", \"park\", \"park\", \"park\", \"park\", \"park\", \"park\", \"park\", \"park\", \"park\", \"parkland\", \"part\", \"part\", \"part\", \"part\", \"part\", \"part\", \"part\", \"part\", \"part\", \"part\", \"part\", \"part\", \"part\", \"part\", \"part\", \"part\", \"part\", \"part\", \"part\", \"part\", \"part\", \"part\", \"part\", \"parti\", \"parti\", \"parti\", \"parti\", \"parti\", \"parti\", \"parti\", \"parti\", \"parti\", \"parti\", \"parti\", \"parti\", \"parti\", \"parti\", \"parti\", \"parti\", \"partial\", \"partit\", \"partner\", \"partner\", \"partner\", \"partner\", \"partner\", \"partner\", \"partner\", \"partner\", \"partner\", \"partner\", \"partner\", \"partner\", \"partner\", \"partner\", \"partner\", \"partner\", \"partner\", \"password\", \"password\", \"password\", \"password\", \"password\", \"password\", \"password\", \"password\", \"password\", \"pat\", \"pat\", \"patch\", \"patch\", \"patch\", \"patent\", \"patent\", \"patent\", \"patent\", \"patholog\", \"patholog\", \"patient\", \"patient\", \"patient\", \"patient\", \"patio\", \"patio\", \"pave\", \"pavement\", \"pavilion\", \"pavilion\", \"payrol\", \"payrol\", \"payrol\", \"pc\", \"pciaw\", \"pcm\", \"pcm\", \"pdf\", \"pdf\", \"pdf\", \"pdf\", \"peel\", \"pendant\", \"peopl\", \"peopl\", \"peopl\", \"peopl\", \"peopl\", \"peopl\", \"peopl\", \"peopl\", \"peopl\", \"peopl\", \"peopl\", \"peopl\", \"peopl\", \"peopl\", \"peopl\", \"peopl\", \"peopl\", \"peopl\", \"peopl\", \"peopl\", \"peopl\", \"pepper\", \"per\", \"per\", \"per\", \"per\", \"per\", \"per\", \"per\", \"per\", \"per\", \"per\", \"per\", \"per\", \"per\", \"per\", \"per\", \"percuss\", \"perform\", \"perform\", \"perform\", \"perform\", \"perform\", \"perform\", \"perform\", \"perform\", \"perform\", \"perform\", \"perform\", \"perform\", \"perform\", \"perform\", \"perform\", \"perform\", \"perform\", \"perform\", \"perform\", \"perform\", \"perman\", \"perman\", \"perman\", \"perman\", \"perman\", \"person\", \"person\", \"person\", \"person\", \"person\", \"person\", \"person\", \"person\", \"person\", \"person\", \"person\", \"person\", \"person\", \"person\", \"person\", \"person\", \"person\", \"person\", \"person\", \"person\", \"person\", \"person\", \"persona\", \"personalis\", \"personalis\", \"personalis\", \"personalis\", \"personalis\", \"personalis\", \"personalis\", \"personalis\", \"personalis\", \"personalis\", \"personalis\", \"personalis\", \"personn\", \"pet\", \"pet\", \"pet\", \"pet\", \"pet\", \"peter\", \"peter\", \"peter\", \"peter\", \"peter\", \"peugeot\", \"pgm\", \"philanthropi\", \"phone\", \"phone\", \"phone\", \"phone\", \"phone\", \"phone\", \"phone\", \"phone\", \"phone\", \"phone\", \"phone\", \"phone\", \"phone\", \"phone\", \"phone\", \"phone\", \"phone\", \"phone\", \"phone\", \"phone\", \"phone\", \"phone\", \"phone\", \"phone\", \"photo\", \"photo\", \"photo\", \"photo\", \"photo\", \"photo\", \"photo\", \"photo\", \"photo\", \"photo\", \"photo\", \"photo\", \"photoelectr\", \"photograph\", \"photograph\", \"photograph\", \"photograph\", \"photograph\", \"photographi\", \"photographi\", \"photographi\", \"piano\", \"piano\", \"pickl\", \"picturesqu\", \"pierc\", \"pig\", \"pigment\", \"pigtail\", \"pilat\", \"pilat\", \"pillowcas\", \"pivot\", \"pizza\", \"place\", \"place\", \"place\", \"place\", \"place\", \"place\", \"place\", \"place\", \"place\", \"place\", \"place\", \"place\", \"place\", \"place\", \"place\", \"place\", \"place\", \"place\", \"place\", \"place\", \"place\", \"place\", \"place\", \"place\", \"place\", \"place\", \"plan\", \"plan\", \"plan\", \"plan\", \"plan\", \"plan\", \"plan\", \"plan\", \"plan\", \"plan\", \"plan\", \"plan\", \"plan\", \"plan\", \"plan\", \"plan\", \"plan\", \"plan\", \"plan\", \"plan\", \"plant\", \"plant\", \"plant\", \"plant\", \"plant\", \"plant\", \"plant\", \"plaster\", \"plaster\", \"plastic\", \"plastic\", \"plastic\", \"plastic\", \"plastic\", \"plastic\", \"plastic\", \"plastic\", \"plate\", \"plate\", \"plate\", \"plate\", \"plate\", \"play\", \"play\", \"play\", \"play\", \"play\", \"play\", \"play\", \"play\", \"play\", \"playground\", \"playhous\", \"plc\", \"plc\", \"plc\", \"plc\", \"plc\", \"plc\", \"plc\", \"plc\", \"pleas\", \"pleas\", \"pleas\", \"pleas\", \"pleas\", \"pleas\", \"pleas\", \"pleas\", \"pleas\", \"pleas\", \"pleas\", \"pleas\", \"pleas\", \"pleas\", \"pleas\", \"pleas\", \"pleas\", \"pleas\", \"pleas\", \"pleas\", \"pleas\", \"pleas\", \"pleas\", \"pleas\", \"pleas\", \"pleas\", \"pleas\", \"plesk\", \"plt\", \"plu\", \"plu\", \"plu\", \"plu\", \"plu\", \"plu\", \"plu\", \"plu\", \"plu\", \"plu\", \"plu\", \"plu\", \"plu\", \"plugin\", \"plumb\", \"plumb\", \"plumb\", \"plumb\", \"plumber\", \"plumber\", \"pmfriday\", \"pmsun\", \"pmthursday\", \"pmtue\", \"pmtuesday\", \"pmwednesday\", \"pneumat\", \"poker\", \"polici\", \"polici\", \"polici\", \"polici\", \"polici\", \"polici\", \"polici\", \"polici\", \"polici\", \"polici\", \"polici\", \"polici\", \"polici\", \"polici\", \"polici\", \"polici\", \"polici\", \"polici\", \"polici\", \"polici\", \"polici\", \"polici\", \"polici\", \"polici\", \"polici\", \"polici\", \"polici\", \"polici\", \"polici\", \"polici\", \"pollut\", \"polym\", \"polym\", \"polym\", \"poppi\", \"poppi\", \"popup\", \"por\", \"pork\", \"porsch\", \"porta\", \"portugu\", \"post\", \"post\", \"post\", \"post\", \"post\", \"post\", \"post\", \"post\", \"post\", \"post\", \"post\", \"post\", \"post\", \"post\", \"post\", \"post\", \"postcard\", \"potter\", \"potter\", \"potteri\", \"potterspuri\", \"pour\", \"poverti\", \"poverti\", \"power\", \"power\", \"power\", \"power\", \"power\", \"power\", \"power\", \"power\", \"power\", \"power\", \"power\", \"power\", \"power\", \"power\", \"power\", \"power\", \"power\", \"power\", \"power\", \"power\", \"power\", \"power\", \"power\", \"power\", \"power\", \"power\", \"powerflush\", \"powerhous\", \"practic\", \"practic\", \"practic\", \"practic\", \"practic\", \"practic\", \"practic\", \"practic\", \"practic\", \"practic\", \"practic\", \"practic\", \"practic\", \"pragmat\", \"prawn\", \"pray\", \"prayer\", \"pre\", \"pre\", \"pre\", \"pre\", \"pre\", \"pre\", \"pre\", \"pre\", \"pre\", \"pre\", \"pre\", \"pre\", \"pre\", \"pre\", \"pre\", \"preced\", \"prefer\", \"prefer\", \"prefer\", \"prefer\", \"prefer\", \"prefer\", \"prefer\", \"prefer\", \"premier\", \"premier\", \"premier\", \"premier\", \"premier\", \"premier\", \"premier\", \"premier\", \"preschool\", \"present\", \"present\", \"present\", \"present\", \"present\", \"present\", \"present\", \"present\", \"present\", \"present\", \"present\", \"preset\", \"pressur\", \"pressur\", \"pressur\", \"pressur\", \"pressur\", \"pressur\", \"prestatair\", \"prestig\", \"prestig\", \"prestig\", \"prestig\", \"prestig\", \"previou\", \"previou\", \"previou\", \"previou\", \"previou\", \"previou\", \"previou\", \"previou\", \"previou\", \"previou\", \"previou\", \"previou\", \"previou\", \"previou\", \"price\", \"price\", \"price\", \"price\", \"price\", \"price\", \"price\", \"price\", \"price\", \"price\", \"price\", \"price\", \"price\", \"price\", \"price\", \"price\", \"price\", \"price\", \"price\", \"price\", \"price\", \"price\", \"price\", \"price\", \"price\", \"primark\", \"print\", \"print\", \"print\", \"print\", \"print\", \"print\", \"print\", \"print\", \"print\", \"print\", \"print\", \"print\", \"print\", \"privaci\", \"privaci\", \"privaci\", \"privaci\", \"privaci\", \"privaci\", \"privaci\", \"privaci\", \"privaci\", \"privaci\", \"privaci\", \"privaci\", \"privaci\", \"privaci\", \"privaci\", \"privaci\", \"privaci\", \"privaci\", \"privaci\", \"privaci\", \"privaci\", \"privaci\", \"privaci\", \"privaci\", \"privaci\", \"privaci\", \"privaci\", \"privaci\", \"privaci\", \"privaci\", \"privaci\", \"privaci\", \"privat\", \"privat\", \"privat\", \"privat\", \"privat\", \"privat\", \"privat\", \"privat\", \"privat\", \"privat\", \"privat\", \"privat\", \"privat\", \"prize\", \"pro\", \"pro\", \"pro\", \"pro\", \"pro\", \"pro\", \"pro\", \"probat\", \"probat\", \"process\", \"process\", \"process\", \"process\", \"process\", \"process\", \"process\", \"process\", \"process\", \"process\", \"process\", \"process\", \"process\", \"process\", \"process\", \"process\", \"profess\", \"profess\", \"profess\", \"profess\", \"profession\", \"profession\", \"profession\", \"profession\", \"profession\", \"profession\", \"profession\", \"profession\", \"profession\", \"profession\", \"profession\", \"profession\", \"profession\", \"profession\", \"profession\", \"profession\", \"profession\", \"profession\", \"profession\", \"profession\", \"profession\", \"profession\", \"profession\", \"profession\", \"profici\", \"program\", \"program\", \"program\", \"program\", \"program\", \"program\", \"program\", \"program\", \"prop\", \"propag\", \"properli\", \"properli\", \"properli\", \"properli\", \"properli\", \"properli\", \"properti\", \"properti\", \"properti\", \"properti\", \"properti\", \"properti\", \"properti\", \"properti\", \"properti\", \"propo\", \"protect\", \"protect\", \"protect\", \"protect\", \"protect\", \"protect\", \"protect\", \"protect\", \"protect\", \"protect\", \"protect\", \"protect\", \"protect\", \"protect\", \"protect\", \"protect\", \"protect\", \"protect\", \"protect\", \"protector\", \"protector\", \"provinc\", \"provinci\", \"psi\", \"psp\", \"psychologist\", \"psychotherapi\", \"pub\", \"pub\", \"pub\", \"public\", \"public\", \"public\", \"public\", \"public\", \"public\", \"public\", \"public\", \"public\", \"public\", \"public\", \"public\", \"public\", \"public\", \"puff\", \"pulvinar\", \"puma\", \"pump\", \"pump\", \"punto\", \"pupil\", \"puppi\", \"puppi\", \"purpos\", \"purpos\", \"purpos\", \"purpos\", \"purpos\", \"purpos\", \"purpos\", \"purpos\", \"purpos\", \"purpos\", \"purpos\", \"purpos\", \"purpos\", \"purpos\", \"putti\", \"pvc\", \"qti\", \"qti\", \"qualiti\", \"qualiti\", \"qualiti\", \"qualiti\", \"qualiti\", \"qualiti\", \"qualiti\", \"qualiti\", \"qualiti\", \"qualiti\", \"qualiti\", \"qualiti\", \"qualiti\", \"qualiti\", \"qualiti\", \"qualiti\", \"qualiti\", \"qualiti\", \"qualiti\", \"qualiti\", \"qualiti\", \"qualiti\", \"qualiti\", \"qualiti\", \"qualiti\", \"qualiti\", \"qualiti\", \"queen\", \"queen\", \"queen\", \"queen\", \"queensburi\", \"qui\", \"quot\", \"quot\", \"quot\", \"quot\", \"quot\", \"quot\", \"quot\", \"quot\", \"quot\", \"quot\", \"quot\", \"quot\", \"quot\", \"quot\", \"quot\", \"quot\", \"rabbit\", \"race\", \"race\", \"race\", \"race\", \"race\", \"race\", \"race\", \"race\", \"race\", \"rack\", \"rack\", \"rack\", \"rack\", \"racket\", \"radiat\", \"radiat\", \"rail\", \"rail\", \"rail\", \"rail\", \"rail\", \"rail\", \"railway\", \"railway\", \"railway\", \"railway\", \"ralli\", \"ram\", \"ramadan\", \"rang\", \"rang\", \"rang\", \"rang\", \"rang\", \"rang\", \"rang\", \"rang\", \"rang\", \"rang\", \"rang\", \"rang\", \"rang\", \"rang\", \"rang\", \"rang\", \"rang\", \"rang\", \"rang\", \"rang\", \"rang\", \"rang\", \"rang\", \"rang\", \"rang\", \"rang\", \"rang\", \"rang\", \"rang\", \"rate\", \"rate\", \"rate\", \"rate\", \"rate\", \"rate\", \"rate\", \"rate\", \"rate\", \"rate\", \"rate\", \"rate\", \"rate\", \"rate\", \"rate\", \"rate\", \"rate\", \"rate\", \"rate\", \"rate\", \"react\", \"read\", \"read\", \"read\", \"read\", \"read\", \"read\", \"read\", \"read\", \"read\", \"read\", \"read\", \"read\", \"read\", \"read\", \"read\", \"read\", \"read\", \"read\", \"read\", \"read\", \"read\", \"read\", \"read\", \"read\", \"read\", \"read\", \"read\", \"read\", \"read\", \"realm\", \"realm\", \"rear\", \"rear\", \"reassembl\", \"receipt\", \"recip\", \"recip\", \"recommend\", \"recommend\", \"recommend\", \"recommend\", \"recommend\", \"recommend\", \"recommend\", \"recommend\", \"recommend\", \"recommend\", \"recommend\", \"recommend\", \"recommend\", \"recommend\", \"recommend\", \"recommend\", \"recommend\", \"recommend\", \"recommend\", \"recommend\", \"recruit\", \"recruit\", \"recruit\", \"recruit\", \"recruit\", \"recruit\", \"recruit\", \"rectangular\", \"rectec\", \"recuper\", \"recycl\", \"recycl\", \"recycl\", \"recycl\", \"recycl\", \"recycl\", \"recycl\", \"reduc\", \"reduc\", \"reduc\", \"reduc\", \"reduc\", \"reduc\", \"reduc\", \"reduc\", \"reduc\", \"reduc\", \"reduc\", \"reduc\", \"reduc\", \"reduc\", \"reduc\", \"reed\", \"reel\", \"reel\", \"ref\", \"refil\", \"refriger\", \"refriger\", \"refriger\", \"regard\", \"regard\", \"regard\", \"regard\", \"regard\", \"regard\", \"regard\", \"regard\", \"regard\", \"regist\", \"regist\", \"regist\", \"regist\", \"regist\", \"regist\", \"regist\", \"regist\", \"regist\", \"regist\", \"regist\", \"regist\", \"regist\", \"regist\", \"regist\", \"regist\", \"regist\", \"regist\", \"regist\", \"regist\", \"regist\", \"regist\", \"regist\", \"rehabilit\", \"rehabilit\", \"reiki\", \"rejuven\", \"relat\", \"relat\", \"relat\", \"relat\", \"relat\", \"relat\", \"relat\", \"relat\", \"relat\", \"relat\", \"relat\", \"relat\", \"relat\", \"relat\", \"relat\", \"relax\", \"relax\", \"relax\", \"relax\", \"relax\", \"relax\", \"relax\", \"relax\", \"remap\", \"rememb\", \"rememb\", \"rememb\", \"rememb\", \"rememb\", \"rememb\", \"remov\", \"remov\", \"remov\", \"remov\", \"remov\", \"remov\", \"remov\", \"remov\", \"remov\", \"remov\", \"rent\", \"rent\", \"rent\", \"rent\", \"rent\", \"rent\", \"rental\", \"rental\", \"rental\", \"rental\", \"repair\", \"repair\", \"repair\", \"repair\", \"repair\", \"repair\", \"repair\", \"repair\", \"repair\", \"replac\", \"replac\", \"replac\", \"replac\", \"replac\", \"replac\", \"replac\", \"replac\", \"replac\", \"replac\", \"replac\", \"report\", \"report\", \"report\", \"report\", \"report\", \"report\", \"report\", \"report\", \"report\", \"report\", \"report\", \"report\", \"report\", \"report\", \"repossess\", \"reprehenderit\", \"reprocess\", \"reprocess\", \"republ\", \"republ\", \"republ\", \"republ\", \"requir\", \"requir\", \"requir\", \"requir\", \"requir\", \"requir\", \"requir\", \"requir\", \"requir\", \"requir\", \"requir\", \"requir\", \"requir\", \"requir\", \"requir\", \"requir\", \"requir\", \"requir\", \"requir\", \"requir\", \"requir\", \"requir\", \"requir\", \"requir\", \"reschedul\", \"research\", \"research\", \"research\", \"research\", \"research\", \"research\", \"research\", \"research\", \"research\", \"research\", \"research\", \"reset\", \"reset\", \"reset\", \"reset\", \"residenti\", \"residenti\", \"residenti\", \"residenti\", \"resili\", \"resistor\", \"resolut\", \"resolut\", \"resolut\", \"resolut\", \"resourc\", \"resourc\", \"resourc\", \"resourc\", \"resourc\", \"respit\", \"restaur\", \"restaur\", \"restaur\", \"restaur\", \"restaur\", \"retail\", \"retail\", \"retail\", \"retail\", \"retail\", \"retail\", \"retail\", \"retail\", \"retail\", \"retail\", \"retail\", \"retail\", \"retain\", \"retain\", \"retain\", \"retain\", \"retain\", \"retreat\", \"retreat\", \"retreat\", \"retreat\", \"retro\", \"retrofit\", \"return\", \"return\", \"return\", \"return\", \"return\", \"return\", \"return\", \"return\", \"return\", \"return\", \"return\", \"return\", \"return\", \"return\", \"return\", \"return\", \"retweet\", \"reus\", \"revalid\", \"review\", \"review\", \"review\", \"review\", \"review\", \"review\", \"review\", \"review\", \"review\", \"review\", \"review\", \"review\", \"review\", \"review\", \"review\", \"review\", \"review\", \"review\", \"review\", \"review\", \"reward\", \"reward\", \"reward\", \"reward\", \"reward\", \"ric\", \"rice\", \"richard\", \"richard\", \"richard\", \"richard\", \"ridgeway\", \"rig\", \"right\", \"right\", \"right\", \"right\", \"right\", \"right\", \"right\", \"right\", \"right\", \"right\", \"right\", \"right\", \"right\", \"right\", \"right\", \"right\", \"right\", \"right\", \"right\", \"right\", \"right\", \"right\", \"right\", \"right\", \"right\", \"right\", \"right\", \"right\", \"rightmov\", \"riser\", \"risk\", \"risk\", \"risk\", \"risk\", \"risk\", \"risk\", \"risk\", \"risk\", \"risk\", \"risk\", \"risk\", \"risk\", \"risk\", \"road\", \"road\", \"road\", \"road\", \"road\", \"road\", \"road\", \"road\", \"road\", \"road\", \"road\", \"road\", \"road\", \"road\", \"road\", \"road\", \"road\", \"road\", \"road\", \"road\", \"road\", \"road\", \"road\", \"road\", \"roadsid\", \"rob\", \"robotazia\", \"role\", \"role\", \"role\", \"role\", \"role\", \"role\", \"roof\", \"roof\", \"roof\", \"roof\", \"roof\", \"rooflight\", \"rooflin\", \"rooksley\", \"rooksley\", \"room\", \"room\", \"room\", \"room\", \"room\", \"room\", \"room\", \"room\", \"room\", \"room\", \"room\", \"room\", \"room\", \"room\", \"rose\", \"rose\", \"rose\", \"rose\", \"rose\", \"rotari\", \"rotari\", \"rotari\", \"roulett\", \"rover\", \"rover\", \"roy\", \"roy\", \"royal\", \"royal\", \"royal\", \"royal\", \"royal\", \"royal\", \"royal\", \"rpa\", \"rub\", \"rule\", \"rule\", \"rule\", \"rule\", \"rust\", \"rwa\", \"saa\", \"saab\", \"safeti\", \"safeti\", \"safeti\", \"safeti\", \"safeti\", \"safeti\", \"safeti\", \"safeti\", \"safeti\", \"safeti\", \"safeti\", \"safeti\", \"safeti\", \"safeti\", \"safeti\", \"safeti\", \"safeti\", \"safeti\", \"safeti\", \"safeti\", \"safeti\", \"safeti\", \"safeti\", \"safeti\", \"sage\", \"sage\", \"salad\", \"salari\", \"salari\", \"salon\", \"salon\", \"salon\", \"salon\", \"salt\", \"salt\", \"sam\", \"sam\", \"sameday\", \"sampl\", \"sampl\", \"sampl\", \"sampl\", \"sampl\", \"sampl\", \"sandston\", \"sandwich\", \"sandwich\", \"sangeet\", \"sap\", \"sare\", \"sash\", \"saturday\", \"saturday\", \"saturday\", \"saturday\", \"saturday\", \"saturday\", \"saturday\", \"saturday\", \"saturday\", \"saturday\", \"saturday\", \"saturday\", \"satya\", \"sauc\", \"sauc\", \"saudi\", \"saudi\", \"sausag\", \"sava\", \"say\", \"say\", \"say\", \"say\", \"say\", \"say\", \"say\", \"say\", \"say\", \"say\", \"say\", \"say\", \"say\", \"say\", \"say\", \"say\", \"say\", \"say\", \"say\", \"scab\", \"scaffold\", \"scaffold\", \"scalabl\", \"scale\", \"scale\", \"scale\", \"scale\", \"scale\", \"scale\", \"scale\", \"scale\", \"scale\", \"scarv\", \"scc\", \"scent\", \"schaltbau\", \"scholarship\", \"school\", \"school\", \"school\", \"school\", \"school\", \"school\", \"school\", \"scienc\", \"scienc\", \"scienc\", \"scienc\", \"scienc\", \"scooter\", \"script\", \"script\", \"script\", \"script\", \"script\", \"script\", \"script\", \"script\", \"scuba\", \"scunthorp\", \"sea\", \"sea\", \"sea\", \"sea\", \"sea\", \"sea\", \"sea\", \"seal\", \"seal\", \"seal\", \"seal\", \"sealant\", \"secretari\", \"secretari\", \"sector\", \"sector\", \"sector\", \"sector\", \"sector\", \"sector\", \"sector\", \"sector\", \"sector\", \"secur\", \"secur\", \"secur\", \"secur\", \"secur\", \"secur\", \"secur\", \"secur\", \"secur\", \"secur\", \"secur\", \"secur\", \"secur\", \"secur\", \"secur\", \"secur\", \"sed\", \"seeker\", \"seiko\", \"seko\", \"select\", \"select\", \"select\", \"select\", \"select\", \"select\", \"select\", \"select\", \"select\", \"select\", \"select\", \"select\", \"select\", \"select\", \"select\", \"select\", \"select\", \"select\", \"select\", \"select\", \"select\", \"select\", \"select\", \"select\", \"select\", \"self\", \"self\", \"self\", \"self\", \"self\", \"self\", \"self\", \"self\", \"self\", \"self\", \"self\", \"self\", \"sell\", \"sell\", \"sell\", \"sell\", \"sell\", \"sell\", \"sell\", \"selo\", \"semiconductor\", \"sensor\", \"sensor\", \"sensor\", \"sent\", \"sent\", \"sent\", \"sent\", \"sent\", \"sent\", \"sent\", \"sent\", \"sent\", \"sent\", \"sent\", \"seo\", \"seo\", \"seo\", \"seo\", \"seo\", \"separ\", \"separ\", \"separ\", \"separ\", \"separ\", \"separ\", \"separ\", \"separ\", \"separ\", \"separ\", \"separ\", \"separ\", \"sequenc\", \"serv\", \"serv\", \"serv\", \"serv\", \"serv\", \"serv\", \"serv\", \"serv\", \"serv\", \"serv\", \"serv\", \"serv\", \"serv\", \"serv\", \"serv\", \"server\", \"server\", \"server\", \"server\", \"servo\", \"session\", \"session\", \"session\", \"session\", \"session\", \"session\", \"session\", \"session\", \"session\", \"set\", \"set\", \"set\", \"set\", \"set\", \"set\", \"set\", \"set\", \"set\", \"set\", \"set\", \"set\", \"set\", \"set\", \"set\", \"set\", \"set\", \"set\", \"set\", \"set\", \"set\", \"set\", \"set\", \"set\", \"set\", \"setter\", \"sha\", \"shadow\", \"shaker\", \"shape\", \"shape\", \"shape\", \"shape\", \"shape\", \"shape\", \"shape\", \"shape\", \"shape\", \"shape\", \"shape\", \"shape\", \"shape\", \"shape\", \"shape\", \"shape\", \"sheep\", \"shi\", \"shi\", \"shi\", \"shield\", \"shield\", \"ship\", \"ship\", \"ship\", \"ship\", \"ship\", \"ship\", \"ship\", \"ship\", \"ship\", \"ship\", \"ship\", \"ship\", \"ship\", \"shipment\", \"shipment\", \"shipment\", \"shipment\", \"shirt\", \"shirt\", \"shirt\", \"shisha\", \"shoot\", \"shoot\", \"shoot\", \"shoot\", \"shoppen\", \"shot\", \"shot\", \"shot\", \"showroom\", \"showroom\", \"showroom\", \"showroom\", \"showroom\", \"sibl\", \"sie\", \"sie\", \"sign\", \"sign\", \"sign\", \"sign\", \"sign\", \"sign\", \"sign\", \"sign\", \"sign\", \"sign\", \"sign\", \"sign\", \"sign\", \"sign\", \"sign\", \"sign\", \"sign\", \"sign\", \"sign\", \"sign\", \"sign\", \"sign\", \"sign\", \"signag\", \"signag\", \"signmak\", \"silverbug\", \"silverbug\", \"simplex\", \"simultan\", \"sip\", \"sit\", \"sit\", \"sit\", \"sit\", \"sit\", \"sit\", \"sit\", \"site\", \"site\", \"site\", \"site\", \"site\", \"site\", \"site\", \"site\", \"site\", \"site\", \"site\", \"site\", \"site\", \"site\", \"site\", \"site\", \"site\", \"site\", \"site\", \"site\", \"site\", \"site\", \"site\", \"site\", \"site\", \"site\", \"site\", \"site\", \"site\", \"site\", \"site\", \"situ\", \"sixth\", \"skelet\", \"skin\", \"skin\", \"skin\", \"skin\", \"skincar\", \"skip\", \"skip\", \"skip\", \"skip\", \"skip\", \"skip\", \"skip\", \"skip\", \"skip\", \"skip\", \"skip\", \"skip\", \"skip\", \"skip\", \"skip\", \"skip\", \"skip\", \"skip\", \"skip\", \"skip\", \"skip\", \"skip\", \"skip\", \"skirt\", \"skoda\", \"skoda\", \"skoda\", \"sku\", \"skull\", \"skye\", \"slab\", \"slade\", \"slide\", \"slide\", \"slide\", \"slide\", \"slide\", \"slide\", \"slide\", \"slideshow\", \"slope\", \"slot\", \"slot\", \"slough\", \"slough\", \"slough\", \"slovakia\", \"slovakia\", \"small\", \"small\", \"small\", \"small\", \"small\", \"small\", \"small\", \"small\", \"small\", \"small\", \"small\", \"small\", \"small\", \"small\", \"small\", \"small\", \"small\", \"small\", \"smartwatch\", \"smash\", \"smb\", \"smell\", \"smell\", \"smell\", \"smell\", \"smoke\", \"smoke\", \"smoothi\", \"snack\", \"snack\", \"snack\", \"social\", \"social\", \"social\", \"social\", \"social\", \"social\", \"social\", \"social\", \"social\", \"social\", \"social\", \"social\", \"social\", \"social\", \"social\", \"social\", \"social\", \"social\", \"social\", \"socialis\", \"socialis\", \"societi\", \"societi\", \"societi\", \"soda\", \"softwar\", \"softwar\", \"softwar\", \"softwar\", \"softwar\", \"softwar\", \"softwar\", \"soil\", \"soil\", \"solar\", \"solar\", \"solar\", \"solar\", \"solenoid\", \"solicitor\", \"solicitor\", \"solicitor\", \"solicitor\", \"solihul\", \"solvent\", \"somewhat\", \"somo\", \"soon\", \"soon\", \"soon\", \"soon\", \"soon\", \"soon\", \"soon\", \"soon\", \"soon\", \"soon\", \"soon\", \"soon\", \"soon\", \"soon\", \"soon\", \"soon\", \"soul\", \"soul\", \"soul\", \"soul\", \"souster\", \"south\", \"south\", \"south\", \"south\", \"south\", \"south\", \"south\", \"south\", \"south\", \"south\", \"south\", \"south\", \"south\", \"south\", \"south\", \"spa\", \"spa\", \"spa\", \"spa\", \"space\", \"space\", \"space\", \"space\", \"space\", \"space\", \"space\", \"space\", \"space\", \"space\", \"space\", \"space\", \"space\", \"spare\", \"spare\", \"spare\", \"spare\", \"spare\", \"spare\", \"spare\", \"spare\", \"speaker\", \"speaker\", \"speaker\", \"speci\", \"special\", \"special\", \"special\", \"special\", \"special\", \"special\", \"special\", \"special\", \"special\", \"special\", \"special\", \"special\", \"special\", \"special\", \"special\", \"special\", \"special\", \"special\", \"special\", \"specialist\", \"specialist\", \"specialist\", \"specialist\", \"specialist\", \"specialist\", \"specialist\", \"specialist\", \"specialist\", \"specialist\", \"specialist\", \"specialist\", \"specialist\", \"specialist\", \"specialist\", \"specialist\", \"specialist\", \"specialist\", \"specif\", \"specif\", \"specif\", \"specif\", \"specif\", \"specif\", \"specif\", \"specif\", \"specif\", \"specif\", \"specif\", \"specif\", \"specif\", \"specif\", \"spell\", \"sphere\", \"spice\", \"spici\", \"spider\", \"spill\", \"spiritu\", \"spiritu\", \"spiritu\", \"spiritu\", \"splice\", \"spoil\", \"sponsor\", \"sponsor\", \"sponsor\", \"spontan\", \"sport\", \"sport\", \"sport\", \"sport\", \"sport\", \"sport\", \"sport\", \"sport\", \"sport\", \"sport\", \"spray\", \"spray\", \"spray\", \"spray\", \"spray\", \"springboard\", \"squad\", \"squash\", \"sra\", \"sstc\", \"stabl\", \"stacker\", \"staff\", \"staff\", \"staff\", \"staff\", \"staff\", \"staff\", \"staff\", \"staff\", \"staff\", \"staff\", \"staff\", \"staff\", \"staff\", \"staff\", \"staff\", \"staff\", \"staff\", \"staff\", \"staff\", \"staff\", \"staff\", \"staff\", \"staff\", \"stainless\", \"stainless\", \"stainless\", \"stamford\", \"standard\", \"standard\", \"standard\", \"standard\", \"standard\", \"standard\", \"standard\", \"standard\", \"standard\", \"standard\", \"standard\", \"standard\", \"standard\", \"standard\", \"standard\", \"standard\", \"standard\", \"standard\", \"standard\", \"standard\", \"stantonburi\", \"stantonburi\", \"start\", \"start\", \"start\", \"start\", \"start\", \"start\", \"start\", \"start\", \"start\", \"start\", \"start\", \"start\", \"start\", \"start\", \"start\", \"start\", \"start\", \"start\", \"start\", \"start\", \"start\", \"start\", \"start\", \"stationari\", \"steadi\", \"steel\", \"steel\", \"steel\", \"steel\", \"steel\", \"steel\", \"steel\", \"stellar\", \"steward\", \"stica\", \"stitch\", \"stitch\", \"stock\", \"stock\", \"stock\", \"stock\", \"stock\", \"stock\", \"stock\", \"stock\", \"stock\", \"stock\", \"stock\", \"stock\", \"stock\", \"stock\", \"stock\", \"stock\", \"stock\", \"stock\", \"stock\", \"stoni\", \"stoni\", \"stoni\", \"stoni\", \"stoni\", \"stoni\", \"stool\", \"storag\", \"storag\", \"storag\", \"storag\", \"storag\", \"storag\", \"storag\", \"storag\", \"storag\", \"store\", \"store\", \"store\", \"store\", \"store\", \"store\", \"store\", \"store\", \"store\", \"store\", \"store\", \"store\", \"store\", \"store\", \"stori\", \"stori\", \"stori\", \"stori\", \"stori\", \"stori\", \"stori\", \"stori\", \"stori\", \"stori\", \"stori\", \"stori\", \"stori\", \"stori\", \"stove\", \"stow\", \"strap\", \"strategi\", \"strategi\", \"strategi\", \"strategi\", \"strategi\", \"strategi\", \"strategi\", \"strategi\", \"strategi\", \"strategi\", \"stratford\", \"stratford\", \"stratford\", \"stratford\", \"stratford\", \"stratford\", \"stratford\", \"stratford\", \"stratford\", \"stratford\", \"streamlin\", \"streamlin\", \"street\", \"street\", \"street\", \"street\", \"street\", \"street\", \"street\", \"street\", \"street\", \"street\", \"street\", \"street\", \"strictli\", \"strictli\", \"strictli\", \"string\", \"strobe\", \"structur\", \"structur\", \"structur\", \"structur\", \"structur\", \"structur\", \"structur\", \"structur\", \"stuart\", \"stuart\", \"stuart\", \"student\", \"student\", \"student\", \"student\", \"student\", \"student\", \"student\", \"student\", \"studi\", \"studi\", \"studi\", \"studi\", \"studi\", \"studi\", \"studi\", \"studi\", \"studi\", \"studi\", \"studio\", \"studio\", \"studio\", \"studio\", \"studio\", \"studio\", \"studio\", \"studio\", \"studio\", \"studio\", \"studio\", \"studio\", \"subject\", \"subject\", \"subject\", \"subject\", \"subject\", \"subject\", \"subject\", \"subject\", \"subsequ\", \"success\", \"success\", \"success\", \"success\", \"success\", \"success\", \"success\", \"success\", \"success\", \"success\", \"success\", \"success\", \"success\", \"success\", \"success\", \"succul\", \"suffici\", \"suitabl\", \"suitabl\", \"suitabl\", \"suitabl\", \"suitabl\", \"suitabl\", \"suitabl\", \"suitabl\", \"suitabl\", \"suitabl\", \"suitabl\", \"suitabl\", \"suitabl\", \"summari\", \"summari\", \"summari\", \"sunday\", \"sunday\", \"sunday\", \"sunday\", \"sunday\", \"sunday\", \"sunday\", \"sunlight\", \"superfood\", \"supervisor\", \"supervisor\", \"supper\", \"suppli\", \"suppli\", \"suppli\", \"suppli\", \"suppli\", \"suppli\", \"suppli\", \"suppli\", \"suppli\", \"suppli\", \"suppli\", \"suppli\", \"suppli\", \"suppli\", \"suppli\", \"suppli\", \"suppli\", \"suppli\", \"suppli\", \"suppli\", \"suppli\", \"suppli\", \"supplier\", \"supplier\", \"supplier\", \"supplier\", \"supplier\", \"supplier\", \"supplier\", \"supplier\", \"supplier\", \"supplier\", \"supplier\", \"supplier\", \"supplier\", \"supplier\", \"supplier\", \"supplier\", \"supplier\", \"sur\", \"surfac\", \"surfac\", \"surfac\", \"surfac\", \"surfac\", \"surfac\", \"surgeon\", \"surgic\", \"survey\", \"survey\", \"survey\", \"survey\", \"survey\", \"survey\", \"survey\", \"survey\", \"survey\", \"survey\", \"surveyor\", \"suspens\", \"sustain\", \"sustain\", \"sustain\", \"sustain\", \"sustain\", \"sustain\", \"sustain\", \"sustain\", \"sustain\", \"suzuki\", \"swaddl\", \"swanbourn\", \"swatch\", \"swedish\", \"sweet\", \"sweet\", \"sweet\", \"sweet\", \"sweet\", \"sweet\", \"swim\", \"swim\", \"swim\", \"swindon\", \"swindon\", \"swing\", \"swing\", \"swing\", \"switchboard\", \"synthet\", \"system\", \"system\", \"system\", \"system\", \"system\", \"system\", \"system\", \"system\", \"system\", \"system\", \"system\", \"system\", \"system\", \"system\", \"system\", \"system\", \"system\", \"system\", \"system\", \"system\", \"system\", \"system\", \"system\", \"tabl\", \"tabl\", \"tabl\", \"tabl\", \"tabl\", \"tabl\", \"tabl\", \"tabl\", \"tabl\", \"tablewar\", \"tail\", \"tail\", \"tail\", \"tail\", \"taiwan\", \"taiwan\", \"tak\", \"take\", \"take\", \"take\", \"take\", \"take\", \"take\", \"take\", \"take\", \"take\", \"take\", \"take\", \"take\", \"take\", \"take\", \"take\", \"take\", \"take\", \"take\", \"take\", \"take\", \"take\", \"take\", \"take\", \"take\", \"take\", \"take\", \"takeaway\", \"takeaway\", \"takeaway\", \"tale\", \"tale\", \"tan\", \"tank\", \"tank\", \"tank\", \"tank\", \"tanzania\", \"tanzania\", \"taper\", \"tast\", \"tast\", \"tast\", \"tast\", \"tast\", \"tast\", \"tattoo\", \"taught\", \"taunton\", \"tax\", \"tax\", \"tax\", \"tax\", \"taxi\", \"td\", \"tea\", \"tea\", \"tea\", \"tea\", \"tea\", \"tea\", \"tealight\", \"teapot\", \"tec\", \"tec\", \"technolog\", \"technolog\", \"technolog\", \"technolog\", \"technolog\", \"technolog\", \"technolog\", \"technolog\", \"technolog\", \"technolog\", \"technolog\", \"technolog\", \"technolog\", \"technolog\", \"technolog\", \"teddi\", \"teeth\", \"teeth\", \"telehandl\", \"telehandl\", \"telephoni\", \"tellu\", \"tempor\", \"tenant\", \"tenant\", \"tenni\", \"tenni\", \"tenni\", \"tensat\", \"term\", \"term\", \"term\", \"term\", \"term\", \"term\", \"term\", \"term\", \"term\", \"term\", \"term\", \"term\", \"term\", \"term\", \"term\", \"term\", \"term\", \"term\", \"term\", \"term\", \"term\", \"term\", \"term\", \"term\", \"term\", \"term\", \"term\", \"term\", \"term\", \"termin\", \"termin\", \"termin\", \"termin\", \"terrain\", \"test\", \"test\", \"test\", \"test\", \"test\", \"test\", \"test\", \"test\", \"test\", \"test\", \"test\", \"test\", \"test\", \"test\", \"text\", \"text\", \"text\", \"text\", \"text\", \"text\", \"text\", \"text\", \"textil\", \"textil\", \"textil\", \"tfsi\", \"thank\", \"thank\", \"thank\", \"thank\", \"thank\", \"thank\", \"thank\", \"thank\", \"thank\", \"thank\", \"thank\", \"thank\", \"thank\", \"thank\", \"thank\", \"thank\", \"thank\", \"thank\", \"thank\", \"thank\", \"thank\", \"thank\", \"thank\", \"thankyou\", \"theatr\", \"theatr\", \"theatr\", \"therapi\", \"therapi\", \"thermal\", \"thermal\", \"thermal\", \"third\", \"third\", \"third\", \"third\", \"third\", \"third\", \"third\", \"third\", \"third\", \"third\", \"thompson\", \"three\", \"three\", \"three\", \"three\", \"three\", \"three\", \"three\", \"three\", \"three\", \"three\", \"three\", \"three\", \"thumb\", \"thur\", \"tiguan\", \"tik\", \"timber\", \"timber\", \"timber\", \"timber\", \"time\", \"time\", \"time\", \"time\", \"time\", \"time\", \"time\", \"time\", \"time\", \"time\", \"time\", \"time\", \"time\", \"time\", \"time\", \"time\", \"time\", \"time\", \"time\", \"time\", \"time\", \"time\", \"time\", \"time\", \"time\", \"time\", \"time\", \"timesheet\", \"timet\", \"timor\", \"tin\", \"tin\", \"tint\", \"titanium\", \"tnmoc\", \"toe\", \"toggl\", \"toggl\", \"toggl\", \"toggl\", \"toggl\", \"toggl\", \"toggl\", \"toggl\", \"toggl\", \"toggl\", \"toggl\", \"toggl\", \"toggl\", \"toggl\", \"toggl\", \"toggl\", \"toller\", \"tonnison\", \"tool\", \"tool\", \"tool\", \"tool\", \"tool\", \"tool\", \"tool\", \"tool\", \"tool\", \"tool\", \"tool\", \"tool\", \"tool\", \"tool\", \"toolset\", \"tooth\", \"tooth\", \"top\", \"top\", \"top\", \"top\", \"top\", \"top\", \"top\", \"top\", \"top\", \"top\", \"top\", \"top\", \"top\", \"top\", \"top\", \"top\", \"top\", \"top\", \"top\", \"top\", \"top\", \"top\", \"top\", \"top\", \"topic\", \"topic\", \"topic\", \"topic\", \"touch\", \"touch\", \"touch\", \"touch\", \"touch\", \"touch\", \"touch\", \"touch\", \"touch\", \"touch\", \"touch\", \"touch\", \"touch\", \"touch\", \"touch\", \"touch\", \"touch\", \"touch\", \"touch\", \"touch\", \"touch\", \"touch\", \"touch\", \"touch\", \"touch\", \"tour\", \"tour\", \"tour\", \"tour\", \"tour\", \"tour\", \"tour\", \"tourism\", \"tout\", \"towel\", \"towel\", \"towel\", \"toy\", \"toy\", \"toy\", \"trac\", \"trade\", \"trade\", \"trade\", \"trade\", \"trade\", \"trade\", \"trade\", \"trade\", \"trade\", \"trade\", \"trade\", \"trade\", \"trade\", \"trade\", \"trade\", \"trade\", \"trade\", \"trade\", \"traffic\", \"traffic\", \"traffic\", \"traffic\", \"traffic\", \"traffic\", \"traffic\", \"traffic\", \"train\", \"train\", \"train\", \"train\", \"train\", \"train\", \"train\", \"train\", \"train\", \"train\", \"train\", \"train\", \"train\", \"train\", \"train\", \"train\", \"train\", \"train\", \"trainer\", \"trainer\", \"trainer\", \"trainer\", \"trampolin\", \"transform\", \"transform\", \"transform\", \"transform\", \"transform\", \"transform\", \"transform\", \"transform\", \"transmiss\", \"transmiss\", \"transmiss\", \"transport\", \"transport\", \"transport\", \"transport\", \"transport\", \"transport\", \"transport\", \"transport\", \"transport\", \"transport\", \"transport\", \"transport\", \"travel\", \"travel\", \"travel\", \"travel\", \"travel\", \"travel\", \"travel\", \"travel\", \"tray\", \"tray\", \"tray\", \"tray\", \"treatment\", \"treatment\", \"treatment\", \"treatment\", \"tree\", \"tree\", \"tree\", \"tree\", \"tree\", \"tree\", \"tree\", \"tree\", \"tree\", \"tree\", \"tree\", \"trent\", \"trevor\", \"tring\", \"trinket\", \"trolley\", \"tropic\", \"tropic\", \"tropic\", \"trouser\", \"truck\", \"truck\", \"truck\", \"truck\", \"true\", \"true\", \"true\", \"true\", \"true\", \"true\", \"true\", \"trust\", \"trust\", \"trust\", \"trust\", \"trust\", \"trust\", \"trust\", \"trust\", \"trust\", \"trust\", \"trust\", \"trust\", \"trust\", \"trust\", \"trust\", \"trust\", \"trust\", \"trust\", \"trustatrad\", \"tsang\", \"tue\", \"tue\", \"tue\", \"tuesday\", \"tuesday\", \"tuesday\", \"tuesday\", \"tuesday\", \"tuesday\", \"tuesday\", \"tuesday\", \"tuesday\", \"tuesday\", \"tumbl\", \"tumour\", \"tune\", \"tune\", \"tune\", \"tuner\", \"tunnel\", \"tunnel\", \"turf\", \"turner\", \"twin\", \"twin\", \"twin\", \"txm\", \"type\", \"type\", \"type\", \"type\", \"type\", \"type\", \"type\", \"type\", \"type\", \"type\", \"type\", \"type\", \"type\", \"type\", \"type\", \"type\", \"type\", \"type\", \"type\", \"type\", \"type\", \"type\", \"type\", \"tyre\", \"tyre\", \"tyre\", \"ullamcorp\", \"ultrason\", \"umrah\", \"unban\", \"und\", \"und\", \"und\", \"underlay\", \"unfurnish\", \"uni\", \"uni\", \"uni\", \"uni\", \"uni\", \"unicorn\", \"unifi\", \"unifi\", \"uniform\", \"uniform\", \"uniform\", \"uniform\", \"unilev\", \"uniqu\", \"uniqu\", \"uniqu\", \"uniqu\", \"uniqu\", \"uniqu\", \"uniqu\", \"uniqu\", \"uniqu\", \"uniqu\", \"uniqu\", \"uniqu\", \"uniqu\", \"uniqu\", \"uniqu\", \"uniqu\", \"unisex\", \"unit\", \"unit\", \"unit\", \"unit\", \"unit\", \"unit\", \"unit\", \"unit\", \"unit\", \"unit\", \"unit\", \"unit\", \"unit\", \"unit\", \"unit\", \"unit\", \"unit\", \"unit\", \"unit\", \"unit\", \"unit\", \"unit\", \"unit\", \"unit\", \"unit\", \"unit\", \"uniti\", \"univers\", \"univers\", \"univers\", \"univers\", \"univers\", \"univers\", \"univers\", \"univers\", \"univers\", \"unleash\", \"unlimit\", \"unlimit\", \"unlimit\", \"unlimit\", \"unlimit\", \"unser\", \"upcycl\", \"upholsteri\", \"upvc\", \"urgent\", \"urgent\", \"urgent\", \"urin\", \"use\", \"use\", \"use\", \"use\", \"use\", \"use\", \"use\", \"use\", \"use\", \"use\", \"use\", \"use\", \"use\", \"use\", \"use\", \"use\", \"use\", \"use\", \"use\", \"use\", \"use\", \"use\", \"use\", \"use\", \"use\", \"use\", \"use\", \"use\", \"use\", \"use\", \"use\", \"use\", \"use\", \"use\", \"use\", \"user\", \"user\", \"user\", \"user\", \"user\", \"user\", \"usmor\", \"vacuum\", \"vacuum\", \"valuat\", \"valuat\", \"valuat\", \"valuat\", \"valuat\", \"valv\", \"valv\", \"van\", \"van\", \"van\", \"van\", \"van\", \"van\", \"van\", \"vantag\", \"vase\", \"vase\", \"vat\", \"vat\", \"vat\", \"vat\", \"vat\", \"vat\", \"vat\", \"vat\", \"vat\", \"vat\", \"vat\", \"vat\", \"vat\", \"vat\", \"vat\", \"vat\", \"vegan\", \"vegan\", \"vegan\", \"vegan\", \"vehicl\", \"vehicl\", \"vehicl\", \"vehicl\", \"vehicl\", \"vehicl\", \"vehicl\", \"vehicl\", \"vehicl\", \"veloc\", \"vend\", \"veneer\", \"venetian\", \"veniam\", \"ventil\", \"ventil\", \"ventil\", \"venturi\", \"ver\", \"victori\", \"video\", \"video\", \"video\", \"video\", \"video\", \"video\", \"video\", \"video\", \"video\", \"video\", \"video\", \"video\", \"video\", \"video\", \"video\", \"video\", \"video\", \"video\", \"view\", \"view\", \"view\", \"view\", \"view\", \"view\", \"view\", \"view\", \"view\", \"view\", \"view\", \"view\", \"view\", \"view\", \"view\", \"view\", \"view\", \"view\", \"view\", \"view\", \"view\", \"view\", \"view\", \"view\", \"view\", \"view\", \"view\", \"view\", \"viewed_cookie_polici\", \"vinci\", \"vintag\", \"vintag\", \"vinyl\", \"vinyl\", \"vinyl\", \"vinyl\", \"vinyl\", \"violenc\", \"virginia\", \"virtual\", \"virtual\", \"virtual\", \"virtual\", \"virtual\", \"virtual\", \"virtual\", \"virtual\", \"virtual\", \"vision\", \"vision\", \"vision\", \"vision\", \"vision\", \"vision\", \"vision\", \"vision\", \"vision\", \"visit\", \"visit\", \"visit\", \"visit\", \"visit\", \"visit\", \"visit\", \"visit\", \"visit\", \"visit\", \"visit\", \"visit\", \"visit\", \"visit\", \"visit\", \"visit\", \"visit\", \"visit\", \"visit\", \"visit\", \"visit\", \"visit\", \"visit\", \"visitor\", \"visitor\", \"visitor\", \"visitor\", \"visitor\", \"visitor\", \"visitor\", \"visitor\", \"visitor\", \"visual\", \"visual\", \"visual\", \"visual\", \"visual\", \"visual\", \"vitamin\", \"vizion\", \"vizionit\", \"voir\", \"volkswagen\", \"volkswagen\", \"voltag\", \"volunt\", \"volunt\", \"volunt\", \"volunt\", \"volupt\", \"volvo\", \"vou\", \"vulner\", \"vulner\", \"vuototecnica\", \"vwf\", \"waiver\", \"waiver\", \"wakefield\", \"walk\", \"walk\", \"walk\", \"walk\", \"walk\", \"walk\", \"wall\", \"wall\", \"wall\", \"wall\", \"wall\", \"wall\", \"wall\", \"wall\", \"wall\", \"wallet\", \"wallet\", \"wallet\", \"walli\", \"wallpap\", \"walnut\", \"walnut\", \"walnut\", \"walnut\", \"walnut\", \"wander\", \"warehous\", \"warehous\", \"warehous\", \"warehous\", \"warehous\", \"warehous\", \"warehous\", \"warehous\", \"warehous\", \"warehous\", \"washroom\", \"wast\", \"wast\", \"wast\", \"wast\", \"wast\", \"wast\", \"watch\", \"watch\", \"watch\", \"watch\", \"watch\", \"watch\", \"watch\", \"watch\", \"watch\", \"watch\", \"watch\", \"water\", \"water\", \"water\", \"water\", \"water\", \"water\", \"water\", \"water\", \"water\", \"water\", \"water\", \"water\", \"water\", \"water\", \"water\", \"wavendon\", \"wavendon\", \"wavendon\", \"wavendon\", \"wax\", \"way\", \"way\", \"way\", \"way\", \"way\", \"way\", \"way\", \"way\", \"way\", \"way\", \"way\", \"way\", \"way\", \"way\", \"way\", \"way\", \"way\", \"way\", \"way\", \"way\", \"way\", \"way\", \"way\", \"web\", \"web\", \"web\", \"web\", \"web\", \"web\", \"web\", \"web\", \"web\", \"web\", \"web\", \"web\", \"web\", \"web\", \"web\", \"web\", \"web\", \"webinar\", \"webinar\", \"wed\", \"wed\", \"wed\", \"wed\", \"wed\", \"wed\", \"wed\", \"wed\", \"wed\", \"wednesday\", \"wednesday\", \"wednesday\", \"wednesday\", \"wednesday\", \"wednesday\", \"wee\", \"weee\", \"week\", \"week\", \"week\", \"week\", \"week\", \"week\", \"week\", \"week\", \"week\", \"week\", \"week\", \"week\", \"week\", \"week\", \"week\", \"week\", \"week\", \"week\", \"week\", \"weighbridg\", \"welcom\", \"welcom\", \"welcom\", \"welcom\", \"welcom\", \"welcom\", \"welcom\", \"welcom\", \"welcom\", \"welcom\", \"welcom\", \"welcom\", \"welcom\", \"welcom\", \"welcom\", \"welcom\", \"welcom\", \"welcom\", \"welcom\", \"welcom\", \"welcom\", \"welcom\", \"welcom\", \"welcom\", \"welcom\", \"welcom\", \"weld\", \"weld\", \"weld\", \"weld\", \"weld\", \"welfar\", \"well\", \"well\", \"well\", \"well\", \"well\", \"well\", \"well\", \"well\", \"well\", \"well\", \"well\", \"well\", \"well\", \"well\", \"well\", \"well\", \"well\", \"well\", \"well\", \"well\", \"well\", \"well\", \"well\", \"well\", \"well\", \"well\", \"welovepianist\", \"wembley\", \"westburi\", \"wharfsid\", \"wharfsid\", \"whatsapp\", \"wheel\", \"wheel\", \"wheel\", \"wheel\", \"wheel\", \"wheel\", \"wheel\", \"wheelchair\", \"white\", \"white\", \"white\", \"white\", \"white\", \"white\", \"white\", \"white\", \"wick\", \"wicken\", \"wig\", \"william\", \"william\", \"william\", \"william\", \"william\", \"williamson\", \"willowbridg\", \"window\", \"window\", \"window\", \"window\", \"window\", \"window\", \"windsor\", \"wine\", \"wine\", \"wine\", \"wine\", \"wine\", \"winter\", \"winter\", \"winter\", \"winter\", \"wiper\", \"wireless\", \"wireless\", \"wireless\", \"wish\", \"wish\", \"wish\", \"wish\", \"wish\", \"wish\", \"wish\", \"wish\", \"wish\", \"wish\", \"wish\", \"wish\", \"wish\", \"witch\", \"witchford\", \"within\", \"within\", \"within\", \"within\", \"within\", \"within\", \"within\", \"within\", \"within\", \"within\", \"within\", \"within\", \"within\", \"within\", \"within\", \"within\", \"within\", \"within\", \"within\", \"within\", \"within\", \"wizdom\", \"wolverton\", \"wolverton\", \"wolverton\", \"wolverton\", \"wolverton\", \"wolverton\", \"wolverton\", \"wolverton\", \"wolverton\", \"wolverton\", \"wolverton\", \"women\", \"women\", \"women\", \"women\", \"women\", \"wooden\", \"wooden\", \"woodsid\", \"woodwind\", \"woolston\", \"workflow\", \"workforc\", \"workforc\", \"workout\", \"worksaf\", \"workshop\", \"workshop\", \"workshop\", \"workshop\", \"workshop\", \"workshop\", \"workshop\", \"workshop\", \"workshop\", \"workshop\", \"workspac\", \"workspac\", \"worktop\", \"workwear\", \"workwear\", \"worldwid\", \"worldwid\", \"worldwid\", \"worldwid\", \"worldwid\", \"worldwid\", \"worldwid\", \"worldwid\", \"worldwid\", \"wren\", \"wrong\", \"wrong\", \"wrong\", \"wycomb\", \"wycomb\", \"xen\", \"xero\", \"xpress\", \"xpress\", \"xscape\", \"yamaha\", \"yardley\", \"yardley\", \"yellow\", \"yellow\", \"yellow\", \"yellow\", \"yellow\", \"yellow\", \"yoga\", \"yoga\", \"yoga\", \"yoga\", \"yonex\", \"young\", \"young\", \"young\", \"young\", \"young\", \"young\", \"young\", \"youth\", \"youth\", \"youth\", \"youth\", \"youth\", \"yr\", \"yr\", \"yr\", \"yr\", \"zen\", \"zero\", \"zero\", \"zero\", \"zero\", \"zero\", \"zinpifi\", \"zombi\", \"zoohaus\", \"zoopla\"]}, \"R\": 30, \"lambda.step\": 0.01, \"plot.opts\": {\"xlab\": \"PC1\", \"ylab\": \"PC2\"}, \"topic.order\": [17, 9, 2, 16, 21, 22, 32, 28, 13, 18, 14, 31, 30, 19, 3, 11, 7, 27, 33, 20, 25, 23, 24, 35, 8, 1, 34, 36, 10, 26, 4, 15, 6, 29, 12, 5]};\n",
       "\n",
       "function LDAvis_load_lib(url, callback){\n",
       "  var s = document.createElement('script');\n",
       "  s.src = url;\n",
       "  s.async = true;\n",
       "  s.onreadystatechange = s.onload = callback;\n",
       "  s.onerror = function(){console.warn(\"failed to load library \" + url);};\n",
       "  document.getElementsByTagName(\"head\")[0].appendChild(s);\n",
       "}\n",
       "\n",
       "if(typeof(LDAvis) !== \"undefined\"){\n",
       "   // already loaded: just create the visualization\n",
       "   !function(LDAvis){\n",
       "       new LDAvis(\"#\" + \"ldavis_el296111406732528751687805926131\", ldavis_el296111406732528751687805926131_data);\n",
       "   }(LDAvis);\n",
       "}else if(typeof define === \"function\" && define.amd){\n",
       "   // require.js is available: use it to load d3/LDAvis\n",
       "   require.config({paths: {d3: \"https://cdnjs.cloudflare.com/ajax/libs/d3/3.5.5/d3.min\"}});\n",
       "   require([\"d3\"], function(d3){\n",
       "      window.d3 = d3;\n",
       "      LDAvis_load_lib(\"https://cdn.rawgit.com/bmabey/pyLDAvis/files/ldavis.v1.0.0.js\", function(){\n",
       "        new LDAvis(\"#\" + \"ldavis_el296111406732528751687805926131\", ldavis_el296111406732528751687805926131_data);\n",
       "      });\n",
       "    });\n",
       "}else{\n",
       "    // require.js not available: dynamically load d3 & LDAvis\n",
       "    LDAvis_load_lib(\"https://cdnjs.cloudflare.com/ajax/libs/d3/3.5.5/d3.min.js\", function(){\n",
       "         LDAvis_load_lib(\"https://cdn.rawgit.com/bmabey/pyLDAvis/files/ldavis.v1.0.0.js\", function(){\n",
       "                 new LDAvis(\"#\" + \"ldavis_el296111406732528751687805926131\", ldavis_el296111406732528751687805926131_data);\n",
       "            })\n",
       "         });\n",
       "}\n",
       "</script>"
      ],
      "text/plain": [
       "PreparedData(topic_coordinates=              x         y  topics  cluster      Freq\n",
       "topic                                               \n",
       "16    -0.139956 -0.035811       1        1  8.177601\n",
       "8     -0.143389 -0.111435       2        1  7.222477\n",
       "1     -0.157772  0.037209       3        1  6.163925\n",
       "15    -0.152554 -0.039988       4        1  5.892300\n",
       "20    -0.116616  0.039142       5        1  5.383632\n",
       "21    -0.048539  0.155995       6        1  4.947836\n",
       "31    -0.127326 -0.085136       7        1  4.786961\n",
       "27    -0.120269  0.044086       8        1  3.900007\n",
       "12    -0.055005  0.001175       9        1  3.733263\n",
       "17    -0.083592 -0.127953      10        1  3.706889\n",
       "13    -0.068033 -0.000267      11        1  3.180731\n",
       "30    -0.115745  0.000350      12        1  3.001169\n",
       "29    -0.091625  0.047859      13        1  2.997571\n",
       "18    -0.068827  0.073188      14        1  2.632632\n",
       "2     -0.123722 -0.082520      15        1  2.572830\n",
       "10    -0.027478  0.097056      16        1  2.541192\n",
       "6      0.152836 -0.098721      17        1  2.312880\n",
       "26     0.004865  0.136617      18        1  2.282706\n",
       "32     0.007687 -0.023564      19        1  2.232434\n",
       "19    -0.067245  0.098598      20        1  2.177838\n",
       "24    -0.077657 -0.107945      21        1  2.010715\n",
       "22     0.081283  0.198999      22        1  1.904287\n",
       "23    -0.036910 -0.008604      23        1  1.891363\n",
       "34    -0.009090 -0.177502      24        1  1.775398\n",
       "7      0.023801  0.043816      25        1  1.596778\n",
       "0     -0.057035  0.032411      26        1  1.542710\n",
       "33     0.069973 -0.045587      27        1  1.463467\n",
       "35     0.212877  0.169639      28        1  1.436098\n",
       "9      0.174951 -0.045328      29        1  1.259869\n",
       "25     0.159106  0.142098      30        1  1.171369\n",
       "3      0.034480  0.060527      31        1  0.863043\n",
       "14     0.196248 -0.050027      32        1  0.828298\n",
       "5      0.154240 -0.061362      33        1  0.687947\n",
       "28     0.205242 -0.153606      34        1  0.680682\n",
       "11     0.228024 -0.091106      35        1  0.647567\n",
       "4      0.182770 -0.032304      36        1  0.393534, topic_info=          Term         Freq        Total Category  logprob  loglift\n",
       "389      cooki  4100.000000  4100.000000  Default  30.0000  30.0000\n",
       "112   properti  2419.000000  2419.000000  Default  29.0000  29.0000\n",
       "1103     clean  1361.000000  1361.000000  Default  28.0000  28.0000\n",
       "343     system  2025.000000  2025.000000  Default  27.0000  27.0000\n",
       "1897      door   951.000000   951.000000  Default  26.0000  26.0000\n",
       "...        ...          ...          ...      ...      ...      ...\n",
       "1034     stock    28.638467   510.674328  Topic36  -4.6925   2.6568\n",
       "136       soon    24.395273   335.386774  Topic36  -4.8528   2.9169\n",
       "166       well    29.660209  1176.774584  Topic36  -4.6574   1.8570\n",
       "482       come    21.157722   824.945981  Topic36  -4.9952   1.8744\n",
       "687       unit    18.636209  1145.877928  Topic36  -5.1221   1.4189\n",
       "\n",
       "[2467 rows x 6 columns], token_table=       Topic      Freq     Term\n",
       "term                           \n",
       "6761       7  0.933384       ab\n",
       "14692     29  0.998020   abarth\n",
       "19558      5  0.952681    abort\n",
       "5634      15  0.988554    abras\n",
       "6153       1  0.043224   abroad\n",
       "...      ...       ...      ...\n",
       "2770      27  0.088361     zero\n",
       "10364     28  0.982564  zinpifi\n",
       "12404     31  0.848492    zombi\n",
       "27139     20  0.978075  zoohaus\n",
       "14346      3  0.926109   zoopla\n",
       "\n",
       "[10139 rows x 3 columns], R=30, lambda_step=0.01, plot_opts={'xlab': 'PC1', 'ylab': 'PC2'}, topic_order=[17, 9, 2, 16, 21, 22, 32, 28, 13, 18, 14, 31, 30, 19, 3, 11, 7, 27, 33, 20, 25, 23, 24, 35, 8, 1, 34, 36, 10, 26, 4, 15, 6, 29, 12, 5])"
      ]
     },
     "execution_count": 9,
     "metadata": {},
     "output_type": "execute_result"
    }
   ],
   "source": [
    "pyLDAvis.enable_notebook()\n",
    "vis = pyLDAvis.gensim.prepare(ldamodel, corpus, dictionary=ldamodel.id2word)\n",
    "vis"
   ]
  },
  {
   "cell_type": "code",
   "execution_count": 16,
   "metadata": {},
   "outputs": [
    {
     "name": "stderr",
     "output_type": "stream",
     "text": [
      "/opt/anaconda3/lib/python3.8/site-packages/ipykernel/ipkernel.py:287: DeprecationWarning: `should_run_async` will not call `transform_cell` automatically in the future. Please pass the result to `transformed_cell` argument and any exception that happen during thetransform in `preprocessing_exc_tuple` in IPython 7.17 and above.\n",
      "  and should_run_async(code)\n"
     ]
    },
    {
     "data": {
      "text/plain": [
       "['for, with, are, in, we, your, our, have, be, at',\n",
       " 'business, services, management, marketing, courses, cloud, digital, development, web, design',\n",
       " 'car, vehicle, repairs, servicing, cars, mercedes, repair, tyres, vehicles, benz',\n",
       " 'food, menu, chicken, sauce, ipsum, pizza, restaurant, amet, fried, roast',\n",
       " 'business, accounting, accountants, accountancy, services, accounts, businesses, bookkeeping, clients, company',\n",
       " 'recruitment, candidates, jobs, job, hr, candidate, manager, recruit, employee, vacancies',\n",
       " 'club, fitness, play, classes, training, open, mk, membership, class, sessions',\n",
       " 'property, rent, keynes, valuation, estate, landlords, agent, tenants, buckinghamshire, landlord',\n",
       " 'engineering, machining, inspection, sensors, machines, aluminium, manufacturing, automation, forklift, manufacture',\n",
       " 'shop, casino, lehenga, wedding, options, select, accessories, clothing, brands, mens',\n",
       " 'paving, homes, slabs, sandstone, plastering, building, limestone, granite, construction, decorating',\n",
       " 'hours, abortion, contact, time, call, agoreport, nowget, bpas, appointment, 01908',\n",
       " 'care, home, support, living, services, service, provide, respite, live, domiciliary',\n",
       " 'heating, plumbing, gas, boiler, boilers, repairs, servicing, emergency, plumber, ventilation',\n",
       " 'cleaning, clean, window, carpet, services, office, cleaners, service, cleaner, home',\n",
       " 'personal, vacuum, hotels, cookies, home, privacy, information, web, kitchen, furniture',\n",
       " 'courses, course, training, cpfi, presenter, counselling, skills, psychotherapy, therapy, ctec',\n",
       " 'de, et, la, des, und, facebook, en, les, publications, oubliees',\n",
       " 'doors, windows, door, pvc, window, aluminium, showroom, blinds, riser, design',\n",
       " 'law, solicitors, legal, mediation, clients, business, disputes, litigation, services, dispute',\n",
       " 'church, prayer, community, christian, nursery, worship, ministry, children, preschool, fellowship',\n",
       " 'fire, security, safety, alarms, alarm, guards, emergency, extinguishers, lighting, protection',\n",
       " 'website, hosting, web, chess, virtualization, site, cloud, domain, dns, servers',\n",
       " 'electrical, electrician, electricians, industrial, lighting, contractors, electrics, installations, maintenance, alarms',\n",
       " 'massage, pain, therapy, treatments, clinic, treatment, physiotherapy, care, pilates, acupuncture',\n",
       " 'logistics, freight, transport, courier, delivery, seko, parcel, shipping, express, cargo',\n",
       " 'incense, event, wish, art, 169, events, memorabilia, shop, price, select',\n",
       " 'skin, treatments, treatment, colour, facial, brow, facials, acne, peel, surgical',\n",
       " 'energy, etap, power, management, carbon, charging, adr, renewable, complaint, evbox',\n",
       " 'mortgage, mortgages, financial, insurance, regulated, debt, remortgage, finance, loans, authorised',\n",
       " 'hair, salon, headonist, treatments, tanning, hairdressing, waxing, hairdressers, appointment, nail',\n",
       " 'data, printing, print, controller, processing, printers, banners, website, information, pinterest',\n",
       " 'gifts, storage, delivery, christmas, boxes, mail, parcel, marquees, mailbox, birthdays',\n",
       " 'room, stables, rooms, manor, centre, guests, hotel, facilities, farmhouse, accommodation',\n",
       " 'taxi, airport, taxis, transfers, van, vehicles, cab, minibus, travel, cars',\n",
       " 'construction, asphalt, geotechnical, engineering, concrete, maintenance, geo, rhinophalt, contracts, groundworks',\n",
       " 'school, malvern, academy, children, learn, brighton, admissions, education, hazard, london',\n",
       " 'support, children, charity, donate, ymca, adoption, families, child, stories, shops',\n",
       " 'airlines, airways, travel, cart, umrah, holidays, snoring, departure, flights, seller',\n",
       " 'dog, dogs, breeding, pet, groomers, grooming, puppy, odour, pets, insemination',\n",
       " 'beer, brewery, ale, beers, brewer, keg, ales, brewing, ipa, brewed',\n",
       " 'roof, roofing, lanterns, lantern, roofs, rooflights, chimney, skylights, light, rooflight',\n",
       " 'script, java, enable, browser, frames, loading, grainger, binzy, magento, alfa']"
      ]
     },
     "execution_count": 16,
     "metadata": {},
     "output_type": "execute_result"
    }
   ],
   "source": [
    "bertopics = {\n",
    "    -1: [\n",
    "        (\"for\", 0.008265164321675149),\n",
    "        (\"with\", 0.008231263185320623),\n",
    "        (\"are\", 0.007993124020813754),\n",
    "        (\"in\", 0.00796930927988763),\n",
    "        (\"we\", 0.007932255808533718),\n",
    "        (\"your\", 0.00777072965758401),\n",
    "        (\"our\", 0.007518084423127548),\n",
    "        (\"have\", 0.006765938487297426),\n",
    "        (\"be\", 0.006494664651061733),\n",
    "        (\"at\", 0.006218298483060666),\n",
    "    ],\n",
    "    0: [\n",
    "        (\"business\", 0.017752723539710462),\n",
    "        (\"services\", 0.011923836806484693),\n",
    "        (\"management\", 0.011666561020395934),\n",
    "        (\"marketing\", 0.011399199130242236),\n",
    "        (\"courses\", 0.010949063776995418),\n",
    "        (\"cloud\", 0.009989458836740534),\n",
    "        (\"digital\", 0.009685804782037009),\n",
    "        (\"development\", 0.009443543245108084),\n",
    "        (\"web\", 0.007845240623876213),\n",
    "        (\"design\", 0.00770037283705406),\n",
    "    ],\n",
    "    1: [\n",
    "        (\"car\", 0.02905096028581764),\n",
    "        (\"vehicle\", 0.022406302177877674),\n",
    "        (\"repairs\", 0.015061123886955269),\n",
    "        (\"servicing\", 0.01441736565934265),\n",
    "        (\"cars\", 0.014370613356053564),\n",
    "        (\"mercedes\", 0.01237085132063048),\n",
    "        (\"repair\", 0.012011732266191935),\n",
    "        (\"tyres\", 0.01090466369098466),\n",
    "        (\"vehicles\", 0.010112850739652872),\n",
    "        (\"benz\", 0.009147481662828296),\n",
    "    ],\n",
    "    2: [\n",
    "        (\"food\", 0.021159454524227638),\n",
    "        (\"menu\", 0.017730667429885456),\n",
    "        (\"chicken\", 0.015151445293628978),\n",
    "        (\"sauce\", 0.014388061293090386),\n",
    "        (\"ipsum\", 0.011537194143072312),\n",
    "        (\"pizza\", 0.010574274268978986),\n",
    "        (\"restaurant\", 0.009149350409264682),\n",
    "        (\"amet\", 0.00846040160221736),\n",
    "        (\"fried\", 0.008450531275623115),\n",
    "        (\"roast\", 0.008119305475431096),\n",
    "    ],\n",
    "    3: [\n",
    "        (\"business\", 0.029545831194513508),\n",
    "        (\"accounting\", 0.022971132943806812),\n",
    "        (\"accountants\", 0.022436095400736596),\n",
    "        (\"accountancy\", 0.019686798155918565),\n",
    "        (\"services\", 0.01626939255492918),\n",
    "        (\"accounts\", 0.01230561884506264),\n",
    "        (\"businesses\", 0.011211016046050626),\n",
    "        (\"bookkeeping\", 0.01091936275372247),\n",
    "        (\"clients\", 0.010079599336814465),\n",
    "        (\"company\", 0.00938323247454696),\n",
    "    ],\n",
    "    4: [\n",
    "        (\"recruitment\", 0.038575328278427974),\n",
    "        (\"candidates\", 0.018784396671520678),\n",
    "        (\"jobs\", 0.018073671172207276),\n",
    "        (\"job\", 0.016779486566090192),\n",
    "        (\"hr\", 0.012972638654629927),\n",
    "        (\"candidate\", 0.012563007395200302),\n",
    "        (\"manager\", 0.010303239615886547),\n",
    "        (\"recruit\", 0.009511164081352153),\n",
    "        (\"employee\", 0.00891903771115337),\n",
    "        (\"vacancies\", 0.008060095378105587),\n",
    "    ],\n",
    "    5: [\n",
    "        (\"club\", 0.014904478089935816),\n",
    "        (\"fitness\", 0.01304187637351485),\n",
    "        (\"play\", 0.012367306256806853),\n",
    "        (\"classes\", 0.011364447408064334),\n",
    "        (\"training\", 0.009990725544477917),\n",
    "        (\"open\", 0.00980741824918325),\n",
    "        (\"mk\", 0.00905021320716155),\n",
    "        (\"membership\", 0.008761447248033797),\n",
    "        (\"class\", 0.008501709580121735),\n",
    "        (\"sessions\", 0.008187719796380801),\n",
    "    ],\n",
    "    6: [\n",
    "        (\"property\", 0.042128780369251086),\n",
    "        (\"rent\", 0.018119992997166507),\n",
    "        (\"keynes\", 0.016859209547142255),\n",
    "        (\"valuation\", 0.014798406453420728),\n",
    "        (\"estate\", 0.013468727575525178),\n",
    "        (\"landlords\", 0.009460343349867796),\n",
    "        (\"agent\", 0.008954650781515902),\n",
    "        (\"tenants\", 0.008866757020705347),\n",
    "        (\"buckinghamshire\", 0.008851477877349571),\n",
    "        (\"landlord\", 0.00821480243586678),\n",
    "    ],\n",
    "    7: [\n",
    "        (\"engineering\", 0.01642087615597742),\n",
    "        (\"machining\", 0.01233577349410127),\n",
    "        (\"inspection\", 0.012182663359267454),\n",
    "        (\"sensors\", 0.010624139783438605),\n",
    "        (\"machines\", 0.010250876465092673),\n",
    "        (\"aluminium\", 0.009800905982534032),\n",
    "        (\"manufacturing\", 0.009670107401294696),\n",
    "        (\"automation\", 0.009111772072031732),\n",
    "        (\"forklift\", 0.008724315994314153),\n",
    "        (\"manufacture\", 0.008409064379442839),\n",
    "    ],\n",
    "    8: [\n",
    "        (\"shop\", 0.024303020273587737),\n",
    "        (\"casino\", 0.018499870156486315),\n",
    "        (\"lehenga\", 0.015892563663842695),\n",
    "        (\"wedding\", 0.013269020176675526),\n",
    "        (\"options\", 0.012620027758860434),\n",
    "        (\"select\", 0.012569769384774625),\n",
    "        (\"accessories\", 0.012253039568975447),\n",
    "        (\"clothing\", 0.010604783032803475),\n",
    "        (\"brands\", 0.009173172338994715),\n",
    "        (\"mens\", 0.00881634437145051),\n",
    "    ],\n",
    "    9: [\n",
    "        (\"paving\", 0.0350352189636455),\n",
    "        (\"homes\", 0.01315061928699601),\n",
    "        (\"slabs\", 0.013090586024468045),\n",
    "        (\"sandstone\", 0.012411280929075171),\n",
    "        (\"plastering\", 0.01202158378541018),\n",
    "        (\"building\", 0.01198181309602571),\n",
    "        (\"limestone\", 0.01131616790592148),\n",
    "        (\"granite\", 0.01073222720300931),\n",
    "        (\"construction\", 0.010721306626089798),\n",
    "        (\"decorating\", 0.009285793003481398),\n",
    "    ],\n",
    "    10: [\n",
    "        (\"hours\", 0.019567051121228352),\n",
    "        (\"abortion\", 0.0189516896498),\n",
    "        (\"contact\", 0.016529886751308218),\n",
    "        (\"time\", 0.0158983179887058),\n",
    "        (\"call\", 0.01563622084478462),\n",
    "        (\"agoreport\", 0.01471995149212819),\n",
    "        (\"nowget\", 0.012053531317850658),\n",
    "        (\"bpas\", 0.010891994314565393),\n",
    "        (\"appointment\", 0.010530474138094211),\n",
    "        (\"01908\", 0.010441068621411967),\n",
    "    ],\n",
    "    11: [\n",
    "        (\"care\", 0.0848218266221271),\n",
    "        (\"home\", 0.022201568806337512),\n",
    "        (\"support\", 0.019543021822696925),\n",
    "        (\"living\", 0.018795199556597923),\n",
    "        (\"services\", 0.015031187563243112),\n",
    "        (\"service\", 0.011069082474480503),\n",
    "        (\"provide\", 0.009503931161254364),\n",
    "        (\"respite\", 0.009093570728189941),\n",
    "        (\"live\", 0.00848089277474008),\n",
    "        (\"domiciliary\", 0.008345682435490456),\n",
    "    ],\n",
    "    12: [\n",
    "        (\"heating\", 0.06923329718663297),\n",
    "        (\"plumbing\", 0.0621638831060798),\n",
    "        (\"gas\", 0.05331877698692185),\n",
    "        (\"boiler\", 0.05206089324597366),\n",
    "        (\"boilers\", 0.01568735074332285),\n",
    "        (\"repairs\", 0.013024180059626087),\n",
    "        (\"servicing\", 0.011893669610922149),\n",
    "        (\"emergency\", 0.010622562352328377),\n",
    "        (\"plumber\", 0.010506308823134074),\n",
    "        (\"ventilation\", 0.010279607904494031),\n",
    "    ],\n",
    "    13: [\n",
    "        (\"cleaning\", 0.10323987684394824),\n",
    "        (\"clean\", 0.029055732263025),\n",
    "        (\"window\", 0.014805031523450892),\n",
    "        (\"carpet\", 0.014476212330094084),\n",
    "        (\"services\", 0.013122097812024556),\n",
    "        (\"office\", 0.011263305418390122),\n",
    "        (\"cleaners\", 0.011223390654234899),\n",
    "        (\"service\", 0.010156827753375276),\n",
    "        (\"cleaner\", 0.009962747312885593),\n",
    "        (\"home\", 0.009335365807245356),\n",
    "    ],\n",
    "    14: [\n",
    "        (\"personal\", 0.02307317155187561),\n",
    "        (\"vacuum\", 0.019688659358249695),\n",
    "        (\"hotels\", 0.01834992213500955),\n",
    "        (\"cookies\", 0.012501156814693623),\n",
    "        (\"home\", 0.012067027882640545),\n",
    "        (\"privacy\", 0.010422868044391314),\n",
    "        (\"information\", 0.010392010176633099),\n",
    "        (\"web\", 0.008911738420827665),\n",
    "        (\"kitchen\", 0.008795687333939532),\n",
    "        (\"furniture\", 0.008644796187355181),\n",
    "    ],\n",
    "    15: [\n",
    "        (\"courses\", 0.03431287727500996),\n",
    "        (\"course\", 0.024963719030388944),\n",
    "        (\"training\", 0.02170795078283909),\n",
    "        (\"cpfi\", 0.01591245861600646),\n",
    "        (\"presenter\", 0.01507890667409569),\n",
    "        (\"counselling\", 0.01330085514012069),\n",
    "        (\"skills\", 0.012669965783777106),\n",
    "        (\"psychotherapy\", 0.011454837208970132),\n",
    "        (\"therapy\", 0.009546062063878275),\n",
    "        (\"ctec\", 0.009197859527832732),\n",
    "    ],\n",
    "    16: [\n",
    "        (\"de\", 0.1858508398007789),\n",
    "        (\"et\", 0.0496594273864133),\n",
    "        (\"la\", 0.03314338163216213),\n",
    "        (\"des\", 0.032617908981687496),\n",
    "        (\"und\", 0.03025448338354207),\n",
    "        (\"facebook\", 0.02962684953600769),\n",
    "        (\"en\", 0.024959575257838314),\n",
    "        (\"les\", 0.024909343225369456),\n",
    "        (\"publications\", 0.02102705577644125),\n",
    "        (\"oubliees\", 0.019486415773998036),\n",
    "    ],\n",
    "    17: [\n",
    "        (\"doors\", 0.06310186170616343),\n",
    "        (\"windows\", 0.04638388640038314),\n",
    "        (\"door\", 0.032496598837384),\n",
    "        (\"pvc\", 0.01815484722803936),\n",
    "        (\"window\", 0.016700040550595523),\n",
    "        (\"aluminium\", 0.012497582109835348),\n",
    "        (\"showroom\", 0.011857431041898955),\n",
    "        (\"blinds\", 0.010482228864044553),\n",
    "        (\"riser\", 0.010304756012306291),\n",
    "        (\"design\", 0.009103437714650274),\n",
    "    ],\n",
    "    18: [\n",
    "        (\"law\", 0.04807164694651549),\n",
    "        (\"solicitors\", 0.039647515822436676),\n",
    "        (\"legal\", 0.030383817073326592),\n",
    "        (\"mediation\", 0.01750902097722904),\n",
    "        (\"clients\", 0.014715724916190597),\n",
    "        (\"business\", 0.013134267891792414),\n",
    "        (\"disputes\", 0.011707735825864672),\n",
    "        (\"litigation\", 0.010961919803938031),\n",
    "        (\"services\", 0.010195506155546166),\n",
    "        (\"dispute\", 0.009452627217145706),\n",
    "    ],\n",
    "    19: [\n",
    "        (\"church\", 0.042879456404928615),\n",
    "        (\"prayer\", 0.02417694194659067),\n",
    "        (\"community\", 0.015137899073614802),\n",
    "        (\"christian\", 0.013619153263258677),\n",
    "        (\"nursery\", 0.013501922735046804),\n",
    "        (\"worship\", 0.013027473872075273),\n",
    "        (\"ministry\", 0.010926268408837326),\n",
    "        (\"children\", 0.010871186659817693),\n",
    "        (\"preschool\", 0.010686586531907643),\n",
    "        (\"fellowship\", 0.009972585415811617),\n",
    "    ],\n",
    "    20: [\n",
    "        (\"fire\", 0.0783082554173926),\n",
    "        (\"security\", 0.05683168047881238),\n",
    "        (\"safety\", 0.0324194923964538),\n",
    "        (\"alarms\", 0.020615702037470873),\n",
    "        (\"alarm\", 0.019259512428561183),\n",
    "        (\"guards\", 0.01479879652739567),\n",
    "        (\"emergency\", 0.013680826373789007),\n",
    "        (\"extinguishers\", 0.012132540684980271),\n",
    "        (\"lighting\", 0.00975683438841728),\n",
    "        (\"protection\", 0.008797997590947643),\n",
    "    ],\n",
    "    21: [\n",
    "        (\"website\", 0.055916306507423),\n",
    "        (\"hosting\", 0.04479414470902204),\n",
    "        (\"web\", 0.03756869219493389),\n",
    "        (\"chess\", 0.034893610607495046),\n",
    "        (\"virtualization\", 0.03266635234000461),\n",
    "        (\"site\", 0.030229963831876646),\n",
    "        (\"cloud\", 0.02728018078003669),\n",
    "        (\"domain\", 0.027113729419752153),\n",
    "        (\"dns\", 0.018603036270556247),\n",
    "        (\"servers\", 0.01853058476567347),\n",
    "    ],\n",
    "    22: [\n",
    "        (\"electrical\", 0.12507307866398512),\n",
    "        (\"electrician\", 0.053752617219357354),\n",
    "        (\"electricians\", 0.036962835165367934),\n",
    "        (\"industrial\", 0.017973581579547898),\n",
    "        (\"lighting\", 0.014873250278524848),\n",
    "        (\"contractors\", 0.014848071130619443),\n",
    "        (\"electrics\", 0.014280725991016688),\n",
    "        (\"installations\", 0.014052740938613247),\n",
    "        (\"maintenance\", 0.01327853765016459),\n",
    "        (\"alarms\", 0.012043921197448114),\n",
    "    ],\n",
    "    23: [\n",
    "        (\"massage\", 0.035592363789995335),\n",
    "        (\"pain\", 0.02681866793096341),\n",
    "        (\"therapy\", 0.02047112182177472),\n",
    "        (\"treatments\", 0.017581395006588948),\n",
    "        (\"clinic\", 0.017355324303655717),\n",
    "        (\"treatment\", 0.017293351309193947),\n",
    "        (\"physiotherapy\", 0.0160767019807487),\n",
    "        (\"care\", 0.014094143956428936),\n",
    "        (\"pilates\", 0.012991249016707505),\n",
    "        (\"acupuncture\", 0.011263624906891052),\n",
    "    ],\n",
    "    24: [\n",
    "        (\"logistics\", 0.05738994161024745),\n",
    "        (\"freight\", 0.03332898403084088),\n",
    "        (\"transport\", 0.029029301626167285),\n",
    "        (\"courier\", 0.027324965440176086),\n",
    "        (\"delivery\", 0.01834057881248778),\n",
    "        (\"seko\", 0.01617423815868375),\n",
    "        (\"parcel\", 0.01468563555789507),\n",
    "        (\"shipping\", 0.01413277671969003),\n",
    "        (\"express\", 0.012328052670289526),\n",
    "        (\"cargo\", 0.009534392371986089),\n",
    "    ],\n",
    "    25: [\n",
    "        (\"incense\", 0.039893249097380026),\n",
    "        (\"event\", 0.033489950443724374),\n",
    "        (\"wish\", 0.023344713025939833),\n",
    "        (\"art\", 0.02167802194127967),\n",
    "        (\"169\", 0.01795150684311819),\n",
    "        (\"events\", 0.017626263337709367),\n",
    "        (\"memorabilia\", 0.015923629203005614),\n",
    "        (\"shop\", 0.013530419922445828),\n",
    "        (\"price\", 0.013166100017208067),\n",
    "        (\"select\", 0.011473091431259078),\n",
    "    ],\n",
    "    26: [\n",
    "        (\"skin\", 0.0736038093226364),\n",
    "        (\"treatments\", 0.048209794098915904),\n",
    "        (\"treatment\", 0.03257508160984871),\n",
    "        (\"colour\", 0.020993210190352676),\n",
    "        (\"facial\", 0.01874806916123882),\n",
    "        (\"brow\", 0.015194604206453261),\n",
    "        (\"facials\", 0.014864074279808407),\n",
    "        (\"acne\", 0.012558646629704469),\n",
    "        (\"peel\", 0.011536828498944732),\n",
    "        (\"surgical\", 0.011087688314429614),\n",
    "    ],\n",
    "    27: [\n",
    "        (\"energy\", 0.06375969701368057),\n",
    "        (\"etap\", 0.027885036562317705),\n",
    "        (\"power\", 0.01855000034547572),\n",
    "        (\"management\", 0.016872418213434836),\n",
    "        (\"carbon\", 0.016753162402472436),\n",
    "        (\"charging\", 0.016147475679542198),\n",
    "        (\"adr\", 0.014535172615277795),\n",
    "        (\"renewable\", 0.009141606526213764),\n",
    "        (\"complaint\", 0.008944257010554737),\n",
    "        (\"evbox\", 0.008336976664636822),\n",
    "    ],\n",
    "    28: [\n",
    "        (\"mortgage\", 0.08787108901104308),\n",
    "        (\"mortgages\", 0.06274118858380094),\n",
    "        (\"financial\", 0.03960546304486719),\n",
    "        (\"insurance\", 0.015444400011322804),\n",
    "        (\"regulated\", 0.014506226870615464),\n",
    "        (\"debt\", 0.013974436368877513),\n",
    "        (\"remortgage\", 0.013234899512175343),\n",
    "        (\"finance\", 0.012632920744413223),\n",
    "        (\"loans\", 0.012024180234854137),\n",
    "        (\"authorised\", 0.012002432329248209),\n",
    "    ],\n",
    "    29: [\n",
    "        (\"hair\", 0.06987176003039307),\n",
    "        (\"salon\", 0.04396445811369011),\n",
    "        (\"headonist\", 0.022778864596169457),\n",
    "        (\"treatments\", 0.020258382945802622),\n",
    "        (\"tanning\", 0.01951673914945296),\n",
    "        (\"hairdressing\", 0.016592718455009193),\n",
    "        (\"waxing\", 0.01628743379705289),\n",
    "        (\"hairdressers\", 0.013866298686250878),\n",
    "        (\"appointment\", 0.011462697889687163),\n",
    "        (\"nail\", 0.010739346399312),\n",
    "    ],\n",
    "    30: [\n",
    "        (\"data\", 0.054033431102629446),\n",
    "        (\"printing\", 0.048056462525805234),\n",
    "        (\"print\", 0.03714257922366373),\n",
    "        (\"controller\", 0.024082800741447596),\n",
    "        (\"processing\", 0.019836421250739752),\n",
    "        (\"printers\", 0.013686301474422836),\n",
    "        (\"banners\", 0.011603661784831788),\n",
    "        (\"website\", 0.011089466618348967),\n",
    "        (\"information\", 0.010665682509773816),\n",
    "        (\"pinterest\", 0.008836509173253437),\n",
    "    ],\n",
    "    31: [\n",
    "        (\"gifts\", 0.04716345939543966),\n",
    "        (\"storage\", 0.024381976173723254),\n",
    "        (\"delivery\", 0.018430752939662995),\n",
    "        (\"christmas\", 0.01729669150865513),\n",
    "        (\"boxes\", 0.016229685091846916),\n",
    "        (\"mail\", 0.014624224798140344),\n",
    "        (\"parcel\", 0.011872531387459827),\n",
    "        (\"marquees\", 0.011755334029239261),\n",
    "        (\"mailbox\", 0.011159631543029604),\n",
    "        (\"birthdays\", 0.010318795936620802),\n",
    "    ],\n",
    "    32: [\n",
    "        (\"room\", 0.024844176681444664),\n",
    "        (\"stables\", 0.02030732380612028),\n",
    "        (\"rooms\", 0.01770388115767906),\n",
    "        (\"manor\", 0.01636688517447601),\n",
    "        (\"centre\", 0.015853493295633847),\n",
    "        (\"guests\", 0.01488296616208044),\n",
    "        (\"hotel\", 0.014841671979474143),\n",
    "        (\"facilities\", 0.01388982283582044),\n",
    "        (\"farmhouse\", 0.011628370725077662),\n",
    "        (\"accommodation\", 0.010017886627997592),\n",
    "    ],\n",
    "    33: [\n",
    "        (\"taxi\", 0.059974848219175904),\n",
    "        (\"airport\", 0.05404070353371633),\n",
    "        (\"taxis\", 0.03615297913173001),\n",
    "        (\"transfers\", 0.026989542384159237),\n",
    "        (\"van\", 0.025287537012744096),\n",
    "        (\"vehicles\", 0.015899652403411603),\n",
    "        (\"cab\", 0.013444679254340395),\n",
    "        (\"minibus\", 0.012908387774403654),\n",
    "        (\"travel\", 0.012899633838085777),\n",
    "        (\"cars\", 0.01287810420412975),\n",
    "    ],\n",
    "    34: [\n",
    "        (\"construction\", 0.04278189380693605),\n",
    "        (\"asphalt\", 0.026221677441832434),\n",
    "        (\"geotechnical\", 0.0227690057135629),\n",
    "        (\"engineering\", 0.018736682967454385),\n",
    "        (\"concrete\", 0.013799549303720264),\n",
    "        (\"maintenance\", 0.012196322485679242),\n",
    "        (\"geo\", 0.011855739199607656),\n",
    "        (\"rhinophalt\", 0.011630500737660828),\n",
    "        (\"contracts\", 0.010898910139141826),\n",
    "        (\"groundworks\", 0.010689516637359784),\n",
    "    ],\n",
    "    35: [\n",
    "        (\"school\", 0.07463273031560747),\n",
    "        (\"malvern\", 0.03901216587136035),\n",
    "        (\"academy\", 0.02483273207288295),\n",
    "        (\"children\", 0.016298101152754107),\n",
    "        (\"learn\", 0.014920593934286236),\n",
    "        (\"brighton\", 0.014016465747062737),\n",
    "        (\"admissions\", 0.01361776392296791),\n",
    "        (\"education\", 0.01345325829128608),\n",
    "        (\"hazard\", 0.013059339578908124),\n",
    "        (\"london\", 0.012350908556836793),\n",
    "    ],\n",
    "    36: [\n",
    "        (\"support\", 0.037951935011750086),\n",
    "        (\"children\", 0.02818513805546341),\n",
    "        (\"charity\", 0.024527921325733826),\n",
    "        (\"donate\", 0.0185598139115708),\n",
    "        (\"ymca\", 0.018136922645200046),\n",
    "        (\"adoption\", 0.01545730232599146),\n",
    "        (\"families\", 0.012775056456987706),\n",
    "        (\"child\", 0.012172643222529098),\n",
    "        (\"stories\", 0.011178174399864243),\n",
    "        (\"shops\", 0.01062969394840288),\n",
    "    ],\n",
    "    37: [\n",
    "        (\"airlines\", 0.06614193032955898),\n",
    "        (\"airways\", 0.03172482737553346),\n",
    "        (\"travel\", 0.021298455214843005),\n",
    "        (\"cart\", 0.0201217926138773),\n",
    "        (\"umrah\", 0.018892233361417602),\n",
    "        (\"holidays\", 0.01707181842364157),\n",
    "        (\"snoring\", 0.01662825406056967),\n",
    "        (\"departure\", 0.013030861980288681),\n",
    "        (\"flights\", 0.012325622188856427),\n",
    "        (\"seller\", 0.012020126116666283),\n",
    "    ],\n",
    "    38: [\n",
    "        (\"dog\", 0.10652763408009985),\n",
    "        (\"dogs\", 0.0736710223064156),\n",
    "        (\"breeding\", 0.02954480979113045),\n",
    "        (\"pet\", 0.022478206187882026),\n",
    "        (\"groomers\", 0.02000273766234916),\n",
    "        (\"grooming\", 0.01682046598681605),\n",
    "        (\"puppy\", 0.014119579526364112),\n",
    "        (\"odour\", 0.012366015421314125),\n",
    "        (\"pets\", 0.012268892772571592),\n",
    "        (\"insemination\", 0.011652410563937432),\n",
    "    ],\n",
    "    39: [\n",
    "        (\"beer\", 0.06756895450433012),\n",
    "        (\"brewery\", 0.030542918453201208),\n",
    "        (\"ale\", 0.029740285989473685),\n",
    "        (\"beers\", 0.017579750821537753),\n",
    "        (\"brewer\", 0.01710477590973195),\n",
    "        (\"keg\", 0.015851957280198014),\n",
    "        (\"ales\", 0.01385162948966265),\n",
    "        (\"brewing\", 0.013425396568522676),\n",
    "        (\"ipa\", 0.011666179333682034),\n",
    "        (\"brewed\", 0.011666179333682034),\n",
    "    ],\n",
    "    40: [\n",
    "        (\"roof\", 0.09881228814521657),\n",
    "        (\"roofing\", 0.09742028373093221),\n",
    "        (\"lanterns\", 0.043029365542108865),\n",
    "        (\"lantern\", 0.03605226245921931),\n",
    "        (\"roofs\", 0.03096947801642926),\n",
    "        (\"rooflights\", 0.021028036374296767),\n",
    "        (\"chimney\", 0.018872259514844173),\n",
    "        (\"skylights\", 0.015123100857233437),\n",
    "        (\"light\", 0.012639095143277095),\n",
    "        (\"rooflight\", 0.011562744173063345),\n",
    "    ],\n",
    "    41: [\n",
    "        (\"script\", 0.2784624369978815),\n",
    "        (\"java\", 0.27715516998405),\n",
    "        (\"enable\", 0.21374940315836263),\n",
    "        (\"browser\", 0.16770516612693664),\n",
    "        (\"frames\", 0.0757900287241054),\n",
    "        (\"loading\", 0.05551741271918407),\n",
    "        (\"grainger\", 0.05093217605916233),\n",
    "        (\"binzy\", 0.05093217605916233),\n",
    "        (\"magento\", 0.04413661546543737),\n",
    "        (\"alfa\", 0.03799562052183263),\n",
    "    ],\n",
    "}\n",
    "\n",
    "\n",
    "def return_topics(bert_output):\n",
    "    result = []\n",
    "    for k in bert_output.keys():\n",
    "        ch = \"\"\n",
    "        for elt in bert_output[k]:\n",
    "            ch = ch + elt[0] + \", \"\n",
    "        ch = ch[:-2]\n",
    "        result.append(ch)\n",
    "    return result\n",
    "\n",
    "\n",
    "return_topics(bertopics)"
   ]
  },
  {
   "cell_type": "code",
   "execution_count": 13,
   "metadata": {},
   "outputs": [
    {
     "name": "stderr",
     "output_type": "stream",
     "text": [
      "/opt/anaconda3/lib/python3.8/site-packages/ipykernel/ipkernel.py:287: DeprecationWarning: `should_run_async` will not call `transform_cell` automatically in the future. Please pass the result to `transformed_cell` argument and any exception that happen during thetransform in `preprocessing_exc_tuple` in IPython 7.17 and above.\n",
      "  and should_run_async(code)\n"
     ]
    },
    {
     "data": {
      "text/plain": [
       "'script, java, enable, browser, frames, loading, grainger, binzy, magento, alfa'"
      ]
     },
     "execution_count": 13,
     "metadata": {},
     "output_type": "execute_result"
    }
   ],
   "source": [
    "\"script, java, enable, browser, frames, loading, grainger, binzy, magento, alfa, \""
   ]
  },
  {
   "cell_type": "code",
   "execution_count": 22,
   "metadata": {},
   "outputs": [
    {
     "name": "stderr",
     "output_type": "stream",
     "text": [
      "/opt/anaconda3/lib/python3.8/site-packages/ipykernel/ipkernel.py:287: DeprecationWarning: `should_run_async` will not call `transform_cell` automatically in the future. Please pass the result to `transformed_cell` argument and any exception that happen during thetransform in `preprocessing_exc_tuple` in IPython 7.17 and above.\n",
      "  and should_run_async(code)\n"
     ]
    }
   ],
   "source": [
    "for i in html.index:\n",
    "    if \" la \" in html.loc[i, \"Content\"]:\n",
    "        print(i)"
   ]
  },
  {
   "cell_type": "code",
   "execution_count": 24,
   "metadata": {},
   "outputs": [
    {
     "name": "stderr",
     "output_type": "stream",
     "text": [
      "/opt/anaconda3/lib/python3.8/site-packages/ipykernel/ipkernel.py:287: DeprecationWarning: `should_run_async` will not call `transform_cell` automatically in the future. Please pass the result to `transformed_cell` argument and any exception that happen during thetransform in `preprocessing_exc_tuple` in IPython 7.17 and above.\n",
      "  and should_run_async(code)\n"
     ]
    },
    {
     "data": {
      "text/plain": [
       "0       Milton Keynes Taxi Service | Cab Hire | Airpor...\n",
       "1        Support, Services Consultancy Milton Keynes S...\n",
       "2       Milton Keynes Chartered Accountants | Jenner C...\n",
       "3        Call Roofing Milton Keynes - EXPERTS ROOFING ...\n",
       "4        Call Surveys Call Surveys Email: info@stcalls...\n",
       "                              ...                        \n",
       "2716    Zen Shots Studio Photography | Milton Keynes &...\n",
       "2717    Zeroshift – Advanced Transmission Technologies...\n",
       "2718    Zexfret. Congo Shipping Service Air and Sea. C...\n",
       "2719    Takeaway Menu for Takeaways and Restaurants - ...\n",
       "2720    Welcome Zoohause Java Script seems disabled yo...\n",
       "Name: Content, Length: 2248, dtype: object"
      ]
     },
     "execution_count": 24,
     "metadata": {},
     "output_type": "execute_result"
    }
   ],
   "source": [
    "html.Content"
   ]
  },
  {
   "cell_type": "code",
   "execution_count": null,
   "metadata": {},
   "outputs": [],
   "source": []
  }
 ],
 "metadata": {
  "kernelspec": {
   "display_name": "Python 3",
   "language": "python",
   "name": "python3"
  },
  "language_info": {
   "codemirror_mode": {
    "name": "ipython",
    "version": 3
   },
   "file_extension": ".py",
   "mimetype": "text/x-python",
   "name": "python",
   "nbconvert_exporter": "python",
   "pygments_lexer": "ipython3",
   "version": "3.8.5"
  }
 },
 "nbformat": 4,
 "nbformat_minor": 4
}
